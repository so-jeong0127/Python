{
 "cells": [
  {
   "cell_type": "markdown",
   "metadata": {},
   "source": [
    "# https://blog.naver.com/rising_n_falling/221325080333"
   ]
  },
  {
   "cell_type": "code",
   "execution_count": 2,
   "metadata": {},
   "outputs": [],
   "source": [
    "import numpy as np\n",
    "import pandas as pd\n",
    "from urllib.request import urlopen\n",
    "from urllib import parse\n",
    "from urllib.request import Request\n",
    "from urllib.error import HTTPError\n",
    "from bs4 import BeautifulSoup\n",
    "import json"
   ]
  },
  {
   "cell_type": "code",
   "execution_count": 3,
   "metadata": {},
   "outputs": [],
   "source": [
    "client_id = \"wty59eq5i2\"\n",
    "client_pw = \"kGUvQHirsidvpBTbZnYLjk0UdHDjiixtAlJpacNf\""
   ]
  },
  {
   "cell_type": "code",
   "execution_count": 4,
   "metadata": {
    "scrolled": true
   },
   "outputs": [
    {
     "name": "stdout",
     "output_type": "stream",
     "text": [
      "HTTP Error!\n",
      "HTTP Error!\n",
      "HTTP Error!\n"
     ]
    }
   ],
   "source": [
    "api_url = 'https://naveropenapi.apigw.ntruss.com/map-geocode/v2/geocode?query='\n",
    "\n",
    "data = pd.read_excel('cleanhouse.xlsx', usecols='A',names=['도로명주소'])\n",
    "    \n",
    "geo_coordi = []\n",
    "for add in data['도로명주소']:\n",
    "    add_urlenc = parse.quote(add)\n",
    "    url = api_url + add_urlenc\n",
    "    request = Request(url)\n",
    "    request.add_header('X-NCP-APIGW-API-KEY-ID',client_id)\n",
    "    request.add_header('X-NCP-APIGW-API-KEY',client_pw)\n",
    "    try:\n",
    "        response = urlopen(request)\n",
    "    except HTTPError as e:\n",
    "        print('HTTP Error!')\n",
    "        latitude = None\n",
    "        longitude = None\n",
    "    else:\n",
    "        rescode = response.getcode()\n",
    "        if rescode == 200:\n",
    "            response_body = response.read().decode('utf-8')\n",
    "            response_body = json.loads(response_body)\n",
    "            if 'addresses' in response_body:\n",
    "                latitude = response_body['addresses'][0]['y']\n",
    "                longitude = response_body['addresses'][0]['x']\n",
    "                print(\"Success!\")\n",
    "            else:\n",
    "                print(\"'result' not exist!\")\n",
    "                latitude = None\n",
    "                longitude  = None\n",
    "            print('Response error code : %d' %rescode)\n",
    "            latitude = None\n",
    "            longitude = None\n",
    "            \n",
    "    geo_coordi.append([latitude, longitude])"
   ]
  },
  {
   "cell_type": "markdown",
   "metadata": {},
   "source": [
    "# https://blog.naver.com/rising_n_falling/221596375078"
   ]
  },
  {
   "cell_type": "code",
   "execution_count": 22,
   "metadata": {},
   "outputs": [
    {
     "ename": "SyntaxError",
     "evalue": "invalid syntax (<ipython-input-22-21bfa5283ca5>, line 10)",
     "output_type": "error",
     "traceback": [
      "\u001b[1;36m  File \u001b[1;32m\"<ipython-input-22-21bfa5283ca5>\"\u001b[1;36m, line \u001b[1;32m10\u001b[0m\n\u001b[1;33m    except HTTPError as e:\u001b[0m\n\u001b[1;37m         ^\u001b[0m\n\u001b[1;31mSyntaxError\u001b[0m\u001b[1;31m:\u001b[0m invalid syntax\n"
     ]
    }
   ],
   "source": [
    "# 수정된 사이트"
   ]
  },
  {
   "cell_type": "code",
   "execution_count": 19,
   "metadata": {},
   "outputs": [],
   "source": [
    "np_geo_coordi = np.array(geo_coordi)\n",
    "pd_geo_coordi = pd.DataFrame({\"도로명\":data['도로명주소'].values,\n",
    "                             \"위도\": np_geo_coordi[:,0],\n",
    "                             \"경도\": np_geo_coordi[:,1]})"
   ]
  },
  {
   "cell_type": "code",
   "execution_count": 21,
   "metadata": {},
   "outputs": [],
   "source": [
    "writer = pd.ExcelWriter('ouput.xlsx')\n",
    "pd_geo_coordi.to_excel(writer, sheet_name='Sheet1')\n",
    "writer.save()"
   ]
  },
  {
   "cell_type": "code",
   "execution_count": null,
   "metadata": {},
   "outputs": [],
   "source": []
  },
  {
   "cell_type": "code",
   "execution_count": null,
   "metadata": {},
   "outputs": [],
   "source": []
  },
  {
   "cell_type": "code",
   "execution_count": null,
   "metadata": {},
   "outputs": [],
   "source": []
  }
 ],
 "metadata": {
  "kernelspec": {
   "display_name": "Python 3",
   "language": "python",
   "name": "python3"
  },
  "language_info": {
   "codemirror_mode": {
    "name": "ipython",
    "version": 3
   },
   "file_extension": ".py",
   "mimetype": "text/x-python",
   "name": "python",
   "nbconvert_exporter": "python",
   "pygments_lexer": "ipython3",
   "version": "3.7.4"
  }
 },
 "nbformat": 4,
 "nbformat_minor": 2
}
