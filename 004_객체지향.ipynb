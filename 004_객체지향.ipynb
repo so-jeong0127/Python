{
 "cells": [
  {
   "cell_type": "markdown",
   "metadata": {},
   "source": [
    "# 객체 지향 프로그래밍( class(꼴) => (instance:메모리 확보) Object(객체))\n",
    " - class: 멤버변수(속성) + 멤버함수( 공유되어짐 )\n",
    " - 인스턴스할 때 멤버변수(속성)를 저장하는 공간만 확보"
   ]
  },
  {
   "cell_type": "code",
   "execution_count": 2,
   "metadata": {},
   "outputs": [
    {
     "name": "stdout",
     "output_type": "stream",
     "text": [
      "삼각형의 넓이는  100.0\n"
     ]
    }
   ],
   "source": [
    "width =10\n",
    "height = 20\n",
    "area = 10*20/2\n",
    "print(\"삼각형의 넓이는 \",area)"
   ]
  },
  {
   "cell_type": "code",
   "execution_count": 3,
   "metadata": {},
   "outputs": [
    {
     "name": "stdout",
     "output_type": "stream",
     "text": [
      "10 20 100.0\n"
     ]
    }
   ],
   "source": [
    "class Triangle:\n",
    "    def setData(self, width, height): # 함수를 이용한 초기화\n",
    "        self.width = width\n",
    "        self.height = height\n",
    "    def area(self): # self: 매개변수 취급은 안함\n",
    "        return self.width*self.height/2\n",
    "tri1 = Triangle() # 인스턴스한다. () 함수처럼\n",
    "tri1.setData(10,20) # 실시간으로 변수공간 확보\n",
    "print(tri1.width, tri1.height, tri1.area())"
   ]
  },
  {
   "cell_type": "code",
   "execution_count": 7,
   "metadata": {},
   "outputs": [
    {
     "name": "stdout",
     "output_type": "stream",
     "text": [
      "10 20 100.0\n"
     ]
    }
   ],
   "source": [
    "# __init__ : Object에 있는 함수 ( 상속: 클래스를 생성하면 자동으로 상속 )\n",
    "class Triangle: # (Object)는 생략해도 된다\n",
    "    def __init__(self, width, height): # 초기화함수, 생성자, 강제로 호출불가한 함수\n",
    "        self.width  = width\n",
    "        self.height =  height\n",
    "    def area(self):\n",
    "        return self.width*self.height/2\n",
    "tri1 = Triangle(10,20)\n",
    "# tri1.__init__(10,20) 불가, 인스턴스할 때 자동으로 호출, 재정의한 함수다.\n",
    "print(tri1.width, tri1.height, tri1.area())"
   ]
  },
  {
   "cell_type": "code",
   "execution_count": 9,
   "metadata": {},
   "outputs": [
    {
     "data": {
      "text/plain": [
       "'클래스의 예'"
      ]
     },
     "execution_count": 9,
     "metadata": {},
     "output_type": "execute_result"
    }
   ],
   "source": [
    "# 클래스변수, 멤버변수, 지역변수\n",
    "class MyClass(object): # 선언하는 순간에 메모리에 자리를 잡음\n",
    "    \"\"\"클래스의 예\"\"\"\n",
    "    i = 12345 # 클래스 변수, 공용변수\n",
    "    def __init__(self):\n",
    "        self.i = 54321 # 멤버변수\n",
    "        num = 100 # 지역변수\n",
    "    def f(self):\n",
    "        return self.i\n",
    "MyClass.__doc__ # Object의 속성"
   ]
  },
  {
   "cell_type": "code",
   "execution_count": 10,
   "metadata": {},
   "outputs": [
    {
     "name": "stdout",
     "output_type": "stream",
     "text": [
      "12345\n"
     ]
    }
   ],
   "source": [
    "print(MyClass.i) # 인스턴스하지 않고도 호출가능"
   ]
  },
  {
   "cell_type": "code",
   "execution_count": 11,
   "metadata": {},
   "outputs": [
    {
     "name": "stdout",
     "output_type": "stream",
     "text": [
      "54321\n"
     ]
    },
    {
     "data": {
      "text/plain": [
       "54321"
      ]
     },
     "execution_count": 11,
     "metadata": {},
     "output_type": "execute_result"
    }
   ],
   "source": [
    "myclass = MyClass() # self.i 에 대한 메모리 확보\n",
    "print(myclass.i) # 멤버변수호출\n",
    "myclass.f()"
   ]
  },
  {
   "cell_type": "code",
   "execution_count": 12,
   "metadata": {},
   "outputs": [
    {
     "name": "stdout",
     "output_type": "stream",
     "text": [
      "12345\n",
      "54321\n"
     ]
    }
   ],
   "source": [
    "print(MyClass.i)\n",
    "print(MyClass().i) # 참조가 없기 때문에 사용과 동시에 메모리에서 사라짐"
   ]
  },
  {
   "cell_type": "code",
   "execution_count": 16,
   "metadata": {},
   "outputs": [
    {
     "name": "stdout",
     "output_type": "stream",
     "text": [
      "생성 Mon Dec 30 11:05:03 2019\n",
      "Sleeping for 3 sec\n",
      "사망 Mon Dec 30 11:05:06 2019\n"
     ]
    }
   ],
   "source": [
    "from time import time, ctime, sleep # 시간은 초로 관리 ctime ( 문자열로 convert )\n",
    "class Life:\n",
    "    def __init__(self): # 생성자\n",
    "        self.birth=ctime() # 현재의 시간을 문자열로 변환\n",
    "        print('생성', self.birth)\n",
    "    def __del__(self): # 소멸자 ( 메모리에서 사라질 때 자동으로 호출 )\n",
    "        print ('사망', ctime())\n",
    "    def test(self):\n",
    "        # mylife = Life()\n",
    "        print ('Sleeping for 3 sec')\n",
    "        sleep(3) # 초\n",
    "li=Life() # 오른쪽은 Heap에 저장, 왼쪽은 그 주소를 가리키는 stack에 생성\n",
    "li.test() \n",
    "del li # 자동으로 값이 컬렉션됨"
   ]
  },
  {
   "cell_type": "code",
   "execution_count": 24,
   "metadata": {},
   "outputs": [],
   "source": [
    "# 사원관리\n",
    "class Employee:\n",
    "    empCount = 0 # 사원수를 저장: 클래스 변수 생성\n",
    "    def __init__(self, name, salary):\n",
    "        self.name = name\n",
    "        self.salary = salary\n",
    "        Employee.empCount += 1\n",
    "    def displayCount(self):\n",
    "        print(\"직원 수 = %d\" % Employee.empCount)\n",
    "    def displayEmployee(self):\n",
    "        print(\"이름: \", self.name, \", 급여: \", self.salary)\n",
    "    def __call__(self, *pargs, **kargs):\n",
    "        print('Called: ', pargs, kargs)"
   ]
  },
  {
   "cell_type": "code",
   "execution_count": 25,
   "metadata": {},
   "outputs": [
    {
     "name": "stdout",
     "output_type": "stream",
     "text": [
      "직원 수 = 1\n",
      "직원 수 = 2\n",
      "직원 수 = 2\n",
      "이름:  김종호 , 급여:  500\n",
      "None\n",
      "이름:  빅데타 , 급여:  500\n",
      "None\n"
     ]
    }
   ],
   "source": [
    "emp = Employee(\"김종호\", 500)\n",
    "emp.displayCount() # 1\n",
    "emp1 = Employee(\"빅데타\",500)\n",
    "emp1.displayCount() # 2\n",
    "emp.displayCount() # 2 # 공유변수이기 때문\n",
    "print(emp.displayEmployee()) # 데이터를 담고 있는 위치가 다르기 때문\n",
    "print(emp1.displayEmployee()) "
   ]
  },
  {
   "cell_type": "code",
   "execution_count": 33,
   "metadata": {},
   "outputs": [
    {
     "name": "stdout",
     "output_type": "stream",
     "text": [
      "Called:  ('빅데타', 500, 100) {'c': 100}\n",
      "None\n"
     ]
    }
   ],
   "source": [
    "print(emp(\"빅데타\",500,100,c=100)) # 클레스를 함수처럼 사용하고 싶을 때 __call__을 오버라이딩"
   ]
  },
  {
   "cell_type": "code",
   "execution_count": 26,
   "metadata": {},
   "outputs": [],
   "source": [
    "# 실시간으로 변수를 추가 가능\n",
    "emp1.age = 7\n",
    "emp.age = 8"
   ]
  },
  {
   "cell_type": "code",
   "execution_count": 27,
   "metadata": {},
   "outputs": [
    {
     "name": "stdout",
     "output_type": "stream",
     "text": [
      "7\n"
     ]
    }
   ],
   "source": [
    "print(emp1.age)"
   ]
  },
  {
   "cell_type": "code",
   "execution_count": 28,
   "metadata": {},
   "outputs": [
    {
     "name": "stdout",
     "output_type": "stream",
     "text": [
      "{'name': '김종호', 'salary': 500, 'age': 8}\n"
     ]
    }
   ],
   "source": [
    "print(emp.__dict__) # object를 상속"
   ]
  },
  {
   "cell_type": "code",
   "execution_count": 29,
   "metadata": {},
   "outputs": [
    {
     "name": "stdout",
     "output_type": "stream",
     "text": [
      "2\n"
     ]
    }
   ],
   "source": [
    "print(Employee.empCount)"
   ]
  },
  {
   "cell_type": "code",
   "execution_count": 30,
   "metadata": {},
   "outputs": [
    {
     "name": "stdout",
     "output_type": "stream",
     "text": [
      "['__call__', '__class__', '__delattr__', '__dict__', '__dir__', '__doc__', '__eq__', '__format__', '__ge__', '__getattribute__', '__gt__', '__hash__', '__init__', '__init_subclass__', '__le__', '__lt__', '__module__', '__ne__', '__new__', '__reduce__', '__reduce_ex__', '__repr__', '__setattr__', '__sizeof__', '__str__', '__subclasshook__', '__weakref__', 'age', 'displayCount', 'displayEmployee', 'empCount', 'name', 'salary']\n"
     ]
    }
   ],
   "source": [
    "print(dir(emp))"
   ]
  },
  {
   "cell_type": "markdown",
   "metadata": {},
   "source": [
    "# 문제\n",
    "- 이름과 나이를 저장하는 Student class를 생성하시오.\n",
    "- 이름과 나이를 출력하는 print 함수를 클래스 내에 정의하시오."
   ]
  },
  {
   "cell_type": "code",
   "execution_count": 34,
   "metadata": {},
   "outputs": [],
   "source": [
    "class Student: # 사용자 정의 데이터 타입\n",
    "    \"\"\"학생관리\"\"\"\n",
    "    def __init__(self, name, age):\n",
    "        self.full_name = name\n",
    "        self.age = age\n",
    "    def print(self):\n",
    "        print(\"이름: \", self.full_name, \", 나이: \", self.age)\n",
    "    def __repr__(self): #__str__로 사용해도 됨\n",
    "        return \"나의 이름은 \" + self.full_name"
   ]
  },
  {
   "cell_type": "code",
   "execution_count": 35,
   "metadata": {},
   "outputs": [
    {
     "name": "stdout",
     "output_type": "stream",
     "text": [
      "이름:  이소정 , 나이:  24\n"
     ]
    }
   ],
   "source": [
    "f = Student(\"이소정\",24)\n",
    "f.print()"
   ]
  },
  {
   "cell_type": "code",
   "execution_count": 36,
   "metadata": {},
   "outputs": [
    {
     "name": "stdout",
     "output_type": "stream",
     "text": [
      "나의 이름은 이소정\n"
     ]
    }
   ],
   "source": [
    "class Student: # 사용자 정의 데이터 타입\n",
    "    \"\"\"학생관리\"\"\"\n",
    "    def __init__(self, name, age):\n",
    "        self.full_name = name\n",
    "        self.age = age\n",
    "    def __repr__(self): # 오버라이딩 해 놓은 경우\n",
    "        return \"나의 이름은 \" + self.full_name\n",
    "print(f)"
   ]
  },
  {
   "cell_type": "code",
   "execution_count": 37,
   "metadata": {},
   "outputs": [
    {
     "name": "stdout",
     "output_type": "stream",
     "text": [
      "<class '__main__.Student'>\n"
     ]
    }
   ],
   "source": [
    "# object로 부터 상속\n",
    "print(f.__class__) # 어떤 클래스에서 인스턴스 되었는지를 확인"
   ]
  },
  {
   "cell_type": "code",
   "execution_count": 38,
   "metadata": {},
   "outputs": [
    {
     "name": "stdout",
     "output_type": "stream",
     "text": [
      "나의 이름은 김대현\n"
     ]
    }
   ],
   "source": [
    "# Student(\"김대현\",25) 와 같은 의미\n",
    "g = f.__class__(\"김대현\",25) # 인스턴스된 변수로 부터 클래스 생성\n",
    "print(g)"
   ]
  },
  {
   "cell_type": "code",
   "execution_count": 128,
   "metadata": {},
   "outputs": [],
   "source": [
    "import math\n",
    "# 1개를 다루는 클래스를 작성하고 있지만 거리값은 두개를 이용\n",
    "class Point:\n",
    "    def __init__(self, x, y): # 생성자\n",
    "        self.x = x\n",
    "        self.y = y\n",
    "    def __str__(self): # __repr__:  문자열을 요구하는 함수에 들어가면 \n",
    "        return \"좌표는 (%d %d)\" %(self.x, self.y)\n",
    "    def dist(self, other):\n",
    "        distance = math.sqrt((self.x-other.x)**2+(self.y-other.y)**2)\n",
    "        return distance\n",
    "    def collision(self, other):\n",
    "        return self.dist(other) < 3"
   ]
  },
  {
   "cell_type": "code",
   "execution_count": 129,
   "metadata": {},
   "outputs": [
    {
     "name": "stdout",
     "output_type": "stream",
     "text": [
      "좌표는 (7 3)\n",
      "좌표는 (4 7)\n"
     ]
    }
   ],
   "source": [
    "first = Point(7,3)\n",
    "second = Point(4,7)\n",
    "print(first)\n",
    "print(second)"
   ]
  },
  {
   "cell_type": "code",
   "execution_count": 65,
   "metadata": {},
   "outputs": [
    {
     "name": "stdout",
     "output_type": "stream",
     "text": [
      "두점 사이의 거리는 =  5.0\n",
      "충돌하지 않았습니다.\n"
     ]
    }
   ],
   "source": [
    "print(\"두점 사이의 거리는 = \", first.dist(second))\n",
    "if first.collision(second):\n",
    "    print(\"충돌했습니다.\")\n",
    "else:\n",
    "    print(\"충돌하지 않았습니다.\")"
   ]
  },
  {
   "cell_type": "markdown",
   "metadata": {},
   "source": [
    "# 문제 : Point 클래스를 이용하여 Circle 클래스를 정의하시오.\n",
    "- 원 : 중심점(Point)하고 반지름\n",
    "- 원과 원이 충돌아는 여부를 확인하는 함수를 작성하시오."
   ]
  },
  {
   "cell_type": "code",
   "execution_count": 114,
   "metadata": {},
   "outputs": [],
   "source": [
    "# center = Point()\n",
    "class circle:\n",
    "    def __init__(self,center,radius):\n",
    "        self.center = center\n",
    "        self.radius = radius\n",
    "    def __repr__(self): # 문자열 캐스팅\n",
    "        return \"원의 중심은 \" + str(self.center) + \"반지름은 \" + str(self.radius)\n",
    "    def collision(self, other):\n",
    "        if self.center.dist(other.center) < self.radius + other.radius:\n",
    "            result = \"충돌한다.\"\n",
    "        else: \n",
    "            return \"충돌하지 않는다.\"\n",
    "        return result"
   ]
  },
  {
   "cell_type": "code",
   "execution_count": 115,
   "metadata": {},
   "outputs": [
    {
     "name": "stdout",
     "output_type": "stream",
     "text": [
      "원의 중심은 좌표는 (7 3)반지름은 1\n",
      "원의 중심은 좌표는 (4 7)반지름은 5\n"
     ]
    }
   ],
   "source": [
    "cir = circle(first, 1)\n",
    "cir2 = circle(second, 5)\n",
    "print(cir)\n",
    "print(cir2)"
   ]
  },
  {
   "cell_type": "code",
   "execution_count": 116,
   "metadata": {},
   "outputs": [
    {
     "name": "stdout",
     "output_type": "stream",
     "text": [
      "충돌한다.\n"
     ]
    },
    {
     "data": {
      "text/plain": [
       "'충돌한다.'"
      ]
     },
     "execution_count": 116,
     "metadata": {},
     "output_type": "execute_result"
    }
   ],
   "source": [
    "print(cir.collision(cir2))\n",
    "circle.collision(cir, cir2) # self"
   ]
  },
  {
   "cell_type": "markdown",
   "metadata": {},
   "source": [
    "# R 절대값 abs : absolute\n",
    "# Point를 이용해서 사각형 Rectangle 클래스를 작성하시오.\n",
    "- 사각형의 면적을 구하는 함수를 작성하시오.\n",
    "- 사각형의 둘레를 구하는 함수를 작성하시오.\n",
    "- 대각선의 길이를 구하는 함수를 작성하시오."
   ]
  },
  {
   "cell_type": "code",
   "execution_count": 134,
   "metadata": {},
   "outputs": [],
   "source": [
    "class rectangle:\n",
    "    def __init__(self,po1,po2): # po1 = Point() 매핑\n",
    "        self.po1 = po1\n",
    "        self.po2 = po2\n",
    "    def area(self):\n",
    "        result = abs((self.po1.x -self.po2.x)*(self.po1.y-self.po2.y))\n",
    "        return result\n",
    "    def perimeter(self):\n",
    "        result = abs((self.po1.x -self.po2.x))*2 + abs((self.po1.y -self.po2.y))*2\n",
    "        return result\n",
    "    def diagonal_dist(self):\n",
    "        result = math.sqrt((self.po1.x -self.po2.x)**2+(self.po1.y-self.po2.y)**2)\n",
    "        return result"
   ]
  },
  {
   "cell_type": "code",
   "execution_count": 135,
   "metadata": {},
   "outputs": [
    {
     "name": "stdout",
     "output_type": "stream",
     "text": [
      "12\n",
      "14\n",
      "5.0\n"
     ]
    }
   ],
   "source": [
    "rect = rectangle\n",
    "a = rectangle(first, second)\n",
    "print(rect.area(a))\n",
    "print(rect.perimeter(a))\n",
    "print(rect.diagonal_dist(a))"
   ]
  },
  {
   "cell_type": "markdown",
   "metadata": {},
   "source": [
    "# 문제 : Vector class를 작성하시오.\n",
    "- x,y의 2차원 벡터 구현\n",
    "- 벡터의 연산 (+,-,*,/): 요소별로 계산하면 됨\n",
    "- dot함수를 구현하시오: 벡터의 요소별로 곱하고 모두 더해주면 내적 유사도\n",
    "- cos값으로 변환하는 함수를 구현하시오.\n",
    "    cos theta = acos( A내적B/|A||B| )\n",
    "    |A| = math.sqrt(x^2 + y^2)"
   ]
  },
  {
   "cell_type": "code",
   "execution_count": 137,
   "metadata": {},
   "outputs": [],
   "source": [
    "# a=10; b=20; c=a+b\n",
    "class Vector:\n",
    "    def __init__(self, x,y):\n",
    "        self.x = x\n",
    "        self.y = y\n",
    "    def __repr__(self): \n",
    "        return \"(좌표는 %d %d)\" % (self.x, self.y)\n",
    "    def __add__(self,other): # 연산자 오버로딩을 오버라이딩으로 구현한 것\n",
    "        return Vector(self.x+other.x, self.y+other.y)\n",
    "    def __mul__(self,other):\n",
    "        return Vector(self.x*other.x, self.y*other.y)\n",
    "    def __sub__(self,other):\n",
    "        return Vector(self.x-other.x, self.y-other.y)\n",
    "    def __truediv__(self,other): # div 2 점 버전대에서 사용\n",
    "        return Vector(self.x/other.x, self.y/other.y)"
   ]
  },
  {
   "cell_type": "code",
   "execution_count": 138,
   "metadata": {},
   "outputs": [
    {
     "name": "stdout",
     "output_type": "stream",
     "text": [
      "(좌표는 10 23)\n",
      "(좌표는 20 46)\n",
      "(좌표는 30 50)\n",
      "(좌표는 200 621)\n",
      "(좌표는 0 0)\n",
      "(좌표는 -10 -4)\n"
     ]
    }
   ],
   "source": [
    "f = Vector(10,23)\n",
    "g = Vector(20,27)\n",
    "print(f)\n",
    "print(f+f)\n",
    "print(f+g)\n",
    "print(f*g)\n",
    "print(f/g)\n",
    "print(f-g)"
   ]
  },
  {
   "cell_type": "markdown",
   "metadata": {},
   "source": [
    "# 3 차원 벡터를 클래스로 구현하시오(연산자 오버로딩 +,-,*,/)"
   ]
  },
  {
   "cell_type": "code",
   "execution_count": 141,
   "metadata": {},
   "outputs": [],
   "source": [
    "class Vector:\n",
    "    def __init__(self, x,y,z):\n",
    "        self.x = x\n",
    "        self.y = y\n",
    "        self.z = z\n",
    "    def __repr__(self): \n",
    "        return \"(좌표는 %d %d %d)\" % (self.x, self.y, self.z)\n",
    "    def __add__(self,other): # 연산자 오버로딩을 오버라이딩으로 구현한 것\n",
    "        return Vector(self.x+other.x, self.y+other.y, self.z+other.z)\n",
    "    def __mul__(self,other):\n",
    "        return Vector(self.x*other.x, self.y*other.y, self.z*other.z)\n",
    "    def __sub__(self,other):\n",
    "        return Vector(self.x-other.x, self.y-other.y, self.z-other.z)\n",
    "    def __truediv__(self,other):\n",
    "        return Vector(self.x/other.x, self.y/other.y, self.z/other.z)\n",
    "    def dist(self):\n",
    "        return math.sqrt(self.x*self.x+self.y*self.y+self.z*self.z)\n",
    "    # 방향만 바꿔야지 크기까지 바뀌면 안됨\n",
    "    def norm(self): # 정규화(normalization) 크기 값이 1인 사이즈로 변경 ( 반지름이 1인 사이즈)\n",
    "        dist = self.dist()\n",
    "        return self.x/dist, self.y/dist, self.z/dist\n",
    "    def dot(self,other): # 내적\n",
    "        return (self.x*other.x + self.y*other.y + self.z*other.z)\n",
    "    def theta(self, other):\n",
    "        dot = self.dot(other)\n",
    "        dist1 = self.dist()\n",
    "        dist2 = other.dist() \n",
    "        # radian( 호의 길이 ) => degree로 (컴퓨터는 라디안만 사용)\n",
    "        return math.acos(dot/(dist1*dist2))*(180/math.pi) # 라디안=>디그리로 변경\n",
    "# 변환과정이 필요 => 사람이 사용하는 각도 입력(90) => 라디안 변환(math.pi/180)\n",
    "# => 계산후 => 사람이 사용하는 degree로 변환해서 출력(180/math.pi)"
   ]
  },
  {
   "cell_type": "code",
   "execution_count": 142,
   "metadata": {},
   "outputs": [
    {
     "name": "stdout",
     "output_type": "stream",
     "text": [
      "(좌표는 10 0 0)\n",
      "(좌표는 20 0 0)\n",
      "(좌표는 10 -27 0)\n",
      "(좌표는 0 0 0)\n",
      "f벡터의 크기 =  10.0\n",
      "g벡터의 크기 =  27.0\n",
      "f의 normal vector =  (1.0, 0.0, 0.0)\n",
      "g의 normal vector =  (0.0, 1.0, 0.0)\n",
      "두 벡터의 내적 =  0\n",
      "f와 g의 사이각은 = 90.0\n"
     ]
    }
   ],
   "source": [
    "f = Vector(10,0,0)\n",
    "g = Vector(0,27,0)\n",
    "\n",
    "print(f)\n",
    "print(f+f)\n",
    "print(f-g)\n",
    "print(f*g)\n",
    "print(\"f벡터의 크기 = \", f.dist())\n",
    "print(\"g벡터의 크기 = \", g.dist())\n",
    "print(\"f의 normal vector = \", f.norm()) # 1.0 0.0 0.0\n",
    "print(\"g의 normal vector = \", g.norm()) # 0.0 1.0 0.0\n",
    "print(\"두 벡터의 내적 = \", g.dot(f))   # 0 : 내적이 0이면 두 벡터는 90도 직교한다.\n",
    "print(\"f와 g의 사이각은 =\",f.theta(g)) # 90"
   ]
  },
  {
   "cell_type": "code",
   "execution_count": 143,
   "metadata": {},
   "outputs": [
    {
     "name": "stdout",
     "output_type": "stream",
     "text": [
      "a= [1, 2, 3]\n",
      "[[1, 2, 3], [4, 5, [1, 2, 3]], 100]\n",
      "[[1, 2, 3], [4, 5, [1, 2, 3]], 100]\n",
      "[[1, 2, 3], [4, 5, [1, 2, 3]], 100]\n",
      "[[1, 2, 3], [4, 5, [1, 2, 3]], 100]\n",
      "[[1, 2, 3, 100], [4, 5, [1, 2, 3, 100]], 100]\n",
      "[[1, 2, 3, 100], [4, 5, [1, 2, 3, 100]], 100]\n",
      "[[1, 2, 3], [4, 5, [1, 2, 3]], 100]\n",
      "[[1, 2, 3], [4, 5, [1, 2, 3]], 100]\n"
     ]
    }
   ],
   "source": [
    "import copy\n",
    "a=[1,2,3]\n",
    "b=[4,5,a] # 주소\n",
    "x=[a,b,100]\n",
    "y=copy.copy(x) # 주소복사\n",
    "t=copy.deepcopy(x) # 원래의 요소를 별도의 공간에 복사한 다음 주소전달\n",
    "# x와 t의 주소는 같지 않다.\n",
    "e=copy.deepcopy(y)\n",
    "print(\"a=\",a)\n",
    "print(x)\n",
    "print(y)\n",
    "print(t)\n",
    "print(e)\n",
    "a.append(100)\n",
    "print(x)\n",
    "print(y)\n",
    "print(t)\n",
    "print(e)"
   ]
  },
  {
   "cell_type": "markdown",
   "metadata": {},
   "source": [
    "# 이름, 국어 수학 영어를 관리하는 Student class를 작성하시오( 1인분 관리 )\n",
    "- 총점과 평균도 계산해서 멤버 변수에 저장"
   ]
  },
  {
   "cell_type": "code",
   "execution_count": 30,
   "metadata": {},
   "outputs": [],
   "source": [
    "class Student:\n",
    "    studCount = 0 # 학생수 저장\n",
    "    def __init__(self,name,kor,math,eng):\n",
    "        self.name = name\n",
    "        self.kor = int(kor)\n",
    "        self.math = int(math)\n",
    "        self.eng = int(eng)\n",
    "        self.tot = self.kor + self.math + self.eng\n",
    "        self.avg = self.tot/3\n",
    "        Student.studCount += 1"
   ]
  },
  {
   "cell_type": "code",
   "execution_count": 32,
   "metadata": {},
   "outputs": [
    {
     "name": "stdout",
     "output_type": "stream",
     "text": [
      "1.입력 2.출력 3.계산 4.종료1\n",
      "이름: r\n",
      "국어점수: 90\n",
      "수학점수: 90\n",
      "영어점수: 90\n",
      "1.입력 2.출력 3.계산 4.종료3\n",
      " 총 학생수 : 1명 \n",
      "국어평균: 90.0\t\t수학평균: 90.0\t\t영어평균: 90.0\t\t\n",
      "1.입력 2.출력 3.계산 4.종료4\n"
     ]
    }
   ],
   "source": [
    "# 메뉴화\n",
    "def start():\n",
    "    students = []\n",
    "    while True:\n",
    "        choice = input( \"1.입력 2.출력 3.계산 4.종료\")\n",
    "        if choice == '1':\n",
    "            name = input(\"이름: \")\n",
    "            kor = int(input(\"국어점수: \"))\n",
    "            math = int(input(\"수학점수: \"))\n",
    "            eng = int(input(\"영어점수: \"))\n",
    "            stud = Student(name, kor, math, eng)\n",
    "            students.append(stud)\n",
    "        elif choice == '2':\n",
    "            for s in students:\n",
    "                print(\"이름:%s  국어:%s  영어:%s  수학:%s  총점:%s  평균:%s\" %(s.name, s.kor, s.eng, s.math, s.tot, s.avg))\n",
    "        elif choice == '3':\n",
    "            kor_tot = 0; math_tot=0; eng_tot = 0\n",
    "            for s in students:\n",
    "                kor_tot+=s.kor\n",
    "                math_tot+=s.math\n",
    "                eng_tot+=s.eng\n",
    "            kor_avg = round(kor_tot/len(students),2)\n",
    "            math_avg = round(math_tot/len(students),2)\n",
    "            eng_avg = round(eng_tot/len(students),2)\n",
    "            print(\" 총 학생수 : %s명 \" % len(students))\n",
    "            print(\"국어평균: %s\\t\\t수학평균: %s\\t\\t영어평균: %s\\t\\t\" % (kor_avg,math_avg,eng_avg))\n",
    "        elif choice == '4':\n",
    "            break\n",
    "start()"
   ]
  },
  {
   "cell_type": "markdown",
   "metadata": {},
   "source": [
    "# 3번 국어, 영어, 수학의 반평균을 출력하시오."
   ]
  },
  {
   "cell_type": "markdown",
   "metadata": {},
   "source": [
    "# 2개로 분리된 class\n",
    "- 기본적인 데이터를 저장하는 클래스\n",
    "- Management(입력, 출력, 검색, 수정등)\n",
    "- 메뉴함수"
   ]
  },
  {
   "cell_type": "code",
   "execution_count": 1,
   "metadata": {},
   "outputs": [],
   "source": [
    "# 1인분에 대한 데이터 처리\n",
    "import sys\n",
    "class Student:\n",
    "    def __init__(self):\n",
    "        self.bunho=0\n",
    "        self.name=''\n",
    "        self.kor=0\n",
    "        self.mat=0\n",
    "        self.eng=0\n",
    "        self.tot=0\n",
    "        self.avg=0\n",
    "        self.grade=\"\"\n",
    "    def inputData(self):\n",
    "        self.name =input(\"이름을 입력하세요.\")\n",
    "        self.kor=eval(input(\"국어점수:\"))\n",
    "        self.mat=eval(input(\"수학점수:\"))\n",
    "        self.eng=eval(input(\"영어점수:\"))\n",
    "    def calc_total_average(self): # 수정도 염두에 두어서 별도의 함수화\n",
    "        self.tot = self.kor + self.mat + self.eng\n",
    "        self.avg = round(self.tot/3,2)\n",
    "        self.grade = self.calcSemGrade()\n",
    "    def calcSemGrade(self):\n",
    "        if self.avg>=90: return \"A\"\n",
    "        elif self.avg>=80: return \"B\"\n",
    "        elif self.avg>=70: return \"C\"\n",
    "        elif self.avg>=60: return \"D\"\n",
    "        else: return \"F\"\n",
    "    def __str__(self):\n",
    "        return '%5s %5s %6.2f %6.2f %7.2f %7.2f %7.2f %5s' % (self.bunho, self.name, self.kor, self.mat, self.eng, self.tot, self.avg, self.grade)\n",
    "    def __cmp__(self,other): # compare, true/false로 결과 리턴\n",
    "        return self.name == other.name"
   ]
  },
  {
   "cell_type": "code",
   "execution_count": 2,
   "metadata": {},
   "outputs": [],
   "source": [
    "class Management:\n",
    "    schoolname = \"제주 아카데미\"\n",
    "    bunho = 0\n",
    "    def __init__(self,count):\n",
    "        print(\"메뉴를 선택하시오.\")\n",
    "        self.sungjuk=[]\n",
    "        self.count=count\n",
    "    def input(self):\n",
    "        for co_in in range(self.count):\n",
    "            stu = Student()\n",
    "            stu.inputData()\n",
    "            Management.bunho += 1 # 번호를 자동으로 입력하기 위해\n",
    "            stu.bunho = Management.bunho\n",
    "            self.sungjuk.append(stu)\n",
    "    def print_sungjuk(self):\n",
    "        for per in self.sungjuk:\n",
    "            print(per)\n",
    "            print()\n",
    "            \n",
    "    def calc_sungjuk(self) :\n",
    "        for per in self.sungjuk :\n",
    "            per.calc_total_average()\n",
    "            \n",
    "    def search_name(self):\n",
    "        name = input(\"검색할 학생 이름을 추가하시오\")\n",
    "        for per in self.sungjuk:\n",
    "            if(per.name == name):\n",
    "                print(per)\n",
    "                return\n",
    "        print(\"검색하고자 하는 학생이 없습니다.\")\n",
    "        return\n",
    "        \n",
    "    def revice_name(self):\n",
    "        name = input(\"수정할 학생 이름을 입력해주시오.\")\n",
    "        for per in self.sungjuk:\n",
    "            if(per.name == name):\n",
    "                per.name = input(\"수정할 이름을 입력하시오.\")\n",
    "                return\n",
    "        return\n",
    "\n",
    "    def remove_name(self):\n",
    "        name = input(\"삭제할 학생 이름을 입력해주시오.\")\n",
    "        for per in self.sungjuk:\n",
    "            if(per.name == name):\n",
    "                self.sungjuk.remove(per)"
   ]
  },
  {
   "cell_type": "code",
   "execution_count": null,
   "metadata": {},
   "outputs": [
    {
     "name": "stdout",
     "output_type": "stream",
     "text": [
      "메뉴를 선택하시오.\n",
      "['입력(1), 출력(2), 계산(3), 검색(4), 이름수정(5), 이름삭제(6), 정렬(7), 종료(8)']1\n",
      "이름을 입력하세요.소정\n",
      "국어점수:80\n",
      "수학점수:70\n",
      "영어점수:60\n",
      "이름을 입력하세요.이윤지\n",
      "국어점수:70\n",
      "수학점수:70\n",
      "영어점수:70\n",
      "['입력(1), 출력(2), 계산(3), 검색(4), 이름수정(5), 이름삭제(6), 정렬(7), 종료(8)']6\n",
      "삭제할 학생 이름을 입력해주시오.이윤지\n",
      "['입력(1), 출력(2), 계산(3), 검색(4), 이름수정(5), 이름삭제(6), 정렬(7), 종료(8)']2\n",
      "제주 아카데미  성적 계산표\n",
      "  번 호   이 름    국 어    수 학    영 어     총 점     평 균     학 점\n",
      "    1    소정  80.00  70.00   60.00    0.00    0.00      \n",
      "\n"
     ]
    }
   ],
   "source": [
    "sj=[\"번호\",\"이름\",\"국어\",\"수학\",\"영어\",\"총점\",\"평균\",\"학점\"]    \n",
    "\n",
    "menu=[\"입력(1), 출력(2), 계산(3), 검색(4), 이름수정(5), 이름삭제(6), 정렬(7), 종료(8)\"]\n",
    "man_sung = Management(2)\n",
    "\n",
    "while 1:\n",
    "    sel = input(menu)\n",
    "    if sel == \"1\":\n",
    "        man_sung.input()\n",
    "        continue\n",
    "    elif sel == \"2\":\n",
    "        print(Management.schoolname + \"  성적 계산표\")\n",
    "        print('%5s %5s %6s %6s %6s %7s %7s %7s' % ('번 호','이 름','국 어','수 학','영 어','총 점','평 균','학 점'))\n",
    "        man_sung.print_sungjuk()\n",
    "        continue\n",
    "    elif sel == \"3\":\n",
    "        man_sung.calc_sungjuk()\n",
    "        print(\"계산이 완료 되었습니다. - 확인하려면 출력해 보세요\")\n",
    "        continue\n",
    "    elif sel == \"4\":\n",
    "        man_sung.search_name()\n",
    "        continue\n",
    "    elif sel == \"5\":\n",
    "        man_sung.revice_name()\n",
    "        continue\n",
    "    elif sel == \"6\":\n",
    "        man_sung.remove_name()\n",
    "        continue\n",
    "    elif sel == \"8\" :\n",
    "        break\n",
    "    else:\n",
    "        print(\"잘못된 입력입니다. 다시입력 하시오.\")\n",
    "        continue"
   ]
  }
 ],
 "metadata": {
  "kernelspec": {
   "display_name": "Python 3",
   "language": "python",
   "name": "python3"
  },
  "language_info": {
   "codemirror_mode": {
    "name": "ipython",
    "version": 3
   },
   "file_extension": ".py",
   "mimetype": "text/x-python",
   "name": "python",
   "nbconvert_exporter": "python",
   "pygments_lexer": "ipython3",
   "version": "3.7.4"
  }
 },
 "nbformat": 4,
 "nbformat_minor": 2
}
