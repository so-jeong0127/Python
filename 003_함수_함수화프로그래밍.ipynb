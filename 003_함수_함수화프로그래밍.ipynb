{
 "cells": [
  {
   "cell_type": "code",
   "execution_count": null,
   "metadata": {},
   "outputs": [],
   "source": [
    "# 함수(function)\n",
    "- 함수이름은 중복이 되면 안됨 (오버로딩은 default 매개변수로 해결)\n",
    "- Required auguments(매개변수를 순서적으로 입력)\n",
    "- keyword auguments(키이 매개변수의 순서 변경이 가능)\n",
    "- Default auguments(오버로딩 해결)\n",
    "- Variable-length auguments(변동매개변수 : * -> list, ** ->dict)"
   ]
  },
  {
   "cell_type": "code",
   "execution_count": 1,
   "metadata": {},
   "outputs": [
    {
     "name": "stdout",
     "output_type": "stream",
     "text": [
      "30\n",
      "70\n",
      "30\n",
      "70\n"
     ]
    }
   ],
   "source": [
    "a=10\n",
    "b=20\n",
    "result=a+b\n",
    "print(result)\n",
    "\n",
    "c=30\n",
    "d=40\n",
    "result=c+d\n",
    "print(result)\n",
    "\n",
    "# 사용자 정의 함수\n",
    "def addvalue(a,b): # 주소값만 전달 call by reference\n",
    "    return a+b\n",
    "print(addvalue(10,20)) # 호출시 데이터는 힙에 저장 => 주소값만 전달\n",
    "print(addvalue(30,40))"
   ]
  },
  {
   "cell_type": "code",
   "execution_count": null,
   "metadata": {},
   "outputs": [],
   "source": [
    "# 회귀분석\n",
    "- y= ax+b # a: 기울기 계수, b: bias 절편"
   ]
  },
  {
   "cell_type": "code",
   "execution_count": 3,
   "metadata": {},
   "outputs": [
    {
     "name": "stdout",
     "output_type": "stream",
     "text": [
      "1030\n",
      "1030\n"
     ]
    }
   ],
   "source": [
    "def reg(a,b,x):\n",
    "    return a*x+b\n",
    "print(reg(10,30,100))\n",
    "\n",
    "def reg(x):\n",
    "    a=10\n",
    "    b=30\n",
    "    return a*x+b\n",
    "print(reg(100))\n",
    "# reg(10,30,100) # ERROR"
   ]
  },
  {
   "cell_type": "code",
   "execution_count": 6,
   "metadata": {},
   "outputs": [
    {
     "name": "stdout",
     "output_type": "stream",
     "text": [
      "10보다 크다\n"
     ]
    }
   ],
   "source": [
    "# 두수를 더한 값이 10보다 큰지 확인하시오.\n",
    "a=10\n",
    "b=20\n",
    "result = a+b\n",
    "if result >=10:\n",
    "    result=\"10보다 크다\"\n",
    "else:\n",
    "    result=\"10보다 작다\"\n",
    "print(result)"
   ]
  },
  {
   "cell_type": "code",
   "execution_count": 7,
   "metadata": {},
   "outputs": [
    {
     "data": {
      "text/plain": [
       "'10보다 크다'"
      ]
     },
     "execution_count": 7,
     "metadata": {},
     "output_type": "execute_result"
    }
   ],
   "source": [
    "def sum_1(a,b):\n",
    "    result= a+b\n",
    "    if result >= 10:\n",
    "        result=\"10보다 크다\"\n",
    "    else:\n",
    "        result=\"10보다 작다\"\n",
    "    return result\n",
    "sum_1(10,20)"
   ]
  },
  {
   "cell_type": "code",
   "execution_count": 8,
   "metadata": {},
   "outputs": [
    {
     "name": "stdout",
     "output_type": "stream",
     "text": [
      "(20, 10)\n"
     ]
    }
   ],
   "source": [
    "#a=10\n",
    "#b=20\n",
    "def change(a=10,b=20):\n",
    "    x,y = b,a\n",
    "    return x,y\n",
    "print(change())    "
   ]
  },
  {
   "cell_type": "code",
   "execution_count": 9,
   "metadata": {},
   "outputs": [
    {
     "name": "stdout",
     "output_type": "stream",
     "text": [
      "20 10\n",
      "(10, 20)\n"
     ]
    },
    {
     "data": {
      "text/plain": [
       "tuple"
      ]
     },
     "execution_count": 9,
     "metadata": {},
     "output_type": "execute_result"
    }
   ],
   "source": [
    "# 선생님 풀이\n",
    "a=10\n",
    "b=20\n",
    "def swap(x,y): # 함수는 여러개의 값을 리턴할 수 있음\n",
    "    return y,x\n",
    "a,b=swap(a,b)\n",
    "x=swap(a,b) # 함수가 리턴하는 값은 튜플\n",
    "print(a,b)\n",
    "print(x)\n",
    "type(x)"
   ]
  },
  {
   "cell_type": "code",
   "execution_count": 10,
   "metadata": {},
   "outputs": [
    {
     "name": "stdout",
     "output_type": "stream",
     "text": [
      "결과:  30\n",
      "결과:  -10\n",
      "결과:  200\n"
     ]
    }
   ],
   "source": [
    "# 두 수를 입력받아 +,-,* 하는 함수 3개를 작성하시오\n",
    "# add, subtract, multiply\n",
    "def add(x,y):\n",
    "    return x+y\n",
    "def sub(x,y):\n",
    "    return x-y\n",
    "def mul(x,y):\n",
    "    return x*y\n",
    "# 함수는 일급함수: 함수가 매개변수로 전달가능, 리턴값으로 가능\n",
    "def changefun(g,a,b):\n",
    "    return g(a,b)\n",
    "print('결과: ',changefun(add,10,20)) # sort(key함수 전달)\n",
    "print('결과: ',changefun(sub,10,20))\n",
    "print('결과: ',changefun(mul,10,20))"
   ]
  },
  {
   "cell_type": "code",
   "execution_count": 23,
   "metadata": {},
   "outputs": [
    {
     "name": "stdout",
     "output_type": "stream",
     "text": [
      "함수 내부에서 출력:  [10, 20, 30, [1, 2, 3, 4]]\n",
      "함수 외부에서 출력:  [10, 20, 30, [1, 2, 3, 4]]\n"
     ]
    }
   ],
   "source": [
    "# 문장종료 ; -> 없어도 되지만 하나의 줄에 여러 명령문이 있으면 반드시 써야함\n",
    "def changeme( mylist ): # mylist = mylist주소\n",
    "    mylist.append([1,2,3,4])\n",
    "#    mylist=[1,2,3,4] # 대입이 벌어지면 call by value\n",
    "    print(\"함수 내부에서 출력: \",mylist)\n",
    "    return\n",
    "mylist = [10,20,30] # heap에 저장, 이유: 주소값이 넘어갔기 때문 call by reference\n",
    "changeme( mylist )\n",
    "print(\"함수 외부에서 출력: \",mylist)"
   ]
  },
  {
   "cell_type": "code",
   "execution_count": 22,
   "metadata": {},
   "outputs": [
    {
     "ename": "AttributeError",
     "evalue": "'set' object has no attribute 'append'",
     "output_type": "error",
     "traceback": [
      "\u001b[1;31m---------------------------------------------------------------------------\u001b[0m",
      "\u001b[1;31mAttributeError\u001b[0m                            Traceback (most recent call last)",
      "\u001b[1;32m<ipython-input-22-51121edd94c3>\u001b[0m in \u001b[0;36m<module>\u001b[1;34m\u001b[0m\n\u001b[0;32m      1\u001b[0m \u001b[0mmylist\u001b[0m \u001b[1;33m=\u001b[0m \u001b[1;33m{\u001b[0m\u001b[1;36m10\u001b[0m\u001b[1;33m,\u001b[0m\u001b[1;36m20\u001b[0m\u001b[1;33m,\u001b[0m\u001b[1;36m30\u001b[0m\u001b[1;33m}\u001b[0m\u001b[1;33m\u001b[0m\u001b[1;33m\u001b[0m\u001b[0m\n\u001b[1;32m----> 2\u001b[1;33m \u001b[0mchangeme\u001b[0m\u001b[1;33m(\u001b[0m\u001b[0mmylist\u001b[0m\u001b[1;33m)\u001b[0m\u001b[1;33m\u001b[0m\u001b[1;33m\u001b[0m\u001b[0m\n\u001b[0m\u001b[0;32m      3\u001b[0m \u001b[0mprint\u001b[0m\u001b[1;33m(\u001b[0m\u001b[1;34m\"함수 외부에서 출력: \"\u001b[0m\u001b[1;33m,\u001b[0m\u001b[0mmylist\u001b[0m\u001b[1;33m)\u001b[0m\u001b[1;33m\u001b[0m\u001b[1;33m\u001b[0m\u001b[0m\n",
      "\u001b[1;32m<ipython-input-21-d654ae6c05ca>\u001b[0m in \u001b[0;36mchangeme\u001b[1;34m(mylist)\u001b[0m\n\u001b[0;32m      1\u001b[0m \u001b[1;32mdef\u001b[0m \u001b[0mchangeme\u001b[0m\u001b[1;33m(\u001b[0m \u001b[0mmylist\u001b[0m \u001b[1;33m)\u001b[0m\u001b[1;33m:\u001b[0m \u001b[1;31m# mylist = mylist주소\u001b[0m\u001b[1;33m\u001b[0m\u001b[1;33m\u001b[0m\u001b[0m\n\u001b[1;32m----> 2\u001b[1;33m     \u001b[0mmylist\u001b[0m\u001b[1;33m.\u001b[0m\u001b[0mappend\u001b[0m\u001b[1;33m(\u001b[0m\u001b[1;33m[\u001b[0m\u001b[1;36m1\u001b[0m\u001b[1;33m,\u001b[0m\u001b[1;36m2\u001b[0m\u001b[1;33m,\u001b[0m\u001b[1;36m3\u001b[0m\u001b[1;33m,\u001b[0m\u001b[1;36m4\u001b[0m\u001b[1;33m]\u001b[0m\u001b[1;33m)\u001b[0m\u001b[1;33m;\u001b[0m\u001b[1;33m\u001b[0m\u001b[1;33m\u001b[0m\u001b[0m\n\u001b[0m\u001b[0;32m      3\u001b[0m \u001b[1;31m#    mylist=[1,2,3,4] # 대입이 벌어지면 call by value\u001b[0m\u001b[1;33m\u001b[0m\u001b[1;33m\u001b[0m\u001b[1;33m\u001b[0m\u001b[0m\n\u001b[0;32m      4\u001b[0m     \u001b[0mprint\u001b[0m\u001b[1;33m(\u001b[0m\u001b[1;34m\"함수 내부에서 출력: \"\u001b[0m\u001b[1;33m,\u001b[0m\u001b[0mmylist\u001b[0m\u001b[1;33m)\u001b[0m\u001b[1;33m\u001b[0m\u001b[1;33m\u001b[0m\u001b[0m\n\u001b[0;32m      5\u001b[0m     \u001b[1;32mreturn\u001b[0m\u001b[1;33m\u001b[0m\u001b[1;33m\u001b[0m\u001b[0m\n",
      "\u001b[1;31mAttributeError\u001b[0m: 'set' object has no attribute 'append'"
     ]
    }
   ],
   "source": [
    "# 실행이 안되는 이유 : 데이터타입을 구분해야 하는 것은 프로그래머의 책임\n",
    "mylist = {10,20,30}\n",
    "changeme(mylist)\n",
    "print(\"함수 외부에서 출력: \",mylist)"
   ]
  },
  {
   "cell_type": "code",
   "execution_count": 26,
   "metadata": {},
   "outputs": [
    {
     "name": "stdout",
     "output_type": "stream",
     "text": [
      "시작\n",
      "1,2,3,\n",
      "1,2,3,4,5,\n"
     ]
    }
   ],
   "source": [
    "# 변동 매개변수 :\n",
    "def func1(*args):\n",
    "    for i in args:\n",
    "        print(i, end=',')\n",
    "    print()\n",
    "print('시작')\n",
    "func1(1,2,3)\n",
    "func1(1,2,3,4,5)"
   ]
  },
  {
   "cell_type": "code",
   "execution_count": 31,
   "metadata": {},
   "outputs": [
    {
     "name": "stdout",
     "output_type": "stream",
     "text": [
      "args is  (1, 2)\n",
      "kwargs is  {'z': 5.0}\n",
      "Hello Now I'm going to call <function g at 0x000001FDF5421168>\n",
      "1\n",
      "2\n",
      "5.0\n"
     ]
    },
    {
     "data": {
      "text/plain": [
       "0.6"
      ]
     },
     "execution_count": 31,
     "metadata": {},
     "output_type": "execute_result"
    }
   ],
   "source": [
    "def say_hello_then_call(f, *args, **kwargs):\n",
    "    print('args is ',args)\n",
    "    print('kwargs is ',kwargs)\n",
    "    print(\"Hello Now I'm going to call %s\" %f) # 함수 위치한 주소\n",
    "    return f(*args,**kwargs)\n",
    "def g(x,y,z=1): # default 매개변수\n",
    "    print(x)\n",
    "    print(y)\n",
    "    print(z)\n",
    "    return(x+y)/z\n",
    "say_hello_then_call(g, 1,2, z=5.)"
   ]
  },
  {
   "cell_type": "code",
   "execution_count": 32,
   "metadata": {},
   "outputs": [
    {
     "name": "stdout",
     "output_type": "stream",
     "text": [
      "1 0\n",
      "1 2\n",
      "1 2\n"
     ]
    }
   ],
   "source": [
    "def func_test2(a,b=0):\n",
    "    print(a,b)\n",
    "func_test2(1) # a=1,b=0\n",
    "func_test2(1,2) # a=1,b=2\n",
    "func_test2(b=2,a=1) # 키이 매개변수"
   ]
  },
  {
   "cell_type": "code",
   "execution_count": 33,
   "metadata": {},
   "outputs": [],
   "source": [
    "def func_test4(): # None(객체)을 출력\n",
    "    pass # 몽통을 미지정"
   ]
  },
  {
   "cell_type": "code",
   "execution_count": 37,
   "metadata": {},
   "outputs": [
    {
     "data": {
      "text/plain": [
       "True"
      ]
     },
     "execution_count": 37,
     "metadata": {},
     "output_type": "execute_result"
    }
   ],
   "source": [
    "# 같다: ==(숫자나 문자), is (객체를 비교할 때)\n",
    "result = func_test4()\n",
    "result == None"
   ]
  },
  {
   "cell_type": "code",
   "execution_count": 39,
   "metadata": {},
   "outputs": [
    {
     "data": {
      "text/plain": [
       "NoneType"
      ]
     },
     "execution_count": 39,
     "metadata": {},
     "output_type": "execute_result"
    }
   ],
   "source": [
    "result.__class__ # 멤버변수, 시스템에서 생성한 변수"
   ]
  },
  {
   "cell_type": "code",
   "execution_count": 40,
   "metadata": {},
   "outputs": [
    {
     "data": {
      "text/plain": [
       "function"
      ]
     },
     "execution_count": 40,
     "metadata": {},
     "output_type": "execute_result"
    }
   ],
   "source": [
    "func_test4.__class__ # 함수도 객체다."
   ]
  },
  {
   "cell_type": "code",
   "execution_count": 42,
   "metadata": {},
   "outputs": [
    {
     "name": "stdout",
     "output_type": "stream",
     "text": [
      "15 5 50\n",
      "<class 'function'>\n"
     ]
    }
   ],
   "source": [
    "def func_test3(a,b):\n",
    "    return a+b,a-b,a*b\n",
    "a,b,c=func_test3(10,5)\n",
    "print(a,b,c) \n",
    "print(type(func_test3))# 함수도 객체다."
   ]
  },
  {
   "cell_type": "code",
   "execution_count": null,
   "metadata": {},
   "outputs": [],
   "source": [
    "https://www.w3schools.com/python/ref_list_sort.asp"
   ]
  },
  {
   "cell_type": "code",
   "execution_count": 43,
   "metadata": {},
   "outputs": [
    {
     "name": "stdout",
     "output_type": "stream",
     "text": [
      "15\n"
     ]
    }
   ],
   "source": [
    "# 키링\n",
    "def all_number(x,y):\n",
    "    return x+y\n",
    "add_five=lambda y:all_number(5,y) # 무명함수 => 유명함수\n",
    "print(add_five(10))"
   ]
  },
  {
   "cell_type": "code",
   "execution_count": 45,
   "metadata": {},
   "outputs": [],
   "source": [
    "# 문제: 두 점 사이의 거리값을 구하는 함수를 작성하시오\n",
    "# x1,y1,x2,y2\n",
    "# root =>\n",
    "import math\n",
    "#math.sqrt()"
   ]
  },
  {
   "cell_type": "code",
   "execution_count": 47,
   "metadata": {},
   "outputs": [
    {
     "name": "stdout",
     "output_type": "stream",
     "text": [
      "2.8284271247461903\n"
     ]
    }
   ],
   "source": [
    "import math\n",
    "def dist_between_points(x1,y1,x2,y2):\n",
    "    \"\"\"두 점 사이의 거리를 구하는 함수\"\"\"\n",
    "    dx=x1-x2\n",
    "    dy=y1-y2\n",
    "    dist = math.sqrt(dx**2+dy**2) # 피타고라스 정리\n",
    "    return dist\n",
    "print(dist_between_points(1,1,3,3))\n",
    "?dist_between_points"
   ]
  },
  {
   "cell_type": "code",
   "execution_count": 48,
   "metadata": {},
   "outputs": [
    {
     "data": {
      "text/plain": [
       "120"
      ]
     },
     "execution_count": 48,
     "metadata": {},
     "output_type": "execute_result"
    }
   ],
   "source": [
    "# 수학에서 factorial 5! = 5*4*3*2*1\n",
    "def factorial(n):\n",
    "    sum = 1 # 항등원 : 뎃셈의 항등원: 0, 곱셈의 항등원: 1, 행렬의 항등원: 단위행렬\n",
    "    for i in range(n, 1, -1):\n",
    "        sum *= i\n",
    "    return sum\n",
    "factorial(5)"
   ]
  },
  {
   "cell_type": "code",
   "execution_count": 49,
   "metadata": {},
   "outputs": [
    {
     "data": {
      "text/plain": [
       "120"
      ]
     },
     "execution_count": 49,
     "metadata": {},
     "output_type": "execute_result"
    }
   ],
   "source": [
    "# 재귀함수: 함수가 자기자신 함수를 호출\n",
    "def factorial(n, stop=1):\n",
    "    if n <= stop or n <= 0:# 종료조건, 입력제한\n",
    "        return 1\n",
    "    return n*factorial(n-1, stop)\n",
    "factorial(5)"
   ]
  },
  {
   "cell_type": "code",
   "execution_count": 51,
   "metadata": {},
   "outputs": [
    {
     "name": "stdout",
     "output_type": "stream",
     "text": [
      "8\n"
     ]
    }
   ],
   "source": [
    "# power 함수를 구현하시오 (2^10) # pow(2,10) => 재귀호출 방식으로 변환\n",
    "def power(r, n):\n",
    "    value = 1\n",
    "    for i in range(1, n+1):\n",
    "        value = r*value\n",
    "    return value\n",
    "print(power(2,3))"
   ]
  },
  {
   "cell_type": "code",
   "execution_count": 58,
   "metadata": {},
   "outputs": [
    {
     "name": "stdout",
     "output_type": "stream",
     "text": [
      "2\n"
     ]
    }
   ],
   "source": [
    "def power(r,n, stop=1):\n",
    "    if n<=stop or n<=0:\n",
    "        return 2\n",
    "    return r*power(r,n-1,stop)\n",
    "print(power(2,1))"
   ]
  },
  {
   "cell_type": "code",
   "execution_count": 62,
   "metadata": {},
   "outputs": [
    {
     "name": "stdout",
     "output_type": "stream",
     "text": [
      "8\n"
     ]
    }
   ],
   "source": [
    "# 선생님 풀이\n",
    "def power(r,n):\n",
    "    if n==1:\n",
    "        return r\n",
    "    else:\n",
    "        return r*power(r,n-1)\n",
    "print(power(2,3))"
   ]
  },
  {
   "cell_type": "code",
   "execution_count": 68,
   "metadata": {},
   "outputs": [
    {
     "name": "stdout",
     "output_type": "stream",
     "text": [
      "inner\n",
      "global inner\n"
     ]
    }
   ],
   "source": [
    "# 내부함수\n",
    "def outer():\n",
    "    def inner():\n",
    "        print('inner')\n",
    "    inner()\n",
    "def inner():\n",
    "    print('global inner')\n",
    "outer()\n",
    "inner()"
   ]
  },
  {
   "cell_type": "code",
   "execution_count": 67,
   "metadata": {},
   "outputs": [
    {
     "name": "stdout",
     "output_type": "stream",
     "text": [
      "0.9814764409562057\n",
      "0.685075299889119\n",
      "0.09576074322545391\n",
      "0.6428366915851002\n",
      "0.5152507878807028\n"
     ]
    }
   ],
   "source": [
    "# generator\n",
    "# for in : Collections(list, tuple, dict, set), iterator(ranges), generator, enemerate\n",
    "import random\n",
    "def gaus_dist(n):\n",
    "    while n>0:\n",
    "        yield random.random() # 비동기 호출함수 0-1\n",
    "        n -= 1\n",
    "gd = gaus_dist(5)\n",
    "for i in gd:\n",
    "    print(i)"
   ]
  },
  {
   "cell_type": "code",
   "execution_count": 69,
   "metadata": {},
   "outputs": [
    {
     "name": "stdout",
     "output_type": "stream",
     "text": [
      "python's recipe no.1\n",
      "perl's recipe no.2\n"
     ]
    },
    {
     "data": {
      "text/plain": [
       "(2190254215816, 2190254216104)"
      ]
     },
     "execution_count": 69,
     "metadata": {},
     "output_type": "execute_result"
    }
   ],
   "source": [
    "# 함숙사 값을 저장할 수 있는가? 지역변수라 저장이 불가\n",
    "# clouser ( 자바스크립트에서 사용하던 방식 ) : 값을 저장하는 방법\n",
    "def cookbook(name):\n",
    "    def recipe(no):\n",
    "        print(\"%s's recipe no.%d\" % (name,no))\n",
    "    return recipe\n",
    "python_recipe = cookbook('python')\n",
    "perl_recipe=cookbook('perl')\n",
    "python_recipe(1)\n",
    "perl_recipe(2)\n",
    "id(python_recipe), id(perl_recipe)"
   ]
  },
  {
   "cell_type": "code",
   "execution_count": 72,
   "metadata": {},
   "outputs": [
    {
     "name": "stdout",
     "output_type": "stream",
     "text": [
      "         1.7560\n",
      "         2.2220\n",
      "              1\n"
     ]
    }
   ],
   "source": [
    "# clouser 클로저의 응용(장식자:decorator)\n",
    "def format_and_pad(template, space):\n",
    "    def formatter(x):\n",
    "        return(template % x).rjust(space) # rjust는 오른쪽 맞춤. # 15자리를 만들어 주고 오른쪽부터 숫자 채우기\n",
    "    return formatter\n",
    "\n",
    "fmt=format_and_pad('%.4f', 15) # str, int, float만 알아두면 된다.\n",
    "print(fmt(1.756))\n",
    "print(fmt(2.222))\n",
    "fmt2=format_and_pad('%d' ,15)\n",
    "print(fmt2(1.756))"
   ]
  },
  {
   "cell_type": "code",
   "execution_count": 81,
   "metadata": {},
   "outputs": [
    {
     "name": "stdout",
     "output_type": "stream",
     "text": [
      "x값을 입력하시오: 2\n",
      "y값을 입력하시오: 3\n",
      "3.0\n",
      "6\n",
      "12.56\n"
     ]
    }
   ],
   "source": [
    "# 데이터를 입력받아\n",
    "# 삼각형의 넓이 (밑변 x 높이)\n",
    "# 사각형의 넓이 (밑변, 높이)\n",
    "# 원의 넓이를 계산하는 함수를 작성해 보시오. (반지름)\n",
    "\n",
    "bottom = int(input(\"밑변 값을 입력하시오: \"))\n",
    "height = int(input(\"높이 값을 입력하시오: \"))\n",
    "\n",
    "def tri(x,y):\n",
    "    return (x*y)/2\n",
    "def sqr(x,y):\n",
    "    return x*y\n",
    "def cir(x):\n",
    "    return 3.14*(x**2)\n",
    "print(tri(bottom,height))\n",
    "print(sqr(bottom,height))\n",
    "print(cir(bottom))"
   ]
  },
  {
   "cell_type": "code",
   "execution_count": 83,
   "metadata": {},
   "outputs": [
    {
     "name": "stdout",
     "output_type": "stream",
     "text": [
      "밑변이나 반지름으로 사용할 값을 입력하시오. 2\n",
      "삼각형 이나 사각형의 높이를 입력하시오. 3\n",
      "삼각형의 넓이는  3.0\n",
      "사각형의 넓이는  6\n",
      "원의 넓이는  12.566370614359172\n"
     ]
    }
   ],
   "source": [
    "# 선생님 풀이법\n",
    "import math\n",
    "def caculate_triangle(mylist):\n",
    "    return mylist[0]*mylist[1] /2\n",
    "def caculate_rectangle(mylist):\n",
    "    return mylist[0]*mylist[1]\n",
    "def caculate_circle(mylist):\n",
    "    return math.pi * (mylist[0]**2)\n",
    "mylist = []\n",
    "width =eval(input(\"밑변이나 반지름으로 사용할 값을 입력하시오. \"))\n",
    "height=eval(input(\"삼각형 이나 사각형의 높이를 입력하시오. \"))\n",
    "mylist.append(width)\n",
    "mylist.append(height)\n",
    "print(\"삼각형의 넓이는 \",caculate_triangle(mylist))\n",
    "print(\"사각형의 넓이는 \",caculate_rectangle(mylist))\n",
    "print(\"원의 넓이는 \",caculate_circle(mylist))"
   ]
  },
  {
   "cell_type": "code",
   "execution_count": null,
   "metadata": {},
   "outputs": [],
   "source": [
    "# 시간과 시간당 급여를 입력받아 주급을 계산하는 프로그램을 작성하시오.\n",
    "# -조건: 40시간이 넘으면 1.5배하여 지급합니다.\n",
    "# -매개변수(시간, 시간당 급여)"
   ]
  },
  {
   "cell_type": "code",
   "execution_count": 96,
   "metadata": {},
   "outputs": [
    {
     "name": "stdout",
     "output_type": "stream",
     "text": [
      "일을 한 시간을 적어주시오: 45\n",
      "시간당 급여를 적어주시오: 7000\n",
      "당신의 이번달 월급은  472500 원 입니다.\n"
     ]
    }
   ],
   "source": [
    "def money(mylist):\n",
    "    if mylist[0]>=40:\n",
    "        return mylist[0]*mylist[1]*1.5\n",
    "    else:\n",
    "        return mylist[0]*mylist[1]\n",
    "mylist = []\n",
    "\n",
    "hour = int(input(\"일을 한 시간을 적어주시오: \"))\n",
    "h_money = int(input(\"시간당 급여를 적어주시오: \"))\n",
    "mylist.append(hour)\n",
    "mylist.append(h_money)\n",
    "\n",
    "print(\"당신의 이번달 월급은 \", round(money(mylist)), \"원 입니다.\")"
   ]
  },
  {
   "cell_type": "code",
   "execution_count": 97,
   "metadata": {},
   "outputs": [
    {
     "name": "stdout",
     "output_type": "stream",
     "text": [
      "시간당 급여는: 7000\n",
      "주간 총 근무시간: 45\n",
      "주간 수입은: 367,500.00 원\n"
     ]
    }
   ],
   "source": [
    "# 선생님 풀이법\n",
    "basictime = 40\n",
    "def pay(wage, hours):\n",
    "    if hours <= basictime:\n",
    "        amount = wage*hour\n",
    "    else:\n",
    "        amount = (wage*hour) + ((1.5)*wage*(hours-basictime))\n",
    "    return amount\n",
    "hourlyWage = eval(input(\"시간당 급여는: \"))\n",
    "hoursWorked = eval(input(\"주간 총 근무시간: \"))\n",
    "earnings = pay(hourlyWage,hoursWorked)\n",
    "print(\"주간 수입은: {0:,.2f} 원\".format(earnings))"
   ]
  },
  {
   "cell_type": "code",
   "execution_count": null,
   "metadata": {},
   "outputs": [],
   "source": [
    "# 이자율이 주어졌을 때 기간거치후의 총액과 이자수익을 출력하시오.\n",
    "# 복리계산 = (원가1+이율0.04) ** 거치년수\n",
    "# INTEREST_RATE = 0.04\n",
    "# 매개변수: 원금, 거치기간\n",
    "\n",
    "# 단서 조건: 입력함수, 계산함수, 출력함수로 분리해서 작성하시오."
   ]
  },
  {
   "cell_type": "code",
   "execution_count": 102,
   "metadata": {},
   "outputs": [
    {
     "name": "stdout",
     "output_type": "stream",
     "text": [
      "원금을 입력하시오: 1000\n",
      "거치 년수를 입력하시오: 2\n",
      "당신의 총액은  1082 원이고, 이자수익은  82 원 입니다.\n"
     ]
    }
   ],
   "source": [
    "interest_rate = 0.04\n",
    "\n",
    "def input_money():\n",
    "    x = int(input(\"원금을 입력하시오: \"))\n",
    "    y = int(input(\"거치 년수를 입력하시오: \"))\n",
    "    return x,y\n",
    "money, year = input_money()\n",
    "# print(money,year)\n",
    "\n",
    "def caculate_money(x,y):\n",
    "    bokri = x*(1.04**y)\n",
    "    suic = bokri - x\n",
    "    return bokri, suic\n",
    "t_bokri, t_suic = caculate_money(money,year)\n",
    "# print(t_bokri, t_suic)\n",
    "\n",
    "def output_money(x,y):\n",
    "    print(\"당신의 총액은 \", round(x),\"원이고, 이자수익은 \", round(y),\"원 입니다.\")\n",
    "\n",
    "output_money(t_bokri, t_suic)"
   ]
  },
  {
   "cell_type": "code",
   "execution_count": 6,
   "metadata": {},
   "outputs": [
    {
     "name": "stdout",
     "output_type": "stream",
     "text": [
      "예금액: 1000\n",
      "기간: 2\n",
      "예금 총액: $1,081.60 이자 총액: $81.60\n"
     ]
    }
   ],
   "source": [
    "# 선생님 풀이법\n",
    "interest_rate = 0.04\n",
    "def getinput(): # 입력\n",
    "    principal = eval(input(\"예금액: \"))\n",
    "    numberOfYears=eval(input(\"기간: \"))\n",
    "    return(principal,numberOfYears)\n",
    "\n",
    "def balanceAndinterest(prin, numYears): # 처리\n",
    "    balance = prin*((1+interest_rate)**numYears) # 원금포함 이자 계산액\n",
    "    interestEarned = balance - prin              # 순수이자액\n",
    "    return(balance, interestEarned)\n",
    "\n",
    "def displayOutput(bal, intEarned): # 출력\n",
    "    print(\"예금 총액: ${0:,.2f} 이자 총액: ${1:,.2f}\".format(bal, intEarned))\n",
    "\n",
    "def main():\n",
    "    principal,numberOfYears = getinput()\n",
    "    balance, interestEarned = balanceAndinterest(principal,numberOfYears)\n",
    "    displayOutput(balance, interestEarned)\n",
    "#    displayOutput( * ( balanceAndinterest( * ( getinput() ) ) ) )\n",
    "\n",
    "main()"
   ]
  },
  {
   "cell_type": "code",
   "execution_count": null,
   "metadata": {},
   "outputs": [],
   "source": [
    "# 함수화 프로그래밍 for + 함수를 적용\n",
    "# lambda 함수를 이용한 처리가 많음"
   ]
  },
  {
   "cell_type": "code",
   "execution_count": 7,
   "metadata": {},
   "outputs": [
    {
     "data": {
      "text/plain": [
       "100"
      ]
     },
     "execution_count": 7,
     "metadata": {},
     "output_type": "execute_result"
    }
   ],
   "source": [
    "(lambda x: x*x)(10)"
   ]
  },
  {
   "cell_type": "code",
   "execution_count": 8,
   "metadata": {},
   "outputs": [
    {
     "name": "stdout",
     "output_type": "stream",
     "text": [
      "11\n"
     ]
    },
    {
     "data": {
      "text/plain": [
       "15"
      ]
     },
     "execution_count": 8,
     "metadata": {},
     "output_type": "execute_result"
    }
   ],
   "source": [
    "incr = lambda x, incr=1: x+incr # 무명함수 -> 유명함수\n",
    "print(incr(10))\n",
    "incr(10,5)"
   ]
  },
  {
   "cell_type": "code",
   "execution_count": 13,
   "metadata": {},
   "outputs": [
    {
     "name": "stdout",
     "output_type": "stream",
     "text": [
      "['aaaa', 'foo', 'abab', 'bar', 'card']\n"
     ]
    }
   ],
   "source": [
    "# 개수에 따른 정렬\n",
    "strings=['foo','card','bar','aaaa','abab']\n",
    "#strings.sort() # 정렬\n",
    "# 정렬기준을 key에 함수로 전달()\n",
    "strings.sort(key=lambda x: len(set(list(x)))) # 중복되지 않는 데이터 개수에 따라\n",
    "print(strings)"
   ]
  },
  {
   "cell_type": "code",
   "execution_count": 14,
   "metadata": {},
   "outputs": [
    {
     "name": "stdout",
     "output_type": "stream",
     "text": [
      "<map object at 0x000002497B44AD08>\n",
      "[9, 16]\n"
     ]
    }
   ],
   "source": [
    "m = map(lambda x: x*x, [3,4]) # 고유한 포맷으로 출력\n",
    "print(m)\n",
    "print(list(m)) # 리스트로 캐스팅해야 출력"
   ]
  },
  {
   "cell_type": "code",
   "execution_count": 15,
   "metadata": {},
   "outputs": [
    {
     "data": {
      "text/plain": [
       "[0, 1, 4, 9, 16]"
      ]
     },
     "execution_count": 15,
     "metadata": {},
     "output_type": "execute_result"
    }
   ],
   "source": [
    "list(map(lambda x: x*x, range(5)))"
   ]
  },
  {
   "cell_type": "code",
   "execution_count": 16,
   "metadata": {},
   "outputs": [
    {
     "data": {
      "text/plain": [
       "[0, 1, 4, 9, 16]"
      ]
     },
     "execution_count": 16,
     "metadata": {},
     "output_type": "execute_result"
    }
   ],
   "source": [
    "sqr = lambda x: x*x\n",
    "list(map(sqr, range(5)))"
   ]
  },
  {
   "cell_type": "code",
   "execution_count": 17,
   "metadata": {},
   "outputs": [
    {
     "data": {
      "text/plain": [
       "[0, 1, 4, 9, 16]"
      ]
     },
     "execution_count": 17,
     "metadata": {},
     "output_type": "execute_result"
    }
   ],
   "source": [
    "def sqr2(x):\n",
    "    return x*x\n",
    "list(map(sqr2, range(5)))"
   ]
  },
  {
   "cell_type": "code",
   "execution_count": null,
   "metadata": {},
   "outputs": [],
   "source": [
    "# 문제: 다음 출근 시간 데이터에 대하여 기본금 10000원 시간당 7500원의 급여를 계산하고\n",
    "# lambda함수와 map함수를 이용하여 구하시오"
   ]
  },
  {
   "cell_type": "code",
   "execution_count": 18,
   "metadata": {},
   "outputs": [
    {
     "name": "stdout",
     "output_type": "stream",
     "text": [
      "[1210000, 1135000, 910000, 1360000, 2260000, 3010000]\n"
     ]
    }
   ],
   "source": [
    "total_time = [160,150,120,180,300,400]\n",
    "calc = lambda x: 10000 + 7500*x\n",
    "pay = list(map(calc, total_time))\n",
    "print(pay)"
   ]
  },
  {
   "cell_type": "code",
   "execution_count": 19,
   "metadata": {},
   "outputs": [
    {
     "name": "stdout",
     "output_type": "stream",
     "text": [
      "[1210000, 1135000, 910000, 1360000, 2260000, 3010000]\n"
     ]
    }
   ],
   "source": [
    "pay = list(map(lambda x:10000+7500*x, total_time ))\n",
    "print(pay)"
   ]
  },
  {
   "cell_type": "code",
   "execution_count": 20,
   "metadata": {},
   "outputs": [
    {
     "data": {
      "text/plain": [
       "[1, 3, 5, 7, 9]"
      ]
     },
     "execution_count": 20,
     "metadata": {},
     "output_type": "execute_result"
    }
   ],
   "source": [
    "def odd(p):\n",
    "    return[i for i in p if i%2] # 홀수 츨력방법\n",
    "odd(range(10))"
   ]
  },
  {
   "cell_type": "code",
   "execution_count": 23,
   "metadata": {},
   "outputs": [
    {
     "name": "stdout",
     "output_type": "stream",
     "text": [
      "[1, 3, 5, 7, 9, 11, 13, 15, 17, 19, 21, 23, 25, 27, 29, 31, 33, 35, 37, 39, 41, 43, 45, 47, 49, 51, 53, 55, 57, 59, 61, 63, 65, 67, 69, 71, 73, 75, 77, 79, 81, 83, 85, 87, 89, 91, 93, 95, 97, 99],"
     ]
    }
   ],
   "source": [
    "# 필터의 함수는 True/False를 리턴하는 함수여야 함\n",
    "def odd(k):\n",
    "    return k%2 # 홀수의 나머지는 1 -> 참, 참인 경우만 출력\n",
    "print(list(filter(odd,range(100))),end=',')"
   ]
  },
  {
   "cell_type": "code",
   "execution_count": 26,
   "metadata": {},
   "outputs": [
    {
     "name": "stdout",
     "output_type": "stream",
     "text": [
      "[3, 6, 9, 12, 15, 18, 21, 24, 27, 30, 33, 36, 39, 42, 45, 48, 51, 54, 57, 60, 63, 66, 69, 72, 75, 78, 81, 84, 87, 90, 93, 96, 99],"
     ]
    }
   ],
   "source": [
    "# 문제: 1부터 99사이의 데이터중 3으로 나누어 떨어지는 데이터를 filter를 이용해 구하시오\n",
    "def third(n):\n",
    "    return n%3==0\n",
    "print(list(filter(third,range(1,100))),end=',')"
   ]
  },
  {
   "cell_type": "code",
   "execution_count": 27,
   "metadata": {},
   "outputs": [
    {
     "data": {
      "text/plain": [
       "55"
      ]
     },
     "execution_count": 27,
     "metadata": {},
     "output_type": "execute_result"
    }
   ],
   "source": [
    "# reduce ( 분산처리시 값을 계산할 때 사용 )\n",
    "from functools import reduce\n",
    "reduce(lambda x, y: x+y, range(11)) # 이전에 계산된값이 x로"
   ]
  },
  {
   "cell_type": "code",
   "execution_count": 28,
   "metadata": {},
   "outputs": [
    {
     "data": {
      "text/plain": [
       "362880"
      ]
     },
     "execution_count": 28,
     "metadata": {},
     "output_type": "execute_result"
    }
   ],
   "source": [
    "reduce(lambda x, y: x*y, range(1,10))"
   ]
  },
  {
   "cell_type": "code",
   "execution_count": 31,
   "metadata": {},
   "outputs": [
    {
     "data": {
      "text/plain": [
       "'edcba'"
      ]
     },
     "execution_count": 31,
     "metadata": {},
     "output_type": "execute_result"
    }
   ],
   "source": [
    "reduce(lambda x, y: y+x,'abcde')"
   ]
  },
  {
   "cell_type": "code",
   "execution_count": 35,
   "metadata": {},
   "outputs": [
    {
     "data": {
      "text/plain": [
       "5.0"
      ]
     },
     "execution_count": 35,
     "metadata": {},
     "output_type": "execute_result"
    }
   ],
   "source": [
    "# 함수 배열\n",
    "func_choice = [lambda x, y: x**y, lambda x, y: x/y]\n",
    "func_choice[0](10,2)\n",
    "func_choice[1](10,2)"
   ]
  },
  {
   "cell_type": "code",
   "execution_count": 37,
   "metadata": {},
   "outputs": [
    {
     "name": "stdout",
     "output_type": "stream",
     "text": [
      "[5, 6, 7, 8]\n"
     ]
    }
   ],
   "source": [
    "# 문제1) 다음 데이터에서 4보다 큰 수만 출력하도록 filtering해 보시오.\n",
    "data = [1,2,3,4,5,6,7,8,3,4,2,1]\n",
    "\n",
    "fil = list(filter(lambda x: x>4, data))\n",
    "print(fil)"
   ]
  },
  {
   "cell_type": "code",
   "execution_count": 43,
   "metadata": {
    "scrolled": false
   },
   "outputs": [
    {
     "name": "stdout",
     "output_type": "stream",
     "text": [
      "숫자를 입력해주세요. 40\n",
      "나는 귀중한 사람입니다.\n"
     ]
    }
   ],
   "source": [
    "# 문제2) 숫자를 입력 받아서 홀수 인 경우는 \"나는 행복합니다.\"라고 출력하고\n",
    "# 짝수인 경우는 \"나는 귀중한 사람이다.\"라는 출력하는 함수 선택을 구현해 보시오.\n",
    "\n",
    "func_choice = [lambda : print(\"나는 귀중한 사람입니다.\"), lambda: print(\"나는 행복합니다.\")]\n",
    "\n",
    "condition = eval(input(\"숫자를 입력해주세요. \"))\n",
    "condition %= 2\n",
    "\n",
    "func_choice[condition]()"
   ]
  },
  {
   "cell_type": "code",
   "execution_count": 2,
   "metadata": {},
   "outputs": [
    {
     "name": "stdout",
     "output_type": "stream",
     "text": [
      "이름이 무엇입니까? 이소정\n",
      "국어점수는 몇점입니까? 80\n",
      "영어점수는 몇점입니까? 85\n",
      "수학점수는 몇점입니까? 10\n",
      "============================================\n",
      "성적표\n",
      "이름 국어 영어 수학 합계 평균\n",
      "['이소정', 80, 85, 10, 175, 58.33]\n",
      "============================================\n"
     ]
    }
   ],
   "source": [
    "# 성적프로그램을 입력, 처리, 출력 함수를 이용해서 구현하시오.\n",
    "# 이름, 국어, 영어, 수학|| 총점, 평균\n",
    "\n",
    "sungjuk=[] # 전역적으로 선언하고 구현\n",
    "\n",
    "def getinput():\n",
    "    name = input(\"이름이 무엇입니까? \")\n",
    "    kor = eval(input(\"국어점수는 몇점입니까? \"))\n",
    "    eng = eval(input(\"영어점수는 몇점입니까? \"))\n",
    "    math = eval(input(\"수학점수는 몇점입니까? \"))\n",
    "    sungjuk.append(name)\n",
    "    sungjuk.append(kor)\n",
    "    sungjuk.append(eng)\n",
    "    sungjuk.append(math)\n",
    "    return(name, kor, eng, math)\n",
    "\n",
    "# name, kor, eng, math = getinput()\n",
    "\n",
    "def caculate_sungjuk(s1,s2,s3,s4): # 처리\n",
    "    tot = s2+s3+s4\n",
    "    avg = round(tot/3,2)\n",
    "    sungjuk.append(tot)\n",
    "    sungjuk.append(avg)\n",
    "    return(tot,avg)\n",
    "\n",
    "#tot,avg=caculate_sungjuk(kor, eng, math)\n",
    "\n",
    "def output_sungjuk(x,y): # 출력\n",
    "    print(\"============================================\")\n",
    "    print(\"성적표\")\n",
    "    print(\"이름 국어 영어 수학 합계 평균\")\n",
    "    print(sungjuk)\n",
    "    print(\"============================================\")\n",
    "\n",
    "def main():\n",
    "    output_sungjuk( * ( caculate_sungjuk( * ( getinput() ) ) ) )\n",
    "\n",
    "main()"
   ]
  },
  {
   "cell_type": "code",
   "execution_count": null,
   "metadata": {},
   "outputs": [],
   "source": []
  },
  {
   "cell_type": "code",
   "execution_count": null,
   "metadata": {},
   "outputs": [],
   "source": []
  }
 ],
 "metadata": {
  "celltoolbar": "Raw Cell Format",
  "kernelspec": {
   "display_name": "Python 3",
   "language": "python",
   "name": "python3"
  },
  "language_info": {
   "codemirror_mode": {
    "name": "ipython",
    "version": 3
   },
   "file_extension": ".py",
   "mimetype": "text/x-python",
   "name": "python",
   "nbconvert_exporter": "python",
   "pygments_lexer": "ipython3",
   "version": "3.7.4"
  }
 },
 "nbformat": 4,
 "nbformat_minor": 2
}
