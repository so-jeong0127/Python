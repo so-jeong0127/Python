{
 "cells": [
  {
   "cell_type": "code",
   "execution_count": 1,
   "metadata": {},
   "outputs": [
    {
     "name": "stderr",
     "output_type": "stream",
     "text": [
      "C:\\Users\\ICT01_14\\.conda\\envs\\tf_test\\lib\\site-packages\\tensorflow\\python\\framework\\dtypes.py:516: FutureWarning: Passing (type, 1) or '1type' as a synonym of type is deprecated; in a future version of numpy, it will be understood as (type, (1,)) / '(1,)type'.\n",
      "  _np_qint8 = np.dtype([(\"qint8\", np.int8, 1)])\n",
      "C:\\Users\\ICT01_14\\.conda\\envs\\tf_test\\lib\\site-packages\\tensorflow\\python\\framework\\dtypes.py:517: FutureWarning: Passing (type, 1) or '1type' as a synonym of type is deprecated; in a future version of numpy, it will be understood as (type, (1,)) / '(1,)type'.\n",
      "  _np_quint8 = np.dtype([(\"quint8\", np.uint8, 1)])\n",
      "C:\\Users\\ICT01_14\\.conda\\envs\\tf_test\\lib\\site-packages\\tensorflow\\python\\framework\\dtypes.py:518: FutureWarning: Passing (type, 1) or '1type' as a synonym of type is deprecated; in a future version of numpy, it will be understood as (type, (1,)) / '(1,)type'.\n",
      "  _np_qint16 = np.dtype([(\"qint16\", np.int16, 1)])\n",
      "C:\\Users\\ICT01_14\\.conda\\envs\\tf_test\\lib\\site-packages\\tensorflow\\python\\framework\\dtypes.py:519: FutureWarning: Passing (type, 1) or '1type' as a synonym of type is deprecated; in a future version of numpy, it will be understood as (type, (1,)) / '(1,)type'.\n",
      "  _np_quint16 = np.dtype([(\"quint16\", np.uint16, 1)])\n",
      "C:\\Users\\ICT01_14\\.conda\\envs\\tf_test\\lib\\site-packages\\tensorflow\\python\\framework\\dtypes.py:520: FutureWarning: Passing (type, 1) or '1type' as a synonym of type is deprecated; in a future version of numpy, it will be understood as (type, (1,)) / '(1,)type'.\n",
      "  _np_qint32 = np.dtype([(\"qint32\", np.int32, 1)])\n",
      "C:\\Users\\ICT01_14\\.conda\\envs\\tf_test\\lib\\site-packages\\tensorflow\\python\\framework\\dtypes.py:525: FutureWarning: Passing (type, 1) or '1type' as a synonym of type is deprecated; in a future version of numpy, it will be understood as (type, (1,)) / '(1,)type'.\n",
      "  np_resource = np.dtype([(\"resource\", np.ubyte, 1)])\n"
     ]
    },
    {
     "name": "stdout",
     "output_type": "stream",
     "text": [
      "1.14.0\n"
     ]
    },
    {
     "name": "stderr",
     "output_type": "stream",
     "text": [
      "C:\\Users\\ICT01_14\\.conda\\envs\\tf_test\\lib\\site-packages\\tensorboard\\compat\\tensorflow_stub\\dtypes.py:541: FutureWarning: Passing (type, 1) or '1type' as a synonym of type is deprecated; in a future version of numpy, it will be understood as (type, (1,)) / '(1,)type'.\n",
      "  _np_qint8 = np.dtype([(\"qint8\", np.int8, 1)])\n",
      "C:\\Users\\ICT01_14\\.conda\\envs\\tf_test\\lib\\site-packages\\tensorboard\\compat\\tensorflow_stub\\dtypes.py:542: FutureWarning: Passing (type, 1) or '1type' as a synonym of type is deprecated; in a future version of numpy, it will be understood as (type, (1,)) / '(1,)type'.\n",
      "  _np_quint8 = np.dtype([(\"quint8\", np.uint8, 1)])\n",
      "C:\\Users\\ICT01_14\\.conda\\envs\\tf_test\\lib\\site-packages\\tensorboard\\compat\\tensorflow_stub\\dtypes.py:543: FutureWarning: Passing (type, 1) or '1type' as a synonym of type is deprecated; in a future version of numpy, it will be understood as (type, (1,)) / '(1,)type'.\n",
      "  _np_qint16 = np.dtype([(\"qint16\", np.int16, 1)])\n",
      "C:\\Users\\ICT01_14\\.conda\\envs\\tf_test\\lib\\site-packages\\tensorboard\\compat\\tensorflow_stub\\dtypes.py:544: FutureWarning: Passing (type, 1) or '1type' as a synonym of type is deprecated; in a future version of numpy, it will be understood as (type, (1,)) / '(1,)type'.\n",
      "  _np_quint16 = np.dtype([(\"quint16\", np.uint16, 1)])\n",
      "C:\\Users\\ICT01_14\\.conda\\envs\\tf_test\\lib\\site-packages\\tensorboard\\compat\\tensorflow_stub\\dtypes.py:545: FutureWarning: Passing (type, 1) or '1type' as a synonym of type is deprecated; in a future version of numpy, it will be understood as (type, (1,)) / '(1,)type'.\n",
      "  _np_qint32 = np.dtype([(\"qint32\", np.int32, 1)])\n",
      "C:\\Users\\ICT01_14\\.conda\\envs\\tf_test\\lib\\site-packages\\tensorboard\\compat\\tensorflow_stub\\dtypes.py:550: FutureWarning: Passing (type, 1) or '1type' as a synonym of type is deprecated; in a future version of numpy, it will be understood as (type, (1,)) / '(1,)type'.\n",
      "  np_resource = np.dtype([(\"resource\", np.ubyte, 1)])\n"
     ]
    }
   ],
   "source": [
    "import tensorflow as tf\n",
    "print(tf.__version__)"
   ]
  },
  {
   "cell_type": "code",
   "execution_count": 2,
   "metadata": {},
   "outputs": [
    {
     "name": "stdout",
     "output_type": "stream",
     "text": [
      "b'Hello, TensorFlow!'\n",
      "Tensor(\"Const:0\", shape=(), dtype=string)\n"
     ]
    }
   ],
   "source": [
    "# 데이터 타입\n",
    "import tensorflow as tf\n",
    "hello = tf.constant('Hello, TensorFlow!') \n",
    "# tensorflow에는 변수가 3개 constant, variables, placeholder\n",
    "sess = tf.Session()\n",
    "print(sess.run(hello)) # numpy데이터로 변경\n",
    "print(hello) # tensorflow의 데이터는 직접 확인이 불가"
   ]
  },
  {
   "cell_type": "code",
   "execution_count": 3,
   "metadata": {},
   "outputs": [
    {
     "name": "stdout",
     "output_type": "stream",
     "text": [
      "<tf.Variable 'y:0' shape=() dtype=int32_ref>\n"
     ]
    }
   ],
   "source": [
    "# \n",
    "x=tf.constant(35,name='x') # model의 그래프 구조 확인\n",
    "                           # model을 그대로 저장( 가중치 )할 때 메모리 위치를 확인하기 위해서\n",
    "y=tf.Variable(x+5,name='y') # 변수가 있는 경우 - 반드시 초기화\n",
    "\n",
    "print(y)"
   ]
  },
  {
   "cell_type": "code",
   "execution_count": 4,
   "metadata": {},
   "outputs": [
    {
     "name": "stdout",
     "output_type": "stream",
     "text": [
      "40\n"
     ]
    }
   ],
   "source": [
    "model=tf.global_variables_initializer() # 변수초기화 시켜주는 것\n",
    "with tf.Session() as session:\n",
    "    session.run(model)\n",
    "    print(session.run(y))"
   ]
  },
  {
   "cell_type": "code",
   "execution_count": 5,
   "metadata": {},
   "outputs": [
    {
     "name": "stdout",
     "output_type": "stream",
     "text": [
      "[5 7 9]\n"
     ]
    }
   ],
   "source": [
    "# 팬다스에서 데이터 초기화 ( list, dict ) # 요소끼리 계산( 배열연산 )\n",
    "a = tf.constant([1,2,3],name='a') # GPU 공간\n",
    "b = tf.constant([4,5,6],name='b')\n",
    "add_op = a+b\n",
    "\n",
    "with tf.Session() as session:\n",
    "    print(session.run(add_op))"
   ]
  },
  {
   "cell_type": "code",
   "execution_count": 6,
   "metadata": {},
   "outputs": [],
   "source": [
    "# 주입변수\n",
    "# 자료구조 : Garph로 구성 - 골격(구조) 형성\n",
    "a = tf.placeholder(tf.int16) # 데이터 없이 공간만 확보\n",
    "b = tf.placeholder(tf.int16)\n",
    "add = tf.add(a,b)\n",
    "mul = tf.multiply(a,b)\n",
    "total = tf.multiply(add,mul)"
   ]
  },
  {
   "cell_type": "code",
   "execution_count": 8,
   "metadata": {},
   "outputs": [
    {
     "name": "stdout",
     "output_type": "stream",
     "text": [
      "feed 변수 곱: 30\n"
     ]
    }
   ],
   "source": [
    "with tf.Session() as sess:\n",
    "#     print(\"feed 변수 합: %i\" %sess.run(add, # 데이터 주입 호출 \n",
    "#                                     feed_dict={a:2,b:3}))\n",
    "#     print(\"feed 변수 곱: %i\" %sess.run(mul, feed_dict={a:2,b:3}))\n",
    "    print(\"feed 변수 곱: %i\" %sess.run(total, feed_dict={a:2, b:3}))"
   ]
  },
  {
   "cell_type": "code",
   "execution_count": 9,
   "metadata": {},
   "outputs": [
    {
     "name": "stdout",
     "output_type": "stream",
     "text": [
      "[[12.]]\n"
     ]
    }
   ],
   "source": [
    "matrix1 = tf.constant([[3.,3.]]) # 1X2\n",
    "matrix2 = tf.constant([[2.],[2.]]) # 2X1 => 1X1\n",
    "product = tf.matmul(matrix1,matrix2) # matrix multiply\n",
    "\n",
    "with tf.Session() as sess: # 실행부\n",
    "    result = sess.run(product)\n",
    "    print(result)"
   ]
  },
  {
   "cell_type": "code",
   "execution_count": 10,
   "metadata": {},
   "outputs": [],
   "source": [
    "zeros = tf.zeros([2,2]) # 0,\n",
    "ondes = tf.ones([6]) # 1\n",
    "#균등분포\n",
    "uniform = tf.random_uniform([3,3,3],minval=0.0,maxval=10)\n",
    "# 정규분포\n",
    "normal = tf.random_normal([3,3,3],mean=0.0,stddev=2.0)\n",
    "# 표준편차 2배내의 것으로 초기화\n",
    "trunc = tf.truncated_normal([2,2],mean=5.0,stddev=1.0)\n",
    "random_var = tf.Variable(tf.truncated_normal([2,2]))"
   ]
  },
  {
   "cell_type": "code",
   "execution_count": 14,
   "metadata": {},
   "outputs": [
    {
     "name": "stdout",
     "output_type": "stream",
     "text": [
      "[[4.8488183 5.3030415]\n",
      " [5.142726  4.799284 ]]\n",
      "변수초기화 [[-0.258737   -0.6320963 ]\n",
      " [-0.28963888  0.01395092]]\n"
     ]
    }
   ],
   "source": [
    "init = tf.global_variables_initializer()\n",
    "sess = tf.Session()\n",
    "print(sess.run(trunc))\n",
    "sess.run(init)\n",
    "print(\"변수초기화\",sess.run(random_var))"
   ]
  },
  {
   "cell_type": "code",
   "execution_count": 16,
   "metadata": {},
   "outputs": [
    {
     "name": "stdout",
     "output_type": "stream",
     "text": [
      "<class 'tensorflow.python.framework.tensor_shape.TensorShape'>\n",
      "(6, 2)\n",
      "(2, 6)\n"
     ]
    }
   ],
   "source": [
    "import tensorflow as tf\n",
    "my_tensor = tf.constant(0,shape=[6,2]) # 6X2행렬 => 상수화 되서 저장\n",
    "my_static_shape = my_tensor.get_shape()\n",
    "print(type(my_static_shape)) # clas\n",
    "print(my_static_shape) # 내용은  run으로 차수는 get_shape 함수\n",
    "my_tensor_transpesed = tf.transpose(my_tensor) # 전치행렬 2X6으로\n",
    "print(my_tensor_transpesed.get_shape())"
   ]
  },
  {
   "cell_type": "code",
   "execution_count": 20,
   "metadata": {},
   "outputs": [
    {
     "name": "stdout",
     "output_type": "stream",
     "text": [
      "[0. 0.]\n"
     ]
    }
   ],
   "source": [
    "import tensorflow as tf\n",
    "tf.InteractiveSession() # 대화형 세션\n",
    "tf.zeros(2)\n",
    "a = tf.zeros(2)\n",
    "print(a.eval()) # run"
   ]
  },
  {
   "cell_type": "code",
   "execution_count": 32,
   "metadata": {},
   "outputs": [],
   "source": [
    "def showvalue(t):\n",
    "    sess = tf.InteractiveSession()\n",
    "    tf.global_variables_initializer().run() # chaining\n",
    "    print(t.eval())\n",
    "    sess.close()"
   ]
  },
  {
   "cell_type": "code",
   "execution_count": 36,
   "metadata": {},
   "outputs": [
    {
     "name": "stdout",
     "output_type": "stream",
     "text": [
      "[ 3.5 10.1]\n",
      "[-8  5 17]\n"
     ]
    }
   ],
   "source": [
    "c2, c3 = tf.constant([1.2,5.6]), tf.constant([-4,-1,7])\n",
    "v2, v3 = tf.constant([2.3,4.5]), tf.Variable([-2,3,5])\n",
    "showvalue(tf.add_n([c2,v2]))\n",
    "showvalue(tf.add_n([c3,v3,v3])) # 여러개가 가능하도록"
   ]
  },
  {
   "cell_type": "markdown",
   "metadata": {},
   "source": [
    "2x + y + z =1\n",
    "\n",
    "4x + 3y + 4z = 2\n",
    "\n",
    "-4x + 2y + 2z = 2\n",
    "\n",
    "# A dot x = [1,2,-6] # 행렬 나누기 => 역행렬\n",
    "           y\n",
    "           z\n",
    "              \n",
    "# 3X3 3X1 => 3X1"
   ]
  },
  {
   "cell_type": "code",
   "execution_count": 38,
   "metadata": {},
   "outputs": [
    {
     "name": "stdout",
     "output_type": "stream",
     "text": [
      "[[ 2.  1.  1.]\n",
      " [ 4.  3.  4.]\n",
      " [-4.  2.  2.]]\n",
      "[[ 1.]\n",
      " [ 2.]\n",
      " [-6.]]\n"
     ]
    }
   ],
   "source": [
    "sess=tf.Session()\n",
    "x = tf.constant([2.0,1.0,1.0,4,3,4,-4,2,2],shape=[3,3])\n",
    "print(sess.run(x))\n",
    "y = tf.constant([1.0,2,-6],shape=[3,1])\n",
    "print(sess.run(y))"
   ]
  },
  {
   "cell_type": "code",
   "execution_count": 39,
   "metadata": {},
   "outputs": [
    {
     "name": "stdout",
     "output_type": "stream",
     "text": [
      "계수: [[ 1.0000001]\n",
      " [-2.0000002]\n",
      " [ 1.0000001]]\n",
      "[[ 1.0000001]\n",
      " [-2.0000002]\n",
      " [ 1.0000001]]\n"
     ]
    }
   ],
   "source": [
    "z = tf.matrix_solve(x,y)\n",
    "result = sess.run(z)\n",
    "print(\"계수:\", result)\n",
    "print(sess.run(z))\n",
    "# 1\n",
    "# -2\n",
    "# 1\n",
    "# 2*1 + (-2) + 1"
   ]
  },
  {
   "cell_type": "code",
   "execution_count": 41,
   "metadata": {},
   "outputs": [
    {
     "name": "stdout",
     "output_type": "stream",
     "text": [
      "[1.0000001]\n",
      "[[ 1.0000001]\n",
      " [ 2.       ]\n",
      " [-6.000001 ]]\n"
     ]
    }
   ],
   "source": [
    "print(2.0 * result[0] + 1.0*result[1] + 1.0*result[2])\n",
    "print(sess.run(tf.matmul(x,z)))"
   ]
  },
  {
   "cell_type": "code",
   "execution_count": 43,
   "metadata": {},
   "outputs": [
    {
     "name": "stdout",
     "output_type": "stream",
     "text": [
      "해:  [[ 1.0000002]\n",
      " [-2.0000005]\n",
      " [ 1.0000002]]\n"
     ]
    }
   ],
   "source": [
    "# matrix_solve(x,y) => (역행렬을 구하고, 곱해주는 아이)\n",
    "x_1 = tf.matrix_inverse(x)\n",
    "z = tf.matmul(x_1,y)\n",
    "print(\"해: \",sess.run(z))"
   ]
  },
  {
   "cell_type": "code",
   "execution_count": 46,
   "metadata": {},
   "outputs": [
    {
     "name": "stdout",
     "output_type": "stream",
     "text": [
      "[9.508034   0.77286935]\n",
      "[[-0.38631773 -0.92236584]\n",
      " [-0.92236584  0.38631773]]\n",
      "[[-0.42866713  0.8059641 ]\n",
      " [-0.56630695  0.1123824 ]\n",
      " [-0.70394677 -0.58119917]]\n"
     ]
    }
   ],
   "source": [
    "# 특이행렬분해 (singular value decomposition) : 행열이 다를때\n",
    "# PCA 할 때 - 고유값분해 eigenvalue + eigenvector : 정방행렬\n",
    "a = tf.constant([1,2,3,4,5,6],shape=[2,3])\n",
    "a = tf.to_float(a)\n",
    "# 행과 열의 특징을 별도로 뽑음\n",
    "# 정방행렬\n",
    "# truncate : \n",
    "s, u, v = tf.svd(a) # singula value, u(2x2)-정방, s(1x2)-연결시켜주는것, v(3x2)-정방\n",
    "print(sess.run(s))\n",
    "print(sess.run(u))\n",
    "print(sess.run(v))"
   ]
  },
  {
   "cell_type": "code",
   "execution_count": 47,
   "metadata": {},
   "outputs": [
    {
     "name": "stdout",
     "output_type": "stream",
     "text": [
      "[[1 0 0 0]\n",
      " [0 2 0 0]\n",
      " [0 0 3 0]\n",
      " [0 0 0 4]]\n"
     ]
    }
   ],
   "source": [
    "diagonal = [1,2,3,4]\n",
    "dia = tf.diag(diagonal) # 대각행렬 - one-hot-encoding 할 때 많이 사용\n",
    "print(sess.run(dia))"
   ]
  },
  {
   "cell_type": "code",
   "execution_count": 48,
   "metadata": {},
   "outputs": [
    {
     "name": "stdout",
     "output_type": "stream",
     "text": [
      "[1 2 3 4]\n",
      "10\n"
     ]
    }
   ],
   "source": [
    "print(sess.run(tf.diag_part(dia)))\n",
    "print(sess.run(tf.trace(dia))) # 대각요소의 합계"
   ]
  },
  {
   "cell_type": "code",
   "execution_count": 49,
   "metadata": {},
   "outputs": [
    {
     "data": {
      "text/plain": [
       "array([[ 58,  64],\n",
       "       [139, 154]])"
      ]
     },
     "execution_count": 49,
     "metadata": {},
     "output_type": "execute_result"
    }
   ],
   "source": [
    "import numpy as np\n",
    "a = tf.constant([1,2,3,4,5,6],shape=[2,3])\n",
    "b = tf.constant([7,8,9,10,11,12],shape=[3,2])\n",
    "c = tf.matmul(a,b) \n",
    "sess.run(c) # 2x2"
   ]
  },
  {
   "cell_type": "code",
   "execution_count": 51,
   "metadata": {},
   "outputs": [
    {
     "name": "stdout",
     "output_type": "stream",
     "text": [
      "[[[ 1  2  3]\n",
      "  [ 4  5  6]]\n",
      "\n",
      " [[ 7  8  9]\n",
      "  [10 11 12]]]\n",
      "[[[13 14]\n",
      "  [15 16]\n",
      "  [17 18]]\n",
      "\n",
      " [[19 20]\n",
      "  [21 22]\n",
      "  [23 24]]]\n"
     ]
    },
    {
     "data": {
      "text/plain": [
       "array([[[ 94, 100],\n",
       "        [229, 244]],\n",
       "\n",
       "       [[508, 532],\n",
       "        [697, 730]]])"
      ]
     },
     "execution_count": 51,
     "metadata": {},
     "output_type": "execute_result"
    }
   ],
   "source": [
    "# 행열: 행과 열을 확인하고 앞의 것은 개수 어떻게 층을 이루고 있는가를 보여줌\n",
    "# 뒤에 두개 만 보면된다.[ ,2,3]\n",
    "a = tf.constant(np.arange(1,13,dtype=np.int32),shape=[2,2,3]) # 행열을 중심하고 데이터 표현\n",
    "print(sess.run(a))\n",
    "b = tf.constant(np.arange(13,25,dtype=np.int32),shape=[2,3,2])\n",
    "print(sess.run(b))\n",
    "c = tf.matmul(a,b)\n",
    "sess.run(c) # 2x2x2"
   ]
  },
  {
   "cell_type": "code",
   "execution_count": null,
   "metadata": {},
   "outputs": [],
   "source": [
    "# 4차원 행렬곱"
   ]
  },
  {
   "cell_type": "code",
   "execution_count": 54,
   "metadata": {},
   "outputs": [
    {
     "name": "stdout",
     "output_type": "stream",
     "text": [
      "[[[[ 1  2  3]\n",
      "   [ 4  5  6]]\n",
      "\n",
      "  [[ 7  8  9]\n",
      "   [10 11 12]]]\n",
      "\n",
      "\n",
      " [[[13 14 15]\n",
      "   [16 17 18]]\n",
      "\n",
      "  [[19 20 21]\n",
      "   [22 23 24]]]]\n",
      "[[[[25 26]\n",
      "   [27 28]\n",
      "   [29 30]]\n",
      "\n",
      "  [[31 32]\n",
      "   [33 34]\n",
      "   [35 36]]]\n",
      "\n",
      "\n",
      " [[[37 38]\n",
      "   [39 40]\n",
      "   [41 42]]\n",
      "\n",
      "  [[43 44]\n",
      "   [45 46]\n",
      "   [47 48]]]]\n"
     ]
    },
    {
     "data": {
      "text/plain": [
       "array([[[[ 166,  172],\n",
       "         [ 409,  424]],\n",
       "\n",
       "        [[ 796,  820],\n",
       "         [1093, 1126]]],\n",
       "\n",
       "\n",
       "       [[[1642, 1684],\n",
       "         [1993, 2044]],\n",
       "\n",
       "        [[2704, 2764],\n",
       "         [3109, 3178]]]])"
      ]
     },
     "execution_count": 54,
     "metadata": {},
     "output_type": "execute_result"
    }
   ],
   "source": [
    "a = tf.constant(np.arange(1,25,dtype=np.int32),shape=[2,2,2,3]) # 행열을 중심하고 데이터 표현\n",
    "print(sess.run(a))\n",
    "b = tf.constant(np.arange(25,49,dtype=np.int32),shape=[2,2,3,2])\n",
    "print(sess.run(b))\n",
    "c = tf.matmul(a,b)\n",
    "sess.run(c) # 2x2 => 4개"
   ]
  },
  {
   "cell_type": "code",
   "execution_count": 57,
   "metadata": {},
   "outputs": [
    {
     "name": "stdout",
     "output_type": "stream",
     "text": [
      "[[[[  14   32]\n",
      "   [  32   77]]\n",
      "\n",
      "  [[ 194  266]\n",
      "   [ 266  365]]]\n",
      "\n",
      "\n",
      " [[[ 590  716]\n",
      "   [ 716  869]]\n",
      "\n",
      "  [[1202 1382]\n",
      "   [1382 1589]]]]\n"
     ]
    },
    {
     "data": {
      "text/plain": [
       "<tf.Tensor 'MatMul_9:0' shape=(2, 2, 2, 2) dtype=int32>"
      ]
     },
     "execution_count": 57,
     "metadata": {},
     "output_type": "execute_result"
    }
   ],
   "source": [
    "# a를 제곱한다면 : 자기자신을 제곱하려면\n",
    "# 뒤에 두개만 바꾸면 된다.\n",
    "d = tf.matmul(a, tf.transpose(a, perm=[0,1,3,2]))\n",
    "print(sess.run(d))\n",
    "tf.matmul(a,a,transpose_b = True) # 전치해서 자기 제곱을 하라 ( 다차원 행렬 일때 )"
   ]
  },
  {
   "cell_type": "code",
   "execution_count": 63,
   "metadata": {},
   "outputs": [
    {
     "name": "stdout",
     "output_type": "stream",
     "text": [
      "[2 2 3]\n"
     ]
    },
    {
     "data": {
      "text/plain": [
       "array([[[ 1,  7],\n",
       "        [ 4, 10]],\n",
       "\n",
       "       [[ 2,  8],\n",
       "        [ 5, 11]],\n",
       "\n",
       "       [[ 3,  9],\n",
       "        [ 6, 12]]])"
      ]
     },
     "execution_count": 63,
     "metadata": {},
     "output_type": "execute_result"
    }
   ],
   "source": [
    "                            # 0 1 2   \n",
    "x  = tf.constant([[[1,2,3], # 2x2x3 = > 제곱이 되려면 2x3x2\n",
    "                  [4,5,6]],\n",
    "                 [[7,8,9],\n",
    "                 [10,11,12]]])\n",
    "print(sess.run(tf.shape(x)))\n",
    "sess.run(tf.transpose(x)) # 3x2x2 : # 디폴트 2 1 0 ( 열, 행, 면 )"
   ]
  },
  {
   "cell_type": "code",
   "execution_count": 65,
   "metadata": {},
   "outputs": [
    {
     "data": {
      "text/plain": [
       "array([[[ 14,  32],\n",
       "        [ 32,  77]],\n",
       "\n",
       "       [[194, 266],\n",
       "        [266, 365]]])"
      ]
     },
     "execution_count": 65,
     "metadata": {},
     "output_type": "execute_result"
    }
   ],
   "source": [
    "sess.run(tf.matmul(x, tf.transpose(x, perm=[0,2,1])))"
   ]
  },
  {
   "cell_type": "code",
   "execution_count": 73,
   "metadata": {},
   "outputs": [
    {
     "data": {
      "text/plain": [
       "array([[[[[[1]],\n",
       "\n",
       "          [[2]],\n",
       "\n",
       "          [[3]]]],\n",
       "\n",
       "\n",
       "\n",
       "        [[[[4]],\n",
       "\n",
       "          [[5]],\n",
       "\n",
       "          [[6]]]]]])"
      ]
     },
     "execution_count": 73,
     "metadata": {},
     "output_type": "execute_result"
    }
   ],
   "source": [
    "t = [1,2,3,4,5,6]\n",
    "# 6차원으로 변환\n",
    "t = tf.reshape(t, [1,2,1,3,1,1]) # 묶고,두덩이,묶고,면,열,행\n",
    "sess.run(t)"
   ]
  },
  {
   "cell_type": "code",
   "execution_count": 74,
   "metadata": {},
   "outputs": [
    {
     "name": "stdout",
     "output_type": "stream",
     "text": [
      "t의 차원은  [1 2 1 3 1 1]\n"
     ]
    }
   ],
   "source": [
    "print(\"t의 차원은 \",sess.run(tf.shape(t)))"
   ]
  },
  {
   "cell_type": "code",
   "execution_count": 75,
   "metadata": {},
   "outputs": [
    {
     "name": "stdout",
     "output_type": "stream",
     "text": [
      "차원의 수를 축소할 때  [2 3]\n"
     ]
    }
   ],
   "source": [
    "print(\"차원의 수를 축소할 때 \",sess.run(tf.shape(tf.squeeze(t)))) # 요소가 1인 것을 다 없앰"
   ]
  },
  {
   "cell_type": "code",
   "execution_count": 76,
   "metadata": {},
   "outputs": [
    {
     "name": "stdout",
     "output_type": "stream",
     "text": [
      "[[ 1  2  3  4  5  6]\n",
      " [ 7  8  9 10 11 12]]\n",
      "[[[ 1  2  3]\n",
      "  [ 4  5  6]]\n",
      "\n",
      " [[ 7  8  9]\n",
      "  [10 11 12]]]\n"
     ]
    }
   ],
   "source": [
    "tensor = [1,2,3,4,5,6,7,8,9,10,11,12]\n",
    "print(sess.run(tf.reshape(tensor,[2,-1]))) # -1 : 계산해서 채워라\n",
    "tf.reshape(tensor,[-1,6])\n",
    "print(sess.run(tf.reshape(tensor, [2,-1,3])))"
   ]
  },
  {
   "cell_type": "code",
   "execution_count": 77,
   "metadata": {},
   "outputs": [
    {
     "name": "stdout",
     "output_type": "stream",
     "text": [
      "Tensor(\"ExpandDims_1:0\", shape=(1, 1, 2, 1, 3, 1, 1), dtype=int32)\n"
     ]
    }
   ],
   "source": [
    "# t: (1,) 1,2,1,3,1,1 # 1하나가 앞에 새로 생김\n",
    "print(tf.expand_dims(t,0)) # 차원 확대"
   ]
  },
  {
   "cell_type": "code",
   "execution_count": 79,
   "metadata": {},
   "outputs": [
    {
     "name": "stdout",
     "output_type": "stream",
     "text": [
      "[[0 0 0 0 0 0 0]\n",
      " [0 0 1 2 3 0 0]\n",
      " [0 0 4 5 6 0 0]\n",
      " [0 0 0 0 0 0 0]]\n"
     ]
    }
   ],
   "source": [
    "# padding 충전재\n",
    "t = [[1,2,3],[4,5,6]] # 2x3 => 4x7\n",
    "paddings = [[1,1],[2,2]] # 행을 위에 한줄 밑에 한줄, 열을 왼쪽 2줄 오른쪽 2줄\n",
    "print(sess.run(tf.pad(t, paddings, \"CONSTANT\"))) # \"CONSTANT\": 0으로?"
   ]
  },
  {
   "cell_type": "code",
   "execution_count": 80,
   "metadata": {},
   "outputs": [
    {
     "name": "stdout",
     "output_type": "stream",
     "text": [
      "[[5 4 5 6 5]\n",
      " [2 1 2 3 2]\n",
      " [5 4 5 6 5]\n",
      " [2 1 2 3 2]]\n"
     ]
    }
   ],
   "source": [
    "# 수를 채우는 방법\n",
    "paddings = [[1,1],[1,1]] # 4x5\n",
    "print(sess.run(tf.pad(t,paddings, \"REFLECT\"))) # \"REFLECT\": 기존숫자들을 반사해서"
   ]
  },
  {
   "cell_type": "code",
   "execution_count": 82,
   "metadata": {},
   "outputs": [
    {
     "name": "stdout",
     "output_type": "stream",
     "text": [
      "[[1 1 2 3 3]\n",
      " [1 1 2 3 3]\n",
      " [4 4 5 6 6]\n",
      " [4 4 5 6 6]]\n"
     ]
    }
   ],
   "source": [
    " print(sess.run(tf.pad(t, paddings, \"SYMMETRIC\"))) # \"SYMMETRIC\" : 확장된는 것"
   ]
  },
  {
   "cell_type": "markdown",
   "metadata": {},
   "source": [
    "# 다차 방정식의 해\n",
    "- 무작위 대입법\n",
    "- 역행렬을 구함 \n",
    "- 입출력 데이터만 : 계수결정 ( 가중치 학습을 통해서 학습 )"
   ]
  },
  {
   "cell_type": "code",
   "execution_count": 83,
   "metadata": {},
   "outputs": [
    {
     "data": {
      "text/plain": [
       "100"
      ]
     },
     "execution_count": 83,
     "metadata": {},
     "output_type": "execute_result"
    }
   ],
   "source": [
    "# 데이터로부터 규칙을 발견 -> 왜? 분류와 예측을 하기 위해서.\n",
    "import numpy as np\n",
    "import tensorflow as tf\n",
    "# 데이터 생성 => minibatch => feeding\n",
    "x_data = np.random.rand(100).astype(np.float32)\n",
    "y_data = x_data * 0.1 + 0.3 # 선형방정식\n",
    "len(y_data)"
   ]
  },
  {
   "cell_type": "code",
   "execution_count": 84,
   "metadata": {},
   "outputs": [],
   "source": [
    "# 가중치와 바이어스\n",
    "# 설명력\n",
    "# bias는 activation 1\n",
    "# 가중치에는 꼭 바이어스가 한개씩 결합\n",
    "W = tf.Variable(tf.random_uniform([1],-1.0,1.0)) # 균등분포\n",
    "b = tf.Variable(tf.zeros([1])) # 바이어스\n",
    "sess = tf.Session()\n",
    "y = W*x_data + b # 예측 # 가중치 * data + 바이어스"
   ]
  },
  {
   "cell_type": "code",
   "execution_count": 85,
   "metadata": {},
   "outputs": [],
   "source": [
    "# loss function : mse - 2차원인 경우 포물선을 이루고 최적점은 한개\n",
    "loss = tf.reduce_mean(tf.square(y - y_data)) # y : 예측치, y_data : 실제값\n",
    "# 경사하강법\n",
    "# 기울기 : 미분을 이용해서 '-' 면 가중치에 차를 더해주고,\n",
    "#                          '+' 면 다중치에 감하는 연산\n",
    "optimizer = tf.train.GradientDescentOptimizer(0.5) # learning rate ( 학습율 )\n",
    "train = optimizer.minimize(loss) # loss를 최적화하라."
   ]
  },
  {
   "cell_type": "code",
   "execution_count": 86,
   "metadata": {},
   "outputs": [],
   "source": [
    "init = tf.global_variables_initializer() # session을 실행하기 전에만 호출(초기화) 해주면 된다.\n",
    "sess.run(init)"
   ]
  },
  {
   "cell_type": "code",
   "execution_count": 87,
   "metadata": {},
   "outputs": [
    {
     "name": "stdout",
     "output_type": "stream",
     "text": [
      "0 [-0.44273448] [0.6836782]\n",
      "20 [-0.03550929] [0.36161187]\n",
      "40 [0.06910295] [0.31404793]\n",
      "60 [0.09295526] [0.30320305]\n",
      "80 [0.09839375] [0.30073032]\n",
      "100 [0.09963378] [0.30016652]\n",
      "120 [0.09991649] [0.30003798]\n",
      "140 [0.09998096] [0.30000865]\n",
      "160 [0.09999566] [0.30000198]\n",
      "180 [0.09999903] [0.30000046]\n",
      "200 [0.09999977] [0.3000001]\n"
     ]
    }
   ],
   "source": [
    "for step in range(201) : # 200번 회전\n",
    "    sess.run(train)\n",
    "    if step % 20 == 0: # 20 번 마다 출력하라 \n",
    "        print(step, sess.run(W), sess.run(b)) # 0.1 + 0.3"
   ]
  },
  {
   "cell_type": "markdown",
   "metadata": {},
   "source": [
    "# 주입변수로"
   ]
  },
  {
   "cell_type": "code",
   "execution_count": 91,
   "metadata": {},
   "outputs": [],
   "source": [
    "x = tf.placeholder(tf.float32, name='x')\n",
    "y = tf.placeholder(tf.float32)\n",
    "\n",
    "W = tf.Variable(tf.random_uniform([1],-1.0,1.0)) # 균등분포\n",
    "b = tf.Variable(tf.zeros([1])) # 바이어스\n",
    "sess = tf.Session()\n",
    "y_model = W*x + b"
   ]
  },
  {
   "cell_type": "code",
   "execution_count": 92,
   "metadata": {},
   "outputs": [],
   "source": [
    "# loss function : mse - 2차원인 경우 포물선을 이루고 최적점은 한개\n",
    "loss = tf.reduce_mean(tf.square(y_model - y)) # y : 예측치, y_data : 실제값\n",
    "# 경사하강법\n",
    "# 기울기 : 미분을 이용해서 '-' 면 가중치에 차를 더해주고,\n",
    "#                          '+' 면 다중치에 감하는 연산\n",
    "optimizer = tf.train.GradientDescentOptimizer(0.5) # learning rate ( 학습율 )\n",
    "train = optimizer.minimize(loss) # loss를 최적화하라."
   ]
  },
  {
   "cell_type": "code",
   "execution_count": 96,
   "metadata": {},
   "outputs": [],
   "source": [
    "init = tf.global_variables_initializer() # session을 실행하기 전에만 호출(초기화) 해주면 된다.\n",
    "sess.run(init)"
   ]
  },
  {
   "cell_type": "code",
   "execution_count": 97,
   "metadata": {
    "scrolled": true
   },
   "outputs": [
    {
     "name": "stdout",
     "output_type": "stream",
     "text": [
      "0 [-0.1877116] [0.537511]\n",
      "20 [0.02523354] [0.333994]\n",
      "40 [0.08295273] [0.30775088]\n",
      "60 [0.09611312] [0.30176726]\n",
      "80 [0.09911376] [0.30040297]\n",
      "100 [0.09979793] [0.3000919]\n",
      "120 [0.09995393] [0.30002096]\n",
      "140 [0.0999895] [0.30000478]\n",
      "160 [0.09999762] [0.30000108]\n",
      "180 [0.09999945] [0.30000025]\n",
      "200 [0.09999988] [0.30000007]\n"
     ]
    }
   ],
   "source": [
    "for step in range(201) : # 200번 회전\n",
    "    sess.run(train, {x:x_data, y:y_data})\n",
    "    if step % 20 == 0: # 20 번 마다 출력하라 \n",
    "        print(step, sess.run(W), sess.run(b)) # 0.1 + 0.3"
   ]
  },
  {
   "cell_type": "code",
   "execution_count": 98,
   "metadata": {},
   "outputs": [],
   "source": [
    "predicted = sess.run(y_model, {x: [ i for i in range(100)]})"
   ]
  },
  {
   "cell_type": "code",
   "execution_count": 99,
   "metadata": {},
   "outputs": [
    {
     "data": {
      "text/plain": [
       "<function matplotlib.pyplot.show(*args, **kw)>"
      ]
     },
     "execution_count": 99,
     "metadata": {},
     "output_type": "execute_result"
    },
    {
     "data": {
      "image/png": "[encoded data removed]",
      "text/plain": [
       "<Figure size 432x288 with 1 Axes>"
      ]
     },
     "metadata": {
      "needs_background": "light"
     },
     "output_type": "display_data"
    }
   ],
   "source": [
    "%matplotlib inline\n",
    "import matplotlib.pyplot as plt\n",
    "\n",
    "plt.plot(x_data,y_data, 'o', markersize = 2)\n",
    "plt.plot(predicted, 'r')\n",
    "\n",
    "plt.show"
   ]
  },
  {
   "cell_type": "code",
   "execution_count": 100,
   "metadata": {},
   "outputs": [],
   "source": [
    "from tensorflow.python.framework import ops\n",
    "import os\n",
    "ops.reset_default_graph()"
   ]
  },
  {
   "cell_type": "code",
   "execution_count": 102,
   "metadata": {},
   "outputs": [
    {
     "name": "stdout",
     "output_type": "stream",
     "text": [
      "[1. 3. 5. 7. 9.]\n",
      "[ 3.  9. 15. 21. 27.]\n",
      "[ 5. 15. 25. 35. 45.]\n",
      "[ 7. 21. 35. 49. 63.]\n",
      "[ 9. 27. 45. 63. 81.]\n"
     ]
    }
   ],
   "source": [
    "sess = tf.Session()\n",
    "x_vals = np.array([1.,3.,5.,7.,9.])\n",
    "y_vals = np.array([1.,3.,5.,7.,9.])\n",
    "x_data = tf.placeholder(tf.float32)\n",
    "y_data = tf.placeholder(tf.float32)\n",
    "m = tf.constant(3.)\n",
    "prod = tf.multiply(x_data, y_data)\n",
    "for x_val in x_vals : \n",
    "    print(sess.run(prod, feed_dict={x_data:x_val, y_data:y_vals}))"
   ]
  },
  {
   "cell_type": "code",
   "execution_count": 104,
   "metadata": {},
   "outputs": [],
   "source": [
    "merged = tf.summary.merge_all()\n",
    "if not os.path.exists('c://tmp/tensorboard_logs/'):\n",
    "    os.makedirs('c://tmp/tensorboard_logs/')\n",
    "    \n",
    "my_writer = tf.summary.FileWriter('c://tmp/tensorboard_logs/',sess.graph)\n",
    "# prompt\n",
    "# tensorboard --logdir=/tmp\n",
    "# http://localhost:6006/#graphs&run=tensorboard_logs"
   ]
  },
  {
   "cell_type": "code",
   "execution_count": 110,
   "metadata": {},
   "outputs": [],
   "source": [
    "import numpy\n",
    "rng = numpy.random\n",
    "\n",
    "# 상수화할 때 좋은 점 : 수정할 일이 줄어들게 되어지기 때문에\n",
    "learning_rate = 0.01\n",
    "training_epochs = 4000\n",
    "display_step = 50\n",
    "\n",
    "train_X = numpy.asarray([3.3,4.4,5.5,6.71,6.93,4.168,9.779,6.182,7.59,2.167,7.042,10.791,5.313,7.997,5.654,9.27,3.1])\n",
    "train_Y = numpy.asarray([1.7,2.76,2.09,3.19,1.694,1.573,3.366,2.596,2.53,1.221,2.827,3.465,1.65,2.904,2.42,2.94,1.3]) "
   ]
  },
  {
   "cell_type": "code",
   "execution_count": 118,
   "metadata": {},
   "outputs": [
    {
     "name": "stdout",
     "output_type": "stream",
     "text": [
      "WARNING:tensorflow:From C:\\Users\\ICT01_14\\.conda\\envs\\tf_test\\lib\\site-packages\\tensorflow\\python\\util\\tf_should_use.py:193: initialize_all_variables (from tensorflow.python.ops.variables) is deprecated and will be removed after 2017-03-02.\n",
      "Instructions for updating:\n",
      "Use `tf.global_variables_initializer` instead.\n"
     ]
    }
   ],
   "source": [
    "# data point : 관측치\n",
    "# 변수개수\n",
    "n_samples = train_X.shape[0] # 차수 : 행(3,4) : 인덱스 접근\n",
    "X = tf.placeholder(\"float\")\n",
    "Y = tf.placeholder(\"float\")\n",
    "W = tf.Variable(rng.randn(), name=\"weight\") # 설명\n",
    "b = tf.Variable(rng.randn(), name=\"bias\") # activation 활성화\n",
    "activation = tf.add(tf.multiply(X,W),b) # y = ax + b\n",
    "cost = tf.reduce_sum(tf.pow(activation-Y,2))/(2*n_samples) # (2*n_samples) : minibatch size를 고려하는 것\n",
    "# 역전파: optimizer도 hyperparmeter\n",
    "optimizer = tf.train.GradientDescentOptimizer( # momentum : 고려\n",
    "    learning_rate).minimize(cost) # hyper parameter\n",
    "init = tf.initialize_all_variables()"
   ]
  },
  {
   "cell_type": "code",
   "execution_count": 119,
   "metadata": {
    "scrolled": true
   },
   "outputs": [
    {
     "name": "stdout",
     "output_type": "stream",
     "text": [
      "Epoch:  0001 cost= 1.876531482 W= 0.07170692 b= 0.06977872\n",
      "Epoch:  0051 cost= 0.103146747 W= 0.34014484 b= 0.15004717\n",
      "Epoch:  0101 cost= 0.100120448 W= 0.33475935 b= 0.18879032\n",
      "Epoch:  0151 cost= 0.097443894 W= 0.3296941 b= 0.22522914\n",
      "Epoch:  0201 cost= 0.095076665 W= 0.3249301 b= 0.25950083\n",
      "Epoch:  0251 cost= 0.092983037 W= 0.32044944 b= 0.29173437\n",
      "Epoch:  0301 cost= 0.091131404 W= 0.3162352 b= 0.32205066\n",
      "Epoch:  0351 cost= 0.089493863 W= 0.3122719 b= 0.35056332\n",
      "Epoch:  0401 cost= 0.088045612 W= 0.30854407 b= 0.37738097\n",
      "Epoch:  0451 cost= 0.086764790 W= 0.3050379 b= 0.40260392\n",
      "Epoch:  0501 cost= 0.085632168 W= 0.3017405 b= 0.42632547\n",
      "Epoch:  0551 cost= 0.084630474 W= 0.29863912 b= 0.44863695\n",
      "Epoch:  0601 cost= 0.083744630 W= 0.29572198 b= 0.469622\n",
      "Epoch:  0651 cost= 0.082961313 W= 0.29297853 b= 0.48935834\n",
      "Epoch:  0701 cost= 0.082268625 W= 0.2903983 b= 0.5079207\n",
      "Epoch:  0751 cost= 0.081656098 W= 0.28797138 b= 0.52537924\n",
      "Epoch:  0801 cost= 0.081114478 W= 0.28568894 b= 0.54179925\n",
      "Epoch:  0851 cost= 0.080635495 W= 0.2835421 b= 0.5572432\n",
      "Epoch:  0901 cost= 0.080212034 W= 0.28152296 b= 0.5717686\n",
      "Epoch:  0951 cost= 0.079837583 W= 0.2796239 b= 0.5854303\n",
      "Epoch:  1001 cost= 0.079506464 W= 0.2778376 b= 0.5982805\n",
      "Epoch:  1051 cost= 0.079213724 W= 0.2761576 b= 0.61036694\n",
      "Epoch:  1101 cost= 0.078954980 W= 0.27457783 b= 0.6217319\n",
      "Epoch:  1151 cost= 0.078726210 W= 0.273092 b= 0.6324205\n",
      "Epoch:  1201 cost= 0.078523964 W= 0.2716945 b= 0.6424738\n",
      "Epoch:  1251 cost= 0.078345180 W= 0.2703801 b= 0.6519297\n",
      "Epoch:  1301 cost= 0.078187115 W= 0.26914373 b= 0.66082394\n",
      "Epoch:  1351 cost= 0.078047425 W= 0.2679811 b= 0.6691879\n",
      "Epoch:  1401 cost= 0.077923954 W= 0.26688755 b= 0.67705464\n",
      "Epoch:  1451 cost= 0.077814803 W= 0.26585907 b= 0.68445367\n",
      "Epoch:  1501 cost= 0.077718332 W= 0.26489177 b= 0.6914127\n",
      "Epoch:  1551 cost= 0.077633090 W= 0.26398188 b= 0.69795835\n",
      "Epoch:  1601 cost= 0.077557772 W= 0.26312616 b= 0.70411426\n",
      "Epoch:  1651 cost= 0.077491187 W= 0.2623212 b= 0.7099047\n",
      "Epoch:  1701 cost= 0.077432387 W= 0.2615642 b= 0.7153507\n",
      "Epoch:  1751 cost= 0.077380411 W= 0.2608521 b= 0.7204731\n",
      "Epoch:  1801 cost= 0.077334501 W= 0.26018253 b= 0.7252904\n",
      "Epoch:  1851 cost= 0.077293925 W= 0.2595527 b= 0.72982126\n",
      "Epoch:  1901 cost= 0.077258103 W= 0.25896013 b= 0.73408335\n",
      "Epoch:  1951 cost= 0.077226467 W= 0.25840312 b= 0.7380919\n",
      "Epoch:  2001 cost= 0.077198520 W= 0.25787908 b= 0.7418614\n",
      "Epoch:  2051 cost= 0.077173851 W= 0.25738612 b= 0.7454074\n",
      "Epoch:  2101 cost= 0.077152058 W= 0.25692272 b= 0.74874145\n",
      "Epoch:  2151 cost= 0.077132806 W= 0.2564867 b= 0.75187874\n",
      "Epoch:  2201 cost= 0.077115841 W= 0.25607663 b= 0.7548281\n",
      "Epoch:  2251 cost= 0.077100880 W= 0.25569078 b= 0.7576035\n",
      "Epoch:  2301 cost= 0.077087648 W= 0.25532803 b= 0.7602133\n",
      "Epoch:  2351 cost= 0.077075988 W= 0.25498694 b= 0.76266724\n",
      "Epoch:  2401 cost= 0.077065691 W= 0.25466588 b= 0.7649766\n",
      "Epoch:  2451 cost= 0.077056609 W= 0.2543642 b= 0.7671473\n",
      "Epoch:  2501 cost= 0.077048607 W= 0.2540803 b= 0.76918954\n",
      "Epoch:  2551 cost= 0.077041574 W= 0.25381327 b= 0.7711104\n",
      "Epoch:  2601 cost= 0.077035338 W= 0.25356215 b= 0.7729172\n",
      "Epoch:  2651 cost= 0.077029854 W= 0.2533261 b= 0.77461576\n",
      "Epoch:  2701 cost= 0.077025026 W= 0.25310385 b= 0.77621406\n",
      "Epoch:  2751 cost= 0.077020794 W= 0.25289473 b= 0.7777182\n",
      "Epoch:  2801 cost= 0.077017054 W= 0.25269824 b= 0.7791318\n",
      "Epoch:  2851 cost= 0.077013753 W= 0.25251356 b= 0.78046036\n",
      "Epoch:  2901 cost= 0.077010863 W= 0.25233957 b= 0.7817118\n",
      "Epoch:  2951 cost= 0.077008307 W= 0.25217617 b= 0.7828876\n",
      "Epoch:  3001 cost= 0.077006049 W= 0.25202212 b= 0.78399575\n",
      "Epoch:  3051 cost= 0.077004068 W= 0.25187755 b= 0.78503615\n",
      "Epoch:  3101 cost= 0.077002354 W= 0.25174174 b= 0.78601325\n",
      "Epoch:  3151 cost= 0.077000834 W= 0.25161427 b= 0.78692985\n",
      "Epoch:  3201 cost= 0.076999515 W= 0.25149435 b= 0.7877928\n",
      "Epoch:  3251 cost= 0.076998353 W= 0.25138146 b= 0.7886051\n",
      "Epoch:  3301 cost= 0.076997332 W= 0.25127536 b= 0.7893683\n",
      "Epoch:  3351 cost= 0.076996431 W= 0.25117537 b= 0.7900875\n",
      "Epoch:  3401 cost= 0.076995634 W= 0.25108144 b= 0.79076314\n",
      "Epoch:  3451 cost= 0.076994963 W= 0.25099292 b= 0.79139984\n",
      "Epoch:  3501 cost= 0.076994367 W= 0.25090978 b= 0.7919976\n",
      "Epoch:  3551 cost= 0.076993831 W= 0.25083172 b= 0.7925593\n",
      "Epoch:  3601 cost= 0.076993398 W= 0.2507586 b= 0.7930852\n",
      "Epoch:  3651 cost= 0.076992989 W= 0.25068966 b= 0.7935813\n",
      "Epoch:  3701 cost= 0.076992631 W= 0.2506245 b= 0.79405034\n",
      "Epoch:  3751 cost= 0.076992340 W= 0.25056344 b= 0.79448944\n",
      "Epoch:  3801 cost= 0.076992065 W= 0.2505059 b= 0.7949031\n",
      "Epoch:  3851 cost= 0.076991856 W= 0.2504519 b= 0.79529136\n",
      "Epoch:  3901 cost= 0.076991647 W= 0.25040087 b= 0.7956588\n",
      "Epoch:  3951 cost= 0.076991476 W= 0.2503532 b= 0.79600203\n",
      "최적화 종료\n",
      "cost= 0.07699135 W= 0.2503089 b= 0.7963206\n"
     ]
    },
    {
     "data": {
      "image/png": "[encoded data removed]",
      "text/plain": [
       "<Figure size 432x288 with 1 Axes>"
      ]
     },
     "metadata": {
      "needs_background": "light"
     },
     "output_type": "display_data"
    }
   ],
   "source": [
    "# 그래프 정의 : nod (연산) + edge (데이터 전달: tensor( 배열적 요소 + 행렬적 요소 ))\n",
    "# 전제조건 : GPU가 존재 => 네트워크로 연결\n",
    "\n",
    "with tf.Session() as sess: # 실행부\n",
    "    sess.run(init)\n",
    "    for epoch in range(training_epochs): # 세대\n",
    "        for(x,y) in zip(train_X, train_Y): # 데이터를 1개씩 feeding\n",
    "            sess.run(optimizer, feed_dict={X:x, Y:y})\n",
    "        # accuracy는 증가함수\n",
    "        if epoch % display_step == 0: # 비용함수 : 감소 : 우하향\n",
    "            print(\"Epoch: \",\"%04d\" % (epoch+1), \"cost=\",\"{:.9f}\".format(sess.run(cost,feed_dict={X:train_X,Y:train_Y})),\n",
    "                 \"W=\",sess.run(W), \"b=\",sess.run(b)) # 수렴값\n",
    "    print(\"최적화 종료\")\n",
    "    print(\"cost=\", sess.run(cost, feed_dict={X:train_X, Y:train_Y}),\n",
    "         \"W=\", sess.run(W), \"b=\",sess.run(b))\n",
    "    plt.plot(train_X, train_Y, 'ro', label='Original data')\n",
    "    # predict한 결과값 출력\n",
    "    plt.plot(train_X, sess.run(W)*train_X+sess.run(b),label='Fitted line')\n",
    "    plt.legend()\n",
    "    plt.show()"
   ]
  },
  {
   "cell_type": "code",
   "execution_count": 122,
   "metadata": {},
   "outputs": [],
   "source": [
    "# tensor -> 직접 시각화하는 것이 불가능 => numpy 포멧으로 변경\n",
    "import tensorflow as tf\n",
    "\n",
    "def run_variable(variable):\n",
    "    tf.global_variables_initializer()\n",
    "    with tf.Session() as sess:\n",
    "        return sess.run(variable)"
   ]
  },
  {
   "cell_type": "code",
   "execution_count": 126,
   "metadata": {},
   "outputs": [],
   "source": [
    "# my_distribution = tf.random_uniform((6,4),seed=42) # 24 # 데이터 수가 너무 적어서 균등분포가 되지 않는다.\n",
    "my_distribution = tf.random_uniform((600,400),seed=42) # 데이터의 개수에 따라 균등분포를 이루기도 이루지 않기도 한다.\n",
    "uniform = run_variable(my_distribution)"
   ]
  },
  {
   "cell_type": "code",
   "execution_count": 127,
   "metadata": {},
   "outputs": [
    {
     "data": {
      "image/png": "[encoded data removed]",
      "text/plain": [
       "<Figure size 432x288 with 1 Axes>"
      ]
     },
     "metadata": {
      "needs_background": "light"
     },
     "output_type": "display_data"
    }
   ],
   "source": [
    "from matplotlib import pyplot as plt\n",
    "plt.hist(uniform.flatten()) # 데이터가 메모리 저장 : 1차원\n",
    "plt.show()"
   ]
  },
  {
   "cell_type": "markdown",
   "metadata": {},
   "source": [
    "# activation 함수 : 활성화함수 : 회귀냐 분류냐를 결정\n",
    "- 비선형 매핑 ( 선형대수 -> 비선형문제로 변경 )\n",
    "- 가중치를 깊게하고 활성화함수 매핑으로 XOR 문제를 해결"
   ]
  },
  {
   "cell_type": "code",
   "execution_count": 128,
   "metadata": {},
   "outputs": [
    {
     "name": "stdout",
     "output_type": "stream",
     "text": [
      "[-10.          -9.7979798   -9.5959596   -9.39393939  -9.19191919\n",
      "  -8.98989899  -8.78787879  -8.58585859  -8.38383838  -8.18181818\n",
      "  -7.97979798  -7.77777778  -7.57575758  -7.37373737  -7.17171717\n",
      "  -6.96969697  -6.76767677  -6.56565657  -6.36363636  -6.16161616\n",
      "  -5.95959596  -5.75757576  -5.55555556  -5.35353535  -5.15151515\n",
      "  -4.94949495  -4.74747475  -4.54545455  -4.34343434  -4.14141414\n",
      "  -3.93939394  -3.73737374  -3.53535354  -3.33333333  -3.13131313\n",
      "  -2.92929293  -2.72727273  -2.52525253  -2.32323232  -2.12121212\n",
      "  -1.91919192  -1.71717172  -1.51515152  -1.31313131  -1.11111111\n",
      "  -0.90909091  -0.70707071  -0.50505051  -0.3030303   -0.1010101\n",
      "   0.1010101    0.3030303    0.50505051   0.70707071   0.90909091\n",
      "   1.11111111   1.31313131   1.51515152   1.71717172   1.91919192\n",
      "   2.12121212   2.32323232   2.52525253   2.72727273   2.92929293\n",
      "   3.13131313   3.33333333   3.53535354   3.73737374   3.93939394\n",
      "   4.14141414   4.34343434   4.54545455   4.74747475   4.94949495\n",
      "   5.15151515   5.35353535   5.55555556   5.75757576   5.95959596\n",
      "   6.16161616   6.36363636   6.56565657   6.76767677   6.96969697\n",
      "   7.17171717   7.37373737   7.57575758   7.77777778   7.97979798\n",
      "   8.18181818   8.38383838   8.58585859   8.78787879   8.98989899\n",
      "   9.19191919   9.39393939   9.5959596    9.7979798   10.        ]\n"
     ]
    }
   ],
   "source": [
    "import tensorflow as tf\n",
    "import numpy as np\n",
    "import matplotlib.pyplot as plt\n",
    "from tensorflow.python.framework import ops\n",
    "\n",
    "ops.reset_default_graph() # 그래프 초기화를 해줘야함\n",
    "sess = tf.Session()\n",
    "\n",
    "x_vals = np.linspace(start=-10, stop = 10, num=100)\n",
    "print(x_vals)"
   ]
  },
  {
   "cell_type": "code",
   "execution_count": 129,
   "metadata": {},
   "outputs": [
    {
     "name": "stdout",
     "output_type": "stream",
     "text": [
      "[-0.  3. 10.]\n",
      "[0.26894143 0.5        0.7310586 ]\n",
      "[-0.7615942  0.         0.7615942]\n",
      "[-0.63212055  0.          1.        ]\n",
      "[0.31326166 0.6931472  1.3132616 ]\n",
      "[4.53988992e-05 5.55621925e-05 6.80006294e-05 8.32234827e-05\n",
      " 1.01854002e-04 1.24654915e-04 1.52559623e-04 1.86710374e-04\n",
      " 2.28504961e-04 2.79653838e-04 3.42249995e-04 4.18854392e-04\n",
      " 5.12600439e-04 6.27321712e-04 7.67708042e-04 9.39496227e-04\n",
      " 1.14970295e-03 1.40690911e-03 1.72160671e-03 2.10662180e-03\n",
      " 2.57762963e-03 3.15378152e-03 3.85846667e-03 4.72023638e-03\n",
      " 5.77392318e-03 7.06199264e-03 8.63617122e-03 1.05593993e-02\n",
      " 1.29081631e-02 1.57752639e-02 1.92730804e-02 2.35373794e-02\n",
      " 2.87317129e-02 3.50524161e-02 4.27341757e-02 5.20560700e-02\n",
      " 6.33478781e-02 7.69963170e-02 9.34506760e-02 1.13227094e-01\n",
      " 1.36910472e-01 1.65152775e-01 1.98666320e-01 2.38210660e-01\n",
      " 2.84571982e-01 3.38534624e-01 4.00845440e-01 4.72173209e-01\n",
      " 5.53066799e-01 6.43916968e-01 7.44927069e-01 8.56097102e-01\n",
      " 9.77223714e-01 1.10791615e+00 1.24762553e+00 1.39568309e+00\n",
      " 1.55134197e+00 1.71381783e+00 1.88232449e+00 2.05610239e+00\n",
      " 2.23443922e+00 2.41668300e+00 2.60224884e+00 2.79062061e+00\n",
      " 2.98134900e+00 3.17404731e+00 3.36838575e+00 3.56408525e+00\n",
      " 3.76091112e+00 3.95866702e+00 4.15718941e+00 4.35634251e+00\n",
      " 4.55601394e+00 4.75611092e+00 4.95655694e+00 5.15728907e+00\n",
      " 5.35825559e+00 5.55941402e+00 5.76072954e+00 5.96217359e+00\n",
      " 6.16372278e+00 6.36535797e+00 6.56706347e+00 6.76882647e+00\n",
      " 6.97063647e+00 7.17248488e+00 7.37436470e+00 7.57627018e+00\n",
      " 7.77819663e+00 7.98014023e+00 8.18209784e+00 8.38406689e+00\n",
      " 8.58604530e+00 8.78803135e+00 8.99002364e+00 9.19202105e+00\n",
      " 9.39402262e+00 9.59602760e+00 9.79803536e+00 1.00000454e+01]\n",
      "[-0.9999546  -0.99994444 -0.999932   -0.99991677 -0.99989814 -0.99987534\n",
      " -0.99984743 -0.99981327 -0.99977147 -0.99972031 -0.99965769 -0.99958106\n",
      " -0.99948727 -0.99937248 -0.999232   -0.99906006 -0.99884964 -0.9985921\n",
      " -0.99827691 -0.99789116 -0.99741905 -0.99684124 -0.99613408 -0.99526861\n",
      " -0.99420938 -0.99291301 -0.99132643 -0.98938465 -0.98700817 -0.98409965\n",
      " -0.98053999 -0.97618343 -0.97085155 -0.96432601 -0.95633957 -0.94656519\n",
      " -0.9346026  -0.9199619  -0.90204355 -0.88011378 -0.85327452 -0.82042669\n",
      " -0.78022512 -0.73102351 -0.67080701 -0.59710968 -0.50691352 -0.3965249\n",
      " -0.26142329 -0.0960761   0.1010101   0.3030303   0.50505051  0.70707071\n",
      "  0.90909091  1.11111111  1.31313131  1.51515152  1.71717172  1.91919192\n",
      "  2.12121212  2.32323232  2.52525253  2.72727273  2.92929293  3.13131313\n",
      "  3.33333333  3.53535354  3.73737374  3.93939394  4.14141414  4.34343434\n",
      "  4.54545455  4.74747475  4.94949495  5.15151515  5.35353535  5.55555556\n",
      "  5.75757576  5.95959596  6.16161616  6.36363636  6.56565657  6.76767677\n",
      "  6.96969697  7.17171717  7.37373737  7.57575758  7.77777778  7.97979798\n",
      "  8.18181818  8.38383838  8.58585859  8.78787879  8.98989899  9.19191919\n",
      "  9.39393939  9.5959596   9.7979798  10.        ]\n"
     ]
    },
    {
     "data": {
      "image/png": "[encoded data removed]",
      "text/plain": [
       "<Figure size 432x288 with 1 Axes>"
      ]
     },
     "metadata": {
      "needs_background": "light"
     },
     "output_type": "display_data"
    },
    {
     "data": {
      "image/png": "[encoded data removed]",
      "text/plain": [
       "<Figure size 432x288 with 1 Axes>"
      ]
     },
     "metadata": {
      "needs_background": "light"
     },
     "output_type": "display_data"
    }
   ],
   "source": [
    "print(sess.run(tf.nn.relu([-3.,3.,10.]))) # 0~oo\n",
    "y_relu = sess.run(tf.nn.relu(x_vals))\n",
    "print(sess.run(tf.nn.sigmoid([-1.,0.,1.]))) #0~1\n",
    "y_sigmoid = sess.run(tf.nn.sigmoid(x_vals))\n",
    "print(sess.run(tf.nn.tanh([-1.,0.,1.]))) # -1~1\n",
    "y_tanh = sess.run(tf.nn.tanh(x_vals))\n",
    "print(sess.run(tf.nn.elu([-1.,0.,1.])))# -1~oo 수정본\n",
    "y_elu = sess.run(tf.nn.elu(x_vals))\n",
    "print(sess.run(tf.nn.softplus([-1.,0.,1.]))) # 각진 단점 보완\n",
    "y_softplus = sess.run(tf.nn.softplus(x_vals))\n",
    "print(y_softplus)\n",
    "print(y_elu)\n",
    "\n",
    "plt.plot(x_vals, y_relu, 'b:', label='ReLu', linewidth=2)\n",
    "plt.plot(x_vals, y_elu, 'k-', label='ExpLu', linewidth=0.5)\n",
    "plt.ylim([-1.5,7])\n",
    "plt.legend(loc='upper left')\n",
    "plt.show()\n",
    "plt.plot(x_vals, y_sigmoid, 'r--', label = 'Sigmoid', linewidth=2)\n",
    "plt.plot(x_vals, y_tanh, 'b:', label='Tanh', linewidth=2)\n",
    "plt.ylim([-2,2])\n",
    "plt.legend(loc='upper left')\n",
    "plt.show()"
   ]
  },
  {
   "cell_type": "code",
   "execution_count": 130,
   "metadata": {},
   "outputs": [],
   "source": [
    "ops.reset_default_graph() # 그래프 초기화\n",
    "sess = tf.Session()\n",
    "tf.set_random_seed(5) # 시드의 초기값\n",
    "np.random.seed(42)\n",
    "batch_size = 50\n",
    "a1 = tf.Variable(tf.random_normal(shape=[1,1])) # 가중치\n",
    "b1 = tf.Variable(tf.random_uniform(shape=[1,1])) # bias\n",
    "a2 = tf.Variable(tf.random_normal(shape=[1,1]))\n",
    "b2 = tf.Variable(tf.random_uniform(shape=[1,1]))\n",
    "x = np.random.normal(2,0.1,500) # \n",
    "# 사이즈 fix하지 않고 입력 데이터로 부터 계산\n",
    "# 행데이터로 생성\n",
    "# ex) [1,2,3,2,12,2,1,23,21,3]\n",
    "x_data = tf.placeholder(shape=[None,1],dtype=tf.float32)"
   ]
  },
  {
   "cell_type": "code",
   "execution_count": 131,
   "metadata": {},
   "outputs": [
    {
     "name": "stdout",
     "output_type": "stream",
     "text": [
      "\n",
      " Sogmoid AND Relu 함수의 최적화 0.75\n"
     ]
    }
   ],
   "source": [
    "# y = ax + b (0 ~ 1사이 값으로 mapping)\n",
    "sigmoid_activation = tf.sigmoid(tf.add(tf.matmul(x_data,a1),b1))\n",
    "# 0~ oo\n",
    "relu_activation = tf.nn.relu(tf.add(tf.matmul(x_data,a2),b2))\n",
    "# 0.75로 수렴과정\n",
    "# MSE\n",
    "loss1 = tf.reduce_mean(tf.square(tf.subtract(sigmoid_activation,0.75)))\n",
    "loss2 = tf.reduce_mean(tf.square(tf.subtract(relu_activation,0.75)))\n",
    "init = tf.global_variables_initializer()\n",
    "sess.run(init)\n",
    "my_opt = tf.train.GradientDescentOptimizer(0.01)\n",
    "train_step_sigmoid = my_opt.minimize(loss1)\n",
    "train_step_relu = my_opt.minimize(loss2)\n",
    "print(\"\\n Sogmoid AND Relu 함수의 최적화 0.75\")"
   ]
  },
  {
   "cell_type": "code",
   "execution_count": 132,
   "metadata": {},
   "outputs": [],
   "source": [
    "loss_vec_sigmoid = [] # 로스트값을 저장\n",
    "loss_vec_relu = []"
   ]
  },
  {
   "cell_type": "code",
   "execution_count": 139,
   "metadata": {},
   "outputs": [
    {
     "name": "stdout",
     "output_type": "stream",
     "text": [
      "sigmoid = 0.74255234relu = 0.7470662\n",
      "sigmoid = 0.744701relu = 0.74511236\n",
      "sigmoid = 0.74466586relu = 0.7489267\n",
      "sigmoid = 0.7458611relu = 0.74801934\n",
      "sigmoid = 0.7469693relu = 0.7465224\n",
      "sigmoid = 0.7467104relu = 0.7513894\n",
      "sigmoid = 0.7482414relu = 0.74684614\n",
      "sigmoid = 0.748432relu = 0.7467455\n",
      "sigmoid = 0.7490696relu = 0.7446129\n",
      "sigmoid = 0.748492relu = 0.74965477\n"
     ]
    }
   ],
   "source": [
    "for i in range(500):\n",
    "    # 500 -> 50\n",
    "    rand_indices = np.random.choice(len(x), size=batch_size)\n",
    "    x_vals = np.transpose([x[rand_indices]]) # 모양을 맞추기 위해\n",
    "    sess.run(train_step_sigmoid, feed_dict={x_data: x_vals})\n",
    "    sess.run(train_step_relu, feed_dict={x_data:x_vals})\n",
    "    loss_vec_sigmoid.append(sess.run(loss1,feed_dict={x_data:x_vals}))\n",
    "    loss_vec_relu.append(sess.run(loss2, feed_dict={x_data:x_vals}))\n",
    "    sigmoid_output = np.mean(sess.run(sigmoid_activation,feed_dict={x_data:x_vals}))\n",
    "    relu_output = np.mean(sess.run(relu_activation,feed_dict={x_data:x_vals})) # relu가 데이터가 조금 적어도 빠르게 0.75에 수렴\n",
    "    if i%50==0:\n",
    "        print('sigmoid = ' + str(np.mean(sigmoid_output))+'relu = '+str(np.mean(relu_output)))\n",
    "# 0.75 수렴하는 과정"
   ]
  },
  {
   "cell_type": "code",
   "execution_count": 140,
   "metadata": {},
   "outputs": [
    {
     "data": {
      "image/png": "[encoded data removed]",
      "text/plain": [
       "<Figure size 432x288 with 1 Axes>"
      ]
     },
     "metadata": {
      "needs_background": "light"
     },
     "output_type": "display_data"
    }
   ],
   "source": [
    "plt.plot(loss_vec_sigmoid, 'k-', label='Sigmoid Activation')\n",
    "plt.plot(loss_vec_relu, 'r--', label='Relu Activation')\n",
    "plt.ylim([0, 1.0])\n",
    "plt.title(' loss per Generation')\n",
    "plt.xlabel('Generation')\n",
    "plt.ylabel('Loss')\n",
    "plt.legend(loc='upper right')\n",
    "plt.show() "
   ]
  }
 ],
 "metadata": {
  "kernelspec": {
   "display_name": "Python 3",
   "language": "python",
   "name": "python3"
  },
  "language_info": {
   "codemirror_mode": {
    "name": "ipython",
    "version": 3
   },
   "file_extension": ".py",
   "mimetype": "text/x-python",
   "name": "python",
   "nbconvert_exporter": "python",
   "pygments_lexer": "ipython3",
   "version": "3.7.6"
  }
 },
 "nbformat": 4,
 "nbformat_minor": 4
}
