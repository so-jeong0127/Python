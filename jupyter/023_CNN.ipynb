{
 "cells": [
  {
   "cell_type": "code",
   "execution_count": null,
   "metadata": {},
   "outputs": [],
   "source": [
    "# CNN : 프로젝트\n",
    "K.set_image_data_format('channels_first') # 'channels_last'"
   ]
  },
  {
   "cell_type": "code",
   "execution_count": 1,
   "metadata": {
    "collapsed": true
   },
   "outputs": [
    {
     "name": "stderr",
     "output_type": "stream",
     "text": [
      "Using TensorFlow backend.\n",
      "C:\\Users\\ICT01_06\\Anaconda3\\envs\\tf_test\\lib\\site-packages\\tensorflow\\python\\framework\\dtypes.py:516: FutureWarning: Passing (type, 1) or '1type' as a synonym of type is deprecated; in a future version of numpy, it will be understood as (type, (1,)) / '(1,)type'.\n",
      "  _np_qint8 = np.dtype([(\"qint8\", np.int8, 1)])\n",
      "C:\\Users\\ICT01_06\\Anaconda3\\envs\\tf_test\\lib\\site-packages\\tensorflow\\python\\framework\\dtypes.py:517: FutureWarning: Passing (type, 1) or '1type' as a synonym of type is deprecated; in a future version of numpy, it will be understood as (type, (1,)) / '(1,)type'.\n",
      "  _np_quint8 = np.dtype([(\"quint8\", np.uint8, 1)])\n",
      "C:\\Users\\ICT01_06\\Anaconda3\\envs\\tf_test\\lib\\site-packages\\tensorflow\\python\\framework\\dtypes.py:518: FutureWarning: Passing (type, 1) or '1type' as a synonym of type is deprecated; in a future version of numpy, it will be understood as (type, (1,)) / '(1,)type'.\n",
      "  _np_qint16 = np.dtype([(\"qint16\", np.int16, 1)])\n",
      "C:\\Users\\ICT01_06\\Anaconda3\\envs\\tf_test\\lib\\site-packages\\tensorflow\\python\\framework\\dtypes.py:519: FutureWarning: Passing (type, 1) or '1type' as a synonym of type is deprecated; in a future version of numpy, it will be understood as (type, (1,)) / '(1,)type'.\n",
      "  _np_quint16 = np.dtype([(\"quint16\", np.uint16, 1)])\n",
      "C:\\Users\\ICT01_06\\Anaconda3\\envs\\tf_test\\lib\\site-packages\\tensorflow\\python\\framework\\dtypes.py:520: FutureWarning: Passing (type, 1) or '1type' as a synonym of type is deprecated; in a future version of numpy, it will be understood as (type, (1,)) / '(1,)type'.\n",
      "  _np_qint32 = np.dtype([(\"qint32\", np.int32, 1)])\n",
      "C:\\Users\\ICT01_06\\Anaconda3\\envs\\tf_test\\lib\\site-packages\\tensorflow\\python\\framework\\dtypes.py:525: FutureWarning: Passing (type, 1) or '1type' as a synonym of type is deprecated; in a future version of numpy, it will be understood as (type, (1,)) / '(1,)type'.\n",
      "  np_resource = np.dtype([(\"resource\", np.ubyte, 1)])\n",
      "C:\\Users\\ICT01_06\\Anaconda3\\envs\\tf_test\\lib\\site-packages\\tensorboard\\compat\\tensorflow_stub\\dtypes.py:541: FutureWarning: Passing (type, 1) or '1type' as a synonym of type is deprecated; in a future version of numpy, it will be understood as (type, (1,)) / '(1,)type'.\n",
      "  _np_qint8 = np.dtype([(\"qint8\", np.int8, 1)])\n",
      "C:\\Users\\ICT01_06\\Anaconda3\\envs\\tf_test\\lib\\site-packages\\tensorboard\\compat\\tensorflow_stub\\dtypes.py:542: FutureWarning: Passing (type, 1) or '1type' as a synonym of type is deprecated; in a future version of numpy, it will be understood as (type, (1,)) / '(1,)type'.\n",
      "  _np_quint8 = np.dtype([(\"quint8\", np.uint8, 1)])\n",
      "C:\\Users\\ICT01_06\\Anaconda3\\envs\\tf_test\\lib\\site-packages\\tensorboard\\compat\\tensorflow_stub\\dtypes.py:543: FutureWarning: Passing (type, 1) or '1type' as a synonym of type is deprecated; in a future version of numpy, it will be understood as (type, (1,)) / '(1,)type'.\n",
      "  _np_qint16 = np.dtype([(\"qint16\", np.int16, 1)])\n",
      "C:\\Users\\ICT01_06\\Anaconda3\\envs\\tf_test\\lib\\site-packages\\tensorboard\\compat\\tensorflow_stub\\dtypes.py:544: FutureWarning: Passing (type, 1) or '1type' as a synonym of type is deprecated; in a future version of numpy, it will be understood as (type, (1,)) / '(1,)type'.\n",
      "  _np_quint16 = np.dtype([(\"quint16\", np.uint16, 1)])\n",
      "C:\\Users\\ICT01_06\\Anaconda3\\envs\\tf_test\\lib\\site-packages\\tensorboard\\compat\\tensorflow_stub\\dtypes.py:545: FutureWarning: Passing (type, 1) or '1type' as a synonym of type is deprecated; in a future version of numpy, it will be understood as (type, (1,)) / '(1,)type'.\n",
      "  _np_qint32 = np.dtype([(\"qint32\", np.int32, 1)])\n",
      "C:\\Users\\ICT01_06\\Anaconda3\\envs\\tf_test\\lib\\site-packages\\tensorboard\\compat\\tensorflow_stub\\dtypes.py:550: FutureWarning: Passing (type, 1) or '1type' as a synonym of type is deprecated; in a future version of numpy, it will be understood as (type, (1,)) / '(1,)type'.\n",
      "  np_resource = np.dtype([(\"resource\", np.ubyte, 1)])\n"
     ]
    }
   ],
   "source": [
    "%matplotlib inline\n",
    "import matplotlib.pyplot as plt\n",
    "\n",
    "import keras\n",
    "from keras.datasets import mnist\n",
    "from keras.models import Sequential\n",
    "# flatten => cnn을 한줄로 만들어주는 것\n",
    "from keras.layers import Dense, Dropout, Flatten\n",
    "from keras.layers import Conv2D, MaxPooling2D\n",
    "from keras import backend as K\n",
    "\n",
    "batch_size = 128\n",
    "num_classes = 10\n",
    "epochs = 12\n",
    "img_rows, img_cols = 28,28\n",
    "(x_train, y_train), (x_test, y_test) =mnist.load_data()"
   ]
  },
  {
   "cell_type": "code",
   "execution_count": 2,
   "metadata": {},
   "outputs": [
    {
     "data": {
      "image/png": "[encoded data removed]",
      "text/plain": [
       "<Figure size 432x288 with 1 Axes>"
      ]
     },
     "metadata": {
      "needs_background": "light"
     },
     "output_type": "display_data"
    }
   ],
   "source": [
    "first_image = x_train[0, :, :]\n",
    "plt.imshow(first_image, cmap = plt.cm.Greys)\n",
    "plt.show()"
   ]
  },
  {
   "cell_type": "code",
   "execution_count": 3,
   "metadata": {},
   "outputs": [
    {
     "name": "stdout",
     "output_type": "stream",
     "text": [
      "x_train shape:  (60000, 28, 28, 1)\n",
      "60000 train samples\n",
      "10000 test samples\n"
     ]
    }
   ],
   "source": [
    "# channel_first\n",
    "# x_train = x_train.reshape(x_train.shape[0], 1, 28, 28)\n",
    "# x_test = x_test.reshape(x_test.shape[0], 1, 28 ,28)\n",
    "\n",
    "# channel_last\n",
    "x_train = x_train.reshape(x_train.shape[0], 28,28,1)\n",
    "x_test = x_test.reshape(x_test.shape[0], 28,28,1)\n",
    "\n",
    "x_train = x_train.astype('float32') # 타입변경 => 255로 나눠주기 위해서\n",
    "x_test = x_test.astype('float32')\n",
    "x_train /= 255\n",
    "x_test /= 255\n",
    "print('x_train shape: ', x_train.shape)\n",
    "print(x_train.shape[0], 'train samples') # 60000\n",
    "print(x_test.shape[0], 'test samples') # 10000\n",
    "y_train = keras.utils.to_categorical(y_train, num_classes) # num_classes를 categorical로 변경함 -> categorical_crossentropy를 하기 위해서\n",
    "y_test = keras.utils.to_categorical(y_test, num_classes)"
   ]
  },
  {
   "cell_type": "code",
   "execution_count": 4,
   "metadata": {},
   "outputs": [
    {
     "name": "stdout",
     "output_type": "stream",
     "text": [
      "WARNING:tensorflow:From C:\\Users\\ICT01_06\\Anaconda3\\envs\\tf_test\\lib\\site-packages\\keras\\backend\\tensorflow_backend.py:4070: The name tf.nn.max_pool is deprecated. Please use tf.nn.max_pool2d instead.\n",
      "\n"
     ]
    },
    {
     "name": "stderr",
     "output_type": "stream",
     "text": [
      "C:\\Users\\ICT01_06\\Anaconda3\\envs\\tf_test\\lib\\site-packages\\ipykernel_launcher.py:5: UserWarning: Update your `Conv2D` call to the Keras 2 API: `Conv2D(32, (3, 3), activation=\"relu\", input_shape=(28, 28, 1...)`\n",
      "  \"\"\"\n",
      "C:\\Users\\ICT01_06\\Anaconda3\\envs\\tf_test\\lib\\site-packages\\ipykernel_launcher.py:6: UserWarning: Update your `Conv2D` call to the Keras 2 API: `Conv2D(64, (3, 3), activation=\"relu\")`\n",
      "  \n"
     ]
    }
   ],
   "source": [
    "model = Sequential()\n",
    "# 아웃풋 필터 개수(32), 필터 사이즈(3,3)\n",
    "# 입력데이터 28x28 => (128, 26(28-3+1), 26, 32) # valid(26,26)/ same(28,28): 모서리 특징 유지\n",
    "model.add(Conv2D(32,3,3,activation='relu', # relu : 음수가 제거\n",
    "                 input_shape=(28,28,1))) # input_shape를 channel_last에 맞게 설정해줘야함\n",
    "model.add(Conv2D(64,3,3,activation='relu'))\n",
    "# (128, 24, 24, 64)\n",
    "model.add(MaxPooling2D(pool_size=(2,2))) # (128, 12, 12, 64) # 128은 장수\n",
    "model.add(Dropout(0.25))\n",
    "model.add(Flatten()) # 12x12x64 => 1차원(9216)\n",
    "# FFNN, FC(fully-connected)\n",
    "model.add(Dense(128, activation='relu')) # 가중치 (9216 x 128)\n",
    "# (128 x 128)\n",
    "model.add(Dropout(0.5)) # 계산회로만 생략\n",
    "model.add(Dense(10, activation='softmax')) # 가중치 (128x10)\n",
    "# (128 x 10)"
   ]
  },
  {
   "cell_type": "code",
   "execution_count": 10,
   "metadata": {},
   "outputs": [
    {
     "name": "stdout",
     "output_type": "stream",
     "text": [
      "Train on 60000 samples, validate on 10000 samples\n",
      "Epoch 1/12\n",
      "60000/60000 [==============================] - 10s 168us/step - loss: 0.0239 - accuracy: 0.9925 - val_loss: 0.0260 - val_accuracy: 0.9921\n",
      "Epoch 2/12\n",
      "60000/60000 [==============================] - 10s 162us/step - loss: 0.0239 - accuracy: 0.9924 - val_loss: 0.0286 - val_accuracy: 0.9910\n",
      "Epoch 3/12\n",
      "60000/60000 [==============================] - 10s 162us/step - loss: 0.0219 - accuracy: 0.9934 - val_loss: 0.0285 - val_accuracy: 0.9917\n",
      "Epoch 4/12\n",
      "60000/60000 [==============================] - 10s 166us/step - loss: 0.0213 - accuracy: 0.9935 - val_loss: 0.0270 - val_accuracy: 0.9928\n",
      "Epoch 5/12\n",
      "60000/60000 [==============================] - 10s 162us/step - loss: 0.0212 - accuracy: 0.9930 - val_loss: 0.0267 - val_accuracy: 0.9922\n",
      "Epoch 6/12\n",
      "60000/60000 [==============================] - 10s 166us/step - loss: 0.0204 - accuracy: 0.9939 - val_loss: 0.0324 - val_accuracy: 0.9903\n",
      "Epoch 7/12\n",
      "60000/60000 [==============================] - 10s 161us/step - loss: 0.0176 - accuracy: 0.9943 - val_loss: 0.0313 - val_accuracy: 0.9922\n",
      "Epoch 8/12\n",
      "60000/60000 [==============================] - 10s 163us/step - loss: 0.0188 - accuracy: 0.9944 - val_loss: 0.0275 - val_accuracy: 0.9912\n",
      "Epoch 9/12\n",
      "60000/60000 [==============================] - 10s 162us/step - loss: 0.0180 - accuracy: 0.9944 - val_loss: 0.0315 - val_accuracy: 0.9919\n",
      "Epoch 10/12\n",
      "60000/60000 [==============================] - 10s 161us/step - loss: 0.0177 - accuracy: 0.9944 - val_loss: 0.0330 - val_accuracy: 0.9919\n",
      "Epoch 11/12\n",
      "60000/60000 [==============================] - 10s 162us/step - loss: 0.0173 - accuracy: 0.9946 - val_loss: 0.0283 - val_accuracy: 0.9919\n",
      "Epoch 12/12\n",
      "60000/60000 [==============================] - 10s 160us/step - loss: 0.0166 - accuracy: 0.9949 - val_loss: 0.0340 - val_accuracy: 0.9921\n"
     ]
    }
   ],
   "source": [
    "model.compile(loss=keras.losses.categorical_crossentropy,\n",
    "             optimizer=keras.optimizers.Adadelta(),\n",
    "             metrics=['accuracy'])\n",
    "\n",
    "# epoch 마다 accuracy를 저장\n",
    "class AccuracyHistory(keras.callbacks.Callback):\n",
    "    # 오버라이딩 (재정의)\n",
    "    def on_train_begin(self, logs={}): # 훈련시작시 이벤트 시작\n",
    "        self.acc=[]\n",
    "    def on_epoch_end(self, batch,logs={}):\n",
    "        self.acc.append(logs.get('accuracy')) # logs: 우리가 알고자하는 정보가 담겨있음 (loss, accuracy)\n",
    "\n",
    "history = AccuracyHistory()\n",
    "# 이제는 train, test으로 나누서 했었음\n",
    "# train, validation, test으로 나눔\n",
    "model.fit(x_train, y_train,\n",
    "         batch_size = batch_size, epochs = epochs, verbose=1,\n",
    "         validation_data=(x_test, y_test),\n",
    "         callbacks=[history])\n",
    "score = model.evaluate(x_test, y_test, verbose=0)"
   ]
  },
  {
   "cell_type": "code",
   "execution_count": 11,
   "metadata": {},
   "outputs": [
    {
     "name": "stdout",
     "output_type": "stream",
     "text": [
      "0.034014451934633476\n",
      "0.9921000003814697\n"
     ]
    }
   ],
   "source": [
    "print(score[0]) # loss\n",
    "print(score[1]) # accuracy"
   ]
  },
  {
   "cell_type": "code",
   "execution_count": 12,
   "metadata": {},
   "outputs": [
    {
     "data": {
      "image/png": "[encoded data removed]",
      "text/plain": [
       "<Figure size 432x288 with 1 Axes>"
      ]
     },
     "metadata": {
      "needs_background": "light"
     },
     "output_type": "display_data"
    }
   ],
   "source": [
    "plt.plot(range(1,13), history.acc)\n",
    "plt.xlabel('Epochs')\n",
    "plt.ylabel('Accuracy')\n",
    "plt.show()"
   ]
  },
  {
   "cell_type": "markdown",
   "metadata": {},
   "source": [
    "# 모델 저장 / 로딩"
   ]
  },
  {
   "cell_type": "code",
   "execution_count": 13,
   "metadata": {},
   "outputs": [
    {
     "name": "stdout",
     "output_type": "stream",
     "text": [
      "모델이 저장되었습니다.\n",
      "모델이 로딩되었습니다.\n",
      "Model: \"sequential_1\"\n",
      "_________________________________________________________________\n",
      "Layer (type)                 Output Shape              Param #   \n",
      "=================================================================\n",
      "conv2d_1 (Conv2D)            (None, 26, 26, 32)        320       \n",
      "_________________________________________________________________\n",
      "conv2d_2 (Conv2D)            (None, 24, 24, 64)        18496     \n",
      "_________________________________________________________________\n",
      "max_pooling2d_1 (MaxPooling2 (None, 12, 12, 64)        0         \n",
      "_________________________________________________________________\n",
      "dropout_1 (Dropout)          (None, 12, 12, 64)        0         \n",
      "_________________________________________________________________\n",
      "flatten_1 (Flatten)          (None, 9216)              0         \n",
      "_________________________________________________________________\n",
      "dense_1 (Dense)              (None, 128)               1179776   \n",
      "_________________________________________________________________\n",
      "dropout_2 (Dropout)          (None, 128)               0         \n",
      "_________________________________________________________________\n",
      "dense_2 (Dense)              (None, 10)                1290      \n",
      "=================================================================\n",
      "Total params: 1,199,882\n",
      "Trainable params: 1,199,882\n",
      "Non-trainable params: 0\n",
      "_________________________________________________________________\n"
     ]
    }
   ],
   "source": [
    "# HDFS(hadoop file system): model 구조 전체 저장\n",
    "# 가중치, 구조, optimization statge 등이 저장\n",
    "# json으로 저장할 수 있음 () 구조, 가중치를 별도로 저장해야함 ) => web에서도 tensorflow를 사용 \n",
    "# tensorflow.js import\n",
    "model.save(\"model_mnist.h5\")\n",
    "print(\"모델이 저장되었습니다.\")\n",
    "from keras.models import load_model\n",
    "\n",
    "model = load_model('model_mnist.h5')\n",
    "print(\"모델이 로딩되었습니다.\")\n",
    "model.summary()"
   ]
  },
  {
   "cell_type": "code",
   "execution_count": 15,
   "metadata": {},
   "outputs": [
    {
     "name": "stdout",
     "output_type": "stream",
     "text": [
      "conv2d_1\n",
      "(None, 28, 28, 1)\n",
      "<function relu at 0x000001C996B48288>\n",
      "(None, 26, 26, 32)\n"
     ]
    }
   ],
   "source": [
    "# 레이어 정보 확인\n",
    "l1 = model.layers[0]\n",
    "l2 = model.layers[1]\n",
    "print(l1.name)\n",
    "print(l1.input_shape)\n",
    "print(l1.activation)\n",
    "print(l1.output_shape)"
   ]
  },
  {
   "cell_type": "markdown",
   "metadata": {},
   "source": [
    "# imageDataGenertor"
   ]
  },
  {
   "cell_type": "code",
   "execution_count": 22,
   "metadata": {
    "scrolled": true
   },
   "outputs": [
    {
     "data": {
      "image/png": "[encoded data removed]",
      "text/plain": [
       "<Figure size 432x288 with 9 Axes>"
      ]
     },
     "metadata": {
      "needs_background": "light"
     },
     "output_type": "display_data"
    }
   ],
   "source": [
    "\n",
    "\n",
    "from matplotlib import pyplot\n",
    "from keras import backend as K\n",
    "\n",
    "(X_train, y_train), (X_test, y_test) = mnist.load_data()\n",
    "X_train = X_train.reshape(X_train.shape[0],28,28,1)\n",
    "X_test = X_test.reshape(X_test.shape[0],28,28,1)\n",
    "X_train = X_train.astype('float32')\n",
    "X_test = X_test.astype('float32')\n",
    "# datagen = ImageDataGenerator(horizontal_flip =True, vertical_flip=True)\n",
    "# datagen = ImageDataGenerator(width_shift_range=0.2, height_shift_range=0.2) # 조금씩 움직임\n",
    "# datagen = ImageDataGenerator(zca_whitening=True) # 이미지 백색화 => noise 제거(변수간 상관도를 없앰 : PCA)\n",
    "datagen = ImageDataGenerator(rotation_range=90)\n",
    "datagen.fit(X_train)\n",
    "for X_batch, y_batch in datagen.flow(X_train, y_train, batch_size=9,\n",
    "                                     # augment\n",
    "                                     save_to_dir='images', save_prefix='aug', save_format='png'):\n",
    "    for i in range(0,9):\n",
    "        pyplot.subplot(330+1+i)\n",
    "        pyplot.imshow(X_batch[i].reshape(28,28),cmap=pyplot.get_cmap('gray'))\n",
    "    pyplot.show()\n",
    "    break"
   ]
  },
  {
   "cell_type": "code",
   "execution_count": 23,
   "metadata": {},
   "outputs": [
    {
     "name": "stdout",
     "output_type": "stream",
     "text": [
      "Downloading data from https://www.cs.toronto.edu/~kriz/cifar-10-python.tar.gz\n",
      "170500096/170498071 [==============================] - 25s 0us/step\n",
      "X_train shape:  (50000, 32, 32, 3)\n",
      "50000 train smaples\n",
      "10000 test samples\n"
     ]
    }
   ],
   "source": [
    "from keras.datasets import cifar10\n",
    "from keras.optimizers import SGD, Adam, RMSprop\n",
    "from keras.utils import np_utils\n",
    "# airplane, automobile, bird, cat, deer, dog, frog, hirse, ship\n",
    "# truck 분류 문제\n",
    "(X_train, Y_train), (X_test, Y_test) = cifar10.load_data()\n",
    "print('X_train shape: ', X_train.shape)\n",
    "print(X_train.shape[0], 'train smaples')\n",
    "print(X_test.shape[0], 'test samples')\n",
    "NB_CLASSES = 10\n",
    "Y_train = np_utils.to_categorical(Y_train, NB_CLASSES)\n",
    "Y_test = np_utils.to_categorical(Y_test, NB_CLASSES)\n",
    "\n",
    "X_train = X_train.astype('float32')\n",
    "X_test = X_test.astype('float32')\n",
    "X_train /= 255\n",
    "X_test /= 255"
   ]
  },
  {
   "cell_type": "code",
   "execution_count": 25,
   "metadata": {},
   "outputs": [
    {
     "data": {
      "image/png": "[encoded data removed]",
      "text/plain": [
       "<Figure size 432x288 with 1 Axes>"
      ]
     },
     "metadata": {
      "needs_background": "light"
     },
     "output_type": "display_data"
    },
    {
     "data": {
      "image/png": "[encoded data removed]",
      "text/plain": [
       "<Figure size 432x288 with 1 Axes>"
      ]
     },
     "metadata": {
      "needs_background": "light"
     },
     "output_type": "display_data"
    }
   ],
   "source": [
    "plt.imshow(X_train[5])\n",
    "plt.grid(False)\n",
    "plt.show()\n",
    "plt.imshow(X_train[6])\n",
    "plt.grid(False)\n",
    "plt.show()"
   ]
  },
  {
   "cell_type": "code",
   "execution_count": 26,
   "metadata": {},
   "outputs": [],
   "source": [
    "IMG_CHANNELS = 3\n",
    "IMG_ROWS = 32\n",
    "IMG_COLS = 32\n",
    "BATCH_SIZE = 128\n",
    "NB_EPOCH = 40\n",
    "NB_CLASSES = 10\n",
    "VERBOSE = 1\n",
    "VALIDATION_SPLIT = 0.2\n",
    "OPTIM = RMSprop()"
   ]
  },
  {
   "cell_type": "code",
   "execution_count": 28,
   "metadata": {},
   "outputs": [],
   "source": [
    "from keras.layers import Activation\n",
    "# residual망의 영향을 받음 -> 결과가 좋아짐\n",
    "# 32x32x3(입력데이터) => 32x32x32(가중치)\n",
    "model = Sequential()\n",
    "model.add(Conv2D(32,kernel_size=3, padding='same', input_shape=(IMG_ROWS, IMG_COLS, IMG_CHANNELS)))\n",
    "model.add(Activation('relu'))\n",
    "model.add(Conv2D(32, kernel_size = 3, padding='same'))\n",
    "model.add(Activation('relu'))\n",
    "model.add(MaxPooling2D(pool_size=(2,2)))\n",
    "model.add(Dropout(0.25))"
   ]
  },
  {
   "cell_type": "code",
   "execution_count": 30,
   "metadata": {},
   "outputs": [
    {
     "name": "stderr",
     "output_type": "stream",
     "text": [
      "C:\\Users\\ICT01_06\\Anaconda3\\envs\\tf_test\\lib\\site-packages\\ipykernel_launcher.py:3: UserWarning: Update your `Conv2D` call to the Keras 2 API: `Conv2D(64, (3, 3))`\n",
      "  This is separate from the ipykernel package so we can avoid doing imports until\n"
     ]
    }
   ],
   "source": [
    "model.add(Conv2D(64, kernel_size=3, padding='same'))\n",
    "model.add(Activation('relu'))\n",
    "model.add(Conv2D(64,3,3))\n",
    "model.add(Activation('relu'))\n",
    "model.add(MaxPooling2D(pool_size=(2,2)))\n",
    "model.add(Dropout(0.25))"
   ]
  },
  {
   "cell_type": "code",
   "execution_count": 31,
   "metadata": {},
   "outputs": [
    {
     "name": "stdout",
     "output_type": "stream",
     "text": [
      "Model: \"sequential_3\"\n",
      "_________________________________________________________________\n",
      "Layer (type)                 Output Shape              Param #   \n",
      "=================================================================\n",
      "conv2d_4 (Conv2D)            (None, 32, 32, 32)        896       \n",
      "_________________________________________________________________\n",
      "activation_1 (Activation)    (None, 32, 32, 32)        0         \n",
      "_________________________________________________________________\n",
      "conv2d_5 (Conv2D)            (None, 32, 32, 32)        9248      \n",
      "_________________________________________________________________\n",
      "activation_2 (Activation)    (None, 32, 32, 32)        0         \n",
      "_________________________________________________________________\n",
      "max_pooling2d_2 (MaxPooling2 (None, 16, 16, 32)        0         \n",
      "_________________________________________________________________\n",
      "dropout_3 (Dropout)          (None, 16, 16, 32)        0         \n",
      "_________________________________________________________________\n",
      "conv2d_7 (Conv2D)            (None, 16, 16, 64)        18496     \n",
      "_________________________________________________________________\n",
      "activation_3 (Activation)    (None, 16, 16, 64)        0         \n",
      "_________________________________________________________________\n",
      "conv2d_8 (Conv2D)            (None, 14, 14, 64)        36928     \n",
      "_________________________________________________________________\n",
      "activation_4 (Activation)    (None, 14, 14, 64)        0         \n",
      "_________________________________________________________________\n",
      "max_pooling2d_3 (MaxPooling2 (None, 7, 7, 64)          0         \n",
      "_________________________________________________________________\n",
      "dropout_4 (Dropout)          (None, 7, 7, 64)          0         \n",
      "_________________________________________________________________\n",
      "flatten_2 (Flatten)          (None, 3136)              0         \n",
      "_________________________________________________________________\n",
      "dense_3 (Dense)              (None, 512)               1606144   \n",
      "_________________________________________________________________\n",
      "activation_5 (Activation)    (None, 512)               0         \n",
      "_________________________________________________________________\n",
      "dropout_5 (Dropout)          (None, 512)               0         \n",
      "_________________________________________________________________\n",
      "dense_4 (Dense)              (None, 10)                5130      \n",
      "_________________________________________________________________\n",
      "activation_6 (Activation)    (None, 10)                0         \n",
      "=================================================================\n",
      "Total params: 1,676,842\n",
      "Trainable params: 1,676,842\n",
      "Non-trainable params: 0\n",
      "_________________________________________________________________\n"
     ]
    }
   ],
   "source": [
    "model.add(Flatten())\n",
    "model.add(Dense(512))\n",
    "model.add(Activation('relu'))\n",
    "model.add(Dropout(0.5))\n",
    "model.add(Dense(NB_CLASSES))\n",
    "model.add(Activation('softmax'))\n",
    "model.summary()\n",
    "model.compile(loss='categorical_crossentropy', optimizer=OPTIM, metrics=['accuracy'])"
   ]
  },
  {
   "cell_type": "code",
   "execution_count": 32,
   "metadata": {},
   "outputs": [
    {
     "name": "stdout",
     "output_type": "stream",
     "text": [
      "Train on 40000 samples, validate on 10000 samples\n",
      "Epoch 1/40\n",
      "40000/40000 [==============================] - 10s 257us/step - loss: 1.7842 - accuracy: 0.3561 - val_loss: 1.4226 - val_accuracy: 0.4938\n",
      "Epoch 2/40\n",
      "40000/40000 [==============================] - 10s 253us/step - loss: 1.3281 - accuracy: 0.5263 - val_loss: 1.1451 - val_accuracy: 0.5876\n",
      "Epoch 3/40\n",
      "40000/40000 [==============================] - 10s 251us/step - loss: 1.1248 - accuracy: 0.6040 - val_loss: 1.0891 - val_accuracy: 0.6169\n",
      "Epoch 4/40\n",
      "40000/40000 [==============================] - 10s 244us/step - loss: 0.9966 - accuracy: 0.6495 - val_loss: 0.9171 - val_accuracy: 0.6783\n",
      "Epoch 5/40\n",
      "40000/40000 [==============================] - 10s 246us/step - loss: 0.9084 - accuracy: 0.6812 - val_loss: 0.9199 - val_accuracy: 0.6837\n",
      "Epoch 6/40\n",
      "40000/40000 [==============================] - 10s 248us/step - loss: 0.8283 - accuracy: 0.7121 - val_loss: 0.9836 - val_accuracy: 0.6691\n",
      "Epoch 7/40\n",
      "40000/40000 [==============================] - 10s 241us/step - loss: 0.7763 - accuracy: 0.7293 - val_loss: 0.8795 - val_accuracy: 0.7000\n",
      "Epoch 8/40\n",
      "40000/40000 [==============================] - 10s 246us/step - loss: 0.7256 - accuracy: 0.7460 - val_loss: 0.7210 - val_accuracy: 0.7511\n",
      "Epoch 9/40\n",
      "40000/40000 [==============================] - 10s 243us/step - loss: 0.6802 - accuracy: 0.7624 - val_loss: 0.7639 - val_accuracy: 0.7420\n",
      "Epoch 10/40\n",
      "40000/40000 [==============================] - 10s 243us/step - loss: 0.6466 - accuracy: 0.7778 - val_loss: 0.7294 - val_accuracy: 0.7554\n",
      "Epoch 11/40\n",
      "40000/40000 [==============================] - 10s 245us/step - loss: 0.6147 - accuracy: 0.7871 - val_loss: 0.8003 - val_accuracy: 0.7424\n",
      "Epoch 12/40\n",
      "40000/40000 [==============================] - 10s 242us/step - loss: 0.5934 - accuracy: 0.7946 - val_loss: 0.7088 - val_accuracy: 0.7622\n",
      "Epoch 13/40\n",
      "40000/40000 [==============================] - 10s 242us/step - loss: 0.5777 - accuracy: 0.8011 - val_loss: 0.6949 - val_accuracy: 0.7749\n",
      "Epoch 14/40\n",
      "40000/40000 [==============================] - 10s 249us/step - loss: 0.5568 - accuracy: 0.8091 - val_loss: 0.6734 - val_accuracy: 0.7788\n",
      "Epoch 15/40\n",
      "40000/40000 [==============================] - 10s 245us/step - loss: 0.5447 - accuracy: 0.8137 - val_loss: 0.7205 - val_accuracy: 0.7669\n",
      "Epoch 16/40\n",
      "40000/40000 [==============================] - 10s 249us/step - loss: 0.5388 - accuracy: 0.8155 - val_loss: 0.6969 - val_accuracy: 0.7875\n",
      "Epoch 17/40\n",
      "40000/40000 [==============================] - 10s 250us/step - loss: 0.5310 - accuracy: 0.8193 - val_loss: 0.6684 - val_accuracy: 0.7810\n",
      "Epoch 18/40\n",
      "40000/40000 [==============================] - 10s 244us/step - loss: 0.5298 - accuracy: 0.8220 - val_loss: 0.6808 - val_accuracy: 0.7846\n",
      "Epoch 19/40\n",
      "40000/40000 [==============================] - 10s 242us/step - loss: 0.5220 - accuracy: 0.8249 - val_loss: 0.7601 - val_accuracy: 0.7817\n",
      "Epoch 20/40\n",
      "40000/40000 [==============================] - 10s 249us/step - loss: 0.5193 - accuracy: 0.8255 - val_loss: 0.6661 - val_accuracy: 0.7812\n",
      "Epoch 21/40\n",
      "40000/40000 [==============================] - 10s 243us/step - loss: 0.5179 - accuracy: 0.8269 - val_loss: 0.7932 - val_accuracy: 0.7864\n",
      "Epoch 22/40\n",
      "40000/40000 [==============================] - 10s 248us/step - loss: 0.5152 - accuracy: 0.8296 - val_loss: 0.7585 - val_accuracy: 0.7573\n",
      "Epoch 23/40\n",
      "40000/40000 [==============================] - 10s 248us/step - loss: 0.5078 - accuracy: 0.8308 - val_loss: 0.6566 - val_accuracy: 0.7877\n",
      "Epoch 24/40\n",
      "40000/40000 [==============================] - 10s 246us/step - loss: 0.5100 - accuracy: 0.8290 - val_loss: 0.7548 - val_accuracy: 0.7782\n",
      "Epoch 25/40\n",
      "40000/40000 [==============================] - 10s 242us/step - loss: 0.5133 - accuracy: 0.8309 - val_loss: 0.8329 - val_accuracy: 0.7863\n",
      "Epoch 26/40\n",
      "40000/40000 [==============================] - 10s 243us/step - loss: 0.5170 - accuracy: 0.8321 - val_loss: 1.2531 - val_accuracy: 0.7215\n",
      "Epoch 27/40\n",
      "40000/40000 [==============================] - 10s 248us/step - loss: 0.5183 - accuracy: 0.8292 - val_loss: 0.6978 - val_accuracy: 0.7804\n",
      "Epoch 28/40\n",
      "40000/40000 [==============================] - 10s 246us/step - loss: 0.5217 - accuracy: 0.8283 - val_loss: 0.7695 - val_accuracy: 0.7535\n",
      "Epoch 29/40\n",
      "40000/40000 [==============================] - 10s 242us/step - loss: 0.5319 - accuracy: 0.8279 - val_loss: 0.8905 - val_accuracy: 0.7576\n",
      "Epoch 30/40\n",
      "40000/40000 [==============================] - 10s 244us/step - loss: 0.5295 - accuracy: 0.8297 - val_loss: 0.9594 - val_accuracy: 0.7863\n",
      "Epoch 31/40\n",
      "40000/40000 [==============================] - 10s 242us/step - loss: 0.5261 - accuracy: 0.8298 - val_loss: 0.8086 - val_accuracy: 0.7633\n",
      "Epoch 32/40\n",
      "40000/40000 [==============================] - 10s 244us/step - loss: 0.5255 - accuracy: 0.8304 - val_loss: 1.0312 - val_accuracy: 0.7810\n",
      "Epoch 33/40\n",
      "40000/40000 [==============================] - 10s 239us/step - loss: 0.5382 - accuracy: 0.8265 - val_loss: 0.6743 - val_accuracy: 0.7838\n",
      "Epoch 34/40\n",
      "40000/40000 [==============================] - 10s 248us/step - loss: 0.5345 - accuracy: 0.8278 - val_loss: 0.7495 - val_accuracy: 0.7606\n",
      "Epoch 35/40\n",
      "40000/40000 [==============================] - 10s 244us/step - loss: 0.5331 - accuracy: 0.8267 - val_loss: 0.9366 - val_accuracy: 0.7655\n",
      "Epoch 36/40\n",
      "40000/40000 [==============================] - 10s 247us/step - loss: 0.5430 - accuracy: 0.8269 - val_loss: 0.8572 - val_accuracy: 0.7580\n",
      "Epoch 37/40\n",
      "40000/40000 [==============================] - 10s 249us/step - loss: 0.5413 - accuracy: 0.8273 - val_loss: 0.7526 - val_accuracy: 0.7685\n",
      "Epoch 38/40\n",
      "40000/40000 [==============================] - 10s 247us/step - loss: 0.5464 - accuracy: 0.8262 - val_loss: 0.7855 - val_accuracy: 0.7573\n",
      "Epoch 39/40\n",
      "40000/40000 [==============================] - 10s 241us/step - loss: 0.5469 - accuracy: 0.8248 - val_loss: 0.8473 - val_accuracy: 0.7877\n",
      "Epoch 40/40\n",
      "40000/40000 [==============================] - 10s 247us/step - loss: 0.5452 - accuracy: 0.8262 - val_loss: 0.7780 - val_accuracy: 0.7739\n"
     ]
    }
   ],
   "source": [
    "# callback\n",
    "history = model.fit(X_train, Y_train, batch_size=BATCH_SIZE, epochs = NB_EPOCH, validation_split=VALIDATION_SPLIT,\n",
    "                   verbose=VERBOSE)"
   ]
  },
  {
   "cell_type": "code",
   "execution_count": 35,
   "metadata": {},
   "outputs": [],
   "source": [
    "datagen = ImageDataGenerator(featurewise_center=False, # 똑같은 데이터 : Random 순서\n",
    "                            samplewise_center=False,\n",
    "                            featurewise_std_normalization=False,\n",
    "                            samplewise_std_normalization=False,\n",
    "                            zca_whitening = False, # 이미지 PCA노이즈 제거\n",
    "                            rotation_range = 0,\n",
    "                            width_shift_range = 0.1,\n",
    "                            height_shift_range = 0.1,\n",
    "                            horizontal_flip = True,\n",
    "                            vertical_flip = False)\n",
    "datagen.fit(X_train)"
   ]
  },
  {
   "cell_type": "code",
   "execution_count": 36,
   "metadata": {
    "scrolled": true
   },
   "outputs": [
    {
     "name": "stdout",
     "output_type": "stream",
     "text": [
      "Epoch 1/40\n",
      "  3/390 [..............................] - ETA: 19s - loss: 1.1874 - accuracy: 0.6432"
     ]
    },
    {
     "name": "stderr",
     "output_type": "stream",
     "text": [
      "C:\\Users\\ICT01_06\\Anaconda3\\envs\\tf_test\\lib\\site-packages\\ipykernel_launcher.py:5: UserWarning: The semantics of the Keras 2 argument `steps_per_epoch` is not the same as the Keras 1 argument `samples_per_epoch`. `steps_per_epoch` is the number of batches to draw from the generator at each epoch. Basically steps_per_epoch = samples_per_epoch/batch_size. Similarly `nb_val_samples`->`validation_steps` and `val_samples`->`steps` arguments have changed. Update your method calls accordingly.\n",
      "  \"\"\"\n",
      "C:\\Users\\ICT01_06\\Anaconda3\\envs\\tf_test\\lib\\site-packages\\ipykernel_launcher.py:5: UserWarning: Update your `fit_generator` call to the Keras 2 API: `fit_generator(<keras.pre..., verbose=1, steps_per_epoch=390, epochs=40)`\n",
      "  \"\"\"\n"
     ]
    },
    {
     "name": "stdout",
     "output_type": "stream",
     "text": [
      "390/390 [==============================] - 17s 42ms/step - loss: 1.0102 - accuracy: 0.6739\n",
      "Epoch 2/40\n",
      "390/390 [==============================] - 16s 42ms/step - loss: 0.9652 - accuracy: 0.6835\n",
      "Epoch 3/40\n",
      "390/390 [==============================] - 16s 42ms/step - loss: 0.9395 - accuracy: 0.6935\n",
      "Epoch 4/40\n",
      "390/390 [==============================] - 17s 43ms/step - loss: 0.9425 - accuracy: 0.6899\n",
      "Epoch 5/40\n",
      "390/390 [==============================] - 16s 42ms/step - loss: 0.9251 - accuracy: 0.6975\n",
      "Epoch 6/40\n",
      "390/390 [==============================] - 16s 42ms/step - loss: 0.9196 - accuracy: 0.7006\n",
      "Epoch 7/40\n",
      "390/390 [==============================] - 16s 42ms/step - loss: 0.9188 - accuracy: 0.6997\n",
      "Epoch 8/40\n",
      "390/390 [==============================] - 16s 42ms/step - loss: 0.9074 - accuracy: 0.7013\n",
      "Epoch 9/40\n",
      "390/390 [==============================] - 16s 42ms/step - loss: 0.9064 - accuracy: 0.7006\n",
      "Epoch 10/40\n",
      "390/390 [==============================] - 16s 42ms/step - loss: 0.9223 - accuracy: 0.6999\n",
      "Epoch 11/40\n",
      "390/390 [==============================] - 17s 43ms/step - loss: 0.9144 - accuracy: 0.7001\n",
      "Epoch 12/40\n",
      "390/390 [==============================] - 16s 42ms/step - loss: 0.9111 - accuracy: 0.7023\n",
      "Epoch 13/40\n",
      "390/390 [==============================] - 16s 42ms/step - loss: 0.9153 - accuracy: 0.7025\n",
      "Epoch 14/40\n",
      "390/390 [==============================] - 16s 42ms/step - loss: 0.9132 - accuracy: 0.7033\n",
      "Epoch 15/40\n",
      "390/390 [==============================] - 16s 42ms/step - loss: 0.9215 - accuracy: 0.6997\n",
      "Epoch 16/40\n",
      "390/390 [==============================] - 17s 42ms/step - loss: 0.9170 - accuracy: 0.7024\n",
      "Epoch 17/40\n",
      "390/390 [==============================] - 16s 42ms/step - loss: 0.9098 - accuracy: 0.7029\n",
      "Epoch 18/40\n",
      "390/390 [==============================] - 17s 43ms/step - loss: 0.9205 - accuracy: 0.69921s\n",
      "Epoch 19/40\n",
      "390/390 [==============================] - 16s 42ms/step - loss: 0.9172 - accuracy: 0.7006\n",
      "Epoch 20/40\n",
      "390/390 [==============================] - 17s 43ms/step - loss: 0.9171 - accuracy: 0.7013\n",
      "Epoch 21/40\n",
      "390/390 [==============================] - 16s 42ms/step - loss: 0.9317 - accuracy: 0.6972\n",
      "Epoch 22/40\n",
      "390/390 [==============================] - 16s 42ms/step - loss: 0.9308 - accuracy: 0.6952\n",
      "Epoch 23/40\n",
      "390/390 [==============================] - 17s 43ms/step - loss: 0.9465 - accuracy: 0.6934\n",
      "Epoch 24/40\n",
      "390/390 [==============================] - 16s 42ms/step - loss: 0.9460 - accuracy: 0.6935\n",
      "Epoch 25/40\n",
      "390/390 [==============================] - 16s 42ms/step - loss: 0.9445 - accuracy: 0.6940\n",
      "Epoch 26/40\n",
      "390/390 [==============================] - 17s 42ms/step - loss: 0.9339 - accuracy: 0.6968\n",
      "Epoch 27/40\n",
      "390/390 [==============================] - 16s 42ms/step - loss: 0.9487 - accuracy: 0.6941\n",
      "Epoch 28/40\n",
      "390/390 [==============================] - 16s 42ms/step - loss: 0.9461 - accuracy: 0.6940\n",
      "Epoch 29/40\n",
      "390/390 [==============================] - 16s 42ms/step - loss: 0.9573 - accuracy: 0.6908\n",
      "Epoch 30/40\n",
      "390/390 [==============================] - 16s 42ms/step - loss: 0.9641 - accuracy: 0.6892\n",
      "Epoch 31/40\n",
      "390/390 [==============================] - 16s 42ms/step - loss: 0.9701 - accuracy: 0.6851\n",
      "Epoch 32/40\n",
      "390/390 [==============================] - 16s 42ms/step - loss: 0.9720 - accuracy: 0.6858\n",
      "Epoch 33/40\n",
      "390/390 [==============================] - 16s 42ms/step - loss: 0.9788 - accuracy: 0.6826\n",
      "Epoch 34/40\n",
      "390/390 [==============================] - 16s 42ms/step - loss: 0.9720 - accuracy: 0.6857\n",
      "Epoch 35/40\n",
      "390/390 [==============================] - 17s 43ms/step - loss: 0.9730 - accuracy: 0.6889\n",
      "Epoch 36/40\n",
      "390/390 [==============================] - 17s 43ms/step - loss: 0.9783 - accuracy: 0.6857\n",
      "Epoch 37/40\n",
      "390/390 [==============================] - 16s 42ms/step - loss: 0.9936 - accuracy: 0.6795\n",
      "Epoch 38/40\n",
      "390/390 [==============================] - 17s 43ms/step - loss: 0.9847 - accuracy: 0.6817\n",
      "Epoch 39/40\n",
      "390/390 [==============================] - 16s 42ms/step - loss: 0.9952 - accuracy: 0.6821\n",
      "Epoch 40/40\n",
      "390/390 [==============================] - 17s 43ms/step - loss: 0.9987 - accuracy: 0.6790\n"
     ]
    },
    {
     "data": {
      "text/plain": [
       "<keras.callbacks.callbacks.History at 0x1ca5e5a9248>"
      ]
     },
     "execution_count": 36,
     "metadata": {},
     "output_type": "execute_result"
    }
   ],
   "source": [
    "model.fit_generator(datagen.flow(X_train, Y_train, batch_size = BATCH_SIZE),\n",
    "                   samples_per_epoch = X_train.shape[0],\n",
    "                   nb_epoch=NB_EPOCH,\n",
    "                   verbose=VERBOSE)"
   ]
  },
  {
   "cell_type": "code",
   "execution_count": 42,
   "metadata": {},
   "outputs": [
    {
     "name": "stdout",
     "output_type": "stream",
     "text": [
      "10000/10000 [==============================] - 1s 85us/step\n",
      "\n",
      "Test score:  0.9009555261611939\n",
      "\n",
      "Test accuracy:  0.7014999985694885\n"
     ]
    }
   ],
   "source": [
    "score = model.evaluate(X_test, Y_test, batch_size = BATCH_SIZE, verbose = VERBOSE)\n",
    "print(\"\\nTest score: \", score[0])\n",
    "print(\"\\nTest accuracy: \",score[1])"
   ]
  },
  {
   "cell_type": "code",
   "execution_count": 38,
   "metadata": {},
   "outputs": [],
   "source": [
    "# json\n",
    "model_json = model.to_json()\n",
    "open('cifar10_architecture.json', 'w').write(model_json)\n",
    "model.save_weights('cifar10_weights.h5', overwrite=True)"
   ]
  },
  {
   "cell_type": "code",
   "execution_count": 40,
   "metadata": {},
   "outputs": [
    {
     "name": "stdout",
     "output_type": "stream",
     "text": [
      "Loaded model from disk\n"
     ]
    }
   ],
   "source": [
    "from keras.models import model_from_json\n",
    "json_file = open('cifar10_architecture.json','r')\n",
    "loaded_model_json = json_file.read()\n",
    "json_file.close()\n",
    "loaded_model = model_from_json(loaded_model_json)\n",
    "loaded_model.load_weights(\"cifar10_weights.h5\")\n",
    "print(\"Loaded model from disk\")"
   ]
  },
  {
   "cell_type": "markdown",
   "metadata": {},
   "source": [
    "# 문제\n",
    "1. accuracy graph출력\n",
    "2. 이미지 cat, dog을 다운로드한 다음 위의 모델로 예측해 보시오."
   ]
  },
  {
   "cell_type": "markdown",
   "metadata": {},
   "source": [
    "1."
   ]
  },
  {
   "cell_type": "code",
   "execution_count": 57,
   "metadata": {
    "scrolled": false
   },
   "outputs": [
    {
     "data": {
      "image/png": "[encoded data removed]",
      "text/plain": [
       "<Figure size 432x288 with 1 Axes>"
      ]
     },
     "metadata": {
      "needs_background": "light"
     },
     "output_type": "display_data"
    }
   ],
   "source": [
    "plt.plot(history.history['accuracy'])\n",
    "plt.plot(history.history['val_accuracy'])\n",
    "plt.title('model accuracy')\n",
    "plt.xlabel('Epochs')\n",
    "plt.ylabel('Accuracy')\n",
    "plt.legend(['train','test'], loc='upper left')\n",
    "plt.show()"
   ]
  },
  {
   "cell_type": "markdown",
   "metadata": {},
   "source": [
    "2."
   ]
  },
  {
   "cell_type": "code",
   "execution_count": 67,
   "metadata": {},
   "outputs": [
    {
     "name": "stdout",
     "output_type": "stream",
     "text": [
      "[4 4]\n"
     ]
    }
   ],
   "source": [
    "import numpy as np # 이미지 사이즈 일치시키기 위해서\n",
    "from imageio import imread\n",
    "from skimage.transform import resize\n",
    "from keras.models import model_from_json\n",
    "img_names=['cat.jpg','dog.jpg']\n",
    "imgs = [resize(imread(img_name), (32,32)).astype('float32')\n",
    "       for img_name in img_names]\n",
    "imgs = np.array(imgs) / 255\n",
    "predictions = model.predict_classes(imgs)\n",
    "print(predictions)"
   ]
  },
  {
   "cell_type": "markdown",
   "metadata": {},
   "source": [
    "# 전이(transfer learning)학습 Application\n",
    "- 반지도학습 (일부데이터의 라벨이 무) : Knn, Trenductive SVM\n",
    "- 가중치 활용 : 그대로 적용\n",
    "- 가중치 중 일부만 활용\n",
    "- FFNN 부분만 학습해서 사용"
   ]
  },
  {
   "cell_type": "markdown",
   "metadata": {},
   "source": [
    "# pre-trained, fine-tuning (FFNN부분만 Domain knowledge)"
   ]
  },
  {
   "cell_type": "code",
   "execution_count": 66,
   "metadata": {},
   "outputs": [
    {
     "name": "stdout",
     "output_type": "stream",
     "text": [
      "PIL image size (224, 224)\n"
     ]
    },
    {
     "data": {
      "image/png": "[encoded data removed]",
      "text/plain": [
       "<Figure size 432x288 with 1 Axes>"
      ]
     },
     "metadata": {
      "needs_background": "light"
     },
     "output_type": "display_data"
    },
    {
     "name": "stdout",
     "output_type": "stream",
     "text": [
      "numpy array size (224, 224, 3)\n",
      "image batch size (1, 224, 224, 3)\n",
      "[[('n07753592', 'banana', 0.99610066), ('n07749582', 'lemon', 0.0016311731), ('n07747607', 'orange', 0.00054173963), ('n07716906', 'spaghetti_squash', 0.00053685525), ('n07716358', 'zucchini', 0.000418416)]]\n"
     ]
    },
    {
     "data": {
      "image/png": "[encoded data removed]",
      "text/plain": [
       "<Figure size 432x288 with 1 Axes>"
      ]
     },
     "metadata": {
      "needs_background": "light"
     },
     "output_type": "display_data"
    }
   ],
   "source": [
    "import PIL\n",
    "from keras.preprocessing.image import load_img\n",
    "from keras.preprocessing.image import img_to_array\n",
    "from keras.applications.imagenet_utils import decode_predictions\n",
    "import numpy as np\n",
    "from keras.applications.resnet50 import ResNet50\n",
    "from keras.applications import resnet50\n",
    "# 전처리\n",
    "filename = 'banana.jpg'\n",
    "# (224,224) 사이즈 fix\n",
    "original = load_img(filename, target_size = (224,224))\n",
    "print('PIL image size',original.size)\n",
    "plt.imshow(original)\n",
    "plt.show()\n",
    "numpy_image = img_to_array(original)\n",
    "plt.imshow(np.uint8(numpy_image))\n",
    "print('numpy array size', numpy_image.shape)\n",
    "# 차원확대하는 이유? 이미지 여러장 처리(전제조건)\n",
    "# 1장의 이미지 (3차원 -> 4차원으로 확장)\n",
    "image_batch = np.expand_dims(numpy_image, axis = 0)\n",
    "print('image batch size', image_batch.shape)\n",
    "# prepare the image for the resnet50 model\n",
    "processed_image = resnet50.preprocess_input(image_batch.copy())\n",
    "# dense을 이용해서 모델을 생성\n",
    "# label을 가지고 있고 => 확률로 나오게 되면 : decode_predictions로 라벨링\n",
    "resnet_model = resnet50.ResNet50(weights = 'imagenet') # weights = 'imagenet'가 없으면 훈련이 안된 가중치로 초기화\n",
    "# softmax 확률값으로 나옴 ( 상위 3개로 예측 )\n",
    "predictions = resnet_model.predict(processed_image)\n",
    "label = decode_predictions(predictions) # labelling\n",
    "print(label)"
   ]
  },
  {
   "cell_type": "code",
   "execution_count": 65,
   "metadata": {},
   "outputs": [
    {
     "name": "stdout",
     "output_type": "stream",
     "text": [
      "[[('n07753592', 'banana', 0.99610066), ('n07749582', 'lemon', 0.0016311731), ('n07747607', 'orange', 0.00054173963)]]\n"
     ]
    }
   ],
   "source": [
    "label = decode_predictions(predictions, top=3) # labelling\n",
    "print(label)"
   ]
  },
  {
   "cell_type": "code",
   "execution_count": null,
   "metadata": {},
   "outputs": [],
   "source": [
    "# tf.keras\n",
    "# fine-tunig : FFNN 부분만 학습\n",
    "# imagedata generater"
   ]
  },
  {
   "cell_type": "code",
   "execution_count": 34,
   "metadata": {},
   "outputs": [],
   "source": [
    "from numpy.random import randn\n",
    "import pathlib\n",
    "import random\n",
    "import matplotlib.pyplot as plt\n",
    "import tensorflow as tf\n",
    "import numpy as np\n",
    "from matplotlib.image import imread\n",
    "from keras.preprocessing import image\n",
    "# tf.enable_eager_execution() # 맨처음 실행할때 해줘야함\n",
    "AUTOTUNE = tf.data.experimental.AUTOTUNE\n",
    "data_dir = \"C:\\\\Users\\\\ICT01_06\\\\Documents\\\\Python\\\\jupyter\\\\전달\\\\flowers\\\\flower_photos\"\n",
    "data_dir = pathlib.Path(data_dir)\n",
    "label_names={'daisy':0,'dandelion':1,'roses':2,'sunflowers':3,'tulips':4}\n",
    "label_key = ['daisy','dandelion','rose','sunflowers','tulips']"
   ]
  },
  {
   "cell_type": "code",
   "execution_count": 35,
   "metadata": {},
   "outputs": [],
   "source": [
    "all_images = list(data_dir.glob('*/*')) # 파일명로딩\n",
    "all_images = [str(path) for path in all_images]\n",
    "random.shuffle(all_images)\n",
    "# 이미지 주소에 대하여 라벨 할당해 줘야함\n",
    "# 디렉토리의 경로를 관리하는 라이브러리\n",
    "all_labels=[label_names[pathlib.Path(path).parent.name] for path in all_images]\n",
    "data_size = len(all_images)\n",
    "train_test_split = (int)(data_size*0.2) # 80% : 20%\n",
    "x_train = all_images[train_test_split:]\n",
    "x_test = all_images[:train_test_split]\n",
    "y_train = all_labels[train_test_split:]\n",
    "y_test = all_labels[:train_test_split]\n",
    "IMG_SIZE = 160\n",
    "BATCH_SIZE = 32"
   ]
  },
  {
   "cell_type": "code",
   "execution_count": 36,
   "metadata": {},
   "outputs": [],
   "source": [
    "def _parse_data(x,y):\n",
    "    image = tf.read_file(x) # 파일에는 헤더파일(압축방법에 대한 설명이 있음)\n",
    "    image = tf.image.decode_jpeg(image, channels=3) # color 이미지\n",
    "    image = tf.cast(image, tf.float32) # 데이터를 나누기위해서 float형으로 변경\n",
    "    image = (image/127.5) - 1 # 0~2 (반으로 나눠주면) => -1~1 사이즈로 변화시키기위해서\n",
    "    # 이미지 사이즈 통일 160x160(강제로 변환)\n",
    "    image = tf.image.resize(image, (IMG_SIZE, IMG_SIZE))\n",
    "    return image, y\n",
    "\n",
    "def _input_fn(x,y):\n",
    "    # 기본단위 요소로 분해\n",
    "    ds = tf.data.Dataset.from_tensor_slices((x,y)) # dataset을 생성\n",
    "    ds = ds.map(_parse_data) # 함수를 적용\n",
    "    # buffer: 거쳐가는 기억공간\n",
    "    ds = ds.shuffle(buffer_size=data_size) # 데이터가 shuffle이 될 수 있는 충분한 공간확보\n",
    "    ds = ds.repeat() # 데이터가 부족하면 처음부터 다시 시작하라\n",
    "    ds = ds.batch(BATCH_SIZE) # minibatch 사이즈\n",
    "    ds = ds.prefetch(buffer_size=AUTOTUNE) # 32x3 , 32x5 ? 뭐가 유리할지는 slice가 결정\n",
    "    return ds\n",
    "\n",
    "train_ds = _input_fn(x_train,y_train)\n",
    "validation_ds = _input_fn(x_test,y_test)"
   ]
  },
  {
   "cell_type": "code",
   "execution_count": 37,
   "metadata": {},
   "outputs": [],
   "source": [
    "IMG_SHAPE = (IMG_SIZE, IMG_SIZE, 3)\n",
    "# include_top = False인 경우는 input_shape=IMG_SHAPE을 지정\n",
    "# convolution 가중치 학습이 무\n",
    "# 망을 3개 생성\n",
    "VGG16_MODEL = tf.keras.applications.VGG16(input_shape=IMG_SHAPE,\n",
    "                                         include_top=False,\n",
    "                                          weights='imagenet') # 1망"
   ]
  },
  {
   "cell_type": "code",
   "execution_count": 38,
   "metadata": {},
   "outputs": [],
   "source": [
    "VGG16_MODEL.trainable = False # 학습하지 않겠다.\n",
    "# flatten(가중치가 필요) 사용안함. -> GlobalAveragePooling2D (가중치 필요없음)\n",
    "global_average_layer = tf.keras.layers.GlobalAveragePooling2D() # 2망\n",
    "# ffnn의 가중치는 학습\n",
    "prediction_layer = tf.keras.layers.Dense(len(label_names), activation='softmax') # 3망"
   ]
  },
  {
   "cell_type": "code",
   "execution_count": 39,
   "metadata": {},
   "outputs": [],
   "source": [
    "model = tf.keras.Sequential([VGG16_MODEL, # model (vgg16 가중치 + FFNN 가중치 학습)\n",
    "                            global_average_layer,\n",
    "                            prediction_layer])"
   ]
  },
  {
   "cell_type": "code",
   "execution_count": 40,
   "metadata": {},
   "outputs": [],
   "source": [
    "# tf.train.AdamOptimizer() -> tensorflow사용해서\n",
    "# sparse_categorical_crossentropy 희소행렬\n",
    "#  - 100개의 라벨로 분류\n",
    "model.compile(optimizer=tf.train.AdamOptimizer(),\n",
    "             loss = tf.keras.losses.sparse_categorical_crossentropy, # 분류하는 것이 많을때 사용\n",
    "             metrics=['accuracy'])"
   ]
  },
  {
   "cell_type": "code",
   "execution_count": 41,
   "metadata": {},
   "outputs": [
    {
     "name": "stdout",
     "output_type": "stream",
     "text": [
      "Epoch 1/100\n"
     ]
    },
    {
     "ename": "InvalidArgumentError",
     "evalue": "2 root error(s) found.\n  (0) Invalid argument: Invalid JPEG data or crop window, data size 2636\n\t [[{{node DecodeJpeg}}]]\n\t [[IteratorGetNext_5]]\n\t [[IteratorGetNext_5/_1001]]\n  (1) Invalid argument: Invalid JPEG data or crop window, data size 2636\n\t [[{{node DecodeJpeg}}]]\n\t [[IteratorGetNext_5]]\n0 successful operations.\n0 derived errors ignored.",
     "output_type": "error",
     "traceback": [
      "\u001b[1;31m---------------------------------------------------------------------------\u001b[0m",
      "\u001b[1;31mInvalidArgumentError\u001b[0m                      Traceback (most recent call last)",
      "\u001b[1;32m<ipython-input-41-24067da1fa7d>\u001b[0m in \u001b[0;36m<module>\u001b[1;34m\u001b[0m\n\u001b[1;32m----> 1\u001b[1;33m \u001b[0mhistory\u001b[0m \u001b[1;33m=\u001b[0m \u001b[0mmodel\u001b[0m\u001b[1;33m.\u001b[0m\u001b[0mfit\u001b[0m\u001b[1;33m(\u001b[0m\u001b[0mtrain_ds\u001b[0m\u001b[1;33m,\u001b[0m \u001b[0mepochs\u001b[0m\u001b[1;33m=\u001b[0m\u001b[1;36m100\u001b[0m\u001b[1;33m,\u001b[0m \u001b[0msteps_per_epoch\u001b[0m\u001b[1;33m=\u001b[0m\u001b[1;36m2\u001b[0m\u001b[1;33m)\u001b[0m\u001b[1;33m\u001b[0m\u001b[1;33m\u001b[0m\u001b[0m\n\u001b[0m\u001b[0;32m      2\u001b[0m \u001b[1;31m# history = model.fit(train_ds, epochs=100, steps_per_epoch=2, validation_steps=2,\u001b[0m\u001b[1;33m\u001b[0m\u001b[1;33m\u001b[0m\u001b[1;33m\u001b[0m\u001b[0m\n\u001b[0;32m      3\u001b[0m \u001b[1;31m#                     validation_data=validation_ds)\u001b[0m\u001b[1;33m\u001b[0m\u001b[1;33m\u001b[0m\u001b[1;33m\u001b[0m\u001b[0m\n",
      "\u001b[1;32m~\\Anaconda3\\envs\\tf_test\\lib\\site-packages\\tensorflow\\python\\keras\\engine\\training.py\u001b[0m in \u001b[0;36mfit\u001b[1;34m(self, x, y, batch_size, epochs, verbose, callbacks, validation_split, validation_data, shuffle, class_weight, sample_weight, initial_epoch, steps_per_epoch, validation_steps, validation_freq, max_queue_size, workers, use_multiprocessing, **kwargs)\u001b[0m\n\u001b[0;32m    778\u001b[0m           \u001b[0mvalidation_steps\u001b[0m\u001b[1;33m=\u001b[0m\u001b[0mvalidation_steps\u001b[0m\u001b[1;33m,\u001b[0m\u001b[1;33m\u001b[0m\u001b[1;33m\u001b[0m\u001b[0m\n\u001b[0;32m    779\u001b[0m           \u001b[0mvalidation_freq\u001b[0m\u001b[1;33m=\u001b[0m\u001b[0mvalidation_freq\u001b[0m\u001b[1;33m,\u001b[0m\u001b[1;33m\u001b[0m\u001b[1;33m\u001b[0m\u001b[0m\n\u001b[1;32m--> 780\u001b[1;33m           steps_name='steps_per_epoch')\n\u001b[0m\u001b[0;32m    781\u001b[0m \u001b[1;33m\u001b[0m\u001b[0m\n\u001b[0;32m    782\u001b[0m   def evaluate(self,\n",
      "\u001b[1;32m~\\Anaconda3\\envs\\tf_test\\lib\\site-packages\\tensorflow\\python\\keras\\engine\\training_arrays.py\u001b[0m in \u001b[0;36mmodel_iteration\u001b[1;34m(model, inputs, targets, sample_weights, batch_size, epochs, verbose, callbacks, val_inputs, val_targets, val_sample_weights, shuffle, initial_epoch, steps_per_epoch, validation_steps, validation_freq, mode, validation_in_fit, prepared_feed_values_from_dataset, steps_name, **kwargs)\u001b[0m\n\u001b[0;32m    272\u001b[0m           \u001b[1;31m# `ins` can be callable in tf.distribute.Strategy + eager case.\u001b[0m\u001b[1;33m\u001b[0m\u001b[1;33m\u001b[0m\u001b[1;33m\u001b[0m\u001b[0m\n\u001b[0;32m    273\u001b[0m           \u001b[0mactual_inputs\u001b[0m \u001b[1;33m=\u001b[0m \u001b[0mins\u001b[0m\u001b[1;33m(\u001b[0m\u001b[1;33m)\u001b[0m \u001b[1;32mif\u001b[0m \u001b[0mcallable\u001b[0m\u001b[1;33m(\u001b[0m\u001b[0mins\u001b[0m\u001b[1;33m)\u001b[0m \u001b[1;32melse\u001b[0m \u001b[0mins\u001b[0m\u001b[1;33m\u001b[0m\u001b[1;33m\u001b[0m\u001b[0m\n\u001b[1;32m--> 274\u001b[1;33m           \u001b[0mbatch_outs\u001b[0m \u001b[1;33m=\u001b[0m \u001b[0mf\u001b[0m\u001b[1;33m(\u001b[0m\u001b[0mactual_inputs\u001b[0m\u001b[1;33m)\u001b[0m\u001b[1;33m\u001b[0m\u001b[1;33m\u001b[0m\u001b[0m\n\u001b[0m\u001b[0;32m    275\u001b[0m         \u001b[1;32mexcept\u001b[0m \u001b[0merrors\u001b[0m\u001b[1;33m.\u001b[0m\u001b[0mOutOfRangeError\u001b[0m\u001b[1;33m:\u001b[0m\u001b[1;33m\u001b[0m\u001b[1;33m\u001b[0m\u001b[0m\n\u001b[0;32m    276\u001b[0m           \u001b[1;32mif\u001b[0m \u001b[0mis_dataset\u001b[0m\u001b[1;33m:\u001b[0m\u001b[1;33m\u001b[0m\u001b[1;33m\u001b[0m\u001b[0m\n",
      "\u001b[1;32m~\\Anaconda3\\envs\\tf_test\\lib\\site-packages\\tensorflow\\python\\keras\\backend.py\u001b[0m in \u001b[0;36m__call__\u001b[1;34m(self, inputs)\u001b[0m\n\u001b[0;32m   3290\u001b[0m \u001b[1;33m\u001b[0m\u001b[0m\n\u001b[0;32m   3291\u001b[0m     fetched = self._callable_fn(*array_vals,\n\u001b[1;32m-> 3292\u001b[1;33m                                 run_metadata=self.run_metadata)\n\u001b[0m\u001b[0;32m   3293\u001b[0m     \u001b[0mself\u001b[0m\u001b[1;33m.\u001b[0m\u001b[0m_call_fetch_callbacks\u001b[0m\u001b[1;33m(\u001b[0m\u001b[0mfetched\u001b[0m\u001b[1;33m[\u001b[0m\u001b[1;33m-\u001b[0m\u001b[0mlen\u001b[0m\u001b[1;33m(\u001b[0m\u001b[0mself\u001b[0m\u001b[1;33m.\u001b[0m\u001b[0m_fetches\u001b[0m\u001b[1;33m)\u001b[0m\u001b[1;33m:\u001b[0m\u001b[1;33m]\u001b[0m\u001b[1;33m)\u001b[0m\u001b[1;33m\u001b[0m\u001b[1;33m\u001b[0m\u001b[0m\n\u001b[0;32m   3294\u001b[0m     output_structure = nest.pack_sequence_as(\n",
      "\u001b[1;32m~\\Anaconda3\\envs\\tf_test\\lib\\site-packages\\tensorflow\\python\\client\\session.py\u001b[0m in \u001b[0;36m__call__\u001b[1;34m(self, *args, **kwargs)\u001b[0m\n\u001b[0;32m   1456\u001b[0m         ret = tf_session.TF_SessionRunCallable(self._session._session,\n\u001b[0;32m   1457\u001b[0m                                                \u001b[0mself\u001b[0m\u001b[1;33m.\u001b[0m\u001b[0m_handle\u001b[0m\u001b[1;33m,\u001b[0m \u001b[0margs\u001b[0m\u001b[1;33m,\u001b[0m\u001b[1;33m\u001b[0m\u001b[1;33m\u001b[0m\u001b[0m\n\u001b[1;32m-> 1458\u001b[1;33m                                                run_metadata_ptr)\n\u001b[0m\u001b[0;32m   1459\u001b[0m         \u001b[1;32mif\u001b[0m \u001b[0mrun_metadata\u001b[0m\u001b[1;33m:\u001b[0m\u001b[1;33m\u001b[0m\u001b[1;33m\u001b[0m\u001b[0m\n\u001b[0;32m   1460\u001b[0m           \u001b[0mproto_data\u001b[0m \u001b[1;33m=\u001b[0m \u001b[0mtf_session\u001b[0m\u001b[1;33m.\u001b[0m\u001b[0mTF_GetBuffer\u001b[0m\u001b[1;33m(\u001b[0m\u001b[0mrun_metadata_ptr\u001b[0m\u001b[1;33m)\u001b[0m\u001b[1;33m\u001b[0m\u001b[1;33m\u001b[0m\u001b[0m\n",
      "\u001b[1;31mInvalidArgumentError\u001b[0m: 2 root error(s) found.\n  (0) Invalid argument: Invalid JPEG data or crop window, data size 2636\n\t [[{{node DecodeJpeg}}]]\n\t [[IteratorGetNext_5]]\n\t [[IteratorGetNext_5/_1001]]\n  (1) Invalid argument: Invalid JPEG data or crop window, data size 2636\n\t [[{{node DecodeJpeg}}]]\n\t [[IteratorGetNext_5]]\n0 successful operations.\n0 derived errors ignored."
     ]
    }
   ],
   "source": [
    "history = model.fit(train_ds, epochs=100, steps_per_epoch=2)\n",
    "# history = model.fit(train_ds, epochs=100, steps_per_epoch=2, validation_steps=2,\n",
    "#                     validation_data=validation_ds)"
   ]
  },
  {
   "cell_type": "code",
   "execution_count": 44,
   "metadata": {},
   "outputs": [
    {
     "data": {
      "image/png": "[encoded data removed]",
      "text/plain": [
       "<Figure size 432x288 with 1 Axes>"
      ]
     },
     "metadata": {
      "needs_background": "light"
     },
     "output_type": "display_data"
    }
   ],
   "source": [
    "plt.plot(history.history['acc'])\n",
    "# plt.plot(history.history['val_acc'])\n",
    "plt.title('model accuracy')\n",
    "plt.ylabel('accuracy')\n",
    "plt.xlabel('epoch')\n",
    "plt.legend(['train', 'test'], loc='upper left')\n",
    "plt.show()"
   ]
  },
  {
   "cell_type": "code",
   "execution_count": null,
   "metadata": {},
   "outputs": [],
   "source": []
  }
 ],
 "metadata": {
  "kernelspec": {
   "display_name": "Python 3",
   "language": "python",
   "name": "python3"
  },
  "language_info": {
   "codemirror_mode": {
    "name": "ipython",
    "version": 3
   },
   "file_extension": ".py",
   "mimetype": "text/x-python",
   "name": "python",
   "nbconvert_exporter": "python",
   "pygments_lexer": "ipython3",
   "version": "3.7.6"
  },
  "toc": {
   "base_numbering": 1,
   "nav_menu": {},
   "number_sections": true,
   "sideBar": true,
   "skip_h1_title": false,
   "title_cell": "Table of Contents",
   "title_sidebar": "Contents",
   "toc_cell": false,
   "toc_position": {},
   "toc_section_display": true,
   "toc_window_display": false
  }
 },
 "nbformat": 4,
 "nbformat_minor": 4
}
