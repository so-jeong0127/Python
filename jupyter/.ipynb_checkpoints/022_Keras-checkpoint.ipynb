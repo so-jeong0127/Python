{
 "cells": [
  {
   "cell_type": "code",
   "execution_count": 1,
   "metadata": {},
   "outputs": [
    {
     "name": "stderr",
     "output_type": "stream",
     "text": [
      "Using TensorFlow backend.\n",
      "C:\\Users\\ICT01_22\\Anaconda3\\envs\\tf_test\\lib\\site-packages\\tensorflow\\python\\framework\\dtypes.py:516: FutureWarning: Passing (type, 1) or '1type' as a synonym of type is deprecated; in a future version of numpy, it will be understood as (type, (1,)) / '(1,)type'.\n",
      "  _np_qint8 = np.dtype([(\"qint8\", np.int8, 1)])\n",
      "C:\\Users\\ICT01_22\\Anaconda3\\envs\\tf_test\\lib\\site-packages\\tensorflow\\python\\framework\\dtypes.py:517: FutureWarning: Passing (type, 1) or '1type' as a synonym of type is deprecated; in a future version of numpy, it will be understood as (type, (1,)) / '(1,)type'.\n",
      "  _np_quint8 = np.dtype([(\"quint8\", np.uint8, 1)])\n",
      "C:\\Users\\ICT01_22\\Anaconda3\\envs\\tf_test\\lib\\site-packages\\tensorflow\\python\\framework\\dtypes.py:518: FutureWarning: Passing (type, 1) or '1type' as a synonym of type is deprecated; in a future version of numpy, it will be understood as (type, (1,)) / '(1,)type'.\n",
      "  _np_qint16 = np.dtype([(\"qint16\", np.int16, 1)])\n",
      "C:\\Users\\ICT01_22\\Anaconda3\\envs\\tf_test\\lib\\site-packages\\tensorflow\\python\\framework\\dtypes.py:519: FutureWarning: Passing (type, 1) or '1type' as a synonym of type is deprecated; in a future version of numpy, it will be understood as (type, (1,)) / '(1,)type'.\n",
      "  _np_quint16 = np.dtype([(\"quint16\", np.uint16, 1)])\n",
      "C:\\Users\\ICT01_22\\Anaconda3\\envs\\tf_test\\lib\\site-packages\\tensorflow\\python\\framework\\dtypes.py:520: FutureWarning: Passing (type, 1) or '1type' as a synonym of type is deprecated; in a future version of numpy, it will be understood as (type, (1,)) / '(1,)type'.\n",
      "  _np_qint32 = np.dtype([(\"qint32\", np.int32, 1)])\n",
      "C:\\Users\\ICT01_22\\Anaconda3\\envs\\tf_test\\lib\\site-packages\\tensorflow\\python\\framework\\dtypes.py:525: FutureWarning: Passing (type, 1) or '1type' as a synonym of type is deprecated; in a future version of numpy, it will be understood as (type, (1,)) / '(1,)type'.\n",
      "  np_resource = np.dtype([(\"resource\", np.ubyte, 1)])\n",
      "C:\\Users\\ICT01_22\\Anaconda3\\envs\\tf_test\\lib\\site-packages\\tensorboard\\compat\\tensorflow_stub\\dtypes.py:541: FutureWarning: Passing (type, 1) or '1type' as a synonym of type is deprecated; in a future version of numpy, it will be understood as (type, (1,)) / '(1,)type'.\n",
      "  _np_qint8 = np.dtype([(\"qint8\", np.int8, 1)])\n",
      "C:\\Users\\ICT01_22\\Anaconda3\\envs\\tf_test\\lib\\site-packages\\tensorboard\\compat\\tensorflow_stub\\dtypes.py:542: FutureWarning: Passing (type, 1) or '1type' as a synonym of type is deprecated; in a future version of numpy, it will be understood as (type, (1,)) / '(1,)type'.\n",
      "  _np_quint8 = np.dtype([(\"quint8\", np.uint8, 1)])\n",
      "C:\\Users\\ICT01_22\\Anaconda3\\envs\\tf_test\\lib\\site-packages\\tensorboard\\compat\\tensorflow_stub\\dtypes.py:543: FutureWarning: Passing (type, 1) or '1type' as a synonym of type is deprecated; in a future version of numpy, it will be understood as (type, (1,)) / '(1,)type'.\n",
      "  _np_qint16 = np.dtype([(\"qint16\", np.int16, 1)])\n",
      "C:\\Users\\ICT01_22\\Anaconda3\\envs\\tf_test\\lib\\site-packages\\tensorboard\\compat\\tensorflow_stub\\dtypes.py:544: FutureWarning: Passing (type, 1) or '1type' as a synonym of type is deprecated; in a future version of numpy, it will be understood as (type, (1,)) / '(1,)type'.\n",
      "  _np_quint16 = np.dtype([(\"quint16\", np.uint16, 1)])\n",
      "C:\\Users\\ICT01_22\\Anaconda3\\envs\\tf_test\\lib\\site-packages\\tensorboard\\compat\\tensorflow_stub\\dtypes.py:545: FutureWarning: Passing (type, 1) or '1type' as a synonym of type is deprecated; in a future version of numpy, it will be understood as (type, (1,)) / '(1,)type'.\n",
      "  _np_qint32 = np.dtype([(\"qint32\", np.int32, 1)])\n",
      "C:\\Users\\ICT01_22\\Anaconda3\\envs\\tf_test\\lib\\site-packages\\tensorboard\\compat\\tensorflow_stub\\dtypes.py:550: FutureWarning: Passing (type, 1) or '1type' as a synonym of type is deprecated; in a future version of numpy, it will be understood as (type, (1,)) / '(1,)type'.\n",
      "  np_resource = np.dtype([(\"resource\", np.ubyte, 1)])\n"
     ]
    },
    {
     "name": "stdout",
     "output_type": "stream",
     "text": [
      "WARNING:tensorflow:From C:\\Users\\ICT01_22\\Anaconda3\\envs\\tf_test\\lib\\site-packages\\keras\\backend\\tensorflow_backend.py:422: The name tf.global_variables is deprecated. Please use tf.compat.v1.global_variables instead.\n",
      "\n",
      "입력데이터 = [0.29466096 0.30317302], 예측결과 = [0.1730279]\n",
      "입력데이터 = [0.39445118 0.79390858], 예측결과 = [0.745042]\n",
      "입력데이터 = [0.02884127 0.6208843 ], 예측결과 = [0.4033771]\n"
     ]
    }
   ],
   "source": [
    "# 회귀분석\n",
    "from keras.models import Sequential # keras models 서브패키지\n",
    "from keras.layers import Dense      # layers => 모델구성\n",
    "from sklearn.datasets import make_regression\n",
    "# 신경망 - 정규화\n",
    "from sklearn.preprocessing import MinMaxScaler\n",
    "\n",
    "X, y = make_regression(n_samples=100, n_features=2, noise=0.1, random_state=1) # X = 100x2, y = 100\n",
    "\n",
    "# 값의 범위가 다름\n",
    "scalarX, scalarY = MinMaxScaler(), MinMaxScaler() # data 값의 범위가 다르므로 Minmax 두 번 사용\n",
    "scalarX.fit(X)\n",
    "scalarY.fit(y.reshape(100,1)) # y는 열로 나오기 때문에 행으로 변형\n",
    "X = scalarX.transform(X)\n",
    "y = scalarY.transform(y.reshape(100, 1))\n",
    "\n",
    "# keras model 시작\n",
    "# 망만 생성 100x2\n",
    "model = Sequential()\n",
    "# dense : FFNN\n",
    "model.add(Dense(4, input_dim=2, activation='relu')) # 4 : 출력 차수 , 가중치(2x4) => 100x4\n",
    "# layer depth 1\n",
    "model.add(Dense(4, activation='relu')) # 100x4 가중치(4x4) => 100x4 \n",
    "# layer depth 2\n",
    "model.add(Dense(1, activation='linear')) # 100x4 가중치(4x1) => 100x1, 예측\n",
    "# layer depth 3\n",
    "# 전 layer에서 계산된 것이 다음 layer에서 적용\n",
    "\n",
    "# backend가 tensorflow\n",
    "# loss : mse(회귀), cross enthropy, KL-divergence(GAN) : 분포를 비교\n",
    "model.compile(loss='mse', optimizer='adam') # tensorflow 모델로 변환\n",
    "model.fit(X, y, epochs=1000, verbose=0) # tensorflow에서 minimize는 for문 두개 첫번쨰는 epoch 두번째는 batch_size-> 이걸 한번에 하는 함수\n",
    "# verbose = 학습 중 출력되는 문구를 설정합니다.\n",
    "# - 0 : 아무 것도 출력하지 않습니다.\n",
    "# - 1 : 훈련의 진행도를 보여주는 진행 막대를 보여줍니다.\n",
    "# - 2 : 미니 배치마다 손실 정보를 출력합니다.\n",
    "Xnew, a = make_regression(n_samples=3, n_features=2, noise=0.1, random_state=1)\n",
    "Xnew = scalarX.transform(Xnew)\n",
    "ynew = model.predict(Xnew)\n",
    "for i in range(len(Xnew)) :\n",
    "    print(\"입력데이터 = %s, 예측결과 = %s\" %(Xnew[i], ynew[i]))"
   ]
  },
  {
   "cell_type": "code",
   "execution_count": 2,
   "metadata": {},
   "outputs": [
    {
     "name": "stdout",
     "output_type": "stream",
     "text": [
      "WARNING:tensorflow:From C:\\Users\\ICT01_22\\Anaconda3\\envs\\tf_test\\lib\\site-packages\\tensorflow\\python\\ops\\nn_impl.py:180: add_dispatch_support.<locals>.wrapper (from tensorflow.python.ops.array_ops) is deprecated and will be removed in a future version.\n",
      "Instructions for updating:\n",
      "Use tf.where in 2.0, which has the same broadcast rule as np.where\n",
      "Epoch 1/150\n",
      "768/768 [==============================] - 0s 344us/step - loss: 3.1791 - accuracy: 0.5820\n",
      "Epoch 2/150\n",
      "768/768 [==============================] - 0s 65us/step - loss: 0.9561 - accuracy: 0.5716\n",
      "Epoch 3/150\n",
      "768/768 [==============================] - 0s 64us/step - loss: 0.7638 - accuracy: 0.6328\n",
      "Epoch 4/150\n",
      "768/768 [==============================] - 0s 64us/step - loss: 0.7218 - accuracy: 0.6458\n",
      "Epoch 5/150\n",
      "768/768 [==============================] - 0s 99us/step - loss: 0.6945 - accuracy: 0.6732\n",
      "Epoch 6/150\n",
      "768/768 [==============================] - 0s 64us/step - loss: 0.6682 - accuracy: 0.6849\n",
      "Epoch 7/150\n",
      "768/768 [==============================] - 0s 65us/step - loss: 0.6623 - accuracy: 0.6745\n",
      "Epoch 8/150\n",
      "768/768 [==============================] - 0s 65us/step - loss: 0.6484 - accuracy: 0.6875\n",
      "Epoch 9/150\n",
      "768/768 [==============================] - 0s 62us/step - loss: 0.6351 - accuracy: 0.7005\n",
      "Epoch 10/150\n",
      "768/768 [==============================] - 0s 64us/step - loss: 0.6420 - accuracy: 0.6810\n",
      "Epoch 11/150\n",
      "768/768 [==============================] - 0s 62us/step - loss: 0.6575 - accuracy: 0.6706\n",
      "Epoch 12/150\n",
      "768/768 [==============================] - 0s 61us/step - loss: 0.6552 - accuracy: 0.6680\n",
      "Epoch 13/150\n",
      "768/768 [==============================] - 0s 65us/step - loss: 0.6381 - accuracy: 0.6784\n",
      "Epoch 14/150\n",
      "768/768 [==============================] - 0s 66us/step - loss: 0.6226 - accuracy: 0.7018\n",
      "Epoch 15/150\n",
      "768/768 [==============================] - 0s 64us/step - loss: 0.6027 - accuracy: 0.7031\n",
      "Epoch 16/150\n",
      "768/768 [==============================] - 0s 62us/step - loss: 0.5869 - accuracy: 0.7031\n",
      "Epoch 17/150\n",
      "768/768 [==============================] - 0s 64us/step - loss: 0.5821 - accuracy: 0.6953\n",
      "Epoch 18/150\n",
      "768/768 [==============================] - 0s 64us/step - loss: 0.5930 - accuracy: 0.6953\n",
      "Epoch 19/150\n",
      "768/768 [==============================] - 0s 62us/step - loss: 0.5750 - accuracy: 0.7083\n",
      "Epoch 20/150\n",
      "768/768 [==============================] - 0s 61us/step - loss: 0.5753 - accuracy: 0.7305\n",
      "Epoch 21/150\n",
      "768/768 [==============================] - 0s 65us/step - loss: 0.5654 - accuracy: 0.7135\n",
      "Epoch 22/150\n",
      "768/768 [==============================] - 0s 64us/step - loss: 0.5787 - accuracy: 0.7005\n",
      "Epoch 23/150\n",
      "768/768 [==============================] - 0s 75us/step - loss: 0.5710 - accuracy: 0.7148\n",
      "Epoch 24/150\n",
      "768/768 [==============================] - 0s 71us/step - loss: 0.5679 - accuracy: 0.7331\n",
      "Epoch 25/150\n",
      "768/768 [==============================] - 0s 61us/step - loss: 0.5555 - accuracy: 0.7461\n",
      "Epoch 26/150\n",
      "768/768 [==============================] - 0s 65us/step - loss: 0.5733 - accuracy: 0.7148\n",
      "Epoch 27/150\n",
      "768/768 [==============================] - 0s 70us/step - loss: 0.5559 - accuracy: 0.7240\n",
      "Epoch 28/150\n",
      "768/768 [==============================] - 0s 62us/step - loss: 0.5578 - accuracy: 0.7279\n",
      "Epoch 29/150\n",
      "768/768 [==============================] - 0s 62us/step - loss: 0.5776 - accuracy: 0.7201\n",
      "Epoch 30/150\n",
      "768/768 [==============================] - 0s 62us/step - loss: 0.5622 - accuracy: 0.7201\n",
      "Epoch 31/150\n",
      "768/768 [==============================] - 0s 62us/step - loss: 0.5703 - accuracy: 0.7109\n",
      "Epoch 32/150\n",
      "768/768 [==============================] - 0s 64us/step - loss: 0.5675 - accuracy: 0.7148\n",
      "Epoch 33/150\n",
      "768/768 [==============================] - 0s 64us/step - loss: 0.5549 - accuracy: 0.7109\n",
      "Epoch 34/150\n",
      "768/768 [==============================] - 0s 62us/step - loss: 0.5550 - accuracy: 0.7292\n",
      "Epoch 35/150\n",
      "768/768 [==============================] - 0s 62us/step - loss: 0.5562 - accuracy: 0.7174\n",
      "Epoch 36/150\n",
      "768/768 [==============================] - 0s 62us/step - loss: 0.5647 - accuracy: 0.7122\n",
      "Epoch 37/150\n",
      "768/768 [==============================] - 0s 62us/step - loss: 0.5357 - accuracy: 0.7331\n",
      "Epoch 38/150\n",
      "768/768 [==============================] - 0s 62us/step - loss: 0.5461 - accuracy: 0.7227\n",
      "Epoch 39/150\n",
      "768/768 [==============================] - 0s 61us/step - loss: 0.5529 - accuracy: 0.7188\n",
      "Epoch 40/150\n",
      "768/768 [==============================] - 0s 61us/step - loss: 0.5501 - accuracy: 0.7214\n",
      "Epoch 41/150\n",
      "768/768 [==============================] - 0s 66us/step - loss: 0.5481 - accuracy: 0.7240\n",
      "Epoch 42/150\n",
      "768/768 [==============================] - 0s 61us/step - loss: 0.5411 - accuracy: 0.7253\n",
      "Epoch 43/150\n",
      "768/768 [==============================] - 0s 65us/step - loss: 0.5367 - accuracy: 0.7344\n",
      "Epoch 44/150\n",
      "768/768 [==============================] - 0s 62us/step - loss: 0.5400 - accuracy: 0.7435\n",
      "Epoch 45/150\n",
      "768/768 [==============================] - 0s 65us/step - loss: 0.5369 - accuracy: 0.7578\n",
      "Epoch 46/150\n",
      "768/768 [==============================] - 0s 61us/step - loss: 0.5290 - accuracy: 0.7435\n",
      "Epoch 47/150\n",
      "768/768 [==============================] - 0s 58us/step - loss: 0.5377 - accuracy: 0.7344\n",
      "Epoch 48/150\n",
      "768/768 [==============================] - 0s 61us/step - loss: 0.5387 - accuracy: 0.7370\n",
      "Epoch 49/150\n",
      "768/768 [==============================] - 0s 60us/step - loss: 0.5395 - accuracy: 0.7487\n",
      "Epoch 50/150\n",
      "768/768 [==============================] - 0s 58us/step - loss: 0.5304 - accuracy: 0.7370\n",
      "Epoch 51/150\n",
      "768/768 [==============================] - 0s 66us/step - loss: 0.5328 - accuracy: 0.7461\n",
      "Epoch 52/150\n",
      "768/768 [==============================] - 0s 60us/step - loss: 0.5403 - accuracy: 0.7357\n",
      "Epoch 53/150\n",
      "768/768 [==============================] - 0s 58us/step - loss: 0.5396 - accuracy: 0.7396\n",
      "Epoch 54/150\n",
      "768/768 [==============================] - 0s 60us/step - loss: 0.5442 - accuracy: 0.7344\n",
      "Epoch 55/150\n",
      "768/768 [==============================] - 0s 65us/step - loss: 0.5225 - accuracy: 0.7461\n",
      "Epoch 56/150\n",
      "768/768 [==============================] - 0s 61us/step - loss: 0.5325 - accuracy: 0.7396\n",
      "Epoch 57/150\n",
      "768/768 [==============================] - 0s 60us/step - loss: 0.5373 - accuracy: 0.7422\n",
      "Epoch 58/150\n",
      "768/768 [==============================] - 0s 60us/step - loss: 0.5281 - accuracy: 0.7500\n",
      "Epoch 59/150\n",
      "768/768 [==============================] - 0s 60us/step - loss: 0.5161 - accuracy: 0.7500\n",
      "Epoch 60/150\n",
      "768/768 [==============================] - 0s 61us/step - loss: 0.5384 - accuracy: 0.7396\n",
      "Epoch 61/150\n",
      "768/768 [==============================] - 0s 61us/step - loss: 0.5290 - accuracy: 0.7305\n",
      "Epoch 62/150\n",
      "768/768 [==============================] - 0s 61us/step - loss: 0.5218 - accuracy: 0.7474\n",
      "Epoch 63/150\n",
      "768/768 [==============================] - 0s 65us/step - loss: 0.5488 - accuracy: 0.7240\n",
      "Epoch 64/150\n",
      "768/768 [==============================] - 0s 60us/step - loss: 0.5397 - accuracy: 0.7396\n",
      "Epoch 65/150\n",
      "768/768 [==============================] - 0s 70us/step - loss: 0.5248 - accuracy: 0.7461\n",
      "Epoch 66/150\n",
      "768/768 [==============================] - 0s 60us/step - loss: 0.5115 - accuracy: 0.7396\n",
      "Epoch 67/150\n",
      "768/768 [==============================] - 0s 60us/step - loss: 0.5200 - accuracy: 0.7357\n",
      "Epoch 68/150\n",
      "768/768 [==============================] - 0s 60us/step - loss: 0.5202 - accuracy: 0.7513\n",
      "Epoch 69/150\n",
      "768/768 [==============================] - 0s 58us/step - loss: 0.5231 - accuracy: 0.7474\n",
      "Epoch 70/150\n",
      "768/768 [==============================] - 0s 61us/step - loss: 0.5370 - accuracy: 0.7266\n",
      "Epoch 71/150\n",
      "768/768 [==============================] - 0s 64us/step - loss: 0.5241 - accuracy: 0.7474\n",
      "Epoch 72/150\n",
      "768/768 [==============================] - 0s 73us/step - loss: 0.5203 - accuracy: 0.7487\n",
      "Epoch 73/150\n",
      "768/768 [==============================] - 0s 61us/step - loss: 0.5210 - accuracy: 0.7383\n",
      "Epoch 74/150\n",
      "768/768 [==============================] - 0s 66us/step - loss: 0.5181 - accuracy: 0.7565\n",
      "Epoch 75/150\n",
      "768/768 [==============================] - 0s 60us/step - loss: 0.5167 - accuracy: 0.7500\n",
      "Epoch 76/150\n",
      "768/768 [==============================] - 0s 61us/step - loss: 0.5159 - accuracy: 0.7526\n",
      "Epoch 77/150\n"
     ]
    },
    {
     "name": "stdout",
     "output_type": "stream",
     "text": [
      "768/768 [==============================] - 0s 60us/step - loss: 0.5253 - accuracy: 0.7526\n",
      "Epoch 78/150\n",
      "768/768 [==============================] - 0s 61us/step - loss: 0.5186 - accuracy: 0.7578\n",
      "Epoch 79/150\n",
      "768/768 [==============================] - 0s 60us/step - loss: 0.5142 - accuracy: 0.7409\n",
      "Epoch 80/150\n",
      "768/768 [==============================] - 0s 60us/step - loss: 0.5171 - accuracy: 0.7604\n",
      "Epoch 81/150\n",
      "768/768 [==============================] - 0s 61us/step - loss: 0.5132 - accuracy: 0.7565\n",
      "Epoch 82/150\n",
      "768/768 [==============================] - 0s 64us/step - loss: 0.5004 - accuracy: 0.7487\n",
      "Epoch 83/150\n",
      "768/768 [==============================] - 0s 61us/step - loss: 0.5046 - accuracy: 0.7500\n",
      "Epoch 84/150\n",
      "768/768 [==============================] - 0s 61us/step - loss: 0.4987 - accuracy: 0.7539\n",
      "Epoch 85/150\n",
      "768/768 [==============================] - 0s 58us/step - loss: 0.5072 - accuracy: 0.7448\n",
      "Epoch 86/150\n",
      "768/768 [==============================] - 0s 60us/step - loss: 0.5075 - accuracy: 0.7422\n",
      "Epoch 87/150\n",
      "768/768 [==============================] - 0s 61us/step - loss: 0.4988 - accuracy: 0.7539\n",
      "Epoch 88/150\n",
      "768/768 [==============================] - 0s 61us/step - loss: 0.5029 - accuracy: 0.7552\n",
      "Epoch 89/150\n",
      "768/768 [==============================] - 0s 62us/step - loss: 0.5040 - accuracy: 0.7773\n",
      "Epoch 90/150\n",
      "768/768 [==============================] - 0s 62us/step - loss: 0.5088 - accuracy: 0.7526\n",
      "Epoch 91/150\n",
      "768/768 [==============================] - 0s 62us/step - loss: 0.5009 - accuracy: 0.7552\n",
      "Epoch 92/150\n",
      "768/768 [==============================] - 0s 61us/step - loss: 0.5070 - accuracy: 0.7448\n",
      "Epoch 93/150\n",
      "768/768 [==============================] - 0s 62us/step - loss: 0.5005 - accuracy: 0.7604\n",
      "Epoch 94/150\n",
      "768/768 [==============================] - 0s 66us/step - loss: 0.4982 - accuracy: 0.7604\n",
      "Epoch 95/150\n",
      "768/768 [==============================] - 0s 66us/step - loss: 0.5063 - accuracy: 0.7422\n",
      "Epoch 96/150\n",
      "768/768 [==============================] - 0s 64us/step - loss: 0.4897 - accuracy: 0.7643\n",
      "Epoch 97/150\n",
      "768/768 [==============================] - 0s 66us/step - loss: 0.4921 - accuracy: 0.7760\n",
      "Epoch 98/150\n",
      "768/768 [==============================] - 0s 61us/step - loss: 0.4891 - accuracy: 0.7591\n",
      "Epoch 99/150\n",
      "768/768 [==============================] - 0s 60us/step - loss: 0.4899 - accuracy: 0.7708\n",
      "Epoch 100/150\n",
      "768/768 [==============================] - 0s 60us/step - loss: 0.4872 - accuracy: 0.7721\n",
      "Epoch 101/150\n",
      "768/768 [==============================] - 0s 60us/step - loss: 0.4863 - accuracy: 0.7773\n",
      "Epoch 102/150\n",
      "768/768 [==============================] - 0s 62us/step - loss: 0.5002 - accuracy: 0.7513\n",
      "Epoch 103/150\n",
      "768/768 [==============================] - 0s 62us/step - loss: 0.4961 - accuracy: 0.7591\n",
      "Epoch 104/150\n",
      "768/768 [==============================] - 0s 62us/step - loss: 0.4919 - accuracy: 0.7786\n",
      "Epoch 105/150\n",
      "768/768 [==============================] - 0s 62us/step - loss: 0.5235 - accuracy: 0.7461\n",
      "Epoch 106/150\n",
      "768/768 [==============================] - 0s 62us/step - loss: 0.4982 - accuracy: 0.7643\n",
      "Epoch 107/150\n",
      "768/768 [==============================] - 0s 64us/step - loss: 0.4940 - accuracy: 0.7786\n",
      "Epoch 108/150\n",
      "768/768 [==============================] - 0s 64us/step - loss: 0.5085 - accuracy: 0.7474\n",
      "Epoch 109/150\n",
      "768/768 [==============================] - 0s 64us/step - loss: 0.4874 - accuracy: 0.7591\n",
      "Epoch 110/150\n",
      "768/768 [==============================] - 0s 62us/step - loss: 0.4893 - accuracy: 0.7552\n",
      "Epoch 111/150\n",
      "768/768 [==============================] - 0s 62us/step - loss: 0.4837 - accuracy: 0.7656\n",
      "Epoch 112/150\n",
      "768/768 [==============================] - 0s 61us/step - loss: 0.4931 - accuracy: 0.7643\n",
      "Epoch 113/150\n",
      "768/768 [==============================] - 0s 62us/step - loss: 0.5001 - accuracy: 0.7526\n",
      "Epoch 114/150\n",
      "768/768 [==============================] - 0s 62us/step - loss: 0.4869 - accuracy: 0.7552\n",
      "Epoch 115/150\n",
      "768/768 [==============================] - 0s 64us/step - loss: 0.4847 - accuracy: 0.7669\n",
      "Epoch 116/150\n",
      "768/768 [==============================] - 0s 60us/step - loss: 0.4864 - accuracy: 0.7721\n",
      "Epoch 117/150\n",
      "768/768 [==============================] - 0s 60us/step - loss: 0.4905 - accuracy: 0.7617\n",
      "Epoch 118/150\n",
      "768/768 [==============================] - 0s 61us/step - loss: 0.4912 - accuracy: 0.7617\n",
      "Epoch 119/150\n",
      "768/768 [==============================] - 0s 62us/step - loss: 0.4849 - accuracy: 0.7799\n",
      "Epoch 120/150\n",
      "768/768 [==============================] - 0s 64us/step - loss: 0.4946 - accuracy: 0.7643\n",
      "Epoch 121/150\n",
      "768/768 [==============================] - 0s 70us/step - loss: 0.4966 - accuracy: 0.7630\n",
      "Epoch 122/150\n",
      "768/768 [==============================] - 0s 62us/step - loss: 0.4826 - accuracy: 0.7630\n",
      "Epoch 123/150\n",
      "768/768 [==============================] - 0s 61us/step - loss: 0.4887 - accuracy: 0.7565\n",
      "Epoch 124/150\n",
      "768/768 [==============================] - 0s 60us/step - loss: 0.4828 - accuracy: 0.7643\n",
      "Epoch 125/150\n",
      "768/768 [==============================] - 0s 61us/step - loss: 0.4857 - accuracy: 0.7786\n",
      "Epoch 126/150\n",
      "768/768 [==============================] - 0s 58us/step - loss: 0.4822 - accuracy: 0.7591\n",
      "Epoch 127/150\n",
      "768/768 [==============================] - 0s 73us/step - loss: 0.4914 - accuracy: 0.7474\n",
      "Epoch 128/150\n",
      "768/768 [==============================] - 0s 61us/step - loss: 0.4717 - accuracy: 0.7656\n",
      "Epoch 129/150\n",
      "768/768 [==============================] - 0s 60us/step - loss: 0.4849 - accuracy: 0.7669\n",
      "Epoch 130/150\n",
      "768/768 [==============================] - 0s 60us/step - loss: 0.4690 - accuracy: 0.7865\n",
      "Epoch 131/150\n",
      "768/768 [==============================] - 0s 62us/step - loss: 0.4808 - accuracy: 0.7617\n",
      "Epoch 132/150\n",
      "768/768 [==============================] - 0s 62us/step - loss: 0.4790 - accuracy: 0.7852\n",
      "Epoch 133/150\n",
      "768/768 [==============================] - 0s 69us/step - loss: 0.4840 - accuracy: 0.7669\n",
      "Epoch 134/150\n",
      "768/768 [==============================] - 0s 70us/step - loss: 0.4826 - accuracy: 0.7656\n",
      "Epoch 135/150\n",
      "768/768 [==============================] - 0s 64us/step - loss: 0.4748 - accuracy: 0.7708\n",
      "Epoch 136/150\n",
      "768/768 [==============================] - 0s 65us/step - loss: 0.4701 - accuracy: 0.7643\n",
      "Epoch 137/150\n",
      "768/768 [==============================] - 0s 66us/step - loss: 0.4671 - accuracy: 0.7799\n",
      "Epoch 138/150\n",
      "768/768 [==============================] - 0s 60us/step - loss: 0.4774 - accuracy: 0.7799\n",
      "Epoch 139/150\n",
      "768/768 [==============================] - 0s 61us/step - loss: 0.4667 - accuracy: 0.7826\n",
      "Epoch 140/150\n",
      "768/768 [==============================] - 0s 61us/step - loss: 0.4799 - accuracy: 0.7773\n",
      "Epoch 141/150\n",
      "768/768 [==============================] - 0s 62us/step - loss: 0.4681 - accuracy: 0.7773\n",
      "Epoch 142/150\n",
      "768/768 [==============================] - 0s 65us/step - loss: 0.4781 - accuracy: 0.7578\n",
      "Epoch 143/150\n",
      "768/768 [==============================] - 0s 69us/step - loss: 0.4738 - accuracy: 0.7760\n",
      "Epoch 144/150\n",
      "768/768 [==============================] - 0s 61us/step - loss: 0.4736 - accuracy: 0.7786\n",
      "Epoch 145/150\n",
      "768/768 [==============================] - 0s 65us/step - loss: 0.4812 - accuracy: 0.7747\n",
      "Epoch 146/150\n",
      "768/768 [==============================] - 0s 62us/step - loss: 0.5001 - accuracy: 0.7591\n",
      "Epoch 147/150\n",
      "768/768 [==============================] - 0s 65us/step - loss: 0.4816 - accuracy: 0.7721\n",
      "Epoch 148/150\n",
      "768/768 [==============================] - 0s 66us/step - loss: 0.4739 - accuracy: 0.7747\n",
      "Epoch 149/150\n",
      "768/768 [==============================] - 0s 64us/step - loss: 0.4727 - accuracy: 0.7695\n",
      "Epoch 150/150\n",
      "768/768 [==============================] - 0s 62us/step - loss: 0.4747 - accuracy: 0.7747\n",
      "768/768 [==============================] - 0s 61us/step\n",
      "\n",
      "accuracy: 76.69%\n"
     ]
    }
   ],
   "source": [
    "from keras.models import Sequential # 입력이 하나, output도 하나인 망\n",
    "from keras.layers import Dense\n",
    "import numpy\n",
    "numpy.random.seed(7)\n",
    "dataset = numpy.loadtxt(\"pima.data\",delimiter=',')\n",
    "X = dataset[:, 0:8] # 8개 독립변수\n",
    "Y = dataset[:, 8] # 종속변수\n",
    "\n",
    "model = Sequential()\n",
    "# ?x8 8x12 => ?x12 \n",
    "model.add(Dense(12, input_dim=8, activation = 'relu'))\n",
    "# ?x12 12x8 => ?x8\n",
    "model.add(Dense(8, activation = 'relu'))\n",
    "# ?x8 8x1 => ?x1\n",
    "model.add(Dense(1, activation='sigmoid')) # sigmoid: 0.5를 기준으로 (0, 1)\n",
    "model.compile(loss='binary_crossentropy', optimizer='adam',\n",
    "              metrics=['accuracy'])\n",
    "model.fit(X,Y,epochs=150, batch_size=10)\n",
    "scores = model.evaluate(X,Y)\n",
    "# 2번째 accuracy\n",
    "print(\"\\n%s: %.2f%%\" % (model.metrics_names[1], scores[1]*100))"
   ]
  },
  {
   "cell_type": "code",
   "execution_count": 3,
   "metadata": {},
   "outputs": [
    {
     "name": "stdout",
     "output_type": "stream",
     "text": [
      "Train on 514 samples, validate on 254 samples\n",
      "Epoch 1/150\n",
      "514/514 [==============================] - 0s 603us/step - loss: 0.6796 - accuracy: 0.6401 - val_loss: 0.6586 - val_accuracy: 0.6732\n",
      "Epoch 2/150\n",
      "514/514 [==============================] - 0s 95us/step - loss: 0.6690 - accuracy: 0.6401 - val_loss: 0.6531 - val_accuracy: 0.6732\n",
      "Epoch 3/150\n",
      "514/514 [==============================] - 0s 93us/step - loss: 0.6618 - accuracy: 0.6381 - val_loss: 0.6517 - val_accuracy: 0.6732\n",
      "Epoch 4/150\n",
      "514/514 [==============================] - 0s 89us/step - loss: 0.6541 - accuracy: 0.6362 - val_loss: 0.6459 - val_accuracy: 0.6850\n",
      "Epoch 5/150\n",
      "514/514 [==============================] - 0s 87us/step - loss: 0.6458 - accuracy: 0.6440 - val_loss: 0.6372 - val_accuracy: 0.7087\n",
      "Epoch 6/150\n",
      "514/514 [==============================] - 0s 93us/step - loss: 0.6397 - accuracy: 0.6420 - val_loss: 0.6253 - val_accuracy: 0.6929\n",
      "Epoch 7/150\n",
      "514/514 [==============================] - 0s 87us/step - loss: 0.6320 - accuracy: 0.6537 - val_loss: 0.6169 - val_accuracy: 0.6811\n",
      "Epoch 8/150\n",
      "514/514 [==============================] - 0s 87us/step - loss: 0.6240 - accuracy: 0.6595 - val_loss: 0.6067 - val_accuracy: 0.6850\n",
      "Epoch 9/150\n",
      "514/514 [==============================] - 0s 87us/step - loss: 0.6163 - accuracy: 0.6732 - val_loss: 0.6043 - val_accuracy: 0.6890\n",
      "Epoch 10/150\n",
      "514/514 [==============================] - 0s 85us/step - loss: 0.6105 - accuracy: 0.6984 - val_loss: 0.5977 - val_accuracy: 0.6969\n",
      "Epoch 11/150\n",
      "514/514 [==============================] - 0s 91us/step - loss: 0.6057 - accuracy: 0.6751 - val_loss: 0.5983 - val_accuracy: 0.6850\n",
      "Epoch 12/150\n",
      "514/514 [==============================] - 0s 87us/step - loss: 0.6074 - accuracy: 0.6673 - val_loss: 0.5832 - val_accuracy: 0.7087\n",
      "Epoch 13/150\n",
      "514/514 [==============================] - 0s 83us/step - loss: 0.6087 - accuracy: 0.6693 - val_loss: 0.5845 - val_accuracy: 0.6772\n",
      "Epoch 14/150\n",
      "514/514 [==============================] - 0s 83us/step - loss: 0.5948 - accuracy: 0.7062 - val_loss: 0.5793 - val_accuracy: 0.7165\n",
      "Epoch 15/150\n",
      "514/514 [==============================] - 0s 85us/step - loss: 0.5896 - accuracy: 0.7082 - val_loss: 0.5752 - val_accuracy: 0.6890\n",
      "Epoch 16/150\n",
      "514/514 [==============================] - 0s 101us/step - loss: 0.5972 - accuracy: 0.7004 - val_loss: 0.5760 - val_accuracy: 0.6969\n",
      "Epoch 17/150\n",
      "514/514 [==============================] - 0s 89us/step - loss: 0.5887 - accuracy: 0.7101 - val_loss: 0.5683 - val_accuracy: 0.7126\n",
      "Epoch 18/150\n",
      "514/514 [==============================] - 0s 91us/step - loss: 0.5843 - accuracy: 0.7121 - val_loss: 0.5757 - val_accuracy: 0.7047\n",
      "Epoch 19/150\n",
      "514/514 [==============================] - 0s 85us/step - loss: 0.5868 - accuracy: 0.6984 - val_loss: 0.5746 - val_accuracy: 0.7047\n",
      "Epoch 20/150\n",
      "514/514 [==============================] - 0s 87us/step - loss: 0.5822 - accuracy: 0.7062 - val_loss: 0.5733 - val_accuracy: 0.7126\n",
      "Epoch 21/150\n",
      "514/514 [==============================] - 0s 89us/step - loss: 0.5777 - accuracy: 0.7198 - val_loss: 0.5780 - val_accuracy: 0.6969\n",
      "Epoch 22/150\n",
      "514/514 [==============================] - 0s 85us/step - loss: 0.5739 - accuracy: 0.7335 - val_loss: 0.5681 - val_accuracy: 0.7087\n",
      "Epoch 23/150\n",
      "514/514 [==============================] - 0s 87us/step - loss: 0.5754 - accuracy: 0.7043 - val_loss: 0.5669 - val_accuracy: 0.7205\n",
      "Epoch 24/150\n",
      "514/514 [==============================] - 0s 89us/step - loss: 0.5617 - accuracy: 0.7179 - val_loss: 0.5629 - val_accuracy: 0.7205\n",
      "Epoch 25/150\n",
      "514/514 [==============================] - 0s 85us/step - loss: 0.5668 - accuracy: 0.7160 - val_loss: 0.5605 - val_accuracy: 0.7126\n",
      "Epoch 26/150\n",
      "514/514 [==============================] - 0s 87us/step - loss: 0.5641 - accuracy: 0.7335 - val_loss: 0.5654 - val_accuracy: 0.7205\n",
      "Epoch 27/150\n",
      "514/514 [==============================] - 0s 85us/step - loss: 0.5617 - accuracy: 0.7257 - val_loss: 0.5613 - val_accuracy: 0.7244\n",
      "Epoch 28/150\n",
      "514/514 [==============================] - 0s 95us/step - loss: 0.5614 - accuracy: 0.7276 - val_loss: 0.6193 - val_accuracy: 0.5984\n",
      "Epoch 29/150\n",
      "514/514 [==============================] - 0s 89us/step - loss: 0.5603 - accuracy: 0.7218 - val_loss: 0.5710 - val_accuracy: 0.7323\n",
      "Epoch 30/150\n",
      "514/514 [==============================] - 0s 89us/step - loss: 0.5537 - accuracy: 0.7393 - val_loss: 0.5655 - val_accuracy: 0.7165\n",
      "Epoch 31/150\n",
      "514/514 [==============================] - 0s 89us/step - loss: 0.5495 - accuracy: 0.7179 - val_loss: 0.5797 - val_accuracy: 0.7126\n",
      "Epoch 32/150\n",
      "514/514 [==============================] - 0s 85us/step - loss: 0.5635 - accuracy: 0.7218 - val_loss: 0.5999 - val_accuracy: 0.6654\n",
      "Epoch 33/150\n",
      "514/514 [==============================] - 0s 89us/step - loss: 0.5784 - accuracy: 0.7237 - val_loss: 0.5822 - val_accuracy: 0.7323\n",
      "Epoch 34/150\n",
      "514/514 [==============================] - 0s 85us/step - loss: 0.5527 - accuracy: 0.7257 - val_loss: 0.5585 - val_accuracy: 0.7126\n",
      "Epoch 35/150\n",
      "514/514 [==============================] - 0s 89us/step - loss: 0.5459 - accuracy: 0.7315 - val_loss: 0.5561 - val_accuracy: 0.7283\n",
      "Epoch 36/150\n",
      "514/514 [==============================] - 0s 91us/step - loss: 0.5541 - accuracy: 0.7276 - val_loss: 0.5583 - val_accuracy: 0.7205\n",
      "Epoch 37/150\n",
      "514/514 [==============================] - 0s 89us/step - loss: 0.5451 - accuracy: 0.7354 - val_loss: 0.5620 - val_accuracy: 0.7323\n",
      "Epoch 38/150\n",
      "514/514 [==============================] - 0s 89us/step - loss: 0.5465 - accuracy: 0.7354 - val_loss: 0.5464 - val_accuracy: 0.7244\n",
      "Epoch 39/150\n",
      "514/514 [==============================] - 0s 89us/step - loss: 0.5549 - accuracy: 0.7140 - val_loss: 0.5592 - val_accuracy: 0.7205\n",
      "Epoch 40/150\n",
      "514/514 [==============================] - 0s 89us/step - loss: 0.5472 - accuracy: 0.7393 - val_loss: 0.5513 - val_accuracy: 0.7283\n",
      "Epoch 41/150\n",
      "514/514 [==============================] - 0s 87us/step - loss: 0.5417 - accuracy: 0.7374 - val_loss: 0.5514 - val_accuracy: 0.7126\n",
      "Epoch 42/150\n",
      "514/514 [==============================] - 0s 83us/step - loss: 0.5477 - accuracy: 0.7451 - val_loss: 0.5780 - val_accuracy: 0.7087\n",
      "Epoch 43/150\n",
      "514/514 [==============================] - 0s 83us/step - loss: 0.5467 - accuracy: 0.7374 - val_loss: 0.5516 - val_accuracy: 0.7205\n",
      "Epoch 44/150\n",
      "514/514 [==============================] - 0s 85us/step - loss: 0.5451 - accuracy: 0.7296 - val_loss: 0.5492 - val_accuracy: 0.7244\n",
      "Epoch 45/150\n",
      "514/514 [==============================] - 0s 85us/step - loss: 0.5365 - accuracy: 0.7412 - val_loss: 0.5838 - val_accuracy: 0.6811\n",
      "Epoch 46/150\n",
      "514/514 [==============================] - 0s 83us/step - loss: 0.5491 - accuracy: 0.7218 - val_loss: 0.5584 - val_accuracy: 0.7087\n",
      "Epoch 47/150\n",
      "514/514 [==============================] - 0s 85us/step - loss: 0.5509 - accuracy: 0.7237 - val_loss: 0.5534 - val_accuracy: 0.7362\n",
      "Epoch 48/150\n",
      "514/514 [==============================] - 0s 85us/step - loss: 0.5410 - accuracy: 0.7296 - val_loss: 0.5544 - val_accuracy: 0.7283\n",
      "Epoch 49/150\n",
      "514/514 [==============================] - 0s 95us/step - loss: 0.5412 - accuracy: 0.7412 - val_loss: 0.5487 - val_accuracy: 0.7165\n",
      "Epoch 50/150\n",
      "514/514 [==============================] - 0s 83us/step - loss: 0.5390 - accuracy: 0.7393 - val_loss: 0.5569 - val_accuracy: 0.7126\n",
      "Epoch 51/150\n",
      "514/514 [==============================] - 0s 85us/step - loss: 0.5329 - accuracy: 0.7490 - val_loss: 0.5484 - val_accuracy: 0.7244\n",
      "Epoch 52/150\n",
      "514/514 [==============================] - 0s 83us/step - loss: 0.5367 - accuracy: 0.7510 - val_loss: 0.5535 - val_accuracy: 0.7205\n",
      "Epoch 53/150\n",
      "514/514 [==============================] - 0s 93us/step - loss: 0.5346 - accuracy: 0.7529 - val_loss: 0.5450 - val_accuracy: 0.7323\n",
      "Epoch 54/150\n",
      "514/514 [==============================] - 0s 87us/step - loss: 0.5320 - accuracy: 0.7315 - val_loss: 0.5421 - val_accuracy: 0.7441\n",
      "Epoch 55/150\n",
      "514/514 [==============================] - 0s 87us/step - loss: 0.5295 - accuracy: 0.7374 - val_loss: 0.5450 - val_accuracy: 0.7323\n",
      "Epoch 56/150\n",
      "514/514 [==============================] - 0s 87us/step - loss: 0.5368 - accuracy: 0.7354 - val_loss: 0.5528 - val_accuracy: 0.7402\n",
      "Epoch 57/150\n"
     ]
    },
    {
     "name": "stdout",
     "output_type": "stream",
     "text": [
      "514/514 [==============================] - 0s 95us/step - loss: 0.5375 - accuracy: 0.7354 - val_loss: 0.5496 - val_accuracy: 0.7283\n",
      "Epoch 58/150\n",
      "514/514 [==============================] - 0s 89us/step - loss: 0.5296 - accuracy: 0.7315 - val_loss: 0.5609 - val_accuracy: 0.7087\n",
      "Epoch 59/150\n",
      "514/514 [==============================] - 0s 93us/step - loss: 0.5406 - accuracy: 0.7276 - val_loss: 0.5428 - val_accuracy: 0.7559\n",
      "Epoch 60/150\n",
      "514/514 [==============================] - 0s 91us/step - loss: 0.5365 - accuracy: 0.7296 - val_loss: 0.5497 - val_accuracy: 0.7323\n",
      "Epoch 61/150\n",
      "514/514 [==============================] - 0s 87us/step - loss: 0.5344 - accuracy: 0.7335 - val_loss: 0.5448 - val_accuracy: 0.7402\n",
      "Epoch 62/150\n",
      "514/514 [==============================] - 0s 85us/step - loss: 0.5339 - accuracy: 0.7257 - val_loss: 0.5440 - val_accuracy: 0.7480\n",
      "Epoch 63/150\n",
      "514/514 [==============================] - 0s 91us/step - loss: 0.5261 - accuracy: 0.7451 - val_loss: 0.5453 - val_accuracy: 0.7323\n",
      "Epoch 64/150\n",
      "514/514 [==============================] - 0s 93us/step - loss: 0.5307 - accuracy: 0.7354 - val_loss: 0.5404 - val_accuracy: 0.7323\n",
      "Epoch 65/150\n",
      "514/514 [==============================] - 0s 91us/step - loss: 0.5346 - accuracy: 0.7296 - val_loss: 0.5496 - val_accuracy: 0.7165\n",
      "Epoch 66/150\n",
      "514/514 [==============================] - 0s 91us/step - loss: 0.5346 - accuracy: 0.7354 - val_loss: 0.5357 - val_accuracy: 0.7480\n",
      "Epoch 67/150\n",
      "514/514 [==============================] - 0s 93us/step - loss: 0.5256 - accuracy: 0.7412 - val_loss: 0.5384 - val_accuracy: 0.7402\n",
      "Epoch 68/150\n",
      "514/514 [==============================] - 0s 93us/step - loss: 0.5298 - accuracy: 0.7354 - val_loss: 0.5520 - val_accuracy: 0.7283\n",
      "Epoch 69/150\n",
      "514/514 [==============================] - 0s 91us/step - loss: 0.5320 - accuracy: 0.7296 - val_loss: 0.5406 - val_accuracy: 0.7323\n",
      "Epoch 70/150\n",
      "514/514 [==============================] - 0s 93us/step - loss: 0.5317 - accuracy: 0.7432 - val_loss: 0.5350 - val_accuracy: 0.7559\n",
      "Epoch 71/150\n",
      "514/514 [==============================] - 0s 91us/step - loss: 0.5253 - accuracy: 0.7471 - val_loss: 0.5342 - val_accuracy: 0.7480\n",
      "Epoch 72/150\n",
      "514/514 [==============================] - 0s 87us/step - loss: 0.5264 - accuracy: 0.7412 - val_loss: 0.5310 - val_accuracy: 0.7520\n",
      "Epoch 73/150\n",
      "514/514 [==============================] - 0s 87us/step - loss: 0.5274 - accuracy: 0.7296 - val_loss: 0.5312 - val_accuracy: 0.7520\n",
      "Epoch 74/150\n",
      "514/514 [==============================] - 0s 87us/step - loss: 0.5223 - accuracy: 0.7393 - val_loss: 0.5330 - val_accuracy: 0.7598\n",
      "Epoch 75/150\n",
      "514/514 [==============================] - 0s 87us/step - loss: 0.5255 - accuracy: 0.7490 - val_loss: 0.5314 - val_accuracy: 0.7520\n",
      "Epoch 76/150\n",
      "514/514 [==============================] - 0s 89us/step - loss: 0.5234 - accuracy: 0.7412 - val_loss: 0.5287 - val_accuracy: 0.7520\n",
      "Epoch 77/150\n",
      "514/514 [==============================] - 0s 95us/step - loss: 0.5216 - accuracy: 0.7471 - val_loss: 0.5325 - val_accuracy: 0.7480\n",
      "Epoch 78/150\n",
      "514/514 [==============================] - 0s 87us/step - loss: 0.5189 - accuracy: 0.7471 - val_loss: 0.5271 - val_accuracy: 0.7638\n",
      "Epoch 79/150\n",
      "514/514 [==============================] - 0s 87us/step - loss: 0.5267 - accuracy: 0.7471 - val_loss: 0.5299 - val_accuracy: 0.7520\n",
      "Epoch 80/150\n",
      "514/514 [==============================] - 0s 85us/step - loss: 0.5197 - accuracy: 0.7432 - val_loss: 0.5311 - val_accuracy: 0.7480\n",
      "Epoch 81/150\n",
      "514/514 [==============================] - 0s 87us/step - loss: 0.5268 - accuracy: 0.7451 - val_loss: 0.5337 - val_accuracy: 0.7480\n",
      "Epoch 82/150\n",
      "514/514 [==============================] - 0s 93us/step - loss: 0.5206 - accuracy: 0.7257 - val_loss: 0.5250 - val_accuracy: 0.7559\n",
      "Epoch 83/150\n",
      "514/514 [==============================] - 0s 85us/step - loss: 0.5150 - accuracy: 0.7315 - val_loss: 0.5375 - val_accuracy: 0.7283\n",
      "Epoch 84/150\n",
      "514/514 [==============================] - 0s 87us/step - loss: 0.5246 - accuracy: 0.7451 - val_loss: 0.5284 - val_accuracy: 0.7638\n",
      "Epoch 85/150\n",
      "514/514 [==============================] - 0s 83us/step - loss: 0.5190 - accuracy: 0.7568 - val_loss: 0.5263 - val_accuracy: 0.7638\n",
      "Epoch 86/150\n",
      "514/514 [==============================] - 0s 89us/step - loss: 0.5149 - accuracy: 0.7412 - val_loss: 0.5258 - val_accuracy: 0.7520\n",
      "Epoch 87/150\n",
      "514/514 [==============================] - 0s 85us/step - loss: 0.5138 - accuracy: 0.7451 - val_loss: 0.5234 - val_accuracy: 0.7598\n",
      "Epoch 88/150\n",
      "514/514 [==============================] - 0s 85us/step - loss: 0.5145 - accuracy: 0.7490 - val_loss: 0.5463 - val_accuracy: 0.7402\n",
      "Epoch 89/150\n",
      "514/514 [==============================] - 0s 85us/step - loss: 0.5153 - accuracy: 0.7451 - val_loss: 0.5254 - val_accuracy: 0.7520\n",
      "Epoch 90/150\n",
      "514/514 [==============================] - 0s 93us/step - loss: 0.5167 - accuracy: 0.7335 - val_loss: 0.5312 - val_accuracy: 0.7441\n",
      "Epoch 91/150\n",
      "514/514 [==============================] - 0s 93us/step - loss: 0.5209 - accuracy: 0.7412 - val_loss: 0.5357 - val_accuracy: 0.7441\n",
      "Epoch 92/150\n",
      "514/514 [==============================] - 0s 91us/step - loss: 0.5225 - accuracy: 0.7393 - val_loss: 0.5287 - val_accuracy: 0.7480\n",
      "Epoch 93/150\n",
      "514/514 [==============================] - 0s 91us/step - loss: 0.5122 - accuracy: 0.7568 - val_loss: 0.5234 - val_accuracy: 0.7677\n",
      "Epoch 94/150\n",
      "514/514 [==============================] - 0s 93us/step - loss: 0.5182 - accuracy: 0.7471 - val_loss: 0.5194 - val_accuracy: 0.7677\n",
      "Epoch 95/150\n",
      "514/514 [==============================] - 0s 103us/step - loss: 0.5149 - accuracy: 0.7588 - val_loss: 0.5400 - val_accuracy: 0.7323\n",
      "Epoch 96/150\n",
      "514/514 [==============================] - 0s 101us/step - loss: 0.5211 - accuracy: 0.7412 - val_loss: 0.5223 - val_accuracy: 0.7638\n",
      "Epoch 97/150\n",
      "514/514 [==============================] - 0s 101us/step - loss: 0.5100 - accuracy: 0.7626 - val_loss: 0.5199 - val_accuracy: 0.7638\n",
      "Epoch 98/150\n",
      "514/514 [==============================] - 0s 93us/step - loss: 0.5219 - accuracy: 0.7335 - val_loss: 0.5392 - val_accuracy: 0.7402\n",
      "Epoch 99/150\n",
      "514/514 [==============================] - 0s 91us/step - loss: 0.5209 - accuracy: 0.7412 - val_loss: 0.5223 - val_accuracy: 0.7756\n",
      "Epoch 100/150\n",
      "514/514 [==============================] - 0s 89us/step - loss: 0.5137 - accuracy: 0.7432 - val_loss: 0.5130 - val_accuracy: 0.7835\n",
      "Epoch 101/150\n",
      "514/514 [==============================] - 0s 95us/step - loss: 0.5115 - accuracy: 0.7432 - val_loss: 0.5197 - val_accuracy: 0.7598\n",
      "Epoch 102/150\n",
      "514/514 [==============================] - 0s 97us/step - loss: 0.5059 - accuracy: 0.7412 - val_loss: 0.5171 - val_accuracy: 0.7717\n",
      "Epoch 103/150\n",
      "514/514 [==============================] - 0s 93us/step - loss: 0.5156 - accuracy: 0.7549 - val_loss: 0.5241 - val_accuracy: 0.7559\n",
      "Epoch 104/150\n",
      "514/514 [==============================] - 0s 99us/step - loss: 0.5104 - accuracy: 0.7393 - val_loss: 0.5180 - val_accuracy: 0.7677\n",
      "Epoch 105/150\n",
      "514/514 [==============================] - 0s 93us/step - loss: 0.5067 - accuracy: 0.7490 - val_loss: 0.5208 - val_accuracy: 0.7520\n",
      "Epoch 106/150\n",
      "514/514 [==============================] - 0s 93us/step - loss: 0.5082 - accuracy: 0.7451 - val_loss: 0.5140 - val_accuracy: 0.7756\n",
      "Epoch 107/150\n",
      "514/514 [==============================] - 0s 95us/step - loss: 0.5100 - accuracy: 0.7412 - val_loss: 0.5277 - val_accuracy: 0.7441\n",
      "Epoch 108/150\n",
      "514/514 [==============================] - 0s 95us/step - loss: 0.5184 - accuracy: 0.7490 - val_loss: 0.5246 - val_accuracy: 0.7480\n",
      "Epoch 109/150\n",
      "514/514 [==============================] - 0s 95us/step - loss: 0.5097 - accuracy: 0.7529 - val_loss: 0.5119 - val_accuracy: 0.7795\n",
      "Epoch 110/150\n",
      "514/514 [==============================] - 0s 97us/step - loss: 0.5045 - accuracy: 0.7510 - val_loss: 0.5345 - val_accuracy: 0.7323\n",
      "Epoch 111/150\n",
      "514/514 [==============================] - 0s 93us/step - loss: 0.5129 - accuracy: 0.7510 - val_loss: 0.5116 - val_accuracy: 0.7717\n",
      "Epoch 112/150\n",
      "514/514 [==============================] - 0s 93us/step - loss: 0.5000 - accuracy: 0.7451 - val_loss: 0.5211 - val_accuracy: 0.7323\n",
      "Epoch 113/150\n"
     ]
    },
    {
     "name": "stdout",
     "output_type": "stream",
     "text": [
      "514/514 [==============================] - 0s 91us/step - loss: 0.5041 - accuracy: 0.7510 - val_loss: 0.5149 - val_accuracy: 0.7598\n",
      "Epoch 114/150\n",
      "514/514 [==============================] - 0s 93us/step - loss: 0.5024 - accuracy: 0.7354 - val_loss: 0.5065 - val_accuracy: 0.7717\n",
      "Epoch 115/150\n",
      "514/514 [==============================] - 0s 99us/step - loss: 0.5015 - accuracy: 0.7568 - val_loss: 0.5088 - val_accuracy: 0.7835\n",
      "Epoch 116/150\n",
      "514/514 [==============================] - 0s 99us/step - loss: 0.4994 - accuracy: 0.7529 - val_loss: 0.5063 - val_accuracy: 0.7717\n",
      "Epoch 117/150\n",
      "514/514 [==============================] - 0s 107us/step - loss: 0.5077 - accuracy: 0.7393 - val_loss: 0.5223 - val_accuracy: 0.7598\n",
      "Epoch 118/150\n",
      "514/514 [==============================] - 0s 93us/step - loss: 0.4997 - accuracy: 0.7568 - val_loss: 0.5095 - val_accuracy: 0.7717\n",
      "Epoch 119/150\n",
      "514/514 [==============================] - 0s 91us/step - loss: 0.5039 - accuracy: 0.7490 - val_loss: 0.5086 - val_accuracy: 0.7677\n",
      "Epoch 120/150\n",
      "514/514 [==============================] - 0s 91us/step - loss: 0.4983 - accuracy: 0.7626 - val_loss: 0.5042 - val_accuracy: 0.7598\n",
      "Epoch 121/150\n",
      "514/514 [==============================] - 0s 91us/step - loss: 0.5017 - accuracy: 0.7588 - val_loss: 0.5112 - val_accuracy: 0.7559\n",
      "Epoch 122/150\n",
      "514/514 [==============================] - 0s 91us/step - loss: 0.5020 - accuracy: 0.7451 - val_loss: 0.5043 - val_accuracy: 0.7677\n",
      "Epoch 123/150\n",
      "514/514 [==============================] - 0s 93us/step - loss: 0.4967 - accuracy: 0.7432 - val_loss: 0.5193 - val_accuracy: 0.7480\n",
      "Epoch 124/150\n",
      "514/514 [==============================] - 0s 99us/step - loss: 0.4985 - accuracy: 0.7607 - val_loss: 0.5025 - val_accuracy: 0.7559\n",
      "Epoch 125/150\n",
      "514/514 [==============================] - 0s 95us/step - loss: 0.4980 - accuracy: 0.7510 - val_loss: 0.5046 - val_accuracy: 0.7677\n",
      "Epoch 126/150\n",
      "514/514 [==============================] - 0s 95us/step - loss: 0.4900 - accuracy: 0.7451 - val_loss: 0.5130 - val_accuracy: 0.7559\n",
      "Epoch 127/150\n",
      "514/514 [==============================] - 0s 93us/step - loss: 0.4950 - accuracy: 0.7588 - val_loss: 0.5030 - val_accuracy: 0.7717\n",
      "Epoch 128/150\n",
      "514/514 [==============================] - 0s 93us/step - loss: 0.4949 - accuracy: 0.7510 - val_loss: 0.5051 - val_accuracy: 0.7598\n",
      "Epoch 129/150\n",
      "514/514 [==============================] - 0s 93us/step - loss: 0.4968 - accuracy: 0.7471 - val_loss: 0.5019 - val_accuracy: 0.7480\n",
      "Epoch 130/150\n",
      "514/514 [==============================] - 0s 91us/step - loss: 0.4934 - accuracy: 0.7607 - val_loss: 0.5012 - val_accuracy: 0.7756\n",
      "Epoch 131/150\n",
      "514/514 [==============================] - 0s 93us/step - loss: 0.4892 - accuracy: 0.7568 - val_loss: 0.5065 - val_accuracy: 0.7441\n",
      "Epoch 132/150\n",
      "514/514 [==============================] - 0s 101us/step - loss: 0.4937 - accuracy: 0.7568 - val_loss: 0.5077 - val_accuracy: 0.7638\n",
      "Epoch 133/150\n",
      "514/514 [==============================] - 0s 93us/step - loss: 0.4908 - accuracy: 0.7626 - val_loss: 0.5072 - val_accuracy: 0.7638\n",
      "Epoch 134/150\n",
      "514/514 [==============================] - 0s 95us/step - loss: 0.4886 - accuracy: 0.7588 - val_loss: 0.4964 - val_accuracy: 0.7598\n",
      "Epoch 135/150\n",
      "514/514 [==============================] - 0s 91us/step - loss: 0.4868 - accuracy: 0.7510 - val_loss: 0.4976 - val_accuracy: 0.7677\n",
      "Epoch 136/150\n",
      "514/514 [==============================] - 0s 113us/step - loss: 0.4879 - accuracy: 0.7490 - val_loss: 0.5035 - val_accuracy: 0.7795\n",
      "Epoch 137/150\n",
      "514/514 [==============================] - 0s 93us/step - loss: 0.5042 - accuracy: 0.7412 - val_loss: 0.5041 - val_accuracy: 0.7717\n",
      "Epoch 138/150\n",
      "514/514 [==============================] - 0s 95us/step - loss: 0.4860 - accuracy: 0.7588 - val_loss: 0.4941 - val_accuracy: 0.7717\n",
      "Epoch 139/150\n",
      "514/514 [==============================] - 0s 93us/step - loss: 0.4923 - accuracy: 0.7626 - val_loss: 0.4996 - val_accuracy: 0.7520\n",
      "Epoch 140/150\n",
      "514/514 [==============================] - 0s 93us/step - loss: 0.4802 - accuracy: 0.7626 - val_loss: 0.4978 - val_accuracy: 0.7677\n",
      "Epoch 141/150\n",
      "514/514 [==============================] - 0s 93us/step - loss: 0.4831 - accuracy: 0.7529 - val_loss: 0.4960 - val_accuracy: 0.7756\n",
      "Epoch 142/150\n",
      "514/514 [==============================] - 0s 99us/step - loss: 0.4854 - accuracy: 0.7626 - val_loss: 0.4930 - val_accuracy: 0.7677\n",
      "Epoch 143/150\n",
      "514/514 [==============================] - 0s 91us/step - loss: 0.4938 - accuracy: 0.7490 - val_loss: 0.4900 - val_accuracy: 0.7717\n",
      "Epoch 144/150\n",
      "514/514 [==============================] - 0s 95us/step - loss: 0.4984 - accuracy: 0.7490 - val_loss: 0.5082 - val_accuracy: 0.7638\n",
      "Epoch 145/150\n",
      "514/514 [==============================] - 0s 93us/step - loss: 0.4897 - accuracy: 0.7432 - val_loss: 0.5004 - val_accuracy: 0.7874\n",
      "Epoch 146/150\n",
      "514/514 [==============================] - 0s 93us/step - loss: 0.4882 - accuracy: 0.7451 - val_loss: 0.4970 - val_accuracy: 0.7717\n",
      "Epoch 147/150\n",
      "514/514 [==============================] - 0s 89us/step - loss: 0.4773 - accuracy: 0.7510 - val_loss: 0.5011 - val_accuracy: 0.7598\n",
      "Epoch 148/150\n",
      "514/514 [==============================] - 0s 93us/step - loss: 0.4914 - accuracy: 0.7588 - val_loss: 0.5145 - val_accuracy: 0.7638\n",
      "Epoch 149/150\n",
      "514/514 [==============================] - 0s 89us/step - loss: 0.4771 - accuracy: 0.7607 - val_loss: 0.4954 - val_accuracy: 0.7520\n",
      "Epoch 150/150\n",
      "514/514 [==============================] - 0s 103us/step - loss: 0.4805 - accuracy: 0.7646 - val_loss: 0.4982 - val_accuracy: 0.7756\n",
      "768/768 [==============================] - 0s 10us/step\n",
      "\n",
      "accuracy: 77.21%\n"
     ]
    }
   ],
   "source": [
    "from keras.models import Sequential # 입력이 하나, output도 하나인 망\n",
    "from keras.layers import Dense\n",
    "import numpy\n",
    "numpy.random.seed(7)\n",
    "dataset = numpy.loadtxt(\"pima.data\",delimiter=',')\n",
    "X = dataset[:, 0:8] # 8개 독립변수\n",
    "Y = dataset[:, 8] # 종속변수\n",
    "\n",
    "model = Sequential()\n",
    "# ?x8 8x12 => ?x12 \n",
    "# kernel_initializer='uniform': 우리도 모르는 가중치를 초기화 (균등분포로)\n",
    "model.add(Dense(12, input_dim=8, kernel_initializer='uniform', activation = 'relu'))\n",
    "# ?x12 12x8 => ?x8\n",
    "model.add(Dense(8, kernel_initializer='uniform', activation = 'relu'))\n",
    "# ?x8 8x1 => ?x1\n",
    "model.add(Dense(1, kernel_initializer='uniform', activation='sigmoid')) # sigmoid: 0.5를 기준으로 (0, 1)\n",
    "model.compile(loss='binary_crossentropy', optimizer='adam',\n",
    "              metrics=['accuracy'])\n",
    "\n",
    "# 데이터 분리 입력(train, test) : 과적합\n",
    "# history = model.fit(X,Y, epochs=150, batch_size=10)\n",
    "# train, validation, test\n",
    "history = model.fit(X,Y, validation_split=0.33, epochs=150, batch_size=10)\n",
    "scores = model.evaluate(X,Y)\n",
    "\n",
    "# 2번째 accuracy\n",
    "print(\"\\n%s: %.2f%%\" % (model.metrics_names[1], scores[1]*100))"
   ]
  },
  {
   "cell_type": "code",
   "execution_count": 4,
   "metadata": {},
   "outputs": [
    {
     "name": "stdout",
     "output_type": "stream",
     "text": [
      "dict_keys(['val_loss', 'val_accuracy', 'loss', 'accuracy'])\n"
     ]
    },
    {
     "data": {
      "image/png": "[encoded data removed]",
      "text/plain": [
       "<Figure size 432x288 with 1 Axes>"
      ]
     },
     "metadata": {
      "needs_background": "light"
     },
     "output_type": "display_data"
    }
   ],
   "source": [
    "print(history.history.keys())\n",
    "# 'val_loss', 'val_accuracy', 'loss', 'accuracy'\n",
    "\n",
    "%matplotlib inline\n",
    "import matplotlib.pyplot as plt\n",
    "\n",
    "plt.plot(history.history['accuracy'])\n",
    "plt.plot(history.history['val_accuracy'])\n",
    "plt.title('accuarcy')\n",
    "plt.ylabel('accuarcy')\n",
    "plt.xlabel('epoch')\n",
    "plt.legend(['train','test'], loc='upper left')\n",
    "plt.show()"
   ]
  },
  {
   "cell_type": "code",
   "execution_count": 5,
   "metadata": {
    "scrolled": true
   },
   "outputs": [
    {
     "data": {
      "image/png": "[encoded data removed]",
      "text/plain": [
       "<Figure size 432x288 with 1 Axes>"
      ]
     },
     "metadata": {
      "needs_background": "light"
     },
     "output_type": "display_data"
    }
   ],
   "source": [
    "plt.plot(history.history['loss'])\n",
    "plt.plot(history.history['val_loss'])\n",
    "plt.title('loss')\n",
    "plt.ylabel('loss')\n",
    "plt.xlabel('epoch')\n",
    "plt.legend(['train','test'], loc='upper left')\n",
    "plt.show()"
   ]
  },
  {
   "cell_type": "code",
   "execution_count": 6,
   "metadata": {},
   "outputs": [
    {
     "name": "stdout",
     "output_type": "stream",
     "text": [
      "(1000, 2)\n",
      "(1000,)\n"
     ]
    }
   ],
   "source": [
    "from sklearn.preprocessing import scale\n",
    "from sklearn.datasets import make_moons\n",
    "from sklearn.model_selection import train_test_split\n",
    "X, Y = make_moons(noise=0.2, random_state=0, n_samples=1000)\n",
    "X = scale(X)\n",
    "X_train, X_test, Y_train, Y_test = train_test_split(X, Y, test_size=.5)\n",
    "print(X.shape) # 1000x2\n",
    "print(Y.shape)"
   ]
  },
  {
   "cell_type": "code",
   "execution_count": 7,
   "metadata": {
    "scrolled": true
   },
   "outputs": [
    {
     "data": {
      "text/plain": [
       "[Text(0, 0.5, 'Y'),\n",
       " Text(0.5, 0, 'X'),\n",
       " Text(0.5, 1.0, ' binary classification')]"
      ]
     },
     "execution_count": 7,
     "metadata": {},
     "output_type": "execute_result"
    },
    {
     "data": {
      "image/png": "[encoded data removed]",
      "text/plain": [
       "<Figure size 432x288 with 1 Axes>"
      ]
     },
     "metadata": {
      "needs_background": "light"
     },
     "output_type": "display_data"
    }
   ],
   "source": [
    "fig,ax = plt.subplots()\n",
    "ax.scatter(X[Y==0,0], X[Y==0, 1],label='Class 0')\n",
    "ax.scatter(X[Y==1,0], X[Y==1, 1], color='r', label='Class 1')\n",
    "ax.legend()\n",
    "ax.set(xlabel='X', ylabel='Y', title=' binary classification')"
   ]
  },
  {
   "cell_type": "code",
   "execution_count": 8,
   "metadata": {},
   "outputs": [
    {
     "name": "stdout",
     "output_type": "stream",
     "text": [
      "WARNING:tensorflow:From C:\\Users\\ICT01_22\\Anaconda3\\envs\\tf_test\\lib\\site-packages\\keras\\callbacks\\tensorboard_v1.py:146: The name tf.summary.histogram is deprecated. Please use tf.compat.v1.summary.histogram instead.\n",
      "\n",
      "WARNING:tensorflow:From C:\\Users\\ICT01_22\\Anaconda3\\envs\\tf_test\\lib\\site-packages\\keras\\callbacks\\tensorboard_v1.py:200: The name tf.summary.merge_all is deprecated. Please use tf.compat.v1.summary.merge_all instead.\n",
      "\n",
      "WARNING:tensorflow:From C:\\Users\\ICT01_22\\Anaconda3\\envs\\tf_test\\lib\\site-packages\\keras\\callbacks\\tensorboard_v1.py:203: The name tf.summary.FileWriter is deprecated. Please use tf.compat.v1.summary.FileWriter instead.\n",
      "\n"
     ]
    }
   ],
   "source": [
    "import keras\n",
    "# 비선형으로 나타내야 할 듯\n",
    "# 비선형 모델 - 신경망\n",
    "model = Sequential()\n",
    "# 행렬연산 => 설명을 확대 (변수 32 - 설명)\n",
    "# 100x2 2x32 = 64+32(바이어스개수) = 96 => 1000x32\n",
    "model.add(Dense(32, input_dim=2, activation='relu'))\n",
    "# 1000x32 32x1 = 32+1(bias) = 33 => 1000x1\n",
    "#                가중치가 있으면 bias도 있다.\n",
    "model.add(Dense(1,activation='sigmoid'))\n",
    "model.compile(optimizer='AdaDelta',\n",
    "             loss = 'binary_crossentropy',\n",
    "             metrics=['accuracy'])\n",
    "# callback 함수는 window 자동으로 호출 되는 함수\n",
    "tb_callback = keras.callbacks.TensorBoard( # graph 이미지 출력\n",
    "    log_dir = './Graph/model_1',\n",
    "    histogram_freq=100, write_graph=True,\n",
    "    write_images=False)\n",
    "tb_callback.set_model(model) # 콜백을 모델에 등록"
   ]
  },
  {
   "cell_type": "code",
   "execution_count": 9,
   "metadata": {},
   "outputs": [
    {
     "name": "stdout",
     "output_type": "stream",
     "text": [
      "WARNING:tensorflow:From C:\\Users\\ICT01_22\\Anaconda3\\envs\\tf_test\\lib\\site-packages\\keras\\callbacks\\tensorboard_v1.py:343: The name tf.Summary is deprecated. Please use tf.compat.v1.Summary instead.\n",
      "\n"
     ]
    }
   ],
   "source": [
    "hist = model.fit(X_train, Y_train, batch_size=32, epochs = 200,\n",
    "                verbose=0, validation_data=(X_test, Y_test),\n",
    "                callbacks=[tb_callback])"
   ]
  },
  {
   "cell_type": "code",
   "execution_count": 10,
   "metadata": {
    "scrolled": true
   },
   "outputs": [
    {
     "name": "stdout",
     "output_type": "stream",
     "text": [
      "Test loss:  0.12789358568191528\n",
      "Test accuracy 0.949999988079071\n"
     ]
    }
   ],
   "source": [
    "score = model.evaluate(X_test, Y_test, verbose=0)\n",
    "print(\"Test loss: \", score[0])\n",
    "print(\"Test accuracy\", score[1])"
   ]
  },
  {
   "cell_type": "code",
   "execution_count": 11,
   "metadata": {},
   "outputs": [
    {
     "name": "stdout",
     "output_type": "stream",
     "text": [
      "Model: \"sequential_4\"\n",
      "_________________________________________________________________\n",
      "Layer (type)                 Output Shape              Param #   \n",
      "=================================================================\n",
      "dense_10 (Dense)             (None, 32)                96        \n",
      "_________________________________________________________________\n",
      "dense_11 (Dense)             (None, 1)                 33        \n",
      "=================================================================\n",
      "Total params: 129\n",
      "Trainable params: 129\n",
      "Non-trainable params: 0\n",
      "_________________________________________________________________\n"
     ]
    }
   ],
   "source": [
    "keras.utils.print_summary(model)"
   ]
  },
  {
   "cell_type": "code",
   "execution_count": 12,
   "metadata": {},
   "outputs": [
    {
     "data": {
      "image/png": "[encoded data removed]",
      "text/plain": [
       "<IPython.core.display.Image object>"
      ]
     },
     "execution_count": 12,
     "metadata": {},
     "output_type": "execute_result"
    }
   ],
   "source": [
    "from keras.utils import plot_model\n",
    "keras.utils.plot_model(model)"
   ]
  },
  {
   "cell_type": "code",
   "execution_count": 13,
   "metadata": {},
   "outputs": [
    {
     "data": {
      "text/plain": [
       "<pydot.Dot at 0x2b871318b88>"
      ]
     },
     "execution_count": 13,
     "metadata": {},
     "output_type": "execute_result"
    }
   ],
   "source": [
    "%matplotlib inline\n",
    "from keras.utils.vis_utils import model_to_dot\n",
    "model_to_dot(model)"
   ]
  },
  {
   "cell_type": "code",
   "execution_count": 14,
   "metadata": {
    "scrolled": true
   },
   "outputs": [
    {
     "data": {
      "image/svg+xml": [
       "<svg height=\"255pt\" viewBox=\"0.00 0.00 181.00 191.00\" width=\"241pt\" xmlns=\"http://www.w3.org/2000/svg\" xmlns:xlink=\"http://www.w3.org/1999/xlink\">\n",
       "<g class=\"graph\" id=\"graph0\" transform=\"scale(1.33333 1.33333) rotate(0) translate(4 187)\">\n",
       "<title>G</title>\n",
       "<polygon fill=\"white\" points=\"-4,4 -4,-187 177,-187 177,4 -4,4\" stroke=\"none\"/>\n",
       "<!-- 2991145823048 -->\n",
       "<g class=\"node\" id=\"node1\"><title>2991145823048</title>\n",
       "<polygon fill=\"none\" points=\"0,-146.5 0,-182.5 173,-182.5 173,-146.5 0,-146.5\" stroke=\"black\"/>\n",
       "<text font-family=\"Times New Roman,serif\" font-size=\"14.00\" text-anchor=\"middle\" x=\"86.5\" y=\"-160.8\">dense_10_input: InputLayer</text>\n",
       "</g>\n",
       "<!-- 2991145821192 -->\n",
       "<g class=\"node\" id=\"node2\"><title>2991145821192</title>\n",
       "<polygon fill=\"none\" points=\"31,-73.5 31,-109.5 142,-109.5 142,-73.5 31,-73.5\" stroke=\"black\"/>\n",
       "<text font-family=\"Times New Roman,serif\" font-size=\"14.00\" text-anchor=\"middle\" x=\"86.5\" y=\"-87.8\">dense_10: Dense</text>\n",
       "</g>\n",
       "<!-- 2991145823048&#45;&gt;2991145821192 -->\n",
       "<g class=\"edge\" id=\"edge1\"><title>2991145823048-&gt;2991145821192</title>\n",
       "<path d=\"M86.5,-146.313C86.5,-138.289 86.5,-128.547 86.5,-119.569\" fill=\"none\" stroke=\"black\"/>\n",
       "<polygon fill=\"black\" points=\"90.0001,-119.529 86.5,-109.529 83.0001,-119.529 90.0001,-119.529\" stroke=\"black\"/>\n",
       "</g>\n",
       "<!-- 2991145765256 -->\n",
       "<g class=\"node\" id=\"node3\"><title>2991145765256</title>\n",
       "<polygon fill=\"none\" points=\"31,-0.5 31,-36.5 142,-36.5 142,-0.5 31,-0.5\" stroke=\"black\"/>\n",
       "<text font-family=\"Times New Roman,serif\" font-size=\"14.00\" text-anchor=\"middle\" x=\"86.5\" y=\"-14.8\">dense_11: Dense</text>\n",
       "</g>\n",
       "<!-- 2991145821192&#45;&gt;2991145765256 -->\n",
       "<g class=\"edge\" id=\"edge2\"><title>2991145821192-&gt;2991145765256</title>\n",
       "<path d=\"M86.5,-73.3129C86.5,-65.2895 86.5,-55.5475 86.5,-46.5691\" fill=\"none\" stroke=\"black\"/>\n",
       "<polygon fill=\"black\" points=\"90.0001,-46.5288 86.5,-36.5288 83.0001,-46.5289 90.0001,-46.5288\" stroke=\"black\"/>\n",
       "</g>\n",
       "</g>\n",
       "</svg>"
      ],
      "text/plain": [
       "<IPython.core.display.SVG object>"
      ]
     },
     "execution_count": 14,
     "metadata": {},
     "output_type": "execute_result"
    }
   ],
   "source": [
    "from IPython.display import SVG\n",
    "from keras.utils.vis_utils import model_to_dot\n",
    "SVG(model_to_dot(model).create(prog='dot', format='svg'))"
   ]
  },
  {
   "cell_type": "code",
   "execution_count": 15,
   "metadata": {},
   "outputs": [
    {
     "name": "stdout",
     "output_type": "stream",
     "text": [
      "Model: \"sequential_4\"\n",
      "_________________________________________________________________\n",
      "Layer (type)                 Output Shape              Param #   \n",
      "=================================================================\n",
      "dense_10 (Dense)             (None, 32)                96        \n",
      "_________________________________________________________________\n",
      "dense_11 (Dense)             (None, 1)                 33        \n",
      "=================================================================\n",
      "Total params: 129\n",
      "Trainable params: 129\n",
      "Non-trainable params: 0\n",
      "_________________________________________________________________\n"
     ]
    }
   ],
   "source": [
    "model.summary()"
   ]
  },
  {
   "cell_type": "code",
   "execution_count": 16,
   "metadata": {},
   "outputs": [],
   "source": [
    "# Callback class\n",
    "# customer callback함수의 제작\n",
    "# 함수에 의해서 호출되는 객체\n",
    "class CustomHistory(keras.callbacks.Callback): # 상속\n",
    "    def init(self): # __init__이 아니므로 호출가능\n",
    "        self.train_loss = []\n",
    "        self.val_loss = []\n",
    "        self.train_acc = []\n",
    "        self.val_acc = []\n",
    "    def on_epoch_end(self, batch, logs={}): # 오버라이딩\n",
    "        self.train_loss.append(logs.get('loss'))\n",
    "        self.val_loss.append(logs.get('val_loss'))\n",
    "        self.train_acc.append(logs.get('acc'))\n",
    "        self.val_acc.append(logs.get('val_acc'))"
   ]
  },
  {
   "cell_type": "code",
   "execution_count": 17,
   "metadata": {},
   "outputs": [
    {
     "name": "stdout",
     "output_type": "stream",
     "text": [
      "(60000, 28, 28) uint8\n",
      "(60000,) uint8\n",
      "(10000, 28, 28) uint8\n",
      "(10000,) uint8\n"
     ]
    }
   ],
   "source": [
    "from keras.datasets import mnist\n",
    "import matplotlib.pylab as plt\n",
    "\n",
    "(X_train0, y_train0), (X_test0, y_test0) =mnist.load_data() \n",
    "print(X_train0.shape, X_train0.dtype) # 60000, 28x28\n",
    "print(y_train0.shape, y_train0.dtype)# 60000\n",
    "print(X_test0.shape, X_test0.dtype) # 10000\n",
    "print(y_test0.shape, y_test0.dtype) # 10000 "
   ]
  },
  {
   "cell_type": "code",
   "execution_count": 18,
   "metadata": {},
   "outputs": [
    {
     "data": {
      "image/png": "[encoded data removed]",
      "text/plain": [
       "<Figure size 432x288 with 1 Axes>"
      ]
     },
     "metadata": {
      "needs_background": "light"
     },
     "output_type": "display_data"
    }
   ],
   "source": [
    "plt.imshow(X_train0[0])\n",
    "plt.grid(False)\n",
    "plt.show()"
   ]
  },
  {
   "cell_type": "code",
   "execution_count": 19,
   "metadata": {},
   "outputs": [
    {
     "name": "stdout",
     "output_type": "stream",
     "text": [
      "(60000, 784) float32\n"
     ]
    }
   ],
   "source": [
    "# fully-connected : flatten : FFNN운\n",
    "# 이미지 정규화 : 0-255컬러값 / 255 => 0-1\n",
    "X_train = X_train0.reshape(60000,784).astype('float32')/255.0\n",
    "X_test = X_test0.reshape(10000,784).astype('float32')/255.0\n",
    "print(X_train.shape, X_train.dtype) # 60000x784"
   ]
  },
  {
   "cell_type": "code",
   "execution_count": 20,
   "metadata": {},
   "outputs": [
    {
     "data": {
      "text/plain": [
       "array([5, 0, 4, 1, 9], dtype=uint8)"
      ]
     },
     "execution_count": 20,
     "metadata": {},
     "output_type": "execute_result"
    }
   ],
   "source": [
    "# 5,0,4,1,9 : 5(0000010000)\n",
    "y_train0[:5] # one-hot-encoding 여부 : multi-label => softmax\n",
    "# softmax는 경우의 수에 대한 확률값"
   ]
  },
  {
   "cell_type": "code",
   "execution_count": 21,
   "metadata": {},
   "outputs": [
    {
     "data": {
      "text/plain": [
       "array([[0., 0., 0., 0., 0., 1., 0., 0., 0., 0.],\n",
       "       [1., 0., 0., 0., 0., 0., 0., 0., 0., 0.],\n",
       "       [0., 0., 0., 0., 1., 0., 0., 0., 0., 0.],\n",
       "       [0., 1., 0., 0., 0., 0., 0., 0., 0., 0.],\n",
       "       [0., 0., 0., 0., 0., 0., 0., 0., 0., 1.]], dtype=float32)"
      ]
     },
     "execution_count": 21,
     "metadata": {},
     "output_type": "execute_result"
    }
   ],
   "source": [
    "from keras.utils import np_utils\n",
    "Y_train = np_utils.to_categorical(y_train0, 10)\n",
    "Y_test = np_utils.to_categorical(y_test0, 10)\n",
    "Y_train[:5]"
   ]
  },
  {
   "cell_type": "code",
   "execution_count": 22,
   "metadata": {},
   "outputs": [],
   "source": [
    "from keras.optimizers import SGD\n",
    "numpy.random.seed(0)\n",
    "model = Sequential()\n",
    "# 60000x784, 784x15 => 60000x15\n",
    "model.add(Dense(15, input_dim=784, activation='sigmoid'))\n",
    "# 60000x15, 15x10 => 60000x10\n",
    "model.add(Dense(10, activation='sigmoid'))\n",
    "model.compile(optimizer=SGD(lr=0.2), loss='mean_squared_error',metrics=[\"accuracy\"])"
   ]
  },
  {
   "cell_type": "code",
   "execution_count": 23,
   "metadata": {},
   "outputs": [
    {
     "data": {
      "text/plain": [
       "[<keras.layers.core.Dense at 0x2b87133ea48>,\n",
       " <keras.layers.core.Dense at 0x2b8714bccc8>]"
      ]
     },
     "execution_count": 23,
     "metadata": {},
     "output_type": "execute_result"
    }
   ],
   "source": [
    "model.layers"
   ]
  },
  {
   "cell_type": "code",
   "execution_count": 24,
   "metadata": {},
   "outputs": [
    {
     "data": {
      "text/plain": [
       "<function keras.activations.sigmoid(x)>"
      ]
     },
     "execution_count": 24,
     "metadata": {},
     "output_type": "execute_result"
    }
   ],
   "source": [
    "l1 = model.layers[0]\n",
    "l2 = model.layers[1]\n",
    "# 레이어 속성으로 정보 호가인\n",
    "l1.name\n",
    "l1.input_shape\n",
    "l1.output_shape\n",
    "l1.activation"
   ]
  },
  {
   "cell_type": "code",
   "execution_count": 25,
   "metadata": {},
   "outputs": [
    {
     "name": "stderr",
     "output_type": "stream",
     "text": [
      "C:\\Users\\ICT01_22\\Anaconda3\\envs\\tf_test\\lib\\site-packages\\ipykernel_launcher.py:2: UserWarning: The `nb_epoch` argument in `fit` has been renamed `epochs`.\n",
      "  \n"
     ]
    },
    {
     "name": "stdout",
     "output_type": "stream",
     "text": [
      "Train on 60000 samples, validate on 10000 samples\n",
      "Epoch 1/30\n",
      " - 11s - loss: 0.1019 - accuracy: 0.2440 - val_loss: 0.0864 - val_accuracy: 0.3212\n",
      "Epoch 2/30\n",
      " - 13s - loss: 0.0845 - accuracy: 0.3921 - val_loss: 0.0821 - val_accuracy: 0.4409\n",
      "Epoch 3/30\n",
      " - 13s - loss: 0.0796 - accuracy: 0.4997 - val_loss: 0.0765 - val_accuracy: 0.5340\n",
      "Epoch 4/30\n",
      " - 14s - loss: 0.0740 - accuracy: 0.5620 - val_loss: 0.0707 - val_accuracy: 0.5852\n",
      "Epoch 5/30\n",
      " - 15s - loss: 0.0682 - accuracy: 0.6149 - val_loss: 0.0649 - val_accuracy: 0.6522\n",
      "Epoch 6/30\n",
      " - 13s - loss: 0.0625 - accuracy: 0.6759 - val_loss: 0.0594 - val_accuracy: 0.6998\n",
      "Epoch 7/30\n",
      " - 12s - loss: 0.0576 - accuracy: 0.7101 - val_loss: 0.0551 - val_accuracy: 0.7316\n",
      "Epoch 8/30\n",
      " - 15s - loss: 0.0537 - accuracy: 0.7325 - val_loss: 0.0516 - val_accuracy: 0.7485\n",
      "Epoch 9/30\n",
      " - 19s - loss: 0.0505 - accuracy: 0.7474 - val_loss: 0.0486 - val_accuracy: 0.7639\n",
      "Epoch 10/30\n",
      " - 15s - loss: 0.0478 - accuracy: 0.7609 - val_loss: 0.0461 - val_accuracy: 0.7759\n",
      "Epoch 11/30\n",
      " - 14s - loss: 0.0455 - accuracy: 0.7739 - val_loss: 0.0439 - val_accuracy: 0.7893\n",
      "Epoch 12/30\n",
      " - 18s - loss: 0.0435 - accuracy: 0.7859 - val_loss: 0.0420 - val_accuracy: 0.8023\n",
      "Epoch 13/30\n",
      " - 15s - loss: 0.0417 - accuracy: 0.7977 - val_loss: 0.0402 - val_accuracy: 0.8132\n",
      "Epoch 14/30\n",
      " - 19s - loss: 0.0400 - accuracy: 0.8083 - val_loss: 0.0386 - val_accuracy: 0.8255\n",
      "Epoch 15/30\n",
      " - 20s - loss: 0.0385 - accuracy: 0.8192 - val_loss: 0.0371 - val_accuracy: 0.8359\n",
      "Epoch 16/30\n",
      " - 21s - loss: 0.0371 - accuracy: 0.8288 - val_loss: 0.0358 - val_accuracy: 0.8432\n",
      "Epoch 17/30\n",
      " - 19s - loss: 0.0359 - accuracy: 0.8371 - val_loss: 0.0345 - val_accuracy: 0.8503\n",
      "Epoch 18/30\n",
      " - 20s - loss: 0.0347 - accuracy: 0.8440 - val_loss: 0.0334 - val_accuracy: 0.8557\n",
      "Epoch 19/30\n",
      " - 17s - loss: 0.0336 - accuracy: 0.8506 - val_loss: 0.0323 - val_accuracy: 0.8618\n",
      "Epoch 20/30\n",
      " - 18s - loss: 0.0326 - accuracy: 0.8565 - val_loss: 0.0313 - val_accuracy: 0.8651\n",
      "Epoch 21/30\n",
      " - 20s - loss: 0.0316 - accuracy: 0.8610 - val_loss: 0.0304 - val_accuracy: 0.8706\n",
      "Epoch 22/30\n",
      " - 17s - loss: 0.0308 - accuracy: 0.8646 - val_loss: 0.0295 - val_accuracy: 0.8742\n",
      "Epoch 23/30\n",
      " - 18s - loss: 0.0299 - accuracy: 0.8680 - val_loss: 0.0287 - val_accuracy: 0.8777\n",
      "Epoch 24/30\n",
      " - 20s - loss: 0.0292 - accuracy: 0.8709 - val_loss: 0.0280 - val_accuracy: 0.8790\n",
      "Epoch 25/30\n",
      " - 20s - loss: 0.0285 - accuracy: 0.8738 - val_loss: 0.0273 - val_accuracy: 0.8814\n",
      "Epoch 26/30\n",
      " - 20s - loss: 0.0278 - accuracy: 0.8765 - val_loss: 0.0267 - val_accuracy: 0.8845\n",
      "Epoch 27/30\n",
      " - 21s - loss: 0.0272 - accuracy: 0.8787 - val_loss: 0.0261 - val_accuracy: 0.8863\n",
      "Epoch 28/30\n",
      " - 21s - loss: 0.0266 - accuracy: 0.8814 - val_loss: 0.0255 - val_accuracy: 0.8878\n",
      "Epoch 29/30\n",
      " - 20s - loss: 0.0261 - accuracy: 0.8829 - val_loss: 0.0250 - val_accuracy: 0.8894\n",
      "Epoch 30/30\n",
      " - 21s - loss: 0.0256 - accuracy: 0.8844 - val_loss: 0.0245 - val_accuracy: 0.8904\n"
     ]
    },
    {
     "data": {
      "image/png": "[encoded data removed]",
      "text/plain": [
       "<Figure size 432x288 with 1 Axes>"
      ]
     },
     "metadata": {
      "needs_background": "light"
     },
     "output_type": "display_data"
    }
   ],
   "source": [
    "hist = model.fit(X_train, Y_train, nb_epoch=30, batch_size=100,\n",
    "                validation_data=(X_test, Y_test), verbose=2)\n",
    "plt.plot(hist.history['loss'])\n",
    "plt.show()"
   ]
  },
  {
   "cell_type": "code",
   "execution_count": 26,
   "metadata": {
    "scrolled": true
   },
   "outputs": [
    {
     "data": {
      "image/png": "[encoded data removed]",
      "text/plain": [
       "<Figure size 432x288 with 1 Axes>"
      ]
     },
     "metadata": {
      "needs_background": "light"
     },
     "output_type": "display_data"
    },
    {
     "name": "stdout",
     "output_type": "stream",
     "text": [
      "<keras.engine.sequential.Sequential object at 0x000002B87149C488>\n",
      "{'batch_size': 100, 'epochs': 30, 'steps': None, 'samples': 60000, 'verbose': 2, 'do_validation': True, 'metrics': ['loss', 'accuracy', 'val_loss', 'val_accuracy']}\n",
      "[0.24401666, 0.39213333, 0.49971667, 0.56201667, 0.6149167, 0.6759167, 0.7101333, 0.7325, 0.7474167, 0.76085, 0.77395, 0.7858833, 0.79766667, 0.8082833, 0.81918335, 0.82878333, 0.83713335, 0.84403336, 0.8506333, 0.85646665, 0.8609667, 0.8646167, 0.86795, 0.87091666, 0.87381667, 0.87651664, 0.8786833, 0.88136667, 0.8829, 0.8844]\n",
      "0.8903999924659729\n"
     ]
    }
   ],
   "source": [
    "plt.plot(hist.history['accuracy'], 'b-', label='training')\n",
    "plt.plot(hist.history['val_accuracy'],'r:', label='test')\n",
    "plt.legend()\n",
    "plt.show()\n",
    "\n",
    "print(hist.model)\n",
    "print(hist.params)\n",
    "print(hist.history['accuracy'])\n",
    "print(hist.history['val_accuracy'][29])"
   ]
  },
  {
   "cell_type": "code",
   "execution_count": 27,
   "metadata": {},
   "outputs": [
    {
     "name": "stdout",
     "output_type": "stream",
     "text": [
      "Train on 60000 samples, validate on 10000 samples\n",
      "Epoch 1/30\n"
     ]
    },
    {
     "name": "stderr",
     "output_type": "stream",
     "text": [
      "C:\\Users\\ICT01_22\\Anaconda3\\envs\\tf_test\\lib\\site-packages\\ipykernel_launcher.py:4: UserWarning: The `nb_epoch` argument in `fit` has been renamed `epochs`.\n",
      "  after removing the cwd from sys.path.\n"
     ]
    },
    {
     "name": "stdout",
     "output_type": "stream",
     "text": [
      " - 17s - loss: 0.0251 - accuracy: 0.8863 - val_loss: 0.0241 - val_accuracy: 0.8911\n",
      "Epoch 2/30\n",
      " - 21s - loss: 0.0246 - accuracy: 0.8873 - val_loss: 0.0236 - val_accuracy: 0.8929\n",
      "Epoch 3/30\n",
      " - 20s - loss: 0.0242 - accuracy: 0.8886 - val_loss: 0.0232 - val_accuracy: 0.8946\n",
      "Epoch 4/30\n",
      " - 20s - loss: 0.0238 - accuracy: 0.8897 - val_loss: 0.0229 - val_accuracy: 0.8956\n",
      "Epoch 5/30\n",
      " - 19s - loss: 0.0234 - accuracy: 0.8910 - val_loss: 0.0225 - val_accuracy: 0.8963\n",
      "Epoch 6/30\n",
      " - 20s - loss: 0.0231 - accuracy: 0.8920 - val_loss: 0.0222 - val_accuracy: 0.8976\n",
      "Epoch 7/30\n",
      " - 19s - loss: 0.0228 - accuracy: 0.8928 - val_loss: 0.0219 - val_accuracy: 0.8985\n",
      "Epoch 8/30\n",
      " - 21s - loss: 0.0225 - accuracy: 0.8935 - val_loss: 0.0216 - val_accuracy: 0.8997\n",
      "Epoch 9/30\n",
      " - 22s - loss: 0.0222 - accuracy: 0.8945 - val_loss: 0.0213 - val_accuracy: 0.9002\n",
      "Epoch 10/30\n",
      " - 21s - loss: 0.0219 - accuracy: 0.8956 - val_loss: 0.0210 - val_accuracy: 0.9012\n",
      "Epoch 11/30\n",
      " - 20s - loss: 0.0216 - accuracy: 0.8962 - val_loss: 0.0208 - val_accuracy: 0.9019\n",
      "Epoch 12/30\n",
      " - 19s - loss: 0.0214 - accuracy: 0.8967 - val_loss: 0.0205 - val_accuracy: 0.9022\n",
      "Epoch 13/30\n",
      " - 16s - loss: 0.0211 - accuracy: 0.8980 - val_loss: 0.0203 - val_accuracy: 0.9027\n",
      "Epoch 14/30\n",
      " - 19s - loss: 0.0209 - accuracy: 0.8986 - val_loss: 0.0201 - val_accuracy: 0.9026\n",
      "Epoch 15/30\n",
      " - 15s - loss: 0.0207 - accuracy: 0.8992 - val_loss: 0.0199 - val_accuracy: 0.9031\n",
      "Epoch 16/30\n",
      " - 18s - loss: 0.0205 - accuracy: 0.9000 - val_loss: 0.0197 - val_accuracy: 0.9033\n",
      "Epoch 17/30\n",
      " - 14s - loss: 0.0203 - accuracy: 0.9007 - val_loss: 0.0195 - val_accuracy: 0.9038\n",
      "Epoch 18/30\n",
      " - 19s - loss: 0.0201 - accuracy: 0.9015 - val_loss: 0.0193 - val_accuracy: 0.9043\n",
      "Epoch 19/30\n",
      " - 18s - loss: 0.0199 - accuracy: 0.9018 - val_loss: 0.0191 - val_accuracy: 0.9050\n",
      "Epoch 20/30\n",
      " - 17s - loss: 0.0197 - accuracy: 0.9025 - val_loss: 0.0190 - val_accuracy: 0.9049\n",
      "Epoch 21/30\n",
      " - 17s - loss: 0.0195 - accuracy: 0.9031 - val_loss: 0.0188 - val_accuracy: 0.9058\n",
      "Epoch 22/30\n",
      " - 13s - loss: 0.0194 - accuracy: 0.9034 - val_loss: 0.0187 - val_accuracy: 0.9063\n",
      "Epoch 23/30\n",
      " - 15s - loss: 0.0192 - accuracy: 0.9037 - val_loss: 0.0185 - val_accuracy: 0.9069\n",
      "Epoch 24/30\n",
      " - 15s - loss: 0.0191 - accuracy: 0.9043 - val_loss: 0.0184 - val_accuracy: 0.9070\n",
      "Epoch 25/30\n",
      " - 15s - loss: 0.0189 - accuracy: 0.9046 - val_loss: 0.0182 - val_accuracy: 0.9072\n",
      "Epoch 26/30\n",
      " - 12s - loss: 0.0188 - accuracy: 0.9053 - val_loss: 0.0181 - val_accuracy: 0.9076\n",
      "Epoch 27/30\n",
      " - 15s - loss: 0.0186 - accuracy: 0.9055 - val_loss: 0.0180 - val_accuracy: 0.9082\n",
      "Epoch 28/30\n",
      " - 16s - loss: 0.0185 - accuracy: 0.9060 - val_loss: 0.0179 - val_accuracy: 0.9089\n",
      "Epoch 29/30\n",
      " - 16s - loss: 0.0184 - accuracy: 0.9062 - val_loss: 0.0177 - val_accuracy: 0.9088\n",
      "Epoch 30/30\n",
      " - 19s - loss: 0.0183 - accuracy: 0.9069 - val_loss: 0.0176 - val_accuracy: 0.9095\n"
     ]
    },
    {
     "data": {
      "image/png": "[encoded data removed]",
      "text/plain": [
       "<Figure size 432x288 with 1 Axes>"
      ]
     },
     "metadata": {
      "needs_background": "light"
     },
     "output_type": "display_data"
    }
   ],
   "source": [
    "custom_hist = CustomHistory()\n",
    "custom_hist.init()\n",
    "hist = model.fit(X_train, Y_train, nb_epoch = 30, batch_size=100,\n",
    "                validation_data=(X_test, Y_test), callbacks=[custom_hist], verbose=2)\n",
    "plt.plot(hist.history['loss'])\n",
    "plt.show()"
   ]
  },
  {
   "cell_type": "code",
   "execution_count": 28,
   "metadata": {
    "scrolled": true
   },
   "outputs": [
    {
     "data": {
      "image/png": "[encoded data removed]",
      "text/plain": [
       "<Figure size 432x288 with 1 Axes>"
      ]
     },
     "metadata": {
      "needs_background": "light"
     },
     "output_type": "display_data"
    },
    {
     "name": "stdout",
     "output_type": "stream",
     "text": [
      "<keras.engine.sequential.Sequential object at 0x000002B87149C488>\n",
      "{'batch_size': 100, 'epochs': 30, 'steps': None, 'samples': 60000, 'verbose': 2, 'do_validation': True, 'metrics': ['loss', 'accuracy', 'val_loss', 'val_accuracy']}\n",
      "[0.88628334, 0.88731664, 0.8886333, 0.8896833, 0.89103335, 0.89198333, 0.89278334, 0.89351666, 0.8944833, 0.89555, 0.8961667, 0.89673334, 0.898, 0.89863336, 0.89916664, 0.90003335, 0.90075, 0.9015167, 0.90183336, 0.90253335, 0.90305, 0.9033833, 0.9037333, 0.90426666, 0.90456665, 0.90525, 0.9055, 0.90603334, 0.9062, 0.9069]\n",
      "0.909500002861023\n"
     ]
    }
   ],
   "source": [
    "plt.plot(hist.history['accuracy'], 'b-', label='training')\n",
    "plt.plot(hist.history['val_accuracy'],'r:', label='test')\n",
    "plt.legend()\n",
    "plt.show()\n",
    "\n",
    "print(hist.model)\n",
    "print(hist.params)\n",
    "print(hist.history['accuracy'])\n",
    "print(hist.history['val_accuracy'][29])"
   ]
  },
  {
   "cell_type": "code",
   "execution_count": 29,
   "metadata": {},
   "outputs": [
    {
     "data": {
      "image/png": "[encoded data removed]",
      "text/plain": [
       "<Figure size 432x288 with 1 Axes>"
      ]
     },
     "metadata": {
      "needs_background": "light"
     },
     "output_type": "display_data"
    }
   ],
   "source": [
    "plt.plot(custom_hist.train_loss, 'y', label='train loss')\n",
    "plt.show()"
   ]
  },
  {
   "cell_type": "markdown",
   "metadata": {},
   "source": [
    "# 문제 X_test의 이미지 한장의 label을 예측해 보시오."
   ]
  },
  {
   "cell_type": "code",
   "execution_count": 77,
   "metadata": {},
   "outputs": [
    {
     "data": {
      "text/plain": [
       "array([[0.01766995, 0.01917326, 0.01319781, 0.02869663, 0.01251969,\n",
       "        0.05721784, 0.01232019, 0.9418675 , 0.00762815, 0.0553683 ]],\n",
       "      dtype=float32)"
      ]
     },
     "execution_count": 77,
     "metadata": {},
     "output_type": "execute_result"
    }
   ],
   "source": [
    "model.predict(X_test[:1,:])"
   ]
  },
  {
   "cell_type": "code",
   "execution_count": null,
   "metadata": {},
   "outputs": [],
   "source": [
    "model.predict_classes(X_test[:1,:], verbose=0)"
   ]
  },
  {
   "cell_type": "markdown",
   "metadata": {},
   "source": [
    "# 문제 : 출력차수가 512인 레이어를 추가하시오"
   ]
  },
  {
   "cell_type": "code",
   "execution_count": null,
   "metadata": {},
   "outputs": [],
   "source": [
    "np.random.seed(0)\n",
    "model = Sequential()\n",
    "\n",
    "model.add(Dense(512, input_dim=784, activation = 'sigmoid'))\n",
    "model.add(Dense(15, activation = 'sigmoid'))\n",
    "model.add(Dense(10, activation = 'sigmoid'))\n",
    "\n",
    "model.compile(optimizer=SGD(lr=0.2), loss='mean_squared_error', metrics=[\"accuracy\"])"
   ]
  },
  {
   "cell_type": "code",
   "execution_count": null,
   "metadata": {},
   "outputs": [],
   "source": [
    "model.layers"
   ]
  },
  {
   "cell_type": "code",
   "execution_count": null,
   "metadata": {},
   "outputs": [],
   "source": [
    "from keras.datasets import boston_housing\n",
    "(x_train, y_train), (x_test, y_test) = boston_housing.load_data()\n",
    "# 404x13 404         102x13  102"
   ]
  },
  {
   "cell_type": "code",
   "execution_count": null,
   "metadata": {},
   "outputs": [],
   "source": [
    "print(x_train.shape)\n",
    "print(y_train.shape)"
   ]
  },
  {
   "cell_type": "code",
   "execution_count": null,
   "metadata": {},
   "outputs": [],
   "source": [
    "model = Sequential()\n",
    "num_features = 13\n",
    "model.add(Dense(1, input_dim=num_features, activation='linear'))"
   ]
  },
  {
   "cell_type": "code",
   "execution_count": null,
   "metadata": {},
   "outputs": [],
   "source": [
    "model.summary()\n",
    "model.com[ile(optimizer='rmsprop', loss='mse', metrics=['mae'])]\n",
    "model.fit(x_train, y_train, batch_size=1, epochs=10, verbose=1)"
   ]
  },
  {
   "cell_type": "code",
   "execution_count": null,
   "metadata": {},
   "outputs": [],
   "source": [
    "# accuracy\n",
    "mse, mae = model.evaluate(x_test, y_test, verbose=False)\n",
    "rmse = numpy.sqrt(mse)\n",
    "mse, rmse, mae"
   ]
  },
  {
   "cell_type": "markdown",
   "metadata": {},
   "source": [
    "# 문제 : x_test의 앞의 3집을 예측해 보시오"
   ]
  },
  {
   "cell_type": "code",
   "execution_count": null,
   "metadata": {},
   "outputs": [],
   "source": [
    "pred = model.predict(x_test[:3,:])"
   ]
  },
  {
   "cell_type": "code",
   "execution_count": null,
   "metadata": {},
   "outputs": [],
   "source": [
    "real=y_test[:3]"
   ]
  },
  {
   "cell_type": "markdown",
   "metadata": {},
   "source": [
    "# 상관계수를 확인하시오"
   ]
  },
  {
   "cell_type": "code",
   "execution_count": null,
   "metadata": {},
   "outputs": [],
   "source": [
    "print(pred.shape)\n",
    "print(real.shape)"
   ]
  },
  {
   "cell_type": "code",
   "execution_count": null,
   "metadata": {},
   "outputs": [],
   "source": [
    "import numpy as np\n",
    "np.corrcoef(pred.reshape(1,3,real)"
   ]
  },
  {
   "cell_type": "code",
   "execution_count": null,
   "metadata": {},
   "outputs": [],
   "source": []
  },
  {
   "cell_type": "code",
   "execution_count": 7,
   "metadata": {},
   "outputs": [],
   "source": [
    "# scikits -- keras를 연결 : KerasClassifier, KerasRegressor\n",
    "import numpy as np\n",
    "from sklearn.model_selection import GridSearchCV\n",
    "from keras.models import Sequential\n",
    "from keras.layers import Dense\n",
    "from keras.wrappers.scikit_learn import KerasClassifier"
   ]
  },
  {
   "cell_type": "code",
   "execution_count": 10,
   "metadata": {},
   "outputs": [],
   "source": [
    "# 768x9 => 768,8 독립   768,1 종속\n",
    "# 변수 8 \n",
    "def create_model() :\n",
    "    model = Sequential()\n",
    "    # 768x8  8x12 => 768x12\n",
    "    model.add(Dense(12, input_dim=8, activation='relu'))\n",
    "    # 768x12  12x1=> 768x1\n",
    "    model.add(Dense(1, activation='sigmoid')) # 0~1\n",
    "    model.compile(loss='binary_crossentropy', optimizer='adam', metrics=['accuracy'])\n",
    "    return model\n",
    "seed=7\n",
    "np.random.seed(seed)\n",
    "dataset = np.loadtxt('pima.csv', delimiter=',')\n",
    "X=dataset[:,0:8]\n",
    "Y=dataset[:,8]\n",
    "model = KerasClassifier(build_fn=create_model, verbose=0)"
   ]
  },
  {
   "cell_type": "code",
   "execution_count": 9,
   "metadata": {},
   "outputs": [
    {
     "name": "stdout",
     "output_type": "stream",
     "text": [
      "최적스코어 : 0.699338       사용한 파라미터조합 : {'batch_size': 20, 'epochs': 100}\n",
      "0.565122 (0.083912) with {'batch_size': 10, 'epochs': 10}\n",
      "0.664001 (0.030272) with {'batch_size': 10, 'epochs': 50}\n",
      "0.686096 (0.041593) with {'batch_size': 10, 'epochs': 100}\n",
      "0.593574 (0.056057) with {'batch_size': 20, 'epochs': 10}\n",
      "0.665470 (0.051165) with {'batch_size': 20, 'epochs': 50}\n",
      "0.699338 (0.045033) with {'batch_size': 20, 'epochs': 100}\n",
      "0.578126 (0.058269) with {'batch_size': 40, 'epochs': 10}\n",
      "0.644563 (0.033055) with {'batch_size': 40, 'epochs': 50}\n",
      "0.691503 (0.053959) with {'batch_size': 40, 'epochs': 100}\n",
      "0.548162 (0.046267) with {'batch_size': 60, 'epochs': 10}\n",
      "0.649724 (0.011619) with {'batch_size': 60, 'epochs': 50}\n",
      "0.686173 (0.052713) with {'batch_size': 60, 'epochs': 100}\n",
      "0.565275 (0.101922) with {'batch_size': 80, 'epochs': 10}\n",
      "0.652355 (0.036038) with {'batch_size': 80, 'epochs': 50}\n",
      "0.670707 (0.047258) with {'batch_size': 80, 'epochs': 100}\n",
      "0.523266 (0.069031) with {'batch_size': 100, 'epochs': 10}\n",
      "0.616043 (0.064019) with {'batch_size': 100, 'epochs': 50}\n",
      "0.622409 (0.040945) with {'batch_size': 100, 'epochs': 100}\n"
     ]
    }
   ],
   "source": [
    "# 파라미터 조합\n",
    "batch_size = [10, 20, 40, 60, 80, 100]\n",
    "epochs = [10, 50, 100]\n",
    "# 매개변수 입력 형태는 dictionary\n",
    "param_grid = dict(batch_size=batch_size, epochs=epochs)\n",
    "grid = GridSearchCV(estimator = model, param_grid=param_grid, n_jobs = -1) # 참여하는 cpu 개수 -1은 다 참가해라\n",
    "grid_result = grid.fit(X,Y)\n",
    "print(\"최적스코어 : %f       사용한 파라미터조합 : %s\" %(grid_result.best_score_, grid_result.best_params_))\n",
    "means = grid_result.cv_results_['mean_test_score']\n",
    "stds = grid_result.cv_results_['std_test_score']\n",
    "params = grid_result.cv_results_['params']\n",
    "for mean, stdev, param in zip(means, stds, params) :\n",
    "    print(\"%f (%f) with %r\" %(mean, stdev, param))"
   ]
  },
  {
   "cell_type": "markdown",
   "metadata": {},
   "source": [
    "- dense2 : 가중치 초기화 (kernel_initializer) 매개변수를 넣고 이름\n",
    "\n",
    "['uniform', 'lecun_uniform', 'normal', 'zero', 'glorot_normal',\n",
    "'glorot_uniform', 'he_normal', 'he_uniform']\n",
    "\n",
    "로 테스트 해서 가장 최적의 가중치 초기화 파라미터를 결정하시오.\n",
    "\n",
    "- dense1 : activation 함수를 달아주고\n",
    "\n",
    "['softmax', 'softplus', 'softsign', 'relu', 'tanh',\n",
    "'sigmoid', 'hard_sigmoid', 'linear']\n",
    "\n",
    "의 조합중 가장 좋은 activation 함수를 결정하시오."
   ]
  },
  {
   "cell_type": "code",
   "execution_count": 11,
   "metadata": {},
   "outputs": [],
   "source": [
    "def create_model(init_mode, activation) :\n",
    "    model = Sequential()\n",
    "    model.add(Dense(12, input_dim=8, activation=activation))\n",
    "    model.add(Dense(1, kernel_initializer=init_mode, activation=activation))\n",
    "    model.compile(loss='binary_crossentropy', optimizer='adam', metrics=['accuracy'])\n",
    "    return model\n",
    "seed=7\n",
    "np.random.seed(seed)\n",
    "dataset = np.loadtxt('pima.csv', delimiter=',')\n",
    "X=dataset[:,0:8]\n",
    "Y=dataset[:,8]\n",
    "model = KerasClassifier(build_fn=create_model, verbose=0)"
   ]
  },
  {
   "cell_type": "code",
   "execution_count": 12,
   "metadata": {},
   "outputs": [
    {
     "name": "stdout",
     "output_type": "stream",
     "text": [
      "최적스코어 : 0.651159       사용한 파라미터조합 : {'activation': 'softsign', 'init_mode': 'uniform'}\n",
      "0.348841 (0.052445) with {'activation': 'softmax', 'init_mode': 'uniform'}\n",
      "0.348841 (0.052445) with {'activation': 'softmax', 'init_mode': 'lecun_uniform'}\n",
      "0.348841 (0.052445) with {'activation': 'softmax', 'init_mode': 'normal'}\n",
      "0.348841 (0.052445) with {'activation': 'softmax', 'init_mode': 'zero'}\n",
      "0.348841 (0.052445) with {'activation': 'softmax', 'init_mode': 'glorot_normal'}\n",
      "0.348841 (0.052445) with {'activation': 'softmax', 'init_mode': 'glorot_uniform'}\n",
      "0.348841 (0.052445) with {'activation': 'softmax', 'init_mode': 'he_normal'}\n",
      "0.348841 (0.052445) with {'activation': 'softmax', 'init_mode': 'he_uniform'}\n",
      "0.488677 (0.250005) with {'activation': 'softplus', 'init_mode': 'uniform'}\n",
      "0.206544 (0.238459) with {'activation': 'softplus', 'init_mode': 'lecun_uniform'}\n",
      "0.338189 (0.238102) with {'activation': 'softplus', 'init_mode': 'normal'}\n",
      "0.542959 (0.097752) with {'activation': 'softplus', 'init_mode': 'zero'}\n",
      "0.217732 (0.269533) with {'activation': 'softplus', 'init_mode': 'glorot_normal'}\n",
      "0.210059 (0.178820) with {'activation': 'softplus', 'init_mode': 'glorot_uniform'}\n",
      "0.380053 (0.310336) with {'activation': 'softplus', 'init_mode': 'he_normal'}\n",
      "0.409337 (0.238856) with {'activation': 'softplus', 'init_mode': 'he_uniform'}\n",
      "0.651159 (0.052445) with {'activation': 'softsign', 'init_mode': 'uniform'}\n",
      "0.344360 (0.233923) with {'activation': 'softsign', 'init_mode': 'lecun_uniform'}\n",
      "0.651159 (0.052445) with {'activation': 'softsign', 'init_mode': 'normal'}\n",
      "0.651159 (0.052445) with {'activation': 'softsign', 'init_mode': 'zero'}\n",
      "0.458289 (0.091585) with {'activation': 'softsign', 'init_mode': 'glorot_normal'}\n",
      "0.484534 (0.059009) with {'activation': 'softsign', 'init_mode': 'glorot_uniform'}\n",
      "0.603039 (0.061221) with {'activation': 'softsign', 'init_mode': 'he_normal'}\n",
      "0.335939 (0.187168) with {'activation': 'softsign', 'init_mode': 'he_uniform'}\n",
      "0.604193 (0.045808) with {'activation': 'relu', 'init_mode': 'uniform'}\n",
      "0.263305 (0.327125) with {'activation': 'relu', 'init_mode': 'lecun_uniform'}\n",
      "0.390620 (0.215923) with {'activation': 'relu', 'init_mode': 'normal'}\n",
      "0.651159 (0.052445) with {'activation': 'relu', 'init_mode': 'zero'}\n",
      "0.193540 (0.243267) with {'activation': 'relu', 'init_mode': 'glorot_normal'}\n",
      "0.132485 (0.227230) with {'activation': 'relu', 'init_mode': 'glorot_uniform'}\n",
      "0.280231 (0.302875) with {'activation': 'relu', 'init_mode': 'he_normal'}\n",
      "0.539385 (0.154461) with {'activation': 'relu', 'init_mode': 'he_uniform'}\n",
      "0.651159 (0.052445) with {'activation': 'tanh', 'init_mode': 'uniform'}\n",
      "0.412563 (0.230110) with {'activation': 'tanh', 'init_mode': 'lecun_uniform'}\n",
      "0.651159 (0.052445) with {'activation': 'tanh', 'init_mode': 'normal'}\n",
      "0.651159 (0.052445) with {'activation': 'tanh', 'init_mode': 'zero'}\n",
      "0.339564 (0.106670) with {'activation': 'tanh', 'init_mode': 'glorot_normal'}\n",
      "0.342857 (0.221915) with {'activation': 'tanh', 'init_mode': 'glorot_uniform'}\n",
      "0.258017 (0.146520) with {'activation': 'tanh', 'init_mode': 'he_normal'}\n",
      "0.459927 (0.102183) with {'activation': 'tanh', 'init_mode': 'he_uniform'}\n",
      "0.625185 (0.094426) with {'activation': 'sigmoid', 'init_mode': 'uniform'}\n",
      "0.554418 (0.151214) with {'activation': 'sigmoid', 'init_mode': 'lecun_uniform'}\n",
      "0.524548 (0.142269) with {'activation': 'sigmoid', 'init_mode': 'normal'}\n",
      "0.651159 (0.052445) with {'activation': 'sigmoid', 'init_mode': 'zero'}\n",
      "0.458416 (0.078573) with {'activation': 'sigmoid', 'init_mode': 'glorot_normal'}\n",
      "0.584882 (0.130555) with {'activation': 'sigmoid', 'init_mode': 'glorot_uniform'}\n",
      "0.535430 (0.141865) with {'activation': 'sigmoid', 'init_mode': 'he_normal'}\n",
      "0.533826 (0.103238) with {'activation': 'sigmoid', 'init_mode': 'he_uniform'}\n",
      "0.648561 (0.052791) with {'activation': 'hard_sigmoid', 'init_mode': 'uniform'}\n",
      "0.537747 (0.126989) with {'activation': 'hard_sigmoid', 'init_mode': 'lecun_uniform'}\n",
      "0.570351 (0.076855) with {'activation': 'hard_sigmoid', 'init_mode': 'normal'}\n",
      "0.651159 (0.052445) with {'activation': 'hard_sigmoid', 'init_mode': 'zero'}\n",
      "0.493625 (0.158095) with {'activation': 'hard_sigmoid', 'init_mode': 'glorot_normal'}\n",
      "0.530897 (0.129490) with {'activation': 'hard_sigmoid', 'init_mode': 'glorot_uniform'}\n",
      "0.531500 (0.089037) with {'activation': 'hard_sigmoid', 'init_mode': 'he_normal'}\n",
      "0.579671 (0.127822) with {'activation': 'hard_sigmoid', 'init_mode': 'he_uniform'}\n",
      "0.002597 (0.003181) with {'activation': 'linear', 'init_mode': 'uniform'}\n",
      "0.010415 (0.010573) with {'activation': 'linear', 'init_mode': 'lecun_uniform'}\n",
      "0.041609 (0.042992) with {'activation': 'linear', 'init_mode': 'normal'}\n",
      "0.651159 (0.052445) with {'activation': 'linear', 'init_mode': 'zero'}\n",
      "0.009091 (0.015145) with {'activation': 'linear', 'init_mode': 'glorot_normal'}\n",
      "0.002606 (0.003192) with {'activation': 'linear', 'init_mode': 'glorot_uniform'}\n",
      "0.001307 (0.002614) with {'activation': 'linear', 'init_mode': 'he_normal'}\n",
      "0.005203 (0.007574) with {'activation': 'linear', 'init_mode': 'he_uniform'}\n"
     ]
    }
   ],
   "source": [
    "init_mode = ['uniform', 'lecun_uniform', 'normal', 'zero', 'glorot_normal','glorot_uniform', 'he_normal', 'he_uniform']\n",
    "activation = ['softmax', 'softplus', 'softsign', 'relu', 'tanh', 'sigmoid', 'hard_sigmoid', 'linear']\n",
    "# 매개변수 입력 형태는 dictionary\n",
    "param_grid = dict(init_mode=init_mode, activation=activation)\n",
    "grid = GridSearchCV(estimator = model, param_grid=param_grid, n_jobs = -1) # 참여하는 cpu 개수 -1은 다 참가해라\n",
    "grid_result = grid.fit(X,Y)\n",
    "print(\"최적스코어 : %f       사용한 파라미터조합 : %s\" %(grid_result.best_score_, grid_result.best_params_))\n",
    "means = grid_result.cv_results_['mean_test_score']\n",
    "stds = grid_result.cv_results_['std_test_score']\n",
    "params = grid_result.cv_results_['params']\n",
    "for mean, stdev, param in zip(means, stds, params) :\n",
    "    print(\"%f (%f) with %r\" %(mean, stdev, param))"
   ]
  },
  {
   "cell_type": "code",
   "execution_count": 13,
   "metadata": {},
   "outputs": [
    {
     "name": "stdout",
     "output_type": "stream",
     "text": [
      "Epoch 1/100\n",
      "768/768 [==============================] - 0s 366us/step - loss: 2.8128 - accuracy: 0.5807\n",
      "Epoch 2/100\n",
      "768/768 [==============================] - 0s 74us/step - loss: 0.6716 - accuracy: 0.6445\n",
      "Epoch 3/100\n",
      "768/768 [==============================] - 0s 75us/step - loss: 0.6800 - accuracy: 0.6510\n",
      "Epoch 4/100\n",
      "768/768 [==============================] - 0s 74us/step - loss: 0.6589 - accuracy: 0.6576\n",
      "Epoch 5/100\n",
      " 10/768 [..............................] - ETA: 0s - loss: 0.5073 - accuracy: 0.9000"
     ]
    },
    {
     "name": "stderr",
     "output_type": "stream",
     "text": [
      "C:\\Users\\ICT01_22\\Anaconda3\\envs\\tf_test\\lib\\site-packages\\keras\\callbacks\\callbacks.py:846: RuntimeWarning: Early stopping conditioned on metric `var_accuracy` which is not available. Available metrics are: loss,accuracy\n",
      "  (self.monitor, ','.join(list(logs.keys()))), RuntimeWarning\n"
     ]
    },
    {
     "name": "stdout",
     "output_type": "stream",
     "text": [
      "768/768 [==============================] - 0s 73us/step - loss: 0.6749 - accuracy: 0.6510\n",
      "Epoch 6/100\n",
      "768/768 [==============================] - 0s 73us/step - loss: 0.6578 - accuracy: 0.6654\n",
      "Epoch 7/100\n",
      "768/768 [==============================] - 0s 75us/step - loss: 0.6597 - accuracy: 0.6706\n",
      "Epoch 8/100\n",
      "768/768 [==============================] - 0s 73us/step - loss: 0.6592 - accuracy: 0.6523\n",
      "Epoch 9/100\n",
      "768/768 [==============================] - 0s 73us/step - loss: 0.6534 - accuracy: 0.6523\n",
      "Epoch 10/100\n",
      "768/768 [==============================] - 0s 74us/step - loss: 0.6412 - accuracy: 0.6706\n",
      "Epoch 11/100\n",
      "768/768 [==============================] - 0s 78us/step - loss: 0.6469 - accuracy: 0.6654\n",
      "Epoch 12/100\n",
      "768/768 [==============================] - 0s 74us/step - loss: 0.6457 - accuracy: 0.6706\n",
      "Epoch 13/100\n",
      "768/768 [==============================] - 0s 71us/step - loss: 0.6453 - accuracy: 0.6797\n",
      "Epoch 14/100\n",
      "768/768 [==============================] - 0s 66us/step - loss: 0.6318 - accuracy: 0.6680\n",
      "Epoch 15/100\n",
      "768/768 [==============================] - 0s 74us/step - loss: 0.6421 - accuracy: 0.6693\n",
      "Epoch 16/100\n",
      "768/768 [==============================] - 0s 73us/step - loss: 0.6366 - accuracy: 0.6641\n",
      "Epoch 17/100\n",
      "768/768 [==============================] - 0s 73us/step - loss: 0.6344 - accuracy: 0.6602\n",
      "Epoch 18/100\n",
      "768/768 [==============================] - 0s 77us/step - loss: 0.6235 - accuracy: 0.6628\n",
      "Epoch 19/100\n",
      "768/768 [==============================] - 0s 71us/step - loss: 0.6299 - accuracy: 0.6693\n",
      "Epoch 20/100\n",
      "768/768 [==============================] - 0s 71us/step - loss: 0.6166 - accuracy: 0.6719\n",
      "Epoch 21/100\n",
      "768/768 [==============================] - 0s 70us/step - loss: 0.6156 - accuracy: 0.6836\n",
      "Epoch 22/100\n",
      "768/768 [==============================] - 0s 70us/step - loss: 0.6217 - accuracy: 0.6771\n",
      "Epoch 23/100\n",
      "768/768 [==============================] - 0s 74us/step - loss: 0.6152 - accuracy: 0.6810\n",
      "Epoch 24/100\n",
      "768/768 [==============================] - 0s 69us/step - loss: 0.6246 - accuracy: 0.6797\n",
      "Epoch 25/100\n",
      "768/768 [==============================] - 0s 69us/step - loss: 0.6083 - accuracy: 0.6979\n",
      "Epoch 26/100\n",
      "768/768 [==============================] - 0s 70us/step - loss: 0.6098 - accuracy: 0.6966\n",
      "Epoch 27/100\n",
      "768/768 [==============================] - 0s 69us/step - loss: 0.6106 - accuracy: 0.6927\n",
      "Epoch 28/100\n",
      "768/768 [==============================] - 0s 75us/step - loss: 0.6133 - accuracy: 0.6901\n",
      "Epoch 29/100\n",
      "768/768 [==============================] - 0s 74us/step - loss: 0.6011 - accuracy: 0.7005\n",
      "Epoch 30/100\n",
      "768/768 [==============================] - 0s 70us/step - loss: 0.6078 - accuracy: 0.6953\n",
      "Epoch 31/100\n",
      "768/768 [==============================] - 0s 73us/step - loss: 0.6096 - accuracy: 0.6979\n",
      "Epoch 32/100\n",
      "768/768 [==============================] - 0s 77us/step - loss: 0.6080 - accuracy: 0.6784\n",
      "Epoch 33/100\n",
      "768/768 [==============================] - 0s 75us/step - loss: 0.5951 - accuracy: 0.6966\n",
      "Epoch 34/100\n",
      "768/768 [==============================] - 0s 75us/step - loss: 0.6039 - accuracy: 0.6940\n",
      "Epoch 35/100\n",
      "768/768 [==============================] - 0s 78us/step - loss: 0.5832 - accuracy: 0.7214\n",
      "Epoch 36/100\n",
      "768/768 [==============================] - 0s 73us/step - loss: 0.5890 - accuracy: 0.7096\n",
      "Epoch 37/100\n",
      "768/768 [==============================] - 0s 70us/step - loss: 0.5880 - accuracy: 0.7083\n",
      "Epoch 38/100\n",
      "768/768 [==============================] - 0s 67us/step - loss: 0.5837 - accuracy: 0.7096\n",
      "Epoch 39/100\n",
      "768/768 [==============================] - 0s 71us/step - loss: 0.5932 - accuracy: 0.7031\n",
      "Epoch 40/100\n",
      "768/768 [==============================] - 0s 70us/step - loss: 0.5851 - accuracy: 0.7122\n",
      "Epoch 41/100\n",
      "768/768 [==============================] - 0s 70us/step - loss: 0.5891 - accuracy: 0.6979\n",
      "Epoch 42/100\n",
      "768/768 [==============================] - 0s 74us/step - loss: 0.5919 - accuracy: 0.6979\n",
      "Epoch 43/100\n",
      "768/768 [==============================] - 0s 71us/step - loss: 0.5856 - accuracy: 0.6940\n",
      "Epoch 44/100\n",
      "768/768 [==============================] - 0s 71us/step - loss: 0.5931 - accuracy: 0.6940\n",
      "Epoch 45/100\n",
      "768/768 [==============================] - 0s 71us/step - loss: 0.5869 - accuracy: 0.6914\n",
      "Epoch 46/100\n",
      "768/768 [==============================] - 0s 70us/step - loss: 0.5816 - accuracy: 0.7122\n",
      "Epoch 47/100\n",
      "768/768 [==============================] - 0s 68us/step - loss: 0.5797 - accuracy: 0.7227\n",
      "Epoch 48/100\n",
      "768/768 [==============================] - 0s 71us/step - loss: 0.5873 - accuracy: 0.7018\n",
      "Epoch 49/100\n",
      "768/768 [==============================] - 0s 70us/step - loss: 0.5782 - accuracy: 0.7253\n",
      "Epoch 50/100\n",
      "768/768 [==============================] - 0s 74us/step - loss: 0.5708 - accuracy: 0.7135\n",
      "Epoch 51/100\n",
      "768/768 [==============================] - 0s 71us/step - loss: 0.5956 - accuracy: 0.6849\n",
      "Epoch 52/100\n",
      "768/768 [==============================] - 0s 70us/step - loss: 0.5901 - accuracy: 0.6953\n",
      "Epoch 53/100\n",
      "768/768 [==============================] - 0s 73us/step - loss: 0.5848 - accuracy: 0.7109\n",
      "Epoch 54/100\n",
      "768/768 [==============================] - 0s 71us/step - loss: 0.5775 - accuracy: 0.7227\n",
      "Epoch 55/100\n",
      "768/768 [==============================] - 0s 74us/step - loss: 0.5782 - accuracy: 0.7135\n",
      "Epoch 56/100\n",
      "768/768 [==============================] - 0s 71us/step - loss: 0.5745 - accuracy: 0.7253\n",
      "Epoch 57/100\n",
      "768/768 [==============================] - 0s 71us/step - loss: 0.5779 - accuracy: 0.7135\n",
      "Epoch 58/100\n",
      "768/768 [==============================] - 0s 71us/step - loss: 0.5811 - accuracy: 0.7083\n",
      "Epoch 59/100\n",
      "768/768 [==============================] - 0s 74us/step - loss: 0.5672 - accuracy: 0.7305\n",
      "Epoch 60/100\n",
      "768/768 [==============================] - 0s 71us/step - loss: 0.6185 - accuracy: 0.6953\n",
      "Epoch 61/100\n",
      "768/768 [==============================] - 0s 70us/step - loss: 0.5947 - accuracy: 0.6849\n",
      "Epoch 62/100\n",
      "768/768 [==============================] - 0s 73us/step - loss: 0.5823 - accuracy: 0.7109\n",
      "Epoch 63/100\n",
      "768/768 [==============================] - 0s 73us/step - loss: 0.5992 - accuracy: 0.6732\n",
      "Epoch 64/100\n",
      "768/768 [==============================] - 0s 73us/step - loss: 0.5894 - accuracy: 0.6979\n",
      "Epoch 65/100\n",
      "768/768 [==============================] - 0s 74us/step - loss: 0.5859 - accuracy: 0.7070\n",
      "Epoch 66/100\n",
      "768/768 [==============================] - 0s 71us/step - loss: 0.5707 - accuracy: 0.7044\n",
      "Epoch 67/100\n",
      "768/768 [==============================] - 0s 75us/step - loss: 0.5726 - accuracy: 0.7305\n",
      "Epoch 68/100\n",
      "768/768 [==============================] - 0s 78us/step - loss: 0.5698 - accuracy: 0.7096\n",
      "Epoch 69/100\n",
      "768/768 [==============================] - 0s 75us/step - loss: 0.5591 - accuracy: 0.7318\n",
      "Epoch 70/100\n",
      "768/768 [==============================] - 0s 71us/step - loss: 0.5806 - accuracy: 0.7135\n",
      "Epoch 71/100\n",
      "768/768 [==============================] - 0s 70us/step - loss: 0.5808 - accuracy: 0.6940\n",
      "Epoch 72/100\n",
      "768/768 [==============================] - 0s 70us/step - loss: 0.5678 - accuracy: 0.7214\n",
      "Epoch 73/100\n",
      "768/768 [==============================] - 0s 73us/step - loss: 0.5653 - accuracy: 0.7161\n",
      "Epoch 74/100\n",
      "768/768 [==============================] - 0s 73us/step - loss: 0.5611 - accuracy: 0.7188\n",
      "Epoch 75/100\n",
      "768/768 [==============================] - 0s 82us/step - loss: 0.5805 - accuracy: 0.7096\n",
      "Epoch 76/100\n",
      "768/768 [==============================] - 0s 71us/step - loss: 0.5718 - accuracy: 0.7201\n",
      "Epoch 77/100\n",
      "768/768 [==============================] - 0s 73us/step - loss: 0.5587 - accuracy: 0.7109\n",
      "Epoch 78/100\n",
      "768/768 [==============================] - 0s 69us/step - loss: 0.5670 - accuracy: 0.7305\n",
      "Epoch 79/100\n",
      "768/768 [==============================] - 0s 70us/step - loss: 0.5674 - accuracy: 0.7161\n",
      "Epoch 80/100\n",
      "768/768 [==============================] - 0s 71us/step - loss: 0.5516 - accuracy: 0.7240\n",
      "Epoch 81/100\n",
      "768/768 [==============================] - 0s 73us/step - loss: 0.5835 - accuracy: 0.7214\n",
      "Epoch 82/100\n",
      "768/768 [==============================] - 0s 71us/step - loss: 0.5730 - accuracy: 0.6992\n",
      "Epoch 83/100\n",
      "768/768 [==============================] - 0s 70us/step - loss: 0.5724 - accuracy: 0.7018\n",
      "Epoch 84/100\n"
     ]
    },
    {
     "name": "stdout",
     "output_type": "stream",
     "text": [
      "768/768 [==============================] - 0s 78us/step - loss: 0.5575 - accuracy: 0.7214\n",
      "Epoch 85/100\n",
      "768/768 [==============================] - 0s 74us/step - loss: 0.5680 - accuracy: 0.7253\n",
      "Epoch 86/100\n",
      "768/768 [==============================] - 0s 73us/step - loss: 0.5669 - accuracy: 0.7122\n",
      "Epoch 87/100\n",
      "768/768 [==============================] - 0s 71us/step - loss: 0.5555 - accuracy: 0.7305\n",
      "Epoch 88/100\n",
      "768/768 [==============================] - 0s 73us/step - loss: 0.5565 - accuracy: 0.7292\n",
      "Epoch 89/100\n",
      "768/768 [==============================] - 0s 73us/step - loss: 0.5616 - accuracy: 0.7253\n",
      "Epoch 90/100\n",
      "768/768 [==============================] - 0s 70us/step - loss: 0.5471 - accuracy: 0.7331\n",
      "Epoch 91/100\n",
      "768/768 [==============================] - 0s 71us/step - loss: 0.5694 - accuracy: 0.7135\n",
      "Epoch 92/100\n",
      "768/768 [==============================] - 0s 70us/step - loss: 0.5639 - accuracy: 0.7109\n",
      "Epoch 93/100\n",
      "768/768 [==============================] - 0s 71us/step - loss: 0.5612 - accuracy: 0.7266\n",
      "Epoch 94/100\n",
      "768/768 [==============================] - 0s 73us/step - loss: 0.5561 - accuracy: 0.7344\n",
      "Epoch 95/100\n",
      "768/768 [==============================] - 0s 71us/step - loss: 0.5530 - accuracy: 0.7279\n",
      "Epoch 96/100\n",
      "768/768 [==============================] - 0s 71us/step - loss: 0.5530 - accuracy: 0.7279\n",
      "Epoch 97/100\n",
      "768/768 [==============================] - 0s 73us/step - loss: 0.5561 - accuracy: 0.7214\n",
      "Epoch 98/100\n",
      "768/768 [==============================] - 0s 69us/step - loss: 0.5434 - accuracy: 0.7422\n",
      "Epoch 99/100\n",
      "768/768 [==============================] - 0s 69us/step - loss: 0.5526 - accuracy: 0.7383\n",
      "Epoch 100/100\n",
      "768/768 [==============================] - 0s 69us/step - loss: 0.5650 - accuracy: 0.7201\n",
      "Best: 0.717448 using {'dropout_rate': 0.1, 'init_mode': 'uniform', 'optimizer': 'softmax'}\n",
      "0.717448 (0.014382) with: {'dropout_rate': 0.1, 'init_mode': 'uniform', 'optimizer': 'softmax'}\n",
      "0.000000 (0.000000) with: {'dropout_rate': 0.1, 'init_mode': 'uniform', 'optimizer': 'relu'}\n",
      "0.657552 (0.025780) with: {'dropout_rate': 0.1, 'init_mode': 'lecun_uniform', 'optimizer': 'softmax'}\n",
      "0.000000 (0.000000) with: {'dropout_rate': 0.1, 'init_mode': 'lecun_uniform', 'optimizer': 'relu'}\n",
      "0.675781 (0.019401) with: {'dropout_rate': 0.2, 'init_mode': 'uniform', 'optimizer': 'softmax'}\n",
      "0.000000 (0.000000) with: {'dropout_rate': 0.2, 'init_mode': 'uniform', 'optimizer': 'relu'}\n",
      "0.649740 (0.012075) with: {'dropout_rate': 0.2, 'init_mode': 'lecun_uniform', 'optimizer': 'softmax'}\n",
      "0.005208 (0.007366) with: {'dropout_rate': 0.2, 'init_mode': 'lecun_uniform', 'optimizer': 'relu'}\n",
      "0.697917 (0.007366) with: {'dropout_rate': 0.3, 'init_mode': 'uniform', 'optimizer': 'softmax'}\n",
      "0.236979 (0.335139) with: {'dropout_rate': 0.3, 'init_mode': 'uniform', 'optimizer': 'relu'}\n",
      "0.651042 (0.024774) with: {'dropout_rate': 0.3, 'init_mode': 'lecun_uniform', 'optimizer': 'softmax'}\n",
      "0.009115 (0.012890) with: {'dropout_rate': 0.3, 'init_mode': 'lecun_uniform', 'optimizer': 'relu'}\n"
     ]
    }
   ],
   "source": [
    "# Use scikit-learn to grid search the weight initialization\n",
    "import numpy\n",
    "from sklearn.model_selection import GridSearchCV\n",
    "from keras.models import Sequential\n",
    "from keras.layers import Dense, Dropout\n",
    "from keras.wrappers.scikit_learn import KerasClassifier\n",
    "from keras.callbacks import EarlyStopping\n",
    "stopper = EarlyStopping(monitor='var_accuracy', patience=3, verbose=1)\n",
    "# Function to create model, required for KerasClassifier\n",
    "def create_model(init_mode='uniform',optimizer='relu',dropout_rate=0.1):\n",
    "# create model\n",
    "    model = Sequential()\n",
    "    model.add(Dense(12, input_dim=8, kernel_initializer=init_mode, activation=optimizer))\n",
    "    model.add(Dropout(dropout_rate))\n",
    "    model.add(Dense(1))\n",
    "    # Compile model\n",
    "    model.compile(loss='binary_crossentropy', optimizer='adam', metrics=['accuracy'])\n",
    "    return model\n",
    "# fix random seed for reproducibility\n",
    "seed = 7\n",
    "numpy.random.seed(seed)\n",
    "# load dataset\n",
    "dataset = numpy.loadtxt(\"pima.csv\", delimiter=\",\")\n",
    "# split into input (X) and output (Y) variables\n",
    "X = dataset[:,0:8]\n",
    "Y = dataset[:,8]\n",
    "# create model\n",
    "# Earlystopping\n",
    "model = KerasClassifier(build_fn=create_model, epochs=100, batch_size=10, verbose=1)\n",
    "# define the grid search parameters\n",
    "dropout_rate=[0.1,0.2,0.3] # ,0.4,0.5,0.6,0.7,0.8,0.9\n",
    "init_mode = ['uniform', 'lecun_uniform']# ,'normal','zero','glorot_normal','glorot_uniform','he_normal','he_uniform'\n",
    "optimizer = ['softmax','relu'] #, 'softplus', 'softsign','tanh','sigmoid','hard_sigmoid','linear'\n",
    "param_grid = dict(init_mode=init_mode,optimizer=optimizer,dropout_rate=dropout_rate)\n",
    "fit_params = dict(callbacks=[stopper])\n",
    "grid = GridSearchCV(estimator=model, param_grid=param_grid, n_jobs=-1, cv=3)\n",
    "# 변동 매개변수\n",
    "grid_result = grid.fit(X, Y, **fit_params)\n",
    "# summarize results\n",
    "print(\"Best: %f using %s\" % (grid_result.best_score_, grid_result.best_params_))\n",
    "means = grid_result.cv_results_['mean_test_score']\n",
    "stds = grid_result.cv_results_['std_test_score']\n",
    "params = grid_result.cv_results_['params']\n",
    "for mean, stdev, param in zip(means, stds, params):\n",
    "    print(\"%f (%f) with: %r\" % (mean, stdev, param))"
   ]
  },
  {
   "cell_type": "code",
   "execution_count": 15,
   "metadata": {},
   "outputs": [
    {
     "ename": "ImportError",
     "evalue": "cannot import name 'KearsRegressor' from 'keras.wrappers.scikit_learn' (C:\\Users\\ICT01_22\\Anaconda3\\envs\\tf_test\\lib\\site-packages\\keras\\wrappers\\scikit_learn.py)",
     "output_type": "error",
     "traceback": [
      "\u001b[1;31m---------------------------------------------------------------------------\u001b[0m",
      "\u001b[1;31mImportError\u001b[0m                               Traceback (most recent call last)",
      "\u001b[1;32m<ipython-input-15-9f66836af1ea>\u001b[0m in \u001b[0;36m<module>\u001b[1;34m\u001b[0m\n\u001b[1;32m----> 1\u001b[1;33m \u001b[1;32mfrom\u001b[0m \u001b[0mkeras\u001b[0m\u001b[1;33m.\u001b[0m\u001b[0mwrappers\u001b[0m\u001b[1;33m.\u001b[0m\u001b[0mscikit_learn\u001b[0m \u001b[1;32mimport\u001b[0m \u001b[0mKearsRegressor\u001b[0m\u001b[1;33m\u001b[0m\u001b[1;33m\u001b[0m\u001b[0m\n\u001b[0m\u001b[0;32m      2\u001b[0m \u001b[1;32mfrom\u001b[0m \u001b[0msklearn\u001b[0m\u001b[1;33m.\u001b[0m\u001b[0mmodel_selection\u001b[0m \u001b[1;32mimport\u001b[0m \u001b[0mcross_val_score\u001b[0m\u001b[1;33m\u001b[0m\u001b[1;33m\u001b[0m\u001b[0m\n\u001b[0;32m      3\u001b[0m \u001b[1;32mfrom\u001b[0m \u001b[0msklearn\u001b[0m\u001b[1;33m.\u001b[0m\u001b[0mmodel_sekection\u001b[0m \u001b[1;32mimport\u001b[0m \u001b[0mKFold\u001b[0m\u001b[1;33m\u001b[0m\u001b[1;33m\u001b[0m\u001b[0m\n\u001b[0;32m      4\u001b[0m \u001b[1;32mfrom\u001b[0m \u001b[0msklearn\u001b[0m\u001b[1;33m.\u001b[0m\u001b[0mpreprocessing\u001b[0m \u001b[1;32mimport\u001b[0m \u001b[0mStandardScaler\u001b[0m\u001b[1;33m\u001b[0m\u001b[1;33m\u001b[0m\u001b[0m\n\u001b[0;32m      5\u001b[0m \u001b[1;32mfrom\u001b[0m \u001b[0msklearn\u001b[0m\u001b[1;33m.\u001b[0m\u001b[0mpipeline\u001b[0m \u001b[1;32mimport\u001b[0m \u001b[0mPipeline\u001b[0m\u001b[1;33m\u001b[0m\u001b[1;33m\u001b[0m\u001b[0m\n",
      "\u001b[1;31mImportError\u001b[0m: cannot import name 'KearsRegressor' from 'keras.wrappers.scikit_learn' (C:\\Users\\ICT01_22\\Anaconda3\\envs\\tf_test\\lib\\site-packages\\keras\\wrappers\\scikit_learn.py)"
     ]
    }
   ],
   "source": [
    "from keras.wrappers.scikit_learn import KearsRegressor\n",
    "from sklearn.model_selection import cross_val_score\n",
    "from sklearn.model_sekection import KFold\n",
    "from sklearn.preprocessing import StandardScaler\n",
    "from sklearn.pipeline import Pipeline"
   ]
  },
  {
   "cell_type": "code",
   "execution_count": null,
   "metadata": {},
   "outputs": [],
   "source": [
    "dataframe = pandas.read_csv('housing_csv', delim_whitespace=True, header=None)\n",
    "\n",
    "dataset = dataframe.values\n",
    "X = dataset[:,0:13]\n",
    "Y = dataset[:, 13]"
   ]
  },
  {
   "cell_type": "code",
   "execution_count": null,
   "metadata": {},
   "outputs": [],
   "source": []
  },
  {
   "cell_type": "code",
   "execution_count": null,
   "metadata": {},
   "outputs": [],
   "source": []
  }
 ],
 "metadata": {
  "kernelspec": {
   "display_name": "Python 3",
   "language": "python",
   "name": "python3"
  },
  "language_info": {
   "codemirror_mode": {
    "name": "ipython",
    "version": 3
   },
   "file_extension": ".py",
   "mimetype": "text/x-python",
   "name": "python",
   "nbconvert_exporter": "python",
   "pygments_lexer": "ipython3",
   "version": "3.7.6"
  },
  "toc": {
   "base_numbering": 1,
   "nav_menu": {},
   "number_sections": true,
   "sideBar": true,
   "skip_h1_title": false,
   "title_cell": "Table of Contents",
   "title_sidebar": "Contents",
   "toc_cell": false,
   "toc_position": {},
   "toc_section_display": true,
   "toc_window_display": false
  }
 },
 "nbformat": 4,
 "nbformat_minor": 4
}
