{
 "cells": [
  {
   "cell_type": "markdown",
   "metadata": {},
   "source": [
    "# Dense를 이용한 신경망 구성"
   ]
  },
  {
   "cell_type": "code",
   "execution_count": 2,
   "metadata": {
    "scrolled": false
   },
   "outputs": [
    {
     "name": "stdout",
     "output_type": "stream",
     "text": [
      "입력데이터 = [0.29466096 0.30317302], 예측결과 = [0.1732434]\n",
      "입력데이터 = [0.39445118 0.79390858], 예측결과 = [0.74460006]\n",
      "입력데이터 = [0.02884127 0.6208843 ], 예측결과 = [0.40308127]\n"
     ]
    }
   ],
   "source": [
    "# 회귀분석\n",
    "from keras.models import Sequential # keras models 서브패키지\n",
    "from keras.layers import Dense      # layers => 모델구성\n",
    "from sklearn.datasets import make_regression\n",
    "# 신경망 - 정규화\n",
    "from sklearn.preprocessing import MinMaxScaler\n",
    "\n",
    "X, y = make_regression(n_samples=100, n_features=2, noise=0.1, random_state=1) # X = 100x2, y = 100\n",
    "scalarX, scalarY = MinMaxScaler(), MinMaxScaler() # data 값의 범위가 다르므로 Minmax 두 번 사용\n",
    "scalarX.fit(X)\n",
    "scalarY.fit(y.reshape(100,1)) # y는 열로 나오기 때문에 행으로 변형\n",
    "X = scalarX.transform(X)\n",
    "y = scalarY.transform(y.reshape(100, 1))\n",
    "# keras model 시작\n",
    "# 망만 생성 100x2\n",
    "model = Sequential()\n",
    "# dense : FFNN\n",
    "model.add(Dense(4, input_dim=2, activation='relu')) # 4 : 출력 차수 , 가중치(2x4) => 100x4\n",
    "# layer depth 1\n",
    "model.add(Dense(4, activation='relu')) # 100x4 가중치(4x4) => 100x4 \n",
    "# layer depth 2\n",
    "model.add(Dense(1, activation='linear')) # 100x4 가중치(4x1) => 100x1, 예측\n",
    "# layer depth 3\n",
    "# 전 layer에서 계산된 것이 다음 layer에서 적용\n",
    "\n",
    "# backend가 tensorflow\n",
    "# loss : mse(회귀), cross enthropy, KL-divergence(GAN) : 분포를 비교\n",
    "model.compile(loss='mse', optimizer='adam') # tensorflow 모델로 변환\n",
    "model.fit(X, y, epochs=1000, verbose=0) # tensorflow에서 minimize는 for문 두개 첫번쨰는 epoch 두번째는 batch_size-> 이걸 한번에 하는 함수\n",
    "# verbose = 학습 중 출력되는 문구를 설정합니다.\n",
    "# - 0 : 아무 것도 출력하지 않습니다.\n",
    "# - 1 : 훈련의 진행도를 보여주는 진행 막대를 보여줍니다.\n",
    "# - 2 : 미니 배치마다 손실 정보를 출력합니다.\n",
    "Xnew, a = make_regression(n_samples=3, n_features=2, noise=0.1, random_state=1)\n",
    "Xnew = scalarX.transform(Xnew)\n",
    "ynew = model.predict(Xnew)\n",
    "for i in range(len(Xnew)) :\n",
    "    print(\"입력데이터 = %s, 예측결과 = %s\" %(Xnew[i], ynew[i]))"
   ]
  },
  {
   "cell_type": "code",
   "execution_count": 3,
   "metadata": {
    "scrolled": true
   },
   "outputs": [
    {
     "name": "stdout",
     "output_type": "stream",
     "text": [
      "WARNING:tensorflow:From C:\\Users\\ICT01_21\\Anaconda3\\envs\\tf_test\\lib\\site-packages\\tensorflow\\python\\ops\\nn_impl.py:180: add_dispatch_support.<locals>.wrapper (from tensorflow.python.ops.array_ops) is deprecated and will be removed in a future version.\n",
      "Instructions for updating:\n",
      "Use tf.where in 2.0, which has the same broadcast rule as np.where\n",
      "Train on 514 samples, validate on 254 samples\n",
      "Epoch 1/150\n",
      "514/514 [==============================] - 0s 613us/step - loss: 0.6906 - accuracy: 0.6576 - val_loss: 0.6552 - val_accuracy: 0.6693\n",
      "Epoch 2/150\n",
      "514/514 [==============================] - 0s 97us/step - loss: 0.6566 - accuracy: 0.6304 - val_loss: 0.6302 - val_accuracy: 0.6614\n",
      "Epoch 3/150\n",
      "514/514 [==============================] - 0s 93us/step - loss: 0.6429 - accuracy: 0.6304 - val_loss: 0.6340 - val_accuracy: 0.6654\n",
      "Epoch 4/150\n",
      "514/514 [==============================] - 0s 91us/step - loss: 0.6339 - accuracy: 0.6420 - val_loss: 0.6258 - val_accuracy: 0.6654\n",
      "Epoch 5/150\n",
      "514/514 [==============================] - 0s 93us/step - loss: 0.6251 - accuracy: 0.6595 - val_loss: 0.6293 - val_accuracy: 0.6654\n",
      "Epoch 6/150\n",
      "514/514 [==============================] - 0s 85us/step - loss: 0.6235 - accuracy: 0.6537 - val_loss: 0.6131 - val_accuracy: 0.6772\n",
      "Epoch 7/150\n",
      "514/514 [==============================] - 0s 86us/step - loss: 0.6171 - accuracy: 0.6732 - val_loss: 0.6158 - val_accuracy: 0.6693\n",
      "Epoch 8/150\n",
      "514/514 [==============================] - 0s 88us/step - loss: 0.6086 - accuracy: 0.6693 - val_loss: 0.6087 - val_accuracy: 0.6890\n",
      "Epoch 9/150\n",
      "514/514 [==============================] - 0s 93us/step - loss: 0.6062 - accuracy: 0.6790 - val_loss: 0.6174 - val_accuracy: 0.6850\n",
      "Epoch 10/150\n",
      "514/514 [==============================] - 0s 87us/step - loss: 0.6087 - accuracy: 0.6770 - val_loss: 0.6084 - val_accuracy: 0.6811\n",
      "Epoch 11/150\n",
      "514/514 [==============================] - 0s 89us/step - loss: 0.5964 - accuracy: 0.6770 - val_loss: 0.6092 - val_accuracy: 0.6693\n",
      "Epoch 12/150\n",
      "514/514 [==============================] - 0s 85us/step - loss: 0.6032 - accuracy: 0.6693 - val_loss: 0.6167 - val_accuracy: 0.6614\n",
      "Epoch 13/150\n",
      "514/514 [==============================] - 0s 93us/step - loss: 0.5943 - accuracy: 0.6829 - val_loss: 0.6084 - val_accuracy: 0.6693\n",
      "Epoch 14/150\n",
      "514/514 [==============================] - 0s 93us/step - loss: 0.5905 - accuracy: 0.6848 - val_loss: 0.5924 - val_accuracy: 0.6811\n",
      "Epoch 15/150\n",
      "514/514 [==============================] - 0s 87us/step - loss: 0.5977 - accuracy: 0.6829 - val_loss: 0.5994 - val_accuracy: 0.6929\n",
      "Epoch 16/150\n",
      "514/514 [==============================] - 0s 85us/step - loss: 0.5957 - accuracy: 0.6848 - val_loss: 0.5994 - val_accuracy: 0.6772\n",
      "Epoch 17/150\n",
      "514/514 [==============================] - 0s 87us/step - loss: 0.5924 - accuracy: 0.6693 - val_loss: 0.5973 - val_accuracy: 0.6811\n",
      "Epoch 18/150\n",
      "514/514 [==============================] - 0s 85us/step - loss: 0.5854 - accuracy: 0.6693 - val_loss: 0.5890 - val_accuracy: 0.6890\n",
      "Epoch 19/150\n",
      "514/514 [==============================] - 0s 85us/step - loss: 0.5846 - accuracy: 0.6926 - val_loss: 0.5857 - val_accuracy: 0.6969\n",
      "Epoch 20/150\n",
      "514/514 [==============================] - 0s 91us/step - loss: 0.5832 - accuracy: 0.6809 - val_loss: 0.6039 - val_accuracy: 0.6890\n",
      "Epoch 21/150\n",
      "514/514 [==============================] - 0s 97us/step - loss: 0.5845 - accuracy: 0.6809 - val_loss: 0.5972 - val_accuracy: 0.6772\n",
      "Epoch 22/150\n",
      "514/514 [==============================] - 0s 85us/step - loss: 0.5840 - accuracy: 0.6809 - val_loss: 0.6255 - val_accuracy: 0.6614\n",
      "Epoch 23/150\n",
      "514/514 [==============================] - 0s 91us/step - loss: 0.5815 - accuracy: 0.6790 - val_loss: 0.5902 - val_accuracy: 0.6811\n",
      "Epoch 24/150\n",
      "514/514 [==============================] - 0s 91us/step - loss: 0.5784 - accuracy: 0.6907 - val_loss: 0.5891 - val_accuracy: 0.6850\n",
      "Epoch 25/150\n",
      "514/514 [==============================] - 0s 93us/step - loss: 0.5874 - accuracy: 0.6829 - val_loss: 0.5933 - val_accuracy: 0.6772\n",
      "Epoch 26/150\n",
      "514/514 [==============================] - 0s 95us/step - loss: 0.5763 - accuracy: 0.6984 - val_loss: 0.5928 - val_accuracy: 0.6890\n",
      "Epoch 27/150\n",
      "514/514 [==============================] - 0s 95us/step - loss: 0.5804 - accuracy: 0.6848 - val_loss: 0.5838 - val_accuracy: 0.6969\n",
      "Epoch 28/150\n",
      "514/514 [==============================] - 0s 90us/step - loss: 0.5864 - accuracy: 0.6848 - val_loss: 0.6181 - val_accuracy: 0.6575\n",
      "Epoch 29/150\n",
      "514/514 [==============================] - 0s 91us/step - loss: 0.5782 - accuracy: 0.6809 - val_loss: 0.5902 - val_accuracy: 0.6850\n",
      "Epoch 30/150\n",
      "514/514 [==============================] - 0s 91us/step - loss: 0.5747 - accuracy: 0.6946 - val_loss: 0.5894 - val_accuracy: 0.6850\n",
      "Epoch 31/150\n",
      "514/514 [==============================] - 0s 91us/step - loss: 0.5773 - accuracy: 0.6712 - val_loss: 0.5858 - val_accuracy: 0.6890\n",
      "Epoch 32/150\n",
      "514/514 [==============================] - 0s 91us/step - loss: 0.5766 - accuracy: 0.6868 - val_loss: 0.6175 - val_accuracy: 0.6457\n",
      "Epoch 33/150\n",
      "514/514 [==============================] - 0s 91us/step - loss: 0.5951 - accuracy: 0.6868 - val_loss: 0.6009 - val_accuracy: 0.6850\n",
      "Epoch 34/150\n",
      "514/514 [==============================] - 0s 91us/step - loss: 0.5760 - accuracy: 0.6848 - val_loss: 0.5862 - val_accuracy: 0.6929\n",
      "Epoch 35/150\n",
      "514/514 [==============================] - 0s 91us/step - loss: 0.5677 - accuracy: 0.6965 - val_loss: 0.5719 - val_accuracy: 0.7165\n",
      "Epoch 36/150\n",
      "514/514 [==============================] - 0s 93us/step - loss: 0.5803 - accuracy: 0.6907 - val_loss: 0.5739 - val_accuracy: 0.6890\n",
      "Epoch 37/150\n",
      "514/514 [==============================] - 0s 93us/step - loss: 0.5691 - accuracy: 0.6926 - val_loss: 0.5901 - val_accuracy: 0.7008\n",
      "Epoch 38/150\n",
      "514/514 [==============================] - 0s 89us/step - loss: 0.5646 - accuracy: 0.6907 - val_loss: 0.5781 - val_accuracy: 0.6772\n",
      "Epoch 39/150\n",
      "514/514 [==============================] - 0s 93us/step - loss: 0.5820 - accuracy: 0.6829 - val_loss: 0.5718 - val_accuracy: 0.7087\n",
      "Epoch 40/150\n",
      "514/514 [==============================] - 0s 93us/step - loss: 0.5688 - accuracy: 0.6907 - val_loss: 0.5727 - val_accuracy: 0.7008\n",
      "Epoch 41/150\n",
      "514/514 [==============================] - 0s 91us/step - loss: 0.5642 - accuracy: 0.6965 - val_loss: 0.5665 - val_accuracy: 0.7126\n",
      "Epoch 42/150\n",
      "514/514 [==============================] - 0s 89us/step - loss: 0.5714 - accuracy: 0.6809 - val_loss: 0.5763 - val_accuracy: 0.7008\n",
      "Epoch 43/150\n",
      "514/514 [==============================] - 0s 93us/step - loss: 0.5655 - accuracy: 0.6848 - val_loss: 0.5706 - val_accuracy: 0.7008\n",
      "Epoch 44/150\n",
      "514/514 [==============================] - 0s 97us/step - loss: 0.5647 - accuracy: 0.6926 - val_loss: 0.5922 - val_accuracy: 0.6850\n",
      "Epoch 45/150\n",
      "514/514 [==============================] - 0s 95us/step - loss: 0.5587 - accuracy: 0.7004 - val_loss: 0.6001 - val_accuracy: 0.6890\n",
      "Epoch 46/150\n",
      "514/514 [==============================] - 0s 93us/step - loss: 0.5731 - accuracy: 0.6829 - val_loss: 0.5784 - val_accuracy: 0.6890\n",
      "Epoch 47/150\n",
      "514/514 [==============================] - 0s 91us/step - loss: 0.5607 - accuracy: 0.6965 - val_loss: 0.5730 - val_accuracy: 0.6929\n",
      "Epoch 48/150\n",
      "514/514 [==============================] - 0s 91us/step - loss: 0.5663 - accuracy: 0.6965 - val_loss: 0.5761 - val_accuracy: 0.7008\n",
      "Epoch 49/150\n",
      "514/514 [==============================] - 0s 93us/step - loss: 0.5613 - accuracy: 0.7004 - val_loss: 0.5840 - val_accuracy: 0.7087\n",
      "Epoch 50/150\n",
      "514/514 [==============================] - 0s 91us/step - loss: 0.5598 - accuracy: 0.6946 - val_loss: 0.5900 - val_accuracy: 0.7008\n",
      "Epoch 51/150\n",
      "514/514 [==============================] - 0s 95us/step - loss: 0.5581 - accuracy: 0.6868 - val_loss: 0.5703 - val_accuracy: 0.7087\n",
      "Epoch 52/150\n",
      "514/514 [==============================] - 0s 120us/step - loss: 0.5647 - accuracy: 0.6907 - val_loss: 0.5945 - val_accuracy: 0.6890\n",
      "Epoch 53/150\n",
      "514/514 [==============================] - 0s 97us/step - loss: 0.5569 - accuracy: 0.6984 - val_loss: 0.5756 - val_accuracy: 0.7047\n",
      "Epoch 54/150\n",
      "514/514 [==============================] - 0s 95us/step - loss: 0.5592 - accuracy: 0.6868 - val_loss: 0.5697 - val_accuracy: 0.7047\n"
     ]
    },
    {
     "name": "stdout",
     "output_type": "stream",
     "text": [
      "Epoch 55/150\n",
      "514/514 [==============================] - 0s 93us/step - loss: 0.5561 - accuracy: 0.6887 - val_loss: 0.6058 - val_accuracy: 0.6890\n",
      "Epoch 56/150\n",
      "514/514 [==============================] - 0s 93us/step - loss: 0.5647 - accuracy: 0.6693 - val_loss: 0.5910 - val_accuracy: 0.6890\n",
      "Epoch 57/150\n",
      "514/514 [==============================] - 0s 93us/step - loss: 0.5625 - accuracy: 0.6984 - val_loss: 0.5770 - val_accuracy: 0.7008\n",
      "Epoch 58/150\n",
      "514/514 [==============================] - 0s 95us/step - loss: 0.5533 - accuracy: 0.6965 - val_loss: 0.6059 - val_accuracy: 0.6693\n",
      "Epoch 59/150\n",
      "514/514 [==============================] - 0s 95us/step - loss: 0.5601 - accuracy: 0.6887 - val_loss: 0.5985 - val_accuracy: 0.7008\n",
      "Epoch 60/150\n",
      "514/514 [==============================] - 0s 95us/step - loss: 0.5540 - accuracy: 0.6868 - val_loss: 0.5823 - val_accuracy: 0.6969\n",
      "Epoch 61/150\n",
      "514/514 [==============================] - 0s 95us/step - loss: 0.5593 - accuracy: 0.6848 - val_loss: 0.5714 - val_accuracy: 0.7126\n",
      "Epoch 62/150\n",
      "514/514 [==============================] - 0s 93us/step - loss: 0.5521 - accuracy: 0.6984 - val_loss: 0.5696 - val_accuracy: 0.7047\n",
      "Epoch 63/150\n",
      "514/514 [==============================] - 0s 94us/step - loss: 0.5444 - accuracy: 0.6926 - val_loss: 0.5740 - val_accuracy: 0.7087\n",
      "Epoch 64/150\n",
      "514/514 [==============================] - 0s 95us/step - loss: 0.5450 - accuracy: 0.6984 - val_loss: 0.5798 - val_accuracy: 0.7126\n",
      "Epoch 65/150\n",
      "514/514 [==============================] - 0s 92us/step - loss: 0.5494 - accuracy: 0.7004 - val_loss: 0.5884 - val_accuracy: 0.6850\n",
      "Epoch 66/150\n",
      "514/514 [==============================] - 0s 91us/step - loss: 0.5522 - accuracy: 0.6946 - val_loss: 0.5713 - val_accuracy: 0.7165\n",
      "Epoch 67/150\n",
      "514/514 [==============================] - 0s 92us/step - loss: 0.5483 - accuracy: 0.7023 - val_loss: 0.6126 - val_accuracy: 0.6693\n",
      "Epoch 68/150\n",
      "514/514 [==============================] - 0s 91us/step - loss: 0.5644 - accuracy: 0.6770 - val_loss: 0.5686 - val_accuracy: 0.7087\n",
      "Epoch 69/150\n",
      "514/514 [==============================] - 0s 91us/step - loss: 0.5467 - accuracy: 0.6868 - val_loss: 0.5856 - val_accuracy: 0.7126\n",
      "Epoch 70/150\n",
      "514/514 [==============================] - 0s 93us/step - loss: 0.5493 - accuracy: 0.6926 - val_loss: 0.6017 - val_accuracy: 0.6496\n",
      "Epoch 71/150\n",
      "514/514 [==============================] - 0s 89us/step - loss: 0.5444 - accuracy: 0.7062 - val_loss: 0.5823 - val_accuracy: 0.7008\n",
      "Epoch 72/150\n",
      "514/514 [==============================] - 0s 91us/step - loss: 0.5508 - accuracy: 0.7004 - val_loss: 0.5824 - val_accuracy: 0.7008\n",
      "Epoch 73/150\n",
      "514/514 [==============================] - 0s 91us/step - loss: 0.5577 - accuracy: 0.6868 - val_loss: 0.5688 - val_accuracy: 0.7087\n",
      "Epoch 74/150\n",
      "514/514 [==============================] - 0s 95us/step - loss: 0.5389 - accuracy: 0.7004 - val_loss: 0.5763 - val_accuracy: 0.7087\n",
      "Epoch 75/150\n",
      "514/514 [==============================] - 0s 95us/step - loss: 0.5354 - accuracy: 0.7023 - val_loss: 0.5622 - val_accuracy: 0.7087\n",
      "Epoch 76/150\n",
      "514/514 [==============================] - 0s 88us/step - loss: 0.5356 - accuracy: 0.7023 - val_loss: 0.5654 - val_accuracy: 0.7205\n",
      "Epoch 77/150\n",
      "514/514 [==============================] - 0s 89us/step - loss: 0.5373 - accuracy: 0.6887 - val_loss: 0.5831 - val_accuracy: 0.7244\n",
      "Epoch 78/150\n",
      "514/514 [==============================] - 0s 92us/step - loss: 0.5455 - accuracy: 0.6946 - val_loss: 0.5686 - val_accuracy: 0.7008\n",
      "Epoch 79/150\n",
      "514/514 [==============================] - 0s 93us/step - loss: 0.5492 - accuracy: 0.7082 - val_loss: 0.5691 - val_accuracy: 0.7087\n",
      "Epoch 80/150\n",
      "514/514 [==============================] - 0s 91us/step - loss: 0.5352 - accuracy: 0.6946 - val_loss: 0.5680 - val_accuracy: 0.7205\n",
      "Epoch 81/150\n",
      "514/514 [==============================] - 0s 95us/step - loss: 0.5441 - accuracy: 0.7023 - val_loss: 0.5701 - val_accuracy: 0.7047\n",
      "Epoch 82/150\n",
      "514/514 [==============================] - 0s 91us/step - loss: 0.5378 - accuracy: 0.6984 - val_loss: 0.5680 - val_accuracy: 0.7205\n",
      "Epoch 83/150\n",
      "514/514 [==============================] - 0s 95us/step - loss: 0.5331 - accuracy: 0.7043 - val_loss: 0.5789 - val_accuracy: 0.7126\n",
      "Epoch 84/150\n",
      "514/514 [==============================] - 0s 91us/step - loss: 0.5367 - accuracy: 0.7023 - val_loss: 0.5712 - val_accuracy: 0.7126\n",
      "Epoch 85/150\n",
      "514/514 [==============================] - 0s 90us/step - loss: 0.5466 - accuracy: 0.6926 - val_loss: 0.5666 - val_accuracy: 0.7126\n",
      "Epoch 86/150\n",
      "514/514 [==============================] - 0s 90us/step - loss: 0.5354 - accuracy: 0.6907 - val_loss: 0.5629 - val_accuracy: 0.7283\n",
      "Epoch 87/150\n",
      "514/514 [==============================] - 0s 90us/step - loss: 0.5313 - accuracy: 0.7082 - val_loss: 0.5770 - val_accuracy: 0.7047\n",
      "Epoch 88/150\n",
      "514/514 [==============================] - 0s 91us/step - loss: 0.5264 - accuracy: 0.7004 - val_loss: 0.5638 - val_accuracy: 0.7087\n",
      "Epoch 89/150\n",
      "514/514 [==============================] - 0s 99us/step - loss: 0.5238 - accuracy: 0.6984 - val_loss: 0.5815 - val_accuracy: 0.7047\n",
      "Epoch 90/150\n",
      "514/514 [==============================] - 0s 91us/step - loss: 0.5352 - accuracy: 0.7082 - val_loss: 0.6114 - val_accuracy: 0.6614\n",
      "Epoch 91/150\n",
      "514/514 [==============================] - 0s 93us/step - loss: 0.5413 - accuracy: 0.6965 - val_loss: 0.5862 - val_accuracy: 0.7244\n",
      "Epoch 92/150\n",
      "514/514 [==============================] - 0s 87us/step - loss: 0.5411 - accuracy: 0.7043 - val_loss: 0.5622 - val_accuracy: 0.7205\n",
      "Epoch 93/150\n",
      "514/514 [==============================] - 0s 91us/step - loss: 0.5296 - accuracy: 0.7082 - val_loss: 0.5730 - val_accuracy: 0.7087\n",
      "Epoch 94/150\n",
      "514/514 [==============================] - 0s 91us/step - loss: 0.5282 - accuracy: 0.7043 - val_loss: 0.5617 - val_accuracy: 0.7008\n",
      "Epoch 95/150\n",
      "514/514 [==============================] - 0s 93us/step - loss: 0.5300 - accuracy: 0.7082 - val_loss: 0.5831 - val_accuracy: 0.6969\n",
      "Epoch 96/150\n",
      "514/514 [==============================] - 0s 92us/step - loss: 0.5360 - accuracy: 0.6907 - val_loss: 0.5691 - val_accuracy: 0.6969\n",
      "Epoch 97/150\n",
      "514/514 [==============================] - 0s 89us/step - loss: 0.5232 - accuracy: 0.7101 - val_loss: 0.5666 - val_accuracy: 0.7087\n",
      "Epoch 98/150\n",
      "514/514 [==============================] - 0s 88us/step - loss: 0.5269 - accuracy: 0.7160 - val_loss: 0.5708 - val_accuracy: 0.7205\n",
      "Epoch 99/150\n",
      "514/514 [==============================] - 0s 93us/step - loss: 0.5333 - accuracy: 0.6984 - val_loss: 0.5750 - val_accuracy: 0.7165\n",
      "Epoch 100/150\n",
      "514/514 [==============================] - 0s 97us/step - loss: 0.5307 - accuracy: 0.7082 - val_loss: 0.5552 - val_accuracy: 0.7244\n",
      "Epoch 101/150\n",
      "514/514 [==============================] - 0s 93us/step - loss: 0.5242 - accuracy: 0.7237 - val_loss: 0.5731 - val_accuracy: 0.7008\n",
      "Epoch 102/150\n",
      "514/514 [==============================] - 0s 97us/step - loss: 0.5198 - accuracy: 0.7082 - val_loss: 0.5628 - val_accuracy: 0.7008\n",
      "Epoch 103/150\n",
      "514/514 [==============================] - 0s 93us/step - loss: 0.5291 - accuracy: 0.7062 - val_loss: 0.5670 - val_accuracy: 0.6890\n",
      "Epoch 104/150\n",
      "514/514 [==============================] - 0s 93us/step - loss: 0.5464 - accuracy: 0.7101 - val_loss: 0.5581 - val_accuracy: 0.7244\n",
      "Epoch 105/150\n",
      "514/514 [==============================] - 0s 97us/step - loss: 0.5295 - accuracy: 0.7062 - val_loss: 0.5706 - val_accuracy: 0.7008\n",
      "Epoch 106/150\n",
      "514/514 [==============================] - 0s 91us/step - loss: 0.5326 - accuracy: 0.6887 - val_loss: 0.5720 - val_accuracy: 0.6811\n",
      "Epoch 107/150\n",
      "514/514 [==============================] - 0s 83us/step - loss: 0.5185 - accuracy: 0.7198 - val_loss: 0.5696 - val_accuracy: 0.7283\n",
      "Epoch 108/150\n",
      "514/514 [==============================] - 0s 83us/step - loss: 0.5419 - accuracy: 0.7121 - val_loss: 0.5646 - val_accuracy: 0.7126\n",
      "Epoch 109/150\n",
      "514/514 [==============================] - 0s 87us/step - loss: 0.5199 - accuracy: 0.7043 - val_loss: 0.5641 - val_accuracy: 0.7047\n",
      "Epoch 110/150\n",
      "514/514 [==============================] - 0s 87us/step - loss: 0.5252 - accuracy: 0.7101 - val_loss: 0.5638 - val_accuracy: 0.7362\n",
      "Epoch 111/150\n",
      "514/514 [==============================] - 0s 84us/step - loss: 0.5286 - accuracy: 0.7101 - val_loss: 0.5743 - val_accuracy: 0.7087\n",
      "Epoch 112/150\n",
      "514/514 [==============================] - 0s 96us/step - loss: 0.5149 - accuracy: 0.7257 - val_loss: 0.6052 - val_accuracy: 0.6811\n",
      "Epoch 113/150\n",
      "514/514 [==============================] - 0s 87us/step - loss: 0.5230 - accuracy: 0.7626 - val_loss: 0.5685 - val_accuracy: 0.7362\n",
      "Epoch 114/150\n",
      "514/514 [==============================] - 0s 89us/step - loss: 0.5185 - accuracy: 0.7451 - val_loss: 0.5910 - val_accuracy: 0.6890\n",
      "Epoch 115/150\n",
      "514/514 [==============================] - 0s 89us/step - loss: 0.5223 - accuracy: 0.7510 - val_loss: 0.5635 - val_accuracy: 0.7441\n",
      "Epoch 116/150\n",
      "514/514 [==============================] - 0s 89us/step - loss: 0.5141 - accuracy: 0.7412 - val_loss: 0.5775 - val_accuracy: 0.7205\n",
      "Epoch 117/150\n",
      "514/514 [==============================] - 0s 89us/step - loss: 0.5222 - accuracy: 0.7451 - val_loss: 0.5925 - val_accuracy: 0.7244\n",
      "Epoch 118/150\n",
      "514/514 [==============================] - 0s 93us/step - loss: 0.5134 - accuracy: 0.7549 - val_loss: 0.5734 - val_accuracy: 0.7402\n",
      "Epoch 119/150\n",
      "514/514 [==============================] - 0s 93us/step - loss: 0.5259 - accuracy: 0.7374 - val_loss: 0.5674 - val_accuracy: 0.7480\n",
      "Epoch 120/150\n",
      "514/514 [==============================] - 0s 95us/step - loss: 0.5089 - accuracy: 0.7490 - val_loss: 0.5604 - val_accuracy: 0.7402\n",
      "Epoch 121/150\n",
      "514/514 [==============================] - 0s 95us/step - loss: 0.5142 - accuracy: 0.7451 - val_loss: 0.5856 - val_accuracy: 0.7244\n",
      "Epoch 122/150\n",
      "514/514 [==============================] - 0s 93us/step - loss: 0.5235 - accuracy: 0.7490 - val_loss: 0.5705 - val_accuracy: 0.7126\n",
      "Epoch 123/150\n",
      "514/514 [==============================] - 0s 95us/step - loss: 0.5084 - accuracy: 0.7510 - val_loss: 0.5974 - val_accuracy: 0.6850\n",
      "Epoch 124/150\n",
      "514/514 [==============================] - 0s 93us/step - loss: 0.5159 - accuracy: 0.7490 - val_loss: 0.5722 - val_accuracy: 0.7244\n",
      "Epoch 125/150\n",
      "514/514 [==============================] - 0s 91us/step - loss: 0.5106 - accuracy: 0.7568 - val_loss: 0.5919 - val_accuracy: 0.7205\n",
      "Epoch 126/150\n",
      "514/514 [==============================] - 0s 94us/step - loss: 0.5142 - accuracy: 0.7646 - val_loss: 0.6106 - val_accuracy: 0.6614\n",
      "Epoch 127/150\n",
      "514/514 [==============================] - 0s 86us/step - loss: 0.5164 - accuracy: 0.7490 - val_loss: 0.5806 - val_accuracy: 0.7008\n",
      "Epoch 128/150\n",
      "514/514 [==============================] - 0s 92us/step - loss: 0.5078 - accuracy: 0.7704 - val_loss: 0.5537 - val_accuracy: 0.7598\n",
      "Epoch 129/150\n",
      "514/514 [==============================] - 0s 91us/step - loss: 0.5060 - accuracy: 0.7607 - val_loss: 0.5954 - val_accuracy: 0.6969\n",
      "Epoch 130/150\n",
      "514/514 [==============================] - 0s 91us/step - loss: 0.5156 - accuracy: 0.7490 - val_loss: 0.5561 - val_accuracy: 0.7638\n",
      "Epoch 131/150\n",
      "514/514 [==============================] - 0s 91us/step - loss: 0.5166 - accuracy: 0.7646 - val_loss: 0.5803 - val_accuracy: 0.7283\n",
      "Epoch 132/150\n",
      "514/514 [==============================] - 0s 93us/step - loss: 0.5228 - accuracy: 0.7471 - val_loss: 0.5607 - val_accuracy: 0.7598\n",
      "Epoch 133/150\n",
      "514/514 [==============================] - 0s 95us/step - loss: 0.5069 - accuracy: 0.7626 - val_loss: 0.5622 - val_accuracy: 0.7480\n",
      "Epoch 134/150\n",
      "514/514 [==============================] - 0s 87us/step - loss: 0.5071 - accuracy: 0.7510 - val_loss: 0.5667 - val_accuracy: 0.7441\n",
      "Epoch 135/150\n",
      "514/514 [==============================] - 0s 91us/step - loss: 0.5089 - accuracy: 0.7607 - val_loss: 0.5521 - val_accuracy: 0.7520\n",
      "Epoch 136/150\n",
      "514/514 [==============================] - 0s 93us/step - loss: 0.5167 - accuracy: 0.7568 - val_loss: 0.5729 - val_accuracy: 0.7283\n",
      "Epoch 137/150\n",
      "514/514 [==============================] - 0s 90us/step - loss: 0.5058 - accuracy: 0.7451 - val_loss: 0.5617 - val_accuracy: 0.7205\n",
      "Epoch 138/150\n",
      "514/514 [==============================] - 0s 91us/step - loss: 0.5018 - accuracy: 0.7549 - val_loss: 0.5575 - val_accuracy: 0.7520\n",
      "Epoch 139/150\n",
      "514/514 [==============================] - 0s 89us/step - loss: 0.5020 - accuracy: 0.7782 - val_loss: 0.5738 - val_accuracy: 0.7126\n",
      "Epoch 140/150\n",
      "514/514 [==============================] - 0s 91us/step - loss: 0.5082 - accuracy: 0.7529 - val_loss: 0.5577 - val_accuracy: 0.7205\n",
      "Epoch 141/150\n",
      "514/514 [==============================] - 0s 95us/step - loss: 0.5058 - accuracy: 0.7724 - val_loss: 0.5616 - val_accuracy: 0.7323\n",
      "Epoch 142/150\n",
      "514/514 [==============================] - 0s 97us/step - loss: 0.5117 - accuracy: 0.7529 - val_loss: 0.5888 - val_accuracy: 0.7362\n",
      "Epoch 143/150\n",
      "514/514 [==============================] - 0s 95us/step - loss: 0.5135 - accuracy: 0.7529 - val_loss: 0.5651 - val_accuracy: 0.7205\n",
      "Epoch 144/150\n",
      "514/514 [==============================] - 0s 93us/step - loss: 0.5215 - accuracy: 0.7549 - val_loss: 0.5625 - val_accuracy: 0.7323\n",
      "Epoch 145/150\n",
      "514/514 [==============================] - 0s 91us/step - loss: 0.5080 - accuracy: 0.7568 - val_loss: 0.5603 - val_accuracy: 0.7598\n",
      "Epoch 146/150\n",
      "514/514 [==============================] - 0s 93us/step - loss: 0.5042 - accuracy: 0.7665 - val_loss: 0.5862 - val_accuracy: 0.7047\n",
      "Epoch 147/150\n",
      "514/514 [==============================] - 0s 91us/step - loss: 0.5039 - accuracy: 0.7529 - val_loss: 0.5624 - val_accuracy: 0.7283\n",
      "Epoch 148/150\n",
      "514/514 [==============================] - 0s 91us/step - loss: 0.5011 - accuracy: 0.7568 - val_loss: 0.5708 - val_accuracy: 0.7362\n",
      "Epoch 149/150\n",
      "514/514 [==============================] - 0s 91us/step - loss: 0.4974 - accuracy: 0.7802 - val_loss: 0.5853 - val_accuracy: 0.6772\n",
      "Epoch 150/150\n",
      "514/514 [==============================] - 0s 93us/step - loss: 0.4942 - accuracy: 0.7626 - val_loss: 0.5734 - val_accuracy: 0.7520\n",
      "768/768 [==============================] - 0s 12us/step\n",
      "\n",
      "accuracy : 76.30%\n"
     ]
    }
   ],
   "source": [
    "from keras.models import Sequential # input, output 하나\n",
    "from keras.layers import Dense\n",
    "import numpy as np\n",
    "np.random.seed(7)\n",
    "dataset = np.loadtxt(\"pima.data\", delimiter=',')\n",
    "X = dataset[:, 0:8] # 8개 독립변수\n",
    "Y = dataset[:,8]    # 9번째 종속변수\n",
    "model = Sequential()\n",
    "# model.add(Dense(12, input_dim=8, activation='relu'))# ?x8 가중치(8x12) =>?x12\n",
    "model.add(Dense(12, input_dim=8, kernel_initializer='uniform', activation='relu')) # 균등분포로 초기화\n",
    "model.add(Dense(8, activation='relu'))# ?x12 가중치(12x8) => ?x8\n",
    "model.add(Dense(1, activation='sigmoid'))# ?x8 가중치(8x1) => ?x1 sigmoid(분류, 0.5보다 크면 1 작으면 0)\n",
    "model.compile(loss='binary_crossentropy', optimizer='adam', metrics=['accuracy']) # metrics=['accuracy'] 정확성을 측정하겠다.\n",
    "# model.fit(X, Y, epochs=150, batch_size=10)\n",
    "# history = model.fit(X, Y, epochs=150, batch_size=10) # history로 return\n",
    "# 데이터 분리 입력(train, test) : 과적합\n",
    "# train, validation, test\n",
    "history = model.fit(X, Y, validation_split=0.33, epochs=150, batch_size=10)\n",
    "scores = model.evaluate(X,Y)\n",
    "# 2번째 accuracy\n",
    "print(\"\\n%s : %.2f%%\" %(model.metrics_names[1], scores[1]*100))"
   ]
  },
  {
   "cell_type": "code",
   "execution_count": 4,
   "metadata": {},
   "outputs": [
    {
     "name": "stdout",
     "output_type": "stream",
     "text": [
      "dict_keys(['val_loss', 'val_accuracy', 'loss', 'accuracy'])\n"
     ]
    },
    {
     "data": {
      "image/png": "[encoded data removed]",
      "text/plain": [
       "<Figure size 432x288 with 1 Axes>"
      ]
     },
     "metadata": {
      "needs_background": "light"
     },
     "output_type": "display_data"
    }
   ],
   "source": [
    "%matplotlib inline\n",
    "import matplotlib.pyplot as plt\n",
    "print(history.history.keys())\n",
    "plt.plot(history.history['accuracy'])\n",
    "plt.plot(history.history['val_accuracy'])\n",
    "plt.title('accuracy')\n",
    "plt.ylabel('accuracy')\n",
    "plt.xlabel('epoch')\n",
    "plt.legend(['train', 'test'], loc = 'upper left')\n",
    "plt.show()"
   ]
  },
  {
   "cell_type": "code",
   "execution_count": 5,
   "metadata": {},
   "outputs": [
    {
     "data": {
      "image/png": "[encoded data removed]",
      "text/plain": [
       "<Figure size 432x288 with 1 Axes>"
      ]
     },
     "metadata": {
      "needs_background": "light"
     },
     "output_type": "display_data"
    }
   ],
   "source": [
    "plt.plot(history.history['loss'])\n",
    "plt.plot(history.history['val_loss'])\n",
    "plt.title('loss')\n",
    "plt.ylabel('loss')\n",
    "plt.xlabel('epoch')\n",
    "plt.legend(['train', 'test'], loc = 'upper left')\n",
    "plt.show()"
   ]
  },
  {
   "cell_type": "markdown",
   "metadata": {},
   "source": [
    "# 비선형"
   ]
  },
  {
   "cell_type": "code",
   "execution_count": 6,
   "metadata": {},
   "outputs": [],
   "source": [
    "from sklearn.preprocessing import scale\n",
    "from sklearn.model_selection import train_test_split\n",
    "from sklearn.datasets import make_moons\n",
    "X, Y = make_moons(noise=0.2, random_state=0, n_samples=1000)\n",
    "X = scale(X)\n",
    "X_train, X_test, Y_train, Y_test = train_test_split(X,Y, test_size=.5)"
   ]
  },
  {
   "cell_type": "code",
   "execution_count": 7,
   "metadata": {},
   "outputs": [
    {
     "name": "stdout",
     "output_type": "stream",
     "text": [
      "(1000, 2)\n",
      "(1000,)\n",
      "(500, 2)\n",
      "(500, 2)\n",
      "(500,)\n",
      "(500,)\n"
     ]
    }
   ],
   "source": [
    "print(X.shape)\n",
    "print(Y.shape)\n",
    "print(X_train.shape)\n",
    "print(X_test.shape)\n",
    "print(Y_train.shape)\n",
    "print(Y_test.shape)"
   ]
  },
  {
   "cell_type": "code",
   "execution_count": 8,
   "metadata": {},
   "outputs": [
    {
     "data": {
      "text/plain": [
       "[Text(0, 0.5, 'Y'), Text(0.5, 0, 'X'), Text(0.5, 1.0, 'binary classification')]"
      ]
     },
     "execution_count": 8,
     "metadata": {},
     "output_type": "execute_result"
    },
    {
     "data": {
      "image/png": "[encoded data removed]",
      "text/plain": [
       "<Figure size 432x288 with 1 Axes>"
      ]
     },
     "metadata": {
      "needs_background": "light"
     },
     "output_type": "display_data"
    }
   ],
   "source": [
    "fig, ax = plt.subplots()\n",
    "ax.scatter(X[Y==0, 0], X[Y==0, 1], label = 'Class 0')\n",
    "ax.scatter(X[Y==1, 0], X[Y==1, 1], color='r', label = 'Class 1')\n",
    "ax.legend()\n",
    "ax.set(xlabel='X', ylabel='Y', title='binary classification')"
   ]
  },
  {
   "cell_type": "code",
   "execution_count": 9,
   "metadata": {},
   "outputs": [
    {
     "name": "stdout",
     "output_type": "stream",
     "text": [
      "WARNING:tensorflow:From C:\\Users\\ICT01_21\\Anaconda3\\envs\\tf_test\\lib\\site-packages\\keras\\callbacks\\tensorboard_v1.py:146: The name tf.summary.histogram is deprecated. Please use tf.compat.v1.summary.histogram instead.\n",
      "\n",
      "WARNING:tensorflow:From C:\\Users\\ICT01_21\\Anaconda3\\envs\\tf_test\\lib\\site-packages\\keras\\callbacks\\tensorboard_v1.py:200: The name tf.summary.merge_all is deprecated. Please use tf.compat.v1.summary.merge_all instead.\n",
      "\n",
      "WARNING:tensorflow:From C:\\Users\\ICT01_21\\Anaconda3\\envs\\tf_test\\lib\\site-packages\\keras\\callbacks\\tensorboard_v1.py:203: The name tf.summary.FileWriter is deprecated. Please use tf.compat.v1.summary.FileWriter instead.\n",
      "\n"
     ]
    }
   ],
   "source": [
    "# 비선형모델 - 신경망 \n",
    "import keras\n",
    "model = Sequential()\n",
    "# 행렬연산 => 설명을 확대 (변수 32-설명)\n",
    "# 가중치가 있으면 바이어스도 있음\n",
    "# 1000x2 가중치(2x32=64)+32(bias) = 96 => 1000x32\n",
    "model.add(Dense(32, input_dim=2, activation='relu')) # 차원 확대\n",
    "# 1000x32 32x1=32+1(bias)=33 =>1000x1 분류\n",
    "model.add(Dense(1, activation='sigmoid'))\n",
    "model.compile(optimizer='AdaDelta', loss='binary_crossentropy', metrics=['accuracy'])\n",
    "\n",
    "# callback 함수는 window에서 자동으로 호출되는 함수\n",
    "tb_callback = keras.callbacks.TensorBoard(log_dir='./Graph/model_1/', histogram_freq=100, write_graph=True, write_images=False)\n",
    "# graph 이미지 출력\n",
    "tb_callback.set_model(model) # 콜백을 모델에 등록"
   ]
  },
  {
   "cell_type": "code",
   "execution_count": 10,
   "metadata": {},
   "outputs": [
    {
     "name": "stdout",
     "output_type": "stream",
     "text": [
      "WARNING:tensorflow:From C:\\Users\\ICT01_21\\Anaconda3\\envs\\tf_test\\lib\\site-packages\\keras\\callbacks\\tensorboard_v1.py:343: The name tf.Summary is deprecated. Please use tf.compat.v1.Summary instead.\n",
      "\n"
     ]
    }
   ],
   "source": [
    "hist = model.fit(X_train, Y_train, batch_size=32, epochs=200, verbose = 0, \n",
    "                 validation_data=(X_test, Y_test), callbacks=[tb_callback]) # 호출"
   ]
  },
  {
   "cell_type": "code",
   "execution_count": 11,
   "metadata": {},
   "outputs": [
    {
     "name": "stdout",
     "output_type": "stream",
     "text": [
      "Test loss :  0.12789358568191528\n",
      "Test accuracy :  0.949999988079071\n"
     ]
    }
   ],
   "source": [
    "score = model.evaluate(X_test, Y_test, verbose=0)\n",
    "print(\"Test loss : \", score[0])\n",
    "print(\"Test accuracy : \", score[1])"
   ]
  },
  {
   "cell_type": "code",
   "execution_count": 12,
   "metadata": {},
   "outputs": [
    {
     "name": "stdout",
     "output_type": "stream",
     "text": [
      "Model: \"sequential_4\"\n",
      "_________________________________________________________________\n",
      "Layer (type)                 Output Shape              Param #   \n",
      "=================================================================\n",
      "dense_10 (Dense)             (None, 32)                96        \n",
      "_________________________________________________________________\n",
      "dense_11 (Dense)             (None, 1)                 33        \n",
      "=================================================================\n",
      "Total params: 129\n",
      "Trainable params: 129\n",
      "Non-trainable params: 0\n",
      "_________________________________________________________________\n"
     ]
    }
   ],
   "source": [
    "keras.utils.print_summary(model)"
   ]
  },
  {
   "cell_type": "code",
   "execution_count": 13,
   "metadata": {},
   "outputs": [
    {
     "data": {
      "image/png": "[encoded data removed]",
      "text/plain": [
       "<IPython.core.display.Image object>"
      ]
     },
     "execution_count": 13,
     "metadata": {},
     "output_type": "execute_result"
    }
   ],
   "source": [
    "from keras.utils import plot_model\n",
    "keras.utils.plot_model(model)"
   ]
  },
  {
   "cell_type": "code",
   "execution_count": 14,
   "metadata": {},
   "outputs": [
    {
     "data": {
      "text/plain": [
       "<pydot.Dot at 0x22e362c5588>"
      ]
     },
     "execution_count": 14,
     "metadata": {},
     "output_type": "execute_result"
    }
   ],
   "source": [
    "%matplotlib inline\n",
    "from keras.utils.vis_utils import model_to_dot\n",
    "model_to_dot(model)"
   ]
  },
  {
   "cell_type": "code",
   "execution_count": 15,
   "metadata": {},
   "outputs": [
    {
     "data": {
      "image/svg+xml": [
       "<svg height=\"255pt\" viewBox=\"0.00 0.00 181.00 191.00\" width=\"241pt\" xmlns=\"http://www.w3.org/2000/svg\" xmlns:xlink=\"http://www.w3.org/1999/xlink\">\n",
       "<g class=\"graph\" id=\"graph0\" transform=\"scale(1.33333 1.33333) rotate(0) translate(4 187)\">\n",
       "<title>G</title>\n",
       "<polygon fill=\"white\" points=\"-4,4 -4,-187 177,-187 177,4 -4,4\" stroke=\"none\"/>\n",
       "<!-- 2397452400328 -->\n",
       "<g class=\"node\" id=\"node1\"><title>2397452400328</title>\n",
       "<polygon fill=\"none\" points=\"0,-146.5 0,-182.5 173,-182.5 173,-146.5 0,-146.5\" stroke=\"black\"/>\n",
       "<text font-family=\"Times New Roman,serif\" font-size=\"14.00\" text-anchor=\"middle\" x=\"86.5\" y=\"-160.8\">dense_10_input: InputLayer</text>\n",
       "</g>\n",
       "<!-- 2397452399752 -->\n",
       "<g class=\"node\" id=\"node2\"><title>2397452399752</title>\n",
       "<polygon fill=\"none\" points=\"31,-73.5 31,-109.5 142,-109.5 142,-73.5 31,-73.5\" stroke=\"black\"/>\n",
       "<text font-family=\"Times New Roman,serif\" font-size=\"14.00\" text-anchor=\"middle\" x=\"86.5\" y=\"-87.8\">dense_10: Dense</text>\n",
       "</g>\n",
       "<!-- 2397452400328&#45;&gt;2397452399752 -->\n",
       "<g class=\"edge\" id=\"edge1\"><title>2397452400328-&gt;2397452399752</title>\n",
       "<path d=\"M86.5,-146.313C86.5,-138.289 86.5,-128.547 86.5,-119.569\" fill=\"none\" stroke=\"black\"/>\n",
       "<polygon fill=\"black\" points=\"90.0001,-119.529 86.5,-109.529 83.0001,-119.529 90.0001,-119.529\" stroke=\"black\"/>\n",
       "</g>\n",
       "<!-- 2397452432840 -->\n",
       "<g class=\"node\" id=\"node3\"><title>2397452432840</title>\n",
       "<polygon fill=\"none\" points=\"31,-0.5 31,-36.5 142,-36.5 142,-0.5 31,-0.5\" stroke=\"black\"/>\n",
       "<text font-family=\"Times New Roman,serif\" font-size=\"14.00\" text-anchor=\"middle\" x=\"86.5\" y=\"-14.8\">dense_11: Dense</text>\n",
       "</g>\n",
       "<!-- 2397452399752&#45;&gt;2397452432840 -->\n",
       "<g class=\"edge\" id=\"edge2\"><title>2397452399752-&gt;2397452432840</title>\n",
       "<path d=\"M86.5,-73.3129C86.5,-65.2895 86.5,-55.5475 86.5,-46.5691\" fill=\"none\" stroke=\"black\"/>\n",
       "<polygon fill=\"black\" points=\"90.0001,-46.5288 86.5,-36.5288 83.0001,-46.5289 90.0001,-46.5288\" stroke=\"black\"/>\n",
       "</g>\n",
       "</g>\n",
       "</svg>"
      ],
      "text/plain": [
       "<IPython.core.display.SVG object>"
      ]
     },
     "execution_count": 15,
     "metadata": {},
     "output_type": "execute_result"
    }
   ],
   "source": [
    "from IPython.display import SVG\n",
    "from keras.utils.vis_utils import model_to_dot\n",
    "SVG(model_to_dot(model).create(prog='dot', format='svg'))"
   ]
  },
  {
   "cell_type": "code",
   "execution_count": 16,
   "metadata": {},
   "outputs": [
    {
     "name": "stdout",
     "output_type": "stream",
     "text": [
      "Model: \"sequential_4\"\n",
      "_________________________________________________________________\n",
      "Layer (type)                 Output Shape              Param #   \n",
      "=================================================================\n",
      "dense_10 (Dense)             (None, 32)                96        \n",
      "_________________________________________________________________\n",
      "dense_11 (Dense)             (None, 1)                 33        \n",
      "=================================================================\n",
      "Total params: 129\n",
      "Trainable params: 129\n",
      "Non-trainable params: 0\n",
      "_________________________________________________________________\n"
     ]
    }
   ],
   "source": [
    "model.summary()"
   ]
  },
  {
   "cell_type": "code",
   "execution_count": 17,
   "metadata": {},
   "outputs": [],
   "source": [
    "# Callback class\n",
    "# custom callback 함수의 제작\n",
    "# 함수에 의해서 호출되는 객체\n",
    "class CustomHistory(keras.callbacks.Callback) : # 상속\n",
    "    def init(self) : #__init__이 아니므로 호출가능\n",
    "        self.train_loss = []\n",
    "        self.val_loss=[]\n",
    "        self.train_acc = []\n",
    "        self.val_acc = []\n",
    "    def on_epoch_end(self, batch, logs={}) :  # 오버라이딩\n",
    "        self.train_loss.append(logs.get(\"loss\"))\n",
    "        self.val_loss.append(logs.get(\"val_loss\"))\n",
    "        self.train_loss.append(logs.get(\"accuracy\"))\n",
    "        self.val_loss.append(logs.get(\"val_accuracy\"))"
   ]
  },
  {
   "cell_type": "code",
   "execution_count": 18,
   "metadata": {},
   "outputs": [
    {
     "name": "stdout",
     "output_type": "stream",
     "text": [
      "(60000, 28, 28) uint8\n",
      "(60000,) uint8\n",
      "(10000, 28, 28) uint8\n",
      "(10000,) uint8\n"
     ]
    }
   ],
   "source": [
    "from keras.datasets import mnist\n",
    "import matplotlib.pylab as plt\n",
    "(X_train0, y_train0), (X_test0, y_test0) = mnist.load_data()\n",
    "print(X_train0.shape, X_train0.dtype)\n",
    "print(y_train0.shape, y_train0.dtype)\n",
    "print(X_test0.shape, X_test0.dtype)\n",
    "print(y_test0.shape, y_test0.dtype)"
   ]
  },
  {
   "cell_type": "code",
   "execution_count": 19,
   "metadata": {},
   "outputs": [
    {
     "data": {
      "image/png": "[encoded data removed]",
      "text/plain": [
       "<Figure size 432x288 with 1 Axes>"
      ]
     },
     "metadata": {
      "needs_background": "light"
     },
     "output_type": "display_data"
    }
   ],
   "source": [
    "plt.imshow(X_train0[0])\n",
    "plt.grid(False)\n",
    "plt.show()"
   ]
  },
  {
   "cell_type": "code",
   "execution_count": 20,
   "metadata": {},
   "outputs": [
    {
     "name": "stdout",
     "output_type": "stream",
     "text": [
      "(60000, 784) float32\n"
     ]
    }
   ],
   "source": [
    "# fully-connected : flatten -> FFNN은 데이터가 1줄로 들어가야함\n",
    "# 이미지 정규화  : 0~255 컬러값 / 255 => 0~1\n",
    "X_train = X_train0.reshape(60000, 784).astype('float32')/255.0\n",
    "X_test = X_test0.reshape(10000, 784).astype('float32')/255.0\n",
    "print(X_train.shape, X_train.dtype)"
   ]
  },
  {
   "cell_type": "code",
   "execution_count": 21,
   "metadata": {},
   "outputs": [
    {
     "data": {
      "text/plain": [
       "array([5, 0, 4, 1, 9], dtype=uint8)"
      ]
     },
     "execution_count": 21,
     "metadata": {},
     "output_type": "execute_result"
    }
   ],
   "source": [
    "y_train0[:5] # one-hot encoding 여부 \n",
    "#        => 전진망에서 분류는 softmax로, multi-label(binary_entropy) => softmax(3개가 넘어가면 사용,경우의 수에 대한 확률값)\n",
    "# 5, 0, 4, 1, 9 -> 안되어 있음"
   ]
  },
  {
   "cell_type": "code",
   "execution_count": 22,
   "metadata": {},
   "outputs": [
    {
     "data": {
      "text/plain": [
       "array([[0., 0., 0., 0., 0., 1., 0., 0., 0., 0.],\n",
       "       [1., 0., 0., 0., 0., 0., 0., 0., 0., 0.],\n",
       "       [0., 0., 0., 0., 1., 0., 0., 0., 0., 0.],\n",
       "       [0., 1., 0., 0., 0., 0., 0., 0., 0., 0.],\n",
       "       [0., 0., 0., 0., 0., 0., 0., 0., 0., 1.]], dtype=float32)"
      ]
     },
     "execution_count": 22,
     "metadata": {},
     "output_type": "execute_result"
    }
   ],
   "source": [
    "# one-hot encoding\n",
    "from keras.utils import np_utils\n",
    "Y_train = np_utils.to_categorical(y_train0, 10)\n",
    "Y_test = np_utils.to_categorical(y_test0, 10)\n",
    "Y_train[:5]"
   ]
  },
  {
   "cell_type": "code",
   "execution_count": 23,
   "metadata": {},
   "outputs": [],
   "source": [
    "from keras.optimizers import SGD\n",
    "np.random.seed(0)\n",
    "model = Sequential()\n",
    "# 60000x784 784x15 => 60000x15\n",
    "model.add(Dense(15, input_dim=784, activation = 'sigmoid'))\n",
    "model.add(Dense(10, activation = 'sigmoid'))\n",
    "# lr : learning rate\n",
    "# stochastic gradient descent\n",
    "model.compile(optimizer=SGD(lr=0.2), loss='mean_squared_error', metrics=[\"accuracy\"])"
   ]
  },
  {
   "cell_type": "code",
   "execution_count": 24,
   "metadata": {},
   "outputs": [
    {
     "data": {
      "text/plain": [
       "[<keras.layers.core.Dense at 0x22e36353c08>,\n",
       " <keras.layers.core.Dense at 0x22e362a0b88>]"
      ]
     },
     "execution_count": 24,
     "metadata": {},
     "output_type": "execute_result"
    }
   ],
   "source": [
    "model.layers"
   ]
  },
  {
   "cell_type": "code",
   "execution_count": 25,
   "metadata": {},
   "outputs": [
    {
     "data": {
      "text/plain": [
       "<function keras.activations.sigmoid(x)>"
      ]
     },
     "execution_count": 25,
     "metadata": {},
     "output_type": "execute_result"
    }
   ],
   "source": [
    "l1 = model.layers[0]\n",
    "l2 = model.layers[1]\n",
    "# 레이어 속성으로 정보확인\n",
    "l1.name\n",
    "l1.input_shape\n",
    "l1.output_shape\n",
    "l1.activation"
   ]
  },
  {
   "cell_type": "code",
   "execution_count": 26,
   "metadata": {
    "scrolled": true
   },
   "outputs": [
    {
     "name": "stderr",
     "output_type": "stream",
     "text": [
      "C:\\Users\\ICT01_21\\Anaconda3\\envs\\tf_test\\lib\\site-packages\\ipykernel_launcher.py:4: UserWarning: The `nb_epoch` argument in `fit` has been renamed `epochs`.\n",
      "  after removing the cwd from sys.path.\n"
     ]
    },
    {
     "name": "stdout",
     "output_type": "stream",
     "text": [
      "Train on 60000 samples, validate on 10000 samples\n",
      "Epoch 1/30\n",
      " - 1s - loss: 0.1019 - accuracy: 0.2440 - val_loss: 0.0864 - val_accuracy: 0.3212\n",
      "Epoch 2/30\n",
      " - 0s - loss: 0.0845 - accuracy: 0.3921 - val_loss: 0.0821 - val_accuracy: 0.4409\n",
      "Epoch 3/30\n",
      " - 0s - loss: 0.0796 - accuracy: 0.4997 - val_loss: 0.0765 - val_accuracy: 0.5340\n",
      "Epoch 4/30\n",
      " - 1s - loss: 0.0740 - accuracy: 0.5620 - val_loss: 0.0707 - val_accuracy: 0.5852\n",
      "Epoch 5/30\n",
      " - 1s - loss: 0.0682 - accuracy: 0.6149 - val_loss: 0.0649 - val_accuracy: 0.6522\n",
      "Epoch 6/30\n",
      " - 1s - loss: 0.0625 - accuracy: 0.6759 - val_loss: 0.0594 - val_accuracy: 0.6998\n",
      "Epoch 7/30\n",
      " - 1s - loss: 0.0576 - accuracy: 0.7101 - val_loss: 0.0551 - val_accuracy: 0.7316\n",
      "Epoch 8/30\n",
      " - 1s - loss: 0.0537 - accuracy: 0.7325 - val_loss: 0.0516 - val_accuracy: 0.7485\n",
      "Epoch 9/30\n",
      " - 1s - loss: 0.0505 - accuracy: 0.7474 - val_loss: 0.0486 - val_accuracy: 0.7639\n",
      "Epoch 10/30\n",
      " - 1s - loss: 0.0478 - accuracy: 0.7609 - val_loss: 0.0461 - val_accuracy: 0.7759\n",
      "Epoch 11/30\n",
      " - 1s - loss: 0.0455 - accuracy: 0.7739 - val_loss: 0.0439 - val_accuracy: 0.7893\n",
      "Epoch 12/30\n",
      " - 1s - loss: 0.0435 - accuracy: 0.7859 - val_loss: 0.0420 - val_accuracy: 0.8023\n",
      "Epoch 13/30\n",
      " - 1s - loss: 0.0417 - accuracy: 0.7977 - val_loss: 0.0402 - val_accuracy: 0.8132\n",
      "Epoch 14/30\n",
      " - 1s - loss: 0.0400 - accuracy: 0.8083 - val_loss: 0.0386 - val_accuracy: 0.8255\n",
      "Epoch 15/30\n",
      " - 1s - loss: 0.0385 - accuracy: 0.8192 - val_loss: 0.0371 - val_accuracy: 0.8359\n",
      "Epoch 16/30\n",
      " - 1s - loss: 0.0371 - accuracy: 0.8288 - val_loss: 0.0358 - val_accuracy: 0.8432\n",
      "Epoch 17/30\n",
      " - 1s - loss: 0.0359 - accuracy: 0.8371 - val_loss: 0.0345 - val_accuracy: 0.8503\n",
      "Epoch 18/30\n",
      " - 1s - loss: 0.0347 - accuracy: 0.8440 - val_loss: 0.0334 - val_accuracy: 0.8557\n",
      "Epoch 19/30\n",
      " - 1s - loss: 0.0336 - accuracy: 0.8506 - val_loss: 0.0323 - val_accuracy: 0.8618\n",
      "Epoch 20/30\n",
      " - 1s - loss: 0.0326 - accuracy: 0.8565 - val_loss: 0.0313 - val_accuracy: 0.8651\n",
      "Epoch 21/30\n",
      " - 1s - loss: 0.0316 - accuracy: 0.8610 - val_loss: 0.0304 - val_accuracy: 0.8706\n",
      "Epoch 22/30\n",
      " - 1s - loss: 0.0308 - accuracy: 0.8646 - val_loss: 0.0295 - val_accuracy: 0.8742\n",
      "Epoch 23/30\n",
      " - 1s - loss: 0.0299 - accuracy: 0.8680 - val_loss: 0.0287 - val_accuracy: 0.8777\n",
      "Epoch 24/30\n",
      " - 1s - loss: 0.0292 - accuracy: 0.8709 - val_loss: 0.0280 - val_accuracy: 0.8790\n",
      "Epoch 25/30\n",
      " - 1s - loss: 0.0285 - accuracy: 0.8738 - val_loss: 0.0273 - val_accuracy: 0.8814\n",
      "Epoch 26/30\n",
      " - 1s - loss: 0.0278 - accuracy: 0.8765 - val_loss: 0.0267 - val_accuracy: 0.8845\n",
      "Epoch 27/30\n",
      " - 1s - loss: 0.0272 - accuracy: 0.8787 - val_loss: 0.0261 - val_accuracy: 0.8863\n",
      "Epoch 28/30\n",
      " - 1s - loss: 0.0266 - accuracy: 0.8814 - val_loss: 0.0255 - val_accuracy: 0.8878\n",
      "Epoch 29/30\n",
      " - 1s - loss: 0.0261 - accuracy: 0.8829 - val_loss: 0.0250 - val_accuracy: 0.8894\n",
      "Epoch 30/30\n",
      " - 0s - loss: 0.0256 - accuracy: 0.8844 - val_loss: 0.0245 - val_accuracy: 0.8904\n"
     ]
    },
    {
     "data": {
      "image/png": "[encoded data removed]",
      "text/plain": [
       "<Figure size 432x288 with 1 Axes>"
      ]
     },
     "metadata": {
      "needs_background": "light"
     },
     "output_type": "display_data"
    }
   ],
   "source": [
    "custom_hist = CustomHistory()\n",
    "custom_hist.init()\n",
    "hist = model.fit(X_train, Y_train, nb_epoch = 30, batch_size=100,\n",
    "                validation_data=(X_test, Y_test), callbacks=[custom_hist], verbose=2)\n",
    "plt.plot(hist.history['loss'])\n",
    "plt.show()"
   ]
  },
  {
   "cell_type": "code",
   "execution_count": 27,
   "metadata": {},
   "outputs": [
    {
     "data": {
      "image/png": "[encoded data removed]",
      "text/plain": [
       "<Figure size 432x288 with 1 Axes>"
      ]
     },
     "metadata": {
      "needs_background": "light"
     },
     "output_type": "display_data"
    },
    {
     "name": "stdout",
     "output_type": "stream",
     "text": [
      "<keras.engine.sequential.Sequential object at 0x0000022E36457B88>\n",
      "=====================================================================\n",
      "{'batch_size': 100, 'epochs': 30, 'steps': None, 'samples': 60000, 'verbose': 2, 'do_validation': True, 'metrics': ['loss', 'accuracy', 'val_loss', 'val_accuracy']}\n",
      "=====================================================================\n",
      "[0.24401666, 0.39213333, 0.49971667, 0.56201667, 0.6149167, 0.6759167, 0.7101333, 0.7325, 0.7474167, 0.76085, 0.77395, 0.7858833, 0.79766667, 0.8082833, 0.81918335, 0.82878333, 0.83713335, 0.84403336, 0.8506333, 0.85646665, 0.8609667, 0.8646167, 0.86795, 0.87091666, 0.87381667, 0.87651664, 0.8786833, 0.88136667, 0.8829, 0.8844]\n",
      "=====================================================================\n",
      "0.8903999924659729\n"
     ]
    }
   ],
   "source": [
    "plt.plot(hist.history['accuracy'], 'b-', label='training')\n",
    "plt.plot(hist.history['val_accuracy'], 'r:', label='test')\n",
    "plt.legend()\n",
    "plt.show()\n",
    "\n",
    "print(hist.model)\n",
    "print(\"=====================================================================\")\n",
    "print(hist.params)\n",
    "print(\"=====================================================================\")\n",
    "print(hist.history['accuracy'])\n",
    "print(\"=====================================================================\")\n",
    "print(hist.history['val_accuracy'][29])"
   ]
  },
  {
   "cell_type": "code",
   "execution_count": 56,
   "metadata": {},
   "outputs": [
    {
     "data": {
      "image/png": "[encoded data removed]",
      "text/plain": [
       "<Figure size 432x288 with 1 Axes>"
      ]
     },
     "metadata": {
      "needs_background": "light"
     },
     "output_type": "display_data"
    }
   ],
   "source": [
    "plt.plot(custom_hist.train_loss, 'y', label = 'train loss')\n",
    "plt.show()"
   ]
  },
  {
   "cell_type": "markdown",
   "metadata": {},
   "source": [
    "# 문제 :  X_test의 이미지 한장의 label을 예측해보시요"
   ]
  },
  {
   "cell_type": "code",
   "execution_count": 29,
   "metadata": {},
   "outputs": [
    {
     "data": {
      "text/plain": [
       "array([[0.01766995, 0.01917326, 0.01319781, 0.02869663, 0.01251969,\n",
       "        0.05721784, 0.01232019, 0.9418675 , 0.00762815, 0.0553683 ]],\n",
       "      dtype=float32)"
      ]
     },
     "execution_count": 29,
     "metadata": {},
     "output_type": "execute_result"
    }
   ],
   "source": [
    "model.predict(X_test[:1,:])"
   ]
  },
  {
   "cell_type": "code",
   "execution_count": 30,
   "metadata": {},
   "outputs": [
    {
     "data": {
      "text/plain": [
       "array([7], dtype=int64)"
      ]
     },
     "execution_count": 30,
     "metadata": {},
     "output_type": "execute_result"
    }
   ],
   "source": [
    "model.predict_classes(X_test[:1, :], verbose=0)"
   ]
  },
  {
   "cell_type": "markdown",
   "metadata": {},
   "source": [
    "# 문제 : 출력차수가 512인 레이어를 추가하시요"
   ]
  },
  {
   "cell_type": "code",
   "execution_count": 31,
   "metadata": {},
   "outputs": [],
   "source": [
    "np.random.seed(0)\n",
    "model = Sequential()\n",
    "\n",
    "model.add(Dense(512, input_dim=784, activation = 'sigmoid'))\n",
    "model.add(Dense(15, activation = 'sigmoid'))\n",
    "model.add(Dense(10, activation = 'sigmoid'))\n",
    "\n",
    "model.compile(optimizer=SGD(lr=0.2), loss='mean_squared_error', metrics=[\"accuracy\"])"
   ]
  },
  {
   "cell_type": "code",
   "execution_count": 32,
   "metadata": {},
   "outputs": [
    {
     "data": {
      "text/plain": [
       "[<keras.layers.core.Dense at 0x22e36aaf448>,\n",
       " <keras.layers.core.Dense at 0x22e369c8c48>,\n",
       " <keras.layers.core.Dense at 0x22e36af4648>]"
      ]
     },
     "execution_count": 32,
     "metadata": {},
     "output_type": "execute_result"
    }
   ],
   "source": [
    "model.layers"
   ]
  },
  {
   "cell_type": "code",
   "execution_count": 33,
   "metadata": {},
   "outputs": [],
   "source": [
    "from keras.datasets import boston_housing\n",
    "(x_train, y_train), (x_test, y_test) = boston_housing.load_data()\n",
    "#404x13,  404        102x13,  102"
   ]
  },
  {
   "cell_type": "code",
   "execution_count": 34,
   "metadata": {},
   "outputs": [
    {
     "name": "stdout",
     "output_type": "stream",
     "text": [
      "(404, 13)\n",
      "(404,)\n"
     ]
    }
   ],
   "source": [
    "print(x_train.shape) \n",
    "print(y_train.shape)"
   ]
  },
  {
   "cell_type": "code",
   "execution_count": 43,
   "metadata": {},
   "outputs": [],
   "source": [
    "model = Sequential()\n",
    "num_features = 13\n",
    "model.add(Dense(1, input_dim=num_features, activation='linear'))"
   ]
  },
  {
   "cell_type": "code",
   "execution_count": 44,
   "metadata": {},
   "outputs": [
    {
     "name": "stdout",
     "output_type": "stream",
     "text": [
      "Model: \"sequential_8\"\n",
      "_________________________________________________________________\n",
      "Layer (type)                 Output Shape              Param #   \n",
      "=================================================================\n",
      "dense_18 (Dense)             (None, 1)                 14        \n",
      "=================================================================\n",
      "Total params: 14\n",
      "Trainable params: 14\n",
      "Non-trainable params: 0\n",
      "_________________________________________________________________\n",
      "Epoch 1/10\n",
      "404/404 [==============================] - 0s 764us/step - loss: 2977.5459 - mae: 45.4587\n",
      "Epoch 2/10\n",
      "404/404 [==============================] - 0s 469us/step - loss: 676.9890 - mae: 20.8535\n",
      "Epoch 3/10\n",
      "404/404 [==============================] - 0s 528us/step - loss: 148.5185 - mae: 9.0344\n",
      "Epoch 4/10\n",
      "404/404 [==============================] - 0s 511us/step - loss: 95.2050 - mae: 6.9051\n",
      "Epoch 5/10\n",
      "404/404 [==============================] - 0s 517us/step - loss: 94.3843 - mae: 6.8719\n",
      "Epoch 6/10\n",
      "404/404 [==============================] - 0s 495us/step - loss: 87.6658 - mae: 6.4900\n",
      "Epoch 7/10\n",
      "404/404 [==============================] - 0s 515us/step - loss: 82.7732 - mae: 6.4233\n",
      "Epoch 8/10\n",
      "404/404 [==============================] - 0s 544us/step - loss: 81.2333 - mae: 6.4254\n",
      "Epoch 9/10\n",
      "404/404 [==============================] - 0s 504us/step - loss: 78.3689 - mae: 6.3481\n",
      "Epoch 10/10\n",
      "404/404 [==============================] - 0s 500us/step - loss: 75.7212 - mae: 6.2575\n"
     ]
    },
    {
     "data": {
      "text/plain": [
       "<keras.callbacks.callbacks.History at 0x22e36ed1ec8>"
      ]
     },
     "execution_count": 44,
     "metadata": {},
     "output_type": "execute_result"
    }
   ],
   "source": [
    "model.summary()\n",
    "model.compile(optimizer='rmsprop', loss='mse', metrics=['mae'])\n",
    "model.fit(x_train, y_train, batch_size=1, epochs=10, verbose=1)"
   ]
  },
  {
   "cell_type": "code",
   "execution_count": 45,
   "metadata": {},
   "outputs": [
    {
     "data": {
      "text/plain": [
       "(65.86399063409543, 8.115663289842391, 5.88503360748291)"
      ]
     },
     "execution_count": 45,
     "metadata": {},
     "output_type": "execute_result"
    }
   ],
   "source": [
    "# accuracy\n",
    "mse, mae = model.evaluate(x_test, y_test, verbose=False)\n",
    "rmse=np.sqrt(mse)\n",
    "mse, rmse, mae"
   ]
  },
  {
   "cell_type": "markdown",
   "metadata": {},
   "source": [
    "# 문제 : x_test의 앞의 3집을 예측"
   ]
  },
  {
   "cell_type": "code",
   "execution_count": 46,
   "metadata": {},
   "outputs": [
    {
     "data": {
      "text/plain": [
       "array([[-0.76433164],\n",
       "       [24.714075  ],\n",
       "       [19.784174  ]], dtype=float32)"
      ]
     },
     "execution_count": 46,
     "metadata": {},
     "output_type": "execute_result"
    }
   ],
   "source": [
    "pred = model.predict(x_test[:3, :])\n",
    "pred"
   ]
  },
  {
   "cell_type": "code",
   "execution_count": 47,
   "metadata": {},
   "outputs": [
    {
     "data": {
      "text/plain": [
       "array([ 7.2, 18.8, 19. ])"
      ]
     },
     "execution_count": 47,
     "metadata": {},
     "output_type": "execute_result"
    }
   ],
   "source": [
    "real = y_test[:3]\n",
    "real"
   ]
  },
  {
   "cell_type": "markdown",
   "metadata": {},
   "source": [
    "# 상관계수를 확인하시요"
   ]
  },
  {
   "cell_type": "code",
   "execution_count": 58,
   "metadata": {},
   "outputs": [
    {
     "name": "stdout",
     "output_type": "stream",
     "text": [
      "(3, 1)\n",
      "(3,)\n"
     ]
    }
   ],
   "source": [
    "print(pred.shape)\n",
    "print(real.shape)"
   ]
  },
  {
   "cell_type": "code",
   "execution_count": 59,
   "metadata": {},
   "outputs": [
    {
     "data": {
      "text/plain": [
       "array([[1.        , 0.98041556],\n",
       "       [0.98041556, 1.        ]])"
      ]
     },
     "execution_count": 59,
     "metadata": {},
     "output_type": "execute_result"
    }
   ],
   "source": [
    "import numpy as np\n",
    "np.corrcoef(pred.reshape(1,3), real)"
   ]
  },
  {
   "cell_type": "code",
   "execution_count": 1,
   "metadata": {},
   "outputs": [
    {
     "name": "stderr",
     "output_type": "stream",
     "text": [
      "Using TensorFlow backend.\n",
      "C:\\Users\\ICT01_22\\Anaconda3\\envs\\tf_test\\lib\\site-packages\\tensorflow\\python\\framework\\dtypes.py:516: FutureWarning: Passing (type, 1) or '1type' as a synonym of type is deprecated; in a future version of numpy, it will be understood as (type, (1,)) / '(1,)type'.\n",
      "  _np_qint8 = np.dtype([(\"qint8\", np.int8, 1)])\n",
      "C:\\Users\\ICT01_22\\Anaconda3\\envs\\tf_test\\lib\\site-packages\\tensorflow\\python\\framework\\dtypes.py:517: FutureWarning: Passing (type, 1) or '1type' as a synonym of type is deprecated; in a future version of numpy, it will be understood as (type, (1,)) / '(1,)type'.\n",
      "  _np_quint8 = np.dtype([(\"quint8\", np.uint8, 1)])\n",
      "C:\\Users\\ICT01_22\\Anaconda3\\envs\\tf_test\\lib\\site-packages\\tensorflow\\python\\framework\\dtypes.py:518: FutureWarning: Passing (type, 1) or '1type' as a synonym of type is deprecated; in a future version of numpy, it will be understood as (type, (1,)) / '(1,)type'.\n",
      "  _np_qint16 = np.dtype([(\"qint16\", np.int16, 1)])\n",
      "C:\\Users\\ICT01_22\\Anaconda3\\envs\\tf_test\\lib\\site-packages\\tensorflow\\python\\framework\\dtypes.py:519: FutureWarning: Passing (type, 1) or '1type' as a synonym of type is deprecated; in a future version of numpy, it will be understood as (type, (1,)) / '(1,)type'.\n",
      "  _np_quint16 = np.dtype([(\"quint16\", np.uint16, 1)])\n",
      "C:\\Users\\ICT01_22\\Anaconda3\\envs\\tf_test\\lib\\site-packages\\tensorflow\\python\\framework\\dtypes.py:520: FutureWarning: Passing (type, 1) or '1type' as a synonym of type is deprecated; in a future version of numpy, it will be understood as (type, (1,)) / '(1,)type'.\n",
      "  _np_qint32 = np.dtype([(\"qint32\", np.int32, 1)])\n",
      "C:\\Users\\ICT01_22\\Anaconda3\\envs\\tf_test\\lib\\site-packages\\tensorflow\\python\\framework\\dtypes.py:525: FutureWarning: Passing (type, 1) or '1type' as a synonym of type is deprecated; in a future version of numpy, it will be understood as (type, (1,)) / '(1,)type'.\n",
      "  np_resource = np.dtype([(\"resource\", np.ubyte, 1)])\n",
      "C:\\Users\\ICT01_22\\Anaconda3\\envs\\tf_test\\lib\\site-packages\\tensorboard\\compat\\tensorflow_stub\\dtypes.py:541: FutureWarning: Passing (type, 1) or '1type' as a synonym of type is deprecated; in a future version of numpy, it will be understood as (type, (1,)) / '(1,)type'.\n",
      "  _np_qint8 = np.dtype([(\"qint8\", np.int8, 1)])\n",
      "C:\\Users\\ICT01_22\\Anaconda3\\envs\\tf_test\\lib\\site-packages\\tensorboard\\compat\\tensorflow_stub\\dtypes.py:542: FutureWarning: Passing (type, 1) or '1type' as a synonym of type is deprecated; in a future version of numpy, it will be understood as (type, (1,)) / '(1,)type'.\n",
      "  _np_quint8 = np.dtype([(\"quint8\", np.uint8, 1)])\n",
      "C:\\Users\\ICT01_22\\Anaconda3\\envs\\tf_test\\lib\\site-packages\\tensorboard\\compat\\tensorflow_stub\\dtypes.py:543: FutureWarning: Passing (type, 1) or '1type' as a synonym of type is deprecated; in a future version of numpy, it will be understood as (type, (1,)) / '(1,)type'.\n",
      "  _np_qint16 = np.dtype([(\"qint16\", np.int16, 1)])\n",
      "C:\\Users\\ICT01_22\\Anaconda3\\envs\\tf_test\\lib\\site-packages\\tensorboard\\compat\\tensorflow_stub\\dtypes.py:544: FutureWarning: Passing (type, 1) or '1type' as a synonym of type is deprecated; in a future version of numpy, it will be understood as (type, (1,)) / '(1,)type'.\n",
      "  _np_quint16 = np.dtype([(\"quint16\", np.uint16, 1)])\n",
      "C:\\Users\\ICT01_22\\Anaconda3\\envs\\tf_test\\lib\\site-packages\\tensorboard\\compat\\tensorflow_stub\\dtypes.py:545: FutureWarning: Passing (type, 1) or '1type' as a synonym of type is deprecated; in a future version of numpy, it will be understood as (type, (1,)) / '(1,)type'.\n",
      "  _np_qint32 = np.dtype([(\"qint32\", np.int32, 1)])\n",
      "C:\\Users\\ICT01_22\\Anaconda3\\envs\\tf_test\\lib\\site-packages\\tensorboard\\compat\\tensorflow_stub\\dtypes.py:550: FutureWarning: Passing (type, 1) or '1type' as a synonym of type is deprecated; in a future version of numpy, it will be understood as (type, (1,)) / '(1,)type'.\n",
      "  np_resource = np.dtype([(\"resource\", np.ubyte, 1)])\n"
     ]
    }
   ],
   "source": [
    "# scikits -- keras를 연결 : KerasClassifier, KerasRegressor\n",
    "import numpy as np\n",
    "from sklearn.model_selection import GridSearchCV\n",
    "from keras.models import Sequential\n",
    "from keras.layers import Dense\n",
    "from keras.wrappers.scikit_learn import KerasClassifier"
   ]
  },
  {
   "cell_type": "code",
   "execution_count": 2,
   "metadata": {},
   "outputs": [],
   "source": [
    "# 768x9 => 768,8 독립   768,1 종속\n",
    "# 변수 8 \n",
    "def create_model() :\n",
    "    model = Sequential()\n",
    "    # 768x8  8x12 => 768x12\n",
    "    model.add(Dense(12, input_dim=8, activation='relu'))\n",
    "    # 768x12  12x1=> 768x1\n",
    "    model.add(Dense(1, activation='sigmoid')) # 0~1\n",
    "    model.compile(loss='binary_crossentropy', optimizer='adam', metrics=['accuracy'])\n",
    "    return model\n",
    "seed=7\n",
    "np.random.seed(seed)\n",
    "dataset = np.loadtxt('pima.csv', delimiter=',')\n",
    "X=dataset[:,0:8]\n",
    "Y=dataset[:,8]\n",
    "model = KerasClassifier(build_fn=create_model, verbose=0)"
   ]
  },
  {
   "cell_type": "code",
   "execution_count": 3,
   "metadata": {},
   "outputs": [
    {
     "data": {
      "text/plain": [
       "(768, 9)"
      ]
     },
     "execution_count": 3,
     "metadata": {},
     "output_type": "execute_result"
    }
   ],
   "source": [
    "dataset.shape"
   ]
  },
  {
   "cell_type": "code",
   "execution_count": 4,
   "metadata": {},
   "outputs": [
    {
     "name": "stderr",
     "output_type": "stream",
     "text": [
      "C:\\Users\\ICT01_22\\Anaconda3\\envs\\tf_test\\lib\\site-packages\\joblib\\externals\\loky\\process_executor.py:706: UserWarning: A worker stopped while some jobs were given to the executor. This can be caused by a too short worker timeout or by a memory leak.\n",
      "  \"timeout or by a memory leak.\", UserWarning\n"
     ]
    },
    {
     "name": "stdout",
     "output_type": "stream",
     "text": [
      "WARNING:tensorflow:From C:\\Users\\ICT01_22\\Anaconda3\\envs\\tf_test\\lib\\site-packages\\tensorflow\\python\\ops\\nn_impl.py:180: add_dispatch_support.<locals>.wrapper (from tensorflow.python.ops.array_ops) is deprecated and will be removed in a future version.\n",
      "Instructions for updating:\n",
      "Use tf.where in 2.0, which has the same broadcast rule as np.where\n",
      "WARNING:tensorflow:From C:\\Users\\ICT01_22\\Anaconda3\\envs\\tf_test\\lib\\site-packages\\keras\\backend\\tensorflow_backend.py:422: The name tf.global_variables is deprecated. Please use tf.compat.v1.global_variables instead.\n",
      "\n",
      "최적스코어 : 0.705797       사용한 파라미터조합 : {'batch_size': 20, 'epochs': 100}\n",
      "0.605365 (0.062269) with {'batch_size': 10, 'epochs': 10}\n",
      "0.673288 (0.061546) with {'batch_size': 10, 'epochs': 50}\n",
      "0.696605 (0.006997) with {'batch_size': 10, 'epochs': 100}\n",
      "0.630329 (0.048038) with {'batch_size': 20, 'epochs': 10}\n",
      "0.661506 (0.020640) with {'batch_size': 20, 'epochs': 50}\n",
      "0.705797 (0.038857) with {'batch_size': 20, 'epochs': 100}\n",
      "0.557202 (0.042193) with {'batch_size': 40, 'epochs': 10}\n",
      "0.615907 (0.056513) with {'batch_size': 40, 'epochs': 50}\n",
      "0.687463 (0.026520) with {'batch_size': 40, 'epochs': 100}\n",
      "0.562516 (0.076147) with {'batch_size': 60, 'epochs': 10}\n",
      "0.623716 (0.030884) with {'batch_size': 60, 'epochs': 50}\n",
      "0.686224 (0.024188) with {'batch_size': 60, 'epochs': 100}\n",
      "0.497428 (0.059458) with {'batch_size': 80, 'epochs': 10}\n",
      "0.614574 (0.021636) with {'batch_size': 80, 'epochs': 50}\n",
      "0.661480 (0.027004) with {'batch_size': 80, 'epochs': 100}\n",
      "0.544088 (0.070214) with {'batch_size': 100, 'epochs': 10}\n",
      "0.605543 (0.037512) with {'batch_size': 100, 'epochs': 50}\n",
      "0.644623 (0.056815) with {'batch_size': 100, 'epochs': 100}\n"
     ]
    }
   ],
   "source": [
    "# 파라미터 조합\n",
    "batch_size = [10, 20, 40, 60, 80, 100]\n",
    "epochs = [10, 50, 100]\n",
    "# 매개변수 입력 형태는 dictionary\n",
    "param_grid = dict(batch_size=batch_size, epochs=epochs)\n",
    "grid = GridSearchCV(estimator = model, param_grid=param_grid, n_jobs = -1) # 참여하는 cpu 개수 -1은 다 참가해라\n",
    "grid_result = grid.fit(X,Y)\n",
    "print(\"최적스코어 : %f       사용한 파라미터조합 : %s\" %(grid_result.best_score_, grid_result.best_params_))\n",
    "means = grid_result.cv_results_['mean_test_score']\n",
    "stds = grid_result.cv_results_['std_test_score']\n",
    "params = grid_result.cv_results_['params']\n",
    "for mean, stdev, param in zip(means, stds, params) :\n",
    "    print(\"%f (%f) with %r\" %(mean, stdev, param))"
   ]
  },
  {
   "cell_type": "markdown",
   "metadata": {},
   "source": [
    "가중치 초기화 (kernel_initializer) 매개변수를 넣고 이름\n",
    "\n",
    "['uniform', 'lecun_uniform', 'normal', 'zero', 'glorot_normal',\n",
    "'glorot_uniform', 'he_normal', 'he_uniform']\n",
    "\n",
    "로 테스트 해서 가장 최적의 가중치 초기화 파라미터를 결정하시오.\n",
    "\n",
    "- dense1 : activation 함수를 달아주고\n",
    "\n",
    "['softmax', 'softplus', 'softsign', 'relu', 'tanh',\n",
    "'sigmoid', 'hard_sigmoid', 'linear']\n",
    "\n",
    "의 조합중 가장 좋은 activation 함수를 결정하시오."
   ]
  },
  {
   "cell_type": "code",
   "execution_count": null,
   "metadata": {},
   "outputs": [],
   "source": [
    "init = ['uniform', 'lecun_uniform', 'normal', 'zero', 'glorot_normal', 'glorot_uniform', 'he_normal', 'he_uniform']\n",
    "# ?x8 8x12 => ?x12 \n",
    "# kernel_initializer='uniform': 우리도 모르는 가중치를 초기화 (균등분포로)\n",
    "model.add(Dense(12, input_dim=8, kernel_initializer=init, activation = 'relu'))\n",
    "# ?x12 12x8 => ?x8\n",
    "model.add(Dense(8, kernel_initializer='uniform', activation = 'relu'))\n",
    "# ?x8 8x1 => ?x1\n",
    "model.add(Dense(1, kernel_initializer='uniform', activation='sigmoid')) # sigmoid: 0.5를 기준으로 (0, 1)\n",
    "model.compile(loss='binary_crossentropy', optimizer='adam',\n",
    "              metrics=['accuracy'])"
   ]
  }
 ],
 "metadata": {
  "kernelspec": {
   "display_name": "Python 3",
   "language": "python",
   "name": "python3"
  },
  "language_info": {
   "codemirror_mode": {
    "name": "ipython",
    "version": 3
   },
   "file_extension": ".py",
   "mimetype": "text/x-python",
   "name": "python",
   "nbconvert_exporter": "python",
   "pygments_lexer": "ipython3",
   "version": "3.7.6"
  },
  "toc": {
   "base_numbering": 1,
   "nav_menu": {},
   "number_sections": true,
   "sideBar": true,
   "skip_h1_title": false,
   "title_cell": "Table of Contents",
   "title_sidebar": "Contents",
   "toc_cell": false,
   "toc_position": {},
   "toc_section_display": true,
   "toc_window_display": false
  }
 },
 "nbformat": 4,
 "nbformat_minor": 4
}
