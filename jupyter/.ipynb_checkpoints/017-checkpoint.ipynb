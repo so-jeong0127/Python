{
 "cells": [
  {
   "cell_type": "code",
   "execution_count": 1,
   "metadata": {},
   "outputs": [],
   "source": [
    "import warnings \n",
    "warnings.filterwarnings(action='ignore')\n",
    "# OCR : "
   ]
  },
  {
   "cell_type": "markdown",
   "metadata": {},
   "source": [
    "# FFNN\n",
    "\n",
    "- 이미지의 숫자 예측\n",
    "- 0~9까지의 이미지화 인식 => 자동차 번호판"
   ]
  },
  {
   "cell_type": "code",
   "execution_count": 2,
   "metadata": {},
   "outputs": [
    {
     "name": "stdout",
     "output_type": "stream",
     "text": [
      "WARNING:tensorflow:From <ipython-input-2-5edabd331ceb>:2: read_data_sets (from tensorflow.contrib.learn.python.learn.datasets.mnist) is deprecated and will be removed in a future version.\n",
      "Instructions for updating:\n",
      "Please use alternatives such as official/mnist/dataset.py from tensorflow/models.\n",
      "WARNING:tensorflow:From C:\\Users\\ICT01_14\\.conda\\envs\\tf_test\\lib\\site-packages\\tensorflow\\contrib\\learn\\python\\learn\\datasets\\mnist.py:260: maybe_download (from tensorflow.contrib.learn.python.learn.datasets.base) is deprecated and will be removed in a future version.\n",
      "Instructions for updating:\n",
      "Please write your own downloading logic.\n",
      "WARNING:tensorflow:From C:\\Users\\ICT01_14\\.conda\\envs\\tf_test\\lib\\site-packages\\tensorflow\\contrib\\learn\\python\\learn\\datasets\\base.py:252: _internal_retry.<locals>.wrap.<locals>.wrapped_fn (from tensorflow.contrib.learn.python.learn.datasets.base) is deprecated and will be removed in a future version.\n",
      "Instructions for updating:\n",
      "Please use urllib or similar directly.\n",
      "Successfully downloaded train-images-idx3-ubyte.gz 9912422 bytes.\n",
      "WARNING:tensorflow:From C:\\Users\\ICT01_14\\.conda\\envs\\tf_test\\lib\\site-packages\\tensorflow\\contrib\\learn\\python\\learn\\datasets\\mnist.py:262: extract_images (from tensorflow.contrib.learn.python.learn.datasets.mnist) is deprecated and will be removed in a future version.\n",
      "Instructions for updating:\n",
      "Please use tf.data to implement this functionality.\n",
      "Extracting /tmp/data/train-images-idx3-ubyte.gz\n",
      "Successfully downloaded train-labels-idx1-ubyte.gz 28881 bytes.\n",
      "WARNING:tensorflow:From C:\\Users\\ICT01_14\\.conda\\envs\\tf_test\\lib\\site-packages\\tensorflow\\contrib\\learn\\python\\learn\\datasets\\mnist.py:267: extract_labels (from tensorflow.contrib.learn.python.learn.datasets.mnist) is deprecated and will be removed in a future version.\n",
      "Instructions for updating:\n",
      "Please use tf.data to implement this functionality.\n",
      "Extracting /tmp/data/train-labels-idx1-ubyte.gz\n",
      "WARNING:tensorflow:From C:\\Users\\ICT01_14\\.conda\\envs\\tf_test\\lib\\site-packages\\tensorflow\\contrib\\learn\\python\\learn\\datasets\\mnist.py:110: dense_to_one_hot (from tensorflow.contrib.learn.python.learn.datasets.mnist) is deprecated and will be removed in a future version.\n",
      "Instructions for updating:\n",
      "Please use tf.one_hot on tensors.\n",
      "Successfully downloaded t10k-images-idx3-ubyte.gz 1648877 bytes.\n",
      "Extracting /tmp/data/t10k-images-idx3-ubyte.gz\n",
      "Successfully downloaded t10k-labels-idx1-ubyte.gz 4542 bytes.\n",
      "Extracting /tmp/data/t10k-labels-idx1-ubyte.gz\n",
      "WARNING:tensorflow:From C:\\Users\\ICT01_14\\.conda\\envs\\tf_test\\lib\\site-packages\\tensorflow\\contrib\\learn\\python\\learn\\datasets\\mnist.py:290: DataSet.__init__ (from tensorflow.contrib.learn.python.learn.datasets.mnist) is deprecated and will be removed in a future version.\n",
      "Instructions for updating:\n",
      "Please use alternatives such as official/mnist/dataset.py from tensorflow/models.\n"
     ]
    }
   ],
   "source": [
    "from tensorflow.examples.tutorials.mnist import input_data\n",
    "# target : 1 0 0 0 0 0 0 0 0 0 (변수가 10개)\n",
    "mnist = input_data.read_data_sets(\"/tmp/data/\", one_hot= True)\n",
    "import tensorflow as tf"
   ]
  },
  {
   "cell_type": "code",
   "execution_count": 29,
   "metadata": {},
   "outputs": [
    {
     "name": "stdout",
     "output_type": "stream",
     "text": [
      "(128, 784)\n"
     ]
    }
   ],
   "source": [
    "# 128장의 이미지를 random 하게 공급\n",
    "batch_x, batch_y = mnist.train.next_batch(128)\n",
    "# batch_x: 이미지, batch_y: 타겟\n",
    "print(batch_x.shape) # 128 * 784 (가로 28 x 세로 28) : flatten\n",
    "learning_rate = 0.1 # hyper parameter\n",
    "num_steps = 500 # epoch 세대\n",
    "# 기울기 0\n",
    "batch_size = 128 # mini batch 사이즈 : 속도를 고속, local 해를 구하기 위해서\n",
    "display_step = 100"
   ]
  },
  {
   "cell_type": "code",
   "execution_count": 30,
   "metadata": {},
   "outputs": [],
   "source": [
    "# 히든 레이가 2개\n",
    "# 784 (픽셀 1개를 변수) => 784x256 -> 256x256 -> 256x10\n",
    "n_hidden_1 = 256\n",
    "n_hidden_2 = 256\n",
    "n_input = 784\n",
    "num_classes = 10 # target 0~9\n",
    "# 미니배치 사이즈 128\n",
    "X = tf.placeholder(\"float\", [None, n_input]) # 128x784\n",
    "Y = tf.placeholder(\"float\", [None, num_classes])"
   ]
  },
  {
   "cell_type": "code",
   "execution_count": 31,
   "metadata": {},
   "outputs": [],
   "source": [
    "# 설명력, (다차방정식)계수\n",
    "weights = { # 784x256, 256x256, 256x10\n",
    "    'h1': tf.Variable(tf.random_normal([n_input, n_hidden_1])),\n",
    "    'h2': tf.Variable(tf.random_normal([n_hidden_1, n_hidden_2])),\n",
    "    'out': tf.Variable(tf.random_normal([n_hidden_2,num_classes]))\n",
    "}\n",
    "\n",
    "# activation\n",
    "biases = { # 가중치 한덩어리당 bias기 반드시 존재\n",
    "    'b1': tf.Variable(tf.random_normal([n_hidden_1])), # 변수 개수만큼\n",
    "    'b2': tf.Variable(tf.random_normal([n_hidden_2])),\n",
    "    'out': tf.Variable(tf.random_normal([num_classes]))\n",
    "}"
   ]
  },
  {
   "cell_type": "code",
   "execution_count": 32,
   "metadata": {},
   "outputs": [],
   "source": [
    "def neural_net(X) : # 128x784, 784x256\n",
    "    # 128x256 전달 데이터 (tensor)\n",
    "    layer_1 = tf.add(tf.matmul(X, weights['h1']), biases['b1'])\n",
    "    # 128x256, 256x256 => 128x256\n",
    "    layer_2 = tf.add(tf.matmul(layer_1, weights['h2']), biases['b2'])\n",
    "    # 128x256, 256x10 => 128x10\n",
    "    out_layer=tf.matmul(layer_2, weights['out'])+biases['out']\n",
    "    return out_layer"
   ]
  },
  {
   "cell_type": "code",
   "execution_count": 33,
   "metadata": {},
   "outputs": [],
   "source": [
    "logits = neural_net(X) # 128x10\n",
    "# 경사하강법 -> 미분가능 -> 분류\n",
    "loss_op = tf.reduce_mean( # 원핫인코드된값 * log(확률값)\n",
    "    # softmax : 확률값으로 계산\n",
    "    tf.nn.softmax_cross_entropy_with_logits_v2(logits=logits, labels=Y))\n",
    "# 최적화기 : 기울기, 학습율을 어떻게 할 것인지\n",
    "# adagrad : learnin-rate 처음에는 크게 -> 점점 작게 (0)\n",
    "# adam = momentum + propgrad : adaptive 적응적 ( 상태를 봐가면서 적당히 )\n",
    "optimizer = tf.train.AdamOptimizer(learning_rate = learning_rate)\n",
    "train_op = optimizer.minimize(loss_op)\n",
    "# 가장 큰값의 인덱스를 구함(one-hot-endcoding) => target\n",
    "correct_pred = tf.equal(tf.argmax(logits,1), tf.argmax(Y,1))\n",
    "# cast : 데이터 행변환\n",
    "accuracy = tf.reduce_mean(tf.cast(correct_pred, tf.float32))\n",
    "init = tf.global_variables_initializer()"
   ]
  },
  {
   "cell_type": "code",
   "execution_count": 40,
   "metadata": {
    "scrolled": true
   },
   "outputs": [
    {
     "name": "stdout",
     "output_type": "stream",
     "text": [
      "Step1, Minibatch Loss= 10235.6084, Minibatch Loss= 0.359\n",
      "테스트 정확도:  0.2895\n",
      "Step100, Minibatch Loss= 110.1805, Minibatch Loss= 0.898\n",
      "테스트 정확도:  0.8552\n",
      "Step200, Minibatch Loss= 119.8575, Minibatch Loss= 0.867\n",
      "테스트 정확도:  0.8527\n",
      "Step300, Minibatch Loss= 23.5603, Minibatch Loss= 0.906\n",
      "테스트 정확도:  0.8635\n",
      "Step400, Minibatch Loss= 54.5236, Minibatch Loss= 0.891\n",
      "테스트 정확도:  0.873\n",
      "Step500, Minibatch Loss= 50.6656, Minibatch Loss= 0.820\n",
      "테스트 정확도:  0.8168\n"
     ]
    }
   ],
   "source": [
    "with tf.Session() as sess: # GPU네트워크 연결 => 일반화\n",
    "    sess.run(init)\n",
    "    for step in range(1, num_steps + 1) : # epoch\n",
    "        # 128x784, 128x10\n",
    "        batch_x, batch_y = mnist.train.next_batch(batch_size)\n",
    "        sess.run(train_op, feed_dict={X:batch_x, Y:batch_y})\n",
    "        if step % display_step == 0 or step == 1:\n",
    "            loss, acc = sess.run([loss_op, accuracy],\n",
    "                                feed_dict = {X: batch_x, Y:batch_y})\n",
    "            print(\"Step\" + str(step) + \", Minibatch Loss= \" +\n",
    "                 \"{:.4f}\".format(loss) + \", Minibatch Loss= \" +\n",
    "                 \"{:.3f}\".format(acc))\n",
    "            print(\"테스트 정확도: \", # 86%\n",
    "                 sess.run(accuracy,feed_dict={X: mnist.test.images, Y: mnist.test.labels}))"
   ]
  },
  {
   "cell_type": "code",
   "execution_count": 42,
   "metadata": {},
   "outputs": [
    {
     "data": {
      "text/html": [
       "<div>\n",
       "<style scoped>\n",
       "    .dataframe tbody tr th:only-of-type {\n",
       "        vertical-align: middle;\n",
       "    }\n",
       "\n",
       "    .dataframe tbody tr th {\n",
       "        vertical-align: top;\n",
       "    }\n",
       "\n",
       "    .dataframe thead th {\n",
       "        text-align: right;\n",
       "    }\n",
       "</style>\n",
       "<table border=\"1\" class=\"dataframe\">\n",
       "  <thead>\n",
       "    <tr style=\"text-align: right;\">\n",
       "      <th></th>\n",
       "      <th>CRIM</th>\n",
       "      <th>ZN</th>\n",
       "      <th>INDUS</th>\n",
       "      <th>CHAS</th>\n",
       "      <th>NOX</th>\n",
       "      <th>RM</th>\n",
       "      <th>AGE</th>\n",
       "      <th>DIS</th>\n",
       "      <th>RAD</th>\n",
       "      <th>TAX</th>\n",
       "      <th>PTRATIO</th>\n",
       "      <th>B</th>\n",
       "      <th>LSTAT</th>\n",
       "      <th>const</th>\n",
       "    </tr>\n",
       "  </thead>\n",
       "  <tbody>\n",
       "    <tr>\n",
       "      <th>501</th>\n",
       "      <td>0.06263</td>\n",
       "      <td>0.0</td>\n",
       "      <td>11.93</td>\n",
       "      <td>0.0</td>\n",
       "      <td>0.573</td>\n",
       "      <td>6.593</td>\n",
       "      <td>69.1</td>\n",
       "      <td>2.4786</td>\n",
       "      <td>1.0</td>\n",
       "      <td>273.0</td>\n",
       "      <td>21.0</td>\n",
       "      <td>391.99</td>\n",
       "      <td>9.67</td>\n",
       "      <td>1.0</td>\n",
       "    </tr>\n",
       "    <tr>\n",
       "      <th>502</th>\n",
       "      <td>0.04527</td>\n",
       "      <td>0.0</td>\n",
       "      <td>11.93</td>\n",
       "      <td>0.0</td>\n",
       "      <td>0.573</td>\n",
       "      <td>6.120</td>\n",
       "      <td>76.7</td>\n",
       "      <td>2.2875</td>\n",
       "      <td>1.0</td>\n",
       "      <td>273.0</td>\n",
       "      <td>21.0</td>\n",
       "      <td>396.90</td>\n",
       "      <td>9.08</td>\n",
       "      <td>1.0</td>\n",
       "    </tr>\n",
       "    <tr>\n",
       "      <th>503</th>\n",
       "      <td>0.06076</td>\n",
       "      <td>0.0</td>\n",
       "      <td>11.93</td>\n",
       "      <td>0.0</td>\n",
       "      <td>0.573</td>\n",
       "      <td>6.976</td>\n",
       "      <td>91.0</td>\n",
       "      <td>2.1675</td>\n",
       "      <td>1.0</td>\n",
       "      <td>273.0</td>\n",
       "      <td>21.0</td>\n",
       "      <td>396.90</td>\n",
       "      <td>5.64</td>\n",
       "      <td>1.0</td>\n",
       "    </tr>\n",
       "    <tr>\n",
       "      <th>504</th>\n",
       "      <td>0.10959</td>\n",
       "      <td>0.0</td>\n",
       "      <td>11.93</td>\n",
       "      <td>0.0</td>\n",
       "      <td>0.573</td>\n",
       "      <td>6.794</td>\n",
       "      <td>89.3</td>\n",
       "      <td>2.3889</td>\n",
       "      <td>1.0</td>\n",
       "      <td>273.0</td>\n",
       "      <td>21.0</td>\n",
       "      <td>393.45</td>\n",
       "      <td>6.48</td>\n",
       "      <td>1.0</td>\n",
       "    </tr>\n",
       "    <tr>\n",
       "      <th>505</th>\n",
       "      <td>0.04741</td>\n",
       "      <td>0.0</td>\n",
       "      <td>11.93</td>\n",
       "      <td>0.0</td>\n",
       "      <td>0.573</td>\n",
       "      <td>6.030</td>\n",
       "      <td>80.8</td>\n",
       "      <td>2.5050</td>\n",
       "      <td>1.0</td>\n",
       "      <td>273.0</td>\n",
       "      <td>21.0</td>\n",
       "      <td>396.90</td>\n",
       "      <td>7.88</td>\n",
       "      <td>1.0</td>\n",
       "    </tr>\n",
       "  </tbody>\n",
       "</table>\n",
       "</div>"
      ],
      "text/plain": [
       "        CRIM   ZN  INDUS  CHAS    NOX     RM   AGE     DIS  RAD    TAX  \\\n",
       "501  0.06263  0.0  11.93   0.0  0.573  6.593  69.1  2.4786  1.0  273.0   \n",
       "502  0.04527  0.0  11.93   0.0  0.573  6.120  76.7  2.2875  1.0  273.0   \n",
       "503  0.06076  0.0  11.93   0.0  0.573  6.976  91.0  2.1675  1.0  273.0   \n",
       "504  0.10959  0.0  11.93   0.0  0.573  6.794  89.3  2.3889  1.0  273.0   \n",
       "505  0.04741  0.0  11.93   0.0  0.573  6.030  80.8  2.5050  1.0  273.0   \n",
       "\n",
       "     PTRATIO       B  LSTAT  const  \n",
       "501     21.0  391.99   9.67    1.0  \n",
       "502     21.0  396.90   9.08    1.0  \n",
       "503     21.0  396.90   5.64    1.0  \n",
       "504     21.0  393.45   6.48    1.0  \n",
       "505     21.0  396.90   7.88    1.0  "
      ]
     },
     "execution_count": 42,
     "metadata": {},
     "output_type": "execute_result"
    }
   ],
   "source": [
    "from sklearn.datasets import load_boston\n",
    "import pandas as pd\n",
    "import numpy as np\n",
    "import tensorflow as tf\n",
    "\n",
    "boston = load_boston()\n",
    "df = pd.DataFrame(boston.data, columns=boston.feature_names)\n",
    "df['const'] = np.ones(df.shape[0])\n",
    "df.tail()"
   ]
  },
  {
   "cell_type": "code",
   "execution_count": 45,
   "metadata": {},
   "outputs": [],
   "source": [
    "n, m = df.shape # 506, 14\n",
    "X = tf.placeholder(tf.float64, shape=(n,m))\n",
    "y = tf.placeholder(tf.float64, shape=(n,1))\n",
    "XT = tf.transpose(X) # 14x506"
   ]
  },
  {
   "cell_type": "code",
   "execution_count": 47,
   "metadata": {},
   "outputs": [
    {
     "name": "stdout",
     "output_type": "stream",
     "text": [
      "506 14\n"
     ]
    }
   ],
   "source": [
    "print(n,m)"
   ]
  },
  {
   "cell_type": "code",
   "execution_count": 46,
   "metadata": {},
   "outputs": [
    {
     "name": "stdout",
     "output_type": "stream",
     "text": [
      "예측한 집값 : [18.40613603] 실제 집값 : 18.2\n"
     ]
    }
   ],
   "source": [
    "# 행렬식\n",
    "# 거듭제곱 : 상관계수 506 (data point) x 14 (변수)\n",
    "# 14x506, 506x14 => 14x14 상관행렬 =>\n",
    "# 14x14 , 14x506(역행렬) => 14x506\n",
    "# y값 : 14x506, 506x1 => 14x1\n",
    "# 역행렬을 이용해서 가중치를 결정\n",
    "# y = ax\n",
    "# a = y/x # 변수간의 관계 => 역행렬\n",
    "w = tf.matmul(tf.matmul(tf.matrix_inverse(tf.matmul(XT, X)),XT),y)\n",
    "\n",
    "y_pred = tf.matmul(X,w) # 506x14, 14x1 => 506x1 회귀식\n",
    "\n",
    "with tf.Session() as sess :\n",
    "    y_pred_ = sess.run(y_pred, feed_dict={X:df.values,\n",
    "                                         y: boston.target.reshape(-1,1)})\n",
    "print(\"예측한 집값 :\", y_pred_[19], \"실제 집값 :\", boston.target[19])"
   ]
  },
  {
   "cell_type": "code",
   "execution_count": 48,
   "metadata": {},
   "outputs": [
    {
     "name": "stdout",
     "output_type": "stream",
     "text": [
      "홀일 때  [0 2 3 0 2 3 0 2 3 0 2 3 0 2 3]\n"
     ]
    }
   ],
   "source": [
    "import tensorflow as tf\n",
    "sess = tf.Session()\n",
    "\n",
    "val = [0,2,3]\n",
    "val = tf.tile(val, [5])\n",
    "print(\"홀일 때 \", sess.run(val))"
   ]
  },
  {
   "cell_type": "code",
   "execution_count": 49,
   "metadata": {},
   "outputs": [
    {
     "name": "stdout",
     "output_type": "stream",
     "text": [
      "2차원일때 [[1 1 1 1 1 1]\n",
      " [2 2 2 2 2 2]\n",
      " [3 3 3 3 3 3]\n",
      " [1 1 1 1 1 1]\n",
      " [2 2 2 2 2 2]\n",
      " [3 3 3 3 3 3]\n",
      " [1 1 1 1 1 1]\n",
      " [2 2 2 2 2 2]\n",
      " [3 3 3 3 3 3]\n",
      " [1 1 1 1 1 1]\n",
      " [2 2 2 2 2 2]\n",
      " [3 3 3 3 3 3]\n",
      " [1 1 1 1 1 1]\n",
      " [2 2 2 2 2 2]\n",
      " [3 3 3 3 3 3]]\n"
     ]
    }
   ],
   "source": [
    "# 타일은 차원을 확대하지는 않음\n",
    "val = [[1,1,1],[2,2,2],[3,3,3]] # 3x3\n",
    "val = tf.tile(val, [5,2]) # x5행 x2열 추가 => 15x6\n",
    "print(\"2차원일때\", sess.run(val))"
   ]
  },
  {
   "cell_type": "code",
   "execution_count": 51,
   "metadata": {},
   "outputs": [
    {
     "name": "stdout",
     "output_type": "stream",
     "text": [
      "[[ 1.  2.  1.  2.  1.  2.]\n",
      " [ 2.  1.  2.  1.  2.  1.]\n",
      " [-2. -1. -2. -1. -2. -1.]]\n",
      "[[ 1.  2.  1.  2.  1.  2.]\n",
      " [ 2.  1.  2.  1.  2.  1.]\n",
      " [-2. -1. -2. -1. -2. -1.]\n",
      " [ 1.  2.  1.  2.  1.  2.]\n",
      " [ 2.  1.  2.  1.  2.  1.]\n",
      " [-2. -1. -2. -1. -2. -1.]]\n"
     ]
    }
   ],
   "source": [
    "input_vecs = [[1.,2.],[2.,1.],[-2.,-1.]]\n",
    "tiled_vecs = tf.tile(input_vecs, [1,3])\n",
    "print(sess.run(tiled_vecs))\n",
    "tiled_vecs = tf.tile(input_vecs, [2,3])\n",
    "print(sess.run(tiled_vecs))"
   ]
  },
  {
   "cell_type": "markdown",
   "metadata": {},
   "source": [
    "# 'kmeans : k 가 결정 => 중심이 발생'\n",
    "- 각 데이터의 중심값을 빼서 거리값을 계산"
   ]
  },
  {
   "cell_type": "code",
   "execution_count": 55,
   "metadata": {},
   "outputs": [],
   "source": [
    "# turnaround game\n",
    "import numpy as np\n",
    "import matplotlib.pyplot as plt\n",
    "import tensorflow as tf\n",
    "from sklearn import datasets\n",
    "from sklearn.preprocessing import scale\n",
    "from tensorflow.python.framework import ops\n",
    "\n",
    "ops.reset_default_graph() # 그래프 초기화\n",
    "sess = tf.Session()\n",
    "iris = datasets.load_iris() # 4개변수 = target"
   ]
  },
  {
   "cell_type": "code",
   "execution_count": 70,
   "metadata": {},
   "outputs": [],
   "source": [
    "num_pts = len(iris.data) # 행수\n",
    "num_feats = len(iris.data[0]) # columns 수\n",
    "k = 3 # 군집수\n",
    "generations = 25 # epoch\n",
    "data_points = tf.Variable(iris.data)\n",
    "# 레이블 변수\n",
    "cluster_labels = tf.Variable(tf.zeros([num_pts], dtype=tf.int64))\n",
    "# 중심데이터를 랜덤으로 취함\n",
    "# 중심의 열변수개수 -> 4개\n",
    "rand_starts = np.array([iris.data[np.random.choice(len(iris.data))] for _ in range(k)])\n",
    "centroids = tf.Variable(rand_starts) # 중심\n",
    "centroid_matrix= tf.reshape(tf.tile(centroids, [num_pts,1]), [num_pts, k, num_feats]) # ( 150,3,4 )\n",
    "point_matrix = tf.reshape(tf.tile(data_points, [1,k]), [num_pts, k,num_feats]) # ( 150,3,4 )\n",
    "distances = tf.reduce_sum(tf.square(point_matrix - centroid_matrix), axis=2) # axis=2 : 열중심\n",
    "# 2개 전제( 인덱스, 실제값 비교 )\n",
    "centroid_group = tf.argmin(distances,1) # 중심거리 1, 중심거리 2, 중심거리 3"
   ]
  },
  {
   "cell_type": "code",
   "execution_count": 71,
   "metadata": {},
   "outputs": [],
   "source": [
    "# 그룹별로 거리의 평균\n",
    "# 중심거리를 재계산해서 중심값을 재할당\n",
    "def data_group_avg(group_ids, data):\n",
    "    # 라벨번호로 값의 합계 : 라벨-값, 그룹이 3개\n",
    "    sum_total = tf.unsorted_segment_sum(data, group_ids,3)\n",
    "    # 그룹의 전체 개수\n",
    "    num_total = tf.unsorted_segment_sum(tf.ones_like(data), group_ids, 3)\n",
    "    avg_by_group = sum_total/num_total # 그룹의 평균거리\n",
    "    return(avg_by_group)\n",
    "means = data_group_avg(centroid_group, data_points)\n",
    "# 업데이트 node를 결정\n",
    "update = tf.group(centroids.assign(means), cluster_labels.assign(centroid_group))\n",
    "init = tf.global_variables_initializer()\n",
    "sess.run(init)"
   ]
  },
  {
   "cell_type": "code",
   "execution_count": 72,
   "metadata": {
    "scrolled": true
   },
   "outputs": [
    {
     "name": "stdout",
     "output_type": "stream",
     "text": [
      "Calculating gen0, out of 25\n",
      "Group counts: [32, 17, 101]\n",
      "Calculating gen1, out of 25\n",
      "Group counts: [48, 51, 51]\n",
      "Calculating gen2, out of 25\n",
      "Group counts: [44, 56, 50]\n",
      "Calculating gen3, out of 25\n",
      "Group counts: [41, 59, 50]\n",
      "Calculating gen4, out of 25\n",
      "Group counts: [39, 61, 50]\n",
      "Calculating gen5, out of 25\n",
      "Group counts: [39, 61, 50]\n",
      "Calculating gen6, out of 25\n",
      "Group counts: [39, 61, 50]\n",
      "Calculating gen7, out of 25\n",
      "Group counts: [39, 61, 50]\n",
      "Calculating gen8, out of 25\n",
      "Group counts: [39, 61, 50]\n",
      "Calculating gen9, out of 25\n",
      "Group counts: [39, 61, 50]\n",
      "Calculating gen10, out of 25\n",
      "Group counts: [39, 61, 50]\n",
      "Calculating gen11, out of 25\n",
      "Group counts: [39, 61, 50]\n",
      "Calculating gen12, out of 25\n",
      "Group counts: [39, 61, 50]\n",
      "Calculating gen13, out of 25\n",
      "Group counts: [39, 61, 50]\n",
      "Calculating gen14, out of 25\n",
      "Group counts: [39, 61, 50]\n",
      "Calculating gen15, out of 25\n",
      "Group counts: [39, 61, 50]\n",
      "Calculating gen16, out of 25\n",
      "Group counts: [39, 61, 50]\n",
      "Calculating gen17, out of 25\n",
      "Group counts: [39, 61, 50]\n",
      "Calculating gen18, out of 25\n",
      "Group counts: [39, 61, 50]\n",
      "Calculating gen19, out of 25\n",
      "Group counts: [39, 61, 50]\n",
      "Calculating gen20, out of 25\n",
      "Group counts: [39, 61, 50]\n",
      "Calculating gen21, out of 25\n",
      "Group counts: [39, 61, 50]\n",
      "Calculating gen22, out of 25\n",
      "Group counts: [39, 61, 50]\n",
      "Calculating gen23, out of 25\n",
      "Group counts: [39, 61, 50]\n",
      "Calculating gen24, out of 25\n",
      "Group counts: [39, 61, 50]\n"
     ]
    }
   ],
   "source": [
    "for i in range(generations) : # 25번 epoch\n",
    "    print('Calculating gen{}, out of {}'.format(i, generations))\n",
    "    # centroid_group : 그룹번호가 결정\n",
    "    # update : 군집의 중심값을 재계산하고 그룹을 변경\n",
    "    \n",
    "    # 실행의 마지막 결과값 _\n",
    "    _, centroid_group_count = sess.run([update, centroid_group])\n",
    "    group_count = []\n",
    "    for ix in range(k): # 군집별 카운트\n",
    "        group_count.append(np.sum(centroid_group_count ==ix))\n",
    "    print('Group counts: {}'.format(group_count))\n",
    "# 결정된 중심값, 할당된 군집번\n",
    "[centers, assignments] = sess.run([centroids, cluster_labels])"
   ]
  },
  {
   "cell_type": "code",
   "execution_count": 73,
   "metadata": {},
   "outputs": [
    {
     "name": "stdout",
     "output_type": "stream",
     "text": [
      "Accuracy: 0.89\n"
     ]
    }
   ],
   "source": [
    "# set 키의 중복을 불허\n",
    "def most_common(my_list): # 대표성을 띈 라벨을 결정\n",
    "    return(max(set(my_list),key=my_list.count))\n",
    "label0 = most_common(list(assignments[0:50])) # 라벨링\n",
    "label1 = most_common(list(assignments[50:100]))\n",
    "label2 = most_common(list(assignments[100:150]))\n",
    "\n",
    "group0_count = np.sum(assignments[0:50]==label0)\n",
    "group1_count = np.sum(assignments[50:100]==label1)\n",
    "group2_count = np.sum(assignments[100:150]==label2)\n",
    "\n",
    "accuracy = (group0_count + group1_count + group2_count)/150.\n",
    "print('Accuracy: {:.2}'.format(accuracy)) # 89% kmeans로 군집화"
   ]
  },
  {
   "cell_type": "markdown",
   "metadata": {},
   "source": [
    "# 틱텍톡"
   ]
  },
  {
   "cell_type": "code",
   "execution_count": 74,
   "metadata": {},
   "outputs": [],
   "source": [
    "import csv\n",
    "import random\n",
    "import numpy as np\n",
    "from tensorflow.python.framework import ops\n",
    "ops.reset_default_graph()"
   ]
  },
  {
   "cell_type": "code",
   "execution_count": 75,
   "metadata": {},
   "outputs": [],
   "source": [
    "response = 6\n",
    "catch_size = 50\n",
    "symmetry = ['rotate180', 'rotate90', 'rotate270','flip_v','flip_h']"
   ]
  },
  {
   "cell_type": "code",
   "execution_count": 104,
   "metadata": {},
   "outputs": [],
   "source": [
    "# 말판\n",
    "def print_board(board): # 말판 출력\n",
    "    symbols = ['0',' ', 'X'] # 유저, 컴퓨터\n",
    "    board_plus1 = [int(x) + 1 for x in board]\n",
    "    print(' ' + symbols[board_plus1[0]] + '|'\n",
    "         + symbols[board_plus1[1]] + '|'\n",
    "         + symbols[board_plus1[2]])\n",
    "    print('________________')\n",
    "    print(' ' + symbols[board_plus1[3]] + '|'\n",
    "         + symbols[board_plus1[4]] + '|'\n",
    "         + symbols[board_plus1[5]])\n",
    "    print('________________')\n",
    "    print(' ' + symbols[board_plus1[6]] + '|'\n",
    "         + symbols[board_plus1[7]] + '|'\n",
    "         + symbols[board_plus1[8]])"
   ]
  },
  {
   "cell_type": "code",
   "execution_count": 105,
   "metadata": {},
   "outputs": [],
   "source": [
    "# 같은 상황을 해결하고 다양한 경우를 충족하기 위해 변화\n",
    "def get_symmetry(board, response, transformation):\n",
    "    # 컴퓨터가 위치를 잡기위해서\n",
    "    if transformation == 'rotate180': # ex) 1번이 말을 놓을 자리 =>  7\n",
    "        new_response = 8 - response\n",
    "        return(board[::-1], new_response)\n",
    "    elif transformation == 'rotate90':\n",
    "        new_response = [6,3,0,7,4,1,8,5,2].index(response)\n",
    "        tuple_board = list(zip(*[board[6:9], board[3:6],board[0:3]]))\n",
    "        return([value for item in tuple_board for value in item], new_response)\n",
    "    elif transformation == 'rotate270': \n",
    "        new_response = [2,5,8,1,4,7,0,3,6].index(response)\n",
    "        tuple_board = list(zip(*[board[0:3], board[3:6],board[6:9]]))[::-1]\n",
    "        return([value for item in tuple_board for value in item], new_response)\n",
    "    elif transformation == 'flip_v': # vertical\n",
    "        new_response = [6,7,8,3,4,5,0,1,2].index(response)\n",
    "        return(board[6:9] + board[3:6] + board[0:3], new_response)\n",
    "    elif transformation == 'flip_h': # horizontal\n",
    "        new_response = [2,1,0,5,4,3,8,7,6].index(response)\n",
    "        new_board = board[::-1]\n",
    "        return(new_board[6:9] + new_board[3:6] + new_board[0:3], new_response)\n",
    "    else :\n",
    "        raise ValueError('해당하는 경우가 없음')"
   ]
  },
  {
   "cell_type": "code",
   "execution_count": 106,
   "metadata": {},
   "outputs": [],
   "source": [
    "# 화일로 부터 말 규칙 로딩\n",
    "def get_moves_from_csv(csv_file):\n",
    "    moves = []\n",
    "    with open(csv_file, 'rt') as csvfile:\n",
    "        reader = csv.reader(csvfile, delimiter=',')\n",
    "        for row in reader:\n",
    "            # 0 0 0 -1 1 0 0 0 0 말위치\n",
    "            moves.append(([int(x) for x in row[0:9]], int(row[9])))\n",
    "    return(moves)"
   ]
  },
  {
   "cell_type": "code",
   "execution_count": 107,
   "metadata": {},
   "outputs": [],
   "source": [
    "# 정해진 발규칙을 다양하게 변화하게 훈련용 데이터 확장\n",
    "def get_rand_move(moves, n=1, rand_transforms = 2):\n",
    "    (board, response) = random.choice(moves) # (현재말의 자리, 놓을 자리)\n",
    "    possible_transforms = ['rotate90', 'rotate180', 'rotate270', 'flip_v', 'flip_h']\n",
    "    for i in range(rand_transforms): # 경우의 수 확장\n",
    "        random_transform = random.choice(possible_transforms)\n",
    "        (board, response) = get_symmetry(board, response, random_transform)\n",
    "        return(board, response)"
   ]
  },
  {
   "cell_type": "code",
   "execution_count": 108,
   "metadata": {},
   "outputs": [],
   "source": [
    "moves = get_moves_from_csv('tictactoe_moves.csv')\n",
    "train_length = 500\n",
    "train_set = []\n",
    "for t in range(train_length):\n",
    "    train_set.append(get_rand_move(moves))"
   ]
  },
  {
   "cell_type": "code",
   "execution_count": 109,
   "metadata": {},
   "outputs": [],
   "source": [
    "def init_weights(shape):\n",
    "    return(tf.Variable(tf.random_normal(shape)))"
   ]
  },
  {
   "cell_type": "code",
   "execution_count": 110,
   "metadata": {},
   "outputs": [],
   "source": [
    "def model(X, A1, A2, bias1, bias2):\n",
    "    layer1 = tf.nn.sigmoid(tf.add(tf.matmul(X, A1),bias1))\n",
    "    layer2 = tf.add(tf.matmul(layer1, A2), bias2)\n",
    "    return(layer2)"
   ]
  },
  {
   "cell_type": "code",
   "execution_count": 111,
   "metadata": {},
   "outputs": [],
   "source": [
    "X = tf.placeholder(dtype=tf.float32, shape=[None, 9]) # 50(batchsize)x9\n",
    "Y = tf.placeholder(dtype=tf.int32, shape=[None]) # 50x1\n",
    "A1 = init_weights([9,81]) # 50x81\n",
    "bias1 = init_weights([81])\n",
    "A2 = init_weights([81,9]) # 확률값 출력 => 50x9 # 확률값으로 나왔다는것\n",
    "bias2 = init_weights([9])\n",
    "model_output = model(X, A1, A2, bias1, bias2)\n",
    "\n",
    "loss = tf.reduce_mean( # 분류 : 1~0 사이의 확률값\n",
    "    tf.nn.sparse_softmax_cross_entropy_with_logits( # 확률\n",
    "    logits=model_output, labels=Y))\n",
    "train_step = tf.train.GradientDescentOptimizer(0.025).minimize(loss)\n",
    "prediction = tf.argmax(model_output, 1) # 가장 큰 값을 가진 인덱스\n",
    "sess = tf.Session()\n",
    "init = tf.global_variables_initializer()\n",
    "sess.run(init)"
   ]
  },
  {
   "cell_type": "code",
   "execution_count": 112,
   "metadata": {},
   "outputs": [
    {
     "name": "stdout",
     "output_type": "stream",
     "text": [
      "iteration0Loss:11.239328\n",
      "iteration500Loss:1.6943183\n",
      "iteration1000Loss:1.4318614\n",
      "iteration1500Loss:1.4128172\n",
      "iteration2000Loss:1.1335921\n",
      "iteration2500Loss:1.0867991\n",
      "iteration3000Loss:1.1255729\n",
      "iteration3500Loss:0.97626007\n",
      "iteration4000Loss:0.96591425\n",
      "iteration4500Loss:0.89230764\n",
      "iteration5000Loss:0.87072295\n",
      "iteration5500Loss:0.8620704\n",
      "iteration6000Loss:0.80217636\n",
      "iteration6500Loss:0.73190093\n",
      "iteration7000Loss:0.7289745\n",
      "iteration7500Loss:0.690606\n",
      "iteration8000Loss:0.6980494\n",
      "iteration8500Loss:0.68317175\n",
      "iteration9000Loss:0.71024585\n",
      "iteration9500Loss:0.65884393\n"
     ]
    }
   ],
   "source": [
    "loss_vec = []\n",
    "for i in range(10000):\n",
    "    # 50개를 임의적으로 선택\n",
    "    rand_indices =np.random.choice(range(len(train_set)),batch_size,replace=False)\n",
    "    batch_data = [train_set[i] for i in rand_indices]\n",
    "    x_input = [x[0] for x in batch_data]\n",
    "    y_target = np.array([y[1] for y in batch_data])\n",
    "    sess.run(train_step, feed_dict={X:x_input, Y:y_target})\n",
    "    temp_loss = sess.run(loss, feed_dict = {X:x_input, Y:y_target})\n",
    "    loss_vec.append(temp_loss)\n",
    "    if i%500==0:\n",
    "        print('iteration' + str(i) + 'Loss:' + str(temp_loss))"
   ]
  },
  {
   "cell_type": "code",
   "execution_count": 113,
   "metadata": {},
   "outputs": [],
   "source": [
    "test_board = [-1,0,0,1,-1,-1,0,0,1]\n",
    "train_set = [x for x in train_set if x[0] != test_board]"
   ]
  },
  {
   "cell_type": "code",
   "execution_count": 114,
   "metadata": {},
   "outputs": [],
   "source": [
    "# 게임 승패 결정\n",
    "def check(board):\n",
    "    wins = [[0,1,2],[3,4,5],[6,7,8],[0,3,6],[1,4,7],[2,5,8],[0,4,8],[2,4,6]]\n",
    "    for i in range(len(wins)):\n",
    "        if board[wins[i][0]]==board[wins[i][1]]==board[wins[i][2]]== 1:\n",
    "            return(1)\n",
    "        elif board[wins[i][0]] == board[wins[i][1]]==board[wins[i][2]] ==-1:\n",
    "            return(-1)\n",
    "    return(0)"
   ]
  },
  {
   "cell_type": "code",
   "execution_count": 116,
   "metadata": {},
   "outputs": [
    {
     "name": "stdout",
     "output_type": "stream",
     "text": [
      "이동하고 싶은 인덱스를 입력하시오. (0-8): 8\n",
      "모델이 이동하였습니다.\n",
      "  | |0\n",
      "________________\n",
      "  | | \n",
      "________________\n",
      "  | |X\n",
      "이동하고 싶은 인덱스를 입력하시오. (0-8): 6\n",
      "모델이 이동하였습니다.\n",
      "  | |0\n",
      "________________\n",
      "  | | \n",
      "________________\n",
      " X|0|X\n",
      "이동하고 싶은 인덱스를 입력하시오. (0-8): 4\n",
      "모델이 이동하였습니다.\n",
      "  |0|0\n",
      "________________\n",
      "  |X| \n",
      "________________\n",
      " X|0|X\n",
      "이동하고 싶은 인덱스를 입력하시오. (0-8): 5\n",
      "모델이 이동하였습니다.\n",
      " 0|0|0\n",
      "________________\n",
      "  |X|X\n",
      "________________\n",
      " X|0|X\n",
      "게임 종료! 게임에 지셨습니다. !\n"
     ]
    }
   ],
   "source": [
    "game_tracker = [0.,0.,0.,0.,0.,0.,0.,0.,0.]\n",
    "win_logical = False\n",
    "num_moves = 0\n",
    "# 게임은 무한루프\n",
    "while not win_logical :\n",
    "    player_index = input('이동하고 싶은 인덱스를 입력하시오. (0-8): ')\n",
    "    num_moves += 1\n",
    "    game_tracker[int(player_index)] = 1.\n",
    "\n",
    "    [potential_moves] = sess.run(model_output, feed_dict={X: [game_tracker]})\n",
    "    # 말 여부에 따라\n",
    "    allowed_moves = [ix for ix, x in enumerate(game_tracker) if x==0.0]\n",
    "    # 허락위치에 있는 것인지 확인\n",
    "    # 큰 확률값 선택\n",
    "    model_move = np.argmax([x if ix in allowed_moves else -999.0 for ix, x in enumerate(potential_moves)])\n",
    "    # 컴퓨터가 선택\n",
    "    game_tracker[int(model_move)] = -1.\n",
    "    print('모델이 이동하였습니다.')\n",
    "    print_board(game_tracker) # GUI 방식\n",
    "    if check(game_tracker) == 1 or num_moves>=20:\n",
    "        print('게임 종료! 승리하셨습니다. ')\n",
    "        win_logical = True # True는 한번만, False는 무한\n",
    "    elif check(game_tracker) == -1:\n",
    "        print('게임 종료! 게임에 지셨습니다. !')\n",
    "        win_logical = True"
   ]
  },
  {
   "cell_type": "markdown",
   "metadata": {},
   "source": [
    "# CNN"
   ]
  },
  {
   "cell_type": "code",
   "execution_count": 196,
   "metadata": {},
   "outputs": [],
   "source": [
    "import os\n",
    "def save_fig(fig_id, tight_layout=True):\n",
    "\n",
    "    path = os.path.join(\"./images/\", fig_id + \".png\")\n",
    "    print(\"Saving figure\", fig_id)\n",
    "    \n",
    "    if tight_layout:\n",
    "        plt.tight_layout()\n",
    "    plt.savefig(path, format='png', dpi=300) # dot per inch\n"
   ]
  },
  {
   "cell_type": "code",
   "execution_count": 197,
   "metadata": {},
   "outputs": [],
   "source": [
    "def reset_graph(seed=42):\n",
    "    tf.reset_default_graph()\n",
    "    tf.set_random_seed(seed)\n",
    "    np.random.seed(seed)"
   ]
  },
  {
   "cell_type": "code",
   "execution_count": 198,
   "metadata": {},
   "outputs": [],
   "source": [
    "from sklearn.datasets import load_sample_image\n",
    "china = load_sample_image(\"china.jpg\")\n",
    "# 70(높이:행), 120(가로:열)\n",
    "image = china[150:220, 130:250] # clipping\n",
    "height, width, channels = image.shape\n",
    "# 0~255\n",
    "image_grayscale = image.mean(axis=2).astype(np.float32)\n",
    "images = image_grayscale.reshape(1, height, width, 1)"
   ]
  },
  {
   "cell_type": "code",
   "execution_count": 199,
   "metadata": {},
   "outputs": [],
   "source": [
    "def plot_image(image): # 흑백\n",
    "    plt.imshow(image, cmap=\"gray\", interpolation=\"nearest\") # 보간법\n",
    "    plt.axis(\"off\") # 이미지 축생략\n",
    "def plot_color_image(image): # 컬러\n",
    "    plt.imshow(image.astype(np.unit8), interpolation=\"nearest\")\n",
    "    plt.axis(\"off\")"
   ]
  },
  {
   "cell_type": "code",
   "execution_count": 200,
   "metadata": {},
   "outputs": [
    {
     "data": {
      "text/plain": [
       "array([[0., 0., 0., 1., 0., 0., 0.],\n",
       "       [0., 0., 0., 1., 0., 0., 0.],\n",
       "       [0., 0., 0., 1., 0., 0., 0.],\n",
       "       [0., 0., 0., 1., 0., 0., 0.],\n",
       "       [0., 0., 0., 1., 0., 0., 0.],\n",
       "       [0., 0., 0., 1., 0., 0., 0.],\n",
       "       [0., 0., 0., 1., 0., 0., 0.]], dtype=float32)"
      ]
     },
     "execution_count": 200,
     "metadata": {},
     "output_type": "execute_result"
    }
   ],
   "source": [
    "# 필터 \n",
    "# - 필터 높이, 필터 가로, 입력 채널, 출력 채널\n",
    "# 필터 2개가 필요\n",
    "import numpy as np\n",
    "fmap = np.zeros(shape=(7,7,1,2),dtype=np.float32)\n",
    "fmap[:,3,0,0]=1 # 0 ,1,2,3,4,5,6 => 중앙(중앙에 있는 열)을 1로 # 0: 검은색, 1: 흰색\n",
    "fmap[3,:,0,1]=1 # 0 => 행을 1로\n",
    "fmap[:,:,0,0]"
   ]
  },
  {
   "cell_type": "code",
   "execution_count": 201,
   "metadata": {},
   "outputs": [
    {
     "data": {
      "image/png": "[encoded data removed]",
      "text/plain": [
       "<Figure size 432x288 with 1 Axes>"
      ]
     },
     "metadata": {
      "needs_background": "light"
     },
     "output_type": "display_data"
    },
    {
     "data": {
      "image/png": "[encoded data removed]",
      "text/plain": [
       "<Figure size 432x288 with 1 Axes>"
      ]
     },
     "metadata": {
      "needs_background": "light"
     },
     "output_type": "display_data"
    },
    {
     "name": "stdout",
     "output_type": "stream",
     "text": [
      "[[0. 0. 0. 1. 0. 0. 0.]\n",
      " [0. 0. 0. 1. 0. 0. 0.]\n",
      " [0. 0. 0. 1. 0. 0. 0.]\n",
      " [0. 0. 0. 1. 0. 0. 0.]\n",
      " [0. 0. 0. 1. 0. 0. 0.]\n",
      " [0. 0. 0. 1. 0. 0. 0.]\n",
      " [0. 0. 0. 1. 0. 0. 0.]]\n"
     ]
    }
   ],
   "source": [
    "plot_image(fmap[:,:,0,0]) # 세로 흰색\n",
    "plt.show()\n",
    "plot_image(fmap[:,:,0,1]) # 가로 흰색\n",
    "plt.show()\n",
    "print(fmap[:,:,0,0])"
   ]
  },
  {
   "cell_type": "code",
   "execution_count": 202,
   "metadata": {},
   "outputs": [],
   "source": [
    "reset_graph()\n",
    "# 장수, 높이, 가로, 채널수\n",
    "X = tf.placeholder(tf.float32, shape=(None, height, width, 1))\n",
    "feature_maps = tf.constant(fmap) # 필터를 상수로\n",
    "# convolution은 1d(text), 2d(image), 3d(동영상)\n",
    "# 패딩 : SAME,\n",
    "# convolution, filter, padding, strides\n",
    "# 70x120 => 70x120 same\n",
    "# 패딩을 하지 않았다면 64x114 =>\n",
    "\n",
    "convolution = tf.nn.conv2d(X, feature_maps, strides=[1,1,1,1],\n",
    "                          padding=\"SAME\", use_cudnn_on_gpu=False) \n",
    "# pooling만 별도로 진행"
   ]
  },
  {
   "cell_type": "code",
   "execution_count": 203,
   "metadata": {},
   "outputs": [],
   "source": [
    "with tf.Session() as sess:\n",
    "    output = convolution.eval(feed_dict={X: images})"
   ]
  },
  {
   "cell_type": "code",
   "execution_count": 204,
   "metadata": {},
   "outputs": [
    {
     "name": "stdout",
     "output_type": "stream",
     "text": [
      "Saving figure china_original\n"
     ]
    },
    {
     "data": {
      "image/png": "[encoded data removed]",
      "text/plain": [
       "<Figure size 432x288 with 1 Axes>"
      ]
     },
     "metadata": {
      "needs_background": "light"
     },
     "output_type": "display_data"
    }
   ],
   "source": [
    "plot_image(images[0,:,:,0])\n",
    "save_fig(\"china_original\", tight_layout=False)\n",
    "plt.show()"
   ]
  },
  {
   "cell_type": "code",
   "execution_count": 205,
   "metadata": {},
   "outputs": [
    {
     "name": "stdout",
     "output_type": "stream",
     "text": [
      "Saving figure china_vertical\n"
     ]
    },
    {
     "data": {
      "image/png": "[encoded data removed]",
      "text/plain": [
       "<Figure size 432x288 with 1 Axes>"
      ]
     },
     "metadata": {
      "needs_background": "light"
     },
     "output_type": "display_data"
    }
   ],
   "source": [
    "# 2장의 이미지:\n",
    "plot_image(output[0,:,:,0]) # 0번 필터 적용 : 세로줄\n",
    "save_fig(\"china_vertical\", tight_layout=False)\n",
    "plt.show()"
   ]
  },
  {
   "cell_type": "code",
   "execution_count": 206,
   "metadata": {},
   "outputs": [
    {
     "name": "stdout",
     "output_type": "stream",
     "text": [
      "Saving figure china_horizontal\n"
     ]
    },
    {
     "data": {
      "image/png": "[encoded data removed]",
      "text/plain": [
       "<Figure size 432x288 with 1 Axes>"
      ]
     },
     "metadata": {
      "needs_background": "light"
     },
     "output_type": "display_data"
    }
   ],
   "source": [
    "plot_image(output[0,:,:,1])\n",
    "save_fig(\"china_horizontal\", tight_layout = False)\n",
    "plt.show()"
   ]
  }
 ],
 "metadata": {
  "kernelspec": {
   "display_name": "Python 3",
   "language": "python",
   "name": "python3"
  },
  "language_info": {
   "codemirror_mode": {
    "name": "ipython",
    "version": 3
   },
   "file_extension": ".py",
   "mimetype": "text/x-python",
   "name": "python",
   "nbconvert_exporter": "python",
   "pygments_lexer": "ipython3",
   "version": "3.7.6"
  }
 },
 "nbformat": 4,
 "nbformat_minor": 4
}
