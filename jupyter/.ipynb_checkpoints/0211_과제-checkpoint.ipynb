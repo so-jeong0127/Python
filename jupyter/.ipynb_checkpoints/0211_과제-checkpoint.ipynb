{
 "cells": [
  {
   "cell_type": "markdown",
   "metadata": {},
   "source": [
    "# 숙제\n",
    "1. 문제 x_train[1] 문장으로 변환하시오.\n",
    "2. model.summary를 해보고 가중치 사이즈를 계산해보시오."
   ]
  },
  {
   "cell_type": "code",
   "execution_count": 1,
   "metadata": {},
   "outputs": [
    {
     "name": "stderr",
     "output_type": "stream",
     "text": [
      "Using TensorFlow backend.\n",
      "C:\\Users\\ICT01_06\\Anaconda3\\envs\\tf_test\\lib\\site-packages\\tensorflow\\python\\framework\\dtypes.py:516: FutureWarning: Passing (type, 1) or '1type' as a synonym of type is deprecated; in a future version of numpy, it will be understood as (type, (1,)) / '(1,)type'.\n",
      "  _np_qint8 = np.dtype([(\"qint8\", np.int8, 1)])\n",
      "C:\\Users\\ICT01_06\\Anaconda3\\envs\\tf_test\\lib\\site-packages\\tensorflow\\python\\framework\\dtypes.py:517: FutureWarning: Passing (type, 1) or '1type' as a synonym of type is deprecated; in a future version of numpy, it will be understood as (type, (1,)) / '(1,)type'.\n",
      "  _np_quint8 = np.dtype([(\"quint8\", np.uint8, 1)])\n",
      "C:\\Users\\ICT01_06\\Anaconda3\\envs\\tf_test\\lib\\site-packages\\tensorflow\\python\\framework\\dtypes.py:518: FutureWarning: Passing (type, 1) or '1type' as a synonym of type is deprecated; in a future version of numpy, it will be understood as (type, (1,)) / '(1,)type'.\n",
      "  _np_qint16 = np.dtype([(\"qint16\", np.int16, 1)])\n",
      "C:\\Users\\ICT01_06\\Anaconda3\\envs\\tf_test\\lib\\site-packages\\tensorflow\\python\\framework\\dtypes.py:519: FutureWarning: Passing (type, 1) or '1type' as a synonym of type is deprecated; in a future version of numpy, it will be understood as (type, (1,)) / '(1,)type'.\n",
      "  _np_quint16 = np.dtype([(\"quint16\", np.uint16, 1)])\n",
      "C:\\Users\\ICT01_06\\Anaconda3\\envs\\tf_test\\lib\\site-packages\\tensorflow\\python\\framework\\dtypes.py:520: FutureWarning: Passing (type, 1) or '1type' as a synonym of type is deprecated; in a future version of numpy, it will be understood as (type, (1,)) / '(1,)type'.\n",
      "  _np_qint32 = np.dtype([(\"qint32\", np.int32, 1)])\n",
      "C:\\Users\\ICT01_06\\Anaconda3\\envs\\tf_test\\lib\\site-packages\\tensorflow\\python\\framework\\dtypes.py:525: FutureWarning: Passing (type, 1) or '1type' as a synonym of type is deprecated; in a future version of numpy, it will be understood as (type, (1,)) / '(1,)type'.\n",
      "  np_resource = np.dtype([(\"resource\", np.ubyte, 1)])\n",
      "C:\\Users\\ICT01_06\\Anaconda3\\envs\\tf_test\\lib\\site-packages\\tensorboard\\compat\\tensorflow_stub\\dtypes.py:541: FutureWarning: Passing (type, 1) or '1type' as a synonym of type is deprecated; in a future version of numpy, it will be understood as (type, (1,)) / '(1,)type'.\n",
      "  _np_qint8 = np.dtype([(\"qint8\", np.int8, 1)])\n",
      "C:\\Users\\ICT01_06\\Anaconda3\\envs\\tf_test\\lib\\site-packages\\tensorboard\\compat\\tensorflow_stub\\dtypes.py:542: FutureWarning: Passing (type, 1) or '1type' as a synonym of type is deprecated; in a future version of numpy, it will be understood as (type, (1,)) / '(1,)type'.\n",
      "  _np_quint8 = np.dtype([(\"quint8\", np.uint8, 1)])\n",
      "C:\\Users\\ICT01_06\\Anaconda3\\envs\\tf_test\\lib\\site-packages\\tensorboard\\compat\\tensorflow_stub\\dtypes.py:543: FutureWarning: Passing (type, 1) or '1type' as a synonym of type is deprecated; in a future version of numpy, it will be understood as (type, (1,)) / '(1,)type'.\n",
      "  _np_qint16 = np.dtype([(\"qint16\", np.int16, 1)])\n",
      "C:\\Users\\ICT01_06\\Anaconda3\\envs\\tf_test\\lib\\site-packages\\tensorboard\\compat\\tensorflow_stub\\dtypes.py:544: FutureWarning: Passing (type, 1) or '1type' as a synonym of type is deprecated; in a future version of numpy, it will be understood as (type, (1,)) / '(1,)type'.\n",
      "  _np_quint16 = np.dtype([(\"quint16\", np.uint16, 1)])\n",
      "C:\\Users\\ICT01_06\\Anaconda3\\envs\\tf_test\\lib\\site-packages\\tensorboard\\compat\\tensorflow_stub\\dtypes.py:545: FutureWarning: Passing (type, 1) or '1type' as a synonym of type is deprecated; in a future version of numpy, it will be understood as (type, (1,)) / '(1,)type'.\n",
      "  _np_qint32 = np.dtype([(\"qint32\", np.int32, 1)])\n",
      "C:\\Users\\ICT01_06\\Anaconda3\\envs\\tf_test\\lib\\site-packages\\tensorboard\\compat\\tensorflow_stub\\dtypes.py:550: FutureWarning: Passing (type, 1) or '1type' as a synonym of type is deprecated; in a future version of numpy, it will be understood as (type, (1,)) / '(1,)type'.\n",
      "  np_resource = np.dtype([(\"resource\", np.ubyte, 1)])\n"
     ]
    },
    {
     "name": "stdout",
     "output_type": "stream",
     "text": [
      "[ 125   68    2    2   15  349  165    2   98    5    4  228    9   43\n",
      "    2 1157   15  299  120    5  120  174   11  220  175  136   50    9\n",
      "    2  228    2    5    2  656  245    2    5    4    2  131  152  491\n",
      "   18    2   32    2 1212   14    9    6  371   78   22  625   64 1382\n",
      "    9    8  168  145   23    4 1690   15   16    4 1355    5   28    6\n",
      "   52  154  462   33   89   78  285   16  145   95]\n"
     ]
    }
   ],
   "source": [
    "from keras.preprocessing import sequence\n",
    "from keras.models import Sequential\n",
    "from keras.layers import Dense, Embedding\n",
    "from keras.layers import LSTM\n",
    "from keras.datasets import imdb\n",
    "import numpy as np\n",
    "\n",
    "# imdb : onehot encoding\n",
    "(x_train, y_train), (x_test, y_test) = imdb.load_data(num_words = 2000)\n",
    "\n",
    "x_train = sequence.pad_sequences(x_train, maxlen=80)\n",
    "x_test = sequence.pad_sequences(x_test, maxlen =80)\n",
    "print(x_train[1])"
   ]
  },
  {
   "cell_type": "code",
   "execution_count": 2,
   "metadata": {},
   "outputs": [
    {
     "name": "stdout",
     "output_type": "stream",
     "text": [
      "WARNING:tensorflow:From C:\\Users\\ICT01_06\\Anaconda3\\envs\\tf_test\\lib\\site-packages\\tensorflow\\python\\ops\\nn_impl.py:180: add_dispatch_support.<locals>.wrapper (from tensorflow.python.ops.array_ops) is deprecated and will be removed in a future version.\n",
      "Instructions for updating:\n",
      "Use tf.where in 2.0, which has the same broadcast rule as np.where\n"
     ]
    }
   ],
   "source": [
    "model = Sequential()\n",
    "# 2000? 정수의 크기값 - 단어장의 크기\n",
    "model.add(Embedding(2000,128)) # 벡터로 변환\n",
    "# 셀의 가중치 : 4 ... 셀의 크기\n",
    "model.add(LSTM(128, dropout=0.2, recurrent_dropout=0.2))\n",
    "model.add(Dense(1, activation='sigmoid')) # 긍부정 2개\n",
    "model.compile(loss = 'binary_crossentropy', optimizer='adam', metrics=['accuracy'])"
   ]
  },
  {
   "cell_type": "code",
   "execution_count": 3,
   "metadata": {},
   "outputs": [
    {
     "name": "stdout",
     "output_type": "stream",
     "text": [
      "WARNING:tensorflow:From C:\\Users\\ICT01_06\\Anaconda3\\envs\\tf_test\\lib\\site-packages\\keras\\backend\\tensorflow_backend.py:422: The name tf.global_variables is deprecated. Please use tf.compat.v1.global_variables instead.\n",
      "\n",
      "Train on 25000 samples, validate on 25000 samples\n",
      "Epoch 1/15\n",
      "25000/25000 [==============================] - 48s 2ms/step - loss: 0.4889 - accuracy: 0.7593 - val_loss: 0.5007 - val_accuracy: 0.7904\n",
      "Epoch 2/15\n",
      "25000/25000 [==============================] - 47s 2ms/step - loss: 0.4012 - accuracy: 0.8214 - val_loss: 0.3977 - val_accuracy: 0.8263\n",
      "Epoch 3/15\n",
      "25000/25000 [==============================] - 47s 2ms/step - loss: 0.3613 - accuracy: 0.8439 - val_loss: 0.3853 - val_accuracy: 0.8271\n",
      "Epoch 4/15\n",
      "25000/25000 [==============================] - 47s 2ms/step - loss: 0.3278 - accuracy: 0.8584 - val_loss: 0.3716 - val_accuracy: 0.8378\n",
      "Epoch 5/15\n",
      "25000/25000 [==============================] - 47s 2ms/step - loss: 0.3096 - accuracy: 0.8691 - val_loss: 0.3671 - val_accuracy: 0.8372\n",
      "Epoch 6/15\n",
      "25000/25000 [==============================] - 48s 2ms/step - loss: 0.2792 - accuracy: 0.8830 - val_loss: 0.3708 - val_accuracy: 0.8406\n",
      "Epoch 7/15\n",
      "25000/25000 [==============================] - 47s 2ms/step - loss: 0.2578 - accuracy: 0.8932 - val_loss: 0.4047 - val_accuracy: 0.8376\n",
      "Epoch 8/15\n",
      "25000/25000 [==============================] - 48s 2ms/step - loss: 0.2368 - accuracy: 0.9031 - val_loss: 0.4049 - val_accuracy: 0.8358\n",
      "Epoch 9/15\n",
      "25000/25000 [==============================] - 47s 2ms/step - loss: 0.2229 - accuracy: 0.9115 - val_loss: 0.4289 - val_accuracy: 0.8372\n",
      "Epoch 10/15\n",
      "25000/25000 [==============================] - 47s 2ms/step - loss: 0.2009 - accuracy: 0.9201 - val_loss: 0.4303 - val_accuracy: 0.8301\n",
      "Epoch 11/15\n",
      "25000/25000 [==============================] - 48s 2ms/step - loss: 0.1843 - accuracy: 0.9268 - val_loss: 0.4553 - val_accuracy: 0.8264\n",
      "Epoch 12/15\n",
      "25000/25000 [==============================] - 46s 2ms/step - loss: 0.1675 - accuracy: 0.9327 - val_loss: 0.4882 - val_accuracy: 0.8260\n",
      "Epoch 13/15\n",
      "25000/25000 [==============================] - 46s 2ms/step - loss: 0.1559 - accuracy: 0.9394 - val_loss: 0.5267 - val_accuracy: 0.8263\n",
      "Epoch 14/15\n",
      "25000/25000 [==============================] - 47s 2ms/step - loss: 0.1381 - accuracy: 0.9477 - val_loss: 0.5922 - val_accuracy: 0.8287\n",
      "Epoch 15/15\n",
      "25000/25000 [==============================] - 47s 2ms/step - loss: 0.1296 - accuracy: 0.9500 - val_loss: 0.5665 - val_accuracy: 0.8196\n"
     ]
    },
    {
     "data": {
      "text/plain": [
       "<keras.callbacks.callbacks.History at 0x19003f60a88>"
      ]
     },
     "execution_count": 3,
     "metadata": {},
     "output_type": "execute_result"
    }
   ],
   "source": [
    "model.fit(x_train, y_train, batch_size=32, epochs =15, validation_data = (x_test, y_test))"
   ]
  },
  {
   "cell_type": "code",
   "execution_count": 8,
   "metadata": {},
   "outputs": [
    {
     "data": {
      "text/plain": [
       "'tsukino'"
      ]
     },
     "execution_count": 8,
     "metadata": {},
     "output_type": "execute_result"
    }
   ],
   "source": [
    "dictionary = imdb.get_word_index(path='imdb_word_index.json')\n",
    "imdb_key = dictionary.keys()\n",
    "list(imdb_key)[1]"
   ]
  },
  {
   "cell_type": "markdown",
   "metadata": {},
   "source": [
    "1."
   ]
  },
  {
   "cell_type": "code",
   "execution_count": 11,
   "metadata": {},
   "outputs": [
    {
     "name": "stdout",
     "output_type": "stream",
     "text": [
      "hj\n",
      "'pleasure\n",
      "nunnery\n",
      "nunnery\n",
      "harpo's\n",
      "norliss\n",
      "assimilates\n",
      "nunnery\n",
      "stern\n",
      "woods\n",
      "vani\n",
      "golem\n",
      "trawling\n",
      "thrace\n",
      "nunnery\n",
      "photon\n",
      "harpo's\n",
      "feeling\n",
      "beswick\n",
      "woods\n",
      "beswick\n",
      "kuei\n",
      "comically\n",
      "approporiately\n",
      "welcomed\n",
      "post's\n",
      "273\n",
      "trawling\n",
      "nunnery\n",
      "golem\n",
      "nunnery\n",
      "woods\n",
      "nunnery\n",
      "humbled\n",
      "ugghhh\n",
      "nunnery\n",
      "woods\n",
      "vani\n",
      "nunnery\n",
      "gershon\n",
      "chapters'\n",
      "conditioned\n",
      "acurately\n",
      "nunnery\n",
      "bravora\n",
      "nunnery\n",
      "being\n",
      "'royale\n",
      "trawling\n",
      "spiders\n",
      "sturgess\n",
      "babaganoosh\n",
      "rumbustious\n",
      "teenager's\n",
      "videodrome\n",
      "hetfield's\n",
      "trawling\n",
      "woody\n",
      "dongen\n",
      "pinto\n",
      "familiarness\n",
      "vani\n",
      "walberg\n",
      "harpo's\n",
      "canet\n",
      "vani\n",
      "unwelcomed\n",
      "woods\n",
      "hangin'\n",
      "spiders\n",
      "275\n",
      "uselessness\n",
      "tonino\n",
      "grueling\n",
      "cobblers\n",
      "babaganoosh\n",
      "mutilated\n",
      "canet\n",
      "pinto\n",
      "gateshead\n"
     ]
    }
   ],
   "source": [
    "for i in range(len(x_train[1])):\n",
    "    print(list(imdb_key)[x_train[1][i]])"
   ]
  },
  {
   "cell_type": "markdown",
   "metadata": {},
   "source": [
    "2."
   ]
  },
  {
   "cell_type": "code",
   "execution_count": 4,
   "metadata": {},
   "outputs": [
    {
     "name": "stdout",
     "output_type": "stream",
     "text": [
      "Model: \"sequential_1\"\n",
      "_________________________________________________________________\n",
      "Layer (type)                 Output Shape              Param #   \n",
      "=================================================================\n",
      "embedding_1 (Embedding)      (None, None, 128)         256000    \n",
      "_________________________________________________________________\n",
      "lstm_1 (LSTM)                (None, 128)               131584    \n",
      "_________________________________________________________________\n",
      "dense_1 (Dense)              (None, 1)                 129       \n",
      "=================================================================\n",
      "Total params: 387,713\n",
      "Trainable params: 387,713\n",
      "Non-trainable params: 0\n",
      "_________________________________________________________________\n"
     ]
    }
   ],
   "source": [
    "model.summary()"
   ]
  }
 ],
 "metadata": {
  "kernelspec": {
   "display_name": "Python 3",
   "language": "python",
   "name": "python3"
  },
  "language_info": {
   "codemirror_mode": {
    "name": "ipython",
    "version": 3
   },
   "file_extension": ".py",
   "mimetype": "text/x-python",
   "name": "python",
   "nbconvert_exporter": "python",
   "pygments_lexer": "ipython3",
   "version": "3.7.6"
  },
  "toc": {
   "base_numbering": 1,
   "nav_menu": {},
   "number_sections": true,
   "sideBar": true,
   "skip_h1_title": false,
   "title_cell": "Table of Contents",
   "title_sidebar": "Contents",
   "toc_cell": false,
   "toc_position": {},
   "toc_section_display": true,
   "toc_window_display": false
  }
 },
 "nbformat": 4,
 "nbformat_minor": 4
}
