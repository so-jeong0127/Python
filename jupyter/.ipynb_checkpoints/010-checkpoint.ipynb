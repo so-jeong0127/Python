{
 "cells": [
  {
   "cell_type": "markdown",
   "metadata": {},
   "source": [
    "# python : 문자열 처리\n",
    "- 검색, 분리(split), 추출, 대체, 결합, 공백처리\n",
    "- 문자열의 기본자료구조는 배열"
   ]
  },
  {
   "cell_type": "markdown",
   "metadata": {},
   "source": [
    "# 정규표현식 ( regular expression) : re => 똑같은 방식으로 처리\n",
    "- 패턴으로 처리"
   ]
  },
  {
   "cell_type": "code",
   "execution_count": 1,
   "metadata": {},
   "outputs": [
    {
     "name": "stdout",
     "output_type": "stream",
     "text": [
      "C\n",
      "(\n",
      "0\n",
      "(=N)\n",
      "C(=0)\n"
     ]
    }
   ],
   "source": [
    "smiles = \"C(=N)(N)n.C(=0)(0)0\" # 1차원 배열\n",
    "print(smiles[0])\n",
    "print(smiles[1])\n",
    "print(smiles[-1])\n",
    "print(smiles[1:5])\n",
    "print(smiles[10:-4])"
   ]
  },
  {
   "cell_type": "code",
   "execution_count": 2,
   "metadata": {},
   "outputs": [
    {
     "name": "stdout",
     "output_type": "stream",
     "text": [
      "7\n",
      "4\n"
     ]
    },
    {
     "data": {
      "text/plain": [
       "0"
      ]
     },
     "execution_count": 2,
     "metadata": {},
     "output_type": "execute_result"
    }
   ],
   "source": [
    "s = \"That that is is that that is\" # 문자열에서 대소문자 구분\n",
    "print(s.count(\"t\"))\n",
    "s = s.lower() # 소문자\n",
    "print(s.count(\"that\"))\n",
    "s.find(\"that\") # 단어별"
   ]
  },
  {
   "cell_type": "code",
   "execution_count": 3,
   "metadata": {},
   "outputs": [
    {
     "name": "stdout",
     "output_type": "stream",
     "text": [
      "C:\\nowhere\n",
      "C:\\\\nowhere\n",
      "Hello, world!\n"
     ]
    }
   ],
   "source": [
    "# ASCII code 95 = a\n",
    "print('C:\\\\nowhere') \n",
    "print(r'C:\\\\nowhere') # 정규표현식 # 3버전은 기본적으로 유니코드\n",
    "print(u'Hello, world!') # unicode 2.7버전"
   ]
  },
  {
   "cell_type": "code",
   "execution_count": 5,
   "metadata": {},
   "outputs": [],
   "source": [
    "# pandas도 문자열 함수지원 => 후처리가 편리\n",
    "import pandas as pd\n",
    "monte = pd.Series(['Graham Chapman', 'John Cleese', 'Terry Gilliam', 'Eric Idle', 'Terry Jones', 'Michael Palin']) "
   ]
  },
  {
   "cell_type": "code",
   "execution_count": 6,
   "metadata": {},
   "outputs": [
    {
     "data": {
      "text/plain": [
       "0    graham chapman\n",
       "1       john cleese\n",
       "2     terry gilliam\n",
       "3         eric idle\n",
       "4       terry jones\n",
       "5     michael palin\n",
       "dtype: object"
      ]
     },
     "execution_count": 6,
     "metadata": {},
     "output_type": "execute_result"
    }
   ],
   "source": [
    "monte.str.lower()"
   ]
  },
  {
   "cell_type": "code",
   "execution_count": 7,
   "metadata": {},
   "outputs": [
    {
     "data": {
      "text/plain": [
       "0    14\n",
       "1    11\n",
       "2    13\n",
       "3     9\n",
       "4    11\n",
       "5    13\n",
       "dtype: int64"
      ]
     },
     "execution_count": 7,
     "metadata": {},
     "output_type": "execute_result"
    }
   ],
   "source": [
    "monte.str.len()"
   ]
  },
  {
   "cell_type": "code",
   "execution_count": 8,
   "metadata": {},
   "outputs": [
    {
     "data": {
      "text/plain": [
       "0    False\n",
       "1    False\n",
       "2     True\n",
       "3    False\n",
       "4     True\n",
       "5    False\n",
       "dtype: bool"
      ]
     },
     "execution_count": 8,
     "metadata": {},
     "output_type": "execute_result"
    }
   ],
   "source": [
    "monte.str.startswith('T')"
   ]
  },
  {
   "cell_type": "code",
   "execution_count": 11,
   "metadata": {},
   "outputs": [
    {
     "data": {
      "text/plain": [
       "0    [Graham, Chapman]\n",
       "1       [John, Cleese]\n",
       "2     [Terry, Gilliam]\n",
       "3         [Eric, Idle]\n",
       "4       [Terry, Jones]\n",
       "5     [Michael, Palin]\n",
       "dtype: object"
      ]
     },
     "execution_count": 11,
     "metadata": {},
     "output_type": "execute_result"
    }
   ],
   "source": [
    "monte.str.split()"
   ]
  },
  {
   "cell_type": "code",
   "execution_count": 14,
   "metadata": {},
   "outputs": [
    {
     "data": {
      "text/plain": [
       "0     Graham\n",
       "1       John\n",
       "2      Terry\n",
       "3       Eric\n",
       "4      Terry\n",
       "5    Michael\n",
       "dtype: object"
      ]
     },
     "execution_count": 14,
     "metadata": {},
     "output_type": "execute_result"
    }
   ],
   "source": [
    "# 정규표현식\n",
    "# [] : 선택\n",
    "# 추출\n",
    "monte.str.extract('([A-Za-z]+)', expand=False)"
   ]
  },
  {
   "cell_type": "code",
   "execution_count": 13,
   "metadata": {},
   "outputs": [
    {
     "data": {
      "text/plain": [
       "0    [Graham Chapman]\n",
       "1                  []\n",
       "2     [Terry Gilliam]\n",
       "3                  []\n",
       "4       [Terry Jones]\n",
       "5     [Michael Palin]\n",
       "dtype: object"
      ]
     },
     "execution_count": 13,
     "metadata": {},
     "output_type": "execute_result"
    }
   ],
   "source": [
    "# ^ : 처음부터, [^] : 부정\n",
    "monte.str.findall(r'^[^AEIOU].*[^aeiou]$')\n",
    "# AEIOU로시작하지 않는 놈, .: 여러개, AEIOU로 끝나지 않는놈"
   ]
  },
  {
   "cell_type": "code",
   "execution_count": 17,
   "metadata": {},
   "outputs": [
    {
     "name": "stdout",
     "output_type": "stream",
     "text": [
      "032-232-3245\n"
     ]
    }
   ],
   "source": [
    "import re # Regular expression 패키지\n",
    "text = \"문의사항이 있으면 032-232-3245 으로 연락주시기 바랍니다.\"\n",
    "\n",
    "# \\d : 숫자한개\n",
    "# {}는 개수\n",
    "# 패턴을 컴파일\n",
    "regex = re.compile(r'\\d\\d\\d-\\d\\d\\d-\\d\\d\\d\\d')\n",
    "regex = re.compile(r'(\\d{3})-(\\d{3}-\\d{4})') # 하나의 단위로 ()\n",
    "matchobj = regex.search(text)\n",
    "phonenumber = matchobj.group() # 여러개가 나오는 상황\n",
    "print(phonenumber)"
   ]
  },
  {
   "cell_type": "code",
   "execution_count": 19,
   "metadata": {},
   "outputs": [
    {
     "data": {
      "text/plain": [
       "0     True\n",
       "1    False\n",
       "2    False\n",
       "3     True\n",
       "4    False\n",
       "5    False\n",
       "6     True\n",
       "7    False\n",
       "8    False\n",
       "dtype: bool"
      ]
     },
     "execution_count": 19,
     "metadata": {},
     "output_type": "execute_result"
    }
   ],
   "source": [
    "import numpy as np \n",
    "s4 = pd.Series(['A','B','C','Aaba','Baca', np.nan, 'CABA','dog','cat'])\n",
    "s4.str.contains('A',na=False) # True/False"
   ]
  },
  {
   "cell_type": "code",
   "execution_count": 20,
   "metadata": {},
   "outputs": [
    {
     "name": "stdout",
     "output_type": "stream",
     "text": [
      "Dave     iadslba@naver.com\n",
      "Steve      steve@gmail.com\n",
      "Rob                    rob\n",
      "Wes                    NaN\n",
      "dtype: object\n"
     ]
    }
   ],
   "source": [
    "from pandas import Series, DataFrame\n",
    "import pandas as pd\n",
    "import numpy as np\n",
    "\n",
    "import re\n",
    "\n",
    "data={'Dave':'iadslba@naver.com', 'Steve':'steve@gmail.com', 'Rob':'rob', 'Wes':np.nan}\n",
    "data=Series(data)\n",
    "print(data) "
   ]
  },
  {
   "cell_type": "code",
   "execution_count": 22,
   "metadata": {},
   "outputs": [
    {
     "name": "stdout",
     "output_type": "stream",
     "text": [
      "Dave     False\n",
      "Steve    False\n",
      "Rob      False\n",
      "Wes       True\n",
      "dtype: bool\n",
      "네이버 Dave      True\n",
      "Steve    False\n",
      "Rob      False\n",
      "Wes        NaN\n",
      "dtype: object\n"
     ]
    }
   ],
   "source": [
    "print(data.isnull())\n",
    "print(\"네이버\",data.str.contains('naver'))"
   ]
  },
  {
   "cell_type": "code",
   "execution_count": 33,
   "metadata": {},
   "outputs": [
    {
     "name": "stdout",
     "output_type": "stream",
     "text": [
      "match의 결과 :  Dave      True\n",
      "Steve     True\n",
      "Rob      False\n",
      "Wes        NaN\n",
      "dtype: object\n",
      "findall 결과 :  Dave     [iadslba@naver.com]\n",
      "Steve      [steve@gmail.com]\n",
      "Rob                       []\n",
      "Wes                      NaN\n",
      "dtype: object\n"
     ]
    }
   ],
   "source": [
    "# r : regular expressopm으로 분석\n",
    "# 정규표현식에서 .은 한개\n",
    "pattern = r'[a-z0-9._%+-]+@[a-z09.-]+.[a-z]'\n",
    "# match 의 결과값은 True/False\n",
    "matches = data.str.match(pattern, flags=re.IGNORECASE) # 대소문자불구문\n",
    "print(\"match의 결과 : \",matches)\n",
    "matches=data.str.findall(pattern, flags=re.IGNORECASE)\n",
    "print(\"findall 결과 : \", matches)"
   ]
  },
  {
   "cell_type": "code",
   "execution_count": 36,
   "metadata": {},
   "outputs": [
    {
     "name": "stdout",
     "output_type": "stream",
     "text": [
      "0      a\n",
      "1    a|b\n",
      "2    NaN\n",
      "3    a|c\n",
      "dtype: object\n"
     ]
    },
    {
     "data": {
      "text/html": [
       "<div>\n",
       "<style scoped>\n",
       "    .dataframe tbody tr th:only-of-type {\n",
       "        vertical-align: middle;\n",
       "    }\n",
       "\n",
       "    .dataframe tbody tr th {\n",
       "        vertical-align: top;\n",
       "    }\n",
       "\n",
       "    .dataframe thead th {\n",
       "        text-align: right;\n",
       "    }\n",
       "</style>\n",
       "<table border=\"1\" class=\"dataframe\">\n",
       "  <thead>\n",
       "    <tr style=\"text-align: right;\">\n",
       "      <th></th>\n",
       "      <th>a</th>\n",
       "      <th>b</th>\n",
       "      <th>c</th>\n",
       "    </tr>\n",
       "  </thead>\n",
       "  <tbody>\n",
       "    <tr>\n",
       "      <td>0</td>\n",
       "      <td>1</td>\n",
       "      <td>0</td>\n",
       "      <td>0</td>\n",
       "    </tr>\n",
       "    <tr>\n",
       "      <td>1</td>\n",
       "      <td>1</td>\n",
       "      <td>1</td>\n",
       "      <td>0</td>\n",
       "    </tr>\n",
       "    <tr>\n",
       "      <td>2</td>\n",
       "      <td>0</td>\n",
       "      <td>0</td>\n",
       "      <td>0</td>\n",
       "    </tr>\n",
       "    <tr>\n",
       "      <td>3</td>\n",
       "      <td>1</td>\n",
       "      <td>0</td>\n",
       "      <td>1</td>\n",
       "    </tr>\n",
       "  </tbody>\n",
       "</table>\n",
       "</div>"
      ],
      "text/plain": [
       "   a  b  c\n",
       "0  1  0  0\n",
       "1  1  1  0\n",
       "2  0  0  0\n",
       "3  1  0  1"
      ]
     },
     "execution_count": 36,
     "metadata": {},
     "output_type": "execute_result"
    }
   ],
   "source": [
    "# one-hot-endcoding\n",
    "s= pd.Series(['a','a|b', np.nan, 'a|c'])\n",
    "print(s)\n",
    "# 행은 관측 숫자, 열은 변수\n",
    "s.str.get_dummies(sep='|')"
   ]
  },
  {
   "cell_type": "code",
   "execution_count": 38,
   "metadata": {},
   "outputs": [
    {
     "name": "stdout",
     "output_type": "stream",
     "text": [
      "  text  text_length\n",
      "0   한글            2\n",
      "1   미국            2\n",
      "2  일본?            3\n"
     ]
    }
   ],
   "source": [
    "# 함수를 매개변수로 전달할 때는 함수 실행이 아니고\n",
    "# 함수 위치를 전달하는 것\n",
    "# 함수를 실행할 때는 len()\n",
    "df = pd.DataFrame(['한글','미국','일본?'],columns=['text'])\n",
    "# 파생변수 R : (mutate)사용\n",
    "df['text_length'] = df['text'].map(len) # 시리즈에 함수적용\n",
    "print(df)"
   ]
  },
  {
   "cell_type": "code",
   "execution_count": 40,
   "metadata": {},
   "outputs": [
    {
     "name": "stdout",
     "output_type": "stream",
     "text": [
      "210\n",
      "27.6\n",
      "0     14\n",
      "1     42\n",
      "2     81\n",
      "3    106\n",
      "4    138\n",
      "Name: preScore, dtype: int64\n",
      "데이터 설명\n",
      "count     5.0000\n",
      "mean     27.6000\n",
      "std       9.2358\n",
      "min      14.0000\n",
      "25%      25.0000\n",
      "50%      28.0000\n",
      "75%      32.0000\n",
      "max      39.0000\n",
      "Name: preScore, dtype: float64\n",
      "데이터 끝\n",
      "85.30000000000001\n",
      "9.235799911215056\n",
      "-0.5110345040062979\n",
      "0.8509652849263816\n"
     ]
    }
   ],
   "source": [
    "data = {'name':['하늘이','찬호박','우리야','함께가','하성공'],\n",
    "       'age': [40,50,30,20,70],\n",
    "       'preScore': [14,28,39,25,32],\n",
    "       'postScore': [20,90,55,65,79]}\n",
    "df = pd.DataFrame(data,columns = ['name','age','preScore','postScore'])\n",
    "df\n",
    "print(df['age'].sum())\n",
    "print(df['preScore'].mean())\n",
    "print(df['preScore'].cumsum())\n",
    "print('데이터 설명')\n",
    "print(df['preScore'].describe())\n",
    "print('데이터 끝')\n",
    "print(df['preScore'].var())\n",
    "print(df['preScore'].std())\n",
    "print(df['preScore'].skew()) # 왜도 0 좌우대칭\n",
    "                             # 긴 꼬리가 왼쪽에 있으면 음(negative)의 왜도, 그 반대의 경우 양(positive)의 왜도\n",
    "print(df['preScore'].kurt()) # 첨도(뾰족한 정도) 3 정규분포"
   ]
  },
  {
   "cell_type": "code",
   "execution_count": 41,
   "metadata": {},
   "outputs": [
    {
     "name": "stdout",
     "output_type": "stream",
     "text": [
      "        two       one     three\n",
      "a -0.207033  0.878963       NaN\n",
      "b  0.477896  0.244098 -0.877539\n",
      "c -0.850092 -1.182494  0.809531\n",
      "d       NaN  0.104795  0.649652\n",
      "two      0.477896\n",
      "one      0.244098\n",
      "three   -0.877539\n",
      "Name: b, dtype: float64\n",
      "a   -0.207033\n",
      "b    0.477896\n",
      "c   -0.850092\n",
      "d         NaN\n",
      "Name: two, dtype: float64\n"
     ]
    }
   ],
   "source": [
    "df = pd.DataFrame({'two' : pd.Series(np.random.randn(3),   index=['c', 'b', 'a']),\n",
    "                   'one' : pd.Series(np.random.randn(4),   index=['d', 'b', 'c', 'a']),\n",
    "                   'three' : pd.Series(np.random.randn(3), index=['b', 'c', 'd'])})\n",
    "print(df)   \n",
    "row = df.iloc[1] # 한 행 데이터\n",
    "print(row)\n",
    "column = df['two'] # 한 열 데이터\n",
    "print(column)\n",
    "# 4x3 행렬"
   ]
  },
  {
   "cell_type": "code",
   "execution_count": 42,
   "metadata": {},
   "outputs": [
    {
     "name": "stdout",
     "output_type": "stream",
     "text": [
      "            two       one     three\n",
      "two    1.000000  0.662091 -1.000000\n",
      "one    0.662091  1.000000 -0.642849\n",
      "three -1.000000 -0.642849  1.000000\n"
     ]
    }
   ],
   "source": [
    "# 팬다스는 열중심 - 열끼리의 상관계수\n",
    "print(df.corr()) # correlation ( 상관계수 행렬 )\n",
    "# 행과 열의 이름은 열변수이름 3행\n",
    "# 부적상관 ( 역상관 )\n",
    "# 정적상관\n",
    "# 상관계수 행렬은 정방행렬, 대칭행렬 => 고유값 분해\n",
    "# 잡음\n",
    "# - 고유값 (값만3개) + 고유값 벡터 (3,3) : 방향축간에 서로 직교"
   ]
  },
  {
   "cell_type": "code",
   "execution_count": 43,
   "metadata": {},
   "outputs": [
    {
     "name": "stdout",
     "output_type": "stream",
     "text": [
      "            two       one     three\n",
      "two    0.441034  0.464217 -1.120205\n",
      "one    0.464217  0.746973 -0.470886\n",
      "three -1.120205 -0.470886  0.867347\n"
     ]
    }
   ],
   "source": [
    "print(df.cov()) # 공분산(두개의 데이터간의 분산)행렬 - (x-xbar)*(y-ybar)/(n-1) 자유도: n-1(자기는 선택을 안하기 때문에)"
   ]
  },
  {
   "cell_type": "code",
   "execution_count": 44,
   "metadata": {},
   "outputs": [],
   "source": [
    "df1 = pd.DataFrame({'col':['foo', 0, np.nan]})\n",
    "df2 = pd.DataFrame({'col':[np.nan, 0, 'foo']}, index=[2,1,0])\n",
    "df3 = pd.DataFrame({'col':[1, 2, 3]}, index=[2,1,0]) \n",
    "# 인덱스\n",
    "# index 행\n",
    "# columns 열"
   ]
  },
  {
   "cell_type": "code",
   "execution_count": 46,
   "metadata": {},
   "outputs": [
    {
     "name": "stdout",
     "output_type": "stream",
     "text": [
      "   col\n",
      "2    1\n",
      "1    2\n",
      "0    3\n"
     ]
    }
   ],
   "source": [
    "# print(df2.sort_values(by=['col'])) # 정렬기준이 안맞기 때문에 ERROR\n",
    "print(df3.sort_values(by=['col']))"
   ]
  },
  {
   "cell_type": "code",
   "execution_count": 47,
   "metadata": {},
   "outputs": [
    {
     "name": "stdout",
     "output_type": "stream",
     "text": [
      "        two       one     three\n",
      "a -0.207033  0.878963       NaN\n",
      "b  0.477896  0.244098 -0.877539\n",
      "c -0.850092 -1.182494  0.809531\n",
      "d       NaN  0.104795  0.649652\n"
     ]
    }
   ],
   "source": [
    "print(df.sort_index())"
   ]
  },
  {
   "cell_type": "code",
   "execution_count": 50,
   "metadata": {},
   "outputs": [
    {
     "data": {
      "image/png": "[encoded data removed]",
      "text/plain": [
       "<Figure size 432x288 with 1 Axes>"
      ]
     },
     "metadata": {
      "needs_background": "light"
     },
     "output_type": "display_data"
    }
   ],
   "source": [
    "%matplotlib inline\n",
    "import seaborn as sns\n",
    "import matplotlib.pyplot as plt\n",
    "iris= sns.load_dataset(\"iris\") # 변수 ( 마지막 변수 : 종류 )\n",
    "iris.head()\n",
    "iris.sepal_length[:20].plot(kind='bar',rot=0)\n",
    "plt.show()"
   ]
  },
  {
   "cell_type": "code",
   "execution_count": 54,
   "metadata": {},
   "outputs": [
    {
     "name": "stdout",
     "output_type": "stream",
     "text": [
      "[('한국성', 25), ('공하자', 30), ('희망이', 38), ('꿈꾼다', 28), ('아리랑', 31)]\n",
      "  Names  Births\n",
      "0   한국성      25\n",
      "1   공하자      30\n",
      "2   희망이      38\n",
      "3   꿈꾼다      28\n",
      "4   아리랑      31\n",
      "  Names  Births\n",
      "0   한국성      25\n",
      "1   공하자      30\n",
      "2   희망이      38\n",
      "3   꿈꾼다      28\n",
      "4   아리랑      31\n"
     ]
    }
   ],
   "source": [
    "# UTF8은 텍스트 처리의 기본 타입\n",
    "names = ['한국성','공하자','희망이','꿈꾼다','아리랑']\n",
    "births = [25,30,38,28,31]\n",
    "BabyDataSet = list(zip(names,births))\n",
    "print(BabyDataSet)\n",
    "df = pd.DataFrame(data = BabyDataSet, columns=['Names','Births'])\n",
    "print(df)\n",
    "# 인덱스 저장 => 열로 나타남\n",
    "# 로딩할 때 인덱스로 지정할 열을 지정이 가능\n",
    "df.to_csv('births2020.csv',index=False,header=True,encoding=\"UTF-8\") # header은 열이름\n",
    "Location='./births2020.csv'\n",
    "df = pd.read_csv(Location) # 자동으로 데이터 프레임으로 생성\n",
    "print(df)\n",
    "df = pd.read_csv(Location, names=['Names','Births'],encoding='utf-8')"
   ]
  },
  {
   "cell_type": "code",
   "execution_count": 16,
   "metadata": {},
   "outputs": [
    {
     "data": {
      "text/html": [
       "<div>\n",
       "<style scoped>\n",
       "    .dataframe tbody tr th:only-of-type {\n",
       "        vertical-align: middle;\n",
       "    }\n",
       "\n",
       "    .dataframe tbody tr th {\n",
       "        vertical-align: top;\n",
       "    }\n",
       "\n",
       "    .dataframe thead th {\n",
       "        text-align: right;\n",
       "    }\n",
       "</style>\n",
       "<table border=\"1\" class=\"dataframe\">\n",
       "  <thead>\n",
       "    <tr style=\"text-align: right;\">\n",
       "      <th></th>\n",
       "      <th>npreg</th>\n",
       "      <th>glu</th>\n",
       "      <th>bp</th>\n",
       "      <th>skin</th>\n",
       "      <th>bmi</th>\n",
       "      <th>ped</th>\n",
       "      <th>age</th>\n",
       "      <th>type</th>\n",
       "    </tr>\n",
       "  </thead>\n",
       "  <tbody>\n",
       "    <tr>\n",
       "      <td>1</td>\n",
       "      <td>6</td>\n",
       "      <td>148</td>\n",
       "      <td>72</td>\n",
       "      <td>35</td>\n",
       "      <td>33.6</td>\n",
       "      <td>0.627</td>\n",
       "      <td>50</td>\n",
       "      <td>Yes</td>\n",
       "    </tr>\n",
       "    <tr>\n",
       "      <td>2</td>\n",
       "      <td>1</td>\n",
       "      <td>85</td>\n",
       "      <td>66</td>\n",
       "      <td>29</td>\n",
       "      <td>26.6</td>\n",
       "      <td>0.351</td>\n",
       "      <td>31</td>\n",
       "      <td>No</td>\n",
       "    </tr>\n",
       "    <tr>\n",
       "      <td>3</td>\n",
       "      <td>1</td>\n",
       "      <td>89</td>\n",
       "      <td>66</td>\n",
       "      <td>23</td>\n",
       "      <td>28.1</td>\n",
       "      <td>0.167</td>\n",
       "      <td>21</td>\n",
       "      <td>No</td>\n",
       "    </tr>\n",
       "  </tbody>\n",
       "</table>\n",
       "</div>"
      ],
      "text/plain": [
       "   npreg  glu  bp  skin   bmi    ped  age type\n",
       "1      6  148  72    35  33.6  0.627   50  Yes\n",
       "2      1   85  66    29  26.6  0.351   31   No\n",
       "3      1   89  66    23  28.1  0.167   21   No"
      ]
     },
     "execution_count": 16,
     "metadata": {},
     "output_type": "execute_result"
    }
   ],
   "source": [
    "# 행이름\n",
    "pim = pd.read_csv(\"diab.csv\", index_col=0) # 인덱스를 없애주기 위해서 사용\n",
    "pim.head(3)"
   ]
  },
  {
   "cell_type": "code",
   "execution_count": 20,
   "metadata": {},
   "outputs": [
    {
     "name": "stdout",
     "output_type": "stream",
     "text": [
      "            npreg         glu          bp        skin         bmi         ped  \\\n",
      "count  332.000000  332.000000  332.000000  332.000000  332.000000  332.000000   \n",
      "mean     3.484940  119.259036   71.653614   29.162651   33.239759    0.528389   \n",
      "std      3.283634   30.501138   12.799307    9.748068    7.282901    0.363278   \n",
      "min      0.000000   65.000000   24.000000    7.000000   19.400000    0.085000   \n",
      "25%      1.000000   96.000000   64.000000   22.000000   28.175000    0.266000   \n",
      "50%      2.000000  112.000000   72.000000   29.000000   32.900000    0.440000   \n",
      "75%      5.000000  136.250000   80.000000   36.000000   37.200000    0.679250   \n",
      "max     17.000000  197.000000  110.000000   63.000000   67.100000    2.420000   \n",
      "\n",
      "              age  \n",
      "count  332.000000  \n",
      "mean    31.316265  \n",
      "std     10.636225  \n",
      "min     21.000000  \n",
      "25%     23.000000  \n",
      "50%     27.000000  \n",
      "75%     37.000000  \n",
      "max     81.000000  \n"
     ]
    }
   ],
   "source": [
    "print(pim.describe())"
   ]
  },
  {
   "cell_type": "code",
   "execution_count": 63,
   "metadata": {},
   "outputs": [
    {
     "name": "stdout",
     "output_type": "stream",
     "text": [
      "npreg    <class 'pandas.core.series.Series'>\n",
      "glu      <class 'pandas.core.series.Series'>\n",
      "bp       <class 'pandas.core.series.Series'>\n",
      "skin     <class 'pandas.core.series.Series'>\n",
      "bmi      <class 'pandas.core.series.Series'>\n",
      "ped      <class 'pandas.core.series.Series'>\n",
      "age      <class 'pandas.core.series.Series'>\n",
      "type     <class 'pandas.core.series.Series'>\n",
      "dtype: object\n"
     ]
    }
   ],
   "source": [
    "# 행열단위로\n",
    "print(pim.apply(type))"
   ]
  },
  {
   "cell_type": "code",
   "execution_count": 21,
   "metadata": {},
   "outputs": [
    {
     "data": {
      "text/html": [
       "<div>\n",
       "<style scoped>\n",
       "    .dataframe tbody tr th:only-of-type {\n",
       "        vertical-align: middle;\n",
       "    }\n",
       "\n",
       "    .dataframe tbody tr th {\n",
       "        vertical-align: top;\n",
       "    }\n",
       "\n",
       "    .dataframe thead th {\n",
       "        text-align: right;\n",
       "    }\n",
       "</style>\n",
       "<table border=\"1\" class=\"dataframe\">\n",
       "  <thead>\n",
       "    <tr style=\"text-align: right;\">\n",
       "      <th></th>\n",
       "      <th>npreg</th>\n",
       "      <th>glu</th>\n",
       "      <th>bp</th>\n",
       "      <th>skin</th>\n",
       "      <th>bmi</th>\n",
       "      <th>ped</th>\n",
       "      <th>age</th>\n",
       "      <th>type</th>\n",
       "    </tr>\n",
       "  </thead>\n",
       "  <tbody>\n",
       "    <tr>\n",
       "      <td>1</td>\n",
       "      <td>&lt;class 'int'&gt;</td>\n",
       "      <td>&lt;class 'int'&gt;</td>\n",
       "      <td>&lt;class 'int'&gt;</td>\n",
       "      <td>&lt;class 'int'&gt;</td>\n",
       "      <td>&lt;class 'float'&gt;</td>\n",
       "      <td>&lt;class 'float'&gt;</td>\n",
       "      <td>&lt;class 'int'&gt;</td>\n",
       "      <td>&lt;class 'str'&gt;</td>\n",
       "    </tr>\n",
       "  </tbody>\n",
       "</table>\n",
       "</div>"
      ],
      "text/plain": [
       "           npreg            glu             bp           skin  \\\n",
       "1  <class 'int'>  <class 'int'>  <class 'int'>  <class 'int'>   \n",
       "\n",
       "               bmi              ped            age           type  \n",
       "1  <class 'float'>  <class 'float'>  <class 'int'>  <class 'str'>  "
      ]
     },
     "execution_count": 21,
     "metadata": {},
     "output_type": "execute_result"
    }
   ],
   "source": [
    "# 행열별로 요소작용\n",
    "pim.applymap(type).head(1)"
   ]
  },
  {
   "cell_type": "code",
   "execution_count": 66,
   "metadata": {},
   "outputs": [
    {
     "data": {
      "text/plain": [
       "npreg      int64\n",
       "glu        int64\n",
       "bp         int64\n",
       "skin       int64\n",
       "bmi      float64\n",
       "ped      float64\n",
       "age        int64\n",
       "type      object\n",
       "dtype: object"
      ]
     },
     "execution_count": 66,
     "metadata": {},
     "output_type": "execute_result"
    }
   ],
   "source": [
    "pim.dtypes"
   ]
  },
  {
   "cell_type": "code",
   "execution_count": 72,
   "metadata": {},
   "outputs": [
    {
     "name": "stdout",
     "output_type": "stream",
     "text": [
      "데이터갯수 npreg    332\n",
      "glu      332\n",
      "bp       332\n",
      "skin     332\n",
      "bmi      332\n",
      "ped      332\n",
      "age      332\n",
      "type     332\n",
      "dtype: int64\n",
      "(332, 8)\n",
      "(118, 8)\n",
      "npreg      3.484940\n",
      "glu      119.259036\n",
      "bp        71.653614\n",
      "skin      29.162651\n",
      "bmi       33.239759\n",
      "ped        0.528389\n",
      "age       31.316265\n",
      "dtype: float64\n"
     ]
    }
   ],
   "source": [
    "print(\"데이터갯수\",pim.count())\n",
    "print(pim.shape)\n",
    "print(pim[pim[\"bmi\"]<30].shape)\n",
    "print(pim.mean()) # 열별로 평균"
   ]
  },
  {
   "cell_type": "code",
   "execution_count": 73,
   "metadata": {},
   "outputs": [
    {
     "data": {
      "image/png": "[encoded data removed]",
      "text/plain": [
       "<Figure size 432x288 with 1 Axes>"
      ]
     },
     "metadata": {
      "needs_background": "light"
     },
     "output_type": "display_data"
    },
    {
     "data": {
      "image/png": "[encoded data removed]",
      "text/plain": [
       "<Figure size 432x288 with 1 Axes>"
      ]
     },
     "metadata": {
      "needs_background": "light"
     },
     "output_type": "display_data"
    }
   ],
   "source": [
    "import matplotlib.pyplot as plt\n",
    "pim[\"bmi\"].hist() # hostogram(이동소수점:float) vs barplot(이산적)\n",
    "plt.show()\n",
    "pim[\"bmi\"].plot(kind=\"kde\") # interpolation ( 보간법 ) estimator\n",
    "plt.show()"
   ]
  },
  {
   "cell_type": "code",
   "execution_count": 74,
   "metadata": {},
   "outputs": [
    {
     "name": "stdout",
     "output_type": "stream",
     "text": [
      "   npreg  glu  bp  skin   bmi    ped  age type\n",
      "1      6  148  72    35  33.6  0.627   50  Yes\n",
      "2      1   85  66    29  26.6  0.351   31   No\n",
      "3      1   89  66    23  28.1  0.167   21   No\n",
      "4      3   78  50    32  31.0  0.248   26  Yes\n",
      "5      2  197  70    45  30.5  0.158   53  Yes\n"
     ]
    }
   ],
   "source": [
    "print(pim.head())"
   ]
  },
  {
   "cell_type": "code",
   "execution_count": 75,
   "metadata": {},
   "outputs": [
    {
     "data": {
      "text/plain": [
       "<pandas.core.groupby.generic.DataFrameGroupBy object at 0x0000023D18B10908>"
      ]
     },
     "execution_count": 75,
     "metadata": {},
     "output_type": "execute_result"
    }
   ],
   "source": [
    "# type 은 암이 음성이냐 양성이냐를 보여주고 있다.\n",
    "pim.groupby(\"type\") # DataFrameGroupBy 내부적으로 표현"
   ]
  },
  {
   "cell_type": "code",
   "execution_count": null,
   "metadata": {},
   "outputs": [],
   "source": [
    "# 집계함수 sum(), mean(), median(), min(), last()"
   ]
  },
  {
   "cell_type": "code",
   "execution_count": 78,
   "metadata": {},
   "outputs": [
    {
     "data": {
      "text/html": [
       "<div>\n",
       "<style scoped>\n",
       "    .dataframe tbody tr th:only-of-type {\n",
       "        vertical-align: middle;\n",
       "    }\n",
       "\n",
       "    .dataframe tbody tr th {\n",
       "        vertical-align: top;\n",
       "    }\n",
       "\n",
       "    .dataframe thead th {\n",
       "        text-align: right;\n",
       "    }\n",
       "</style>\n",
       "<table border=\"1\" class=\"dataframe\">\n",
       "  <thead>\n",
       "    <tr style=\"text-align: right;\">\n",
       "      <th></th>\n",
       "      <th>npreg</th>\n",
       "      <th>glu</th>\n",
       "      <th>bp</th>\n",
       "      <th>skin</th>\n",
       "      <th>bmi</th>\n",
       "      <th>ped</th>\n",
       "      <th>age</th>\n",
       "    </tr>\n",
       "    <tr>\n",
       "      <th>type</th>\n",
       "      <th></th>\n",
       "      <th></th>\n",
       "      <th></th>\n",
       "      <th></th>\n",
       "      <th></th>\n",
       "      <th></th>\n",
       "      <th></th>\n",
       "    </tr>\n",
       "  </thead>\n",
       "  <tbody>\n",
       "    <tr>\n",
       "      <td>No</td>\n",
       "      <td>2.932735</td>\n",
       "      <td>108.188341</td>\n",
       "      <td>70.130045</td>\n",
       "      <td>27.340807</td>\n",
       "      <td>31.639910</td>\n",
       "      <td>0.464565</td>\n",
       "      <td>29.215247</td>\n",
       "    </tr>\n",
       "    <tr>\n",
       "      <td>Yes</td>\n",
       "      <td>4.614679</td>\n",
       "      <td>141.908257</td>\n",
       "      <td>74.770642</td>\n",
       "      <td>32.889908</td>\n",
       "      <td>36.512844</td>\n",
       "      <td>0.658963</td>\n",
       "      <td>35.614679</td>\n",
       "    </tr>\n",
       "  </tbody>\n",
       "</table>\n",
       "</div>"
      ],
      "text/plain": [
       "         npreg         glu         bp       skin        bmi       ped  \\\n",
       "type                                                                    \n",
       "No    2.932735  108.188341  70.130045  27.340807  31.639910  0.464565   \n",
       "Yes   4.614679  141.908257  74.770642  32.889908  36.512844  0.658963   \n",
       "\n",
       "            age  \n",
       "type             \n",
       "No    29.215247  \n",
       "Yes   35.614679  "
      ]
     },
     "execution_count": 78,
     "metadata": {},
     "output_type": "execute_result"
    }
   ],
   "source": [
    "pim.groupby(\"type\").mean()"
   ]
  },
  {
   "cell_type": "code",
   "execution_count": 79,
   "metadata": {},
   "outputs": [
    {
     "data": {
      "text/html": [
       "<div>\n",
       "<style scoped>\n",
       "    .dataframe tbody tr th:only-of-type {\n",
       "        vertical-align: middle;\n",
       "    }\n",
       "\n",
       "    .dataframe tbody tr th {\n",
       "        vertical-align: top;\n",
       "    }\n",
       "\n",
       "    .dataframe thead th {\n",
       "        text-align: right;\n",
       "    }\n",
       "</style>\n",
       "<table border=\"1\" class=\"dataframe\">\n",
       "  <thead>\n",
       "    <tr style=\"text-align: right;\">\n",
       "      <th></th>\n",
       "      <th>npreg</th>\n",
       "      <th>glu</th>\n",
       "      <th>bp</th>\n",
       "      <th>skin</th>\n",
       "      <th>bmi</th>\n",
       "      <th>ped</th>\n",
       "      <th>age</th>\n",
       "    </tr>\n",
       "    <tr>\n",
       "      <th>type</th>\n",
       "      <th></th>\n",
       "      <th></th>\n",
       "      <th></th>\n",
       "      <th></th>\n",
       "      <th></th>\n",
       "      <th></th>\n",
       "      <th></th>\n",
       "    </tr>\n",
       "  </thead>\n",
       "  <tbody>\n",
       "    <tr>\n",
       "      <td>No</td>\n",
       "      <td>223</td>\n",
       "      <td>223</td>\n",
       "      <td>223</td>\n",
       "      <td>223</td>\n",
       "      <td>223</td>\n",
       "      <td>223</td>\n",
       "      <td>223</td>\n",
       "    </tr>\n",
       "    <tr>\n",
       "      <td>Yes</td>\n",
       "      <td>109</td>\n",
       "      <td>109</td>\n",
       "      <td>109</td>\n",
       "      <td>109</td>\n",
       "      <td>109</td>\n",
       "      <td>109</td>\n",
       "      <td>109</td>\n",
       "    </tr>\n",
       "  </tbody>\n",
       "</table>\n",
       "</div>"
      ],
      "text/plain": [
       "      npreg  glu   bp  skin  bmi  ped  age\n",
       "type                                      \n",
       "No      223  223  223   223  223  223  223\n",
       "Yes     109  109  109   109  109  109  109"
      ]
     },
     "execution_count": 79,
     "metadata": {},
     "output_type": "execute_result"
    }
   ],
   "source": [
    "pim.groupby(\"type\").count()"
   ]
  },
  {
   "cell_type": "code",
   "execution_count": 83,
   "metadata": {},
   "outputs": [
    {
     "data": {
      "text/html": [
       "<div>\n",
       "<style scoped>\n",
       "    .dataframe tbody tr th:only-of-type {\n",
       "        vertical-align: middle;\n",
       "    }\n",
       "\n",
       "    .dataframe tbody tr th {\n",
       "        vertical-align: top;\n",
       "    }\n",
       "\n",
       "    .dataframe thead th {\n",
       "        text-align: right;\n",
       "    }\n",
       "</style>\n",
       "<table border=\"1\" class=\"dataframe\">\n",
       "  <thead>\n",
       "    <tr style=\"text-align: right;\">\n",
       "      <th></th>\n",
       "      <th>npreg</th>\n",
       "      <th>glu</th>\n",
       "      <th>bp</th>\n",
       "      <th>skin</th>\n",
       "      <th>bmi</th>\n",
       "      <th>ped</th>\n",
       "      <th>age</th>\n",
       "    </tr>\n",
       "    <tr>\n",
       "      <th>type</th>\n",
       "      <th></th>\n",
       "      <th></th>\n",
       "      <th></th>\n",
       "      <th></th>\n",
       "      <th></th>\n",
       "      <th></th>\n",
       "      <th></th>\n",
       "    </tr>\n",
       "  </thead>\n",
       "  <tbody>\n",
       "    <tr>\n",
       "      <td>No</td>\n",
       "      <td>2.781852</td>\n",
       "      <td>22.645932</td>\n",
       "      <td>12.381916</td>\n",
       "      <td>9.567705</td>\n",
       "      <td>6.648015</td>\n",
       "      <td>0.315157</td>\n",
       "      <td>10.131493</td>\n",
       "    </tr>\n",
       "    <tr>\n",
       "      <td>Yes</td>\n",
       "      <td>3.901349</td>\n",
       "      <td>32.035727</td>\n",
       "      <td>13.128026</td>\n",
       "      <td>9.065951</td>\n",
       "      <td>7.457548</td>\n",
       "      <td>0.417949</td>\n",
       "      <td>10.390441</td>\n",
       "    </tr>\n",
       "  </tbody>\n",
       "</table>\n",
       "</div>"
      ],
      "text/plain": [
       "         npreg        glu         bp      skin       bmi       ped        age\n",
       "type                                                                         \n",
       "No    2.781852  22.645932  12.381916  9.567705  6.648015  0.315157  10.131493\n",
       "Yes   3.901349  32.035727  13.128026  9.065951  7.457548  0.417949  10.390441"
      ]
     },
     "execution_count": 83,
     "metadata": {},
     "output_type": "execute_result"
    }
   ],
   "source": [
    "grouped_by_type = pim.groupby(\"type\")\n",
    "grouped_by_type.mean()\n",
    "grouped_by_type.std()"
   ]
  },
  {
   "cell_type": "code",
   "execution_count": 84,
   "metadata": {},
   "outputs": [
    {
     "data": {
      "text/html": [
       "<div>\n",
       "<style scoped>\n",
       "    .dataframe tbody tr th:only-of-type {\n",
       "        vertical-align: middle;\n",
       "    }\n",
       "\n",
       "    .dataframe tbody tr th {\n",
       "        vertical-align: top;\n",
       "    }\n",
       "\n",
       "    .dataframe thead tr th {\n",
       "        text-align: left;\n",
       "    }\n",
       "\n",
       "    .dataframe thead tr:last-of-type th {\n",
       "        text-align: right;\n",
       "    }\n",
       "</style>\n",
       "<table border=\"1\" class=\"dataframe\">\n",
       "  <thead>\n",
       "    <tr>\n",
       "      <th></th>\n",
       "      <th colspan=\"2\" halign=\"left\">npreg</th>\n",
       "      <th colspan=\"2\" halign=\"left\">glu</th>\n",
       "      <th colspan=\"2\" halign=\"left\">bp</th>\n",
       "      <th colspan=\"2\" halign=\"left\">skin</th>\n",
       "      <th colspan=\"2\" halign=\"left\">bmi</th>\n",
       "      <th colspan=\"2\" halign=\"left\">ped</th>\n",
       "      <th colspan=\"2\" halign=\"left\">age</th>\n",
       "    </tr>\n",
       "    <tr>\n",
       "      <th></th>\n",
       "      <th>mean</th>\n",
       "      <th>std</th>\n",
       "      <th>mean</th>\n",
       "      <th>std</th>\n",
       "      <th>mean</th>\n",
       "      <th>std</th>\n",
       "      <th>mean</th>\n",
       "      <th>std</th>\n",
       "      <th>mean</th>\n",
       "      <th>std</th>\n",
       "      <th>mean</th>\n",
       "      <th>std</th>\n",
       "      <th>mean</th>\n",
       "      <th>std</th>\n",
       "    </tr>\n",
       "    <tr>\n",
       "      <th>type</th>\n",
       "      <th></th>\n",
       "      <th></th>\n",
       "      <th></th>\n",
       "      <th></th>\n",
       "      <th></th>\n",
       "      <th></th>\n",
       "      <th></th>\n",
       "      <th></th>\n",
       "      <th></th>\n",
       "      <th></th>\n",
       "      <th></th>\n",
       "      <th></th>\n",
       "      <th></th>\n",
       "      <th></th>\n",
       "    </tr>\n",
       "  </thead>\n",
       "  <tbody>\n",
       "    <tr>\n",
       "      <td>No</td>\n",
       "      <td>2.932735</td>\n",
       "      <td>2.781852</td>\n",
       "      <td>108.188341</td>\n",
       "      <td>22.645932</td>\n",
       "      <td>70.130045</td>\n",
       "      <td>12.381916</td>\n",
       "      <td>27.340807</td>\n",
       "      <td>9.567705</td>\n",
       "      <td>31.639910</td>\n",
       "      <td>6.648015</td>\n",
       "      <td>0.464565</td>\n",
       "      <td>0.315157</td>\n",
       "      <td>29.215247</td>\n",
       "      <td>10.131493</td>\n",
       "    </tr>\n",
       "    <tr>\n",
       "      <td>Yes</td>\n",
       "      <td>4.614679</td>\n",
       "      <td>3.901349</td>\n",
       "      <td>141.908257</td>\n",
       "      <td>32.035727</td>\n",
       "      <td>74.770642</td>\n",
       "      <td>13.128026</td>\n",
       "      <td>32.889908</td>\n",
       "      <td>9.065951</td>\n",
       "      <td>36.512844</td>\n",
       "      <td>7.457548</td>\n",
       "      <td>0.658963</td>\n",
       "      <td>0.417949</td>\n",
       "      <td>35.614679</td>\n",
       "      <td>10.390441</td>\n",
       "    </tr>\n",
       "  </tbody>\n",
       "</table>\n",
       "</div>"
      ],
      "text/plain": [
       "         npreg                   glu                    bp             \\\n",
       "          mean       std        mean        std       mean        std   \n",
       "type                                                                    \n",
       "No    2.932735  2.781852  108.188341  22.645932  70.130045  12.381916   \n",
       "Yes   4.614679  3.901349  141.908257  32.035727  74.770642  13.128026   \n",
       "\n",
       "           skin                  bmi                 ped                  age  \\\n",
       "           mean       std       mean       std      mean       std       mean   \n",
       "type                                                                            \n",
       "No    27.340807  9.567705  31.639910  6.648015  0.464565  0.315157  29.215247   \n",
       "Yes   32.889908  9.065951  36.512844  7.457548  0.658963  0.417949  35.614679   \n",
       "\n",
       "                 \n",
       "            std  \n",
       "type             \n",
       "No    10.131493  \n",
       "Yes   10.390441  "
      ]
     },
     "execution_count": 84,
     "metadata": {},
     "output_type": "execute_result"
    }
   ],
   "source": [
    "grouped_by_type.agg([np.mean, np.std])"
   ]
  },
  {
   "cell_type": "code",
   "execution_count": 85,
   "metadata": {},
   "outputs": [
    {
     "name": "stdout",
     "output_type": "stream",
     "text": [
      "32.88990825688074\n"
     ]
    }
   ],
   "source": [
    "print(np.mean(pim[pim[\"type\"]==\"Yes\"][\"skin\"]))"
   ]
  },
  {
   "cell_type": "code",
   "execution_count": 86,
   "metadata": {},
   "outputs": [
    {
     "name": "stdout",
     "output_type": "stream",
     "text": [
      "9.024268451930087\n"
     ]
    }
   ],
   "source": [
    "print(np.std(pim[pim[\"type\"]==\"Yes\"][\"skin\"]))"
   ]
  },
  {
   "cell_type": "code",
   "execution_count": 2,
   "metadata": {},
   "outputs": [
    {
     "data": {
      "text/html": [
       "<div>\n",
       "<style scoped>\n",
       "    .dataframe tbody tr th:only-of-type {\n",
       "        vertical-align: middle;\n",
       "    }\n",
       "\n",
       "    .dataframe tbody tr th {\n",
       "        vertical-align: top;\n",
       "    }\n",
       "\n",
       "    .dataframe thead th {\n",
       "        text-align: right;\n",
       "    }\n",
       "</style>\n",
       "<table border=\"1\" class=\"dataframe\">\n",
       "  <thead>\n",
       "    <tr style=\"text-align: right;\">\n",
       "      <th></th>\n",
       "      <th>Date/Time</th>\n",
       "      <th>Temp (C)</th>\n",
       "      <th>Dew Point Temp (C)</th>\n",
       "      <th>Rel Hum (%)</th>\n",
       "      <th>Wind Spd (km/h)</th>\n",
       "      <th>Visibility (km)</th>\n",
       "      <th>Stn Press (kPa)</th>\n",
       "      <th>Weather</th>\n",
       "    </tr>\n",
       "  </thead>\n",
       "  <tbody>\n",
       "    <tr>\n",
       "      <td>0</td>\n",
       "      <td>2012-01-01 00:00:00</td>\n",
       "      <td>-1.8</td>\n",
       "      <td>-3.9</td>\n",
       "      <td>86</td>\n",
       "      <td>4</td>\n",
       "      <td>8.0</td>\n",
       "      <td>101.24</td>\n",
       "      <td>Fog</td>\n",
       "    </tr>\n",
       "    <tr>\n",
       "      <td>1</td>\n",
       "      <td>2012-01-01 01:00:00</td>\n",
       "      <td>-1.8</td>\n",
       "      <td>-3.7</td>\n",
       "      <td>87</td>\n",
       "      <td>4</td>\n",
       "      <td>8.0</td>\n",
       "      <td>101.24</td>\n",
       "      <td>Fog</td>\n",
       "    </tr>\n",
       "    <tr>\n",
       "      <td>2</td>\n",
       "      <td>2012-01-01 02:00:00</td>\n",
       "      <td>-1.8</td>\n",
       "      <td>-3.4</td>\n",
       "      <td>89</td>\n",
       "      <td>7</td>\n",
       "      <td>4.0</td>\n",
       "      <td>101.26</td>\n",
       "      <td>Freezing Drizzle,Fog</td>\n",
       "    </tr>\n",
       "    <tr>\n",
       "      <td>3</td>\n",
       "      <td>2012-01-01 03:00:00</td>\n",
       "      <td>-1.5</td>\n",
       "      <td>-3.2</td>\n",
       "      <td>88</td>\n",
       "      <td>6</td>\n",
       "      <td>4.0</td>\n",
       "      <td>101.27</td>\n",
       "      <td>Freezing Drizzle,Fog</td>\n",
       "    </tr>\n",
       "    <tr>\n",
       "      <td>4</td>\n",
       "      <td>2012-01-01 04:00:00</td>\n",
       "      <td>-1.5</td>\n",
       "      <td>-3.3</td>\n",
       "      <td>88</td>\n",
       "      <td>7</td>\n",
       "      <td>4.8</td>\n",
       "      <td>101.23</td>\n",
       "      <td>Fog</td>\n",
       "    </tr>\n",
       "  </tbody>\n",
       "</table>\n",
       "</div>"
      ],
      "text/plain": [
       "             Date/Time  Temp (C)  Dew Point Temp (C)  Rel Hum (%)  \\\n",
       "0  2012-01-01 00:00:00      -1.8                -3.9           86   \n",
       "1  2012-01-01 01:00:00      -1.8                -3.7           87   \n",
       "2  2012-01-01 02:00:00      -1.8                -3.4           89   \n",
       "3  2012-01-01 03:00:00      -1.5                -3.2           88   \n",
       "4  2012-01-01 04:00:00      -1.5                -3.3           88   \n",
       "\n",
       "   Wind Spd (km/h)  Visibility (km)  Stn Press (kPa)               Weather  \n",
       "0                4              8.0           101.24                   Fog  \n",
       "1                4              8.0           101.24                   Fog  \n",
       "2                7              4.0           101.26  Freezing Drizzle,Fog  \n",
       "3                6              4.0           101.27  Freezing Drizzle,Fog  \n",
       "4                7              4.8           101.23                   Fog  "
      ]
     },
     "execution_count": 2,
     "metadata": {},
     "output_type": "execute_result"
    }
   ],
   "source": [
    "# pandas는 시계열 분석 지원, DataTimeindex를 지원\n",
    "weather_2012_final = pd.read_csv(\"we_2012.csv\")\n",
    "weather_2012_final.head()"
   ]
  },
  {
   "cell_type": "markdown",
   "metadata": {},
   "source": [
    "# 시간데이터 Datetimeindex를 만드는 방법\n",
    "date_range() # 일정한 주기와 기간을 정해서 생성할 때\n",
    "to_datetime() # 기존에 있는 시간데이터를 변환"
   ]
  },
  {
   "cell_type": "code",
   "execution_count": 3,
   "metadata": {},
   "outputs": [],
   "source": [
    "index = pd.to_datetime(weather_2012_final[\"Date/Time\"])\n",
    "weather_2012_final.index= index"
   ]
  },
  {
   "cell_type": "code",
   "execution_count": 4,
   "metadata": {},
   "outputs": [
    {
     "data": {
      "text/html": [
       "<div>\n",
       "<style scoped>\n",
       "    .dataframe tbody tr th:only-of-type {\n",
       "        vertical-align: middle;\n",
       "    }\n",
       "\n",
       "    .dataframe tbody tr th {\n",
       "        vertical-align: top;\n",
       "    }\n",
       "\n",
       "    .dataframe thead th {\n",
       "        text-align: right;\n",
       "    }\n",
       "</style>\n",
       "<table border=\"1\" class=\"dataframe\">\n",
       "  <thead>\n",
       "    <tr style=\"text-align: right;\">\n",
       "      <th></th>\n",
       "      <th>Date/Time</th>\n",
       "      <th>Temp (C)</th>\n",
       "      <th>Dew Point Temp (C)</th>\n",
       "      <th>Rel Hum (%)</th>\n",
       "      <th>Wind Spd (km/h)</th>\n",
       "      <th>Visibility (km)</th>\n",
       "      <th>Stn Press (kPa)</th>\n",
       "      <th>Weather</th>\n",
       "    </tr>\n",
       "    <tr>\n",
       "      <th>Date/Time</th>\n",
       "      <th></th>\n",
       "      <th></th>\n",
       "      <th></th>\n",
       "      <th></th>\n",
       "      <th></th>\n",
       "      <th></th>\n",
       "      <th></th>\n",
       "      <th></th>\n",
       "    </tr>\n",
       "  </thead>\n",
       "  <tbody>\n",
       "    <tr>\n",
       "      <td>2012-01-01 00:00:00</td>\n",
       "      <td>2012-01-01 00:00:00</td>\n",
       "      <td>-1.8</td>\n",
       "      <td>-3.9</td>\n",
       "      <td>86</td>\n",
       "      <td>4</td>\n",
       "      <td>8.0</td>\n",
       "      <td>101.24</td>\n",
       "      <td>Fog</td>\n",
       "    </tr>\n",
       "    <tr>\n",
       "      <td>2012-01-01 01:00:00</td>\n",
       "      <td>2012-01-01 01:00:00</td>\n",
       "      <td>-1.8</td>\n",
       "      <td>-3.7</td>\n",
       "      <td>87</td>\n",
       "      <td>4</td>\n",
       "      <td>8.0</td>\n",
       "      <td>101.24</td>\n",
       "      <td>Fog</td>\n",
       "    </tr>\n",
       "    <tr>\n",
       "      <td>2012-01-01 02:00:00</td>\n",
       "      <td>2012-01-01 02:00:00</td>\n",
       "      <td>-1.8</td>\n",
       "      <td>-3.4</td>\n",
       "      <td>89</td>\n",
       "      <td>7</td>\n",
       "      <td>4.0</td>\n",
       "      <td>101.26</td>\n",
       "      <td>Freezing Drizzle,Fog</td>\n",
       "    </tr>\n",
       "    <tr>\n",
       "      <td>2012-01-01 03:00:00</td>\n",
       "      <td>2012-01-01 03:00:00</td>\n",
       "      <td>-1.5</td>\n",
       "      <td>-3.2</td>\n",
       "      <td>88</td>\n",
       "      <td>6</td>\n",
       "      <td>4.0</td>\n",
       "      <td>101.27</td>\n",
       "      <td>Freezing Drizzle,Fog</td>\n",
       "    </tr>\n",
       "    <tr>\n",
       "      <td>2012-01-01 04:00:00</td>\n",
       "      <td>2012-01-01 04:00:00</td>\n",
       "      <td>-1.5</td>\n",
       "      <td>-3.3</td>\n",
       "      <td>88</td>\n",
       "      <td>7</td>\n",
       "      <td>4.8</td>\n",
       "      <td>101.23</td>\n",
       "      <td>Fog</td>\n",
       "    </tr>\n",
       "  </tbody>\n",
       "</table>\n",
       "</div>"
      ],
      "text/plain": [
       "                               Date/Time  Temp (C)  Dew Point Temp (C)  \\\n",
       "Date/Time                                                                \n",
       "2012-01-01 00:00:00  2012-01-01 00:00:00      -1.8                -3.9   \n",
       "2012-01-01 01:00:00  2012-01-01 01:00:00      -1.8                -3.7   \n",
       "2012-01-01 02:00:00  2012-01-01 02:00:00      -1.8                -3.4   \n",
       "2012-01-01 03:00:00  2012-01-01 03:00:00      -1.5                -3.2   \n",
       "2012-01-01 04:00:00  2012-01-01 04:00:00      -1.5                -3.3   \n",
       "\n",
       "                     Rel Hum (%)  Wind Spd (km/h)  Visibility (km)  \\\n",
       "Date/Time                                                            \n",
       "2012-01-01 00:00:00           86                4              8.0   \n",
       "2012-01-01 01:00:00           87                4              8.0   \n",
       "2012-01-01 02:00:00           89                7              4.0   \n",
       "2012-01-01 03:00:00           88                6              4.0   \n",
       "2012-01-01 04:00:00           88                7              4.8   \n",
       "\n",
       "                     Stn Press (kPa)               Weather  \n",
       "Date/Time                                                   \n",
       "2012-01-01 00:00:00           101.24                   Fog  \n",
       "2012-01-01 01:00:00           101.24                   Fog  \n",
       "2012-01-01 02:00:00           101.26  Freezing Drizzle,Fog  \n",
       "2012-01-01 03:00:00           101.27  Freezing Drizzle,Fog  \n",
       "2012-01-01 04:00:00           101.23                   Fog  "
      ]
     },
     "execution_count": 4,
     "metadata": {},
     "output_type": "execute_result"
    }
   ],
   "source": [
    "weather_2012_final.head()\n",
    "# 왼쪽 Date/Time은 Index 오른쪽 Date/Time은 가져온 데이터 => 질이 다르다! (인덱스로 변환해줘야함)"
   ]
  },
  {
   "cell_type": "code",
   "execution_count": 5,
   "metadata": {},
   "outputs": [
    {
     "name": "stdout",
     "output_type": "stream",
     "text": [
      "(8784, 7)\n",
      "                     Temp (C)  Dew Point Temp (C)  Rel Hum (%)  \\\n",
      "Date/Time                                                        \n",
      "2012-01-01 00:00:00      -1.8                -3.9           86   \n",
      "2012-01-01 01:00:00      -1.8                -3.7           87   \n",
      "2012-01-01 02:00:00      -1.8                -3.4           89   \n",
      "\n",
      "                     Wind Spd (km/h)  Visibility (km)  Stn Press (kPa)  \\\n",
      "Date/Time                                                                \n",
      "2012-01-01 00:00:00                4              8.0           101.24   \n",
      "2012-01-01 01:00:00                4              8.0           101.24   \n",
      "2012-01-01 02:00:00                7              4.0           101.26   \n",
      "\n",
      "                                  Weather  \n",
      "Date/Time                                  \n",
      "2012-01-01 00:00:00                   Fog  \n",
      "2012-01-01 01:00:00                   Fog  \n",
      "2012-01-01 02:00:00  Freezing Drizzle,Fog  \n"
     ]
    }
   ],
   "source": [
    "del(weather_2012_final[\"Date/Time\"])\n",
    "print(weather_2012_final.shape)\n",
    "print(weather_2012_final.head(3))"
   ]
  },
  {
   "cell_type": "code",
   "execution_count": 6,
   "metadata": {},
   "outputs": [],
   "source": [
    "bigFilePath = \"we_2012.csv\"\n",
    "# 날짜 인덱스로 자동으로 변환해 주고\n",
    "# 대량의 데이터인 경우 chunksize\n",
    "chunker = pd.read_csv(bigFilePath, chunksize=1000,\n",
    "                     index_col=\"Date/Time\",encoding=\"UTF-8\")\n",
    "weather_2012_final = pd.concat([x for x in chunker],ignore_index=True)"
   ]
  },
  {
   "cell_type": "code",
   "execution_count": 7,
   "metadata": {},
   "outputs": [
    {
     "name": "stdout",
     "output_type": "stream",
     "text": [
      "          Temp (C)  Dew Point Temp (C)  Rel Hum (%)  Wind Spd (km/h)  \\\n",
      "count  8784.000000         8784.000000  8784.000000      8784.000000   \n",
      "mean      8.798144            2.555294    67.431694        14.945469   \n",
      "std      11.687883           10.883072    16.918881         8.688696   \n",
      "min     -23.300000          -28.500000    18.000000         0.000000   \n",
      "25%       0.100000           -5.900000    56.000000         9.000000   \n",
      "50%       9.300000            3.300000    68.000000        13.000000   \n",
      "75%      18.800000           11.800000    81.000000        20.000000   \n",
      "max      33.000000           24.400000   100.000000        83.000000   \n",
      "\n",
      "       Visibility (km)  Stn Press (kPa)  \n",
      "count      8784.000000      8784.000000  \n",
      "mean         27.664447       101.051623  \n",
      "std          12.622688         0.844005  \n",
      "min           0.200000        97.520000  \n",
      "25%          24.100000       100.560000  \n",
      "50%          25.000000       101.070000  \n",
      "75%          25.000000       101.590000  \n",
      "max          48.300000       103.650000  \n"
     ]
    },
    {
     "data": {
      "text/plain": [
       "Temp (C)              float64\n",
       "Dew Point Temp (C)    float64\n",
       "Rel Hum (%)             int64\n",
       "Wind Spd (km/h)         int64\n",
       "Visibility (km)       float64\n",
       "Stn Press (kPa)       float64\n",
       "Weather                object\n",
       "dtype: object"
      ]
     },
     "execution_count": 7,
     "metadata": {},
     "output_type": "execute_result"
    }
   ],
   "source": [
    "print(weather_2012_final.describe())\n",
    "weather_2012_final.dtypes"
   ]
  },
  {
   "cell_type": "code",
   "execution_count": 8,
   "metadata": {},
   "outputs": [
    {
     "data": {
      "text/plain": [
       "<matplotlib.axes._subplots.AxesSubplot at 0x1fd5fc50788>"
      ]
     },
     "execution_count": 8,
     "metadata": {},
     "output_type": "execute_result"
    }
   ],
   "source": [
    "weather_2012_final['Temp (C)'].plot(figsize=(30,12))"
   ]
  },
  {
   "cell_type": "code",
   "execution_count": 9,
   "metadata": {},
   "outputs": [
    {
     "data": {
      "text/plain": [
       "<matplotlib.axes._subplots.AxesSubplot at 0x1fd60d4de08>"
      ]
     },
     "execution_count": 9,
     "metadata": {},
     "output_type": "execute_result"
    },
    {
     "data": {
      "image/png": "[encoded data removed]",
      "text/plain": [
       "<Figure size 432x288 with 1 Axes>"
      ]
     },
     "metadata": {
      "needs_background": "light"
     },
     "output_type": "display_data"
    }
   ],
   "source": [
    "weather_2012_final.boxplot()"
   ]
  },
  {
   "cell_type": "code",
   "execution_count": 10,
   "metadata": {},
   "outputs": [
    {
     "name": "stdout",
     "output_type": "stream",
     "text": [
      "결측치 Temp (C)              8784\n",
      "Dew Point Temp (C)    8784\n",
      "Rel Hum (%)           8784\n",
      "Wind Spd (km/h)       8784\n",
      "Visibility (km)       8784\n",
      "Stn Press (kPa)       8784\n",
      "Weather               8784\n",
      "dtype: int64\n"
     ]
    }
   ],
   "source": [
    "print(\"결측치\",weather_2012_final.count())"
   ]
  },
  {
   "cell_type": "code",
   "execution_count": 11,
   "metadata": {},
   "outputs": [
    {
     "name": "stdout",
     "output_type": "stream",
     "text": [
      "0\n"
     ]
    }
   ],
   "source": [
    "print(weather_2012_final.isnull().values.sum()) # null의 개수"
   ]
  },
  {
   "cell_type": "code",
   "execution_count": 12,
   "metadata": {},
   "outputs": [
    {
     "name": "stdout",
     "output_type": "stream",
     "text": [
      "Temp (C)              False\n",
      "Dew Point Temp (C)    False\n",
      "Rel Hum (%)           False\n",
      "Wind Spd (km/h)       False\n",
      "Visibility (km)       False\n",
      "Stn Press (kPa)       False\n",
      "Weather               False\n",
      "dtype: bool\n"
     ]
    }
   ],
   "source": [
    "print(weather_2012_final.isnull().any()) # "
   ]
  },
  {
   "cell_type": "code",
   "execution_count": 23,
   "metadata": {},
   "outputs": [],
   "source": [
    "# 결측치 없애는 법\n",
    "# axis = 1 좌우로 없애기\n",
    "weather_2012_final = weather_2012_final.dropna(axis=1, how='any')"
   ]
  },
  {
   "cell_type": "markdown",
   "metadata": {},
   "source": [
    "# 각 변수의 min-max값의 차를 출력하시오. (함수)"
   ]
  },
  {
   "cell_type": "code",
   "execution_count": 27,
   "metadata": {},
   "outputs": [
    {
     "data": {
      "text/html": [
       "<div>\n",
       "<style scoped>\n",
       "    .dataframe tbody tr th:only-of-type {\n",
       "        vertical-align: middle;\n",
       "    }\n",
       "\n",
       "    .dataframe tbody tr th {\n",
       "        vertical-align: top;\n",
       "    }\n",
       "\n",
       "    .dataframe thead th {\n",
       "        text-align: right;\n",
       "    }\n",
       "</style>\n",
       "<table border=\"1\" class=\"dataframe\">\n",
       "  <thead>\n",
       "    <tr style=\"text-align: right;\">\n",
       "      <th></th>\n",
       "      <th>Temp (C)</th>\n",
       "      <th>Dew Point Temp (C)</th>\n",
       "      <th>Rel Hum (%)</th>\n",
       "      <th>Wind Spd (km/h)</th>\n",
       "      <th>Visibility (km)</th>\n",
       "      <th>Stn Press (kPa)</th>\n",
       "      <th>Weather</th>\n",
       "    </tr>\n",
       "  </thead>\n",
       "  <tbody>\n",
       "    <tr>\n",
       "      <td>0</td>\n",
       "      <td>-1.8</td>\n",
       "      <td>-3.9</td>\n",
       "      <td>86</td>\n",
       "      <td>4</td>\n",
       "      <td>8.0</td>\n",
       "      <td>101.24</td>\n",
       "      <td>Fog</td>\n",
       "    </tr>\n",
       "    <tr>\n",
       "      <td>1</td>\n",
       "      <td>-1.8</td>\n",
       "      <td>-3.7</td>\n",
       "      <td>87</td>\n",
       "      <td>4</td>\n",
       "      <td>8.0</td>\n",
       "      <td>101.24</td>\n",
       "      <td>Fog</td>\n",
       "    </tr>\n",
       "    <tr>\n",
       "      <td>2</td>\n",
       "      <td>-1.8</td>\n",
       "      <td>-3.4</td>\n",
       "      <td>89</td>\n",
       "      <td>7</td>\n",
       "      <td>4.0</td>\n",
       "      <td>101.26</td>\n",
       "      <td>Freezing Drizzle,Fog</td>\n",
       "    </tr>\n",
       "    <tr>\n",
       "      <td>3</td>\n",
       "      <td>-1.5</td>\n",
       "      <td>-3.2</td>\n",
       "      <td>88</td>\n",
       "      <td>6</td>\n",
       "      <td>4.0</td>\n",
       "      <td>101.27</td>\n",
       "      <td>Freezing Drizzle,Fog</td>\n",
       "    </tr>\n",
       "    <tr>\n",
       "      <td>4</td>\n",
       "      <td>-1.5</td>\n",
       "      <td>-3.3</td>\n",
       "      <td>88</td>\n",
       "      <td>7</td>\n",
       "      <td>4.8</td>\n",
       "      <td>101.23</td>\n",
       "      <td>Fog</td>\n",
       "    </tr>\n",
       "  </tbody>\n",
       "</table>\n",
       "</div>"
      ],
      "text/plain": [
       "   Temp (C)  Dew Point Temp (C)  Rel Hum (%)  Wind Spd (km/h)  \\\n",
       "0      -1.8                -3.9           86                4   \n",
       "1      -1.8                -3.7           87                4   \n",
       "2      -1.8                -3.4           89                7   \n",
       "3      -1.5                -3.2           88                6   \n",
       "4      -1.5                -3.3           88                7   \n",
       "\n",
       "   Visibility (km)  Stn Press (kPa)               Weather  \n",
       "0              8.0           101.24                   Fog  \n",
       "1              8.0           101.24                   Fog  \n",
       "2              4.0           101.26  Freezing Drizzle,Fog  \n",
       "3              4.0           101.27  Freezing Drizzle,Fog  \n",
       "4              4.8           101.23                   Fog  "
      ]
     },
     "execution_count": 27,
     "metadata": {},
     "output_type": "execute_result"
    }
   ],
   "source": [
    "weather_2012_final.head()"
   ]
  },
  {
   "cell_type": "code",
   "execution_count": 40,
   "metadata": {},
   "outputs": [
    {
     "data": {
      "text/plain": [
       "Temp (C)              float64\n",
       "Dew Point Temp (C)    float64\n",
       "Rel Hum (%)             int64\n",
       "Wind Spd (km/h)         int64\n",
       "Visibility (km)       float64\n",
       "Stn Press (kPa)       float64\n",
       "Weather                object\n",
       "dtype: object"
      ]
     },
     "execution_count": 40,
     "metadata": {},
     "output_type": "execute_result"
    }
   ],
   "source": [
    "weather_2012_final.dtypes"
   ]
  },
  {
   "cell_type": "code",
   "execution_count": 38,
   "metadata": {
    "scrolled": true
   },
   "outputs": [
    {
     "name": "stdout",
     "output_type": "stream",
     "text": [
      "함수 객체의 열 적용 (행방향) Temp (C)              56.30\n",
      "Dew Point Temp (C)    52.90\n",
      "Rel Hum (%)           82.00\n",
      "Wind Spd (km/h)       83.00\n",
      "Visibility (km)       48.10\n",
      "Stn Press (kPa)        6.13\n",
      "dtype: float64\n"
     ]
    }
   ],
   "source": [
    "f=lambda x: x.max()-x.min()\n",
    "weather_2012_final_num = weather_2012_final.iloc[:,:6]\n",
    "print(\"함수 객체의 열 적용 (행방향)\",weather_2012_final_num.apply(f)) # 문자열이기 때문에 ERROR"
   ]
  },
  {
   "cell_type": "code",
   "execution_count": 39,
   "metadata": {},
   "outputs": [
    {
     "name": "stdout",
     "output_type": "stream",
     "text": [
      "함수 객체의 열 적용 (행방향) Temp (C)              56.30\n",
      "Dew Point Temp (C)    52.90\n",
      "Rel Hum (%)           82.00\n",
      "Wind Spd (km/h)       83.00\n",
      "Visibility (km)       48.10\n",
      "Stn Press (kPa)        6.13\n",
      "dtype: float64\n"
     ]
    }
   ],
   "source": [
    "import numpy as np\n",
    "#ptp(point to point) : min-max\n",
    "print(\"함수 객체의 열 적용 (행방향)\",weather_2012_final_num.apply(np.ptp))"
   ]
  },
  {
   "cell_type": "code",
   "execution_count": 43,
   "metadata": {},
   "outputs": [
    {
     "name": "stdout",
     "output_type": "stream",
     "text": [
      "['./same__files\\\\1763.csv', './same__files\\\\1764.csv', './same__files\\\\1765.csv', './same__files\\\\1766.csv', './same__files\\\\1767.csv', './same__files\\\\1768.csv', './same__files\\\\1769.csv', './same__files\\\\1770.csv', './same__files\\\\1771.csv', './same__files\\\\1772.csv']\n",
      "1763.csv\n",
      "1763\n"
     ]
    },
    {
     "data": {
      "text/plain": [
       "('1763', '')"
      ]
     },
     "execution_count": 43,
     "metadata": {},
     "output_type": "execute_result"
    }
   ],
   "source": [
    "import glob\n",
    "import os\n",
    "import pandas as pd\n",
    "filePathList = glob.glob(\"./same__files/*.csv\") # glob.glob *: 모든 csv파일을 읽어들이는 것\n",
    "#                                                 /same__files/ : glsr 한글파일\n",
    "print(filePathList)\n",
    "temp = os.path.basename(filePathList[0]) # 화일,확장자\n",
    "print(temp) # 1763.csv\n",
    "\n",
    "temp=os.path.splitext(temp)[0]\n",
    "print(temp)\n",
    "os.path.splitext(temp)"
   ]
  },
  {
   "cell_type": "code",
   "execution_count": 45,
   "metadata": {},
   "outputs": [],
   "source": [
    "# data_1763이라는 변수로 리딩\n",
    "# vars() 메모리에 있는 변수들\n",
    "for i in range(0, len(filePathList)):\n",
    "    temp = os.path.basename(filePathList[i])\n",
    "    temp = os.path.splitext(temp)[0]\n",
    "    vars()[\"data_\"+str(temp)] = pd.read_csv(filePathList[i])"
   ]
  },
  {
   "cell_type": "code",
   "execution_count": 47,
   "metadata": {},
   "outputs": [
    {
     "name": "stdout",
     "output_type": "stream",
     "text": [
      "   ITE00100554  17630101  TMAX  -36  Unnamed: 4 Unnamed: 5  E  Unnamed: 7\n",
      "0  ITE00100554  17630101  TMIN  -50         NaN        NaN  E         NaN\n",
      "1  ITE00100554  17630102  TMAX  -26         NaN        NaN  E         NaN\n",
      "2  ITE00100554  17630102  TMIN  -40         NaN        NaN  E         NaN\n",
      "(729, 8)\n"
     ]
    }
   ],
   "source": [
    "print(data_1763.head(3))\n",
    "print(data_1770.shape)"
   ]
  },
  {
   "cell_type": "code",
   "execution_count": 4,
   "metadata": {},
   "outputs": [
    {
     "data": {
      "text/html": [
       "<div>\n",
       "<style scoped>\n",
       "    .dataframe tbody tr th:only-of-type {\n",
       "        vertical-align: middle;\n",
       "    }\n",
       "\n",
       "    .dataframe tbody tr th {\n",
       "        vertical-align: top;\n",
       "    }\n",
       "\n",
       "    .dataframe thead th {\n",
       "        text-align: right;\n",
       "    }\n",
       "</style>\n",
       "<table border=\"1\" class=\"dataframe\">\n",
       "  <thead>\n",
       "    <tr style=\"text-align: right;\">\n",
       "      <th></th>\n",
       "      <th>Customer Number</th>\n",
       "      <th>Customer Name</th>\n",
       "      <th>2016</th>\n",
       "      <th>2017</th>\n",
       "      <th>Percent Growth</th>\n",
       "      <th>Jan Units</th>\n",
       "      <th>Month</th>\n",
       "      <th>Day</th>\n",
       "      <th>Year</th>\n",
       "      <th>Active</th>\n",
       "    </tr>\n",
       "  </thead>\n",
       "  <tbody>\n",
       "    <tr>\n",
       "      <td>0</td>\n",
       "      <td>10002.0</td>\n",
       "      <td>Quest Industries</td>\n",
       "      <td>$125,000.00</td>\n",
       "      <td>$162500.00</td>\n",
       "      <td>30.00%</td>\n",
       "      <td>500</td>\n",
       "      <td>1</td>\n",
       "      <td>10</td>\n",
       "      <td>2015</td>\n",
       "      <td>Y</td>\n",
       "    </tr>\n",
       "    <tr>\n",
       "      <td>1</td>\n",
       "      <td>552278.0</td>\n",
       "      <td>Smith Plumbing</td>\n",
       "      <td>$920,000.00</td>\n",
       "      <td>$101,2000.00</td>\n",
       "      <td>10.00%</td>\n",
       "      <td>700</td>\n",
       "      <td>6</td>\n",
       "      <td>15</td>\n",
       "      <td>2014</td>\n",
       "      <td>Y</td>\n",
       "    </tr>\n",
       "    <tr>\n",
       "      <td>2</td>\n",
       "      <td>23477.0</td>\n",
       "      <td>ACME Industrial</td>\n",
       "      <td>$50,000.00</td>\n",
       "      <td>$62500.00</td>\n",
       "      <td>25.00%</td>\n",
       "      <td>125</td>\n",
       "      <td>3</td>\n",
       "      <td>29</td>\n",
       "      <td>2016</td>\n",
       "      <td>Y</td>\n",
       "    </tr>\n",
       "    <tr>\n",
       "      <td>3</td>\n",
       "      <td>24900.0</td>\n",
       "      <td>Brekke LTD</td>\n",
       "      <td>$350,000.00</td>\n",
       "      <td>$490000.00</td>\n",
       "      <td>4.00%</td>\n",
       "      <td>75</td>\n",
       "      <td>10</td>\n",
       "      <td>27</td>\n",
       "      <td>2015</td>\n",
       "      <td>Y</td>\n",
       "    </tr>\n",
       "    <tr>\n",
       "      <td>4</td>\n",
       "      <td>651029.0</td>\n",
       "      <td>Harbor Co</td>\n",
       "      <td>$15,000.00</td>\n",
       "      <td>$12750.00</td>\n",
       "      <td>-15.00%</td>\n",
       "      <td>Closed</td>\n",
       "      <td>2</td>\n",
       "      <td>2</td>\n",
       "      <td>2014</td>\n",
       "      <td>N</td>\n",
       "    </tr>\n",
       "  </tbody>\n",
       "</table>\n",
       "</div>"
      ],
      "text/plain": [
       "   Customer Number     Customer Name         2016          2017  \\\n",
       "0          10002.0  Quest Industries  $125,000.00    $162500.00   \n",
       "1         552278.0    Smith Plumbing  $920,000.00  $101,2000.00   \n",
       "2          23477.0   ACME Industrial   $50,000.00     $62500.00   \n",
       "3          24900.0        Brekke LTD  $350,000.00    $490000.00   \n",
       "4         651029.0         Harbor Co   $15,000.00     $12750.00   \n",
       "\n",
       "  Percent Growth Jan Units  Month  Day  Year Active  \n",
       "0         30.00%       500      1   10  2015      Y  \n",
       "1         10.00%       700      6   15  2014      Y  \n",
       "2         25.00%       125      3   29  2016      Y  \n",
       "3          4.00%        75     10   27  2015      Y  \n",
       "4        -15.00%    Closed      2    2  2014      N  "
      ]
     },
     "execution_count": 4,
     "metadata": {},
     "output_type": "execute_result"
    }
   ],
   "source": [
    "import pandas as pd\n",
    "df = pd.read_csv(\"./sales.csv\")\n",
    "df"
   ]
  },
  {
   "cell_type": "code",
   "execution_count": 5,
   "metadata": {},
   "outputs": [
    {
     "data": {
      "text/plain": [
       "Customer Number    float64\n",
       "Customer Name       object\n",
       "2016                object\n",
       "2017                object\n",
       "Percent Growth      object\n",
       "Jan Units           object\n",
       "Month                int64\n",
       "Day                  int64\n",
       "Year                 int64\n",
       "Active              object\n",
       "dtype: object"
      ]
     },
     "execution_count": 5,
     "metadata": {},
     "output_type": "execute_result"
    }
   ],
   "source": [
    "df.dtypes"
   ]
  },
  {
   "cell_type": "code",
   "execution_count": 7,
   "metadata": {},
   "outputs": [],
   "source": [
    "# 1) 정수 => 부동소수점으로 인식\n",
    "df[\"Customer Number\"] = df[\"Customer Number\"].astype('int')"
   ]
  },
  {
   "cell_type": "code",
   "execution_count": 8,
   "metadata": {},
   "outputs": [],
   "source": [
    "# 2) $를 제거 -\n",
    "df['2017']=df['2017'].map(lambda x: x.replace('$',''))\n",
    "df['2017']=df['2017'].map(lambda x: x.replace(',',''))\n",
    "df['2017']=df['2017'].astype('float')\n",
    "df['2016']=df['2016'].str.replace(\"$\",\"\")\n",
    "df['2016']=df['2016'].str.replace(\",\",\"\")\n",
    "df['2016']=df['2016'].astype('float')"
   ]
  },
  {
   "cell_type": "code",
   "execution_count": 10,
   "metadata": {},
   "outputs": [],
   "source": [
    "df['Active']=df['Active']=='Y'"
   ]
  },
  {
   "cell_type": "code",
   "execution_count": 12,
   "metadata": {},
   "outputs": [],
   "source": [
    "# 3) %를 제거\n",
    "def convert_percent(val):\n",
    "    new_val = val.replace('%','')\n",
    "    return float(new_val)/100\n",
    "df['Percent Growth'] =df['Percent Growth'].map(convert_percent)"
   ]
  },
  {
   "cell_type": "code",
   "execution_count": 15,
   "metadata": {},
   "outputs": [],
   "source": [
    "# 4) 숫자에 문자 제거\n",
    "# 문자하고 숫자가 있는 경우\n",
    "df['Jan Units'] = pd.to_numeric(df['Jan Units'],errors='coerce') # ignore, raise"
   ]
  },
  {
   "cell_type": "code",
   "execution_count": 16,
   "metadata": {},
   "outputs": [
    {
     "data": {
      "text/plain": [
       "Customer Number      int32\n",
       "Customer Name       object\n",
       "2016               float64\n",
       "2017               float64\n",
       "Percent Growth     float64\n",
       "Jan Units          float64\n",
       "Month                int64\n",
       "Day                  int64\n",
       "Year                 int64\n",
       "Active                bool\n",
       "dtype: object"
      ]
     },
     "execution_count": 16,
     "metadata": {},
     "output_type": "execute_result"
    }
   ],
   "source": [
    "df.dtypes"
   ]
  },
  {
   "cell_type": "code",
   "execution_count": 17,
   "metadata": {},
   "outputs": [
    {
     "data": {
      "text/html": [
       "<div>\n",
       "<style scoped>\n",
       "    .dataframe tbody tr th:only-of-type {\n",
       "        vertical-align: middle;\n",
       "    }\n",
       "\n",
       "    .dataframe tbody tr th {\n",
       "        vertical-align: top;\n",
       "    }\n",
       "\n",
       "    .dataframe thead th {\n",
       "        text-align: right;\n",
       "    }\n",
       "</style>\n",
       "<table border=\"1\" class=\"dataframe\">\n",
       "  <thead>\n",
       "    <tr style=\"text-align: right;\">\n",
       "      <th></th>\n",
       "      <th>Customer Number</th>\n",
       "      <th>Customer Name</th>\n",
       "      <th>2016</th>\n",
       "      <th>2017</th>\n",
       "      <th>Percent Growth</th>\n",
       "      <th>Jan Units</th>\n",
       "      <th>Month</th>\n",
       "      <th>Day</th>\n",
       "      <th>Year</th>\n",
       "      <th>Active</th>\n",
       "    </tr>\n",
       "  </thead>\n",
       "  <tbody>\n",
       "    <tr>\n",
       "      <td>0</td>\n",
       "      <td>10002</td>\n",
       "      <td>Quest Industries</td>\n",
       "      <td>125000.0</td>\n",
       "      <td>162500.0</td>\n",
       "      <td>0.30</td>\n",
       "      <td>500.0</td>\n",
       "      <td>1</td>\n",
       "      <td>10</td>\n",
       "      <td>2015</td>\n",
       "      <td>True</td>\n",
       "    </tr>\n",
       "    <tr>\n",
       "      <td>1</td>\n",
       "      <td>552278</td>\n",
       "      <td>Smith Plumbing</td>\n",
       "      <td>920000.0</td>\n",
       "      <td>1012000.0</td>\n",
       "      <td>0.10</td>\n",
       "      <td>700.0</td>\n",
       "      <td>6</td>\n",
       "      <td>15</td>\n",
       "      <td>2014</td>\n",
       "      <td>True</td>\n",
       "    </tr>\n",
       "    <tr>\n",
       "      <td>2</td>\n",
       "      <td>23477</td>\n",
       "      <td>ACME Industrial</td>\n",
       "      <td>50000.0</td>\n",
       "      <td>62500.0</td>\n",
       "      <td>0.25</td>\n",
       "      <td>125.0</td>\n",
       "      <td>3</td>\n",
       "      <td>29</td>\n",
       "      <td>2016</td>\n",
       "      <td>True</td>\n",
       "    </tr>\n",
       "    <tr>\n",
       "      <td>3</td>\n",
       "      <td>24900</td>\n",
       "      <td>Brekke LTD</td>\n",
       "      <td>350000.0</td>\n",
       "      <td>490000.0</td>\n",
       "      <td>0.04</td>\n",
       "      <td>75.0</td>\n",
       "      <td>10</td>\n",
       "      <td>27</td>\n",
       "      <td>2015</td>\n",
       "      <td>True</td>\n",
       "    </tr>\n",
       "    <tr>\n",
       "      <td>4</td>\n",
       "      <td>651029</td>\n",
       "      <td>Harbor Co</td>\n",
       "      <td>15000.0</td>\n",
       "      <td>12750.0</td>\n",
       "      <td>-0.15</td>\n",
       "      <td>NaN</td>\n",
       "      <td>2</td>\n",
       "      <td>2</td>\n",
       "      <td>2014</td>\n",
       "      <td>False</td>\n",
       "    </tr>\n",
       "  </tbody>\n",
       "</table>\n",
       "</div>"
      ],
      "text/plain": [
       "   Customer Number     Customer Name      2016       2017  Percent Growth  \\\n",
       "0            10002  Quest Industries  125000.0   162500.0            0.30   \n",
       "1           552278    Smith Plumbing  920000.0  1012000.0            0.10   \n",
       "2            23477   ACME Industrial   50000.0    62500.0            0.25   \n",
       "3            24900        Brekke LTD  350000.0   490000.0            0.04   \n",
       "4           651029         Harbor Co   15000.0    12750.0           -0.15   \n",
       "\n",
       "   Jan Units  Month  Day  Year  Active  \n",
       "0      500.0      1   10  2015    True  \n",
       "1      700.0      6   15  2014    True  \n",
       "2      125.0      3   29  2016    True  \n",
       "3       75.0     10   27  2015    True  \n",
       "4        NaN      2    2  2014   False  "
      ]
     },
     "execution_count": 17,
     "metadata": {},
     "output_type": "execute_result"
    }
   ],
   "source": [
    "df.head()"
   ]
  },
  {
   "cell_type": "code",
   "execution_count": null,
   "metadata": {},
   "outputs": [],
   "source": [
    "# 5) Y: 1, N: 0를 .boolean형으로 변경해야 함"
   ]
  },
  {
   "cell_type": "code",
   "execution_count": null,
   "metadata": {},
   "outputs": [],
   "source": [
    "# gender열과 resident 열을 출력하시오.\n",
    "# rice는 평균, age는 합계를 계산하시오."
   ]
  },
  {
   "cell_type": "code",
   "execution_count": 20,
   "metadata": {},
   "outputs": [
    {
     "name": "stdout",
     "output_type": "stream",
     "text": [
      "  resident     gender                job              age          position  \\\n",
      "0        1          1                  1              26                  2   \n",
      "1        2          1                  2              54                  5   \n",
      "2                   1                  2              41                  4   \n",
      "3        4          2                                 45                  4   \n",
      "4        5          1                  3              62                  5   \n",
      "\n",
      "             price  survey  \n",
      "0            5.10        1  \n",
      "1            4.20        2  \n",
      "2            4.70        4  \n",
      "3            3.50        2  \n",
      "4            5.00        1  \n",
      "['resident', '   gender', '               job', '             age', '         position', '           price', 'survey']\n"
     ]
    }
   ],
   "source": [
    "df = pd.read_csv(\"./dataset.csv\",encoding=\"UTF-8\")\n",
    "print(df.head())\n",
    "# df['poistion'] # 이름에 공백이 있다. ERROR\n",
    "print(df.columns.tolist())"
   ]
  },
  {
   "cell_type": "code",
   "execution_count": 21,
   "metadata": {},
   "outputs": [
    {
     "name": "stdout",
     "output_type": "stream",
     "text": [
      "['resident', 'gender', 'job', 'age', 'position', 'price', 'survey']\n",
      "           gender      survey\n",
      "count  300.000000  300.000000\n",
      "mean     1.420000    2.656667\n",
      "std      0.545826    0.837333\n",
      "min      0.000000    1.000000\n",
      "25%      1.000000    2.000000\n",
      "50%      1.000000    3.000000\n",
      "75%      2.000000    3.000000\n",
      "max      5.000000    5.000000\n"
     ]
    }
   ],
   "source": [
    "df.columns = df.columns.str.strip() # 공백제거 Istrip(), rstip()\n",
    "print(df.columns.tolist())\n",
    "print(df.describe())"
   ]
  },
  {
   "cell_type": "code",
   "execution_count": 22,
   "metadata": {},
   "outputs": [
    {
     "data": {
      "text/plain": [
       "resident    object\n",
       "gender       int64\n",
       "job         object\n",
       "age         object\n",
       "position    object\n",
       "price       object\n",
       "survey       int64\n",
       "dtype: object"
      ]
     },
     "execution_count": 22,
     "metadata": {},
     "output_type": "execute_result"
    }
   ],
   "source": [
    "df.dtypes"
   ]
  },
  {
   "cell_type": "code",
   "execution_count": 24,
   "metadata": {},
   "outputs": [],
   "source": [
    "df[\"age\"] = pd.to_numeric(df[\"age\"],errors='ignore')"
   ]
  },
  {
   "cell_type": "code",
   "execution_count": 27,
   "metadata": {},
   "outputs": [],
   "source": [
    "df[\"price\"]=df[\"price\"].astype(str).str.strip()\n",
    "df[\"price\"].fillna('',inplace=True) # na\n",
    "df[\"price\"] = pd.to_numeric(df[\"price\"],errors='ignore')"
   ]
  },
  {
   "cell_type": "code",
   "execution_count": 28,
   "metadata": {},
   "outputs": [
    {
     "data": {
      "text/plain": [
       "8.75148148148148"
      ]
     },
     "execution_count": 28,
     "metadata": {},
     "output_type": "execute_result"
    }
   ],
   "source": [
    "df[\"price\"].mean()"
   ]
  },
  {
   "cell_type": "code",
   "execution_count": 29,
   "metadata": {},
   "outputs": [
    {
     "data": {
      "text/plain": [
       "'26 54 41 45 62 57 36         56 37 29 35 56 20 63 49 49 49 25 57 56 21 69 63 30 34 26 59 38 57 60 49 65         49 23 63         45 29 28 65 60 32 25         38 65         24 61 41 63 30 37 22 29         25 36 47 64         28 65 24 62 62 28 63         26 40 52         43 44 30 48 41 54 44 29 31 49 64 65 46 42 38 65 40 42 40 55 41 63 45 59 43         63 47 45 44         27 37 35 69 20         20 24 46 25         21 53 33 56 45 60 38         63 41 27 37 20 63 49 49 21 69 63 30 34 26 59 38 57 60 49 65         49 23 63         45 29 28 65 60 32 25         38 65         24 61 41 63 30 37 22 29         25 36 47 64         28 65 24 62 62 28 63         26 40 52         43 44 30 48 41 54 44 29 31 49 64 65 46 42 38 65 40 42 40 55 41 63 45 59 43         63 47 45 44         27 37 35 69 20         20 24 46 25         21 53 47 48 22 48 21 51 64 27 64 54         42 54 25 54 60         63 43 21 23 24 33 56 45 60 38         63 20 60 20 24 46 25 50 21 64 27 64 54         42 54 25 54 60         63 43 21 23 24 63 41 27 47 48 22 48 21 55 43 20 26 24 59 45 27 '"
      ]
     },
     "execution_count": 29,
     "metadata": {},
     "output_type": "execute_result"
    }
   ],
   "source": [
    "df[\"age\"].sum()"
   ]
  },
  {
   "cell_type": "code",
   "execution_count": null,
   "metadata": {},
   "outputs": [],
   "source": [
    "import pymysql\n",
    "import numpy\n",
    "import pandas as pd"
   ]
  },
  {
   "cell_type": "code",
   "execution_count": null,
   "metadata": {},
   "outputs": [],
   "source": [
    "coon = pymysql.connect(host=\"IP주소\",port=3306,user ='root', passwd='root',db='acornschool',charset='utfmb4',\n",
    "                      cursorclass=pymysql, cursors.DicCursor)"
   ]
  },
  {
   "cell_type": "code",
   "execution_count": null,
   "metadata": {},
   "outputs": [],
   "source": [
    "cursor = conn.cursor()\n",
    "cursor.execute(\"select * from sungjuk\") # Recordset: 데이터베이스\n",
    "rez = cursor.fetchall() # list\n",
    "rez"
   ]
  },
  {
   "cell_type": "code",
   "execution_count": null,
   "metadata": {},
   "outputs": [],
   "source": [
    "df =pd.DataFrame(rez)\n",
    "print(df.describe())\n",
    "print(df.dtypes)\n",
    "print(df.shape)"
   ]
  },
  {
   "cell_type": "code",
   "execution_count": null,
   "metadata": {},
   "outputs": [],
   "source": [
    "%matplotlib inline\n",
    "df.plot.bar()"
   ]
  },
  {
   "cell_type": "code",
   "execution_count": null,
   "metadata": {},
   "outputs": [],
   "source": [
    "df_numeric = df[['eng','kor','mat']]\n",
    "print(type(df_numeric.dtypes))\n",
    "print(df_numeric.dtypes)\n",
    "df_numeric.apply([sum,max])"
   ]
  },
  {
   "cell_type": "code",
   "execution_count": null,
   "metadata": {},
   "outputs": [],
   "source": [
    "df_numeric.apply([sum,max], axis=1)"
   ]
  },
  {
   "cell_type": "code",
   "execution_count": null,
   "metadata": {},
   "outputs": [],
   "source": [
    "# 문제:\n",
    "- 학년과 반 필드를 추가하라\n",
    "- 학년과 반 정보를 입력하고 학년 반 별 평균을 출력하도록 한다."
   ]
  },
  {
   "cell_type": "code",
   "execution_count": null,
   "metadata": {},
   "outputs": [],
   "source": [
    "df_numeric['ban']=[1,2,1,2,1,2,2]\n",
    "df_numeric['class']=[1,1,1,2,2,2,2]"
   ]
  },
  {
   "cell_type": "code",
   "execution_count": null,
   "metadata": {},
   "outputs": [],
   "source": [
    "# groupby와 pivot_table의 차이\n",
    "pd.pivot_table(df_numeric, index=['ban'],\n",
    "              columns=['kor','eng','mat'], aggfunc=[np.mean])"
   ]
  },
  {
   "cell_type": "markdown",
   "metadata": {},
   "source": [
    "# 저장시는 이미 테이블이 존재하는 경우\n",
    "- fail, replace(있는 것을 대체), append(기존 테이블에 추가)\n",
    "- 데이터베이스는 생성이 되어 있어야함"
   ]
  },
  {
   "cell_type": "code",
   "execution_count": null,
   "metadata": {},
   "outputs": [],
   "source": [
    "import seaborn as sns\n",
    "titanic = sns.load_dataset('titanic')\n",
    "titanic.head()"
   ]
  },
  {
   "cell_type": "code",
   "execution_count": null,
   "metadata": {},
   "outputs": [],
   "source": [
    "from sqlalchemy import create_engine\n",
    "import pymysql\n",
    "pymysql.install_as_MySQLdb()\n",
    "import MySQLdb"
   ]
  },
  {
   "cell_type": "code",
   "execution_count": null,
   "metadata": {},
   "outputs": [],
   "source": [
    "engine = create_engine(\n",
    "\"mysql+mysqldb://root:\"+\"비번\"+\"@내아이피/acornschool\",encoding='utf-8') \n",
    "conn = engine.connect()"
   ]
  },
  {
   "cell_type": "code",
   "execution_count": null,
   "metadata": {},
   "outputs": [],
   "source": [
    "titanic.to_sql(name=\"titanic, con=engine, if_exists='replace,index=False'\")"
   ]
  },
  {
   "cell_type": "code",
   "execution_count": null,
   "metadata": {},
   "outputs": [],
   "source": [
    "SQL = \"DEXC titianic\"\n",
    "df = pd.read_sql(SQL,corn)\n",
    "df"
   ]
  },
  {
   "cell_type": "code",
   "execution_count": null,
   "metadata": {},
   "outputs": [],
   "source": [
    "# 와인데이터를 로딩한 다음 => 데이터베이스에 wine 이라는 테이블이름으로 저장하시오.\n",
    "# 다시 읽어 오시오."
   ]
  }
 ],
 "metadata": {
  "kernelspec": {
   "display_name": "Python 3",
   "language": "python",
   "name": "python3"
  },
  "language_info": {
   "codemirror_mode": {
    "name": "ipython",
    "version": 3
   },
   "file_extension": ".py",
   "mimetype": "text/x-python",
   "name": "python",
   "nbconvert_exporter": "python",
   "pygments_lexer": "ipython3",
   "version": "3.7.4"
  }
 },
 "nbformat": 4,
 "nbformat_minor": 2
}
