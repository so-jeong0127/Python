{
 "cells": [
  {
   "cell_type": "code",
   "execution_count": null,
   "metadata": {},
   "outputs": [],
   "source": [
    "# 반복문"
   ]
  },
  {
   "cell_type": "code",
   "execution_count": 2,
   "metadata": {},
   "outputs": [
    {
     "name": "stdout",
     "output_type": "stream",
     "text": [
      "7 2 4\n",
      "3 8\n"
     ]
    }
   ],
   "source": [
    "num1 = 6\n",
    "num1 += 1 # num1 = num1 + 1\n",
    "num2 = 7\n",
    "num2 -= 5 # num2 = num2 - 5\n",
    "num3 = 8\n",
    "num3 /= 2 # num3 = num3/2\n",
    "print(num1,num2,round(num3))\n",
    "num1 = 1\n",
    "num1 *= 3\n",
    "num2 = 2\n",
    "num2 **= 3 # ^ : **\n",
    "print(num1,num2)"
   ]
  },
  {
   "cell_type": "code",
   "execution_count": 3,
   "metadata": {},
   "outputs": [
    {
     "name": "stdout",
     "output_type": "stream",
     "text": [
      "Non-nefative\n"
     ]
    }
   ],
   "source": [
    "# 3항 연산자\n",
    "x=5\n",
    "ans='Non-nefative' if x>=0 else 'Negative'\n",
    "print(ans) # 문자열 (str)"
   ]
  },
  {
   "cell_type": "code",
   "execution_count": null,
   "metadata": {},
   "outputs": [],
   "source": [
    "city = '' # 문자열 거짓, 하지만 공백이 생일 경우 ' ' 문자열 참\n",
    "# 거짓인 경우 -> 숫자:0, list:[], dict:{}, tuple:()\n",
    "if city: # 조건문이 참인 경우만 실행\n",
    "    print('empty city')"
   ]
  },
  {
   "cell_type": "code",
   "execution_count": 2,
   "metadata": {},
   "outputs": [
    {
     "name": "stdout",
     "output_type": "stream",
     "text": [
      "2019-12-26 11:07:32.237415\n",
      "\n",
      "생년월일(19951031)을 입력하시오19970127\n",
      "당신의 나이는  23\n",
      "당신은 미성년자가 아닙니다.\n"
     ]
    }
   ],
   "source": [
    "# 날짜의 입력은 문자열\n",
    "# 특수하게 해석해서 년월일로 해석\n",
    "import datetime\n",
    "dt = datetime.datetime.now() # 함수는 ()를 사용해야 함\n",
    "print(dt)\n",
    "print()\n",
    "# 데이터 입력\n",
    "age = input(\"생년월일(19951031)을 입력하시오\")\n",
    "# 데이터 처리\n",
    "year = int(age[0:4]) # 마지막은 미포함\n",
    "month = int(age[4:6])\n",
    "day = int(age[6:])\n",
    "# 빼기 연산\n",
    "# 분산: 상계방지 (제곱)\n",
    "year_dift = dt.year - year\n",
    "month_dift = dt.month - month\n",
    "day_dift = dt.day - day\n",
    "if day_dift < 0: # 일 내림 처리\n",
    "    month_dift -= 1\n",
    "if month_dift < 0: # 월 내림 처리\n",
    "    year_dift -= 1\n",
    "# 데이터 출력\n",
    "print(\"당신의 나이는 \", year_dift + 1)\n",
    "if year_dift < 18:\n",
    "    print(\"당신은 미성년자입니다.\")\n",
    "else:\n",
    "    print(\"당신은 미성년자가 아닙니다.\")"
   ]
  },
  {
   "cell_type": "code",
   "execution_count": null,
   "metadata": {},
   "outputs": [],
   "source": [
    "# 데이터입력 -> 처리(연산자), 제어문(판단무느 한가지 규칙을 여러데이터에 적용: 반복문)"
   ]
  },
  {
   "cell_type": "code",
   "execution_count": null,
   "metadata": {},
   "outputs": [],
   "source": [
    "# for\n",
    "# for(i=0; i<100; i++){} : 인덱스 오버플로우\n",
    "# for in 문"
   ]
  },
  {
   "cell_type": "code",
   "execution_count": 4,
   "metadata": {},
   "outputs": [
    {
     "name": "stdout",
     "output_type": "stream",
     "text": [
      "earth air fire water "
     ]
    }
   ],
   "source": [
    "# 데이터를 이용하는 방법\n",
    "elements = [\"earth\",\"air\",\"fire\",\"water\"]\n",
    "for i in elements: # i = \"earth\" # Collections, iterator, generator, enumerate\n",
    "    print(i, end = ' ') # 기본 end는 '\\n'으로 되어있음"
   ]
  },
  {
   "cell_type": "code",
   "execution_count": null,
   "metadata": {},
   "outputs": [],
   "source": [
    "# Collections: list, tuple, dict, set\n",
    "#iterator: range -> (i=0; i<100; i++)와 같은 방법으로 사용 (start, end, step)\n",
    "#generator: 데이터 생성, 메모리를 차지하지 않음\n",
    "#enumerate: 매핑을 해줌 (0: earth, 1: air, 2: fire, 3: water)"
   ]
  },
  {
   "cell_type": "code",
   "execution_count": 6,
   "metadata": {},
   "outputs": [
    {
     "name": "stdout",
     "output_type": "stream",
     "text": [
      "0\n",
      "1\n",
      "2\n",
      "3\n",
      "4\n"
     ]
    }
   ],
   "source": [
    "for i in range(5): # 최종값\n",
    "    print(i)"
   ]
  },
  {
   "cell_type": "code",
   "execution_count": 7,
   "metadata": {},
   "outputs": [
    {
     "name": "stdout",
     "output_type": "stream",
     "text": [
      "2\n",
      "3\n",
      "4\n"
     ]
    }
   ],
   "source": [
    "# 파이썬은 오버로딩이 없음: default 값으로 처리\n",
    "for i in range(2,5):\n",
    "    print(i)"
   ]
  },
  {
   "cell_type": "code",
   "execution_count": 9,
   "metadata": {},
   "outputs": [
    {
     "name": "stdout",
     "output_type": "stream",
     "text": [
      "0\n",
      "2\n",
      "4\n",
      "6\n",
      "8\n"
     ]
    }
   ],
   "source": [
    "for i in range(0,10,2): # start, end, step\n",
    "    print(i)"
   ]
  },
  {
   "cell_type": "code",
   "execution_count": 10,
   "metadata": {},
   "outputs": [
    {
     "name": "stdout",
     "output_type": "stream",
     "text": [
      "0\n",
      "earth\n",
      "1\n",
      "air\n",
      "2\n",
      "fire\n",
      "3\n",
      "water\n"
     ]
    }
   ],
   "source": [
    "# 인덱스를 이용하는 방법\n",
    "for i in range(4): # 0,1,2,3\n",
    "    print(i)\n",
    "    print(elements[i]) "
   ]
  },
  {
   "cell_type": "code",
   "execution_count": 15,
   "metadata": {},
   "outputs": [
    {
     "name": "stdout",
     "output_type": "stream",
     "text": [
      "<range_iterator object at 0x00000211097EE730>\n",
      "[3, 2, 1, 0]\n"
     ]
    }
   ],
   "source": [
    "# range는 객체다.\n",
    "# for문 안에 있을 때 제대로 표현\n",
    "ra = range(4) #reversed(range(4)) # 반대로 출력하는 함수: reversed()\n",
    "print(ra)\n",
    "print(list(ra)) # 리스트로 캐스팅"
   ]
  },
  {
   "cell_type": "code",
   "execution_count": 16,
   "metadata": {},
   "outputs": [
    {
     "name": "stdout",
     "output_type": "stream",
     "text": [
      "[5, 4, 3, 2, 1, 0]\n"
     ]
    }
   ],
   "source": [
    "print(list(range(5,-1,-1)))"
   ]
  },
  {
   "cell_type": "code",
   "execution_count": 17,
   "metadata": {},
   "outputs": [
    {
     "name": "stdout",
     "output_type": "stream",
     "text": [
      "55\n"
     ]
    }
   ],
   "source": [
    "# 증가변수, 누적변수\n",
    "sum = 0\n",
    "for x in range(1,11):\n",
    "    #sum = sum + x\n",
    "    sum += x\n",
    "print(sum)    "
   ]
  },
  {
   "cell_type": "code",
   "execution_count": 20,
   "metadata": {},
   "outputs": [
    {
     "name": "stdout",
     "output_type": "stream",
     "text": [
      "\n",
      "2 * 2 = 4   2 * 3 = 6   2 * 4 = 8   2 * 5 = 10   2 * 6 = 12   2 * 7 = 14   2 * 8 = 16   2 * 9 = 18   \n",
      "3 * 2 = 6   3 * 3 = 9   3 * 4 = 12   3 * 5 = 15   3 * 6 = 18   3 * 7 = 21   3 * 8 = 24   3 * 9 = 27   "
     ]
    }
   ],
   "source": [
    "# 중첩된 for문\n",
    "for x in range(2,4):\n",
    "    # x=2, y=2,3,4,5,6,7,8,9\n",
    "    # x=3, y=2,3,4,5,6,7,8,9\n",
    "    print()\n",
    "    for y in range(2,10):\n",
    "        print(x, '*', y, '=', x*y, end='   ')"
   ]
  },
  {
   "cell_type": "code",
   "execution_count": 25,
   "metadata": {
    "scrolled": true
   },
   "outputs": [
    {
     "name": "stdout",
     "output_type": "stream",
     "text": [
      "\n",
      "2 * 2 = 4 \t 3 * 2 = 6 \t 4 * 2 = 8 \t 5 * 2 = 10 \t 6 * 2 = 12 \t 7 * 2 = 14 \t \n",
      "2 * 3 = 6 \t 3 * 3 = 9 \t 4 * 3 = 12 \t 5 * 3 = 15 \t 6 * 3 = 18 \t 7 * 3 = 21 \t \n",
      "2 * 4 = 8 \t 3 * 4 = 12 \t 4 * 4 = 16 \t 5 * 4 = 20 \t 6 * 4 = 24 \t 7 * 4 = 28 \t \n",
      "2 * 5 = 10 \t 3 * 5 = 15 \t 4 * 5 = 20 \t 5 * 5 = 25 \t 6 * 5 = 30 \t 7 * 5 = 35 \t \n",
      "2 * 6 = 12 \t 3 * 6 = 18 \t 4 * 6 = 24 \t 5 * 6 = 30 \t 6 * 6 = 36 \t 7 * 6 = 42 \t \n",
      "2 * 7 = 14 \t 3 * 7 = 21 \t 4 * 7 = 28 \t 5 * 7 = 35 \t 6 * 7 = 42 \t 7 * 7 = 49 \t \n",
      "2 * 8 = 16 \t 3 * 8 = 24 \t 4 * 8 = 32 \t 5 * 8 = 40 \t 6 * 8 = 48 \t 7 * 8 = 56 \t \n",
      "2 * 9 = 18 \t 3 * 9 = 27 \t 4 * 9 = 36 \t 5 * 9 = 45 \t 6 * 9 = 54 \t 7 * 9 = 63 \t "
     ]
    }
   ],
   "source": [
    "for x in range(2,10):\n",
    "    print()\n",
    "    for y in range(2,8):\n",
    "        print(y, '*', x, '=', y*x, end='\\t')"
   ]
  },
  {
   "cell_type": "code",
   "execution_count": 26,
   "metadata": {},
   "outputs": [
    {
     "data": {
      "text/plain": [
       "[0, 1, 2, 3, 4, 5, 6, 7, 8, 9]"
      ]
     },
     "execution_count": 26,
     "metadata": {},
     "output_type": "execute_result"
    }
   ],
   "source": [
    "# 내장리스트: 동적으로 데이터 생성\n",
    "[i for i in range(10)]"
   ]
  },
  {
   "cell_type": "code",
   "execution_count": 27,
   "metadata": {},
   "outputs": [
    {
     "data": {
      "text/plain": [
       "[0, 1, 4, 9, 16, 25, 36, 49, 64, 81]"
      ]
     },
     "execution_count": 27,
     "metadata": {},
     "output_type": "execute_result"
    }
   ],
   "source": [
    "[i**2 for i in range(10)]"
   ]
  },
  {
   "cell_type": "code",
   "execution_count": 30,
   "metadata": {},
   "outputs": [
    {
     "data": {
      "text/plain": [
       "{0: 0, 1: 1, 2: 8, 3: 27, 4: 64, 5: 125, 6: 216, 7: 343, 8: 512, 9: 729}"
      ]
     },
     "execution_count": 30,
     "metadata": {},
     "output_type": "execute_result"
    }
   ],
   "source": [
    "{i: i**3 for i in range(10)}"
   ]
  },
  {
   "cell_type": "code",
   "execution_count": 31,
   "metadata": {},
   "outputs": [
    {
     "data": {
      "text/plain": [
       "{0, 4, 16, 36, 64}"
      ]
     },
     "execution_count": 31,
     "metadata": {},
     "output_type": "execute_result"
    }
   ],
   "source": [
    "{i**2 for i in range(10) if i%2 == 0}"
   ]
  },
  {
   "cell_type": "code",
   "execution_count": 32,
   "metadata": {},
   "outputs": [
    {
     "data": {
      "text/plain": [
       "[(1, 10),\n",
       " (1, 11),\n",
       " (1, 12),\n",
       " (1, 13),\n",
       " (1, 14),\n",
       " (2, 10),\n",
       " (2, 11),\n",
       " (2, 12),\n",
       " (2, 13),\n",
       " (2, 14),\n",
       " (3, 10),\n",
       " (3, 11),\n",
       " (3, 12),\n",
       " (3, 13),\n",
       " (3, 14),\n",
       " (4, 10),\n",
       " (4, 11),\n",
       " (4, 12),\n",
       " (4, 13),\n",
       " (4, 14)]"
      ]
     },
     "execution_count": 32,
     "metadata": {},
     "output_type": "execute_result"
    }
   ],
   "source": [
    "#for r in rows:\n",
    "#    for c in cols:\n",
    "#        (r,c)\n",
    "rows = range(1,5)\n",
    "cols = range(10,15)\n",
    "vectors = [(r,c) for r in rows for c in cols]\n",
    "vectors"
   ]
  },
  {
   "cell_type": "code",
   "execution_count": 35,
   "metadata": {},
   "outputs": [
    {
     "data": {
      "text/plain": [
       "[1,\n",
       " 2,\n",
       " '3의 배수',\n",
       " 4,\n",
       " '5의 배수',\n",
       " '3의 배수',\n",
       " 7,\n",
       " 8,\n",
       " '3의 배수',\n",
       " '5의 배수',\n",
       " 11,\n",
       " '3의 배수',\n",
       " 13,\n",
       " 14,\n",
       " '3의 배수5의 배수',\n",
       " 16,\n",
       " 17,\n",
       " '3의 배수',\n",
       " 19,\n",
       " '5의 배수']"
      ]
     },
     "execution_count": 35,
     "metadata": {},
     "output_type": "execute_result"
    }
   ],
   "source": [
    "# 문자열 연산자 +,* (반복)\n",
    "# 앞이 참이면 뒤의 것을 계산하지 않음\n",
    "# TRUE == 1, FALSE == 0\n",
    "[\"3의 배수\" * (i%3==0) + \"5의 배수\" * (i%5==0) or i for i in range(1,21)]"
   ]
  },
  {
   "cell_type": "code",
   "execution_count": 37,
   "metadata": {},
   "outputs": [
    {
     "name": "stdout",
     "output_type": "stream",
     "text": [
      "점수입력 :  65\n",
      "D\n",
      "점수입력 :  40\n",
      "F\n",
      "점수입력 :  85\n",
      "B\n",
      "점수입력 :  100\n",
      "A\n",
      "점수입력 :  0\n"
     ]
    }
   ],
   "source": [
    "# 점수를 입력받아 A,B,C,D,F학점으로 출력하시오.(점수를 학점으로 mapping)\n",
    "while True: # 무한루프\n",
    "    print('점수입력 : ', end = ' ')\n",
    "    jumsu = int(input())\n",
    "    if jumsu ==0: # 무한루프인 경우 종요조건 지정\n",
    "        break # 반복문 종료명령\n",
    "    if jumsu >= 90: print('A')\n",
    "    elif jumsu >= 80: print('B')\n",
    "    elif jumsu >= 70: print('C')\n",
    "    elif jumsu >= 60: print('D')\n",
    "    else: print('F')"
   ]
  },
  {
   "cell_type": "code",
   "execution_count": 40,
   "metadata": {},
   "outputs": [
    {
     "name": "stdout",
     "output_type": "stream",
     "text": [
      "번호를 입력하시오.: 1\n",
      " 이름을 입력하시오: 이소정\n",
      "국어 점수 입력: 100\n",
      "영어 점수 입력: 90\n",
      "수학 점수 입력: 80\n",
      "번호를 입력하시오.: 2\n",
      " 이름을 입력하시오: 김대현\n",
      "국어 점수 입력: 40\n",
      "영어 점수 입력: 80\n",
      "수학 점수 입력: 100\n",
      "번호를 입력하시오.: 3\n",
      " 이름을 입력하시오: 이윤지\n",
      "국어 점수 입력: 80\n",
      "영어 점수 입력: 100\n",
      "수학 점수 입력: 70\n",
      "[['1', '이소정', 100, 90, 80, '2', '김대현', 40, 80, 100, '3', '이윤지', 80, 100, 70], ['1', '이소정', 100, 90, 80, '2', '김대현', 40, 80, 100, '3', '이윤지', 80, 100, 70], ['1', '이소정', 100, 90, 80, '2', '김대현', 40, 80, 100, '3', '이윤지', 80, 100, 70]]\n"
     ]
    }
   ],
   "source": [
    "# 번호 국어 영어 수학 점수를 입혁하는 프로그램 작성(3명 분)\n",
    "# 2차원 리스트\n",
    "final = []\n",
    "for i in range(3):\n",
    "    sungjuk=[] # 주소 변경\n",
    "    num = input(\"번호를 입력하시오.: \")\n",
    "    name = input(\" 이름을 입력하시오: \")\n",
    "    kor = int(input(\"국어 점수 입력: \"))\n",
    "    eng = int(input(\"영어 점수 입력: \"))\n",
    "    math = int(input(\"수학 점수 입력: \"))\n",
    "    sungjuk.append(num)\n",
    "    sungjuk.append(name)\n",
    "    sungjuk.append(kor)\n",
    "    sungjuk.append(eng)\n",
    "    sungjuk.append(math)\n",
    "    final.append(sungjuk)\n",
    "print(final)"
   ]
  },
  {
   "cell_type": "code",
   "execution_count": 32,
   "metadata": {},
   "outputs": [
    {
     "name": "stdout",
     "output_type": "stream",
     "text": [
      "번호를 입력하시오.: 1\n",
      " 이름을 입력하시오: 1\n",
      "국어 점수 입력: 100\n",
      "영어 점수 입력: 100\n",
      "수학 점수 입력: 100\n",
      "번호를 입력하시오.: 2\n",
      " 이름을 입력하시오: 2\n",
      "국어 점수 입력: 50\n",
      "영어 점수 입력: 30\n",
      "수학 점수 입력: 30\n",
      "번호를 입력하시오.: 3\n",
      " 이름을 입력하시오: 3\n",
      "국어 점수 입력: 70\n",
      "영어 점수 입력: 80\n",
      "수학 점수 입력: 80\n",
      "[['1', '1', 100, 100, 100, 300, 100.0, 'A'], ['2', '2', 50, 30, 30, 110, 36.67, 'F'], ['3', '3', 70, 80, 80, 230, 76.67, 'C']]\n"
     ]
    }
   ],
   "source": [
    "# 문제 합계와 평균을 구해서 추가시켜 보시오.\n",
    "# 평균은 소수 3째자리에서 반홍림하고 2째자리까지 표현하시오.\n",
    "final = []\n",
    "for i in range(3):\n",
    "    sungjuk=[] # 주소 변경\n",
    "    num = input(\"번호를 입력하시오.: \")\n",
    "    name = input(\" 이름을 입력하시오: \")\n",
    "    kor = int(input(\"국어 점수 입력: \"))\n",
    "    eng = int(input(\"영어 점수 입력: \"))\n",
    "    math = int(input(\"수학 점수 입력: \"))\n",
    "    hap = kor+eng+math\n",
    "    avg = round((hap/3),2)\n",
    "    if avg >= 90 : grade = 'A'\n",
    "    elif avg >= 80 : grade = 'B'\n",
    "    elif avg >= 70 : grade = 'C'\n",
    "    elif avg >= 60 : grade = 'D'\n",
    "    else : grade = 'F'\n",
    "    # 프로그램은 순서적으로 실행됨 : 순서를 병경하는 것 - 제어문과 함수    \n",
    "    # 순서가 있는 자료구조\n",
    "    sungjuk.append(num)\n",
    "    sungjuk.append(name)\n",
    "    sungjuk.append(kor)\n",
    "    sungjuk.append(eng)\n",
    "    sungjuk.append(math)\n",
    "    sungjuk.append(hap)\n",
    "    sungjuk.append(avg)\n",
    "    sungjuk.append(grade)\n",
    "    \n",
    "    final.append(sungjuk)\n",
    "print(final)"
   ]
  },
  {
   "cell_type": "code",
   "execution_count": 9,
   "metadata": {},
   "outputs": [
    {
     "name": "stdout",
     "output_type": "stream",
     "text": [
      "[['1', '이소정', 100, 100, 100, 300, 100.0, 'A'], ['2', '김대현', 80, 100, 40, 220, 73.33, 'C'], ['3', '이윤지', 100, 100, 70, 270, 90.0, 'A']]\n"
     ]
    }
   ],
   "source": [
    "# 정렬하고 싶은 경우 (이름으로 정렬)\n",
    "# 기본데이터 타입: str, int, float, list, dict, set, tuple\n",
    "# 파이썬은 모든 것이 객체(변수+함수) : 사용자 정의 데이터 타입\n",
    "final.sort()\n",
    "print(final)"
   ]
  },
  {
   "cell_type": "code",
   "execution_count": 12,
   "metadata": {},
   "outputs": [
    {
     "name": "stdout",
     "output_type": "stream",
     "text": [
      "[['3', '이윤지', 100, 100, 70, 270, 90.0, 'A'], ['1', '이소정', 100, 100, 100, 300, 100.0, 'A'], ['2', '김대현', 80, 100, 40, 220, 73.33, 'C']]\n"
     ]
    }
   ],
   "source": [
    "# 함수를 키로한다.\n",
    "def getKey(a1):\n",
    "    return a1[1]\n",
    "final.sort(key=getKey, reverse = True) # 내림차순\n",
    "print(final)"
   ]
  },
  {
   "cell_type": "code",
   "execution_count": null,
   "metadata": {},
   "outputs": [],
   "source": [
    "# lambda 함수: 무명함수, 간단한 함수를 작성할 때 사용\n",
    "final.sort(key=lambda row: row[1], reverse = True)\n",
    "#          매개변수,   처리,        해야할 일"
   ]
  },
  {
   "cell_type": "code",
   "execution_count": 33,
   "metadata": {},
   "outputs": [
    {
     "name": "stdout",
     "output_type": "stream",
     "text": [
      "[['1', '1', 100, 100, 100, 300, 100.0, 'A'], ['3', '3', 70, 80, 80, 230, 76.67, 'C'], ['2', '2', 50, 30, 30, 110, 36.67, 'F']]\n"
     ]
    }
   ],
   "source": [
    "# 등수를 입력하는 필드를 추가하시오.\n",
    "final.sort(key=lambda row: row[5], reverse=True) # 총점중심 내림차순\n",
    "print(final)"
   ]
  },
  {
   "cell_type": "code",
   "execution_count": 34,
   "metadata": {},
   "outputs": [
    {
     "name": "stdout",
     "output_type": "stream",
     "text": [
      "번호 이름 국어 영어 수학 합계 평균 학점 순위 \n",
      "1 1 100 100 100 300 100.0 A 1 \n",
      "2 2 50 30 30 110 36.67 F 3 \n",
      "3 3 70 80 80 230 76.67 C 2 "
     ]
    }
   ],
   "source": [
    "rank = 0\n",
    "for i in range(len(final)):\n",
    "    rank = rank + 1\n",
    "    final[i].append(rank)\n",
    "final.sort(key=lambda row: row[0])\n",
    "hap_list = ['번호','이름','국어','영어','수학','합계','평균','학점','순위']\n",
    "for j in range(len(final[0])):\n",
    "    print(hap_list[j], end=' ')\n",
    "for i in range(len(final)):\n",
    "    print(end='\\n')\n",
    "    for j in range(9):\n",
    "        print(final[i][j], end=' ')"
   ]
  },
  {
   "cell_type": "code",
   "execution_count": null,
   "metadata": {},
   "outputs": [],
   "source": [
    "# 문제 number guess(숫자 맞추기 게임 1:1)\n",
    "1) computer는 숫자를 랜덤으로 발생시킵니다(1~100)\n",
    "2) 사용자는 숫자를 입력합니다.\n",
    "3) 컴퓨터가 낸 숫자와 사용자가 입력한 숫자가 일치하는지 확인하고 일치하면 확인하고 다시 다을 게임으로 진행합니다.\n",
    "4) 만약 맞추지 못하였으면 사용자가 입력한 숫자가 컴퓨터가 가지고 있는 수 보다 큰지 작은지를 알려줍나다.\n",
    "5) 무한루프로 진행하던 게임은 q가 눌리면 종료됩니다.\n",
    "6) 몇회만에 맞추었는지를 확인하여 출력해 줍니다.\n",
    "7) 총 진행회수하고 guess횟수를 누적시킨다음 평균 시도횟수를 출력하시오."
   ]
  },
  {
   "cell_type": "code",
   "execution_count": 1,
   "metadata": {},
   "outputs": [
    {
     "name": "stdout",
     "output_type": "stream",
     "text": [
      "숫자입력 :  50\n",
      "숫자를 줄이세요.\n",
      "숫자입력 :  30\n",
      "숫자를 줄이세요.\n",
      "숫자입력 :  20\n",
      "숫자를 줄이세요.\n",
      "숫자입력 :  10\n",
      "숫자를 줄이세요.\n",
      "숫자입력 :  5\n",
      "숫자를 줄이세요.\n",
      "숫자입력 :  4\n",
      "숫자를 줄이세요.\n",
      "숫자입력 :  3\n",
      "숫자를 줄이세요.\n",
      "숫자입력 :  2\n",
      "숫자를 줄이세요.\n",
      "숫자입력 :  1\n",
      "맞췄습니다.\n",
      "몇회만에 맞췄습니까? 9\n",
      "새게임을 시작하겠습니다.\n",
      "숫자를 늘리세요.\n",
      "숫자입력 :  80\n",
      "숫자를 늘리세요.\n",
      "숫자입력 :  90\n",
      "숫자를 늘리세요.\n",
      "숫자입력 :  70\n",
      "숫자를 늘리세요.\n",
      "숫자입력 :  95\n",
      "숫자를 늘리세요.\n",
      "숫자입력 :  97\n",
      "숫자를 늘리세요.\n",
      "숫자입력 :  98\n",
      "숫자를 늘리세요.\n",
      "숫자입력 :  99\n",
      "숫자를 늘리세요.\n",
      "숫자입력 :  100\n",
      "맞췄습니다.\n",
      "몇회만에 맞췄습니까? 17\n",
      "새게임을 시작하겠습니다.\n",
      "숫자를 줄이세요.\n",
      "숫자입력 :  q\n",
      "정답횟수 2 총 횟수 26 평균시도횟수 13.0\n"
     ]
    }
   ],
   "source": [
    "# 필요한 변수: 컴퓨터선정수, 사용자 입력, 총횟수, 평균시도횟수\n",
    "from random import randint\n",
    "n = randint(1,101) \n",
    "cnt = 0\n",
    "ans = 0\n",
    "tcnt = 0\n",
    "while True:\n",
    "    print('숫자입력(1~100) : ', end = ' ')\n",
    "    num = input()\n",
    "    cnt = cnt + 1\n",
    "    if num == 'q':\n",
    "        print(\"정답횟수\", ans, \"총 횟수\",tcnt, \"평균시도횟수\",round(tcnt/ans,2)\n",
    "        break\n",
    "    num = int(num)\n",
    "    if n == num:\n",
    "        print(\"맞췄습니다.\")\n",
    "        ans = ans + 1\n",
    "        tcnt = tcnt + cnt\n",
    "        print(\"몇회만에 맞췄습니까?\", cnt)\n",
    "        print(\"새게임을 시작하겠습니다.\")\n",
    "        from random import randint\n",
    "        n = randint(1,101)\n",
    "    if n > num:\n",
    "        print(\"숫자를 늘리세요.\")\n",
    "    elif n < num:\n",
    "        print(\"숫자를 줄이세요.\")\n",
    "       "
   ]
  },
  {
   "cell_type": "code",
   "execution_count": 5,
   "metadata": {},
   "outputs": [
    {
     "name": "stdout",
     "output_type": "stream",
     "text": [
      "상상의 수를 입력(0 to exit): 80\n",
      "낮은 수를 선택하시오\n",
      "상상의 수를 입력(0 to exit): 70\n",
      "높은 수를 선택하시오\n",
      "상상의 수를 입력(0 to exit): 75\n",
      "낮은 수를 선택하시오\n",
      "상상의 수를 입력(0 to exit): 74\n",
      "낮은 수를 선택하시오\n",
      "상상의 수를 입력(0 to exit): 73\n",
      "낮은 수를 선택하시오\n",
      "상상의 수를 입력(0 to exit): 72\n",
      "낮은 수를 선택하시오\n",
      "상상의 수를 입력(0 to exit): 71\n",
      "정답!\n",
      "상상의 수를 입력(0 to exit): 80\n",
      "낮은 수를 선택하시오\n",
      "상상의 수를 입력(0 to exit): 70\n",
      "낮은 수를 선택하시오\n",
      "상상의 수를 입력(0 to exit): 60\n",
      "낮은 수를 선택하시오\n",
      "상상의 수를 입력(0 to exit): 50\n",
      "낮은 수를 선택하시오\n",
      "상상의 수를 입력(0 to exit): 40\n",
      "높은 수를 선택하시오\n",
      "상상의 수를 입력(0 to exit): 45\n",
      "낮은 수를 선택하시오\n",
      "상상의 수를 입력(0 to exit): 44\n",
      "정답!\n",
      "상상의 수를 입력(0 to exit): q\n",
      "총게임수 2 이긴게임수 2\n",
      "평균시도횟수 7.0\n"
     ]
    },
    {
     "ename": "SystemExit",
     "evalue": "0",
     "output_type": "error",
     "traceback": [
      "An exception has occurred, use %tb to see the full traceback.\n",
      "\u001b[1;31mSystemExit\u001b[0m\u001b[1;31m:\u001b[0m 0\n"
     ]
    },
    {
     "name": "stderr",
     "output_type": "stream",
     "text": [
      "C:\\Users\\ICT01_22\\Anaconda3\\lib\\site-packages\\IPython\\core\\interactiveshell.py:3334: UserWarning: To exit: use 'exit', 'quit', or Ctrl-D.\n",
      "  warn(\"To exit: use 'exit', 'quit', or Ctrl-D.\", stacklevel=1)\n"
     ]
    }
   ],
   "source": [
    "# 선생님 풀이법\n",
    "# 필요한 변수: 컴퓨터선정수, 사용자 입력, 총횟수, 평균시도횟수\n",
    "# 경우의 수는 3가지 (정답, 작은경우, 큰경우)\n",
    "from random import randint\n",
    "import sys\n",
    "tot_game = 0 # 총게임수\n",
    "win = 0 # 이긴 경우수\n",
    "\n",
    "tot_attempt=[] # 전체 시도 회수\n",
    "\n",
    "while True: # 무한루프\n",
    "    n = randint(1,101) # 컴퓨터는 수 하나 선택\n",
    "    tot_game += 1\n",
    "    game=0\n",
    "    while True: # 사용자정의하고 이미 정의된 내장 명령어를 구분\n",
    "        ans = input(\"상상의 수를 입력(0 to exit): \")\n",
    "        game+=1\n",
    "        if ans.upper() == 'Q':\n",
    "            print(\"총게임수\", tot_game-1,\"이긴게임수\",win)\n",
    "            game_tot =sum(tot_attempt)\n",
    "            print(\"평균시도횟수\",game_tot/(tot_game-1))\n",
    "            sys.exit(0) # 프로그램을 종료\n",
    "        ians = int(ans)\n",
    "        if (n==ians):\n",
    "            print(\"정답!\")\n",
    "            win += 1\n",
    "            tot_attempt.append(game)\n",
    "            break\n",
    "        elif (n>ians):\n",
    "            print(\"높은 수를 선택하시오\")\n",
    "        else:\n",
    "            print(\"낮은 수를 선택하시오\")            "
   ]
  },
  {
   "cell_type": "code",
   "execution_count": null,
   "metadata": {},
   "outputs": [],
   "source": [
    "# 문제1 제곱미터로 입력되는 아파트 면적을 평형으로 계산하여 종류 판정\n",
    "# (30평을 기준으로 판정)하는 프로그램 작성\n",
    "# 소형(17) 중소형(25) 중형(30)\n",
    "# 평형수 = 제곱미터 / 3.305"
   ]
  },
  {
   "cell_type": "code",
   "execution_count": 12,
   "metadata": {},
   "outputs": [
    {
     "name": "stdout",
     "output_type": "stream",
     "text": [
      "아파트의 면적(제곱미터): 88\n",
      "중소형입니다.\n"
     ]
    }
   ],
   "source": [
    "apart = int(input(\"아파트의 면적(제곱미터): \"))\n",
    "peong = apart/3.305\n",
    "if peong>30: print(\"중형입니다.\")\n",
    "elif peong>25: print(\"중소형입니다.\")\n",
    "else: print(\"소형입니다.\")"
   ]
  },
  {
   "cell_type": "code",
   "execution_count": null,
   "metadata": {},
   "outputs": [],
   "source": [
    "# 문제2 날 수를 입력하면 이를 초로 변경하는 프로그램 작성"
   ]
  },
  {
   "cell_type": "code",
   "execution_count": 13,
   "metadata": {},
   "outputs": [
    {
     "name": "stdout",
     "output_type": "stream",
     "text": [
      "날 수를 입력하시오.1\n",
      "입력한 날의 초는  86400\n"
     ]
    }
   ],
   "source": [
    "nal = int(input(\"날 수를 입력하시오.\"))\n",
    "cho = nal*24*60*60\n",
    "print(\"입력한 날의 초는 \",cho,\"(초)\")"
   ]
  },
  {
   "cell_type": "code",
   "execution_count": null,
   "metadata": {},
   "outputs": [],
   "source": [
    "#  소득세 계산: 소득세율표를 구해보고 이를 이용하여 소득이 들어오면 세금이 얼마인지 계산해 보시오\n",
    "# (연봉, 단순히 세율만 적용합니다.)\n",
    "# 1천만원 미만시 연봉 9.5%/ 1천~4천: 19%/ 4천~8천: 28%/ 8천이상: 37%"
   ]
  },
  {
   "cell_type": "code",
   "execution_count": 43,
   "metadata": {},
   "outputs": [
    {
     "name": "stdout",
     "output_type": "stream",
     "text": [
      "연봉을 입력하시오.20000000\n",
      "연봉이  20000000 원 일 때, 세금은  2850000.0 원 입니다.\n"
     ]
    }
   ],
   "source": [
    "annual_income = int(input(\"연봉을 입력하시오.\"))\n",
    "tax = 0.0 # float형 초기화\n",
    "if annual_income < 10000000:\n",
    "    tax = annual_income*0.095\n",
    "elif annual_income < 40000000:\n",
    "    tax = 10000000*0.095 + (annual_income-10000000)*0.19\n",
    "elif annual_income < 80000000:\n",
    "    tax = 10000000*0.095 + 30000000*0.19 + (annual_income-40000000)*0.28\n",
    "else:\n",
    "    tax = 10000000*0.095 + 30000000*0.19 + 40000000*0.28 + (annual_income-80000000)*0.37\n",
    "print(\"연봉이 \",annual_income,\"원 일 때, 세금은 \", tax,\"원 입니다.\")"
   ]
  },
  {
   "cell_type": "code",
   "execution_count": null,
   "metadata": {},
   "outputs": [],
   "source": [
    "# 놀이공원 매표소 단체입장료 계산하기 \n",
    "# 조건: 팀별 인원 구성을 입력(초등, 청소년, 일반인, 경로대상)하면 입장료 소견표에\n",
    "# 정산요금: 초등(5000원), 청소년(10000원), 일반인(15000원), 경로대상(3000원)\n",
    "# 팀별 할인 카드 확인\n",
    "# 카드 없음: 할인 무, 일반카드: 10%, VIP: 20%"
   ]
  },
  {
   "cell_type": "code",
   "execution_count": 36,
   "metadata": {},
   "outputs": [
    {
     "name": "stdout",
     "output_type": "stream",
     "text": [
      "초등학생 인원: 1\n",
      "청소년 인원: 1\n",
      "일반인 인원: 1\n",
      "경로우대 인원: 1\n",
      "카드없음(0), 일반카드(1), VIP(2)를 선택해주세요1\n",
      "총요금은 29700.0 원 입니다.\n"
     ]
    }
   ],
   "source": [
    "p1 = int(input(\"초등학생 인원: \"))\n",
    "p2 = int(input(\"청소년 인원: \"))\n",
    "p3 = int(input(\"일반인 인원: \"))\n",
    "p4 = int(input(\"경로우대 인원: \"))\n",
    "\n",
    "tot1 = 5000*p1\n",
    "tot2 = 10000*p2\n",
    "tot3 = 15000*p3\n",
    "tot4 = 3000*p4\n",
    "tot = tot1 + tot2 + tot3 + tot4\n",
    "\n",
    "# if문을 사용하지 않고 선택\n",
    "dis = int(input(\"카드없음(0), 일반카드(1), VIP(2)를 선택해주세요\"))\n",
    "select = [tot, tot*0.9, tot*0.8]\n",
    "print(\"총요금은\", select[dis],\"원 입니다.\")"
   ]
  },
  {
   "cell_type": "code",
   "execution_count": 37,
   "metadata": {},
   "outputs": [
    {
     "name": "stdout",
     "output_type": "stream",
     "text": [
      "숫자를 입력하시오: 10\n",
      "*\n",
      "**\n",
      "***\n",
      "****\n",
      "*****\n",
      "******\n",
      "*******\n",
      "********\n",
      "*********\n",
      "**********\n"
     ]
    }
   ],
   "source": [
    "numberOfRows = int(input(\"숫자를 입력하시오: \"))\n",
    "for i in range(numberOfRows):\n",
    "    for j in range(i+1):\n",
    "        print(\"*\",end=\"\")\n",
    "    print()"
   ]
  },
  {
   "cell_type": "code",
   "execution_count": 41,
   "metadata": {},
   "outputs": [
    {
     "name": "stdout",
     "output_type": "stream",
     "text": [
      "숫자를 입력하시오: 10\n",
      "          *\n",
      "         **\n",
      "        ***\n",
      "       ****\n",
      "      *****\n",
      "     ******\n",
      "    *******\n",
      "   ********\n",
      "  *********\n",
      " **********\n"
     ]
    }
   ],
   "source": [
    "numberOfRows = int(input(\"숫자를 입력하시오: \"))\n",
    "for i in range(numberOfRows):\n",
    "    for k in range(numberOfRows-i):\n",
    "        print(\" \",end='')\n",
    "    for j in range(i+1):\n",
    "        print(\"*\",end=\"\")\n",
    "    print()"
   ]
  },
  {
   "cell_type": "code",
   "execution_count": 57,
   "metadata": {},
   "outputs": [
    {
     "name": "stdout",
     "output_type": "stream",
     "text": [
      "숫자를 입력하시오: 10\n",
      "          \n",
      "         *\n",
      "        ***\n",
      "       *****\n",
      "      *******\n",
      "     *********\n",
      "    ***********\n",
      "   *************\n",
      "  ***************\n",
      " *****************\n"
     ]
    }
   ],
   "source": [
    "numberOfRows = int(input(\"숫자를 입력하시오: \"))\n",
    "for i in range(numberOfRows):\n",
    "    for k in range(numberOfRows-i):\n",
    "        print(\" \",end=\"\")\n",
    "    for j in range(2*i-1):\n",
    "        print(\"*\",end=\"\")\n",
    "    print()"
   ]
  },
  {
   "cell_type": "code",
   "execution_count": 85,
   "metadata": {},
   "outputs": [
    {
     "name": "stdout",
     "output_type": "stream",
     "text": [
      "숫자를 입력하시오: 10\n",
      "          *\n",
      "         ***\n",
      "        *****\n",
      "       *******\n",
      "      *********\n",
      "     ***********\n",
      "    *************\n",
      "   ***************\n",
      "  *****************\n",
      " *******************\n"
     ]
    }
   ],
   "source": [
    "# 선생님 풀이1\n",
    "numberOfRows = int(input(\"숫자를 입력하시오: \"))\n",
    "for i in range(numberOfRows):\n",
    "    for k in range(numberOfRows-i):\n",
    "        print(\" \",end=\"\")\n",
    "    for j in range(i+1):\n",
    "        print(\"*\",end=\"\")\n",
    "    for j in range(i):\n",
    "        print(\"*\",end=\"\")\n",
    "    print()"
   ]
  },
  {
   "cell_type": "code",
   "execution_count": 86,
   "metadata": {},
   "outputs": [
    {
     "name": "stdout",
     "output_type": "stream",
     "text": [
      "          *\n",
      "         ***\n",
      "        *****\n",
      "       *******\n",
      "      *********\n",
      "     ***********\n",
      "    *************\n",
      "   ***************\n",
      "  *****************\n",
      " *******************\n"
     ]
    }
   ],
   "source": [
    "# 선생님 풀이2\n",
    "for i in range(1,11):\n",
    "    print(\" \"*(10-i),\"*\"*(i*2-1))"
   ]
  },
  {
   "cell_type": "code",
   "execution_count": 83,
   "metadata": {},
   "outputs": [
    {
     "name": "stdout",
     "output_type": "stream",
     "text": [
      "숫자를 입력하시오: 10\n",
      "*\n",
      "**\n",
      "***\n",
      "****\n",
      "*****\n",
      "******\n",
      "****\n",
      "***\n",
      "**\n",
      "*\n"
     ]
    }
   ],
   "source": [
    "numberOfRows = int(input(\"숫자를 입력하시오: \"))\n",
    "mid = numberOfRows//2 + 1\n",
    "for i in range(numberOfRows):\n",
    "    if i<mid:\n",
    "        for j in range(i+1):\n",
    "            print(\"*\",end=\"\")\n",
    "        print()\n",
    "    else:\n",
    "        for j in range(numberOfRowsb-i):\n",
    "            print(\"*\",end=\"\")\n",
    "        print()"
   ]
  },
  {
   "cell_type": "code",
   "execution_count": 87,
   "metadata": {},
   "outputs": [
    {
     "name": "stdout",
     "output_type": "stream",
     "text": [
      "숫자를 입력하시오: 10\n",
      "*\n",
      "**\n",
      "***\n",
      "****\n",
      "*****\n",
      "******\n",
      "*******\n",
      "********\n",
      "*********\n",
      "**********\n",
      "*********\n",
      "********\n",
      "*******\n",
      "******\n",
      "*****\n",
      "****\n",
      "***\n",
      "**\n",
      "*\n"
     ]
    }
   ],
   "source": [
    "# 선생님풀이1\n",
    "numberOfRows = int(input(\"숫자를 입력하시오: \"))\n",
    "numberOfRows2 = numberOfRows - 1 \n",
    "for i in range(numberOfRows):\n",
    "    for j in range(i+1):\n",
    "        print(\"*\", end=\"\")\n",
    "    print()\n",
    "for i in range(numberOfRows2 ):\n",
    "    for k in range(numberOfRows2 - i):\n",
    "        print(\"*\",end=\"\")\n",
    "    print()"
   ]
  },
  {
   "cell_type": "code",
   "execution_count": 13,
   "metadata": {},
   "outputs": [
    {
     "name": "stdout",
     "output_type": "stream",
     "text": [
      "\n",
      "*\n",
      "**\n",
      "***\n",
      "****\n",
      "*****\n",
      "****\n",
      "***\n",
      "**\n",
      "*\n"
     ]
    }
   ],
   "source": [
    "# 선생님풀이2\n",
    "print(\"\")\n",
    "for i in range(1,10):\n",
    "    print(\"*\"*(i-int(i/6)*(i*2-10)))"
   ]
  },
  {
   "cell_type": "code",
   "execution_count": 14,
   "metadata": {},
   "outputs": [
    {
     "name": "stdout",
     "output_type": "stream",
     "text": [
      "숫자를 입력하시오: 11\n",
      "*\n",
      "**\n",
      "***\n",
      "****\n",
      "*****\n",
      "******\n",
      "*****\n",
      "****\n",
      "***\n",
      "**\n",
      "*\n"
     ]
    }
   ],
   "source": [
    "# 선생님풀이3\n",
    "numberOfRows = int(input(\"숫자를 입력하시오: \"))\n",
    "\n",
    "for i in range(numberOfRows):\n",
    "    if i < numberOfRows/2:\n",
    "        for j in range(i+1):\n",
    "            print(\"*\", end=\"\")\n",
    "    else:\n",
    "        for j in range(numberOfRows//2,-1,-1):\n",
    "            if (j >= i-numberOfRows//2):\n",
    "                print(\"*\", end=\"\")\n",
    "                \n",
    "    print()"
   ]
  },
  {
   "cell_type": "code",
   "execution_count": 90,
   "metadata": {},
   "outputs": [
    {
     "name": "stdout",
     "output_type": "stream",
     "text": [
      "숫자를 입력하시오: 10\n",
      "*                    *\n",
      "**                  **\n",
      "***                ***\n",
      "****              ****\n",
      "*****            *****\n",
      "******          ******\n",
      "*******        *******\n",
      "********      ********\n",
      "*********    *********\n",
      "**********  **********\n"
     ]
    }
   ],
   "source": [
    "numberOfRows = int(input(\"숫자를 입력하시오: \"))\n",
    "for i in range(numberOfRows):\n",
    "    for j in range(i+1):\n",
    "        print(\"*\",end=\"\")\n",
    "    for k in range(numberOfRows-i):\n",
    "        print(2*\" \",end='')\n",
    "    for h in range(i+1):\n",
    "        print(\"*\",end=\"\")\n",
    "    print()\n"
   ]
  },
  {
   "cell_type": "code",
   "execution_count": 12,
   "metadata": {},
   "outputs": [
    {
     "name": "stdout",
     "output_type": "stream",
     "text": [
      "숫자를 입력하시오: 15\n",
      "*                  *\n",
      "**                **\n",
      "***              ***\n",
      "****            ****\n",
      "*****          *****\n",
      "******        ******\n",
      "*******      *******\n",
      "********    ********\n",
      "*********  *********\n",
      "********************\n",
      "********************\n",
      "********************\n",
      "********************\n",
      "********************\n",
      "********************\n"
     ]
    }
   ],
   "source": [
    "numberOfRows = int(input(\"숫자를 입력하시오: \"))\n",
    "for i in range(numberOfRows):\n",
    "    if i < 10:\n",
    "        for j in range(i+1):\n",
    "            print(\"*\", end=\"\")\n",
    "        for k in range(9-i):\n",
    "            print(2*\" \",end=\"\")\n",
    "        for h in range(i+1):\n",
    "            print(\"*\", end=\"\")\n",
    "    else: \n",
    "        print(20*\"*\",end=\"\")\n",
    "    print()"
   ]
  },
  {
   "cell_type": "code",
   "execution_count": 9,
   "metadata": {},
   "outputs": [
    {
     "name": "stdout",
     "output_type": "stream",
     "text": [
      "숫자를 입력하시오: 11\n",
      "*            *\n",
      "**          **\n",
      "***        ***\n",
      "****      ****\n",
      "*****    *****\n",
      "******  ******\n",
      "*****    *****\n",
      "****      ****\n",
      "***        ***\n",
      "**          **\n",
      "*            *\n"
     ]
    }
   ],
   "source": [
    "numberOfRows = int(input(\"숫자를 입력하시오: \"))\n",
    "for i in range(numberOfRows):\n",
    "    if i < numberOfRows/2:\n",
    "        for j in range(i+1):\n",
    "            print(\"*\", end=\"\")\n",
    "        for k in range(numberOfRows//2-i+1):\n",
    "            print(2*\" \", end=\"\")\n",
    "        for h in range(i+1):\n",
    "            print(\"*\", end=\"\")        \n",
    "    else:\n",
    "        for j in range(numberOfRows//2,-1,-1):\n",
    "            if (j >= i-numberOfRows//2):\n",
    "                print(\"*\", end=\"\")\n",
    "        for k in range(i-numberOfRows//2+1):\n",
    "            print(2*\" \", end=\"\")\n",
    "        for h in range(numberOfRows-i):\n",
    "            print(\"*\", end=\"\")\n",
    "    print()"
   ]
  }
 ],
 "metadata": {
  "kernelspec": {
   "display_name": "Python 3",
   "language": "python",
   "name": "python3"
  },
  "language_info": {
   "codemirror_mode": {
    "name": "ipython",
    "version": 3
   },
   "file_extension": ".py",
   "mimetype": "text/x-python",
   "name": "python",
   "nbconvert_exporter": "python",
   "pygments_lexer": "ipython3",
   "version": "3.7.4"
  }
 },
 "nbformat": 4,
 "nbformat_minor": 2
}
