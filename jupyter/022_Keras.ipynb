{
 "cells": [
  {
   "cell_type": "code",
   "execution_count": 1,
   "metadata": {},
   "outputs": [
    {
     "name": "stderr",
     "output_type": "stream",
     "text": [
      "Using TensorFlow backend.\n",
      "C:\\Users\\ICT01_22\\Anaconda3\\envs\\tf_test\\lib\\site-packages\\tensorflow\\python\\framework\\dtypes.py:516: FutureWarning: Passing (type, 1) or '1type' as a synonym of type is deprecated; in a future version of numpy, it will be understood as (type, (1,)) / '(1,)type'.\n",
      "  _np_qint8 = np.dtype([(\"qint8\", np.int8, 1)])\n",
      "C:\\Users\\ICT01_22\\Anaconda3\\envs\\tf_test\\lib\\site-packages\\tensorflow\\python\\framework\\dtypes.py:517: FutureWarning: Passing (type, 1) or '1type' as a synonym of type is deprecated; in a future version of numpy, it will be understood as (type, (1,)) / '(1,)type'.\n",
      "  _np_quint8 = np.dtype([(\"quint8\", np.uint8, 1)])\n",
      "C:\\Users\\ICT01_22\\Anaconda3\\envs\\tf_test\\lib\\site-packages\\tensorflow\\python\\framework\\dtypes.py:518: FutureWarning: Passing (type, 1) or '1type' as a synonym of type is deprecated; in a future version of numpy, it will be understood as (type, (1,)) / '(1,)type'.\n",
      "  _np_qint16 = np.dtype([(\"qint16\", np.int16, 1)])\n",
      "C:\\Users\\ICT01_22\\Anaconda3\\envs\\tf_test\\lib\\site-packages\\tensorflow\\python\\framework\\dtypes.py:519: FutureWarning: Passing (type, 1) or '1type' as a synonym of type is deprecated; in a future version of numpy, it will be understood as (type, (1,)) / '(1,)type'.\n",
      "  _np_quint16 = np.dtype([(\"quint16\", np.uint16, 1)])\n",
      "C:\\Users\\ICT01_22\\Anaconda3\\envs\\tf_test\\lib\\site-packages\\tensorflow\\python\\framework\\dtypes.py:520: FutureWarning: Passing (type, 1) or '1type' as a synonym of type is deprecated; in a future version of numpy, it will be understood as (type, (1,)) / '(1,)type'.\n",
      "  _np_qint32 = np.dtype([(\"qint32\", np.int32, 1)])\n",
      "C:\\Users\\ICT01_22\\Anaconda3\\envs\\tf_test\\lib\\site-packages\\tensorflow\\python\\framework\\dtypes.py:525: FutureWarning: Passing (type, 1) or '1type' as a synonym of type is deprecated; in a future version of numpy, it will be understood as (type, (1,)) / '(1,)type'.\n",
      "  np_resource = np.dtype([(\"resource\", np.ubyte, 1)])\n",
      "C:\\Users\\ICT01_22\\Anaconda3\\envs\\tf_test\\lib\\site-packages\\tensorboard\\compat\\tensorflow_stub\\dtypes.py:541: FutureWarning: Passing (type, 1) or '1type' as a synonym of type is deprecated; in a future version of numpy, it will be understood as (type, (1,)) / '(1,)type'.\n",
      "  _np_qint8 = np.dtype([(\"qint8\", np.int8, 1)])\n",
      "C:\\Users\\ICT01_22\\Anaconda3\\envs\\tf_test\\lib\\site-packages\\tensorboard\\compat\\tensorflow_stub\\dtypes.py:542: FutureWarning: Passing (type, 1) or '1type' as a synonym of type is deprecated; in a future version of numpy, it will be understood as (type, (1,)) / '(1,)type'.\n",
      "  _np_quint8 = np.dtype([(\"quint8\", np.uint8, 1)])\n",
      "C:\\Users\\ICT01_22\\Anaconda3\\envs\\tf_test\\lib\\site-packages\\tensorboard\\compat\\tensorflow_stub\\dtypes.py:543: FutureWarning: Passing (type, 1) or '1type' as a synonym of type is deprecated; in a future version of numpy, it will be understood as (type, (1,)) / '(1,)type'.\n",
      "  _np_qint16 = np.dtype([(\"qint16\", np.int16, 1)])\n",
      "C:\\Users\\ICT01_22\\Anaconda3\\envs\\tf_test\\lib\\site-packages\\tensorboard\\compat\\tensorflow_stub\\dtypes.py:544: FutureWarning: Passing (type, 1) or '1type' as a synonym of type is deprecated; in a future version of numpy, it will be understood as (type, (1,)) / '(1,)type'.\n",
      "  _np_quint16 = np.dtype([(\"quint16\", np.uint16, 1)])\n",
      "C:\\Users\\ICT01_22\\Anaconda3\\envs\\tf_test\\lib\\site-packages\\tensorboard\\compat\\tensorflow_stub\\dtypes.py:545: FutureWarning: Passing (type, 1) or '1type' as a synonym of type is deprecated; in a future version of numpy, it will be understood as (type, (1,)) / '(1,)type'.\n",
      "  _np_qint32 = np.dtype([(\"qint32\", np.int32, 1)])\n",
      "C:\\Users\\ICT01_22\\Anaconda3\\envs\\tf_test\\lib\\site-packages\\tensorboard\\compat\\tensorflow_stub\\dtypes.py:550: FutureWarning: Passing (type, 1) or '1type' as a synonym of type is deprecated; in a future version of numpy, it will be understood as (type, (1,)) / '(1,)type'.\n",
      "  np_resource = np.dtype([(\"resource\", np.ubyte, 1)])\n"
     ]
    },
    {
     "name": "stdout",
     "output_type": "stream",
     "text": [
      "WARNING:tensorflow:From C:\\Users\\ICT01_22\\Anaconda3\\envs\\tf_test\\lib\\site-packages\\keras\\backend\\tensorflow_backend.py:422: The name tf.global_variables is deprecated. Please use tf.compat.v1.global_variables instead.\n",
      "\n",
      "입력데이터 = [0.29466096 0.30317302], 예측결과 = [0.1732656]\n",
      "입력데이터 = [0.39445118 0.79390858], 예측결과 = [0.7446896]\n",
      "입력데이터 = [0.02884127 0.6208843 ], 예측결과 = [0.40304944]\n"
     ]
    }
   ],
   "source": [
    "# 회귀분석\n",
    "from keras.models import Sequential # keras models 서브패키지\n",
    "from keras.layers import Dense      # layers => 모델구성\n",
    "from sklearn.datasets import make_regression\n",
    "# 신경망 - 정규화\n",
    "from sklearn.preprocessing import MinMaxScaler\n",
    "\n",
    "X, y = make_regression(n_samples=100, n_features=2, noise=0.1, random_state=1) # X = 100x2, y = 100\n",
    "\n",
    "# 값의 범위가 다름\n",
    "scalarX, scalarY = MinMaxScaler(), MinMaxScaler() # data 값의 범위가 다르므로 Minmax 두 번 사용\n",
    "scalarX.fit(X)\n",
    "scalarY.fit(y.reshape(100,1)) # y는 열로 나오기 때문에 행으로 변형\n",
    "X = scalarX.transform(X)\n",
    "y = scalarY.transform(y.reshape(100, 1))\n",
    "\n",
    "# keras model 시작\n",
    "# 망만 생성 100x2\n",
    "model = Sequential()\n",
    "# dense : FFNN\n",
    "model.add(Dense(4, input_dim=2, activation='relu')) # 4 : 출력 차수 , 가중치(2x4) => 100x4\n",
    "# layer depth 1\n",
    "model.add(Dense(4, activation='relu')) # 100x4 가중치(4x4) => 100x4 \n",
    "# layer depth 2\n",
    "model.add(Dense(1, activation='linear')) # 100x4 가중치(4x1) => 100x1, 예측\n",
    "# layer depth 3\n",
    "# 전 layer에서 계산된 것이 다음 layer에서 적용\n",
    "\n",
    "# backend가 tensorflow\n",
    "# loss : mse(회귀), cross enthropy, KL-divergence(GAN) : 분포를 비교\n",
    "model.compile(loss='mse', optimizer='adam') # tensorflow 모델로 변환\n",
    "model.fit(X, y, epochs=1000, verbose=0) # tensorflow에서 minimize는 for문 두개 첫번쨰는 epoch 두번째는 batch_size-> 이걸 한번에 하는 함수\n",
    "# verbose = 학습 중 출력되는 문구를 설정합니다.\n",
    "# - 0 : 아무 것도 출력하지 않습니다.\n",
    "# - 1 : 훈련의 진행도를 보여주는 진행 막대를 보여줍니다.\n",
    "# - 2 : 미니 배치마다 손실 정보를 출력합니다.\n",
    "Xnew, a = make_regression(n_samples=3, n_features=2, noise=0.1, random_state=1)\n",
    "Xnew = scalarX.transform(Xnew)\n",
    "ynew = model.predict(Xnew)\n",
    "for i in range(len(Xnew)) :\n",
    "    print(\"입력데이터 = %s, 예측결과 = %s\" %(Xnew[i], ynew[i]))"
   ]
  },
  {
   "cell_type": "code",
   "execution_count": 2,
   "metadata": {},
   "outputs": [
    {
     "name": "stdout",
     "output_type": "stream",
     "text": [
      "WARNING:tensorflow:From C:\\Users\\ICT01_22\\Anaconda3\\envs\\tf_test\\lib\\site-packages\\tensorflow\\python\\ops\\nn_impl.py:180: add_dispatch_support.<locals>.wrapper (from tensorflow.python.ops.array_ops) is deprecated and will be removed in a future version.\n",
      "Instructions for updating:\n",
      "Use tf.where in 2.0, which has the same broadcast rule as np.where\n",
      "Epoch 1/150\n",
      "768/768 [==============================] - 0s 347us/step - loss: 3.1779 - accuracy: 0.5833\n",
      "Epoch 2/150\n",
      "768/768 [==============================] - 0s 64us/step - loss: 0.9515 - accuracy: 0.5755\n",
      "Epoch 3/150\n",
      "768/768 [==============================] - 0s 65us/step - loss: 0.7630 - accuracy: 0.6341\n",
      "Epoch 4/150\n",
      "768/768 [==============================] - 0s 64us/step - loss: 0.7208 - accuracy: 0.6497\n",
      "Epoch 5/150\n",
      "768/768 [==============================] - 0s 64us/step - loss: 0.6929 - accuracy: 0.6732\n",
      "Epoch 6/150\n",
      "768/768 [==============================] - 0s 60us/step - loss: 0.6694 - accuracy: 0.6836\n",
      "Epoch 7/150\n",
      "768/768 [==============================] - 0s 60us/step - loss: 0.6633 - accuracy: 0.6745\n",
      "Epoch 8/150\n",
      "768/768 [==============================] - 0s 62us/step - loss: 0.6468 - accuracy: 0.6862\n",
      "Epoch 9/150\n",
      "768/768 [==============================] - 0s 62us/step - loss: 0.6347 - accuracy: 0.7005\n",
      "Epoch 10/150\n",
      "768/768 [==============================] - 0s 61us/step - loss: 0.6423 - accuracy: 0.6784\n",
      "Epoch 11/150\n",
      "768/768 [==============================] - 0s 60us/step - loss: 0.6582 - accuracy: 0.6654\n",
      "Epoch 12/150\n",
      "768/768 [==============================] - 0s 61us/step - loss: 0.6536 - accuracy: 0.6784\n",
      "Epoch 13/150\n",
      "768/768 [==============================] - 0s 62us/step - loss: 0.6363 - accuracy: 0.6745\n",
      "Epoch 14/150\n",
      "768/768 [==============================] - 0s 62us/step - loss: 0.6240 - accuracy: 0.7070\n",
      "Epoch 15/150\n",
      "768/768 [==============================] - 0s 62us/step - loss: 0.6040 - accuracy: 0.7005\n",
      "Epoch 16/150\n",
      "768/768 [==============================] - 0s 61us/step - loss: 0.5885 - accuracy: 0.7044\n",
      "Epoch 17/150\n",
      "768/768 [==============================] - 0s 60us/step - loss: 0.5834 - accuracy: 0.7018\n",
      "Epoch 18/150\n",
      "768/768 [==============================] - 0s 60us/step - loss: 0.5959 - accuracy: 0.6966\n",
      "Epoch 19/150\n",
      "768/768 [==============================] - 0s 64us/step - loss: 0.5752 - accuracy: 0.7044\n",
      "Epoch 20/150\n",
      "768/768 [==============================] - 0s 62us/step - loss: 0.5751 - accuracy: 0.7279\n",
      "Epoch 21/150\n",
      "768/768 [==============================] - 0s 66us/step - loss: 0.5655 - accuracy: 0.7161\n",
      "Epoch 22/150\n",
      "768/768 [==============================] - 0s 62us/step - loss: 0.5781 - accuracy: 0.7005\n",
      "Epoch 23/150\n",
      "768/768 [==============================] - 0s 64us/step - loss: 0.5720 - accuracy: 0.7135\n",
      "Epoch 24/150\n",
      "768/768 [==============================] - 0s 70us/step - loss: 0.5690 - accuracy: 0.7305\n",
      "Epoch 25/150\n",
      "768/768 [==============================] - 0s 66us/step - loss: 0.5557 - accuracy: 0.7422\n",
      "Epoch 26/150\n",
      "768/768 [==============================] - 0s 65us/step - loss: 0.5725 - accuracy: 0.7057\n",
      "Epoch 27/150\n",
      "768/768 [==============================] - 0s 60us/step - loss: 0.5558 - accuracy: 0.7240\n",
      "Epoch 28/150\n",
      "768/768 [==============================] - 0s 65us/step - loss: 0.5590 - accuracy: 0.7214\n",
      "Epoch 29/150\n",
      "768/768 [==============================] - 0s 61us/step - loss: 0.5773 - accuracy: 0.7174\n",
      "Epoch 30/150\n",
      "768/768 [==============================] - 0s 62us/step - loss: 0.5614 - accuracy: 0.7188\n",
      "Epoch 31/150\n",
      "768/768 [==============================] - 0s 66us/step - loss: 0.5707 - accuracy: 0.7109\n",
      "Epoch 32/150\n",
      "768/768 [==============================] - 0s 74us/step - loss: 0.5652 - accuracy: 0.7135\n",
      "Epoch 33/150\n",
      "768/768 [==============================] - 0s 65us/step - loss: 0.5517 - accuracy: 0.7227\n",
      "Epoch 34/150\n",
      "768/768 [==============================] - 0s 69us/step - loss: 0.5534 - accuracy: 0.7292\n",
      "Epoch 35/150\n",
      "768/768 [==============================] - 0s 71us/step - loss: 0.5538 - accuracy: 0.7214\n",
      "Epoch 36/150\n",
      "768/768 [==============================] - 0s 75us/step - loss: 0.5628 - accuracy: 0.7135\n",
      "Epoch 37/150\n",
      "768/768 [==============================] - 0s 65us/step - loss: 0.5317 - accuracy: 0.7266\n",
      "Epoch 38/150\n",
      "768/768 [==============================] - 0s 66us/step - loss: 0.5413 - accuracy: 0.7266\n",
      "Epoch 39/150\n",
      "768/768 [==============================] - 0s 69us/step - loss: 0.5503 - accuracy: 0.7279\n",
      "Epoch 40/150\n",
      "768/768 [==============================] - 0s 68us/step - loss: 0.5462 - accuracy: 0.7266\n",
      "Epoch 41/150\n",
      "768/768 [==============================] - 0s 65us/step - loss: 0.5443 - accuracy: 0.7266\n",
      "Epoch 42/150\n",
      "768/768 [==============================] - 0s 62us/step - loss: 0.5374 - accuracy: 0.7357\n",
      "Epoch 43/150\n",
      "768/768 [==============================] - 0s 65us/step - loss: 0.5327 - accuracy: 0.7370\n",
      "Epoch 44/150\n",
      "768/768 [==============================] - 0s 62us/step - loss: 0.5352 - accuracy: 0.7513\n",
      "Epoch 45/150\n",
      "768/768 [==============================] - 0s 65us/step - loss: 0.5363 - accuracy: 0.7591\n",
      "Epoch 46/150\n",
      "768/768 [==============================] - 0s 68us/step - loss: 0.5278 - accuracy: 0.7461\n",
      "Epoch 47/150\n",
      "768/768 [==============================] - 0s 70us/step - loss: 0.5366 - accuracy: 0.7331\n",
      "Epoch 48/150\n",
      "768/768 [==============================] - 0s 70us/step - loss: 0.5363 - accuracy: 0.7422\n",
      "Epoch 49/150\n",
      "768/768 [==============================] - 0s 65us/step - loss: 0.5372 - accuracy: 0.7474\n",
      "Epoch 50/150\n",
      "768/768 [==============================] - 0s 65us/step - loss: 0.5270 - accuracy: 0.7357\n",
      "Epoch 51/150\n",
      "768/768 [==============================] - 0s 62us/step - loss: 0.5317 - accuracy: 0.7526\n",
      "Epoch 52/150\n",
      "768/768 [==============================] - 0s 68us/step - loss: 0.5402 - accuracy: 0.7357\n",
      "Epoch 53/150\n",
      "768/768 [==============================] - 0s 66us/step - loss: 0.5356 - accuracy: 0.7500\n",
      "Epoch 54/150\n",
      "768/768 [==============================] - 0s 66us/step - loss: 0.5423 - accuracy: 0.7357\n",
      "Epoch 55/150\n",
      "768/768 [==============================] - 0s 69us/step - loss: 0.5212 - accuracy: 0.7474\n",
      "Epoch 56/150\n",
      "768/768 [==============================] - 0s 65us/step - loss: 0.5313 - accuracy: 0.7500\n",
      "Epoch 57/150\n",
      "768/768 [==============================] - 0s 65us/step - loss: 0.5350 - accuracy: 0.7461\n",
      "Epoch 58/150\n",
      "768/768 [==============================] - 0s 66us/step - loss: 0.5245 - accuracy: 0.7487\n",
      "Epoch 59/150\n",
      "768/768 [==============================] - 0s 66us/step - loss: 0.5126 - accuracy: 0.7630\n",
      "Epoch 60/150\n",
      "768/768 [==============================] - 0s 68us/step - loss: 0.5340 - accuracy: 0.7435\n",
      "Epoch 61/150\n",
      "768/768 [==============================] - 0s 68us/step - loss: 0.5256 - accuracy: 0.7318\n",
      "Epoch 62/150\n",
      "768/768 [==============================] - 0s 66us/step - loss: 0.5202 - accuracy: 0.7422\n",
      "Epoch 63/150\n",
      "768/768 [==============================] - 0s 68us/step - loss: 0.5431 - accuracy: 0.7305\n",
      "Epoch 64/150\n",
      "768/768 [==============================] - 0s 66us/step - loss: 0.5350 - accuracy: 0.7461\n",
      "Epoch 65/150\n",
      "768/768 [==============================] - 0s 65us/step - loss: 0.5247 - accuracy: 0.7461\n",
      "Epoch 66/150\n",
      "768/768 [==============================] - 0s 64us/step - loss: 0.5084 - accuracy: 0.7500\n",
      "Epoch 67/150\n",
      "768/768 [==============================] - 0s 64us/step - loss: 0.5175 - accuracy: 0.7396\n",
      "Epoch 68/150\n",
      "768/768 [==============================] - 0s 64us/step - loss: 0.5182 - accuracy: 0.7552\n",
      "Epoch 69/150\n",
      "768/768 [==============================] - 0s 68us/step - loss: 0.5183 - accuracy: 0.7370\n",
      "Epoch 70/150\n",
      "768/768 [==============================] - 0s 68us/step - loss: 0.5337 - accuracy: 0.7331\n",
      "Epoch 71/150\n",
      "768/768 [==============================] - 0s 65us/step - loss: 0.5205 - accuracy: 0.7435\n",
      "Epoch 72/150\n",
      "768/768 [==============================] - 0s 74us/step - loss: 0.5164 - accuracy: 0.7604\n",
      "Epoch 73/150\n",
      "768/768 [==============================] - 0s 69us/step - loss: 0.5173 - accuracy: 0.7422\n",
      "Epoch 74/150\n",
      "768/768 [==============================] - 0s 70us/step - loss: 0.5160 - accuracy: 0.7513\n",
      "Epoch 75/150\n",
      "768/768 [==============================] - 0s 64us/step - loss: 0.5122 - accuracy: 0.7474\n",
      "Epoch 76/150\n",
      "768/768 [==============================] - 0s 68us/step - loss: 0.5112 - accuracy: 0.7552\n",
      "Epoch 77/150\n",
      "768/768 [==============================] - 0s 70us/step - loss: 0.5243 - accuracy: 0.7526\n",
      "Epoch 78/150\n",
      "768/768 [==============================] - 0s 68us/step - loss: 0.5145 - accuracy: 0.7578\n",
      "Epoch 79/150\n",
      "768/768 [==============================] - 0s 71us/step - loss: 0.5097 - accuracy: 0.7552\n",
      "Epoch 80/150\n",
      "768/768 [==============================] - 0s 75us/step - loss: 0.5114 - accuracy: 0.7604\n",
      "Epoch 81/150\n",
      "768/768 [==============================] - 0s 70us/step - loss: 0.5064 - accuracy: 0.7552\n",
      "Epoch 82/150\n",
      "768/768 [==============================] - 0s 69us/step - loss: 0.4957 - accuracy: 0.7539\n",
      "Epoch 83/150\n",
      "768/768 [==============================] - 0s 69us/step - loss: 0.4971 - accuracy: 0.7565\n",
      "Epoch 84/150\n",
      "768/768 [==============================] - 0s 66us/step - loss: 0.4943 - accuracy: 0.7565\n",
      "Epoch 85/150\n",
      "768/768 [==============================] - 0s 66us/step - loss: 0.5040 - accuracy: 0.7513\n",
      "Epoch 86/150\n",
      "768/768 [==============================] - 0s 69us/step - loss: 0.5064 - accuracy: 0.7526\n",
      "Epoch 87/150\n",
      "768/768 [==============================] - 0s 66us/step - loss: 0.4955 - accuracy: 0.7591\n",
      "Epoch 88/150\n",
      "768/768 [==============================] - 0s 66us/step - loss: 0.4951 - accuracy: 0.7591\n",
      "Epoch 89/150\n",
      "768/768 [==============================] - 0s 73us/step - loss: 0.5016 - accuracy: 0.7747\n",
      "Epoch 90/150\n",
      "768/768 [==============================] - 0s 75us/step - loss: 0.5087 - accuracy: 0.7448\n",
      "Epoch 91/150\n",
      "768/768 [==============================] - 0s 78us/step - loss: 0.4938 - accuracy: 0.7604\n",
      "Epoch 92/150\n",
      "768/768 [==============================] - 0s 65us/step - loss: 0.5033 - accuracy: 0.7448\n",
      "Epoch 93/150\n",
      "768/768 [==============================] - 0s 64us/step - loss: 0.4920 - accuracy: 0.7630\n",
      "Epoch 94/150\n",
      "768/768 [==============================] - 0s 64us/step - loss: 0.4911 - accuracy: 0.7656\n",
      "Epoch 95/150\n",
      "768/768 [==============================] - 0s 66us/step - loss: 0.5054 - accuracy: 0.7370\n",
      "Epoch 96/150\n",
      "768/768 [==============================] - 0s 69us/step - loss: 0.4876 - accuracy: 0.7591\n",
      "Epoch 97/150\n",
      "768/768 [==============================] - 0s 65us/step - loss: 0.4902 - accuracy: 0.7878\n",
      "Epoch 98/150\n",
      "768/768 [==============================] - 0s 69us/step - loss: 0.4863 - accuracy: 0.7669\n",
      "Epoch 99/150\n",
      "768/768 [==============================] - 0s 74us/step - loss: 0.4870 - accuracy: 0.7747\n",
      "Epoch 100/150\n",
      "768/768 [==============================] - 0s 65us/step - loss: 0.4866 - accuracy: 0.7617\n",
      "Epoch 101/150\n",
      "768/768 [==============================] - 0s 66us/step - loss: 0.4852 - accuracy: 0.7747\n",
      "Epoch 102/150\n",
      "768/768 [==============================] - 0s 69us/step - loss: 0.5033 - accuracy: 0.7461\n",
      "Epoch 103/150\n",
      "768/768 [==============================] - 0s 66us/step - loss: 0.4917 - accuracy: 0.7552\n",
      "Epoch 104/150\n",
      "768/768 [==============================] - 0s 69us/step - loss: 0.4902 - accuracy: 0.7799\n",
      "Epoch 105/150\n",
      "768/768 [==============================] - 0s 75us/step - loss: 0.5212 - accuracy: 0.7474\n",
      "Epoch 106/150\n",
      "768/768 [==============================] - 0s 71us/step - loss: 0.4899 - accuracy: 0.7695\n",
      "Epoch 107/150\n",
      "768/768 [==============================] - 0s 65us/step - loss: 0.4908 - accuracy: 0.7682\n",
      "Epoch 108/150\n",
      "768/768 [==============================] - 0s 69us/step - loss: 0.4941 - accuracy: 0.7695\n",
      "Epoch 109/150\n",
      "768/768 [==============================] - 0s 65us/step - loss: 0.4817 - accuracy: 0.7773\n",
      "Epoch 110/150\n",
      "768/768 [==============================] - 0s 65us/step - loss: 0.4871 - accuracy: 0.7604\n",
      "Epoch 111/150\n",
      "768/768 [==============================] - 0s 66us/step - loss: 0.4804 - accuracy: 0.7812\n",
      "Epoch 112/150\n",
      "768/768 [==============================] - 0s 66us/step - loss: 0.4900 - accuracy: 0.7656\n",
      "Epoch 113/150\n",
      "768/768 [==============================] - 0s 65us/step - loss: 0.4949 - accuracy: 0.7526\n",
      "Epoch 114/150\n",
      "768/768 [==============================] - 0s 66us/step - loss: 0.4898 - accuracy: 0.7552\n",
      "Epoch 115/150\n",
      "768/768 [==============================] - 0s 66us/step - loss: 0.4880 - accuracy: 0.7826\n",
      "Epoch 116/150\n",
      "768/768 [==============================] - 0s 65us/step - loss: 0.4891 - accuracy: 0.7721\n",
      "Epoch 117/150\n",
      "768/768 [==============================] - 0s 66us/step - loss: 0.4905 - accuracy: 0.7643\n",
      "Epoch 118/150\n",
      "768/768 [==============================] - 0s 67us/step - loss: 0.4830 - accuracy: 0.7682\n",
      "Epoch 119/150\n",
      "768/768 [==============================] - 0s 71us/step - loss: 0.4836 - accuracy: 0.7682\n",
      "Epoch 120/150\n",
      "768/768 [==============================] - 0s 64us/step - loss: 0.4959 - accuracy: 0.7604\n",
      "Epoch 121/150\n",
      "768/768 [==============================] - 0s 65us/step - loss: 0.4923 - accuracy: 0.7747\n",
      "Epoch 122/150\n",
      "768/768 [==============================] - 0s 65us/step - loss: 0.4837 - accuracy: 0.7643\n",
      "Epoch 123/150\n",
      "768/768 [==============================] - 0s 66us/step - loss: 0.4806 - accuracy: 0.7682\n",
      "Epoch 124/150\n",
      "768/768 [==============================] - 0s 67us/step - loss: 0.4813 - accuracy: 0.7682\n",
      "Epoch 125/150\n",
      "768/768 [==============================] - 0s 66us/step - loss: 0.4822 - accuracy: 0.7852\n",
      "Epoch 126/150\n",
      "768/768 [==============================] - 0s 67us/step - loss: 0.4767 - accuracy: 0.7695\n",
      "Epoch 127/150\n",
      "768/768 [==============================] - 0s 69us/step - loss: 0.4890 - accuracy: 0.7617\n",
      "Epoch 128/150\n",
      "768/768 [==============================] - 0s 70us/step - loss: 0.4689 - accuracy: 0.7721\n",
      "Epoch 129/150\n",
      "768/768 [==============================] - 0s 65us/step - loss: 0.4779 - accuracy: 0.7708\n",
      "Epoch 130/150\n",
      "768/768 [==============================] - 0s 66us/step - loss: 0.4673 - accuracy: 0.7826\n",
      "Epoch 131/150\n",
      "768/768 [==============================] - 0s 66us/step - loss: 0.4749 - accuracy: 0.7708\n",
      "Epoch 132/150\n",
      "768/768 [==============================] - 0s 66us/step - loss: 0.4783 - accuracy: 0.7826\n",
      "Epoch 133/150\n",
      "768/768 [==============================] - 0s 66us/step - loss: 0.4805 - accuracy: 0.7656\n",
      "Epoch 134/150\n",
      "768/768 [==============================] - 0s 65us/step - loss: 0.4818 - accuracy: 0.7643\n",
      "Epoch 135/150\n",
      "768/768 [==============================] - 0s 69us/step - loss: 0.4699 - accuracy: 0.7760\n",
      "Epoch 136/150\n",
      "768/768 [==============================] - 0s 64us/step - loss: 0.4700 - accuracy: 0.7708\n",
      "Epoch 137/150\n",
      "768/768 [==============================] - 0s 64us/step - loss: 0.4663 - accuracy: 0.7852\n",
      "Epoch 138/150\n",
      "768/768 [==============================] - 0s 65us/step - loss: 0.4757 - accuracy: 0.7812\n",
      "Epoch 139/150\n",
      "768/768 [==============================] - 0s 68us/step - loss: 0.4668 - accuracy: 0.7799\n",
      "Epoch 140/150\n",
      "768/768 [==============================] - 0s 66us/step - loss: 0.4777 - accuracy: 0.7865\n",
      "Epoch 141/150\n",
      "768/768 [==============================] - 0s 66us/step - loss: 0.4727 - accuracy: 0.7760\n",
      "Epoch 142/150\n",
      "768/768 [==============================] - 0s 66us/step - loss: 0.4826 - accuracy: 0.7682\n",
      "Epoch 143/150\n",
      "768/768 [==============================] - 0s 65us/step - loss: 0.4750 - accuracy: 0.7760\n",
      "Epoch 144/150\n",
      "768/768 [==============================] - 0s 65us/step - loss: 0.4762 - accuracy: 0.7695\n",
      "Epoch 145/150\n",
      "768/768 [==============================] - 0s 71us/step - loss: 0.4843 - accuracy: 0.7734\n",
      "Epoch 146/150\n",
      "768/768 [==============================] - 0s 69us/step - loss: 0.4990 - accuracy: 0.7591\n",
      "Epoch 147/150\n",
      "768/768 [==============================] - 0s 66us/step - loss: 0.4853 - accuracy: 0.7760\n",
      "Epoch 148/150\n",
      "768/768 [==============================] - 0s 67us/step - loss: 0.4727 - accuracy: 0.7747\n",
      "Epoch 149/150\n",
      "768/768 [==============================] - 0s 64us/step - loss: 0.4735 - accuracy: 0.7760\n",
      "Epoch 150/150\n",
      "768/768 [==============================] - 0s 64us/step - loss: 0.4792 - accuracy: 0.7812\n",
      "768/768 [==============================] - 0s 60us/step\n",
      "\n",
      "accuracy: 78.26%\n"
     ]
    }
   ],
   "source": [
    "from keras.models import Sequential # 입력이 하나, output도 하나인 망\n",
    "from keras.layers import Dense\n",
    "import numpy\n",
    "numpy.random.seed(7)\n",
    "dataset = numpy.loadtxt(\"pima.data\",delimiter=',')\n",
    "X = dataset[:, 0:8] # 8개 독립변수\n",
    "Y = dataset[:, 8] # 종속변수\n",
    "\n",
    "model = Sequential()\n",
    "# ?x8 8x12 => ?x12 \n",
    "model.add(Dense(12, input_dim=8, activation = 'relu'))\n",
    "# ?x12 12x8 => ?x8\n",
    "model.add(Dense(8, activation = 'relu'))\n",
    "# ?x8 8x1 => ?x1\n",
    "model.add(Dense(1, activation='sigmoid')) # sigmoid: 0.5를 기준으로 (0, 1)\n",
    "model.compile(loss='binary_crossentropy', optimizer='adam',\n",
    "              metrics=['accuracy'])\n",
    "model.fit(X,Y,epochs=150, batch_size=10)\n",
    "scores = model.evaluate(X,Y)\n",
    "# 2번째 accuracy\n",
    "print(\"\\n%s: %.2f%%\" % (model.metrics_names[1], scores[1]*100))"
   ]
  },
  {
   "cell_type": "code",
   "execution_count": 3,
   "metadata": {},
   "outputs": [
    {
     "name": "stdout",
     "output_type": "stream",
     "text": [
      "Train on 514 samples, validate on 254 samples\n",
      "Epoch 1/150\n",
      "514/514 [==============================] - 0s 600us/step - loss: 0.6798 - accuracy: 0.6401 - val_loss: 0.6585 - val_accuracy: 0.6732\n",
      "Epoch 2/150\n",
      "514/514 [==============================] - 0s 97us/step - loss: 0.6689 - accuracy: 0.6401 - val_loss: 0.6529 - val_accuracy: 0.6732\n",
      "Epoch 3/150\n",
      "514/514 [==============================] - 0s 87us/step - loss: 0.6608 - accuracy: 0.6401 - val_loss: 0.6499 - val_accuracy: 0.6732\n",
      "Epoch 4/150\n",
      "514/514 [==============================] - 0s 95us/step - loss: 0.6507 - accuracy: 0.6362 - val_loss: 0.6414 - val_accuracy: 0.6850\n",
      "Epoch 5/150\n",
      "514/514 [==============================] - 0s 99us/step - loss: 0.6366 - accuracy: 0.6556 - val_loss: 0.6285 - val_accuracy: 0.6732\n",
      "Epoch 6/150\n",
      "514/514 [==============================] - 0s 91us/step - loss: 0.6278 - accuracy: 0.6459 - val_loss: 0.6164 - val_accuracy: 0.6890\n",
      "Epoch 7/150\n",
      "514/514 [==============================] - 0s 89us/step - loss: 0.6154 - accuracy: 0.6693 - val_loss: 0.6113 - val_accuracy: 0.6693\n",
      "Epoch 8/150\n",
      "514/514 [==============================] - 0s 97us/step - loss: 0.6138 - accuracy: 0.6576 - val_loss: 0.6064 - val_accuracy: 0.6378\n",
      "Epoch 9/150\n",
      "514/514 [==============================] - 0s 89us/step - loss: 0.6035 - accuracy: 0.6673 - val_loss: 0.6016 - val_accuracy: 0.6575\n",
      "Epoch 10/150\n",
      "514/514 [==============================] - 0s 91us/step - loss: 0.6010 - accuracy: 0.6907 - val_loss: 0.6006 - val_accuracy: 0.6378\n",
      "Epoch 11/150\n",
      "514/514 [==============================] - 0s 93us/step - loss: 0.5975 - accuracy: 0.6732 - val_loss: 0.6074 - val_accuracy: 0.6339\n",
      "Epoch 12/150\n",
      "514/514 [==============================] - 0s 87us/step - loss: 0.6033 - accuracy: 0.6751 - val_loss: 0.6052 - val_accuracy: 0.6378\n",
      "Epoch 13/150\n",
      "514/514 [==============================] - 0s 93us/step - loss: 0.5977 - accuracy: 0.6809 - val_loss: 0.5979 - val_accuracy: 0.6378\n",
      "Epoch 14/150\n",
      "514/514 [==============================] - 0s 93us/step - loss: 0.5921 - accuracy: 0.6887 - val_loss: 0.5924 - val_accuracy: 0.6811\n",
      "Epoch 15/150\n",
      "514/514 [==============================] - 0s 91us/step - loss: 0.5928 - accuracy: 0.6887 - val_loss: 0.5933 - val_accuracy: 0.6457\n",
      "Epoch 16/150\n",
      "514/514 [==============================] - 0s 89us/step - loss: 0.5982 - accuracy: 0.6770 - val_loss: 0.5926 - val_accuracy: 0.6496\n",
      "Epoch 17/150\n",
      "514/514 [==============================] - 0s 99us/step - loss: 0.5915 - accuracy: 0.6946 - val_loss: 0.5886 - val_accuracy: 0.6535\n",
      "Epoch 18/150\n",
      "514/514 [==============================] - 0s 93us/step - loss: 0.5878 - accuracy: 0.6887 - val_loss: 0.5902 - val_accuracy: 0.6535\n",
      "Epoch 19/150\n",
      "514/514 [==============================] - 0s 91us/step - loss: 0.5886 - accuracy: 0.7062 - val_loss: 0.5862 - val_accuracy: 0.6850\n",
      "Epoch 20/150\n",
      "514/514 [==============================] - 0s 91us/step - loss: 0.5875 - accuracy: 0.6946 - val_loss: 0.5882 - val_accuracy: 0.6457\n",
      "Epoch 21/150\n",
      "514/514 [==============================] - 0s 93us/step - loss: 0.5882 - accuracy: 0.6868 - val_loss: 0.5938 - val_accuracy: 0.6457\n",
      "Epoch 22/150\n",
      "514/514 [==============================] - 0s 118us/step - loss: 0.5848 - accuracy: 0.7082 - val_loss: 0.5920 - val_accuracy: 0.6457\n",
      "Epoch 23/150\n",
      "514/514 [==============================] - 0s 91us/step - loss: 0.5851 - accuracy: 0.6809 - val_loss: 0.5852 - val_accuracy: 0.6457\n",
      "Epoch 24/150\n",
      "514/514 [==============================] - 0s 93us/step - loss: 0.5753 - accuracy: 0.7004 - val_loss: 0.5913 - val_accuracy: 0.6535\n",
      "Epoch 25/150\n",
      "514/514 [==============================] - 0s 97us/step - loss: 0.5861 - accuracy: 0.7023 - val_loss: 0.5825 - val_accuracy: 0.6614\n",
      "Epoch 26/150\n",
      "514/514 [==============================] - 0s 97us/step - loss: 0.5785 - accuracy: 0.7082 - val_loss: 0.5865 - val_accuracy: 0.6772\n",
      "Epoch 27/150\n",
      "514/514 [==============================] - 0s 124us/step - loss: 0.5806 - accuracy: 0.7023 - val_loss: 0.5807 - val_accuracy: 0.6693\n",
      "Epoch 28/150\n",
      "514/514 [==============================] - 0s 91us/step - loss: 0.5834 - accuracy: 0.7082 - val_loss: 0.6284 - val_accuracy: 0.5984\n",
      "Epoch 29/150\n",
      "514/514 [==============================] - 0s 91us/step - loss: 0.5797 - accuracy: 0.7023 - val_loss: 0.5909 - val_accuracy: 0.7205\n",
      "Epoch 30/150\n",
      "514/514 [==============================] - 0s 103us/step - loss: 0.5762 - accuracy: 0.6965 - val_loss: 0.5833 - val_accuracy: 0.6850\n",
      "Epoch 31/150\n",
      "514/514 [==============================] - 0s 93us/step - loss: 0.5739 - accuracy: 0.7004 - val_loss: 0.5810 - val_accuracy: 0.6614\n",
      "Epoch 32/150\n",
      "514/514 [==============================] - 0s 93us/step - loss: 0.5794 - accuracy: 0.7004 - val_loss: 0.6009 - val_accuracy: 0.6575\n",
      "Epoch 33/150\n",
      "514/514 [==============================] - 0s 91us/step - loss: 0.5824 - accuracy: 0.7004 - val_loss: 0.6012 - val_accuracy: 0.6535\n",
      "Epoch 34/150\n",
      "514/514 [==============================] - 0s 93us/step - loss: 0.5710 - accuracy: 0.7101 - val_loss: 0.5782 - val_accuracy: 0.6811\n",
      "Epoch 35/150\n",
      "514/514 [==============================] - 0s 91us/step - loss: 0.5696 - accuracy: 0.7315 - val_loss: 0.5810 - val_accuracy: 0.6575\n",
      "Epoch 36/150\n",
      "514/514 [==============================] - 0s 93us/step - loss: 0.5793 - accuracy: 0.7004 - val_loss: 0.5810 - val_accuracy: 0.6457\n",
      "Epoch 37/150\n",
      "514/514 [==============================] - 0s 91us/step - loss: 0.5709 - accuracy: 0.7004 - val_loss: 0.5776 - val_accuracy: 0.7165\n",
      "Epoch 38/150\n",
      "514/514 [==============================] - 0s 103us/step - loss: 0.5696 - accuracy: 0.7082 - val_loss: 0.5719 - val_accuracy: 0.6890\n",
      "Epoch 39/150\n",
      "514/514 [==============================] - 0s 91us/step - loss: 0.5735 - accuracy: 0.6946 - val_loss: 0.5699 - val_accuracy: 0.7087\n",
      "Epoch 40/150\n",
      "514/514 [==============================] - 0s 91us/step - loss: 0.5690 - accuracy: 0.7218 - val_loss: 0.5732 - val_accuracy: 0.6772\n",
      "Epoch 41/150\n",
      "514/514 [==============================] - 0s 91us/step - loss: 0.5666 - accuracy: 0.7160 - val_loss: 0.5717 - val_accuracy: 0.6772\n",
      "Epoch 42/150\n",
      "514/514 [==============================] - 0s 91us/step - loss: 0.5664 - accuracy: 0.7374 - val_loss: 0.5858 - val_accuracy: 0.7008\n",
      "Epoch 43/150\n",
      "514/514 [==============================] - 0s 97us/step - loss: 0.5704 - accuracy: 0.7198 - val_loss: 0.5683 - val_accuracy: 0.7087\n",
      "Epoch 44/150\n",
      "514/514 [==============================] - 0s 93us/step - loss: 0.5687 - accuracy: 0.7062 - val_loss: 0.5714 - val_accuracy: 0.6850\n",
      "Epoch 45/150\n",
      "514/514 [==============================] - 0s 91us/step - loss: 0.5607 - accuracy: 0.7140 - val_loss: 0.5989 - val_accuracy: 0.6496\n",
      "Epoch 46/150\n",
      "514/514 [==============================] - 0s 91us/step - loss: 0.5682 - accuracy: 0.7160 - val_loss: 0.5754 - val_accuracy: 0.6929\n",
      "Epoch 47/150\n",
      "514/514 [==============================] - 0s 87us/step - loss: 0.5662 - accuracy: 0.7062 - val_loss: 0.5768 - val_accuracy: 0.7126\n",
      "Epoch 48/150\n",
      "514/514 [==============================] - 0s 89us/step - loss: 0.5661 - accuracy: 0.7140 - val_loss: 0.5729 - val_accuracy: 0.7047\n",
      "Epoch 49/150\n",
      "514/514 [==============================] - 0s 93us/step - loss: 0.5606 - accuracy: 0.7335 - val_loss: 0.5700 - val_accuracy: 0.6811\n",
      "Epoch 50/150\n",
      "514/514 [==============================] - 0s 93us/step - loss: 0.5609 - accuracy: 0.7354 - val_loss: 0.5782 - val_accuracy: 0.6969\n",
      "Epoch 51/150\n",
      "514/514 [==============================] - 0s 93us/step - loss: 0.5554 - accuracy: 0.7335 - val_loss: 0.5658 - val_accuracy: 0.7244\n",
      "Epoch 52/150\n",
      "514/514 [==============================] - 0s 95us/step - loss: 0.5603 - accuracy: 0.7179 - val_loss: 0.5704 - val_accuracy: 0.7205\n",
      "Epoch 53/150\n",
      "514/514 [==============================] - 0s 95us/step - loss: 0.5559 - accuracy: 0.7257 - val_loss: 0.5662 - val_accuracy: 0.7165\n",
      "Epoch 54/150\n",
      "514/514 [==============================] - 0s 91us/step - loss: 0.5573 - accuracy: 0.7276 - val_loss: 0.5640 - val_accuracy: 0.7047\n",
      "Epoch 55/150\n",
      "514/514 [==============================] - 0s 91us/step - loss: 0.5525 - accuracy: 0.7412 - val_loss: 0.5674 - val_accuracy: 0.7126\n",
      "Epoch 56/150\n",
      "514/514 [==============================] - 0s 93us/step - loss: 0.5568 - accuracy: 0.7296 - val_loss: 0.5825 - val_accuracy: 0.6969\n",
      "Epoch 57/150\n",
      "514/514 [==============================] - 0s 103us/step - loss: 0.5556 - accuracy: 0.7296 - val_loss: 0.5668 - val_accuracy: 0.6969\n",
      "Epoch 58/150\n",
      "514/514 [==============================] - 0s 93us/step - loss: 0.5521 - accuracy: 0.7257 - val_loss: 0.5731 - val_accuracy: 0.6969\n",
      "Epoch 59/150\n",
      "514/514 [==============================] - 0s 91us/step - loss: 0.5536 - accuracy: 0.7198 - val_loss: 0.5658 - val_accuracy: 0.7126\n",
      "Epoch 60/150\n",
      "514/514 [==============================] - 0s 91us/step - loss: 0.5521 - accuracy: 0.7296 - val_loss: 0.5679 - val_accuracy: 0.7126\n",
      "Epoch 61/150\n",
      "514/514 [==============================] - 0s 93us/step - loss: 0.5503 - accuracy: 0.7549 - val_loss: 0.5738 - val_accuracy: 0.6772\n",
      "Epoch 62/150\n",
      "514/514 [==============================] - 0s 91us/step - loss: 0.5526 - accuracy: 0.7315 - val_loss: 0.5699 - val_accuracy: 0.7008\n",
      "Epoch 63/150\n",
      "514/514 [==============================] - 0s 91us/step - loss: 0.5465 - accuracy: 0.7335 - val_loss: 0.5809 - val_accuracy: 0.6654\n",
      "Epoch 64/150\n",
      "514/514 [==============================] - 0s 99us/step - loss: 0.5536 - accuracy: 0.7374 - val_loss: 0.5580 - val_accuracy: 0.7323\n",
      "Epoch 65/150\n",
      "514/514 [==============================] - 0s 89us/step - loss: 0.5519 - accuracy: 0.7296 - val_loss: 0.5673 - val_accuracy: 0.7047\n",
      "Epoch 66/150\n",
      "514/514 [==============================] - 0s 99us/step - loss: 0.5542 - accuracy: 0.7354 - val_loss: 0.5616 - val_accuracy: 0.7126\n",
      "Epoch 67/150\n",
      "514/514 [==============================] - 0s 89us/step - loss: 0.5447 - accuracy: 0.7393 - val_loss: 0.5587 - val_accuracy: 0.7244\n",
      "Epoch 68/150\n",
      "514/514 [==============================] - 0s 103us/step - loss: 0.5489 - accuracy: 0.7237 - val_loss: 0.5656 - val_accuracy: 0.7087\n",
      "Epoch 69/150\n",
      "514/514 [==============================] - 0s 91us/step - loss: 0.5423 - accuracy: 0.7393 - val_loss: 0.5626 - val_accuracy: 0.7126\n",
      "Epoch 70/150\n",
      "514/514 [==============================] - 0s 91us/step - loss: 0.5490 - accuracy: 0.7607 - val_loss: 0.5656 - val_accuracy: 0.7323\n",
      "Epoch 71/150\n",
      "514/514 [==============================] - 0s 89us/step - loss: 0.5462 - accuracy: 0.7490 - val_loss: 0.5605 - val_accuracy: 0.7126\n",
      "Epoch 72/150\n",
      "514/514 [==============================] - 0s 89us/step - loss: 0.5429 - accuracy: 0.7451 - val_loss: 0.5553 - val_accuracy: 0.7362\n",
      "Epoch 73/150\n",
      "514/514 [==============================] - 0s 89us/step - loss: 0.5485 - accuracy: 0.7374 - val_loss: 0.5579 - val_accuracy: 0.7205\n",
      "Epoch 74/150\n",
      "514/514 [==============================] - 0s 93us/step - loss: 0.5351 - accuracy: 0.7393 - val_loss: 0.5562 - val_accuracy: 0.7283\n",
      "Epoch 75/150\n",
      "514/514 [==============================] - 0s 93us/step - loss: 0.5390 - accuracy: 0.7374 - val_loss: 0.5556 - val_accuracy: 0.7244\n",
      "Epoch 76/150\n",
      "514/514 [==============================] - 0s 89us/step - loss: 0.5395 - accuracy: 0.7471 - val_loss: 0.5610 - val_accuracy: 0.7008\n",
      "Epoch 77/150\n",
      "514/514 [==============================] - 0s 91us/step - loss: 0.5372 - accuracy: 0.7315 - val_loss: 0.5583 - val_accuracy: 0.7323\n",
      "Epoch 78/150\n",
      "514/514 [==============================] - 0s 91us/step - loss: 0.5353 - accuracy: 0.7412 - val_loss: 0.5488 - val_accuracy: 0.7402\n",
      "Epoch 79/150\n",
      "514/514 [==============================] - 0s 91us/step - loss: 0.5445 - accuracy: 0.7393 - val_loss: 0.5532 - val_accuracy: 0.7323\n",
      "Epoch 80/150\n",
      "514/514 [==============================] - 0s 91us/step - loss: 0.5348 - accuracy: 0.7549 - val_loss: 0.5498 - val_accuracy: 0.7244\n",
      "Epoch 81/150\n",
      "514/514 [==============================] - 0s 91us/step - loss: 0.5423 - accuracy: 0.7451 - val_loss: 0.5578 - val_accuracy: 0.7165\n",
      "Epoch 82/150\n",
      "514/514 [==============================] - 0s 93us/step - loss: 0.5317 - accuracy: 0.7335 - val_loss: 0.5468 - val_accuracy: 0.7402\n",
      "Epoch 83/150\n",
      "514/514 [==============================] - 0s 89us/step - loss: 0.5297 - accuracy: 0.7335 - val_loss: 0.5581 - val_accuracy: 0.7126\n",
      "Epoch 84/150\n",
      "514/514 [==============================] - 0s 91us/step - loss: 0.5344 - accuracy: 0.7510 - val_loss: 0.5443 - val_accuracy: 0.7402\n",
      "Epoch 85/150\n",
      "514/514 [==============================] - 0s 91us/step - loss: 0.5342 - accuracy: 0.7412 - val_loss: 0.5497 - val_accuracy: 0.7362\n",
      "Epoch 86/150\n",
      "514/514 [==============================] - 0s 91us/step - loss: 0.5286 - accuracy: 0.7393 - val_loss: 0.5464 - val_accuracy: 0.7362\n",
      "Epoch 87/150\n",
      "514/514 [==============================] - 0s 97us/step - loss: 0.5292 - accuracy: 0.7529 - val_loss: 0.5525 - val_accuracy: 0.7402\n",
      "Epoch 88/150\n",
      "514/514 [==============================] - 0s 91us/step - loss: 0.5261 - accuracy: 0.7490 - val_loss: 0.5560 - val_accuracy: 0.7205\n",
      "Epoch 89/150\n",
      "514/514 [==============================] - 0s 97us/step - loss: 0.5256 - accuracy: 0.7471 - val_loss: 0.5491 - val_accuracy: 0.7441\n",
      "Epoch 90/150\n",
      "514/514 [==============================] - 0s 93us/step - loss: 0.5292 - accuracy: 0.7529 - val_loss: 0.5470 - val_accuracy: 0.7402\n",
      "Epoch 91/150\n",
      "514/514 [==============================] - 0s 97us/step - loss: 0.5318 - accuracy: 0.7296 - val_loss: 0.5619 - val_accuracy: 0.7244\n",
      "Epoch 92/150\n",
      "514/514 [==============================] - 0s 91us/step - loss: 0.5381 - accuracy: 0.7374 - val_loss: 0.5533 - val_accuracy: 0.7165\n",
      "Epoch 93/150\n",
      "514/514 [==============================] - 0s 95us/step - loss: 0.5223 - accuracy: 0.7490 - val_loss: 0.5547 - val_accuracy: 0.7087\n",
      "Epoch 94/150\n",
      "514/514 [==============================] - 0s 91us/step - loss: 0.5264 - accuracy: 0.7529 - val_loss: 0.5452 - val_accuracy: 0.7283\n",
      "Epoch 95/150\n",
      "514/514 [==============================] - 0s 89us/step - loss: 0.5280 - accuracy: 0.7549 - val_loss: 0.5666 - val_accuracy: 0.7165\n",
      "Epoch 96/150\n",
      "514/514 [==============================] - 0s 93us/step - loss: 0.5289 - accuracy: 0.7374 - val_loss: 0.5455 - val_accuracy: 0.7362\n",
      "Epoch 97/150\n",
      "514/514 [==============================] - 0s 93us/step - loss: 0.5212 - accuracy: 0.7510 - val_loss: 0.5494 - val_accuracy: 0.7244\n",
      "Epoch 98/150\n",
      "514/514 [==============================] - 0s 91us/step - loss: 0.5289 - accuracy: 0.7393 - val_loss: 0.5555 - val_accuracy: 0.7205\n",
      "Epoch 99/150\n",
      "514/514 [==============================] - 0s 91us/step - loss: 0.5305 - accuracy: 0.7374 - val_loss: 0.5459 - val_accuracy: 0.7165\n",
      "Epoch 100/150\n",
      "514/514 [==============================] - 0s 93us/step - loss: 0.5276 - accuracy: 0.7354 - val_loss: 0.5342 - val_accuracy: 0.7441\n",
      "Epoch 101/150\n",
      "514/514 [==============================] - 0s 89us/step - loss: 0.5220 - accuracy: 0.7471 - val_loss: 0.5525 - val_accuracy: 0.7283\n",
      "Epoch 102/150\n",
      "514/514 [==============================] - 0s 103us/step - loss: 0.5154 - accuracy: 0.7568 - val_loss: 0.5408 - val_accuracy: 0.7520\n",
      "Epoch 103/150\n",
      "514/514 [==============================] - 0s 91us/step - loss: 0.5249 - accuracy: 0.7568 - val_loss: 0.5599 - val_accuracy: 0.7283\n",
      "Epoch 104/150\n",
      "514/514 [==============================] - 0s 89us/step - loss: 0.5196 - accuracy: 0.7529 - val_loss: 0.5384 - val_accuracy: 0.7402\n",
      "Epoch 105/150\n",
      "514/514 [==============================] - 0s 91us/step - loss: 0.5157 - accuracy: 0.7529 - val_loss: 0.5354 - val_accuracy: 0.7323\n",
      "Epoch 106/150\n",
      "514/514 [==============================] - 0s 91us/step - loss: 0.5217 - accuracy: 0.7393 - val_loss: 0.5369 - val_accuracy: 0.7323\n",
      "Epoch 107/150\n",
      "514/514 [==============================] - 0s 93us/step - loss: 0.5195 - accuracy: 0.7374 - val_loss: 0.5517 - val_accuracy: 0.7165\n",
      "Epoch 108/150\n",
      "514/514 [==============================] - 0s 93us/step - loss: 0.5256 - accuracy: 0.7646 - val_loss: 0.5374 - val_accuracy: 0.7402\n",
      "Epoch 109/150\n",
      "514/514 [==============================] - 0s 91us/step - loss: 0.5177 - accuracy: 0.7529 - val_loss: 0.5298 - val_accuracy: 0.7480\n",
      "Epoch 110/150\n",
      "514/514 [==============================] - 0s 91us/step - loss: 0.5157 - accuracy: 0.7549 - val_loss: 0.5481 - val_accuracy: 0.7283\n",
      "Epoch 111/150\n",
      "514/514 [==============================] - 0s 95us/step - loss: 0.5207 - accuracy: 0.7510 - val_loss: 0.5356 - val_accuracy: 0.7480\n",
      "Epoch 112/150\n",
      "514/514 [==============================] - 0s 101us/step - loss: 0.5064 - accuracy: 0.7607 - val_loss: 0.5341 - val_accuracy: 0.7402\n",
      "Epoch 113/150\n"
     ]
    },
    {
     "name": "stdout",
     "output_type": "stream",
     "text": [
      "514/514 [==============================] - 0s 89us/step - loss: 0.5104 - accuracy: 0.7510 - val_loss: 0.5322 - val_accuracy: 0.7520\n",
      "Epoch 114/150\n",
      "514/514 [==============================] - 0s 105us/step - loss: 0.5097 - accuracy: 0.7607 - val_loss: 0.5427 - val_accuracy: 0.7362\n",
      "Epoch 115/150\n",
      "514/514 [==============================] - 0s 93us/step - loss: 0.5184 - accuracy: 0.7529 - val_loss: 0.5326 - val_accuracy: 0.7520\n",
      "Epoch 116/150\n",
      "514/514 [==============================] - 0s 93us/step - loss: 0.5086 - accuracy: 0.7549 - val_loss: 0.5336 - val_accuracy: 0.7441\n",
      "Epoch 117/150\n",
      "514/514 [==============================] - 0s 103us/step - loss: 0.5151 - accuracy: 0.7607 - val_loss: 0.5518 - val_accuracy: 0.7165\n",
      "Epoch 118/150\n",
      "514/514 [==============================] - 0s 93us/step - loss: 0.5105 - accuracy: 0.7588 - val_loss: 0.5326 - val_accuracy: 0.7480\n",
      "Epoch 119/150\n",
      "514/514 [==============================] - 0s 93us/step - loss: 0.5160 - accuracy: 0.7588 - val_loss: 0.5294 - val_accuracy: 0.7559\n",
      "Epoch 120/150\n",
      "514/514 [==============================] - 0s 99us/step - loss: 0.5026 - accuracy: 0.7568 - val_loss: 0.5286 - val_accuracy: 0.7520\n",
      "Epoch 121/150\n",
      "514/514 [==============================] - 0s 93us/step - loss: 0.5100 - accuracy: 0.7490 - val_loss: 0.5482 - val_accuracy: 0.7205\n",
      "Epoch 122/150\n",
      "514/514 [==============================] - 0s 99us/step - loss: 0.5171 - accuracy: 0.7471 - val_loss: 0.5330 - val_accuracy: 0.7402\n",
      "Epoch 123/150\n",
      "514/514 [==============================] - 0s 89us/step - loss: 0.5083 - accuracy: 0.7451 - val_loss: 0.5497 - val_accuracy: 0.7165\n",
      "Epoch 124/150\n",
      "514/514 [==============================] - 0s 89us/step - loss: 0.5088 - accuracy: 0.7568 - val_loss: 0.5329 - val_accuracy: 0.7441\n",
      "Epoch 125/150\n",
      "514/514 [==============================] - 0s 91us/step - loss: 0.5188 - accuracy: 0.7529 - val_loss: 0.5351 - val_accuracy: 0.7205\n",
      "Epoch 126/150\n",
      "514/514 [==============================] - 0s 89us/step - loss: 0.5031 - accuracy: 0.7393 - val_loss: 0.5458 - val_accuracy: 0.7205\n",
      "Epoch 127/150\n",
      "514/514 [==============================] - 0s 95us/step - loss: 0.5040 - accuracy: 0.7549 - val_loss: 0.5278 - val_accuracy: 0.7480\n",
      "Epoch 128/150\n",
      "514/514 [==============================] - 0s 91us/step - loss: 0.5002 - accuracy: 0.7549 - val_loss: 0.5252 - val_accuracy: 0.7598\n",
      "Epoch 129/150\n",
      "514/514 [==============================] - 0s 93us/step - loss: 0.5090 - accuracy: 0.7588 - val_loss: 0.5428 - val_accuracy: 0.7441\n",
      "Epoch 130/150\n",
      "514/514 [==============================] - 0s 93us/step - loss: 0.5064 - accuracy: 0.7529 - val_loss: 0.5256 - val_accuracy: 0.7677\n",
      "Epoch 131/150\n",
      "514/514 [==============================] - 0s 99us/step - loss: 0.5048 - accuracy: 0.7529 - val_loss: 0.5442 - val_accuracy: 0.7402\n",
      "Epoch 132/150\n",
      "514/514 [==============================] - 0s 93us/step - loss: 0.5093 - accuracy: 0.7549 - val_loss: 0.5274 - val_accuracy: 0.7441\n",
      "Epoch 133/150\n",
      "514/514 [==============================] - 0s 91us/step - loss: 0.4993 - accuracy: 0.7588 - val_loss: 0.5194 - val_accuracy: 0.7677\n",
      "Epoch 134/150\n",
      "514/514 [==============================] - 0s 93us/step - loss: 0.5006 - accuracy: 0.7665 - val_loss: 0.5303 - val_accuracy: 0.7677\n",
      "Epoch 135/150\n",
      "514/514 [==============================] - 0s 91us/step - loss: 0.4971 - accuracy: 0.7704 - val_loss: 0.5199 - val_accuracy: 0.7638\n",
      "Epoch 136/150\n",
      "514/514 [==============================] - 0s 93us/step - loss: 0.5079 - accuracy: 0.7510 - val_loss: 0.5180 - val_accuracy: 0.7756\n",
      "Epoch 137/150\n",
      "514/514 [==============================] - 0s 91us/step - loss: 0.5141 - accuracy: 0.7374 - val_loss: 0.5199 - val_accuracy: 0.7598\n",
      "Epoch 138/150\n",
      "514/514 [==============================] - 0s 105us/step - loss: 0.5014 - accuracy: 0.7568 - val_loss: 0.5160 - val_accuracy: 0.7638\n",
      "Epoch 139/150\n",
      "514/514 [==============================] - 0s 91us/step - loss: 0.5007 - accuracy: 0.7665 - val_loss: 0.5275 - val_accuracy: 0.7559\n",
      "Epoch 140/150\n",
      "514/514 [==============================] - 0s 101us/step - loss: 0.4978 - accuracy: 0.7685 - val_loss: 0.5195 - val_accuracy: 0.7520\n",
      "Epoch 141/150\n",
      "514/514 [==============================] - 0s 93us/step - loss: 0.4981 - accuracy: 0.7665 - val_loss: 0.5152 - val_accuracy: 0.7717\n",
      "Epoch 142/150\n",
      "514/514 [==============================] - 0s 93us/step - loss: 0.4985 - accuracy: 0.7549 - val_loss: 0.5235 - val_accuracy: 0.7441\n",
      "Epoch 143/150\n",
      "514/514 [==============================] - 0s 93us/step - loss: 0.5084 - accuracy: 0.7471 - val_loss: 0.5233 - val_accuracy: 0.7717\n",
      "Epoch 144/150\n",
      "514/514 [==============================] - 0s 93us/step - loss: 0.5151 - accuracy: 0.7626 - val_loss: 0.5228 - val_accuracy: 0.7480\n",
      "Epoch 145/150\n",
      "514/514 [==============================] - 0s 89us/step - loss: 0.5029 - accuracy: 0.7510 - val_loss: 0.5110 - val_accuracy: 0.7638\n",
      "Epoch 146/150\n",
      "514/514 [==============================] - 0s 93us/step - loss: 0.5015 - accuracy: 0.7568 - val_loss: 0.5157 - val_accuracy: 0.7638\n",
      "Epoch 147/150\n",
      "514/514 [==============================] - 0s 95us/step - loss: 0.4944 - accuracy: 0.7724 - val_loss: 0.5135 - val_accuracy: 0.7756\n",
      "Epoch 148/150\n",
      "514/514 [==============================] - 0s 101us/step - loss: 0.4982 - accuracy: 0.7646 - val_loss: 0.5184 - val_accuracy: 0.7520\n",
      "Epoch 149/150\n",
      "514/514 [==============================] - 0s 91us/step - loss: 0.4957 - accuracy: 0.7626 - val_loss: 0.5165 - val_accuracy: 0.7756\n",
      "Epoch 150/150\n",
      "514/514 [==============================] - 0s 91us/step - loss: 0.4935 - accuracy: 0.7607 - val_loss: 0.5118 - val_accuracy: 0.7598\n",
      "768/768 [==============================] - 0s 9us/step\n",
      "\n",
      "accuracy: 76.17%\n"
     ]
    }
   ],
   "source": [
    "from keras.models import Sequential # 입력이 하나, output도 하나인 망\n",
    "from keras.layers import Dense\n",
    "import numpy\n",
    "numpy.random.seed(7)\n",
    "dataset = numpy.loadtxt(\"pima.data\",delimiter=',')\n",
    "X = dataset[:, 0:8] # 8개 독립변수\n",
    "Y = dataset[:, 8] # 종속변수\n",
    "\n",
    "model = Sequential()\n",
    "# ?x8 8x12 => ?x12 \n",
    "# kernel_initializer='uniform': 우리도 모르는 가중치를 초기화 (균등분포로)\n",
    "model.add(Dense(12, input_dim=8, kernel_initializer='uniform', activation = 'relu'))\n",
    "# ?x12 12x8 => ?x8\n",
    "model.add(Dense(8, kernel_initializer='uniform', activation = 'relu'))\n",
    "# ?x8 8x1 => ?x1\n",
    "model.add(Dense(1, kernel_initializer='uniform', activation='sigmoid')) # sigmoid: 0.5를 기준으로 (0, 1)\n",
    "model.compile(loss='binary_crossentropy', optimizer='adam',\n",
    "              metrics=['accuracy'])\n",
    "\n",
    "# 데이터 분리 입력(train, test) : 과적합\n",
    "# history = model.fit(X,Y, epochs=150, batch_size=10)\n",
    "# train, validation, test\n",
    "history = model.fit(X,Y, validation_split=0.33, epochs=150, batch_size=10)\n",
    "scores = model.evaluate(X,Y)\n",
    "\n",
    "# 2번째 accuracy\n",
    "print(\"\\n%s: %.2f%%\" % (model.metrics_names[1], scores[1]*100))"
   ]
  },
  {
   "cell_type": "code",
   "execution_count": 4,
   "metadata": {},
   "outputs": [
    {
     "name": "stdout",
     "output_type": "stream",
     "text": [
      "dict_keys(['val_loss', 'val_accuracy', 'loss', 'accuracy'])\n"
     ]
    },
    {
     "data": {
      "image/png": "[encoded data removed]",
      "text/plain": [
       "<Figure size 432x288 with 1 Axes>"
      ]
     },
     "metadata": {
      "needs_background": "light"
     },
     "output_type": "display_data"
    }
   ],
   "source": [
    "print(history.history.keys())\n",
    "# 'val_loss', 'val_accuracy', 'loss', 'accuracy'\n",
    "\n",
    "%matplotlib inline\n",
    "import matplotlib.pyplot as plt\n",
    "\n",
    "plt.plot(history.history['accuracy'])\n",
    "plt.plot(history.history['val_accuracy'])\n",
    "plt.title('accuarcy')\n",
    "plt.ylabel('accuarcy')\n",
    "plt.xlabel('epoch')\n",
    "plt.legend(['train','test'], loc='upper left')\n",
    "plt.show()"
   ]
  },
  {
   "cell_type": "code",
   "execution_count": 5,
   "metadata": {
    "scrolled": true
   },
   "outputs": [
    {
     "data": {
      "image/png": "[encoded data removed]",
      "text/plain": [
       "<Figure size 432x288 with 1 Axes>"
      ]
     },
     "metadata": {
      "needs_background": "light"
     },
     "output_type": "display_data"
    }
   ],
   "source": [
    "plt.plot(history.history['loss'])\n",
    "plt.plot(history.history['val_loss'])\n",
    "plt.title('loss')\n",
    "plt.ylabel('loss')\n",
    "plt.xlabel('epoch')\n",
    "plt.legend(['train','test'], loc='upper left')\n",
    "plt.show()"
   ]
  },
  {
   "cell_type": "code",
   "execution_count": 30,
   "metadata": {},
   "outputs": [
    {
     "name": "stdout",
     "output_type": "stream",
     "text": [
      "(1000, 2)\n",
      "(1000,)\n"
     ]
    }
   ],
   "source": [
    "from sklearn.preprocessing import scale\n",
    "from sklearn.datasets import make_moons\n",
    "from sklearn.model_selection import train_test_split\n",
    "X, Y = make_moons(noise=0.2, random_state=0, n_samples=1000)\n",
    "X = scale(X)\n",
    "X_train, X_test, Y_train, Y_test = train_test_split(X, Y, test_size=.5)\n",
    "print(X.shape) # 1000x2\n",
    "print(Y.shape)"
   ]
  },
  {
   "cell_type": "code",
   "execution_count": 32,
   "metadata": {},
   "outputs": [
    {
     "data": {
      "text/plain": [
       "array([[ 1.77780578,  0.60758943],\n",
       "       [ 1.46176517, -0.4475523 ],\n",
       "       [-0.8189727 ,  0.60739519],\n",
       "       ...,\n",
       "       [-0.15495214, -1.64435644],\n",
       "       [-0.35557878, -0.34459172],\n",
       "       [-0.01889003, -1.4519874 ]])"
      ]
     },
     "execution_count": 32,
     "metadata": {},
     "output_type": "execute_result"
    }
   ],
   "source": [
    "X"
   ]
  },
  {
   "cell_type": "code",
   "execution_count": 7,
   "metadata": {
    "scrolled": true
   },
   "outputs": [
    {
     "data": {
      "text/plain": [
       "[Text(0, 0.5, 'Y'),\n",
       " Text(0.5, 0, 'X'),\n",
       " Text(0.5, 1.0, ' binary classification')]"
      ]
     },
     "execution_count": 7,
     "metadata": {},
     "output_type": "execute_result"
    },
    {
     "data": {
      "image/png": "[encoded data removed]",
      "text/plain": [
       "<Figure size 432x288 with 1 Axes>"
      ]
     },
     "metadata": {
      "needs_background": "light"
     },
     "output_type": "display_data"
    }
   ],
   "source": [
    "fig,ax = plt.subplots()\n",
    "ax.scatter(X[Y==0,0], X[Y==0, 1],label='Class 0')\n",
    "ax.scatter(X[Y==1,0], X[Y==1, 1], color='r', label='Class 1')\n",
    "ax.legend()\n",
    "ax.set(xlabel='X', ylabel='Y', title=' binary classification')"
   ]
  },
  {
   "cell_type": "code",
   "execution_count": 8,
   "metadata": {},
   "outputs": [
    {
     "name": "stdout",
     "output_type": "stream",
     "text": [
      "WARNING:tensorflow:From C:\\Users\\ICT01_22\\Anaconda3\\envs\\tf_test\\lib\\site-packages\\keras\\callbacks\\tensorboard_v1.py:146: The name tf.summary.histogram is deprecated. Please use tf.compat.v1.summary.histogram instead.\n",
      "\n",
      "WARNING:tensorflow:From C:\\Users\\ICT01_22\\Anaconda3\\envs\\tf_test\\lib\\site-packages\\keras\\callbacks\\tensorboard_v1.py:200: The name tf.summary.merge_all is deprecated. Please use tf.compat.v1.summary.merge_all instead.\n",
      "\n",
      "WARNING:tensorflow:From C:\\Users\\ICT01_22\\Anaconda3\\envs\\tf_test\\lib\\site-packages\\keras\\callbacks\\tensorboard_v1.py:203: The name tf.summary.FileWriter is deprecated. Please use tf.compat.v1.summary.FileWriter instead.\n",
      "\n"
     ]
    }
   ],
   "source": [
    "import keras\n",
    "# 비선형으로 나타내야 할 듯\n",
    "# 비선형 모델 - 신경망\n",
    "model = Sequential()\n",
    "# 행렬연산 => 설명을 확대 (변수 32 - 설명)\n",
    "# 100x2 2x32 = 64+32(바이어스개수) = 96 => 1000x32\n",
    "model.add(Dense(32, input_dim=2, activation='relu'))\n",
    "# 1000x32 32x1 = 32+1(bias) = 33 => 1000x1\n",
    "#                가중치가 있으면 bias도 있다.\n",
    "model.add(Dense(1,activation='sigmoid'))\n",
    "model.compile(optimizer='AdaDelta',\n",
    "             loss = 'binary_crossentropy',\n",
    "             metrics=['accuracy'])\n",
    "# callback 함수는 window 자동으로 호출 되는 함수\n",
    "tb_callback = keras.callbacks.TensorBoard( # graph 이미지 출력\n",
    "    log_dir = './Graph/model_1',\n",
    "    histogram_freq=100, write_graph=True,\n",
    "    write_images=False)\n",
    "tb_callback.set_model(model) # 콜백을 모델에 등록"
   ]
  },
  {
   "cell_type": "code",
   "execution_count": 9,
   "metadata": {},
   "outputs": [
    {
     "name": "stdout",
     "output_type": "stream",
     "text": [
      "WARNING:tensorflow:From C:\\Users\\ICT01_22\\Anaconda3\\envs\\tf_test\\lib\\site-packages\\keras\\callbacks\\tensorboard_v1.py:343: The name tf.Summary is deprecated. Please use tf.compat.v1.Summary instead.\n",
      "\n"
     ]
    }
   ],
   "source": [
    "hist = model.fit(X_train, Y_train, batch_size=32, epochs = 200,\n",
    "                verbose=0, validation_data=(X_test, Y_test),\n",
    "                callbacks=[tb_callback])"
   ]
  },
  {
   "cell_type": "code",
   "execution_count": 10,
   "metadata": {
    "scrolled": true
   },
   "outputs": [
    {
     "name": "stdout",
     "output_type": "stream",
     "text": [
      "Test loss:  0.12789358568191528\n",
      "Test accuracy 0.949999988079071\n"
     ]
    }
   ],
   "source": [
    "score = model.evaluate(X_test, Y_test, verbose=0)\n",
    "print(\"Test loss: \", score[0])\n",
    "print(\"Test accuracy\", score[1])"
   ]
  },
  {
   "cell_type": "code",
   "execution_count": 11,
   "metadata": {},
   "outputs": [
    {
     "name": "stdout",
     "output_type": "stream",
     "text": [
      "Model: \"sequential_4\"\n",
      "_________________________________________________________________\n",
      "Layer (type)                 Output Shape              Param #   \n",
      "=================================================================\n",
      "dense_10 (Dense)             (None, 32)                96        \n",
      "_________________________________________________________________\n",
      "dense_11 (Dense)             (None, 1)                 33        \n",
      "=================================================================\n",
      "Total params: 129\n",
      "Trainable params: 129\n",
      "Non-trainable params: 0\n",
      "_________________________________________________________________\n"
     ]
    }
   ],
   "source": [
    "keras.utils.print_summary(model)"
   ]
  },
  {
   "cell_type": "code",
   "execution_count": 12,
   "metadata": {},
   "outputs": [
    {
     "data": {
      "image/png": "[encoded data removed]",
      "text/plain": [
       "<IPython.core.display.Image object>"
      ]
     },
     "execution_count": 12,
     "metadata": {},
     "output_type": "execute_result"
    }
   ],
   "source": [
    "from keras.utils import plot_model\n",
    "keras.utils.plot_model(model)"
   ]
  },
  {
   "cell_type": "code",
   "execution_count": 13,
   "metadata": {},
   "outputs": [
    {
     "data": {
      "text/plain": [
       "<pydot.Dot at 0x2316a35de08>"
      ]
     },
     "execution_count": 13,
     "metadata": {},
     "output_type": "execute_result"
    }
   ],
   "source": [
    "%matplotlib inline\n",
    "from keras.utils.vis_utils import model_to_dot\n",
    "model_to_dot(model)"
   ]
  },
  {
   "cell_type": "code",
   "execution_count": 14,
   "metadata": {
    "scrolled": true
   },
   "outputs": [
    {
     "data": {
      "image/svg+xml": [
       "<svg height=\"255pt\" viewBox=\"0.00 0.00 181.00 191.00\" width=\"241pt\" xmlns=\"http://www.w3.org/2000/svg\" xmlns:xlink=\"http://www.w3.org/1999/xlink\">\n",
       "<g class=\"graph\" id=\"graph0\" transform=\"scale(1.33333 1.33333) rotate(0) translate(4 187)\">\n",
       "<title>G</title>\n",
       "<polygon fill=\"white\" points=\"-4,4 -4,-187 177,-187 177,4 -4,4\" stroke=\"none\"/>\n",
       "<!-- 2411207599048 -->\n",
       "<g class=\"node\" id=\"node1\"><title>2411207599048</title>\n",
       "<polygon fill=\"none\" points=\"0,-146.5 0,-182.5 173,-182.5 173,-146.5 0,-146.5\" stroke=\"black\"/>\n",
       "<text font-family=\"Times New Roman,serif\" font-size=\"14.00\" text-anchor=\"middle\" x=\"86.5\" y=\"-160.8\">dense_10_input: InputLayer</text>\n",
       "</g>\n",
       "<!-- 2411201092936 -->\n",
       "<g class=\"node\" id=\"node2\"><title>2411201092936</title>\n",
       "<polygon fill=\"none\" points=\"31,-73.5 31,-109.5 142,-109.5 142,-73.5 31,-73.5\" stroke=\"black\"/>\n",
       "<text font-family=\"Times New Roman,serif\" font-size=\"14.00\" text-anchor=\"middle\" x=\"86.5\" y=\"-87.8\">dense_10: Dense</text>\n",
       "</g>\n",
       "<!-- 2411207599048&#45;&gt;2411201092936 -->\n",
       "<g class=\"edge\" id=\"edge1\"><title>2411207599048-&gt;2411201092936</title>\n",
       "<path d=\"M86.5,-146.313C86.5,-138.289 86.5,-128.547 86.5,-119.569\" fill=\"none\" stroke=\"black\"/>\n",
       "<polygon fill=\"black\" points=\"90.0001,-119.529 86.5,-109.529 83.0001,-119.529 90.0001,-119.529\" stroke=\"black\"/>\n",
       "</g>\n",
       "<!-- 2411207426248 -->\n",
       "<g class=\"node\" id=\"node3\"><title>2411207426248</title>\n",
       "<polygon fill=\"none\" points=\"31,-0.5 31,-36.5 142,-36.5 142,-0.5 31,-0.5\" stroke=\"black\"/>\n",
       "<text font-family=\"Times New Roman,serif\" font-size=\"14.00\" text-anchor=\"middle\" x=\"86.5\" y=\"-14.8\">dense_11: Dense</text>\n",
       "</g>\n",
       "<!-- 2411201092936&#45;&gt;2411207426248 -->\n",
       "<g class=\"edge\" id=\"edge2\"><title>2411201092936-&gt;2411207426248</title>\n",
       "<path d=\"M86.5,-73.3129C86.5,-65.2895 86.5,-55.5475 86.5,-46.5691\" fill=\"none\" stroke=\"black\"/>\n",
       "<polygon fill=\"black\" points=\"90.0001,-46.5288 86.5,-36.5288 83.0001,-46.5289 90.0001,-46.5288\" stroke=\"black\"/>\n",
       "</g>\n",
       "</g>\n",
       "</svg>"
      ],
      "text/plain": [
       "<IPython.core.display.SVG object>"
      ]
     },
     "execution_count": 14,
     "metadata": {},
     "output_type": "execute_result"
    }
   ],
   "source": [
    "from IPython.display import SVG\n",
    "from keras.utils.vis_utils import model_to_dot\n",
    "SVG(model_to_dot(model).create(prog='dot', format='svg'))"
   ]
  },
  {
   "cell_type": "code",
   "execution_count": 15,
   "metadata": {},
   "outputs": [
    {
     "name": "stdout",
     "output_type": "stream",
     "text": [
      "Model: \"sequential_4\"\n",
      "_________________________________________________________________\n",
      "Layer (type)                 Output Shape              Param #   \n",
      "=================================================================\n",
      "dense_10 (Dense)             (None, 32)                96        \n",
      "_________________________________________________________________\n",
      "dense_11 (Dense)             (None, 1)                 33        \n",
      "=================================================================\n",
      "Total params: 129\n",
      "Trainable params: 129\n",
      "Non-trainable params: 0\n",
      "_________________________________________________________________\n"
     ]
    }
   ],
   "source": [
    "model.summary()"
   ]
  },
  {
   "cell_type": "code",
   "execution_count": 2,
   "metadata": {},
   "outputs": [
    {
     "ename": "NameError",
     "evalue": "name 'keras' is not defined",
     "output_type": "error",
     "traceback": [
      "\u001b[1;31m---------------------------------------------------------------------------\u001b[0m",
      "\u001b[1;31mNameError\u001b[0m                                 Traceback (most recent call last)",
      "\u001b[1;32m<ipython-input-2-b28ac5714d5f>\u001b[0m in \u001b[0;36m<module>\u001b[1;34m\u001b[0m\n\u001b[0;32m      2\u001b[0m \u001b[1;31m# customer callback함수의 제작\u001b[0m\u001b[1;33m\u001b[0m\u001b[1;33m\u001b[0m\u001b[1;33m\u001b[0m\u001b[0m\n\u001b[0;32m      3\u001b[0m \u001b[1;31m# 함수에 의해서 호출되는 객체\u001b[0m\u001b[1;33m\u001b[0m\u001b[1;33m\u001b[0m\u001b[1;33m\u001b[0m\u001b[0m\n\u001b[1;32m----> 4\u001b[1;33m \u001b[1;32mclass\u001b[0m \u001b[0mCustomHistory\u001b[0m\u001b[1;33m(\u001b[0m\u001b[0mkeras\u001b[0m\u001b[1;33m.\u001b[0m\u001b[0mcallbacks\u001b[0m\u001b[1;33m.\u001b[0m\u001b[0mCallback\u001b[0m\u001b[1;33m)\u001b[0m\u001b[1;33m:\u001b[0m \u001b[1;31m# 상속\u001b[0m\u001b[1;33m\u001b[0m\u001b[1;33m\u001b[0m\u001b[0m\n\u001b[0m\u001b[0;32m      5\u001b[0m     \u001b[1;32mdef\u001b[0m \u001b[0minit\u001b[0m\u001b[1;33m(\u001b[0m\u001b[0mself\u001b[0m\u001b[1;33m)\u001b[0m\u001b[1;33m:\u001b[0m \u001b[1;31m# __init__이 아니므로 호출가능\u001b[0m\u001b[1;33m\u001b[0m\u001b[1;33m\u001b[0m\u001b[0m\n\u001b[0;32m      6\u001b[0m         \u001b[0mself\u001b[0m\u001b[1;33m.\u001b[0m\u001b[0mtrain_loss\u001b[0m \u001b[1;33m=\u001b[0m \u001b[1;33m[\u001b[0m\u001b[1;33m]\u001b[0m\u001b[1;33m\u001b[0m\u001b[1;33m\u001b[0m\u001b[0m\n",
      "\u001b[1;31mNameError\u001b[0m: name 'keras' is not defined"
     ]
    }
   ],
   "source": [
    "# Callback class\n",
    "# customer callback함수의 제작\n",
    "# 함수에 의해서 호출되는 객체\n",
    "class CustomHistory(keras.callbacks.Callback): # 상속\n",
    "    def init(self): # __init__이 아니므로 호출가능\n",
    "        self.train_loss = []\n",
    "        self.val_loss = []\n",
    "        self.train_acc = []\n",
    "        self.val_acc = []\n",
    "    def on_epoch_end(self, batch, logs={}): # 오버라이딩\n",
    "        self.train_loss.append(logs.get('loss'))\n",
    "        self.val_loss.append(logs.get('val_loss'))\n",
    "        self.train_acc.append(logs.get('acc'))\n",
    "        self.val_acc.append(logs.get('val_acc'))"
   ]
  },
  {
   "cell_type": "code",
   "execution_count": 3,
   "metadata": {},
   "outputs": [
    {
     "name": "stderr",
     "output_type": "stream",
     "text": [
      "Using TensorFlow backend.\n",
      "C:\\Users\\ICT01_21\\Anaconda3\\envs\\tf_test\\lib\\site-packages\\tensorflow\\python\\framework\\dtypes.py:516: FutureWarning: Passing (type, 1) or '1type' as a synonym of type is deprecated; in a future version of numpy, it will be understood as (type, (1,)) / '(1,)type'.\n",
      "  _np_qint8 = np.dtype([(\"qint8\", np.int8, 1)])\n",
      "C:\\Users\\ICT01_21\\Anaconda3\\envs\\tf_test\\lib\\site-packages\\tensorflow\\python\\framework\\dtypes.py:517: FutureWarning: Passing (type, 1) or '1type' as a synonym of type is deprecated; in a future version of numpy, it will be understood as (type, (1,)) / '(1,)type'.\n",
      "  _np_quint8 = np.dtype([(\"quint8\", np.uint8, 1)])\n",
      "C:\\Users\\ICT01_21\\Anaconda3\\envs\\tf_test\\lib\\site-packages\\tensorflow\\python\\framework\\dtypes.py:518: FutureWarning: Passing (type, 1) or '1type' as a synonym of type is deprecated; in a future version of numpy, it will be understood as (type, (1,)) / '(1,)type'.\n",
      "  _np_qint16 = np.dtype([(\"qint16\", np.int16, 1)])\n",
      "C:\\Users\\ICT01_21\\Anaconda3\\envs\\tf_test\\lib\\site-packages\\tensorflow\\python\\framework\\dtypes.py:519: FutureWarning: Passing (type, 1) or '1type' as a synonym of type is deprecated; in a future version of numpy, it will be understood as (type, (1,)) / '(1,)type'.\n",
      "  _np_quint16 = np.dtype([(\"quint16\", np.uint16, 1)])\n",
      "C:\\Users\\ICT01_21\\Anaconda3\\envs\\tf_test\\lib\\site-packages\\tensorflow\\python\\framework\\dtypes.py:520: FutureWarning: Passing (type, 1) or '1type' as a synonym of type is deprecated; in a future version of numpy, it will be understood as (type, (1,)) / '(1,)type'.\n",
      "  _np_qint32 = np.dtype([(\"qint32\", np.int32, 1)])\n",
      "C:\\Users\\ICT01_21\\Anaconda3\\envs\\tf_test\\lib\\site-packages\\tensorflow\\python\\framework\\dtypes.py:525: FutureWarning: Passing (type, 1) or '1type' as a synonym of type is deprecated; in a future version of numpy, it will be understood as (type, (1,)) / '(1,)type'.\n",
      "  np_resource = np.dtype([(\"resource\", np.ubyte, 1)])\n",
      "C:\\Users\\ICT01_21\\Anaconda3\\envs\\tf_test\\lib\\site-packages\\tensorboard\\compat\\tensorflow_stub\\dtypes.py:541: FutureWarning: Passing (type, 1) or '1type' as a synonym of type is deprecated; in a future version of numpy, it will be understood as (type, (1,)) / '(1,)type'.\n",
      "  _np_qint8 = np.dtype([(\"qint8\", np.int8, 1)])\n",
      "C:\\Users\\ICT01_21\\Anaconda3\\envs\\tf_test\\lib\\site-packages\\tensorboard\\compat\\tensorflow_stub\\dtypes.py:542: FutureWarning: Passing (type, 1) or '1type' as a synonym of type is deprecated; in a future version of numpy, it will be understood as (type, (1,)) / '(1,)type'.\n",
      "  _np_quint8 = np.dtype([(\"quint8\", np.uint8, 1)])\n",
      "C:\\Users\\ICT01_21\\Anaconda3\\envs\\tf_test\\lib\\site-packages\\tensorboard\\compat\\tensorflow_stub\\dtypes.py:543: FutureWarning: Passing (type, 1) or '1type' as a synonym of type is deprecated; in a future version of numpy, it will be understood as (type, (1,)) / '(1,)type'.\n",
      "  _np_qint16 = np.dtype([(\"qint16\", np.int16, 1)])\n",
      "C:\\Users\\ICT01_21\\Anaconda3\\envs\\tf_test\\lib\\site-packages\\tensorboard\\compat\\tensorflow_stub\\dtypes.py:544: FutureWarning: Passing (type, 1) or '1type' as a synonym of type is deprecated; in a future version of numpy, it will be understood as (type, (1,)) / '(1,)type'.\n",
      "  _np_quint16 = np.dtype([(\"quint16\", np.uint16, 1)])\n",
      "C:\\Users\\ICT01_21\\Anaconda3\\envs\\tf_test\\lib\\site-packages\\tensorboard\\compat\\tensorflow_stub\\dtypes.py:545: FutureWarning: Passing (type, 1) or '1type' as a synonym of type is deprecated; in a future version of numpy, it will be understood as (type, (1,)) / '(1,)type'.\n",
      "  _np_qint32 = np.dtype([(\"qint32\", np.int32, 1)])\n",
      "C:\\Users\\ICT01_21\\Anaconda3\\envs\\tf_test\\lib\\site-packages\\tensorboard\\compat\\tensorflow_stub\\dtypes.py:550: FutureWarning: Passing (type, 1) or '1type' as a synonym of type is deprecated; in a future version of numpy, it will be understood as (type, (1,)) / '(1,)type'.\n",
      "  np_resource = np.dtype([(\"resource\", np.ubyte, 1)])\n"
     ]
    },
    {
     "name": "stdout",
     "output_type": "stream",
     "text": [
      "(60000, 28, 28) uint8\n",
      "(60000,) uint8\n",
      "(10000, 28, 28) uint8\n",
      "(10000,) uint8\n"
     ]
    }
   ],
   "source": [
    "from keras.datasets import mnist\n",
    "import matplotlib.pylab as plt\n",
    "\n",
    "(X_train0, y_train0), (X_test0, y_test0) =mnist.load_data() \n",
    "print(X_train0.shape, X_train0.dtype) # 60000, 28x28\n",
    "print(y_train0.shape, y_train0.dtype)# 60000\n",
    "print(X_test0.shape, X_test0.dtype) # 10000\n",
    "print(y_test0.shape, y_test0.dtype) # 10000 "
   ]
  },
  {
   "cell_type": "code",
   "execution_count": 4,
   "metadata": {},
   "outputs": [
    {
     "data": {
      "image/png": "[encoded data removed]",
      "text/plain": [
       "<Figure size 432x288 with 1 Axes>"
      ]
     },
     "metadata": {
      "needs_background": "light"
     },
     "output_type": "display_data"
    }
   ],
   "source": [
    "plt.imshow(X_train0[0])\n",
    "plt.grid(False)\n",
    "plt.show()"
   ]
  },
  {
   "cell_type": "code",
   "execution_count": 5,
   "metadata": {},
   "outputs": [
    {
     "name": "stdout",
     "output_type": "stream",
     "text": [
      "(60000, 784) float32\n"
     ]
    }
   ],
   "source": [
    "# fully-connected : flatten : FFNN운\n",
    "# 이미지 정규화 : 0-255컬러값 / 255 => 0-1\n",
    "X_train = X_train0.reshape(60000,784).astype('float32')/255.0\n",
    "X_test = X_test0.reshape(10000,784).astype('float32')/255.0\n",
    "print(X_train.shape, X_train.dtype) # 60000x784"
   ]
  },
  {
   "cell_type": "code",
   "execution_count": 6,
   "metadata": {},
   "outputs": [
    {
     "data": {
      "text/plain": [
       "array([5, 0, 4, 1, 9], dtype=uint8)"
      ]
     },
     "execution_count": 6,
     "metadata": {},
     "output_type": "execute_result"
    }
   ],
   "source": [
    "# 5,0,4,1,9 : 5(0000010000)\n",
    "y_train0[:5] # one-hot-encoding 여부 : multi-label => softmax\n",
    "# softmax는 경우의 수에 대한 확률값"
   ]
  },
  {
   "cell_type": "code",
   "execution_count": 7,
   "metadata": {},
   "outputs": [
    {
     "data": {
      "text/plain": [
       "array([[0., 0., 0., 0., 0., 1., 0., 0., 0., 0.],\n",
       "       [1., 0., 0., 0., 0., 0., 0., 0., 0., 0.],\n",
       "       [0., 0., 0., 0., 1., 0., 0., 0., 0., 0.],\n",
       "       [0., 1., 0., 0., 0., 0., 0., 0., 0., 0.],\n",
       "       [0., 0., 0., 0., 0., 0., 0., 0., 0., 1.]], dtype=float32)"
      ]
     },
     "execution_count": 7,
     "metadata": {},
     "output_type": "execute_result"
    }
   ],
   "source": [
    "from keras.utils import np_utils\n",
    "# np_utils.to_categorical() 로 원핫인코딩으로 변환\n",
    "Y_train = np_utils.to_categorical(y_train0, 10)\n",
    "Y_test = np_utils.to_categorical(y_test0, 10)\n",
    "Y_train[:5]"
   ]
  },
  {
   "cell_type": "code",
   "execution_count": 11,
   "metadata": {},
   "outputs": [],
   "source": [
    "import numpy\n",
    "from keras.models import Sequential\n",
    "from keras.layers import Dense\n",
    "from keras.optimizers import SGD\n",
    "numpy.random.seed(0)\n",
    "model = Sequential()\n",
    "# 60000x784, 784x15 => 60000x15\n",
    "model.add(Dense(15, input_dim=784, activation='sigmoid'))\n",
    "# 60000x15, 15x10 => 60000x10\n",
    "model.add(Dense(10, activation='sigmoid'))\n",
    "model.compile(optimizer=SGD(lr=0.2), loss='mean_squared_error',metrics=[\"accuracy\"])"
   ]
  },
  {
   "cell_type": "code",
   "execution_count": 12,
   "metadata": {},
   "outputs": [
    {
     "data": {
      "text/plain": [
       "[<keras.layers.core.Dense at 0x2a514c57cc8>,\n",
       " <keras.layers.core.Dense at 0x2a514c57b48>]"
      ]
     },
     "execution_count": 12,
     "metadata": {},
     "output_type": "execute_result"
    }
   ],
   "source": [
    "model.layers"
   ]
  },
  {
   "cell_type": "code",
   "execution_count": 16,
   "metadata": {},
   "outputs": [
    {
     "name": "stdout",
     "output_type": "stream",
     "text": [
      "dense_2\n",
      "(None, 15)\n",
      "(None, 10)\n",
      "<function sigmoid at 0x000002A510FE93A8>\n"
     ]
    }
   ],
   "source": [
    "l1 = model.layers[0]\n",
    "l2 = model.layers[1]\n",
    "# 레이어 속성으로 정보 호가인\n",
    "print(l1.name)\n",
    "print(l1.input_shape)\n",
    "print(l1.output_shape)\n",
    "print(l1.activation)"
   ]
  },
  {
   "cell_type": "code",
   "execution_count": 25,
   "metadata": {
    "scrolled": true
   },
   "outputs": [
    {
     "name": "stderr",
     "output_type": "stream",
     "text": [
      "C:\\Users\\ICT01_22\\Anaconda3\\envs\\tf_test\\lib\\site-packages\\ipykernel_launcher.py:2: UserWarning: The `nb_epoch` argument in `fit` has been renamed `epochs`.\n",
      "  \n"
     ]
    },
    {
     "name": "stdout",
     "output_type": "stream",
     "text": [
      "Train on 60000 samples, validate on 10000 samples\n",
      "Epoch 1/30\n",
      " - 1s - loss: 0.1019 - accuracy: 0.2440 - val_loss: 0.0864 - val_accuracy: 0.3212\n",
      "Epoch 2/30\n",
      " - 1s - loss: 0.0845 - accuracy: 0.3921 - val_loss: 0.0821 - val_accuracy: 0.4409\n",
      "Epoch 3/30\n",
      " - 1s - loss: 0.0796 - accuracy: 0.4997 - val_loss: 0.0765 - val_accuracy: 0.5340\n",
      "Epoch 4/30\n",
      " - 1s - loss: 0.0740 - accuracy: 0.5620 - val_loss: 0.0707 - val_accuracy: 0.5852\n",
      "Epoch 5/30\n",
      " - 1s - loss: 0.0682 - accuracy: 0.6149 - val_loss: 0.0649 - val_accuracy: 0.6522\n",
      "Epoch 6/30\n",
      " - 1s - loss: 0.0625 - accuracy: 0.6759 - val_loss: 0.0594 - val_accuracy: 0.6998\n",
      "Epoch 7/30\n",
      " - 1s - loss: 0.0576 - accuracy: 0.7101 - val_loss: 0.0551 - val_accuracy: 0.7316\n",
      "Epoch 8/30\n",
      " - 1s - loss: 0.0537 - accuracy: 0.7325 - val_loss: 0.0516 - val_accuracy: 0.7485\n",
      "Epoch 9/30\n",
      " - 1s - loss: 0.0505 - accuracy: 0.7474 - val_loss: 0.0486 - val_accuracy: 0.7639\n",
      "Epoch 10/30\n",
      " - 1s - loss: 0.0478 - accuracy: 0.7609 - val_loss: 0.0461 - val_accuracy: 0.7759\n",
      "Epoch 11/30\n",
      " - 1s - loss: 0.0455 - accuracy: 0.7739 - val_loss: 0.0439 - val_accuracy: 0.7893\n",
      "Epoch 12/30\n",
      " - 1s - loss: 0.0435 - accuracy: 0.7859 - val_loss: 0.0420 - val_accuracy: 0.8023\n",
      "Epoch 13/30\n",
      " - 1s - loss: 0.0417 - accuracy: 0.7977 - val_loss: 0.0402 - val_accuracy: 0.8132\n",
      "Epoch 14/30\n",
      " - 1s - loss: 0.0400 - accuracy: 0.8083 - val_loss: 0.0386 - val_accuracy: 0.8255\n",
      "Epoch 15/30\n",
      " - 1s - loss: 0.0385 - accuracy: 0.8192 - val_loss: 0.0371 - val_accuracy: 0.8359\n",
      "Epoch 16/30\n",
      " - 1s - loss: 0.0371 - accuracy: 0.8288 - val_loss: 0.0358 - val_accuracy: 0.8432\n",
      "Epoch 17/30\n",
      " - 1s - loss: 0.0359 - accuracy: 0.8371 - val_loss: 0.0345 - val_accuracy: 0.8503\n",
      "Epoch 18/30\n",
      " - 1s - loss: 0.0347 - accuracy: 0.8440 - val_loss: 0.0334 - val_accuracy: 0.8557\n",
      "Epoch 19/30\n",
      " - 1s - loss: 0.0336 - accuracy: 0.8506 - val_loss: 0.0323 - val_accuracy: 0.8618\n",
      "Epoch 20/30\n",
      " - 1s - loss: 0.0326 - accuracy: 0.8565 - val_loss: 0.0313 - val_accuracy: 0.8651\n",
      "Epoch 21/30\n",
      " - 0s - loss: 0.0316 - accuracy: 0.8610 - val_loss: 0.0304 - val_accuracy: 0.8706\n",
      "Epoch 22/30\n",
      " - 1s - loss: 0.0308 - accuracy: 0.8646 - val_loss: 0.0295 - val_accuracy: 0.8742\n",
      "Epoch 23/30\n",
      " - 1s - loss: 0.0299 - accuracy: 0.8680 - val_loss: 0.0287 - val_accuracy: 0.8777\n",
      "Epoch 24/30\n",
      " - 1s - loss: 0.0292 - accuracy: 0.8709 - val_loss: 0.0280 - val_accuracy: 0.8790\n",
      "Epoch 25/30\n",
      " - 1s - loss: 0.0285 - accuracy: 0.8738 - val_loss: 0.0273 - val_accuracy: 0.8814\n",
      "Epoch 26/30\n",
      " - 1s - loss: 0.0278 - accuracy: 0.8765 - val_loss: 0.0267 - val_accuracy: 0.8845\n",
      "Epoch 27/30\n",
      " - 1s - loss: 0.0272 - accuracy: 0.8787 - val_loss: 0.0261 - val_accuracy: 0.8863\n",
      "Epoch 28/30\n",
      " - 1s - loss: 0.0266 - accuracy: 0.8814 - val_loss: 0.0255 - val_accuracy: 0.8878\n",
      "Epoch 29/30\n",
      " - 1s - loss: 0.0261 - accuracy: 0.8829 - val_loss: 0.0250 - val_accuracy: 0.8894\n",
      "Epoch 30/30\n",
      " - 1s - loss: 0.0256 - accuracy: 0.8844 - val_loss: 0.0245 - val_accuracy: 0.8904\n"
     ]
    },
    {
     "data": {
      "image/png": "[encoded data removed]",
      "text/plain": [
       "<Figure size 432x288 with 1 Axes>"
      ]
     },
     "metadata": {
      "needs_background": "light"
     },
     "output_type": "display_data"
    }
   ],
   "source": [
    "hist = model.fit(X_train, Y_train, nb_epoch=30, batch_size=100,\n",
    "                validation_data=(X_test, Y_test), verbose=2)\n",
    "plt.plot(hist.history['loss'])\n",
    "plt.show()"
   ]
  },
  {
   "cell_type": "code",
   "execution_count": 26,
   "metadata": {
    "scrolled": true
   },
   "outputs": [
    {
     "data": {
      "image/png": "[encoded data removed]",
      "text/plain": [
       "<Figure size 432x288 with 1 Axes>"
      ]
     },
     "metadata": {
      "needs_background": "light"
     },
     "output_type": "display_data"
    },
    {
     "name": "stdout",
     "output_type": "stream",
     "text": [
      "<keras.engine.sequential.Sequential object at 0x000002316A491748>\n",
      "{'batch_size': 100, 'epochs': 30, 'steps': None, 'samples': 60000, 'verbose': 2, 'do_validation': True, 'metrics': ['loss', 'accuracy', 'val_loss', 'val_accuracy']}\n",
      "[0.24401666, 0.39213333, 0.49971667, 0.56201667, 0.6149167, 0.6759167, 0.7101333, 0.7325, 0.7474167, 0.76085, 0.77395, 0.7858833, 0.79766667, 0.8082833, 0.81918335, 0.82878333, 0.83713335, 0.84403336, 0.8506333, 0.85646665, 0.8609667, 0.8646167, 0.86795, 0.87091666, 0.87381667, 0.87651664, 0.8786833, 0.88136667, 0.8829, 0.8844]\n",
      "0.8903999924659729\n"
     ]
    }
   ],
   "source": [
    "plt.plot(hist.history['accuracy'], 'b-', label='training')\n",
    "plt.plot(hist.history['val_accuracy'],'r:', label='test')\n",
    "plt.legend()\n",
    "plt.show()\n",
    "\n",
    "print(hist.model)\n",
    "print(hist.params)\n",
    "print(hist.history['accuracy'])\n",
    "print(hist.history['val_accuracy'][29])"
   ]
  },
  {
   "cell_type": "code",
   "execution_count": 29,
   "metadata": {},
   "outputs": [
    {
     "data": {
      "image/png": "[encoded data removed]",
      "text/plain": [
       "<Figure size 432x288 with 1 Axes>"
      ]
     },
     "metadata": {
      "needs_background": "light"
     },
     "output_type": "display_data"
    }
   ],
   "source": [
    "plt.plot(custom_hist.train_loss, 'y', label='train loss')\n",
    "plt.show()"
   ]
  },
  {
   "cell_type": "markdown",
   "metadata": {},
   "source": [
    "# 문제 X_test의 이미지 한장의 label을 예측해 보시오."
   ]
  },
  {
   "cell_type": "code",
   "execution_count": 30,
   "metadata": {
    "scrolled": true
   },
   "outputs": [
    {
     "data": {
      "text/plain": [
       "array([[0.00637829, 0.00547901, 0.00877038, 0.02193788, 0.00460082,\n",
       "        0.0303109 , 0.00612152, 0.9678394 , 0.00214405, 0.01650386]],\n",
       "      dtype=float32)"
      ]
     },
     "execution_count": 30,
     "metadata": {},
     "output_type": "execute_result"
    }
   ],
   "source": [
    "model.predict(X_test[:1,:])"
   ]
  },
  {
   "cell_type": "code",
   "execution_count": 31,
   "metadata": {},
   "outputs": [
    {
     "data": {
      "text/plain": [
       "array([7], dtype=int64)"
      ]
     },
     "execution_count": 31,
     "metadata": {},
     "output_type": "execute_result"
    }
   ],
   "source": [
    "model.predict_classes(X_test[:1,:], verbose=0)"
   ]
  },
  {
   "cell_type": "markdown",
   "metadata": {},
   "source": [
    "# 문제 : 출력차수가 512인 레이어를 추가하시오"
   ]
  },
  {
   "cell_type": "code",
   "execution_count": 33,
   "metadata": {},
   "outputs": [],
   "source": [
    "import numpy as np\n",
    "np.random.seed(0)\n",
    "model = Sequential()\n",
    "\n",
    "model.add(Dense(512, input_dim=784, activation = 'sigmoid'))\n",
    "model.add(Dense(15, activation = 'sigmoid'))\n",
    "model.add(Dense(10, activation = 'sigmoid'))\n",
    "\n",
    "model.compile(optimizer=SGD(lr=0.2), loss='mean_squared_error', metrics=[\"accuracy\"])"
   ]
  },
  {
   "cell_type": "code",
   "execution_count": 34,
   "metadata": {},
   "outputs": [
    {
     "data": {
      "text/plain": [
       "[<keras.layers.core.Dense at 0x2316beaf448>,\n",
       " <keras.layers.core.Dense at 0x2316be798c8>,\n",
       " <keras.layers.core.Dense at 0x2316a700948>]"
      ]
     },
     "execution_count": 34,
     "metadata": {},
     "output_type": "execute_result"
    }
   ],
   "source": [
    "model.layers"
   ]
  },
  {
   "cell_type": "code",
   "execution_count": 17,
   "metadata": {},
   "outputs": [],
   "source": [
    "from keras.datasets import boston_housing\n",
    "(x_train, y_train), (x_test, y_test) = boston_housing.load_data()\n",
    "# 404x13 404         102x13  102"
   ]
  },
  {
   "cell_type": "code",
   "execution_count": 18,
   "metadata": {},
   "outputs": [
    {
     "name": "stdout",
     "output_type": "stream",
     "text": [
      "(404, 13)\n",
      "(404,)\n"
     ]
    }
   ],
   "source": [
    "print(x_train.shape)\n",
    "print(y_train.shape)"
   ]
  },
  {
   "cell_type": "code",
   "execution_count": 19,
   "metadata": {},
   "outputs": [],
   "source": [
    "model = Sequential()\n",
    "num_features = 13\n",
    "model.add(Dense(1, input_dim=num_features, activation='linear'))"
   ]
  },
  {
   "cell_type": "code",
   "execution_count": 21,
   "metadata": {},
   "outputs": [
    {
     "name": "stdout",
     "output_type": "stream",
     "text": [
      "Model: \"sequential_3\"\n",
      "_________________________________________________________________\n",
      "Layer (type)                 Output Shape              Param #   \n",
      "=================================================================\n",
      "dense_3 (Dense)              (None, 1)                 14        \n",
      "=================================================================\n",
      "Total params: 14\n",
      "Trainable params: 14\n",
      "Non-trainable params: 0\n",
      "_________________________________________________________________\n",
      "WARNING:tensorflow:From C:\\Users\\ICT01_21\\Anaconda3\\envs\\tf_test\\lib\\site-packages\\keras\\backend\\tensorflow_backend.py:422: The name tf.global_variables is deprecated. Please use tf.compat.v1.global_variables instead.\n",
      "\n",
      "Epoch 1/10\n",
      "404/404 [==============================] - 0s 589us/step - loss: 7023.8776 - mae: 60.6708\n",
      "Epoch 2/10\n",
      "404/404 [==============================] - 0s 390us/step - loss: 3311.9345 - mae: 45.0169\n",
      "Epoch 3/10\n",
      "404/404 [==============================] - 0s 400us/step - loss: 1605.0191 - mae: 31.9127\n",
      "Epoch 4/10\n",
      "404/404 [==============================] - 0s 414us/step - loss: 735.4058 - mae: 21.6749\n",
      "Epoch 5/10\n",
      "404/404 [==============================] - 0s 407us/step - loss: 396.4152 - mae: 15.9664\n",
      "Epoch 6/10\n",
      "404/404 [==============================] - 0s 411us/step - loss: 263.0387 - mae: 12.7069\n",
      "Epoch 7/10\n",
      "404/404 [==============================] - 0s 405us/step - loss: 192.5873 - mae: 10.5663\n",
      "Epoch 8/10\n",
      "404/404 [==============================] - 0s 410us/step - loss: 155.4126 - mae: 9.1973\n",
      "Epoch 9/10\n",
      "404/404 [==============================] - 0s 412us/step - loss: 132.8229 - mae: 8.2682\n",
      "Epoch 10/10\n",
      "404/404 [==============================] - 0s 410us/step - loss: 119.1515 - mae: 7.9713\n"
     ]
    },
    {
     "data": {
      "text/plain": [
       "<keras.callbacks.callbacks.History at 0x2a51514f688>"
      ]
     },
     "execution_count": 21,
     "metadata": {},
     "output_type": "execute_result"
    }
   ],
   "source": [
    "model.summary()\n",
    "model.compile(optimizer='rmsprop', loss='mse', metrics=['mae'])\n",
    "model.fit(x_train, y_train, batch_size=1, epochs=10, verbose=1)"
   ]
  },
  {
   "cell_type": "code",
   "execution_count": 22,
   "metadata": {},
   "outputs": [
    {
     "data": {
      "text/plain": [
       "(93.70194438859528, 9.679976466324455, 7.531961441040039)"
      ]
     },
     "execution_count": 22,
     "metadata": {},
     "output_type": "execute_result"
    }
   ],
   "source": [
    "# accuracy\n",
    "mse, mae = model.evaluate(x_test, y_test, verbose=False)\n",
    "rmse = numpy.sqrt(mse)\n",
    "mse, rmse, mae"
   ]
  },
  {
   "cell_type": "markdown",
   "metadata": {},
   "source": [
    "# 문제 : x_test의 앞의 3집을 예측해 보시오"
   ]
  },
  {
   "cell_type": "code",
   "execution_count": 25,
   "metadata": {},
   "outputs": [
    {
     "name": "stdout",
     "output_type": "stream",
     "text": [
      "[[ 8.069336]\n",
      " [15.050941]\n",
      " [23.648577]]\n"
     ]
    }
   ],
   "source": [
    "pred = model.predict(x_test[:3,:])\n",
    "print(pred)"
   ]
  },
  {
   "cell_type": "code",
   "execution_count": 26,
   "metadata": {},
   "outputs": [
    {
     "name": "stdout",
     "output_type": "stream",
     "text": [
      "[ 7.2 18.8 19. ]\n"
     ]
    }
   ],
   "source": [
    "real=y_test[:3]\n",
    "print(real)"
   ]
  },
  {
   "cell_type": "markdown",
   "metadata": {},
   "source": [
    "# 상관계수를 확인하시오"
   ]
  },
  {
   "cell_type": "code",
   "execution_count": 27,
   "metadata": {},
   "outputs": [
    {
     "name": "stdout",
     "output_type": "stream",
     "text": [
      "(3, 1)\n",
      "(3,)\n"
     ]
    }
   ],
   "source": [
    "print(pred.shape)\n",
    "print(real.shape)"
   ]
  },
  {
   "cell_type": "code",
   "execution_count": 30,
   "metadata": {},
   "outputs": [
    {
     "data": {
      "text/plain": [
       "array([[1.        , 0.84264868],\n",
       "       [0.84264868, 1.        ]])"
      ]
     },
     "execution_count": 30,
     "metadata": {},
     "output_type": "execute_result"
    }
   ],
   "source": [
    "pred =pred.reshape(3)\n",
    "import numpy as np\n",
    "np.corrcoef(pred,real)"
   ]
  },
  {
   "cell_type": "code",
   "execution_count": null,
   "metadata": {},
   "outputs": [],
   "source": []
  },
  {
   "cell_type": "code",
   "execution_count": 1,
   "metadata": {},
   "outputs": [
    {
     "name": "stderr",
     "output_type": "stream",
     "text": [
      "Using TensorFlow backend.\n",
      "C:\\Users\\ICT01_21\\Anaconda3\\envs\\tf_test\\lib\\site-packages\\tensorflow\\python\\framework\\dtypes.py:516: FutureWarning: Passing (type, 1) or '1type' as a synonym of type is deprecated; in a future version of numpy, it will be understood as (type, (1,)) / '(1,)type'.\n",
      "  _np_qint8 = np.dtype([(\"qint8\", np.int8, 1)])\n",
      "C:\\Users\\ICT01_21\\Anaconda3\\envs\\tf_test\\lib\\site-packages\\tensorflow\\python\\framework\\dtypes.py:517: FutureWarning: Passing (type, 1) or '1type' as a synonym of type is deprecated; in a future version of numpy, it will be understood as (type, (1,)) / '(1,)type'.\n",
      "  _np_quint8 = np.dtype([(\"quint8\", np.uint8, 1)])\n",
      "C:\\Users\\ICT01_21\\Anaconda3\\envs\\tf_test\\lib\\site-packages\\tensorflow\\python\\framework\\dtypes.py:518: FutureWarning: Passing (type, 1) or '1type' as a synonym of type is deprecated; in a future version of numpy, it will be understood as (type, (1,)) / '(1,)type'.\n",
      "  _np_qint16 = np.dtype([(\"qint16\", np.int16, 1)])\n",
      "C:\\Users\\ICT01_21\\Anaconda3\\envs\\tf_test\\lib\\site-packages\\tensorflow\\python\\framework\\dtypes.py:519: FutureWarning: Passing (type, 1) or '1type' as a synonym of type is deprecated; in a future version of numpy, it will be understood as (type, (1,)) / '(1,)type'.\n",
      "  _np_quint16 = np.dtype([(\"quint16\", np.uint16, 1)])\n",
      "C:\\Users\\ICT01_21\\Anaconda3\\envs\\tf_test\\lib\\site-packages\\tensorflow\\python\\framework\\dtypes.py:520: FutureWarning: Passing (type, 1) or '1type' as a synonym of type is deprecated; in a future version of numpy, it will be understood as (type, (1,)) / '(1,)type'.\n",
      "  _np_qint32 = np.dtype([(\"qint32\", np.int32, 1)])\n",
      "C:\\Users\\ICT01_21\\Anaconda3\\envs\\tf_test\\lib\\site-packages\\tensorflow\\python\\framework\\dtypes.py:525: FutureWarning: Passing (type, 1) or '1type' as a synonym of type is deprecated; in a future version of numpy, it will be understood as (type, (1,)) / '(1,)type'.\n",
      "  np_resource = np.dtype([(\"resource\", np.ubyte, 1)])\n",
      "C:\\Users\\ICT01_21\\Anaconda3\\envs\\tf_test\\lib\\site-packages\\tensorboard\\compat\\tensorflow_stub\\dtypes.py:541: FutureWarning: Passing (type, 1) or '1type' as a synonym of type is deprecated; in a future version of numpy, it will be understood as (type, (1,)) / '(1,)type'.\n",
      "  _np_qint8 = np.dtype([(\"qint8\", np.int8, 1)])\n",
      "C:\\Users\\ICT01_21\\Anaconda3\\envs\\tf_test\\lib\\site-packages\\tensorboard\\compat\\tensorflow_stub\\dtypes.py:542: FutureWarning: Passing (type, 1) or '1type' as a synonym of type is deprecated; in a future version of numpy, it will be understood as (type, (1,)) / '(1,)type'.\n",
      "  _np_quint8 = np.dtype([(\"quint8\", np.uint8, 1)])\n",
      "C:\\Users\\ICT01_21\\Anaconda3\\envs\\tf_test\\lib\\site-packages\\tensorboard\\compat\\tensorflow_stub\\dtypes.py:543: FutureWarning: Passing (type, 1) or '1type' as a synonym of type is deprecated; in a future version of numpy, it will be understood as (type, (1,)) / '(1,)type'.\n",
      "  _np_qint16 = np.dtype([(\"qint16\", np.int16, 1)])\n",
      "C:\\Users\\ICT01_21\\Anaconda3\\envs\\tf_test\\lib\\site-packages\\tensorboard\\compat\\tensorflow_stub\\dtypes.py:544: FutureWarning: Passing (type, 1) or '1type' as a synonym of type is deprecated; in a future version of numpy, it will be understood as (type, (1,)) / '(1,)type'.\n",
      "  _np_quint16 = np.dtype([(\"quint16\", np.uint16, 1)])\n",
      "C:\\Users\\ICT01_21\\Anaconda3\\envs\\tf_test\\lib\\site-packages\\tensorboard\\compat\\tensorflow_stub\\dtypes.py:545: FutureWarning: Passing (type, 1) or '1type' as a synonym of type is deprecated; in a future version of numpy, it will be understood as (type, (1,)) / '(1,)type'.\n",
      "  _np_qint32 = np.dtype([(\"qint32\", np.int32, 1)])\n",
      "C:\\Users\\ICT01_21\\Anaconda3\\envs\\tf_test\\lib\\site-packages\\tensorboard\\compat\\tensorflow_stub\\dtypes.py:550: FutureWarning: Passing (type, 1) or '1type' as a synonym of type is deprecated; in a future version of numpy, it will be understood as (type, (1,)) / '(1,)type'.\n",
      "  np_resource = np.dtype([(\"resource\", np.ubyte, 1)])\n"
     ]
    }
   ],
   "source": [
    "# scikits -- keras를 연결 : KerasClassifier, KerasRegressor\n",
    "import numpy as np\n",
    "from sklearn.model_selection import GridSearchCV\n",
    "from keras.models import Sequential\n",
    "from keras.layers import Dense\n",
    "from keras.wrappers.scikit_learn import KerasClassifier"
   ]
  },
  {
   "cell_type": "code",
   "execution_count": 28,
   "metadata": {},
   "outputs": [],
   "source": [
    "def create_model():\n",
    "    model =Sequential()\n",
    "    model.add(Dense(12, input_dim=8, activation='relu'))\n",
    "    model.add(Dense(1, activation='sigmoid'))\n",
    "    model.compile(loss = 'binary_crossentropy', optimizer='adam', metrics=['accuracy'])\n",
    "    return model\n",
    "\n",
    "np.random.seed(7)\n",
    "datasets = np.loadtxt('pima.csv', delimiter = \",\")\n",
    "X = dataset[:, 0:8]\n",
    "Y = dataset[:, 8]\n",
    "model = KerasClassifier(build_fn = create_model, verbose=0)"
   ]
  },
  {
   "cell_type": "code",
   "execution_count": 29,
   "metadata": {
    "scrolled": true
   },
   "outputs": [
    {
     "name": "stdout",
     "output_type": "stream",
     "text": [
      "스코어: 0.731772 사용한 조합: {'batch_size': 10, 'epochs': 100}\n",
      "0.592598 (0.069755) with : {'batch_size': 10, 'epochs': 10}\n",
      "0.684874 (0.025161) with : {'batch_size': 10, 'epochs': 50}\n",
      "0.731772 (0.039215) with : {'batch_size': 10, 'epochs': 100}\n",
      "0.563755 (0.098299) with : {'batch_size': 20, 'epochs': 10}\n",
      "0.675825 (0.037319) with : {'batch_size': 20, 'epochs': 50}\n",
      "0.660122 (0.019586) with : {'batch_size': 20, 'epochs': 100}\n",
      "0.584730 (0.073132) with : {'batch_size': 40, 'epochs': 10}\n",
      "0.703149 (0.015282) with : {'batch_size': 40, 'epochs': 50}\n",
      "0.673237 (0.043298) with : {'batch_size': 40, 'epochs': 100}\n",
      "0.483007 (0.084598) with : {'batch_size': 60, 'epochs': 10}\n",
      "0.632773 (0.031357) with : {'batch_size': 60, 'epochs': 50}\n",
      "0.681012 (0.032820) with : {'batch_size': 60, 'epochs': 100}\n",
      "0.535107 (0.067588) with : {'batch_size': 80, 'epochs': 10}\n",
      "0.669179 (0.037302) with : {'batch_size': 80, 'epochs': 50}\n",
      "0.681012 (0.027757) with : {'batch_size': 80, 'epochs': 100}\n",
      "0.452967 (0.107910) with : {'batch_size': 100, 'epochs': 10}\n",
      "0.622434 (0.076974) with : {'batch_size': 100, 'epochs': 50}\n",
      "0.668042 (0.034044) with : {'batch_size': 100, 'epochs': 100}\n"
     ]
    }
   ],
   "source": [
    "batch_size = [10,20,40,60,80,100]\n",
    "epochs = [10,50,100]\n",
    "\n",
    "param_grid = dict(batch_size = batch_size, epochs = epochs) # compile에서 수행하는 일\n",
    "grid = GridSearchCV(estimator = model, param_grid = param_grid, n_jobs =-1 )\n",
    "grid_result = grid.fit(X,Y)\n",
    "print(\"스코어: %f 사용한 조합: %s\"%(grid_result.best_score_, grid_result.best_params_))\n",
    "mean = grid_result.cv_results_['mean_test_score']\n",
    "stds = grid_result.cv_results_['std_test_score']\n",
    "params = grid_result.cv_results_['params']\n",
    "for mean, stdev, param in zip(mean, stds, params):\n",
    "    print(\"%f (%f) with : %r\" %(mean, stdev, param))"
   ]
  },
  {
   "cell_type": "markdown",
   "metadata": {},
   "source": [
    "- dense2 : 가중치 초기화 (kernel_initializer) 매개변수를 넣고 이름\n",
    "\n",
    "['uniform', 'lecun_uniform', 'normal', 'zero', 'glorot_normal',\n",
    "'glorot_uniform', 'he_normal', 'he_uniform']\n",
    "\n",
    "로 테스트 해서 가장 최적의 가중치 초기화 파라미터를 결정하시오.\n",
    "\n",
    "- dense1 : activation 함수를 달아주고\n",
    "\n",
    "['softmax', 'softplus', 'softsign', 'relu', 'tanh',\n",
    "'sigmoid', 'hard_sigmoid', 'linear']\n",
    "\n",
    "의 조합중 가장 좋은 activation 함수를 결정하시오."
   ]
  },
  {
   "cell_type": "code",
   "execution_count": 15,
   "metadata": {},
   "outputs": [],
   "source": [
    "init_mode =['uniform', 'lecun_uniform', 'normal', 'zero' ,'glorot_normal' ,\n",
    "                     'glorot_uniform', 'he_normal', 'he_uniform']\n",
    "activation = ['softmax', 'softplus', 'softsign',' relu','tanh','sigmoid', 'hard_sigmoid','linear']"
   ]
  },
  {
   "cell_type": "code",
   "execution_count": 16,
   "metadata": {},
   "outputs": [],
   "source": [
    "def create_model(init_mode, activation):\n",
    "    model = Sequential()\n",
    "    model.add(Dense(12, input_dim = 8, activation=activation))\n",
    "    model.add(Dense(1,kernel_initializer = init_mode, activation = 'sigmoid')) # 0 ~ 1\n",
    "    model.compile(loss = 'binary_crossentropy', optimizer='adam',\n",
    "                 metrics = ['accuracy'])\n",
    "    return model\n",
    "numpy.random.seed(7)\n",
    "datasets = numpy.loadtxt('pima.csv', delimiter = \",\")\n",
    "X = dataset[:,0:8]\n",
    "Y = dataset[:,8]\n",
    "model = KerasClassifier(build_fn= create_model, verbose=0)"
   ]
  },
  {
   "cell_type": "code",
   "execution_count": 17,
   "metadata": {},
   "outputs": [
    {
     "name": "stdout",
     "output_type": "stream",
     "text": [
      "스코어 : 0.652449 사용한 조합 :{'activation': 'softplus', 'init_mode': 'zero'}\n",
      "0.648544 (0.047819) with : {'activation': 'softmax', 'init_mode': 'uniform'}\n",
      "0.463271 (0.145905) with : {'activation': 'softmax', 'init_mode': 'lecun_uniform'}\n",
      "0.608064 (0.090425) with : {'activation': 'softmax', 'init_mode': 'normal'}\n",
      "0.651159 (0.052445) with : {'activation': 'softmax', 'init_mode': 'zero'}\n",
      "0.585816 (0.125225) with : {'activation': 'softmax', 'init_mode': 'glorot_normal'}\n",
      "0.553476 (0.098919) with : {'activation': 'softmax', 'init_mode': 'glorot_uniform'}\n",
      "0.574221 (0.104729) with : {'activation': 'softmax', 'init_mode': 'he_normal'}\n",
      "0.459375 (0.091045) with : {'activation': 'softmax', 'init_mode': 'he_uniform'}\n",
      "0.554647 (0.111991) with : {'activation': 'softplus', 'init_mode': 'uniform'}\n",
      "0.518386 (0.110589) with : {'activation': 'softplus', 'init_mode': 'lecun_uniform'}\n",
      "0.647280 (0.060250) with : {'activation': 'softplus', 'init_mode': 'normal'}\n",
      "0.652449 (0.051355) with : {'activation': 'softplus', 'init_mode': 'zero'}\n",
      "0.500187 (0.080851) with : {'activation': 'softplus', 'init_mode': 'glorot_normal'}\n",
      "0.590077 (0.108300) with : {'activation': 'softplus', 'init_mode': 'glorot_uniform'}\n",
      "0.604142 (0.096525) with : {'activation': 'softplus', 'init_mode': 'he_normal'}\n",
      "0.463229 (0.118792) with : {'activation': 'softplus', 'init_mode': 'he_uniform'}\n",
      "0.648570 (0.055569) with : {'activation': 'softsign', 'init_mode': 'uniform'}\n",
      "0.493074 (0.140885) with : {'activation': 'softsign', 'init_mode': 'lecun_uniform'}\n",
      "0.589823 (0.096041) with : {'activation': 'softsign', 'init_mode': 'normal'}\n",
      "0.651159 (0.052445) with : {'activation': 'softsign', 'init_mode': 'zero'}\n",
      "0.571904 (0.118381) with : {'activation': 'softsign', 'init_mode': 'glorot_normal'}\n",
      "0.617189 (0.056757) with : {'activation': 'softsign', 'init_mode': 'glorot_uniform'}\n",
      "0.460997 (0.068716) with : {'activation': 'softsign', 'init_mode': 'he_normal'}\n",
      "0.598981 (0.086311) with : {'activation': 'softsign', 'init_mode': 'he_uniform'}\n",
      "nan (nan) with : {'activation': ' relu', 'init_mode': 'uniform'}\n",
      "nan (nan) with : {'activation': ' relu', 'init_mode': 'lecun_uniform'}\n",
      "nan (nan) with : {'activation': ' relu', 'init_mode': 'normal'}\n",
      "nan (nan) with : {'activation': ' relu', 'init_mode': 'zero'}\n",
      "nan (nan) with : {'activation': ' relu', 'init_mode': 'glorot_normal'}\n",
      "nan (nan) with : {'activation': ' relu', 'init_mode': 'glorot_uniform'}\n",
      "nan (nan) with : {'activation': ' relu', 'init_mode': 'he_normal'}\n",
      "nan (nan) with : {'activation': ' relu', 'init_mode': 'he_uniform'}\n",
      "0.597810 (0.073594) with : {'activation': 'tanh', 'init_mode': 'uniform'}\n",
      "0.524794 (0.102137) with : {'activation': 'tanh', 'init_mode': 'lecun_uniform'}\n",
      "0.593676 (0.117545) with : {'activation': 'tanh', 'init_mode': 'normal'}\n",
      "0.651159 (0.052445) with : {'activation': 'tanh', 'init_mode': 'zero'}\n",
      "0.488049 (0.125425) with : {'activation': 'tanh', 'init_mode': 'glorot_normal'}\n",
      "0.504855 (0.127369) with : {'activation': 'tanh', 'init_mode': 'glorot_uniform'}\n",
      "0.535243 (0.072253) with : {'activation': 'tanh', 'init_mode': 'he_normal'}\n",
      "0.604405 (0.092791) with : {'activation': 'tanh', 'init_mode': 'he_uniform'}\n",
      "0.636780 (0.031007) with : {'activation': 'sigmoid', 'init_mode': 'uniform'}\n",
      "0.526993 (0.115145) with : {'activation': 'sigmoid', 'init_mode': 'lecun_uniform'}\n",
      "0.649860 (0.053033) with : {'activation': 'sigmoid', 'init_mode': 'normal'}\n",
      "0.651159 (0.052445) with : {'activation': 'sigmoid', 'init_mode': 'zero'}\n",
      "0.473746 (0.097935) with : {'activation': 'sigmoid', 'init_mode': 'glorot_normal'}\n",
      "0.519616 (0.146643) with : {'activation': 'sigmoid', 'init_mode': 'glorot_uniform'}\n",
      "0.635489 (0.059242) with : {'activation': 'sigmoid', 'init_mode': 'he_normal'}\n",
      "0.578355 (0.089449) with : {'activation': 'sigmoid', 'init_mode': 'he_uniform'}\n",
      "0.651159 (0.052445) with : {'activation': 'hard_sigmoid', 'init_mode': 'uniform'}\n",
      "0.463153 (0.134336) with : {'activation': 'hard_sigmoid', 'init_mode': 'lecun_uniform'}\n",
      "0.648544 (0.047819) with : {'activation': 'hard_sigmoid', 'init_mode': 'normal'}\n",
      "0.651159 (0.052445) with : {'activation': 'hard_sigmoid', 'init_mode': 'zero'}\n",
      "0.506366 (0.149626) with : {'activation': 'hard_sigmoid', 'init_mode': 'glorot_normal'}\n",
      "0.404694 (0.125898) with : {'activation': 'hard_sigmoid', 'init_mode': 'glorot_uniform'}\n",
      "0.499873 (0.110481) with : {'activation': 'hard_sigmoid', 'init_mode': 'he_normal'}\n",
      "0.541686 (0.140971) with : {'activation': 'hard_sigmoid', 'init_mode': 'he_uniform'}\n",
      "0.554528 (0.069139) with : {'activation': 'linear', 'init_mode': 'uniform'}\n",
      "0.513106 (0.151126) with : {'activation': 'linear', 'init_mode': 'lecun_uniform'}\n",
      "0.615873 (0.081055) with : {'activation': 'linear', 'init_mode': 'normal'}\n",
      "0.618538 (0.059630) with : {'activation': 'linear', 'init_mode': 'zero'}\n",
      "0.506502 (0.103171) with : {'activation': 'linear', 'init_mode': 'glorot_normal'}\n",
      "0.498642 (0.080950) with : {'activation': 'linear', 'init_mode': 'glorot_uniform'}\n",
      "0.563933 (0.091752) with : {'activation': 'linear', 'init_mode': 'he_normal'}\n",
      "0.486843 (0.102495) with : {'activation': 'linear', 'init_mode': 'he_uniform'}\n"
     ]
    }
   ],
   "source": [
    "# 매개 변수 입력 형태는 dict \n",
    "param_grid = dict(init_mode= init_mode, activation = activation) # compile에서 수행하지 않기때문에 매개변수를 입력해 줘야함\n",
    "grid = GridSearchCV(estimator =model , param_grid = param_grid\n",
    "                    , n_jobs=-1) # 참여 cpu 개수  \n",
    "grid_result = grid.fit(X,Y)\n",
    "print(\"스코어 : %f 사용한 조합 :%s\" % (grid_result.best_score_,\n",
    "                               grid_result.best_params_))\n",
    "means = grid_result.cv_results_['mean_test_score']\n",
    "stds = grid_result.cv_results_['std_test_score']\n",
    "params = grid_result.cv_results_['params']\n",
    "for mean, stdev, param in zip(means, stds, params):\n",
    "    print(\"%f (%f) with : %r\" %(mean,stdev,param))"
   ]
  },
  {
   "cell_type": "code",
   "execution_count": 8,
   "metadata": {},
   "outputs": [
    {
     "name": "stderr",
     "output_type": "stream",
     "text": [
      "C:\\python\\envs\\tf_test\\lib\\site-packages\\joblib\\externals\\loky\\process_executor.py:706: UserWarning: A worker stopped while some jobs were given to the executor. This can be caused by a too short worker timeout or by a memory leak.\n",
      "  \"timeout or by a memory leak.\", UserWarning\n"
     ]
    },
    {
     "name": "stdout",
     "output_type": "stream",
     "text": [
      "WARNING:tensorflow:From C:\\python\\envs\\tf_test\\lib\\site-packages\\tensorflow\\python\\ops\\math_grad.py:1250: add_dispatch_support.<locals>.wrapper (from tensorflow.python.ops.array_ops) is deprecated and will be removed in a future version.\n",
      "Instructions for updating:\n",
      "Use tf.where in 2.0, which has the same broadcast rule as np.where\n",
      "WARNING:tensorflow:From C:\\python\\envs\\tf_test\\lib\\site-packages\\keras\\backend\\tensorflow_backend.py:422: The name tf.global_variables is deprecated. Please use tf.compat.v1.global_variables instead.\n",
      "\n",
      "Epoch 1/100\n",
      "768/768 [==============================] - 1s 2ms/step - loss: 5.3827 - accuracy: 0.6510\n",
      "Epoch 2/100\n",
      "620/768 [=======================>......] - ETA: 0s - loss: 5.6973 - accuracy: 0.6306"
     ]
    },
    {
     "name": "stderr",
     "output_type": "stream",
     "text": [
      "C:\\python\\envs\\tf_test\\lib\\site-packages\\keras\\callbacks\\callbacks.py:846: RuntimeWarning: Early stopping conditioned on metric `var_accuracy` which is not available. Available metrics are: loss,accuracy\n",
      "  (self.monitor, ','.join(list(logs.keys()))), RuntimeWarning\n"
     ]
    },
    {
     "name": "stdout",
     "output_type": "stream",
     "text": [
      "768/768 [==============================] - 0s 252us/step - loss: 5.3827 - accuracy: 0.6510\n",
      "Epoch 3/100\n",
      "768/768 [==============================] - 0s 253us/step - loss: 5.3827 - accuracy: 0.6510\n",
      "Epoch 4/100\n",
      "768/768 [==============================] - 0s 236us/step - loss: 5.3827 - accuracy: 0.6510\n",
      "Epoch 5/100\n",
      "768/768 [==============================] - 0s 266us/step - loss: 5.3827 - accuracy: 0.6510\n",
      "Epoch 6/100\n",
      "768/768 [==============================] - 0s 243us/step - loss: 5.3827 - accuracy: 0.6510\n",
      "Epoch 7/100\n",
      "768/768 [==============================] - 0s 238us/step - loss: 5.3827 - accuracy: 0.6510\n",
      "Epoch 8/100\n",
      "768/768 [==============================] - 0s 246us/step - loss: 5.3827 - accuracy: 0.6510\n",
      "Epoch 9/100\n",
      "768/768 [==============================] - 0s 248us/step - loss: 5.3827 - accuracy: 0.6510\n",
      "Epoch 10/100\n",
      "768/768 [==============================] - 0s 260us/step - loss: 5.3827 - accuracy: 0.6510\n",
      "Epoch 11/100\n",
      "768/768 [==============================] - 0s 239us/step - loss: 5.3827 - accuracy: 0.6510\n",
      "Epoch 12/100\n",
      "768/768 [==============================] - 0s 242us/step - loss: 5.3827 - accuracy: 0.6510\n",
      "Epoch 13/100\n",
      "768/768 [==============================] - 0s 240us/step - loss: 5.3827 - accuracy: 0.6510\n",
      "Epoch 14/100\n",
      "768/768 [==============================] - 0s 249us/step - loss: 5.3827 - accuracy: 0.6510\n",
      "Epoch 15/100\n",
      "768/768 [==============================] - 0s 263us/step - loss: 5.3827 - accuracy: 0.6510\n",
      "Epoch 16/100\n",
      "768/768 [==============================] - 0s 266us/step - loss: 5.3827 - accuracy: 0.6510\n",
      "Epoch 17/100\n",
      "768/768 [==============================] - 0s 269us/step - loss: 5.3827 - accuracy: 0.6510\n",
      "Epoch 18/100\n",
      "768/768 [==============================] - 0s 268us/step - loss: 5.3827 - accuracy: 0.6510\n",
      "Epoch 19/100\n",
      "768/768 [==============================] - 0s 268us/step - loss: 5.3827 - accuracy: 0.6510\n",
      "Epoch 20/100\n",
      "768/768 [==============================] - 0s 300us/step - loss: 5.3827 - accuracy: 0.6510\n",
      "Epoch 21/100\n",
      "768/768 [==============================] - 0s 248us/step - loss: 5.3827 - accuracy: 0.6510\n",
      "Epoch 22/100\n",
      "768/768 [==============================] - 0s 256us/step - loss: 5.3827 - accuracy: 0.6510\n",
      "Epoch 23/100\n",
      "768/768 [==============================] - 0s 277us/step - loss: 5.3827 - accuracy: 0.6510\n",
      "Epoch 24/100\n",
      "768/768 [==============================] - 0s 273us/step - loss: 5.3827 - accuracy: 0.6510\n",
      "Epoch 25/100\n",
      "768/768 [==============================] - 0s 281us/step - loss: 5.3827 - accuracy: 0.6510\n",
      "Epoch 26/100\n",
      "768/768 [==============================] - 0s 264us/step - loss: 5.3827 - accuracy: 0.6510\n",
      "Epoch 27/100\n",
      "768/768 [==============================] - 0s 274us/step - loss: 5.3827 - accuracy: 0.6510\n",
      "Epoch 28/100\n",
      "768/768 [==============================] - 0s 268us/step - loss: 5.3827 - accuracy: 0.6510\n",
      "Epoch 29/100\n",
      "768/768 [==============================] - 0s 280us/step - loss: 5.3827 - accuracy: 0.6510\n",
      "Epoch 30/100\n",
      "768/768 [==============================] - 0s 270us/step - loss: 5.3827 - accuracy: 0.6510\n",
      "Epoch 31/100\n",
      "768/768 [==============================] - 0s 269us/step - loss: 5.3827 - accuracy: 0.6510\n",
      "Epoch 32/100\n",
      "768/768 [==============================] - 0s 272us/step - loss: 5.3827 - accuracy: 0.6510\n",
      "Epoch 33/100\n",
      "768/768 [==============================] - 0s 269us/step - loss: 5.3827 - accuracy: 0.6510\n",
      "Epoch 34/100\n",
      "768/768 [==============================] - 0s 303us/step - loss: 5.3827 - accuracy: 0.6510\n",
      "Epoch 35/100\n",
      "768/768 [==============================] - 0s 284us/step - loss: 5.3827 - accuracy: 0.6510\n",
      "Epoch 36/100\n",
      "768/768 [==============================] - 0s 240us/step - loss: 5.3827 - accuracy: 0.6510\n",
      "Epoch 37/100\n",
      "768/768 [==============================] - 0s 251us/step - loss: 5.3827 - accuracy: 0.6510\n",
      "Epoch 38/100\n",
      "768/768 [==============================] - 0s 238us/step - loss: 5.3827 - accuracy: 0.6510\n",
      "Epoch 39/100\n",
      "768/768 [==============================] - 0s 255us/step - loss: 5.3827 - accuracy: 0.6510\n",
      "Epoch 40/100\n",
      "768/768 [==============================] - 0s 239us/step - loss: 5.3827 - accuracy: 0.6510\n",
      "Epoch 41/100\n",
      "768/768 [==============================] - 0s 251us/step - loss: 5.3827 - accuracy: 0.6510\n",
      "Epoch 42/100\n",
      "768/768 [==============================] - 0s 238us/step - loss: 5.3827 - accuracy: 0.6510\n",
      "Epoch 43/100\n",
      "768/768 [==============================] - 0s 240us/step - loss: 5.3827 - accuracy: 0.6510\n",
      "Epoch 44/100\n",
      "768/768 [==============================] - 0s 253us/step - loss: 5.3827 - accuracy: 0.6510\n",
      "Epoch 45/100\n",
      "768/768 [==============================] - 0s 253us/step - loss: 5.3827 - accuracy: 0.6510\n",
      "Epoch 46/100\n",
      "768/768 [==============================] - 0s 229us/step - loss: 5.3827 - accuracy: 0.6510\n",
      "Epoch 47/100\n",
      "768/768 [==============================] - 0s 235us/step - loss: 5.3827 - accuracy: 0.6510\n",
      "Epoch 48/100\n",
      "768/768 [==============================] - 0s 235us/step - loss: 5.3827 - accuracy: 0.6510\n",
      "Epoch 49/100\n",
      "768/768 [==============================] - 0s 243us/step - loss: 5.3827 - accuracy: 0.6510\n",
      "Epoch 50/100\n",
      "768/768 [==============================] - 0s 251us/step - loss: 5.3827 - accuracy: 0.6510\n",
      "Epoch 51/100\n",
      "768/768 [==============================] - 0s 249us/step - loss: 5.3827 - accuracy: 0.6510\n",
      "Epoch 52/100\n",
      "768/768 [==============================] - 0s 239us/step - loss: 5.3827 - accuracy: 0.6510\n",
      "Epoch 53/100\n",
      "768/768 [==============================] - 0s 244us/step - loss: 5.3827 - accuracy: 0.6510\n",
      "Epoch 54/100\n",
      "768/768 [==============================] - 0s 242us/step - loss: 5.3827 - accuracy: 0.6510\n",
      "Epoch 55/100\n",
      "768/768 [==============================] - 0s 244us/step - loss: 5.3827 - accuracy: 0.6510\n",
      "Epoch 56/100\n",
      "768/768 [==============================] - 0s 238us/step - loss: 5.3827 - accuracy: 0.6510\n",
      "Epoch 57/100\n",
      "768/768 [==============================] - 0s 226us/step - loss: 5.3827 - accuracy: 0.6510\n",
      "Epoch 58/100\n",
      "768/768 [==============================] - 0s 240us/step - loss: 5.3827 - accuracy: 0.6510\n",
      "Epoch 59/100\n",
      "768/768 [==============================] - 0s 234us/step - loss: 5.3827 - accuracy: 0.6510\n",
      "Epoch 60/100\n",
      "768/768 [==============================] - 0s 251us/step - loss: 5.3827 - accuracy: 0.6510\n",
      "Epoch 61/100\n",
      "768/768 [==============================] - 0s 244us/step - loss: 5.3827 - accuracy: 0.6510\n",
      "Epoch 62/100\n",
      "768/768 [==============================] - 0s 232us/step - loss: 5.3827 - accuracy: 0.6510\n",
      "Epoch 63/100\n",
      "768/768 [==============================] - 0s 231us/step - loss: 5.3827 - accuracy: 0.6510\n",
      "Epoch 64/100\n",
      "768/768 [==============================] - 0s 240us/step - loss: 5.3827 - accuracy: 0.6510\n",
      "Epoch 65/100\n",
      "768/768 [==============================] - 0s 238us/step - loss: 5.3827 - accuracy: 0.6510\n",
      "Epoch 66/100\n",
      "768/768 [==============================] - 0s 237us/step - loss: 5.3827 - accuracy: 0.6510\n",
      "Epoch 67/100\n",
      "768/768 [==============================] - 0s 297us/step - loss: 5.3827 - accuracy: 0.6510\n",
      "Epoch 68/100\n",
      "768/768 [==============================] - 0s 255us/step - loss: 5.3827 - accuracy: 0.6510\n",
      "Epoch 69/100\n",
      "768/768 [==============================] - 0s 234us/step - loss: 5.3827 - accuracy: 0.6510\n",
      "Epoch 70/100\n",
      "768/768 [==============================] - 0s 239us/step - loss: 5.3827 - accuracy: 0.6510\n",
      "Epoch 71/100\n",
      "768/768 [==============================] - 0s 240us/step - loss: 5.3827 - accuracy: 0.6510\n",
      "Epoch 72/100\n",
      "768/768 [==============================] - 0s 244us/step - loss: 5.3827 - accuracy: 0.6510\n",
      "Epoch 73/100\n",
      "768/768 [==============================] - 0s 239us/step - loss: 5.3827 - accuracy: 0.6510\n",
      "Epoch 74/100\n",
      "768/768 [==============================] - 0s 244us/step - loss: 5.3827 - accuracy: 0.6510\n",
      "Epoch 75/100\n",
      "768/768 [==============================] - 0s 240us/step - loss: 5.3827 - accuracy: 0.6510\n",
      "Epoch 76/100\n",
      "768/768 [==============================] - 0s 231us/step - loss: 5.3827 - accuracy: 0.6510\n",
      "Epoch 77/100\n",
      "768/768 [==============================] - 0s 249us/step - loss: 5.3827 - accuracy: 0.6510\n",
      "Epoch 78/100\n",
      "768/768 [==============================] - 0s 230us/step - loss: 5.3827 - accuracy: 0.6510\n",
      "Epoch 79/100\n",
      "768/768 [==============================] - 0s 226us/step - loss: 5.3827 - accuracy: 0.6510\n",
      "Epoch 80/100\n",
      "768/768 [==============================] - 0s 231us/step - loss: 5.3827 - accuracy: 0.6510\n"
     ]
    },
    {
     "name": "stdout",
     "output_type": "stream",
     "text": [
      "Epoch 81/100\n",
      "768/768 [==============================] - 0s 243us/step - loss: 5.3827 - accuracy: 0.6510\n",
      "Epoch 82/100\n",
      "768/768 [==============================] - 0s 236us/step - loss: 5.3827 - accuracy: 0.6510\n",
      "Epoch 83/100\n",
      "768/768 [==============================] - 0s 256us/step - loss: 5.3827 - accuracy: 0.6510\n",
      "Epoch 84/100\n",
      "768/768 [==============================] - 0s 227us/step - loss: 5.3827 - accuracy: 0.6510\n",
      "Epoch 85/100\n",
      "768/768 [==============================] - 0s 226us/step - loss: 5.3827 - accuracy: 0.6510\n",
      "Epoch 86/100\n",
      "768/768 [==============================] - 0s 236us/step - loss: 5.3827 - accuracy: 0.6510\n",
      "Epoch 87/100\n",
      "768/768 [==============================] - 0s 256us/step - loss: 5.3827 - accuracy: 0.6510\n",
      "Epoch 88/100\n",
      "768/768 [==============================] - 0s 242us/step - loss: 5.3827 - accuracy: 0.6510\n",
      "Epoch 89/100\n",
      "768/768 [==============================] - 0s 227us/step - loss: 5.3827 - accuracy: 0.6510\n",
      "Epoch 90/100\n",
      "768/768 [==============================] - 0s 226us/step - loss: 5.3827 - accuracy: 0.6510\n",
      "Epoch 91/100\n",
      "768/768 [==============================] - 0s 231us/step - loss: 5.3827 - accuracy: 0.6510\n",
      "Epoch 92/100\n",
      "768/768 [==============================] - 0s 243us/step - loss: 5.3827 - accuracy: 0.6510\n",
      "Epoch 93/100\n",
      "768/768 [==============================] - 0s 236us/step - loss: 5.3827 - accuracy: 0.6510\n",
      "Epoch 94/100\n",
      "768/768 [==============================] - 0s 239us/step - loss: 5.3827 - accuracy: 0.6510\n",
      "Epoch 95/100\n",
      "768/768 [==============================] - 0s 229us/step - loss: 5.3827 - accuracy: 0.6510\n",
      "Epoch 96/100\n",
      "768/768 [==============================] - ETA: 0s - loss: 5.4530 - accuracy: 0.64 - 0s 226us/step - loss: 5.3827 - accuracy: 0.6510\n",
      "Epoch 97/100\n",
      "768/768 [==============================] - 0s 227us/step - loss: 5.3827 - accuracy: 0.6510\n",
      "Epoch 98/100\n",
      "768/768 [==============================] - 0s 235us/step - loss: 5.3827 - accuracy: 0.6510\n",
      "Epoch 99/100\n",
      "768/768 [==============================] - 0s 243us/step - loss: 5.3827 - accuracy: 0.6510\n",
      "Epoch 100/100\n",
      "768/768 [==============================] - 0s 249us/step - loss: 5.3827 - accuracy: 0.6510\n",
      "Best: 0.673177 using {'dropout_rate': 0.3, 'init_mode': 'uniform', 'optimizer': 'softmax'}\n",
      "0.661458 (0.044690) with: {'dropout_rate': 0.1, 'init_mode': 'uniform', 'optimizer': 'softmax'}\n",
      "0.009115 (0.012890) with: {'dropout_rate': 0.1, 'init_mode': 'uniform', 'optimizer': 'relu'}\n",
      "0.653646 (0.025976) with: {'dropout_rate': 0.1, 'init_mode': 'lecun_uniform', 'optimizer': 'softmax'}\n",
      "0.003906 (0.005524) with: {'dropout_rate': 0.1, 'init_mode': 'lecun_uniform', 'optimizer': 'relu'}\n",
      "0.669271 (0.012890) with: {'dropout_rate': 0.2, 'init_mode': 'uniform', 'optimizer': 'softmax'}\n",
      "0.006510 (0.009207) with: {'dropout_rate': 0.2, 'init_mode': 'uniform', 'optimizer': 'relu'}\n",
      "0.644531 (0.016877) with: {'dropout_rate': 0.2, 'init_mode': 'lecun_uniform', 'optimizer': 'softmax'}\n",
      "0.001302 (0.001841) with: {'dropout_rate': 0.2, 'init_mode': 'lecun_uniform', 'optimizer': 'relu'}\n",
      "0.673177 (0.012890) with: {'dropout_rate': 0.3, 'init_mode': 'uniform', 'optimizer': 'softmax'}\n",
      "0.182292 (0.241311) with: {'dropout_rate': 0.3, 'init_mode': 'uniform', 'optimizer': 'relu'}\n",
      "0.574219 (0.097734) with: {'dropout_rate': 0.3, 'init_mode': 'lecun_uniform', 'optimizer': 'softmax'}\n",
      "0.000000 (0.000000) with: {'dropout_rate': 0.3, 'init_mode': 'lecun_uniform', 'optimizer': 'relu'}\n"
     ]
    }
   ],
   "source": [
    "# Use scikit-learn to grid search the weight initialization\n",
    "import numpy\n",
    "from sklearn.model_selection import GridSearchCV\n",
    "from keras.models import Sequential\n",
    "from keras.layers import Dense, Dropout\n",
    "from keras.wrappers.scikit_learn import KerasClassifier\n",
    "from keras.callbacks import EarlyStopping\n",
    "stopper = EarlyStopping(monitor='var_accuracy', patience=3, verbose=1)\n",
    "# Function to create model, required for KerasClassifier\n",
    "def create_model(init_mode='uniform',optimizer='relu',dropout_rate=0.1):\n",
    "# create model\n",
    "    model = Sequential()\n",
    "    # \n",
    "    model.add(Dense(12, input_dim=8, kernel_initializer=init_mode, activation=optimizer))\n",
    "    model.add(Dropout(dropout_rate)) # 과적합 방지하기 위해서 (계산의 일부분을 생략하여)\n",
    "    model.add(Dense(1))\n",
    "    # Compile model\n",
    "    model.compile(loss='binary_crossentropy', optimizer='adam', metrics=['accuracy'])\n",
    "    return model\n",
    "# fix random seed for reproducibility\n",
    "seed = 7\n",
    "numpy.random.seed(seed)\n",
    "# load dataset\n",
    "dataset = numpy.loadtxt(\"pima.csv\", delimiter=\",\")\n",
    "# split into input (X) and output (Y) variables\n",
    "X = dataset[:,0:8]\n",
    "Y = dataset[:,8]\n",
    "# create model\n",
    "# Earlystopping\n",
    "model = KerasClassifier(build_fn=create_model, epochs=100, batch_size=10, verbose=1)\n",
    "# define the grid search parameters\n",
    "dropout_rate=[0.1,0.2,0.3] # ,0.4,0.5,0.6,0.7,0.8,0.9\n",
    "init_mode = ['uniform', 'lecun_uniform']# ,'normal','zero','glorot_normal','glorot_uniform','he_normal','he_uniform'\n",
    "optimizer = ['softmax','relu'] #, 'softplus', 'softsign','tanh','sigmoid','hard_sigmoid','linear'\n",
    "param_grid = dict(init_mode=init_mode,optimizer=optimizer,dropout_rate=dropout_rate)\n",
    "fit_params = dict(callbacks=[stopper])\n",
    "grid = GridSearchCV(estimator=model, param_grid=param_grid, n_jobs=-1, cv=3)\n",
    "# 변동 매개변수\n",
    "grid_result = grid.fit(X, Y, **fit_params)\n",
    "# summarize results\n",
    "print(\"Best: %f using %s\" % (grid_result.best_score_, grid_result.best_params_))\n",
    "means = grid_result.cv_results_['mean_test_score']\n",
    "stds = grid_result.cv_results_['std_test_score']\n",
    "params = grid_result.cv_results_['params']\n",
    "for mean, stdev, param in zip(means, stds, params):\n",
    "    print(\"%f (%f) with: %r\" % (mean, stdev, param))"
   ]
  },
  {
   "cell_type": "code",
   "execution_count": 2,
   "metadata": {},
   "outputs": [],
   "source": [
    "from keras.wrappers.scikit_learn import KerasRegressor\n",
    "from sklearn.model_selection import cross_val_score\n",
    "from sklearn.model_selection import KFold\n",
    "from sklearn.preprocessing import StandardScaler\n",
    "from sklearn.pipeline import Pipeline\n",
    "import pandas"
   ]
  },
  {
   "cell_type": "markdown",
   "metadata": {},
   "source": [
    "# 회귀방법"
   ]
  },
  {
   "cell_type": "code",
   "execution_count": 9,
   "metadata": {},
   "outputs": [],
   "source": [
    "dataframe = pandas.read_csv('housing.csv', delim_whitespace=True, header=None)\n",
    "\n",
    "dataset = dataframe.values\n",
    "X = dataset[:,0:13]\n",
    "Y = dataset[:, 13] # reshape"
   ]
  },
  {
   "cell_type": "code",
   "execution_count": 10,
   "metadata": {},
   "outputs": [],
   "source": [
    "def baseline_model():\n",
    "    model = Sequential()\n",
    "    # shape 506x13 13x13 506x13\n",
    "    model.add(Dense(13, input_dim = 13, kernel_initializer='normal', activation='relu'))\n",
    "    # 506x13 13x1 506x1\n",
    "    model.add(Dense(1, kernel_initializer='normal'))\n",
    "    model.compile(loss='mean_squared_error', optimizer='adam')\n",
    "    return model"
   ]
  },
  {
   "cell_type": "code",
   "execution_count": 64,
   "metadata": {},
   "outputs": [],
   "source": [
    "# deep 해짐\n",
    "def larger_model():\n",
    "    model = Sequential()\n",
    "    model.add(Dense(13, input_dim=13, kernel_initializer='normal',activation='relu'))\n",
    "    model.add(Dense(6, kernel_initializer='normal', activation='relu'))\n",
    "    model.add(Dense(1,kernel_initializer='normal'))\n",
    "    model.compile(loss='mean_squared_error', optimizer='adam')\n",
    "    return model"
   ]
  },
  {
   "cell_type": "code",
   "execution_count": null,
   "metadata": {},
   "outputs": [],
   "source": [
    "def wider_model():\n",
    "    model = Sequential()\n",
    "    model.add(Dense(20, input_dim = 13, kernel_initializer='normal', activation='relu'))\n",
    "    model.add(Dense(1, kernel_initializer='normal'))\n",
    "    model.compile(loss='mean_squared_error', optimizer='adam')\n",
    "    return model"
   ]
  },
  {
   "cell_type": "code",
   "execution_count": 11,
   "metadata": {},
   "outputs": [],
   "source": [
    "import numpy\n",
    "seed = 7\n",
    "numpy.random.seed(seed)\n",
    "estimator = KerasRegressor(build_fn = baseline_model, nb_epoch=100, batch_size = 5, verbose=0)"
   ]
  },
  {
   "cell_type": "code",
   "execution_count": 12,
   "metadata": {},
   "outputs": [
    {
     "name": "stdout",
     "output_type": "stream",
     "text": [
      "Results: -114.56 (82.69) MSE\n"
     ]
    }
   ],
   "source": [
    "# 10중에 한개는 validation\n",
    "kfold = KFold(n_splits = 10, random_state=seed)\n",
    "results = cross_val_score(estimator, X, Y, cv = kfold)\n",
    "print(\"Results: %.2f (%.2f) MSE\" % (results.mean(),results.std()))"
   ]
  },
  {
   "cell_type": "code",
   "execution_count": null,
   "metadata": {},
   "outputs": [],
   "source": [
    "results"
   ]
  },
  {
   "cell_type": "code",
   "execution_count": 62,
   "metadata": {},
   "outputs": [
    {
     "name": "stdout",
     "output_type": "stream",
     "text": [
      "Standardized: -29.16 (27.51 MSE)\n"
     ]
    }
   ],
   "source": [
    "numpy.random.seed(seed)\n",
    "estimators = []\n",
    "estimators.append(('stanardize', StandardScaler()))\n",
    "estimators.append(('mip', KerasRegressor(build_fn=baseline_model, epochs = 50, batch_size=5, verbose=0)))\n",
    "pipeline = Pipeline(estimators) # train, test 데이터의 전처리를 한번에 할 수 있도록 도와줌\n",
    "kfold = KFold(n_splits = 10, random_state=seed)\n",
    "results = cross_val_score(pipeline, X, Y, cv = kfold)\n",
    "print(\"Standardized: %.2f (%.2f MSE)\" % (results.mean(), results.std()))"
   ]
  },
  {
   "cell_type": "code",
   "execution_count": 63,
   "metadata": {
    "scrolled": true
   },
   "outputs": [
    {
     "data": {
      "text/plain": [
       "Pipeline(memory=None,\n",
       "         steps=[('stanardize',\n",
       "                 StandardScaler(copy=True, with_mean=True, with_std=True)),\n",
       "                ('mip',\n",
       "                 <keras.wrappers.scikit_learn.KerasRegressor object at 0x000002311B5F74C8>)],\n",
       "         verbose=False)"
      ]
     },
     "execution_count": 63,
     "metadata": {},
     "output_type": "execute_result"
    }
   ],
   "source": [
    "pipeline.fit(X,Y)"
   ]
  },
  {
   "cell_type": "code",
   "execution_count": 65,
   "metadata": {},
   "outputs": [
    {
     "data": {
      "text/plain": [
       "29.819115"
      ]
     },
     "execution_count": 65,
     "metadata": {},
     "output_type": "execute_result"
    }
   ],
   "source": [
    "res = pipeline.predict(X)\n",
    "res[0]"
   ]
  },
  {
   "cell_type": "code",
   "execution_count": 73,
   "metadata": {},
   "outputs": [
    {
     "data": {
      "text/plain": [
       "array([[1.        , 0.91267175],\n",
       "       [0.91267175, 1.        ]])"
      ]
     },
     "execution_count": 73,
     "metadata": {},
     "output_type": "execute_result"
    }
   ],
   "source": [
    "import numpy as np\n",
    "np.corrcoef(res, Y)"
   ]
  },
  {
   "cell_type": "markdown",
   "metadata": {},
   "source": [
    "# 숙제 \n",
    "- iris.csv 데이터를 로딩한 다음\n",
    "- 분류망을 구성하시오.\n",
    "- parameter tuning을 구현하시오.(pipeline 사용도 함께)"
   ]
  }
 ],
 "metadata": {
  "kernelspec": {
   "display_name": "Python 3",
   "language": "python",
   "name": "python3"
  },
  "language_info": {
   "codemirror_mode": {
    "name": "ipython",
    "version": 3
   },
   "file_extension": ".py",
   "mimetype": "text/x-python",
   "name": "python",
   "nbconvert_exporter": "python",
   "pygments_lexer": "ipython3",
   "version": "3.7.6"
  },
  "toc": {
   "base_numbering": 1,
   "nav_menu": {},
   "number_sections": true,
   "sideBar": true,
   "skip_h1_title": false,
   "title_cell": "Table of Contents",
   "title_sidebar": "Contents",
   "toc_cell": false,
   "toc_position": {},
   "toc_section_display": true,
   "toc_window_display": false
  }
 },
 "nbformat": 4,
 "nbformat_minor": 4
}
